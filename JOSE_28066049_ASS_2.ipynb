{
 "cells": [
  {
   "cell_type": "markdown",
   "metadata": {},
   "source": [
    "# FIT 5149 Assessment 2\n",
    "\n",
    "#### Student Name: Mark Joseph Jose\n",
    "#### Student Number: 28066049\n",
    "\n",
    "Date:  19 September 2017 \n",
    " \n",
    "Version: 1\n",
    "\n",
    "Environment: R 3.3.2 and Jupyter notebook\n",
    "\n",
    "<p style = \"text-align:center\"> <h1> Predicting Wine Quality Using Logistic Regression</h1></p>\n",
    "\n",
    "## Introduction\n",
    "This assessment covers weeks 4 to 6, mainly about **Classification Models**, **Resampling Methods**, and **Linear Model Selection and Classification**. This includes parsing CSV files, performing exploratory data analysis, creating a logistic regression model, and improving that model via feature selection or regularization and cross-validation.\n",
    "\n",
    "**Exploratory Data Analysis** has been discussed and assessed in the previous assessment. However, it always pays to do it for every data analysis task, since the first step to modelling is always getting to know your data.\n",
    "\n",
    "**Logistic Regression** is a discriminative probabilistic model that directly computes the probability of a data belonging to a certain class by using the logistic function whose output is always between 0 to 1.\n",
    "\n",
    "**K-fold Cross Validation** is a common way to test a model's performance by dividing the data set into k folds, where the kth fold is used for testing and the remaining k-1 folds are used for training, repeated k times until every fold has been used for testing and training. \n",
    "\n",
    "**Feature Selection** is a way of improving the model by removing irrelevant features to the model either by *forward stepwise selection*, *backward stepwise selection*, or a stepwise selection involving both forward and backward. In this assessment, only forward stepwise selection is used. The details of forward stepwise selection will be discussed the next sections.\n",
    "\n",
    "**Regularization** is another way to improve the model. It is mainly used to reduce overfitting by adding a penalty term. The type of regularization depends on the penalty term added. This assessment will use two types of regularization, *lasso* and *ridge* regularization. \n",
    "\n",
    "The **data used** is a CSV file that describes wine quality (good versus bad) based on several factors. The data will be further described in the following exploratory data analysis. Logistic regression will be used to predict wine quality from the set of features.\n",
    "\n",
    "## Contents\n",
    "1. Importing the Data\n",
    "2. Exploratory Data Analysis\n",
    "    <br/>2.1 Enumerating variables and determining variable type\n",
    "    <br/>2.2 Finding statistics per variable (to determine the distribution of values)\n",
    "    <br/>2.3 Performing pictorial representations per variable\n",
    "    <br/>2.4 Determining outliers and other possible issues\n",
    "    <br/>2.5 Determining any association between variables\n",
    "3. Logistic Regression\n",
    "4. Stepwise Logistic Regression / Feature Selection\n",
    "    <br/>4.1 Forward Stepwise Selection based on Model AUC\n",
    "    <br/>4.2 Forward Stepwise Selection based on Model Accuracy\n",
    "    <br/>4.3 Forward Stepwise Selection based on Model AIC\n",
    "    <br/>4.4 Analysis of Stepwise Logistic Regression Models\n",
    "5. Regularized Logistic Regression\n",
    "    <br/>5.1 Logistic Regression with Ridge (L2) Regularization\n",
    "    <br/>5.2 Logistic Regression with LASSO (L1) Regularization\n",
    "6. Comparison Between Feature Selection and Regularization\n",
    "7. Conclusion"
   ]
  },
  {
   "cell_type": "code",
   "execution_count": 1,
   "metadata": {
    "collapsed": false
   },
   "outputs": [
    {
     "data": {
      "text/plain": [
       "R version 3.3.2 (2016-10-31)\n",
       "Platform: x86_64-w64-mingw32/x64 (64-bit)\n",
       "Running under: Windows 10 x64 (build 15063)\n",
       "\n",
       "locale:\n",
       "[1] LC_COLLATE=English_Australia.1252  LC_CTYPE=English_Australia.1252   \n",
       "[3] LC_MONETARY=English_Australia.1252 LC_NUMERIC=C                      \n",
       "[5] LC_TIME=English_Australia.1252    \n",
       "\n",
       "attached base packages:\n",
       "[1] stats     graphics  grDevices utils     datasets  methods   base     \n",
       "\n",
       "loaded via a namespace (and not attached):\n",
       " [1] R6_2.2.2            magrittr_1.5        IRdisplay_0.4.4    \n",
       " [4] pbdZMQ_0.2-6        tools_3.3.2         crayon_1.3.2       \n",
       " [7] uuid_0.1-2          stringi_1.1.5       IRkernel_0.8.7.9000\n",
       "[10] jsonlite_1.5        stringr_1.2.0       digest_0.6.12      \n",
       "[13] repr_0.12.0         evaluate_0.10.1    "
      ]
     },
     "metadata": {},
     "output_type": "display_data"
    }
   ],
   "source": [
    "# information about the R kernel and machine used\n",
    "sessionInfo()"
   ]
  },
  {
   "cell_type": "code",
   "execution_count": 1,
   "metadata": {
    "collapsed": false
   },
   "outputs": [
    {
     "name": "stderr",
     "output_type": "stream",
     "text": [
      "Warning message:\n",
      "\"package 'reshape2' was built under R version 3.3.3\"Warning message:\n",
      "\"package 'glmnet' was built under R version 3.3.3\"Loading required package: Matrix\n",
      "Warning message:\n",
      "\"package 'Matrix' was built under R version 3.3.3\"Loading required package: foreach\n",
      "Warning message:\n",
      "\"package 'foreach' was built under R version 3.3.3\"Loaded glmnet 2.0-10\n",
      "\n",
      "Warning message:\n",
      "\"package 'caret' was built under R version 3.3.3\"Loading required package: lattice\n",
      "Warning message:\n",
      "\"package 'lattice' was built under R version 3.3.3\"Loading required package: ggplot2\n",
      "Warning message:\n",
      "\"package 'ggplot2' was built under R version 3.3.3\"Warning message:\n",
      "\"package 'pROC' was built under R version 3.3.3\"Type 'citation(\"pROC\")' for a citation.\n",
      "\n",
      "Attaching package: 'pROC'\n",
      "\n",
      "The following object is masked from 'package:glmnet':\n",
      "\n",
      "    auc\n",
      "\n",
      "The following objects are masked from 'package:stats':\n",
      "\n",
      "    cov, smooth, var\n",
      "\n",
      "Warning message:\n",
      "\"package 'gridExtra' was built under R version 3.3.3\"Warning message:\n",
      "\"package 'car' was built under R version 3.3.3\""
     ]
    }
   ],
   "source": [
    "# import libraries\n",
    "library(lattice)\n",
    "library(glmnet) # for building the logistic regression model\n",
    "library(caret) # for the confusion matrix\n",
    "library(pROC) # for getting the auc score\n",
    "library(gridExtra) # for arranging plots\n",
    "library(grid)\n",
    "library(reshape2) # for using melt()\n",
    "library(moments) # for computing skewness and kurtosis\n",
    "library(car) # for scatterplotMatrix()"
   ]
  },
  {
   "cell_type": "markdown",
   "metadata": {},
   "source": [
    "## 1. Importing the data\n",
    "\n",
    "This part comprises the following tasks:\n",
    "1. Reading that 'training.csv' CSV file into R\n",
    "2. Converting the 'training.csv' CSV file into a dataframe\n",
    "3. Initial Exploration of the data\n",
    "\n",
    "### 1.1 Data Description\n",
    "\n",
    "The data includes several records of wine properties and their resulting quality. It includes the following information:\n",
    "\n",
    "\n",
    "1. **fixed acidity** - the level of fixed acidity in the wine, which contributes to the wine's sourness or tartness\n",
    "2. **volatile acidity**\t- the level of acetic acid (wine spoilage) in the wine\n",
    "3. **citric acid**\t- acid commonly found in citrus fruits that adds flavors to the wine\n",
    "4. **residual sugar**\t- the sweet taste coming from the wine\n",
    "5. **chlorides**\t- the salt contained in the wine\n",
    "6. **free sulfur dioxide**\t- prevents microbial growth and oxidation in the wine\n",
    "7. **total sulfur dioxide**\t- total sulfur dioxide found in the wine\n",
    "8. **density**\t- the density of the wine\n",
    "9. **pH** - describes the level of acidity in the wine\n",
    "10. **sulphates** - chemical used as preservative\n",
    "11. **alcohol**\t- the alcohol content of the wine\n",
    "12. **quality** - the overall rating of the wine's quality (good or bad)\n",
    "\n",
    "### 1.2 Data Import\n",
    "To import the data, I used R's `read.csv()` function. This function allows CSV (comma-separated values) files to be imported into R where it is automatically converted into a dataframe."
   ]
  },
  {
   "cell_type": "code",
   "execution_count": 3,
   "metadata": {
    "collapsed": false
   },
   "outputs": [],
   "source": [
    "training.file <- read.csv('Wine_training_dataset_2017.csv')\n",
    "testing.file <- read.csv('Wine_testing_dataset_2017.csv')"
   ]
  },
  {
   "cell_type": "code",
   "execution_count": 4,
   "metadata": {
    "collapsed": false
   },
   "outputs": [
    {
     "data": {
      "text/html": [
       "<table>\n",
       "<thead><tr><th scope=col>fixed.acidity</th><th scope=col>volatile.acidity</th><th scope=col>citric.acid</th><th scope=col>residual.sugar</th><th scope=col>chlorides</th><th scope=col>free.sulfur.dioxide</th><th scope=col>total.sulfur.dioxide</th><th scope=col>density</th><th scope=col>pH</th><th scope=col>sulphates</th><th scope=col>alcohol</th><th scope=col>quality</th></tr></thead>\n",
       "<tbody>\n",
       "\t<tr><td>7.0   </td><td>0.27  </td><td>0.36  </td><td>20.70 </td><td>0.045 </td><td>45    </td><td>170   </td><td>1.0010</td><td>3.00  </td><td>0.45  </td><td> 8.8  </td><td>good  </td></tr>\n",
       "\t<tr><td>6.3   </td><td>0.30  </td><td>0.34  </td><td> 1.60 </td><td>0.049 </td><td>14    </td><td>132   </td><td>0.9940</td><td>3.30  </td><td>0.49  </td><td> 9.5  </td><td>good  </td></tr>\n",
       "\t<tr><td>7.2   </td><td>0.23  </td><td>0.32  </td><td> 8.50 </td><td>0.058 </td><td>47    </td><td>186   </td><td>0.9956</td><td>3.19  </td><td>0.40  </td><td> 9.9  </td><td>good  </td></tr>\n",
       "\t<tr><td>8.1   </td><td>0.28  </td><td>0.40  </td><td> 6.90 </td><td>0.050 </td><td>30    </td><td> 97   </td><td>0.9951</td><td>3.26  </td><td>0.44  </td><td>10.1  </td><td>good  </td></tr>\n",
       "\t<tr><td>6.2   </td><td>0.32  </td><td>0.16  </td><td> 7.00 </td><td>0.045 </td><td>30    </td><td>136   </td><td>0.9949</td><td>3.18  </td><td>0.47  </td><td> 9.6  </td><td>good  </td></tr>\n",
       "\t<tr><td>8.1   </td><td>0.27  </td><td>0.41  </td><td> 1.45 </td><td>0.033 </td><td>11    </td><td> 63   </td><td>0.9908</td><td>2.99  </td><td>0.56  </td><td>12.0  </td><td>bad   </td></tr>\n",
       "</tbody>\n",
       "</table>\n"
      ],
      "text/latex": [
       "\\begin{tabular}{r|llllllllllll}\n",
       " fixed.acidity & volatile.acidity & citric.acid & residual.sugar & chlorides & free.sulfur.dioxide & total.sulfur.dioxide & density & pH & sulphates & alcohol & quality\\\\\n",
       "\\hline\n",
       "\t 7.0    & 0.27   & 0.36   & 20.70  & 0.045  & 45     & 170    & 1.0010 & 3.00   & 0.45   &  8.8   & good  \\\\\n",
       "\t 6.3    & 0.30   & 0.34   &  1.60  & 0.049  & 14     & 132    & 0.9940 & 3.30   & 0.49   &  9.5   & good  \\\\\n",
       "\t 7.2    & 0.23   & 0.32   &  8.50  & 0.058  & 47     & 186    & 0.9956 & 3.19   & 0.40   &  9.9   & good  \\\\\n",
       "\t 8.1    & 0.28   & 0.40   &  6.90  & 0.050  & 30     &  97    & 0.9951 & 3.26   & 0.44   & 10.1   & good  \\\\\n",
       "\t 6.2    & 0.32   & 0.16   &  7.00  & 0.045  & 30     & 136    & 0.9949 & 3.18   & 0.47   &  9.6   & good  \\\\\n",
       "\t 8.1    & 0.27   & 0.41   &  1.45  & 0.033  & 11     &  63    & 0.9908 & 2.99   & 0.56   & 12.0   & bad   \\\\\n",
       "\\end{tabular}\n"
      ],
      "text/markdown": [
       "\n",
       "fixed.acidity | volatile.acidity | citric.acid | residual.sugar | chlorides | free.sulfur.dioxide | total.sulfur.dioxide | density | pH | sulphates | alcohol | quality | \n",
       "|---|---|---|---|---|---|\n",
       "| 7.0    | 0.27   | 0.36   | 20.70  | 0.045  | 45     | 170    | 1.0010 | 3.00   | 0.45   |  8.8   | good   | \n",
       "| 6.3    | 0.30   | 0.34   |  1.60  | 0.049  | 14     | 132    | 0.9940 | 3.30   | 0.49   |  9.5   | good   | \n",
       "| 7.2    | 0.23   | 0.32   |  8.50  | 0.058  | 47     | 186    | 0.9956 | 3.19   | 0.40   |  9.9   | good   | \n",
       "| 8.1    | 0.28   | 0.40   |  6.90  | 0.050  | 30     |  97    | 0.9951 | 3.26   | 0.44   | 10.1   | good   | \n",
       "| 6.2    | 0.32   | 0.16   |  7.00  | 0.045  | 30     | 136    | 0.9949 | 3.18   | 0.47   |  9.6   | good   | \n",
       "| 8.1    | 0.27   | 0.41   |  1.45  | 0.033  | 11     |  63    | 0.9908 | 2.99   | 0.56   | 12.0   | bad    | \n",
       "\n",
       "\n"
      ],
      "text/plain": [
       "  fixed.acidity volatile.acidity citric.acid residual.sugar chlorides\n",
       "1 7.0           0.27             0.36        20.70          0.045    \n",
       "2 6.3           0.30             0.34         1.60          0.049    \n",
       "3 7.2           0.23             0.32         8.50          0.058    \n",
       "4 8.1           0.28             0.40         6.90          0.050    \n",
       "5 6.2           0.32             0.16         7.00          0.045    \n",
       "6 8.1           0.27             0.41         1.45          0.033    \n",
       "  free.sulfur.dioxide total.sulfur.dioxide density pH   sulphates alcohol\n",
       "1 45                  170                  1.0010  3.00 0.45       8.8   \n",
       "2 14                  132                  0.9940  3.30 0.49       9.5   \n",
       "3 47                  186                  0.9956  3.19 0.40       9.9   \n",
       "4 30                   97                  0.9951  3.26 0.44      10.1   \n",
       "5 30                  136                  0.9949  3.18 0.47       9.6   \n",
       "6 11                   63                  0.9908  2.99 0.56      12.0   \n",
       "  quality\n",
       "1 good   \n",
       "2 good   \n",
       "3 good   \n",
       "4 good   \n",
       "5 good   \n",
       "6 bad    "
      ]
     },
     "metadata": {},
     "output_type": "display_data"
    },
    {
     "data": {
      "text/html": [
       "<table>\n",
       "<thead><tr><th scope=col>fixed.acidity</th><th scope=col>volatile.acidity</th><th scope=col>citric.acid</th><th scope=col>residual.sugar</th><th scope=col>chlorides</th><th scope=col>free.sulfur.dioxide</th><th scope=col>total.sulfur.dioxide</th><th scope=col>density</th><th scope=col>pH</th><th scope=col>sulphates</th><th scope=col>alcohol</th><th scope=col>quality</th></tr></thead>\n",
       "<tbody>\n",
       "\t<tr><td>4.9      </td><td>0.235    </td><td>0.27     </td><td>11.75    </td><td>0.030    </td><td>34       </td><td>118      </td><td>0.99540  </td><td>3.07     </td><td>0.50     </td><td> 9.400000</td><td>good     </td></tr>\n",
       "\t<tr><td>6.0      </td><td>0.410    </td><td>0.23     </td><td> 1.10    </td><td>0.066    </td><td>22       </td><td>148      </td><td>0.99266  </td><td>3.30     </td><td>0.47     </td><td> 9.633333</td><td>bad      </td></tr>\n",
       "\t<tr><td>6.4      </td><td>0.350    </td><td>0.51     </td><td> 7.80    </td><td>0.055    </td><td>53       </td><td>177      </td><td>0.99502  </td><td>3.12     </td><td>0.45     </td><td> 9.600000</td><td>bad      </td></tr>\n",
       "\t<tr><td>5.2      </td><td>0.405    </td><td>0.15     </td><td> 1.45    </td><td>0.038    </td><td>10       </td><td> 44      </td><td>0.99125  </td><td>3.52     </td><td>0.40     </td><td>11.600000</td><td>bad      </td></tr>\n",
       "\t<tr><td>5.8      </td><td>0.290    </td><td>0.27     </td><td> 1.60    </td><td>0.062    </td><td>17       </td><td>140      </td><td>0.99138  </td><td>3.23     </td><td>0.35     </td><td>11.100000</td><td>good     </td></tr>\n",
       "\t<tr><td>7.3      </td><td>0.350    </td><td>0.67     </td><td> 8.30    </td><td>0.053    </td><td>10       </td><td>100      </td><td>0.99590  </td><td>3.19     </td><td>0.50     </td><td>10.900000</td><td>bad      </td></tr>\n",
       "</tbody>\n",
       "</table>\n"
      ],
      "text/latex": [
       "\\begin{tabular}{r|llllllllllll}\n",
       " fixed.acidity & volatile.acidity & citric.acid & residual.sugar & chlorides & free.sulfur.dioxide & total.sulfur.dioxide & density & pH & sulphates & alcohol & quality\\\\\n",
       "\\hline\n",
       "\t 4.9       & 0.235     & 0.27      & 11.75     & 0.030     & 34        & 118       & 0.99540   & 3.07      & 0.50      &  9.400000 & good     \\\\\n",
       "\t 6.0       & 0.410     & 0.23      &  1.10     & 0.066     & 22        & 148       & 0.99266   & 3.30      & 0.47      &  9.633333 & bad      \\\\\n",
       "\t 6.4       & 0.350     & 0.51      &  7.80     & 0.055     & 53        & 177       & 0.99502   & 3.12      & 0.45      &  9.600000 & bad      \\\\\n",
       "\t 5.2       & 0.405     & 0.15      &  1.45     & 0.038     & 10        &  44       & 0.99125   & 3.52      & 0.40      & 11.600000 & bad      \\\\\n",
       "\t 5.8       & 0.290     & 0.27      &  1.60     & 0.062     & 17        & 140       & 0.99138   & 3.23      & 0.35      & 11.100000 & good     \\\\\n",
       "\t 7.3       & 0.350     & 0.67      &  8.30     & 0.053     & 10        & 100       & 0.99590   & 3.19      & 0.50      & 10.900000 & bad      \\\\\n",
       "\\end{tabular}\n"
      ],
      "text/markdown": [
       "\n",
       "fixed.acidity | volatile.acidity | citric.acid | residual.sugar | chlorides | free.sulfur.dioxide | total.sulfur.dioxide | density | pH | sulphates | alcohol | quality | \n",
       "|---|---|---|---|---|---|\n",
       "| 4.9       | 0.235     | 0.27      | 11.75     | 0.030     | 34        | 118       | 0.99540   | 3.07      | 0.50      |  9.400000 | good      | \n",
       "| 6.0       | 0.410     | 0.23      |  1.10     | 0.066     | 22        | 148       | 0.99266   | 3.30      | 0.47      |  9.633333 | bad       | \n",
       "| 6.4       | 0.350     | 0.51      |  7.80     | 0.055     | 53        | 177       | 0.99502   | 3.12      | 0.45      |  9.600000 | bad       | \n",
       "| 5.2       | 0.405     | 0.15      |  1.45     | 0.038     | 10        |  44       | 0.99125   | 3.52      | 0.40      | 11.600000 | bad       | \n",
       "| 5.8       | 0.290     | 0.27      |  1.60     | 0.062     | 17        | 140       | 0.99138   | 3.23      | 0.35      | 11.100000 | good      | \n",
       "| 7.3       | 0.350     | 0.67      |  8.30     | 0.053     | 10        | 100       | 0.99590   | 3.19      | 0.50      | 10.900000 | bad       | \n",
       "\n",
       "\n"
      ],
      "text/plain": [
       "  fixed.acidity volatile.acidity citric.acid residual.sugar chlorides\n",
       "1 4.9           0.235            0.27        11.75          0.030    \n",
       "2 6.0           0.410            0.23         1.10          0.066    \n",
       "3 6.4           0.350            0.51         7.80          0.055    \n",
       "4 5.2           0.405            0.15         1.45          0.038    \n",
       "5 5.8           0.290            0.27         1.60          0.062    \n",
       "6 7.3           0.350            0.67         8.30          0.053    \n",
       "  free.sulfur.dioxide total.sulfur.dioxide density pH   sulphates alcohol  \n",
       "1 34                  118                  0.99540 3.07 0.50       9.400000\n",
       "2 22                  148                  0.99266 3.30 0.47       9.633333\n",
       "3 53                  177                  0.99502 3.12 0.45       9.600000\n",
       "4 10                   44                  0.99125 3.52 0.40      11.600000\n",
       "5 17                  140                  0.99138 3.23 0.35      11.100000\n",
       "6 10                  100                  0.99590 3.19 0.50      10.900000\n",
       "  quality\n",
       "1 good   \n",
       "2 bad    \n",
       "3 bad    \n",
       "4 bad    \n",
       "5 good   \n",
       "6 bad    "
      ]
     },
     "metadata": {},
     "output_type": "display_data"
    }
   ],
   "source": [
    "head(training.file)\n",
    "head(testing.file)"
   ]
  },
  {
   "cell_type": "markdown",
   "metadata": {},
   "source": [
    "### 1.3 Data scaling\n",
    "\n",
    "Data normalization or standardization is a way to level the values of the features into the same range. The method used to scale the data is Z-Score Normalization. **Z-Score Normalization** is used to transform all means of the variables to 0 and all standard deviation to 1. This helps remove distortions that stem from the variables having different means and standard deviations without having to remove the outliers. \n",
    "\n",
    "Given a dataset x, the standard equation for Z-Score Normalization is:\n",
    "\n",
    "**<center>z<sub>i</sub> = (x<sub>i</sub> - mean(x))/(std(x))</center>**\n",
    "\n",
    "Values above the mean will have positive values, while values below the mean will have negative values. The overall shape of a distribution will not change after normalization. "
   ]
  },
  {
   "cell_type": "code",
   "execution_count": 5,
   "metadata": {
    "collapsed": false
   },
   "outputs": [],
   "source": [
    "# scale the dataset\n",
    "col.scale <- function(x){return(scale(x))}\n",
    "training.data <- as.data.frame(apply(training.file[-12], 2, col.scale))\n",
    "training.data['quality'] <- training.file['quality']\n",
    "testing.data <- as.data.frame(apply(testing.file[-12], 2, col.scale))\n",
    "testing.data['quality'] <- testing.file['quality']"
   ]
  },
  {
   "cell_type": "code",
   "execution_count": 6,
   "metadata": {
    "collapsed": false
   },
   "outputs": [
    {
     "data": {
      "text/html": [
       "<table>\n",
       "<thead><tr><th scope=col>fixed.acidity</th><th scope=col>volatile.acidity</th><th scope=col>citric.acid</th><th scope=col>residual.sugar</th><th scope=col>chlorides</th><th scope=col>free.sulfur.dioxide</th><th scope=col>total.sulfur.dioxide</th><th scope=col>density</th><th scope=col>pH</th><th scope=col>sulphates</th><th scope=col>alcohol</th><th scope=col>quality</th></tr></thead>\n",
       "<tbody>\n",
       "\t<tr><td> 0.1704940  </td><td>-0.099570087</td><td> 0.19699543 </td><td> 2.9769112  </td><td>-0.04475398 </td><td> 0.5793011  </td><td> 0.75533126 </td><td> 2.4300646  </td><td>-1.28556670 </td><td>-0.355549369</td><td>-1.4577697  </td><td>good        </td></tr>\n",
       "\t<tr><td>-0.6375330  </td><td> 0.190096370</td><td> 0.03488589 </td><td>-0.8991602  </td><td> 0.12769591 </td><td>-1.2259628  </td><td>-0.13220067 </td><td> 0.0517580  </td><td> 0.69447059 </td><td>-0.003352468</td><td>-0.8835977  </td><td>good        </td></tr>\n",
       "\t<tr><td> 0.4013589  </td><td>-0.485792030</td><td>-0.12722364 </td><td> 0.5010960  </td><td> 0.51570816 </td><td> 0.6957697  </td><td> 1.12902891 </td><td> 0.5953709  </td><td>-0.03154309 </td><td>-0.795795494</td><td>-0.5554994  </td><td>good        </td></tr>\n",
       "\t<tr><td> 1.4402507  </td><td>-0.003014602</td><td> 0.52121450 </td><td> 0.1763989  </td><td> 0.17080839 </td><td>-0.2942137  </td><td>-0.94966428 </td><td> 0.4254919  </td><td> 0.43046561 </td><td>-0.443598594</td><td>-0.3914502  </td><td>good        </td></tr>\n",
       "\t<tr><td>-0.7529654  </td><td> 0.383207341</td><td>-1.42409994 </td><td> 0.1966925  </td><td>-0.04475398 </td><td>-0.2942137  </td><td>-0.03877625 </td><td> 0.3575403  </td><td>-0.09754433 </td><td>-0.179450918</td><td>-0.8015731  </td><td>good        </td></tr>\n",
       "\t<tr><td> 1.4402507  </td><td>-0.099570087</td><td> 0.60226927 </td><td>-0.9296005  </td><td>-0.56210365 </td><td>-1.4006657  </td><td>-1.74377180 </td><td>-1.0354679  </td><td>-1.35156794 </td><td> 0.612992107</td><td> 1.1670168  </td><td>bad         </td></tr>\n",
       "</tbody>\n",
       "</table>\n"
      ],
      "text/latex": [
       "\\begin{tabular}{r|llllllllllll}\n",
       " fixed.acidity & volatile.acidity & citric.acid & residual.sugar & chlorides & free.sulfur.dioxide & total.sulfur.dioxide & density & pH & sulphates & alcohol & quality\\\\\n",
       "\\hline\n",
       "\t  0.1704940   & -0.099570087 &  0.19699543  &  2.9769112   & -0.04475398  &  0.5793011   &  0.75533126  &  2.4300646   & -1.28556670  & -0.355549369 & -1.4577697   & good        \\\\\n",
       "\t -0.6375330   &  0.190096370 &  0.03488589  & -0.8991602   &  0.12769591  & -1.2259628   & -0.13220067  &  0.0517580   &  0.69447059  & -0.003352468 & -0.8835977   & good        \\\\\n",
       "\t  0.4013589   & -0.485792030 & -0.12722364  &  0.5010960   &  0.51570816  &  0.6957697   &  1.12902891  &  0.5953709   & -0.03154309  & -0.795795494 & -0.5554994   & good        \\\\\n",
       "\t  1.4402507   & -0.003014602 &  0.52121450  &  0.1763989   &  0.17080839  & -0.2942137   & -0.94966428  &  0.4254919   &  0.43046561  & -0.443598594 & -0.3914502   & good        \\\\\n",
       "\t -0.7529654   &  0.383207341 & -1.42409994  &  0.1966925   & -0.04475398  & -0.2942137   & -0.03877625  &  0.3575403   & -0.09754433  & -0.179450918 & -0.8015731   & good        \\\\\n",
       "\t  1.4402507   & -0.099570087 &  0.60226927  & -0.9296005   & -0.56210365  & -1.4006657   & -1.74377180  & -1.0354679   & -1.35156794  &  0.612992107 &  1.1670168   & bad         \\\\\n",
       "\\end{tabular}\n"
      ],
      "text/markdown": [
       "\n",
       "fixed.acidity | volatile.acidity | citric.acid | residual.sugar | chlorides | free.sulfur.dioxide | total.sulfur.dioxide | density | pH | sulphates | alcohol | quality | \n",
       "|---|---|---|---|---|---|\n",
       "|  0.1704940   | -0.099570087 |  0.19699543  |  2.9769112   | -0.04475398  |  0.5793011   |  0.75533126  |  2.4300646   | -1.28556670  | -0.355549369 | -1.4577697   | good         | \n",
       "| -0.6375330   |  0.190096370 |  0.03488589  | -0.8991602   |  0.12769591  | -1.2259628   | -0.13220067  |  0.0517580   |  0.69447059  | -0.003352468 | -0.8835977   | good         | \n",
       "|  0.4013589   | -0.485792030 | -0.12722364  |  0.5010960   |  0.51570816  |  0.6957697   |  1.12902891  |  0.5953709   | -0.03154309  | -0.795795494 | -0.5554994   | good         | \n",
       "|  1.4402507   | -0.003014602 |  0.52121450  |  0.1763989   |  0.17080839  | -0.2942137   | -0.94966428  |  0.4254919   |  0.43046561  | -0.443598594 | -0.3914502   | good         | \n",
       "| -0.7529654   |  0.383207341 | -1.42409994  |  0.1966925   | -0.04475398  | -0.2942137   | -0.03877625  |  0.3575403   | -0.09754433  | -0.179450918 | -0.8015731   | good         | \n",
       "|  1.4402507   | -0.099570087 |  0.60226927  | -0.9296005   | -0.56210365  | -1.4006657   | -1.74377180  | -1.0354679   | -1.35156794  |  0.612992107 |  1.1670168   | bad          | \n",
       "\n",
       "\n"
      ],
      "text/plain": [
       "  fixed.acidity volatile.acidity citric.acid residual.sugar chlorides  \n",
       "1  0.1704940    -0.099570087      0.19699543  2.9769112     -0.04475398\n",
       "2 -0.6375330     0.190096370      0.03488589 -0.8991602      0.12769591\n",
       "3  0.4013589    -0.485792030     -0.12722364  0.5010960      0.51570816\n",
       "4  1.4402507    -0.003014602      0.52121450  0.1763989      0.17080839\n",
       "5 -0.7529654     0.383207341     -1.42409994  0.1966925     -0.04475398\n",
       "6  1.4402507    -0.099570087      0.60226927 -0.9296005     -0.56210365\n",
       "  free.sulfur.dioxide total.sulfur.dioxide density    pH          sulphates   \n",
       "1  0.5793011           0.75533126           2.4300646 -1.28556670 -0.355549369\n",
       "2 -1.2259628          -0.13220067           0.0517580  0.69447059 -0.003352468\n",
       "3  0.6957697           1.12902891           0.5953709 -0.03154309 -0.795795494\n",
       "4 -0.2942137          -0.94966428           0.4254919  0.43046561 -0.443598594\n",
       "5 -0.2942137          -0.03877625           0.3575403 -0.09754433 -0.179450918\n",
       "6 -1.4006657          -1.74377180          -1.0354679 -1.35156794  0.612992107\n",
       "  alcohol    quality\n",
       "1 -1.4577697 good   \n",
       "2 -0.8835977 good   \n",
       "3 -0.5554994 good   \n",
       "4 -0.3914502 good   \n",
       "5 -0.8015731 good   \n",
       "6  1.1670168 bad    "
      ]
     },
     "metadata": {},
     "output_type": "display_data"
    }
   ],
   "source": [
    "head(training.data)"
   ]
  },
  {
   "cell_type": "markdown",
   "metadata": {},
   "source": [
    "## 2. Exploratory data analysis\n",
    "Although exploratory data analysis is not assessed for this assignment, it is always wise to perform it before doing any analysis. That way we could understand the data better.\n",
    "\n",
    "It comprises of the following tasks:\n",
    "\n",
    "<br/>2.1 Enumerating variables and determining variable type \n",
    "<br/>2.2 Finding statistics per variable (to determine the distribution of values) \n",
    "<br/>2.3 Determining the distributions of the variable\n",
    "<br/>2.4 Finding any relationships among variables\n",
    "\n",
    "\n",
    "### 2.1 Enumerating variables and determining variable type\n",
    "\n",
    "To get an initial overview of the resulting dataframe, check the following:\n",
    "- dimensions of the dataframe (how many rows of records? how many columns?)\n",
    "- the initial parsing of the data (what are the data types?)\n",
    "- are the data in the correct format?\n",
    "\n",
    "#### Dimensions of the Dataframe\n",
    "\n",
    "To check for the dimension, the function `dim()` is used. This function accepts a data frame and outputs the dimensions in *rows* x *columns*."
   ]
  },
  {
   "cell_type": "code",
   "execution_count": 7,
   "metadata": {
    "collapsed": false
   },
   "outputs": [
    {
     "name": "stdout",
     "output_type": "stream",
     "text": [
      "training set"
     ]
    },
    {
     "data": {
      "text/html": [
       "<ol class=list-inline>\n",
       "\t<li>3283</li>\n",
       "\t<li>12</li>\n",
       "</ol>\n"
      ],
      "text/latex": [
       "\\begin{enumerate*}\n",
       "\\item 3283\n",
       "\\item 12\n",
       "\\end{enumerate*}\n"
      ],
      "text/markdown": [
       "1. 3283\n",
       "2. 12\n",
       "\n",
       "\n"
      ],
      "text/plain": [
       "[1] 3283   12"
      ]
     },
     "metadata": {},
     "output_type": "display_data"
    },
    {
     "name": "stdout",
     "output_type": "stream",
     "text": [
      "test set"
     ]
    },
    {
     "data": {
      "text/html": [
       "<ol class=list-inline>\n",
       "\t<li>678</li>\n",
       "\t<li>12</li>\n",
       "</ol>\n"
      ],
      "text/latex": [
       "\\begin{enumerate*}\n",
       "\\item 678\n",
       "\\item 12\n",
       "\\end{enumerate*}\n"
      ],
      "text/markdown": [
       "1. 678\n",
       "2. 12\n",
       "\n",
       "\n"
      ],
      "text/plain": [
       "[1] 678  12"
      ]
     },
     "metadata": {},
     "output_type": "display_data"
    }
   ],
   "source": [
    "cat(\"training set\")\n",
    "dim(training.data)\n",
    "cat(\"test set\")\n",
    "dim(testing.data)"
   ]
  },
  {
   "cell_type": "markdown",
   "metadata": {},
   "source": [
    "So there are 3,283 records for training, while only 678 records for testing. Both files have 12 columns, or the 11 features plus the target variable."
   ]
  },
  {
   "cell_type": "code",
   "execution_count": 8,
   "metadata": {
    "collapsed": false
   },
   "outputs": [
    {
     "name": "stdout",
     "output_type": "stream",
     "text": [
      "'data.frame':\t3283 obs. of  12 variables:\n",
      " $ fixed.acidity       : num  7 6.3 7.2 8.1 6.2 8.1 7.9 6.6 8.3 6.6 ...\n",
      " $ volatile.acidity    : num  0.27 0.3 0.23 0.28 0.32 0.27 0.18 0.16 0.42 0.17 ...\n",
      " $ citric.acid         : num  0.36 0.34 0.32 0.4 0.16 0.41 0.37 0.4 0.62 0.38 ...\n",
      " $ residual.sugar      : num  20.7 1.6 8.5 6.9 7 ...\n",
      " $ chlorides           : num  0.045 0.049 0.058 0.05 0.045 0.033 0.04 0.044 0.04 0.032 ...\n",
      " $ free.sulfur.dioxide : num  45 14 47 30 30 11 16 48 41 28 ...\n",
      " $ total.sulfur.dioxide: num  170 132 186 97 136 63 75 143 172 112 ...\n",
      " $ density             : num  1.001 0.994 0.996 0.995 0.995 ...\n",
      " $ pH                  : num  3 3.3 3.19 3.26 3.18 2.99 3.18 3.54 2.98 3.25 ...\n",
      " $ sulphates           : num  0.45 0.49 0.4 0.44 0.47 0.56 0.63 0.52 0.67 0.55 ...\n",
      " $ alcohol             : num  8.8 9.5 9.9 10.1 9.6 12 10.8 12.4 9.7 11.4 ...\n",
      " $ quality             : Factor w/ 2 levels \"bad\",\"good\": 2 2 2 2 2 1 1 2 1 2 ...\n"
     ]
    }
   ],
   "source": [
    "str(training.file)"
   ]
  },
  {
   "cell_type": "markdown",
   "metadata": {},
   "source": [
    "#### Evaluating Variable Types\n",
    "\n",
    "All of the 11 features are **numerical and continuous**. The target variable, meanwhile, is categorical.\n",
    "\n",
    "Looking at the variables, all of them have different ranges, some are large (total.sulfur.dioxide, alcohol, residual sugar) and some are small (volatile.acidity, citric.acid, chlorides). Normalization is indeed important.\n",
    "\n",
    "### 2.2 Finding statistics per variable (to determine the distribution of values)\n",
    "\n",
    "Again, using the `summary()` function gives out initial descriptive statistics like *minimum, maximum mean, median, quartiles, etc.* per column.\n",
    "\n",
    "It might be better to **group them by quality**--check the statistics for good wine first, then bad wine after."
   ]
  },
  {
   "cell_type": "code",
   "execution_count": 9,
   "metadata": {
    "collapsed": false
   },
   "outputs": [
    {
     "name": "stdout",
     "output_type": "stream",
     "text": [
      "TRAIN DATASET\n",
      "\n",
      " good wine statistics"
     ]
    },
    {
     "data": {
      "text/plain": [
       " fixed.acidity    volatile.acidity  citric.acid     residual.sugar  \n",
       " Min.   : 3.800   Min.   :0.0800   Min.   :0.0000   Min.   : 0.800  \n",
       " 1st Qu.: 6.200   1st Qu.:0.2000   1st Qu.:0.2800   1st Qu.: 1.700  \n",
       " Median : 6.700   Median :0.2500   Median :0.3200   Median : 4.450  \n",
       " Mean   : 6.789   Mean   :0.2631   Mean   :0.3358   Mean   : 5.637  \n",
       " 3rd Qu.: 7.300   3rd Qu.:0.3100   3rd Qu.:0.3800   3rd Qu.: 8.200  \n",
       " Max.   :14.200   Max.   :0.9650   Max.   :1.6600   Max.   :65.800  \n",
       "   chlorides       free.sulfur.dioxide total.sulfur.dioxide    density      \n",
       " Min.   :0.01200   Min.   :  3.00      Min.   : 18.0        Min.   :0.9871  \n",
       " 1st Qu.:0.03400   1st Qu.: 24.00      1st Qu.:104.0        1st Qu.:0.9911  \n",
       " Median :0.04000   Median : 33.00      Median :127.0        Median :0.9928  \n",
       " Mean   :0.04273   Mean   : 34.95      Mean   :132.1        Mean   :0.9932  \n",
       " 3rd Qu.:0.04700   3rd Qu.: 44.00      3rd Qu.:157.0        3rd Qu.:0.9952  \n",
       " Max.   :0.25500   Max.   :112.00      Max.   :294.0        Max.   :1.0390  \n",
       "       pH          sulphates         alcohol      quality    \n",
       " Min.   :2.720   Min.   :0.2200   Min.   : 8.50   bad :   0  \n",
       " 1st Qu.:3.100   1st Qu.:0.4100   1st Qu.:10.00   good:2178  \n",
       " Median :3.200   Median :0.4800   Median :10.90              \n",
       " Mean   :3.206   Mean   :0.4955   Mean   :10.93              \n",
       " 3rd Qu.:3.300   3rd Qu.:0.5600   3rd Qu.:11.90              \n",
       " Max.   :3.820   Max.   :1.0800   Max.   :14.00              "
      ]
     },
     "metadata": {},
     "output_type": "display_data"
    },
    {
     "name": "stdout",
     "output_type": "stream",
     "text": [
      "\n",
      "--------------------------------------------------------------------\n",
      "\n",
      " bad wine statistics"
     ]
    },
    {
     "data": {
      "text/plain": [
       " fixed.acidity    volatile.acidity  citric.acid     residual.sugar  \n",
       " Min.   : 4.600   Min.   :0.1000   Min.   :0.0000   Min.   : 0.600  \n",
       " 1st Qu.: 6.400   1st Qu.:0.2400   1st Qu.:0.2400   1st Qu.: 1.600  \n",
       " Median : 6.800   Median :0.2900   Median :0.3200   Median : 6.300  \n",
       " Mean   : 6.977   Mean   :0.3143   Mean   :0.3354   Mean   : 6.808  \n",
       " 3rd Qu.: 7.500   3rd Qu.:0.3500   3rd Qu.:0.4200   3rd Qu.:10.700  \n",
       " Max.   :11.800   Max.   :1.1000   Max.   :1.0000   Max.   :23.500  \n",
       "   chlorides       free.sulfur.dioxide total.sulfur.dioxide    density      \n",
       " Min.   :0.00900   Min.   :  2.00      Min.   :  9.0        Min.   :0.9872  \n",
       " 1st Qu.:0.04000   1st Qu.: 20.00      1st Qu.:115.0        1st Qu.:0.9932  \n",
       " Median :0.04700   Median : 33.00      Median :149.0        Median :0.9949  \n",
       " Mean   :0.05256   Mean   : 35.26      Mean   :148.5        Mean   :0.9951  \n",
       " 3rd Qu.:0.05400   3rd Qu.: 49.00      3rd Qu.:182.0        3rd Qu.:0.9968  \n",
       " Max.   :0.34600   Max.   :289.00      Max.   :440.0        Max.   :1.0024  \n",
       "       pH          sulphates         alcohol       quality    \n",
       " Min.   :2.790   Min.   :0.2500   Min.   : 8.400   bad :1105  \n",
       " 1st Qu.:3.080   1st Qu.:0.4100   1st Qu.: 9.200   good:   0  \n",
       " Median :3.160   Median :0.4700   Median : 9.600              \n",
       " Mean   :3.172   Mean   :0.4804   Mean   : 9.875              \n",
       " 3rd Qu.:3.240   3rd Qu.:0.5300   3rd Qu.:10.400              \n",
       " Max.   :3.790   Max.   :0.8800   Max.   :13.600              "
      ]
     },
     "metadata": {},
     "output_type": "display_data"
    }
   ],
   "source": [
    "cat(\"TRAIN DATASET\\n\")\n",
    "cat(\"\\n good wine statistics\")\n",
    "summary(subset(training.file, quality == 'good'))\n",
    "cat(\"\\n--------------------------------------------------------------------\\n\\n bad wine statistics\")\n",
    "summary(subset(training.file, quality == 'bad'))"
   ]
  },
  {
   "cell_type": "code",
   "execution_count": 10,
   "metadata": {
    "collapsed": false
   },
   "outputs": [
    {
     "name": "stdout",
     "output_type": "stream",
     "text": [
      "TEST DATASET\n",
      "\n",
      " good wine statistics"
     ]
    },
    {
     "data": {
      "text/plain": [
       " fixed.acidity   volatile.acidity  citric.acid     residual.sugar  \n",
       " Min.   :4.200   Min.   :0.1000   Min.   :0.0000   Min.   : 0.700  \n",
       " 1st Qu.:6.200   1st Qu.:0.2100   1st Qu.:0.2700   1st Qu.: 1.500  \n",
       " Median :6.600   Median :0.2600   Median :0.3200   Median : 3.400  \n",
       " Mean   :6.728   Mean   :0.2684   Mean   :0.3325   Mean   : 5.011  \n",
       " 3rd Qu.:7.200   3rd Qu.:0.3200   3rd Qu.:0.3800   3rd Qu.: 7.950  \n",
       " Max.   :9.700   Max.   :0.7100   Max.   :1.0000   Max.   :19.500  \n",
       "   chlorides       free.sulfur.dioxide total.sulfur.dioxide    density      \n",
       " Min.   :0.01500   Min.   :  3.00      Min.   : 46.0        Min.   :0.9871  \n",
       " 1st Qu.:0.03400   1st Qu.: 23.00      1st Qu.:101.0        1st Qu.:0.9909  \n",
       " Median :0.04000   Median : 33.00      Median :127.0        Median :0.9926  \n",
       " Mean   :0.04264   Mean   : 34.89      Mean   :130.6        Mean   :0.9929  \n",
       " 3rd Qu.:0.04700   3rd Qu.: 43.50      3rd Qu.:154.0        3rd Qu.:0.9945  \n",
       " Max.   :0.19700   Max.   :108.00      Max.   :272.0        Max.   :1.0018  \n",
       "       pH          sulphates         alcohol      quality   \n",
       " Min.   :2.740   Min.   :0.2500   Min.   : 8.50   bad :  0  \n",
       " 1st Qu.:3.100   1st Qu.:0.4000   1st Qu.:10.00   good:435  \n",
       " Median :3.200   Median :0.4800   Median :10.90             \n",
       " Mean   :3.209   Mean   :0.4912   Mean   :10.97             \n",
       " 3rd Qu.:3.310   3rd Qu.:0.5600   3rd Qu.:12.00             \n",
       " Max.   :3.750   Max.   :0.9900   Max.   :14.20             "
      ]
     },
     "metadata": {},
     "output_type": "display_data"
    },
    {
     "name": "stdout",
     "output_type": "stream",
     "text": [
      "\n",
      "--------------------------------------------------------------------\n",
      "\n",
      " bad wine statistics"
     ]
    },
    {
     "data": {
      "text/plain": [
       " fixed.acidity    volatile.acidity  citric.acid     residual.sugar  \n",
       " Min.   : 4.200   Min.   :0.1100   Min.   :0.0000   Min.   : 0.700  \n",
       " 1st Qu.: 6.250   1st Qu.:0.2375   1st Qu.:0.2400   1st Qu.: 1.500  \n",
       " Median : 6.800   Median :0.2800   Median :0.3100   Median : 5.000  \n",
       " Mean   : 6.863   Mean   :0.3053   Mean   :0.3192   Mean   : 5.967  \n",
       " 3rd Qu.: 7.450   3rd Qu.:0.3400   3rd Qu.:0.4000   3rd Qu.: 9.300  \n",
       " Max.   :10.300   Max.   :0.8500   Max.   :0.7900   Max.   :19.800  \n",
       "   chlorides       free.sulfur.dioxide total.sulfur.dioxide    density      \n",
       " Min.   :0.01300   Min.   :  3.00      Min.   : 10.0        Min.   :0.9887  \n",
       " 1st Qu.:0.03800   1st Qu.: 16.00      1st Qu.:109.0        1st Qu.:0.9928  \n",
       " Median :0.04600   Median : 32.00      Median :148.0        Median :0.9944  \n",
       " Mean   :0.04996   Mean   : 32.69      Mean   :142.6        Mean   :0.9946  \n",
       " 3rd Qu.:0.05400   3rd Qu.: 47.50      3rd Qu.:179.0        3rd Qu.:0.9964  \n",
       " Max.   :0.30100   Max.   :110.00      Max.   :366.5        Max.   :1.0012  \n",
       "       pH          sulphates         alcohol      quality   \n",
       " Min.   :2.830   Min.   :0.3100   Min.   : 8.00   bad :243  \n",
       " 1st Qu.:3.080   1st Qu.:0.4200   1st Qu.: 9.35   good:  0  \n",
       " Median :3.160   Median :0.4800   Median : 9.90             \n",
       " Mean   :3.181   Mean   :0.4884   Mean   :10.07             \n",
       " 3rd Qu.:3.280   3rd Qu.:0.5400   3rd Qu.:10.60             \n",
       " Max.   :3.690   Max.   :0.8800   Max.   :13.50             "
      ]
     },
     "metadata": {},
     "output_type": "display_data"
    }
   ],
   "source": [
    "cat(\"TEST DATASET\\n\")\n",
    "cat(\"\\n good wine statistics\")\n",
    "summary(subset(testing.file, quality == 'good'))\n",
    "cat(\"\\n--------------------------------------------------------------------\\n\\n bad wine statistics\")\n",
    "summary(subset(testing.file, quality == 'bad'))"
   ]
  },
  {
   "cell_type": "markdown",
   "metadata": {},
   "source": [
    "**Reflections**\n",
    "- Most of the features' median are similar when you group the wines per quality.\n",
    "- Looking at the statistics of the features alone does not provide any distinction between bad wines and good wines.\n",
    "- This implies that focusing on the individual features' impact to the wine quality will not result to a good classifier. The distinction between good wine and bad wine depends on a combination of several factors."
   ]
  },
  {
   "cell_type": "code",
   "execution_count": 11,
   "metadata": {
    "collapsed": false
   },
   "outputs": [
    {
     "name": "stdout",
     "output_type": "stream",
     "text": [
      "PROPORTION OF GOOD VERSUS BAD WINES\n",
      "\n",
      "training file\n",
      " good wines:  66.34176 %\n",
      " bad wines:  33.65824 %\n",
      "\n",
      "testing file\n",
      " good wines:  64.15929 %\n",
      " bad wines:  35.84071 %"
     ]
    }
   ],
   "source": [
    "cat(\"PROPORTION OF GOOD VERSUS BAD WINES\")\n",
    "cat(\"\\n\\ntraining file\")\n",
    "cat(\"\\n good wines: \", (2178/(2178+1105))*100, \"%\")\n",
    "cat(\"\\n bad wines: \", (1105/(2178+1105))*100, \"%\")\n",
    "\n",
    "cat(\"\\n\\ntesting file\")\n",
    "cat(\"\\n good wines: \", (435/(435+243))*100, \"%\")\n",
    "cat(\"\\n bad wines: \", (243/(435+243))*100, \"%\")"
   ]
  },
  {
   "cell_type": "markdown",
   "metadata": {},
   "source": [
    "**Class Imbalance**\n",
    "\n",
    "It is important to note that the samples are biased toward **good wines** because the **good wines** are overly represented in both datasets (~33% more). This might affect the overall performance of our models because this might make classifying bad wines more difficult."
   ]
  },
  {
   "cell_type": "markdown",
   "metadata": {},
   "source": [
    "### 2.3 Determining the distributions of the variables\n",
    "\n",
    "To determine the distributions of the features, the histograms are ploted using `ggplot2`. Furthermore, skewness and kurtosis are also computed to determine if any features resembles the Normal Distribution. Skewness is defined as the rate of assymmetry in the distribution, while kurtosis measures its rate of 'tailedness'.  Note that a feature is normally distributed if the absolute value of the **coefficient of skewness and kurtosis is less than 2**.\n",
    "\n",
    "To compute for the skewness and kurtosis, I have used the `moments` package, that has a straightforward method called `skewness()` and `kurtosis()`."
   ]
  },
  {
   "cell_type": "code",
   "execution_count": 12,
   "metadata": {
    "collapsed": false
   },
   "outputs": [
    {
     "name": "stderr",
     "output_type": "stream",
     "text": [
      "No id variables; using all as measure variables\n"
     ]
    },
    {
     "data": {},
     "metadata": {},
     "output_type": "display_data"
    },
    {
     "data": {
      "image/png": "[encoded data removed]",
      "text/plain": [
       "plot without title"
      ]
     },
     "metadata": {},
     "output_type": "display_data"
    }
   ],
   "source": [
    "melted.training <- melt(training.file[1:(length(training.file)-1)])\n",
    "histograms <- ggplot(data = melted.training, mapping = aes(x = value)) + \n",
    "                    geom_histogram(bins = 50) + facet_wrap(~variable, scales = 'free_x') + theme_light() \n",
    "histograms"
   ]
  },
  {
   "cell_type": "markdown",
   "metadata": {},
   "source": [
    "At first glance, most of the variables appear to be normal, except for **residual sugar**, **chlorides**, and **alcohol**. To quantify the shape of the distribution, we can refer to the skewness and curtosis instead. "
   ]
  },
  {
   "cell_type": "code",
   "execution_count": 13,
   "metadata": {
    "collapsed": false
   },
   "outputs": [
    {
     "name": "stdout",
     "output_type": "stream",
     "text": [
      "Skewness of variables"
     ]
    },
    {
     "data": {
      "text/html": [
       "<dl class=dl-horizontal>\n",
       "\t<dt>total.sulfur.dioxide</dt>\n",
       "\t\t<dd>0.460607231804111</dd>\n",
       "\t<dt>alcohol</dt>\n",
       "\t\t<dd>0.464873292909255</dd>\n",
       "\t<dt>pH</dt>\n",
       "\t\t<dd>0.476535027924171</dd>\n",
       "\t<dt>fixed.acidity</dt>\n",
       "\t\t<dd>0.732917096772973</dd>\n",
       "\t<dt>sulphates</dt>\n",
       "\t\t<dd>0.949120294570349</dd>\n",
       "\t<dt>residual.sugar</dt>\n",
       "\t\t<dd>1.37943822211141</dd>\n",
       "\t<dt>density</dt>\n",
       "\t\t<dd>1.40635721196346</dd>\n",
       "\t<dt>citric.acid</dt>\n",
       "\t\t<dd>1.42331265324613</dd>\n",
       "\t<dt>volatile.acidity</dt>\n",
       "\t\t<dd>1.63993906344773</dd>\n",
       "\t<dt>free.sulfur.dioxide</dt>\n",
       "\t\t<dd>1.76998764505604</dd>\n",
       "\t<dt>chlorides</dt>\n",
       "\t\t<dd>4.92578886779447</dd>\n",
       "</dl>\n"
      ],
      "text/latex": [
       "\\begin{description*}\n",
       "\\item[total.sulfur.dioxide] 0.460607231804111\n",
       "\\item[alcohol] 0.464873292909255\n",
       "\\item[pH] 0.476535027924171\n",
       "\\item[fixed.acidity] 0.732917096772973\n",
       "\\item[sulphates] 0.949120294570349\n",
       "\\item[residual.sugar] 1.37943822211141\n",
       "\\item[density] 1.40635721196346\n",
       "\\item[citric.acid] 1.42331265324613\n",
       "\\item[volatile.acidity] 1.63993906344773\n",
       "\\item[free.sulfur.dioxide] 1.76998764505604\n",
       "\\item[chlorides] 4.92578886779447\n",
       "\\end{description*}\n"
      ],
      "text/markdown": [
       "total.sulfur.dioxide\n",
       ":   0.460607231804111alcohol\n",
       ":   0.464873292909255pH\n",
       ":   0.476535027924171fixed.acidity\n",
       ":   0.732917096772973sulphates\n",
       ":   0.949120294570349residual.sugar\n",
       ":   1.37943822211141density\n",
       ":   1.40635721196346citric.acid\n",
       ":   1.42331265324613volatile.acidity\n",
       ":   1.63993906344773free.sulfur.dioxide\n",
       ":   1.76998764505604chlorides\n",
       ":   4.92578886779447\n",
       "\n"
      ],
      "text/plain": [
       "total.sulfur.dioxide              alcohol                   pH \n",
       "           0.4606072            0.4648733            0.4765350 \n",
       "       fixed.acidity            sulphates       residual.sugar \n",
       "           0.7329171            0.9491203            1.3794382 \n",
       "             density          citric.acid     volatile.acidity \n",
       "           1.4063572            1.4233127            1.6399391 \n",
       " free.sulfur.dioxide            chlorides \n",
       "           1.7699876            4.9257889 "
      ]
     },
     "metadata": {},
     "output_type": "display_data"
    },
    {
     "name": "stdout",
     "output_type": "stream",
     "text": [
      "Kurtosis of variables"
     ]
    },
    {
     "data": {
      "text/html": [
       "<dl class=dl-horizontal>\n",
       "\t<dt>alcohol</dt>\n",
       "\t\t<dd>2.29502128550288</dd>\n",
       "\t<dt>pH</dt>\n",
       "\t\t<dd>3.60429622855028</dd>\n",
       "\t<dt>total.sulfur.dioxide</dt>\n",
       "\t\t<dd>3.75032391054638</dd>\n",
       "\t<dt>sulphates</dt>\n",
       "\t\t<dd>4.60747933421826</dd>\n",
       "\t<dt>fixed.acidity</dt>\n",
       "\t\t<dd>5.54249661216143</dd>\n",
       "\t<dt>volatile.acidity</dt>\n",
       "\t\t<dd>8.44779784081604</dd>\n",
       "\t<dt>residual.sugar</dt>\n",
       "\t\t<dd>9.40784299227817</dd>\n",
       "\t<dt>citric.acid</dt>\n",
       "\t\t<dd>10.4349008032165</dd>\n",
       "\t<dt>density</dt>\n",
       "\t\t<dd>19.1674214387688</dd>\n",
       "\t<dt>free.sulfur.dioxide</dt>\n",
       "\t\t<dd>19.170261161739</dd>\n",
       "\t<dt>chlorides</dt>\n",
       "\t\t<dd>37.808547862807</dd>\n",
       "</dl>\n"
      ],
      "text/latex": [
       "\\begin{description*}\n",
       "\\item[alcohol] 2.29502128550288\n",
       "\\item[pH] 3.60429622855028\n",
       "\\item[total.sulfur.dioxide] 3.75032391054638\n",
       "\\item[sulphates] 4.60747933421826\n",
       "\\item[fixed.acidity] 5.54249661216143\n",
       "\\item[volatile.acidity] 8.44779784081604\n",
       "\\item[residual.sugar] 9.40784299227817\n",
       "\\item[citric.acid] 10.4349008032165\n",
       "\\item[density] 19.1674214387688\n",
       "\\item[free.sulfur.dioxide] 19.170261161739\n",
       "\\item[chlorides] 37.808547862807\n",
       "\\end{description*}\n"
      ],
      "text/markdown": [
       "alcohol\n",
       ":   2.29502128550288pH\n",
       ":   3.60429622855028total.sulfur.dioxide\n",
       ":   3.75032391054638sulphates\n",
       ":   4.60747933421826fixed.acidity\n",
       ":   5.54249661216143volatile.acidity\n",
       ":   8.44779784081604residual.sugar\n",
       ":   9.40784299227817citric.acid\n",
       ":   10.4349008032165density\n",
       ":   19.1674214387688free.sulfur.dioxide\n",
       ":   19.170261161739chlorides\n",
       ":   37.808547862807\n",
       "\n"
      ],
      "text/plain": [
       "             alcohol                   pH total.sulfur.dioxide \n",
       "            2.295021             3.604296             3.750324 \n",
       "           sulphates        fixed.acidity     volatile.acidity \n",
       "            4.607479             5.542497             8.447798 \n",
       "      residual.sugar          citric.acid              density \n",
       "            9.407843            10.434901            19.167421 \n",
       " free.sulfur.dioxide            chlorides \n",
       "           19.170261            37.808548 "
      ]
     },
     "metadata": {},
     "output_type": "display_data"
    }
   ],
   "source": [
    "cat(\"Skewness of variables\")\n",
    "col.skewness <- function(x){return(skewness(x))}\n",
    "sort(apply(training.file[-12], 2, col.skewness))\n",
    "\n",
    "cat(\"Kurtosis of variables\")\n",
    "col.kurtosis <- function(x){return(kurtosis(x))}\n",
    "sort(apply(training.file[-12], 2, col.kurtosis))"
   ]
  },
  {
   "cell_type": "markdown",
   "metadata": {},
   "source": [
    "Surprisingly, most of the variables appear to be symmetric, except for **chlorides**, because its coefficient of skewness is more than 2, indicating it is positively skewed. However, all of them are considered leptokurtic, with positive excess kurtosis. Some features have the potential to be normally distributed, like **fixed acidity**, **sulphates** and **total.sulfur.dioxide**."
   ]
  },
  {
   "cell_type": "markdown",
   "metadata": {},
   "source": [
    "### 2.4 Finding any relationships among variables\n",
    "\n",
    "To find any *linear* correlation between two variables, we can just get their correlation coefficients since all of them are numerical variables. "
   ]
  },
  {
   "cell_type": "code",
   "execution_count": 14,
   "metadata": {
    "collapsed": false
   },
   "outputs": [
    {
     "data": {
      "text/html": [
       "<table>\n",
       "<thead><tr><th></th><th scope=col>fixed.acidity</th><th scope=col>volatile.acidity</th><th scope=col>citric.acid</th><th scope=col>residual.sugar</th><th scope=col>chlorides</th><th scope=col>free.sulfur.dioxide</th><th scope=col>total.sulfur.dioxide</th><th scope=col>density</th><th scope=col>pH</th><th scope=col>sulphates</th><th scope=col>alcohol</th></tr></thead>\n",
       "<tbody>\n",
       "\t<tr><th scope=row>fixed.acidity</th><td> 1.00000000 </td><td>-0.03133515 </td><td> 0.30135736 </td><td> 0.08330974 </td><td> 0.02287622 </td><td>-0.05524392 </td><td> 0.076904341</td><td> 0.26843608 </td><td>-0.433662755</td><td>-0.016251679</td><td>-0.119797397</td></tr>\n",
       "\t<tr><th scope=row>volatile.acidity</th><td>-0.03133515 </td><td> 1.00000000 </td><td>-0.15641211 </td><td> 0.09343456 </td><td> 0.08216806 </td><td>-0.09694925 </td><td> 0.099626139</td><td> 0.05234912 </td><td>-0.045001679</td><td>-0.020700790</td><td> 0.052255406</td></tr>\n",
       "\t<tr><th scope=row>citric.acid</th><td> 0.30135736 </td><td>-0.15641211 </td><td> 1.00000000 </td><td> 0.11501313 </td><td> 0.12690383 </td><td> 0.09212573 </td><td> 0.128813669</td><td> 0.16784216 </td><td>-0.183578541</td><td> 0.058190005</td><td>-0.078497073</td></tr>\n",
       "\t<tr><th scope=row>residual.sugar</th><td> 0.08330974 </td><td> 0.09343456 </td><td> 0.11501313 </td><td> 1.00000000 </td><td> 0.07437767 </td><td> 0.29944285 </td><td> 0.397127315</td><td> 0.82442297 </td><td>-0.174532927</td><td>-0.021256591</td><td>-0.404692906</td></tr>\n",
       "\t<tr><th scope=row>chlorides</th><td> 0.02287622 </td><td> 0.08216806 </td><td> 0.12690383 </td><td> 0.07437767 </td><td> 1.00000000 </td><td> 0.10317620 </td><td> 0.192558889</td><td> 0.24966833 </td><td>-0.088812115</td><td> 0.017447859</td><td>-0.358262237</td></tr>\n",
       "\t<tr><th scope=row>free.sulfur.dioxide</th><td>-0.05524392 </td><td>-0.09694925 </td><td> 0.09212573 </td><td> 0.29944285 </td><td> 0.10317620 </td><td> 1.00000000 </td><td> 0.625954107</td><td> 0.29132899 </td><td>-0.007354440</td><td> 0.036514157</td><td>-0.252215553</td></tr>\n",
       "\t<tr><th scope=row>total.sulfur.dioxide</th><td> 0.07690434 </td><td> 0.09962614 </td><td> 0.12881367 </td><td> 0.39712731 </td><td> 0.19255889 </td><td> 0.62595411 </td><td> 1.000000000</td><td> 0.52543437 </td><td> 0.009266154</td><td> 0.130337823</td><td>-0.446703646</td></tr>\n",
       "\t<tr><th scope=row>density</th><td> 0.26843608 </td><td> 0.05234912 </td><td> 0.16784216 </td><td> 0.82442297 </td><td> 0.24966833 </td><td> 0.29132899 </td><td> 0.525434371</td><td> 1.00000000 </td><td>-0.070753647</td><td> 0.072507626</td><td>-0.759878830</td></tr>\n",
       "\t<tr><th scope=row>pH</th><td>-0.43366276 </td><td>-0.04500168 </td><td>-0.18357854 </td><td>-0.17453293 </td><td>-0.08881212 </td><td>-0.00735444 </td><td> 0.009266154</td><td>-0.07075365 </td><td> 1.000000000</td><td> 0.134862220</td><td> 0.092981916</td></tr>\n",
       "\t<tr><th scope=row>sulphates</th><td>-0.01625168 </td><td>-0.02070079 </td><td> 0.05819000 </td><td>-0.02125659 </td><td> 0.01744786 </td><td> 0.03651416 </td><td> 0.130337823</td><td> 0.07250763 </td><td> 0.134862220</td><td> 1.000000000</td><td>-0.009769726</td></tr>\n",
       "\t<tr><th scope=row>alcohol</th><td>-0.11979740 </td><td> 0.05225541 </td><td>-0.07849707 </td><td>-0.40469291 </td><td>-0.35826224 </td><td>-0.25221555 </td><td>-0.446703646</td><td>-0.75987883 </td><td> 0.092981916</td><td>-0.009769726</td><td> 1.000000000</td></tr>\n",
       "</tbody>\n",
       "</table>\n"
      ],
      "text/latex": [
       "\\begin{tabular}{r|lllllllllll}\n",
       "  & fixed.acidity & volatile.acidity & citric.acid & residual.sugar & chlorides & free.sulfur.dioxide & total.sulfur.dioxide & density & pH & sulphates & alcohol\\\\\n",
       "\\hline\n",
       "\tfixed.acidity &  1.00000000  & -0.03133515  &  0.30135736  &  0.08330974  &  0.02287622  & -0.05524392  &  0.076904341 &  0.26843608  & -0.433662755 & -0.016251679 & -0.119797397\\\\\n",
       "\tvolatile.acidity & -0.03133515  &  1.00000000  & -0.15641211  &  0.09343456  &  0.08216806  & -0.09694925  &  0.099626139 &  0.05234912  & -0.045001679 & -0.020700790 &  0.052255406\\\\\n",
       "\tcitric.acid &  0.30135736  & -0.15641211  &  1.00000000  &  0.11501313  &  0.12690383  &  0.09212573  &  0.128813669 &  0.16784216  & -0.183578541 &  0.058190005 & -0.078497073\\\\\n",
       "\tresidual.sugar &  0.08330974  &  0.09343456  &  0.11501313  &  1.00000000  &  0.07437767  &  0.29944285  &  0.397127315 &  0.82442297  & -0.174532927 & -0.021256591 & -0.404692906\\\\\n",
       "\tchlorides &  0.02287622  &  0.08216806  &  0.12690383  &  0.07437767  &  1.00000000  &  0.10317620  &  0.192558889 &  0.24966833  & -0.088812115 &  0.017447859 & -0.358262237\\\\\n",
       "\tfree.sulfur.dioxide & -0.05524392  & -0.09694925  &  0.09212573  &  0.29944285  &  0.10317620  &  1.00000000  &  0.625954107 &  0.29132899  & -0.007354440 &  0.036514157 & -0.252215553\\\\\n",
       "\ttotal.sulfur.dioxide &  0.07690434  &  0.09962614  &  0.12881367  &  0.39712731  &  0.19255889  &  0.62595411  &  1.000000000 &  0.52543437  &  0.009266154 &  0.130337823 & -0.446703646\\\\\n",
       "\tdensity &  0.26843608  &  0.05234912  &  0.16784216  &  0.82442297  &  0.24966833  &  0.29132899  &  0.525434371 &  1.00000000  & -0.070753647 &  0.072507626 & -0.759878830\\\\\n",
       "\tpH & -0.43366276  & -0.04500168  & -0.18357854  & -0.17453293  & -0.08881212  & -0.00735444  &  0.009266154 & -0.07075365  &  1.000000000 &  0.134862220 &  0.092981916\\\\\n",
       "\tsulphates & -0.01625168  & -0.02070079  &  0.05819000  & -0.02125659  &  0.01744786  &  0.03651416  &  0.130337823 &  0.07250763  &  0.134862220 &  1.000000000 & -0.009769726\\\\\n",
       "\talcohol & -0.11979740  &  0.05225541  & -0.07849707  & -0.40469291  & -0.35826224  & -0.25221555  & -0.446703646 & -0.75987883  &  0.092981916 & -0.009769726 &  1.000000000\\\\\n",
       "\\end{tabular}\n"
      ],
      "text/markdown": [
       "\n",
       "| <!--/--> | fixed.acidity | volatile.acidity | citric.acid | residual.sugar | chlorides | free.sulfur.dioxide | total.sulfur.dioxide | density | pH | sulphates | alcohol | \n",
       "|---|---|---|---|---|---|---|---|---|---|---|\n",
       "| fixed.acidity |  1.00000000  | -0.03133515  |  0.30135736  |  0.08330974  |  0.02287622  | -0.05524392  |  0.076904341 |  0.26843608  | -0.433662755 | -0.016251679 | -0.119797397 | \n",
       "| volatile.acidity | -0.03133515  |  1.00000000  | -0.15641211  |  0.09343456  |  0.08216806  | -0.09694925  |  0.099626139 |  0.05234912  | -0.045001679 | -0.020700790 |  0.052255406 | \n",
       "| citric.acid |  0.30135736  | -0.15641211  |  1.00000000  |  0.11501313  |  0.12690383  |  0.09212573  |  0.128813669 |  0.16784216  | -0.183578541 |  0.058190005 | -0.078497073 | \n",
       "| residual.sugar |  0.08330974  |  0.09343456  |  0.11501313  |  1.00000000  |  0.07437767  |  0.29944285  |  0.397127315 |  0.82442297  | -0.174532927 | -0.021256591 | -0.404692906 | \n",
       "| chlorides |  0.02287622  |  0.08216806  |  0.12690383  |  0.07437767  |  1.00000000  |  0.10317620  |  0.192558889 |  0.24966833  | -0.088812115 |  0.017447859 | -0.358262237 | \n",
       "| free.sulfur.dioxide | -0.05524392  | -0.09694925  |  0.09212573  |  0.29944285  |  0.10317620  |  1.00000000  |  0.625954107 |  0.29132899  | -0.007354440 |  0.036514157 | -0.252215553 | \n",
       "| total.sulfur.dioxide |  0.07690434  |  0.09962614  |  0.12881367  |  0.39712731  |  0.19255889  |  0.62595411  |  1.000000000 |  0.52543437  |  0.009266154 |  0.130337823 | -0.446703646 | \n",
       "| density |  0.26843608  |  0.05234912  |  0.16784216  |  0.82442297  |  0.24966833  |  0.29132899  |  0.525434371 |  1.00000000  | -0.070753647 |  0.072507626 | -0.759878830 | \n",
       "| pH | -0.43366276  | -0.04500168  | -0.18357854  | -0.17453293  | -0.08881212  | -0.00735444  |  0.009266154 | -0.07075365  |  1.000000000 |  0.134862220 |  0.092981916 | \n",
       "| sulphates | -0.01625168  | -0.02070079  |  0.05819000  | -0.02125659  |  0.01744786  |  0.03651416  |  0.130337823 |  0.07250763  |  0.134862220 |  1.000000000 | -0.009769726 | \n",
       "| alcohol | -0.11979740  |  0.05225541  | -0.07849707  | -0.40469291  | -0.35826224  | -0.25221555  | -0.446703646 | -0.75987883  |  0.092981916 | -0.009769726 |  1.000000000 | \n",
       "\n",
       "\n"
      ],
      "text/plain": [
       "                     fixed.acidity volatile.acidity citric.acid residual.sugar\n",
       "fixed.acidity         1.00000000   -0.03133515       0.30135736  0.08330974   \n",
       "volatile.acidity     -0.03133515    1.00000000      -0.15641211  0.09343456   \n",
       "citric.acid           0.30135736   -0.15641211       1.00000000  0.11501313   \n",
       "residual.sugar        0.08330974    0.09343456       0.11501313  1.00000000   \n",
       "chlorides             0.02287622    0.08216806       0.12690383  0.07437767   \n",
       "free.sulfur.dioxide  -0.05524392   -0.09694925       0.09212573  0.29944285   \n",
       "total.sulfur.dioxide  0.07690434    0.09962614       0.12881367  0.39712731   \n",
       "density               0.26843608    0.05234912       0.16784216  0.82442297   \n",
       "pH                   -0.43366276   -0.04500168      -0.18357854 -0.17453293   \n",
       "sulphates            -0.01625168   -0.02070079       0.05819000 -0.02125659   \n",
       "alcohol              -0.11979740    0.05225541      -0.07849707 -0.40469291   \n",
       "                     chlorides   free.sulfur.dioxide total.sulfur.dioxide\n",
       "fixed.acidity         0.02287622 -0.05524392          0.076904341        \n",
       "volatile.acidity      0.08216806 -0.09694925          0.099626139        \n",
       "citric.acid           0.12690383  0.09212573          0.128813669        \n",
       "residual.sugar        0.07437767  0.29944285          0.397127315        \n",
       "chlorides             1.00000000  0.10317620          0.192558889        \n",
       "free.sulfur.dioxide   0.10317620  1.00000000          0.625954107        \n",
       "total.sulfur.dioxide  0.19255889  0.62595411          1.000000000        \n",
       "density               0.24966833  0.29132899          0.525434371        \n",
       "pH                   -0.08881212 -0.00735444          0.009266154        \n",
       "sulphates             0.01744786  0.03651416          0.130337823        \n",
       "alcohol              -0.35826224 -0.25221555         -0.446703646        \n",
       "                     density     pH           sulphates    alcohol     \n",
       "fixed.acidity         0.26843608 -0.433662755 -0.016251679 -0.119797397\n",
       "volatile.acidity      0.05234912 -0.045001679 -0.020700790  0.052255406\n",
       "citric.acid           0.16784216 -0.183578541  0.058190005 -0.078497073\n",
       "residual.sugar        0.82442297 -0.174532927 -0.021256591 -0.404692906\n",
       "chlorides             0.24966833 -0.088812115  0.017447859 -0.358262237\n",
       "free.sulfur.dioxide   0.29132899 -0.007354440  0.036514157 -0.252215553\n",
       "total.sulfur.dioxide  0.52543437  0.009266154  0.130337823 -0.446703646\n",
       "density               1.00000000 -0.070753647  0.072507626 -0.759878830\n",
       "pH                   -0.07075365  1.000000000  0.134862220  0.092981916\n",
       "sulphates             0.07250763  0.134862220  1.000000000 -0.009769726\n",
       "alcohol              -0.75987883  0.092981916 -0.009769726  1.000000000"
      ]
     },
     "metadata": {},
     "output_type": "display_data"
    }
   ],
   "source": [
    "cor(training.data[-12])"
   ]
  },
  {
   "cell_type": "markdown",
   "metadata": {},
   "source": [
    "To better see any correlations, it might be better to plot a heatmap instead. "
   ]
  },
  {
   "cell_type": "code",
   "execution_count": 15,
   "metadata": {
    "collapsed": false
   },
   "outputs": [
    {
     "data": {},
     "metadata": {},
     "output_type": "display_data"
    },
    {
     "data": {
      "image/png": "[encoded data removed]",
      "text/plain": [
       "plot without title"
      ]
     },
     "metadata": {},
     "output_type": "display_data"
    }
   ],
   "source": [
    "levelplot(cor(training.data[-12]))"
   ]
  },
  {
   "cell_type": "markdown",
   "metadata": {},
   "source": [
    "**Which variables have positive correlations?**\n",
    "- density and residual sugar (0.82)\n",
    "- density and total sulfur dioxide (0.52)\n",
    "- total sulfur dioxide and free sulfur dioxide (0.63)\n",
    "\n",
    "**Which variables have negative correlations?**\n",
    "- alcohol and residual sugar (-0.40)\n",
    "- alcohol and chlorides (-0.36)\n",
    "- alcohol and density (-0.76)\n",
    "- alcohol and total sulfur dioxide (-0.45)\n",
    "- pH and fixed.acidity (-0.43)\n",
    "\n",
    "There is a strong positive correlation between **density and residual sugar**. This means that sugar significantly adds to a wine's density. There is also a significant positive correlation between total and free sulfur dioxide, and this chemical also adds to the wine's density.\n",
    "\n",
    "Meanwhile, there is a strong negative correlation between **alcohol and density**. Denser wines tend to have less alcohol content. Furthermore, alcoholic wines tend to have less sulfur dioxide and sugar, and are less acidic.\n",
    "\n",
    "The linear correlation can be further explored by creating a scatterplot matrix of the features as shown below. Most of the linear correlations are flat, meaning most of the variables are not linearly correlated with one another."
   ]
  },
  {
   "cell_type": "code",
   "execution_count": 16,
   "metadata": {
    "collapsed": false
   },
   "outputs": [
    {
     "data": {
      "image/png": "[encoded data removed]",
      "text/plain": [
       "plot without title"
      ]
     },
     "metadata": {},
     "output_type": "display_data"
    }
   ],
   "source": [
    "options(warn=-1)\n",
    "scatterplotMatrix(training.file[1:11],cex=0.2)\n",
    "options(warn=0)"
   ]
  },
  {
   "cell_type": "markdown",
   "metadata": {},
   "source": [
    "To determine if any of the features are related to quality, we can try performing Chi-Square test of independence to the variables. To recap, this tests the null hypothesis *\"Attribute A and Attribute B is independent of each other\"*. If the resulting p-value of the statistic is less than 0.05, then we can reject the null hypothesis."
   ]
  },
  {
   "cell_type": "code",
   "execution_count": 17,
   "metadata": {
    "collapsed": false
   },
   "outputs": [
    {
     "name": "stdout",
     "output_type": "stream",
     "text": [
      "[1] \"quality and  fixed.acidity\"\n",
      "[1] 3.022543e-06\n",
      "[1] \"quality and  volatile.acidity\"\n",
      "[1] 8.618356e-17\n",
      "[1] \"quality and  citric.acid\"\n",
      "[1] 3.614346e-27\n",
      "[1] \"quality and  residual.sugar\"\n",
      "[1] 4.189078e-07\n",
      "[1] \"quality and  chlorides\"\n",
      "[1] 8.031441e-27\n",
      "[1] \"quality and  free.sulfur.dioxide\"\n",
      "[1] 9.98727e-13\n",
      "[1] \"quality and  total.sulfur.dioxide\"\n",
      "[1] 7.342524e-16\n",
      "[1] \"quality and  density\"\n",
      "[1] 2.811677e-08\n",
      "[1] \"quality and  pH\"\n",
      "[1] 0.0003785295\n"
     ]
    }
   ],
   "source": [
    "# turn off warnings for readability\n",
    "options(warn=-1)\n",
    "\n",
    "# perform chisquare test against zipcode to each of the variables\n",
    "for(i in 1:9){\n",
    "    m1 <- table(training.data$quality, training.data[,i])\n",
    "    print(paste(\"quality and \", colnames(training.data[i])))\n",
    "    print(chisq.test(m1)$p.value)\n",
    "}\n",
    "options(warn=0)"
   ]
  },
  {
   "cell_type": "markdown",
   "metadata": {},
   "source": [
    "All of the features have very low p-values, which suggests that each might be related to quality in their own way. "
   ]
  },
  {
   "cell_type": "markdown",
   "metadata": {},
   "source": [
    "## 3. Logistic Regression\n",
    "\n",
    "The classifier for this assessment will be logistic regression model. It uses the logistic or sigmoid function to predict a data point's class, while maximum likelihood is used to fit the model and determine the feature weights. \n",
    "\n",
    "**Logistic Function**\n",
    "\n",
    "$$\n",
    "p(\\mathcal{C}_k|x) = \\sigma(\\pmb{w}.\\mathbf{x}) = \\frac{1}{1 + e ^{-(u)}}\n",
    "$$\n",
    "\n",
    "$\\text{where u} = \\pmb{w_0} + \\pmb{w_1}.\\mathbf{x_1} + ... + \\pmb{w_j}.\\mathbf{x_j}$ is called the **log-odds** or **logit** that indicates how a probability may increase or decrease depending on the computed weights.\n",
    "\n",
    "Note that the logistic function returns a result $[0, 1]$, which is why it is also $p(\\mathcal{C}_k|x)$ or the probability of belonging to the class $\\mathcal{C}_k$ given the data $\\mathcal{x}$."
   ]
  },
  {
   "cell_type": "markdown",
   "metadata": {},
   "source": [
    "#### Building the Full Model\n",
    "\n",
    "To be able to build a logistic regression model, the function `glm()` from the package `glmnet` is used. Since we are going to build the full model, we can input the formula as the `output_variable ~ .`. In particular, the model we are going to build has the formula\n",
    "\n",
    "`quality ~ fixed.acidity + volatile.acidity + citric.acid + residual.sugar + chlorides + free.sulfur.dioxide + total.sulfur.dioxide + density + pH + sulphates + alcohol`\n",
    "\n",
    "We can take a look at the coefficient and the statistics of the fitted model by calling `summary()`."
   ]
  },
  {
   "cell_type": "code",
   "execution_count": 18,
   "metadata": {
    "collapsed": false
   },
   "outputs": [
    {
     "data": {
      "text/plain": [
       "\n",
       "Call:\n",
       "glm(formula = quality ~ ., family = binomial, data = training.data)\n",
       "\n",
       "Deviance Residuals: \n",
       "    Min       1Q   Median       3Q      Max  \n",
       "-3.1121  -0.8539   0.4175   0.7762   2.4965  \n",
       "\n",
       "Coefficients:\n",
       "                     Estimate Std. Error z value Pr(>|z|)    \n",
       "(Intercept)           0.93936    0.04747  19.787  < 2e-16 ***\n",
       "fixed.acidity        -0.06265    0.07090  -0.884 0.376928    \n",
       "volatile.acidity     -0.66764    0.05254 -12.706  < 2e-16 ***\n",
       "citric.acid           0.04370    0.04640   0.942 0.346292    \n",
       "residual.sugar        0.58124    0.14972   3.882 0.000104 ***\n",
       "chlorides            -0.01189    0.04551  -0.261 0.793807    \n",
       "free.sulfur.dioxide   0.18939    0.05998   3.158 0.001590 ** \n",
       "total.sulfur.dioxide -0.07597    0.06451  -1.178 0.238945    \n",
       "density              -0.46727    0.22936  -2.037 0.041621 *  \n",
       "pH                    0.17695    0.06484   2.729 0.006351 ** \n",
       "sulphates             0.22261    0.05100   4.365 1.27e-05 ***\n",
       "alcohol               1.10657    0.12771   8.665  < 2e-16 ***\n",
       "---\n",
       "Signif. codes:  0 '***' 0.001 '**' 0.01 '*' 0.05 '.' 0.1 ' ' 1\n",
       "\n",
       "(Dispersion parameter for binomial family taken to be 1)\n",
       "\n",
       "    Null deviance: 4194.0  on 3282  degrees of freedom\n",
       "Residual deviance: 3227.2  on 3271  degrees of freedom\n",
       "AIC: 3251.2\n",
       "\n",
       "Number of Fisher Scoring iterations: 5\n"
      ]
     },
     "metadata": {},
     "output_type": "display_data"
    }
   ],
   "source": [
    "fit.glm <- glm(quality ~., data = training.data, family = binomial)\n",
    "summary(fit.glm)"
   ]
  },
  {
   "cell_type": "markdown",
   "metadata": {},
   "source": [
    "**Analysis of the full model**\n",
    "\n",
    "**Z-score of the features:**\n",
    "<br/>The z-score of the features works like the t-score in linear regression. The bigger the z-value, the more significant it is in determining the wine quality. In this case, the features **volatile.acidity**, **residual.sugar**, **free.sulfur.dioxide**, **density**, **pH**, **sulphates**, and **alcohol** are considered dependent to the resulting wine quality, while others are not relevant.\n",
    "\n",
    "**Null and residual deviance:**\n",
    "<br/>Null deviance indicates the goodness-of-fit when all other coefficients are 0 except the intercept. A decrease in residual deviance from null deviance indicates that the model with features explains the data better.\n",
    "\n",
    "**AIC:**\n",
    "<br/>The AIC of the model is 3251.2, and this sets the *baseline* of the AICs of the models coming from feature selection and regularization. A model that comes up with a leser AIC score is considered a better model.\n",
    "\n",
    "Now let's try and predict the test set using the full model.\n",
    "\n",
    "The metrics used to score the prediction are the predictive accuracy and the AUC score, which will be discussed further in the next sections."
   ]
  },
  {
   "cell_type": "code",
   "execution_count": 19,
   "metadata": {
    "collapsed": false
   },
   "outputs": [
    {
     "name": "stdout",
     "output_type": "stream",
     "text": [
      "\n",
      "Full Model Train Prediction\n",
      "test data accuracy:  0.762717\n",
      "test data auc:  0.7103748"
     ]
    },
    {
     "data": {
      "text/plain": [
       "        \n",
       "pred.glm  bad good\n",
       "    bad   608  282\n",
       "    good  497 1896"
      ]
     },
     "metadata": {},
     "output_type": "display_data"
    }
   ],
   "source": [
    "cat(\"\\nFull Model Train Prediction\")\n",
    "probs <- predict(fit.glm, training.data, type = \"response\")\n",
    "pred.glm <- rep('good', length(probs))\n",
    "pred.glm[probs < 0.5] <- 'bad'\n",
    "\n",
    "acc<- confusionMatrix(pred.glm, training.data$quality, positive = 'good')$overall['Accuracy']\n",
    "cat(\"\\ntest data accuracy: \", acc)\n",
    "auc <- roc(as.numeric(training.data$quality), as.numeric(factor(pred.glm)))$auc\n",
    "cat(\"\\ntest data auc: \", auc)\n",
    "table(pred.glm, training.data$quality)"
   ]
  },
  {
   "cell_type": "code",
   "execution_count": 20,
   "metadata": {
    "collapsed": false
   },
   "outputs": [
    {
     "name": "stdout",
     "output_type": "stream",
     "text": [
      "\n",
      "Full Model Test Prediction\n",
      "test data accuracy:  0.7079646\n",
      "test data auc:  0.6534412"
     ]
    },
    {
     "data": {
      "text/plain": [
       "        \n",
       "pred.glm bad good\n",
       "    bad  112   67\n",
       "    good 131  368"
      ]
     },
     "metadata": {},
     "output_type": "display_data"
    }
   ],
   "source": [
    "cat(\"\\nFull Model Test Prediction\")\n",
    "probs <- predict(fit.glm, testing.data, type = \"response\")\n",
    "pred.glm <- rep('good', length(probs))\n",
    "pred.glm[probs < 0.5] <- 'bad'\n",
    "\n",
    "acc<- confusionMatrix(pred.glm, testing.data$quality, positive = 'good')$overall['Accuracy']\n",
    "cat(\"\\ntest data accuracy: \", acc)\n",
    "auc <- roc(as.numeric(testing.data$quality), as.numeric(factor(pred.glm)))$auc\n",
    "cat(\"\\ntest data auc: \", auc)\n",
    "table(pred.glm, testing.data$quality)"
   ]
  },
  {
   "cell_type": "markdown",
   "metadata": {},
   "source": [
    "The overall accuracy of the prediction is quite low. Looks like the model is overfitting the data, because it considers a lot of features which may be unnecessary. The AUC score is also not that good, considering that the worst AUC score is 0.5.\n",
    "\n",
    "When we create models with too many features, the obvious drawback is the tendency to have high variance, especially when the number of predictors *p* is greater than the number of data *n*, or a linear relationship between some of the features are not apparent. In order to reduce variance and model complexity, subset selection and regularization are employed. The aim is to find an optimal set of features that better describe the wine quality by reducing the number of features used, by decreasing the weights of the features, or both.\n",
    "\n",
    "The next sections will describe these methods."
   ]
  },
  {
   "cell_type": "markdown",
   "metadata": {},
   "source": [
    "## 4. Stepwise Subset Selection\n",
    "\n",
    "To improve upon the model created above, we can do feature selection using forward stepwise subset selection.\n",
    "\n",
    "**Feature Selection**\n",
    " \n",
    "*Feature selection* is a way of shrinking the model by selecting a subset of features that would yield the best score. In this case, we are going to select a subset of features by selecting the model with the best AUC (area under the ROC curve) score, accuracy, and balanced accuracy.\n",
    "\n",
    "There are many ways to do this. One way is getting the score for all combinations of variables; this would mean producing $2^n$ models where $n = \\text{number of variables}$. Because of the quantity of calculation, this is generally not recommended. The method we are going to use for feature selection is *forward stepwise subset selection*. This method considers a smaller set of combinations.\n",
    "\n",
    "**Forward Stepwise Selection**\n",
    "\n",
    "Forward stepwise selection begins with no predictors, and iteratively creating a model with *j* predictors where j is from 1 to *n*, the number of variables. The features that yield the best *additional* improvement to the model will be the best model with *j* predictors. The result is *n* models. \n",
    "\n",
    "We can select the best model by getting the best score by using the *one standard-error rule.*\n",
    "\n",
    "**One Standard Error Rule**\n",
    "\n",
    "According to the one standard error rule, the model that has a score which is *one standard error away from the best score* and has *the least number of variables* is the best model. We have to prefer the simplest model among the similarly good models in the set.\n",
    "\n",
    "**Forward Stepwise Selection Algorithm**\n",
    "\n",
    "The algorithm is as follows:\n",
    "\n",
    "(1) From i in 1 to n (the number of features):\n",
    "\n",
    "    1.1 From j to 1 to n (the number of features):\n",
    "           1.1.1 if the current jth feature is not in the subset of selected features, \n",
    "                   - create a new model by adding this feature \n",
    "                   - perform k-fold cross validation on the created model by training the model using the k-1 folds and testing its performance using the remaining 1 fold\n",
    "            1.1.2 get the mean score of the k-fold cross validation\n",
    "            1.1.3 compare the computed mean score to the other mean scores of other features\n",
    "            1.1.4 which ever has the best mean score will be the best model with *i* features\n",
    "     \n",
    "    1.2 Add the feature with the best additive improvement to the subset of selected features.\n",
    "\n",
    "(2) Once we have generated models $\\text{M}_1$ to $\\text{M}_n$, \n",
    "\n",
    "`\n",
    "   2.1 Compare the scores of the generated $n$ models.\n",
    "   2.2 Pick the model with the best score.\n",
    "   2.3 Get the standard error of the scores of the models.\n",
    "   2.4 The final model will have a score that is within best.score +/- standard.error AND has the least number of variables.\n",
    " `\n",
    " \n",
    "There are other ways of stepwise selection like **backward stepwise selection**, which iteratively *subtracts* features from the model, and **hybrid stepwise selection**, which adds the features one by one and then removes any feature that does not significantly improve the fit. They will not be assessed here.\n",
    "\n",
    "There are many score metrics used to determine the best model, but for this assessment I have considered the following metrics:\n",
    "\n",
    "1. **AUC (area under the ROC curve) score** - This is a robust metric which calculates the total area  taken by the model's ROC curve. **ROC (receiver operating characteristic) curve** is a graphical plot that tells about a binary classifier's performance by plotting the *true positive rate*, or sensitivity against the *false positive rate*, or 1 - specificity (nb: specificity is the *true negative rate*). This ranges from 0.5 to 1, where 1 is considered the best.\n",
    "\n",
    "2. **Predictive Accuracy** - the basic classifier metric, which is the percentage of correct labels over the total number of data. This ranges from 0 to 1, where 1 means that all data are classified correctly.\n",
    "\n",
    "3. **AIC (Akaike Information Criterion)** - this measure is derived from the model itself and not thru its predictions. It computes for the models' lack of fit using maximum likelihood. The lower the AIC, the better the model. "
   ]
  },
  {
   "cell_type": "code",
   "execution_count": 21,
   "metadata": {
    "collapsed": true
   },
   "outputs": [],
   "source": [
    "# initialise data\n",
    "test.models <- as.data.frame(matrix(nrow = 5, ncol = 3))\n",
    "names(test.models) <- c('index', 'model', 'auc.score')\n",
    "iter <- 1\n",
    "set.seed(1234)"
   ]
  },
  {
   "cell_type": "markdown",
   "metadata": {},
   "source": [
    "**Performing Stepwise Selection in R**\n",
    "\n",
    "In deciding how to implement forward stepwise selection, I have checked the following methods: `regsubsets()` and `bestglm()`.\n",
    "\n",
    "`regsubsets()` does perform subset selection, but since based from the examples this is only applicable to linear regression and I  have not seen this method used for logistic regression, I did not use this.\n",
    "\n",
    "`bestglm()` is another function for selecting the best model, but you cannot force it to implement forward stepwise selection\n",
    "\n",
    "So I have decided to create my own forward stepwise selection with k-fold cross validation. It consists of four different functions:\n",
    "\n",
    "1. `stepwise()` - the main logic for forward stepwise selection. This selects the best model among $M_1$ to $M_n$.\n",
    "2. `generate.stepwise.models()` - generates the models $M_1$ to $M_n$ by performing k-fold CV.\n",
    "3. `cv.stepwise()` - performs k-fold CV and selects the best model $M_i$ with *i* features.\n",
    "4. `compute.measure()` - computes different metrics that will be compared in k-fold CV."
   ]
  },
  {
   "cell_type": "code",
   "execution_count": 22,
   "metadata": {
    "collapsed": true
   },
   "outputs": [],
   "source": [
    "#### Function that computes different measurement of model quality\n",
    "### prediction - predicted values of the target variable\n",
    "### actual - actual values of the target variable\n",
    "### measure - can be auc (area under the ROC curve), accuracy (predictive accuracy), balanced.accuracy (balanced accuracy)\n",
    "### returns: the computed measure\n",
    "compute.measure <- function(prediction, actual, measure, positive){\n",
    "    cv.measure <- 0\n",
    "    \n",
    "    # if the requested measure is AUC, call pROC's roc() function\n",
    "    if (measure == 'auc'){\n",
    "        cv.measure <- roc(as.numeric(actual), as.numeric(factor(prediction)))$auc\n",
    "    }\n",
    "    else if (measure == 'accuracy'){\n",
    "        # first, check if the prediction and the actual vectors have the same levels\n",
    "        # this is needed eg. if the predicted values are all positive\n",
    "        pred.levels <- length(levels(as.factor(prediction)))\n",
    "        ref.levels <- length(levels(actual))\n",
    "\n",
    "        if (pred.levels != ref.levels){ \n",
    "            cv.measure <- 0 \n",
    "        }\n",
    "        else {\n",
    "            # we need to call caret's confusionMatrix() function\n",
    "            # which returns the accuracy and balanced accuracy\n",
    "            cm <- confusionMatrix(prediction, actual, positive = positive)\n",
    "            cv.measure <- cm$overall['Accuracy']\n",
    "        }\n",
    "    }\n",
    "    \n",
    "    return(cv.measure)\n",
    "}"
   ]
  },
  {
   "cell_type": "code",
   "execution_count": 23,
   "metadata": {
    "collapsed": true
   },
   "outputs": [],
   "source": [
    "#### Function that performs k-fold CV for stepwise selection for logistic regression in 2 variables\n",
    "### training.data - the training dataset\n",
    "### positive - the positive class\n",
    "### negative - the negative class\n",
    "### measure - can be auc (area under the ROC curve), accuracy (predictive accuracy), balanced.accuracy (balanced accuracy)\n",
    "### nfolds - the number of folds (k)\n",
    "### returns: the mean measure computed after doing k-fold CV\n",
    "cv.stepwise <- function(training.data, positive, negative, measure, nfolds){\n",
    "    # perform K-fold CV to test a model with the current variable\n",
    "    # nfolds <- 10\n",
    "    \n",
    "    #set.seed(12*runif(1, 0, 10))\n",
    "    folds <- sample(1:nfolds, nrow(training.data), replace = TRUE)\n",
    "    cv.measures <- c()\n",
    "\n",
    "    for(k in 1:nfolds){\n",
    "        #print(k)\n",
    "        train <- training.data[folds!=k,]\n",
    "        test <- training.data[folds==k,]\n",
    "        \n",
    "        fit.glm <- glm(quality ~., data = train, family = binomial)\n",
    "        probs <- predict(fit.glm, test, type = \"response\")\n",
    "        pred.glm <- rep(negative, length(probs))\n",
    "        pred.glm[probs > 0.5] <- positive\n",
    "\n",
    "        if (measure == 'auc' | measure == 'accuracy'){\n",
    "            cv.measure <- compute.measure(pred.glm, test$quality, measure, positive)\n",
    "        }\n",
    "        else if (measure == 'aic') {\n",
    "            cv.measure <- fit.glm$aic\n",
    "        }\n",
    "        cv.measures <- c(cv.measures, cv.measure)\n",
    "    }\n",
    "\n",
    "    # get the mean aucs of the folds\n",
    "    mean.measure <- mean(cv.measures)\n",
    "    \n",
    "    return(list(meanMeasure = mean.measure))\n",
    "}"
   ]
  },
  {
   "cell_type": "code",
   "execution_count": 24,
   "metadata": {
    "collapsed": true
   },
   "outputs": [],
   "source": [
    "#### Function that generates p stepwise models, where p is the number of features\n",
    "### training.data - the training dataset\n",
    "### measure - can be auc (area under the ROC curve), accuracy (predictive accuracy), balanced.accuracy (balanced accuracy)\n",
    "### output - the target variable (eg. 'quality')\n",
    "### positive - the positive class\n",
    "### negative - the negative class\n",
    "### returns: the p models and their corresponding metric values\n",
    "generate.stepwise.models <- function(training.data, measure, output, positive, negative){\n",
    "    \n",
    "    # get the number of variables\n",
    "    c <- ncol(training.data) - 1\n",
    "    \n",
    "    selected.features <- c()\n",
    "    model.list <- list()\n",
    "    best.feature <- ''\n",
    "    \n",
    "    model.df <- as.data.frame(matrix(nrow = 500, ncol = 3))\n",
    "    names(model.df) <- c('features', 'vars', 'measure')   \n",
    "    l <- 1\n",
    "    \n",
    "    # per row (i.e., the number of features)\n",
    "    for (i in 1:c){\n",
    "        \n",
    "        best.measure <- if (measure == 'auc' | measure == 'accuracy') 0 else 10^10\n",
    "         \n",
    "        # iterate per feature and include them to the current model\n",
    "        for(j in 1:c){\n",
    "            # note: selected.features will have the features in the current model\n",
    "            features <- if (i == 1)  c() else selected.features[1:(i-1)]\n",
    "            var.name <- colnames(training.data[-ncol(training.data)])[j]\n",
    "                \n",
    "            #cat(\"\\nselected features: \", selected.features)\n",
    "\n",
    "            # if the current feature is not in the current model\n",
    "            if (!(var.name %in% features)){\n",
    "                features <- c(features, var.name, output)\n",
    "                train <- training.data[,features]\n",
    "                \n",
    "                cv.response <- cv.stepwise(train, positive, negative, measure, 10)\n",
    "                mean.measure <- cv.response$meanMeasure\n",
    "\n",
    "                replace <- FALSE\n",
    "                # for auc and accuracy, replace if the best is less than the current mean\n",
    "                # for AIC, replace if the best is more than the current mean\n",
    "                if (measure == 'accuracy' | measure == 'auc'){\n",
    "                    replace <- mean.measure > best.measure \n",
    "                } else {\n",
    "                    #cat('\\nmean measure ', mean.measure, ' current best ', best.measure)\n",
    "                    replace <- mean.measure <= best.measure\n",
    "                }\n",
    "                \n",
    "                # compare the mean auc with the current largest auc\n",
    "                if (replace){\n",
    "                    best.measure <- mean.measure\n",
    "                    best.feature <- var.name\n",
    "                    # NOTE: uncomment the code below to better see how this algorithm works\n",
    "                    #cat(\"features: \", features, \"new auc: \", mean.measure, \"\\n\")\n",
    "                    model.df[i,'features'] <- paste(features[-(length(features))], collapse = ' + ')\n",
    "                    model.df[i,'vars'] <- length(features) - 1\n",
    "                    model.df[i,'measure'] <- mean.measure\n",
    "                    #l <- l + 1\n",
    "                }   \n",
    "                \n",
    "            }  \n",
    "\n",
    "        }\n",
    "\n",
    "        # add the best feature and form a new model        \n",
    "        selected.features <- c(selected.features, best.feature)\n",
    "                \n",
    "        # store the metric of the current best model\n",
    "        model.list[[best.feature]] <- best.measure\n",
    "        \n",
    "    }\n",
    "            \n",
    "    return(list(modelList = model.list, selectedFeatures = selected.features, modelsDF = model.df))\n",
    "}"
   ]
  },
  {
   "cell_type": "code",
   "execution_count": 25,
   "metadata": {
    "collapsed": false
   },
   "outputs": [],
   "source": [
    "#################### STEPWISE MODEL SELECTION #########################\n",
    "stepwise <- function(training.data, output, positive, negative, measure){\n",
    "\n",
    "    # generate K models\n",
    "    response <- generate.stepwise.models(training.data, measure, output, positive, negative)\n",
    "    model.list <- response$modelList\n",
    "    selected.features <- response$selectedFeatures\n",
    "    model.df <- response$modelsDF\n",
    "\n",
    "    # select the model with the best metric\n",
    "    a <- unlist(model.list)\n",
    "    \n",
    "    best.metric <- if (measure == 'auc' | measure == 'accuracy') max(a) else min(a)\n",
    "    \n",
    "    cat(\"\\nbest \", measure, \": \", best.metric,\"\\n\")\n",
    "    \n",
    "    # perform one-standard error rule\n",
    "    standard.error <- sd(a)/sqrt(length(a))\n",
    "    upper <- best.metric + standard.error\n",
    "    lower <- best.metric - standard.error\n",
    "        \n",
    "    cat(\"\\nOne standard error rule: [\", lower, \",\", upper, \"]\")\n",
    "    \n",
    "    best.model <- selected.features[1:which(selected.features == names(a[which(a > lower & a < upper)])[1])]\n",
    "    \n",
    "    cat(\"\\n\\noptimal model features: \", best.model)\n",
    "    cat(\"\\nnumber of variables: \", length(best.model))\n",
    "\n",
    "    # re-create the model to get the coefficients\n",
    "    features <- c(best.model, output)\n",
    "    train <- training.data[,features]\n",
    "    sw.fit.glm <- glm(quality ~., data = train, family = binomial)\n",
    "    print(summary(sw.fit.glm))\n",
    "            \n",
    "    return(list(bestModel = sw.fit.glm, modelsData = na.omit(model.df), includedFeatures = best.model))\n",
    "}"
   ]
  },
  {
   "cell_type": "markdown",
   "metadata": {},
   "source": [
    "After creating the functions I'm going to need. We can now produce the models. To recap, the forward stepwise subset selection (FSSS) models i'm going to produce are:\n",
    "\n",
    "1. FSSS based on the model AUC score - the best model is selected among those who have the highest AUC score.\n",
    "2. FSSS based on the model accuracy - the best model is selected among those who have the highest predictive accuracy.\n",
    "3. FSSS based on the model AIC - the best model is selected among those who have the lowest AIC.\n",
    "\n",
    "### 4.1 Forward Stepwise Subset Selection based on Model AUC Score\n",
    "\n",
    "We first call the `stepwise()` method I created to perform stepwise selection and then analyze its results."
   ]
  },
  {
   "cell_type": "code",
   "execution_count": 26,
   "metadata": {
    "collapsed": false
   },
   "outputs": [
    {
     "name": "stdout",
     "output_type": "stream",
     "text": [
      "\n",
      "best  auc :  0.7113508 \n",
      "\n",
      "One standard error rule: [ 0.706885 , 0.7158166 ]\n",
      "\n",
      "optimal model features:  alcohol volatile.acidity residual.sugar fixed.acidity\n",
      "number of variables:  4\n",
      "Call:\n",
      "glm(formula = quality ~ ., family = binomial, data = train)\n",
      "\n",
      "Deviance Residuals: \n",
      "    Min       1Q   Median       3Q      Max  \n",
      "-3.1762  -0.8953   0.4309   0.7935   2.3890  \n",
      "\n",
      "Coefficients:\n",
      "                 Estimate Std. Error z value Pr(>|z|)    \n",
      "(Intercept)       0.92658    0.04690  19.755  < 2e-16 ***\n",
      "alcohol           1.32732    0.06009  22.091  < 2e-16 ***\n",
      "volatile.acidity -0.72229    0.04949 -14.594  < 2e-16 ***\n",
      "residual.sugar    0.30819    0.04577   6.734 1.65e-11 ***\n",
      "fixed.acidity    -0.21311    0.04300  -4.956 7.20e-07 ***\n",
      "---\n",
      "Signif. codes:  0 '***' 0.001 '**' 0.01 '*' 0.05 '.' 0.1 ' ' 1\n",
      "\n",
      "(Dispersion parameter for binomial family taken to be 1)\n",
      "\n",
      "    Null deviance: 4194.0  on 3282  degrees of freedom\n",
      "Residual deviance: 3267.6  on 3278  degrees of freedom\n",
      "AIC: 3277.6\n",
      "\n",
      "Number of Fisher Scoring iterations: 5\n",
      "\n"
     ]
    }
   ],
   "source": [
    "step.auc <- stepwise(training.data, 'quality', 'good', 'bad', 'auc')"
   ]
  },
  {
   "cell_type": "markdown",
   "metadata": {},
   "source": [
    "**Analysis of the results**\n",
    "\n",
    "**K-fold CV AUC**:\n",
    "<br/>Upon performing 10-fold cross validation, its mean AUC is computed to be around 0.71, which does not improve much on the full model's AUC.\n",
    "\n",
    "**Chosen model**:\n",
    "<br/>After considering the one standard error rule, results show that the method has picked 3 variables as the optimal features, namely **alcohol**, **volatile.acidity**, **residual.sugar**, and **fixed.acidity**. The coefficients of the chosen features are very high in magnitude, which indicates that these variables are significant.\n",
    "\n",
    "`quality ~ alcohol + volatile.acidity + residual.sugar + fixed.acidity`\n",
    "\n",
    "Note that in the full model, these features also yielded the lowest p-values.\n",
    "\n",
    "**Null and residual deviance**:\n",
    "<br/>The null deviance, which describes the performance of the model if we only include the intercept, is at around ~4200. The residual deviance at ~3300 indicates an improvement to the fit.\n",
    "\n",
    "**AIC:**\n",
    "<br/>The resulting AIC of 3277 is pretty similar to the full model's AIC of 3251. This means we were able to simplify the model without compromising the goodness-of-fit measure.\n",
    "\n",
    "The table below shows how stepwise selection selected the best models per *j* features. "
   ]
  },
  {
   "cell_type": "code",
   "execution_count": 27,
   "metadata": {
    "collapsed": false
   },
   "outputs": [
    {
     "data": {
      "text/html": [
       "<table>\n",
       "<thead><tr><th scope=col>features</th><th scope=col>vars</th><th scope=col>measure</th></tr></thead>\n",
       "<tbody>\n",
       "\t<tr><td>alcohol                                                                                                                                                      </td><td> 1                                                                                                                                                           </td><td>0.6615126                                                                                                                                                    </td></tr>\n",
       "\t<tr><td>alcohol + volatile.acidity                                                                                                                                   </td><td> 2                                                                                                                                                           </td><td>0.6907325                                                                                                                                                    </td></tr>\n",
       "\t<tr><td>alcohol + volatile.acidity + residual.sugar                                                                                                                  </td><td> 3                                                                                                                                                           </td><td>0.7030342                                                                                                                                                    </td></tr>\n",
       "\t<tr><td>alcohol + volatile.acidity + residual.sugar + fixed.acidity                                                                                                  </td><td> 4                                                                                                                                                           </td><td>0.7085137                                                                                                                                                    </td></tr>\n",
       "\t<tr><td>alcohol + volatile.acidity + residual.sugar + fixed.acidity + pH                                                                                             </td><td> 5                                                                                                                                                           </td><td>0.7109202                                                                                                                                                    </td></tr>\n",
       "\t<tr><td>alcohol + volatile.acidity + residual.sugar + fixed.acidity + pH + free.sulfur.dioxide                                                                       </td><td> 6                                                                                                                                                           </td><td>0.7072705                                                                                                                                                    </td></tr>\n",
       "\t<tr><td>alcohol + volatile.acidity + residual.sugar + fixed.acidity + pH + free.sulfur.dioxide + total.sulfur.dioxide                                                </td><td> 7                                                                                                                                                           </td><td>0.7069441                                                                                                                                                    </td></tr>\n",
       "\t<tr><td>alcohol + volatile.acidity + residual.sugar + fixed.acidity + pH + free.sulfur.dioxide + total.sulfur.dioxide + sulphates                                    </td><td> 8                                                                                                                                                           </td><td>0.7113508                                                                                                                                                    </td></tr>\n",
       "\t<tr><td>alcohol + volatile.acidity + residual.sugar + fixed.acidity + pH + free.sulfur.dioxide + total.sulfur.dioxide + sulphates + density                          </td><td> 9                                                                                                                                                           </td><td>0.7100242                                                                                                                                                    </td></tr>\n",
       "\t<tr><td>alcohol + volatile.acidity + residual.sugar + fixed.acidity + pH + free.sulfur.dioxide + total.sulfur.dioxide + sulphates + density + chlorides              </td><td>10                                                                                                                                                           </td><td>0.7110649                                                                                                                                                    </td></tr>\n",
       "\t<tr><td>alcohol + volatile.acidity + residual.sugar + fixed.acidity + pH + free.sulfur.dioxide + total.sulfur.dioxide + sulphates + density + chlorides + citric.acid</td><td>11                                                                                                                                                           </td><td>0.7066451                                                                                                                                                    </td></tr>\n",
       "</tbody>\n",
       "</table>\n"
      ],
      "text/latex": [
       "\\begin{tabular}{r|lll}\n",
       " features & vars & measure\\\\\n",
       "\\hline\n",
       "\t alcohol                                                                                                                                                       &  1                                                                                                                                                            & 0.6615126                                                                                                                                                    \\\\\n",
       "\t alcohol + volatile.acidity                                                                                                                                    &  2                                                                                                                                                            & 0.6907325                                                                                                                                                    \\\\\n",
       "\t alcohol + volatile.acidity + residual.sugar                                                                                                                   &  3                                                                                                                                                            & 0.7030342                                                                                                                                                    \\\\\n",
       "\t alcohol + volatile.acidity + residual.sugar + fixed.acidity                                                                                                   &  4                                                                                                                                                            & 0.7085137                                                                                                                                                    \\\\\n",
       "\t alcohol + volatile.acidity + residual.sugar + fixed.acidity + pH                                                                                              &  5                                                                                                                                                            & 0.7109202                                                                                                                                                    \\\\\n",
       "\t alcohol + volatile.acidity + residual.sugar + fixed.acidity + pH + free.sulfur.dioxide                                                                        &  6                                                                                                                                                            & 0.7072705                                                                                                                                                    \\\\\n",
       "\t alcohol + volatile.acidity + residual.sugar + fixed.acidity + pH + free.sulfur.dioxide + total.sulfur.dioxide                                                 &  7                                                                                                                                                            & 0.7069441                                                                                                                                                    \\\\\n",
       "\t alcohol + volatile.acidity + residual.sugar + fixed.acidity + pH + free.sulfur.dioxide + total.sulfur.dioxide + sulphates                                     &  8                                                                                                                                                            & 0.7113508                                                                                                                                                    \\\\\n",
       "\t alcohol + volatile.acidity + residual.sugar + fixed.acidity + pH + free.sulfur.dioxide + total.sulfur.dioxide + sulphates + density                           &  9                                                                                                                                                            & 0.7100242                                                                                                                                                    \\\\\n",
       "\t alcohol + volatile.acidity + residual.sugar + fixed.acidity + pH + free.sulfur.dioxide + total.sulfur.dioxide + sulphates + density + chlorides               & 10                                                                                                                                                            & 0.7110649                                                                                                                                                    \\\\\n",
       "\t alcohol + volatile.acidity + residual.sugar + fixed.acidity + pH + free.sulfur.dioxide + total.sulfur.dioxide + sulphates + density + chlorides + citric.acid & 11                                                                                                                                                            & 0.7066451                                                                                                                                                    \\\\\n",
       "\\end{tabular}\n"
      ],
      "text/markdown": [
       "\n",
       "features | vars | measure | \n",
       "|---|---|---|---|---|---|---|---|---|---|---|\n",
       "| alcohol                                                                                                                                                       |  1                                                                                                                                                            | 0.6615126                                                                                                                                                     | \n",
       "| alcohol + volatile.acidity                                                                                                                                    |  2                                                                                                                                                            | 0.6907325                                                                                                                                                     | \n",
       "| alcohol + volatile.acidity + residual.sugar                                                                                                                   |  3                                                                                                                                                            | 0.7030342                                                                                                                                                     | \n",
       "| alcohol + volatile.acidity + residual.sugar + fixed.acidity                                                                                                   |  4                                                                                                                                                            | 0.7085137                                                                                                                                                     | \n",
       "| alcohol + volatile.acidity + residual.sugar + fixed.acidity + pH                                                                                              |  5                                                                                                                                                            | 0.7109202                                                                                                                                                     | \n",
       "| alcohol + volatile.acidity + residual.sugar + fixed.acidity + pH + free.sulfur.dioxide                                                                        |  6                                                                                                                                                            | 0.7072705                                                                                                                                                     | \n",
       "| alcohol + volatile.acidity + residual.sugar + fixed.acidity + pH + free.sulfur.dioxide + total.sulfur.dioxide                                                 |  7                                                                                                                                                            | 0.7069441                                                                                                                                                     | \n",
       "| alcohol + volatile.acidity + residual.sugar + fixed.acidity + pH + free.sulfur.dioxide + total.sulfur.dioxide + sulphates                                     |  8                                                                                                                                                            | 0.7113508                                                                                                                                                     | \n",
       "| alcohol + volatile.acidity + residual.sugar + fixed.acidity + pH + free.sulfur.dioxide + total.sulfur.dioxide + sulphates + density                           |  9                                                                                                                                                            | 0.7100242                                                                                                                                                     | \n",
       "| alcohol + volatile.acidity + residual.sugar + fixed.acidity + pH + free.sulfur.dioxide + total.sulfur.dioxide + sulphates + density + chlorides               | 10                                                                                                                                                            | 0.7110649                                                                                                                                                     | \n",
       "| alcohol + volatile.acidity + residual.sugar + fixed.acidity + pH + free.sulfur.dioxide + total.sulfur.dioxide + sulphates + density + chlorides + citric.acid | 11                                                                                                                                                            | 0.7066451                                                                                                                                                     | \n",
       "\n",
       "\n"
      ],
      "text/plain": [
       "   features                                                                                                                                                     \n",
       "1  alcohol                                                                                                                                                      \n",
       "2  alcohol + volatile.acidity                                                                                                                                   \n",
       "3  alcohol + volatile.acidity + residual.sugar                                                                                                                  \n",
       "4  alcohol + volatile.acidity + residual.sugar + fixed.acidity                                                                                                  \n",
       "5  alcohol + volatile.acidity + residual.sugar + fixed.acidity + pH                                                                                             \n",
       "6  alcohol + volatile.acidity + residual.sugar + fixed.acidity + pH + free.sulfur.dioxide                                                                       \n",
       "7  alcohol + volatile.acidity + residual.sugar + fixed.acidity + pH + free.sulfur.dioxide + total.sulfur.dioxide                                                \n",
       "8  alcohol + volatile.acidity + residual.sugar + fixed.acidity + pH + free.sulfur.dioxide + total.sulfur.dioxide + sulphates                                    \n",
       "9  alcohol + volatile.acidity + residual.sugar + fixed.acidity + pH + free.sulfur.dioxide + total.sulfur.dioxide + sulphates + density                          \n",
       "10 alcohol + volatile.acidity + residual.sugar + fixed.acidity + pH + free.sulfur.dioxide + total.sulfur.dioxide + sulphates + density + chlorides              \n",
       "11 alcohol + volatile.acidity + residual.sugar + fixed.acidity + pH + free.sulfur.dioxide + total.sulfur.dioxide + sulphates + density + chlorides + citric.acid\n",
       "   vars measure  \n",
       "1   1   0.6615126\n",
       "2   2   0.6907325\n",
       "3   3   0.7030342\n",
       "4   4   0.7085137\n",
       "5   5   0.7109202\n",
       "6   6   0.7072705\n",
       "7   7   0.7069441\n",
       "8   8   0.7113508\n",
       "9   9   0.7100242\n",
       "10 10   0.7110649\n",
       "11 11   0.7066451"
      ]
     },
     "metadata": {},
     "output_type": "display_data"
    }
   ],
   "source": [
    "step.auc$modelsData"
   ]
  },
  {
   "cell_type": "markdown",
   "metadata": {},
   "source": [
    "### 4.2 Forward Stepwise Subset Selection based on Model Accuracy"
   ]
  },
  {
   "cell_type": "code",
   "execution_count": 28,
   "metadata": {
    "collapsed": false,
    "scrolled": false
   },
   "outputs": [
    {
     "name": "stdout",
     "output_type": "stream",
     "text": [
      "\n",
      "best  accuracy :  0.7632824 \n",
      "\n",
      "One standard error rule: [ 0.7590543 , 0.7675105 ]\n",
      "\n",
      "optimal model features:  alcohol volatile.acidity residual.sugar\n",
      "number of variables:  3\n",
      "Call:\n",
      "glm(formula = quality ~ ., family = binomial, data = train)\n",
      "\n",
      "Deviance Residuals: \n",
      "    Min       1Q   Median       3Q      Max  \n",
      "-3.0811  -0.8962   0.4441   0.7935   2.3802  \n",
      "\n",
      "Coefficients:\n",
      "                 Estimate Std. Error z value Pr(>|z|)    \n",
      "(Intercept)       0.91291    0.04639  19.677  < 2e-16 ***\n",
      "alcohol           1.32692    0.05965  22.245  < 2e-16 ***\n",
      "volatile.acidity -0.70393    0.04884 -14.413  < 2e-16 ***\n",
      "residual.sugar    0.29616    0.04567   6.485 8.89e-11 ***\n",
      "---\n",
      "Signif. codes:  0 '***' 0.001 '**' 0.01 '*' 0.05 '.' 0.1 ' ' 1\n",
      "\n",
      "(Dispersion parameter for binomial family taken to be 1)\n",
      "\n",
      "    Null deviance: 4194.0  on 3282  degrees of freedom\n",
      "Residual deviance: 3292.5  on 3279  degrees of freedom\n",
      "AIC: 3300.5\n",
      "\n",
      "Number of Fisher Scoring iterations: 5\n",
      "\n"
     ]
    }
   ],
   "source": [
    "step.accuracy <- stepwise(training.data, 'quality', 'good', 'bad', 'accuracy')"
   ]
  },
  {
   "cell_type": "markdown",
   "metadata": {},
   "source": [
    "**Analysis of the results**\n",
    "\n",
    "**K-fold CV AUC**:\n",
    "<br/>Upon performing 10-fold cross validation, its mean accuracy is computed to be 0.76, which is very similar to the accuracy of the full data without cross validation.\n",
    "\n",
    "**Chosen model**:\n",
    "<br/>After considering the one standard error rule, results show that the method has picked 3 variables as the optimal features, namely **alcohol**, **volatile.acidity**, and **residual.sugar**. The coefficients of the chosen features are very high in magnitude, which indicates that these variables are significant.\n",
    "\n",
    "`quality ~ alcohol + volatile.acidity + residual.sugar`\n",
    "\n",
    "**Null and residual deviance**:\n",
    "The residual deviance is lower than the null deviance which describes an improvement on the fit when the features were added to the model.\n",
    "\n",
    "**AIC**:\n",
    "The resulting AIC is 3300, which is an increase from the full model.\n"
   ]
  },
  {
   "cell_type": "code",
   "execution_count": 29,
   "metadata": {
    "collapsed": false
   },
   "outputs": [
    {
     "data": {
      "text/html": [
       "<table>\n",
       "<thead><tr><th scope=col>features</th><th scope=col>vars</th><th scope=col>measure</th></tr></thead>\n",
       "<tbody>\n",
       "\t<tr><td>alcohol                                                                                                                                                      </td><td> 1                                                                                                                                                           </td><td>0.7155714                                                                                                                                                    </td></tr>\n",
       "\t<tr><td>alcohol + volatile.acidity                                                                                                                                   </td><td> 2                                                                                                                                                           </td><td>0.7489107                                                                                                                                                    </td></tr>\n",
       "\t<tr><td>alcohol + volatile.acidity + residual.sugar                                                                                                                  </td><td> 3                                                                                                                                                           </td><td>0.7607188                                                                                                                                                    </td></tr>\n",
       "\t<tr><td>alcohol + volatile.acidity + residual.sugar + free.sulfur.dioxide                                                                                            </td><td> 4                                                                                                                                                           </td><td>0.7618225                                                                                                                                                    </td></tr>\n",
       "\t<tr><td>alcohol + volatile.acidity + residual.sugar + free.sulfur.dioxide + citric.acid                                                                              </td><td> 5                                                                                                                                                           </td><td>0.7619598                                                                                                                                                    </td></tr>\n",
       "\t<tr><td>alcohol + volatile.acidity + residual.sugar + free.sulfur.dioxide + citric.acid + total.sulfur.dioxide                                                       </td><td> 6                                                                                                                                                           </td><td>0.7610138                                                                                                                                                    </td></tr>\n",
       "\t<tr><td>alcohol + volatile.acidity + residual.sugar + free.sulfur.dioxide + citric.acid + total.sulfur.dioxide + sulphates                                           </td><td> 7                                                                                                                                                           </td><td>0.7606728                                                                                                                                                    </td></tr>\n",
       "\t<tr><td>alcohol + volatile.acidity + residual.sugar + free.sulfur.dioxide + citric.acid + total.sulfur.dioxide + sulphates + pH                                      </td><td> 8                                                                                                                                                           </td><td>0.7615558                                                                                                                                                    </td></tr>\n",
       "\t<tr><td>alcohol + volatile.acidity + residual.sugar + free.sulfur.dioxide + citric.acid + total.sulfur.dioxide + sulphates + pH + fixed.acidity                      </td><td> 9                                                                                                                                                           </td><td>0.7632824                                                                                                                                                    </td></tr>\n",
       "\t<tr><td>alcohol + volatile.acidity + residual.sugar + free.sulfur.dioxide + citric.acid + total.sulfur.dioxide + sulphates + pH + fixed.acidity + chlorides          </td><td>10                                                                                                                                                           </td><td>0.7617774                                                                                                                                                    </td></tr>\n",
       "\t<tr><td>alcohol + volatile.acidity + residual.sugar + free.sulfur.dioxide + citric.acid + total.sulfur.dioxide + sulphates + pH + fixed.acidity + chlorides + density</td><td>11                                                                                                                                                           </td><td>0.7611291                                                                                                                                                    </td></tr>\n",
       "</tbody>\n",
       "</table>\n"
      ],
      "text/latex": [
       "\\begin{tabular}{r|lll}\n",
       " features & vars & measure\\\\\n",
       "\\hline\n",
       "\t alcohol                                                                                                                                                       &  1                                                                                                                                                            & 0.7155714                                                                                                                                                    \\\\\n",
       "\t alcohol + volatile.acidity                                                                                                                                    &  2                                                                                                                                                            & 0.7489107                                                                                                                                                    \\\\\n",
       "\t alcohol + volatile.acidity + residual.sugar                                                                                                                   &  3                                                                                                                                                            & 0.7607188                                                                                                                                                    \\\\\n",
       "\t alcohol + volatile.acidity + residual.sugar + free.sulfur.dioxide                                                                                             &  4                                                                                                                                                            & 0.7618225                                                                                                                                                    \\\\\n",
       "\t alcohol + volatile.acidity + residual.sugar + free.sulfur.dioxide + citric.acid                                                                               &  5                                                                                                                                                            & 0.7619598                                                                                                                                                    \\\\\n",
       "\t alcohol + volatile.acidity + residual.sugar + free.sulfur.dioxide + citric.acid + total.sulfur.dioxide                                                        &  6                                                                                                                                                            & 0.7610138                                                                                                                                                    \\\\\n",
       "\t alcohol + volatile.acidity + residual.sugar + free.sulfur.dioxide + citric.acid + total.sulfur.dioxide + sulphates                                            &  7                                                                                                                                                            & 0.7606728                                                                                                                                                    \\\\\n",
       "\t alcohol + volatile.acidity + residual.sugar + free.sulfur.dioxide + citric.acid + total.sulfur.dioxide + sulphates + pH                                       &  8                                                                                                                                                            & 0.7615558                                                                                                                                                    \\\\\n",
       "\t alcohol + volatile.acidity + residual.sugar + free.sulfur.dioxide + citric.acid + total.sulfur.dioxide + sulphates + pH + fixed.acidity                       &  9                                                                                                                                                            & 0.7632824                                                                                                                                                    \\\\\n",
       "\t alcohol + volatile.acidity + residual.sugar + free.sulfur.dioxide + citric.acid + total.sulfur.dioxide + sulphates + pH + fixed.acidity + chlorides           & 10                                                                                                                                                            & 0.7617774                                                                                                                                                    \\\\\n",
       "\t alcohol + volatile.acidity + residual.sugar + free.sulfur.dioxide + citric.acid + total.sulfur.dioxide + sulphates + pH + fixed.acidity + chlorides + density & 11                                                                                                                                                            & 0.7611291                                                                                                                                                    \\\\\n",
       "\\end{tabular}\n"
      ],
      "text/markdown": [
       "\n",
       "features | vars | measure | \n",
       "|---|---|---|---|---|---|---|---|---|---|---|\n",
       "| alcohol                                                                                                                                                       |  1                                                                                                                                                            | 0.7155714                                                                                                                                                     | \n",
       "| alcohol + volatile.acidity                                                                                                                                    |  2                                                                                                                                                            | 0.7489107                                                                                                                                                     | \n",
       "| alcohol + volatile.acidity + residual.sugar                                                                                                                   |  3                                                                                                                                                            | 0.7607188                                                                                                                                                     | \n",
       "| alcohol + volatile.acidity + residual.sugar + free.sulfur.dioxide                                                                                             |  4                                                                                                                                                            | 0.7618225                                                                                                                                                     | \n",
       "| alcohol + volatile.acidity + residual.sugar + free.sulfur.dioxide + citric.acid                                                                               |  5                                                                                                                                                            | 0.7619598                                                                                                                                                     | \n",
       "| alcohol + volatile.acidity + residual.sugar + free.sulfur.dioxide + citric.acid + total.sulfur.dioxide                                                        |  6                                                                                                                                                            | 0.7610138                                                                                                                                                     | \n",
       "| alcohol + volatile.acidity + residual.sugar + free.sulfur.dioxide + citric.acid + total.sulfur.dioxide + sulphates                                            |  7                                                                                                                                                            | 0.7606728                                                                                                                                                     | \n",
       "| alcohol + volatile.acidity + residual.sugar + free.sulfur.dioxide + citric.acid + total.sulfur.dioxide + sulphates + pH                                       |  8                                                                                                                                                            | 0.7615558                                                                                                                                                     | \n",
       "| alcohol + volatile.acidity + residual.sugar + free.sulfur.dioxide + citric.acid + total.sulfur.dioxide + sulphates + pH + fixed.acidity                       |  9                                                                                                                                                            | 0.7632824                                                                                                                                                     | \n",
       "| alcohol + volatile.acidity + residual.sugar + free.sulfur.dioxide + citric.acid + total.sulfur.dioxide + sulphates + pH + fixed.acidity + chlorides           | 10                                                                                                                                                            | 0.7617774                                                                                                                                                     | \n",
       "| alcohol + volatile.acidity + residual.sugar + free.sulfur.dioxide + citric.acid + total.sulfur.dioxide + sulphates + pH + fixed.acidity + chlorides + density | 11                                                                                                                                                            | 0.7611291                                                                                                                                                     | \n",
       "\n",
       "\n"
      ],
      "text/plain": [
       "   features                                                                                                                                                     \n",
       "1  alcohol                                                                                                                                                      \n",
       "2  alcohol + volatile.acidity                                                                                                                                   \n",
       "3  alcohol + volatile.acidity + residual.sugar                                                                                                                  \n",
       "4  alcohol + volatile.acidity + residual.sugar + free.sulfur.dioxide                                                                                            \n",
       "5  alcohol + volatile.acidity + residual.sugar + free.sulfur.dioxide + citric.acid                                                                              \n",
       "6  alcohol + volatile.acidity + residual.sugar + free.sulfur.dioxide + citric.acid + total.sulfur.dioxide                                                       \n",
       "7  alcohol + volatile.acidity + residual.sugar + free.sulfur.dioxide + citric.acid + total.sulfur.dioxide + sulphates                                           \n",
       "8  alcohol + volatile.acidity + residual.sugar + free.sulfur.dioxide + citric.acid + total.sulfur.dioxide + sulphates + pH                                      \n",
       "9  alcohol + volatile.acidity + residual.sugar + free.sulfur.dioxide + citric.acid + total.sulfur.dioxide + sulphates + pH + fixed.acidity                      \n",
       "10 alcohol + volatile.acidity + residual.sugar + free.sulfur.dioxide + citric.acid + total.sulfur.dioxide + sulphates + pH + fixed.acidity + chlorides          \n",
       "11 alcohol + volatile.acidity + residual.sugar + free.sulfur.dioxide + citric.acid + total.sulfur.dioxide + sulphates + pH + fixed.acidity + chlorides + density\n",
       "   vars measure  \n",
       "1   1   0.7155714\n",
       "2   2   0.7489107\n",
       "3   3   0.7607188\n",
       "4   4   0.7618225\n",
       "5   5   0.7619598\n",
       "6   6   0.7610138\n",
       "7   7   0.7606728\n",
       "8   8   0.7615558\n",
       "9   9   0.7632824\n",
       "10 10   0.7617774\n",
       "11 11   0.7611291"
      ]
     },
     "metadata": {},
     "output_type": "display_data"
    }
   ],
   "source": [
    "step.accuracy$modelsData"
   ]
  },
  {
   "cell_type": "markdown",
   "metadata": {},
   "source": [
    "### 4.3 Forward Stepwise Subset Selection based on Model AIC\n",
    "When getting the best subset of features based on AIC, we have to get the feature that has the smallest AIC."
   ]
  },
  {
   "cell_type": "code",
   "execution_count": 30,
   "metadata": {
    "collapsed": false
   },
   "outputs": [
    {
     "name": "stdout",
     "output_type": "stream",
     "text": [
      "\n",
      "best  aic :  2922.866 \n",
      "\n",
      "One standard error rule: [ 2897.217 , 2948.515 ]\n",
      "\n",
      "optimal model features:  alcohol volatile.acidity residual.sugar fixed.acidity sulphates\n",
      "number of variables:  5\n",
      "Call:\n",
      "glm(formula = quality ~ ., family = binomial, data = train)\n",
      "\n",
      "Deviance Residuals: \n",
      "    Min       1Q   Median       3Q      Max  \n",
      "-3.1068  -0.8794   0.4276   0.7822   2.4777  \n",
      "\n",
      "Coefficients:\n",
      "                 Estimate Std. Error z value Pr(>|z|)    \n",
      "(Intercept)       0.93216    0.04709  19.796  < 2e-16 ***\n",
      "alcohol           1.33749    0.06035  22.162  < 2e-16 ***\n",
      "volatile.acidity -0.72638    0.04999 -14.531  < 2e-16 ***\n",
      "residual.sugar    0.30929    0.04604   6.718 1.84e-11 ***\n",
      "fixed.acidity    -0.21335    0.04291  -4.973 6.61e-07 ***\n",
      "sulphates         0.20228    0.04744   4.263 2.01e-05 ***\n",
      "---\n",
      "Signif. codes:  0 '***' 0.001 '**' 0.01 '*' 0.05 '.' 0.1 ' ' 1\n",
      "\n",
      "(Dispersion parameter for binomial family taken to be 1)\n",
      "\n",
      "    Null deviance: 4194.0  on 3282  degrees of freedom\n",
      "Residual deviance: 3248.9  on 3277  degrees of freedom\n",
      "AIC: 3260.9\n",
      "\n",
      "Number of Fisher Scoring iterations: 5\n",
      "\n"
     ]
    }
   ],
   "source": [
    "step.aic <-  stepwise(training.data, 'quality', 'good', 'bad', 'aic')"
   ]
  },
  {
   "cell_type": "markdown",
   "metadata": {},
   "source": [
    "**Analysis of the results**\n",
    "\n",
    "**K-fold CV AUC**:\n",
    "<br/>Upon performing 10-fold cross validation, its mean AIC is computed to be around 2922, which is an improvement to the AIC of the full model.\n",
    "\n",
    "**Chosen model**:\n",
    "<br/>After considering the one standard error rule, results show that the method has picked 5 variables as the optimal features, namely **alcohol**, **volatile.acidity**, **residual.sugar**, **fixed acidity**, and **sulphates**. The coefficients of the chosen features are very high in magnitude, which indicates that this variable is significant. However, we can notice that the magnitude of the coefficients decrease as we add more features, showing that these features are less significant.\n",
    "\n",
    "`quality ~ alcohol + volatile.acidity + residual.sugar + fixed.acidity + sulphates`\n",
    "\n",
    "**Null and residual deviance**:\n",
    "<br/>The null deviance, which describes the performance of the model if we only include the intercept, is at around ~4200. The residual deviance at ~3300 indicates an improvement to the fit.\n",
    "\n",
    "**AIC:**\n",
    "<br/>The resulting AIC of 3260 is pretty similar to the full model's AIC of 3251. This means we were able to simplify the model without compromising the goodness-of-fit measure.\n",
    "\n",
    "The table below shows how stepwise selection selected the best models per *i* features. "
   ]
  },
  {
   "cell_type": "code",
   "execution_count": 31,
   "metadata": {
    "collapsed": false
   },
   "outputs": [
    {
     "data": {
      "text/html": [
       "<table>\n",
       "<thead><tr><th scope=col>features</th><th scope=col>vars</th><th scope=col>measure</th></tr></thead>\n",
       "<tbody>\n",
       "\t<tr><td>alcohol                                                                                                                                                      </td><td> 1                                                                                                                                                           </td><td>3210.032                                                                                                                                                     </td></tr>\n",
       "\t<tr><td>alcohol + volatile.acidity                                                                                                                                   </td><td> 2                                                                                                                                                           </td><td>3008.069                                                                                                                                                     </td></tr>\n",
       "\t<tr><td>alcohol + volatile.acidity + residual.sugar                                                                                                                  </td><td> 3                                                                                                                                                           </td><td>2970.836                                                                                                                                                     </td></tr>\n",
       "\t<tr><td>alcohol + volatile.acidity + residual.sugar + fixed.acidity                                                                                                  </td><td> 4                                                                                                                                                           </td><td>2950.382                                                                                                                                                     </td></tr>\n",
       "\t<tr><td>alcohol + volatile.acidity + residual.sugar + fixed.acidity + sulphates                                                                                      </td><td> 5                                                                                                                                                           </td><td>2935.500                                                                                                                                                     </td></tr>\n",
       "\t<tr><td>alcohol + volatile.acidity + residual.sugar + fixed.acidity + sulphates + free.sulfur.dioxide                                                                </td><td> 6                                                                                                                                                           </td><td>2927.573                                                                                                                                                     </td></tr>\n",
       "\t<tr><td>alcohol + volatile.acidity + residual.sugar + fixed.acidity + sulphates + free.sulfur.dioxide + pH                                                           </td><td> 7                                                                                                                                                           </td><td>2927.118                                                                                                                                                     </td></tr>\n",
       "\t<tr><td>alcohol + volatile.acidity + residual.sugar + fixed.acidity + sulphates + free.sulfur.dioxide + pH + density                                                 </td><td> 8                                                                                                                                                           </td><td>2922.866                                                                                                                                                     </td></tr>\n",
       "\t<tr><td>alcohol + volatile.acidity + residual.sugar + fixed.acidity + sulphates + free.sulfur.dioxide + pH + density + total.sulfur.dioxide                          </td><td> 9                                                                                                                                                           </td><td>2923.725                                                                                                                                                     </td></tr>\n",
       "\t<tr><td>alcohol + volatile.acidity + residual.sugar + fixed.acidity + sulphates + free.sulfur.dioxide + pH + density + total.sulfur.dioxide + citric.acid            </td><td>10                                                                                                                                                           </td><td>2925.138                                                                                                                                                     </td></tr>\n",
       "\t<tr><td>alcohol + volatile.acidity + residual.sugar + fixed.acidity + sulphates + free.sulfur.dioxide + pH + density + total.sulfur.dioxide + citric.acid + chlorides</td><td>11                                                                                                                                                           </td><td>2926.762                                                                                                                                                     </td></tr>\n",
       "</tbody>\n",
       "</table>\n"
      ],
      "text/latex": [
       "\\begin{tabular}{r|lll}\n",
       " features & vars & measure\\\\\n",
       "\\hline\n",
       "\t alcohol                                                                                                                                                       &  1                                                                                                                                                            & 3210.032                                                                                                                                                     \\\\\n",
       "\t alcohol + volatile.acidity                                                                                                                                    &  2                                                                                                                                                            & 3008.069                                                                                                                                                     \\\\\n",
       "\t alcohol + volatile.acidity + residual.sugar                                                                                                                   &  3                                                                                                                                                            & 2970.836                                                                                                                                                     \\\\\n",
       "\t alcohol + volatile.acidity + residual.sugar + fixed.acidity                                                                                                   &  4                                                                                                                                                            & 2950.382                                                                                                                                                     \\\\\n",
       "\t alcohol + volatile.acidity + residual.sugar + fixed.acidity + sulphates                                                                                       &  5                                                                                                                                                            & 2935.500                                                                                                                                                     \\\\\n",
       "\t alcohol + volatile.acidity + residual.sugar + fixed.acidity + sulphates + free.sulfur.dioxide                                                                 &  6                                                                                                                                                            & 2927.573                                                                                                                                                     \\\\\n",
       "\t alcohol + volatile.acidity + residual.sugar + fixed.acidity + sulphates + free.sulfur.dioxide + pH                                                            &  7                                                                                                                                                            & 2927.118                                                                                                                                                     \\\\\n",
       "\t alcohol + volatile.acidity + residual.sugar + fixed.acidity + sulphates + free.sulfur.dioxide + pH + density                                                  &  8                                                                                                                                                            & 2922.866                                                                                                                                                     \\\\\n",
       "\t alcohol + volatile.acidity + residual.sugar + fixed.acidity + sulphates + free.sulfur.dioxide + pH + density + total.sulfur.dioxide                           &  9                                                                                                                                                            & 2923.725                                                                                                                                                     \\\\\n",
       "\t alcohol + volatile.acidity + residual.sugar + fixed.acidity + sulphates + free.sulfur.dioxide + pH + density + total.sulfur.dioxide + citric.acid             & 10                                                                                                                                                            & 2925.138                                                                                                                                                     \\\\\n",
       "\t alcohol + volatile.acidity + residual.sugar + fixed.acidity + sulphates + free.sulfur.dioxide + pH + density + total.sulfur.dioxide + citric.acid + chlorides & 11                                                                                                                                                            & 2926.762                                                                                                                                                     \\\\\n",
       "\\end{tabular}\n"
      ],
      "text/markdown": [
       "\n",
       "features | vars | measure | \n",
       "|---|---|---|---|---|---|---|---|---|---|---|\n",
       "| alcohol                                                                                                                                                       |  1                                                                                                                                                            | 3210.032                                                                                                                                                      | \n",
       "| alcohol + volatile.acidity                                                                                                                                    |  2                                                                                                                                                            | 3008.069                                                                                                                                                      | \n",
       "| alcohol + volatile.acidity + residual.sugar                                                                                                                   |  3                                                                                                                                                            | 2970.836                                                                                                                                                      | \n",
       "| alcohol + volatile.acidity + residual.sugar + fixed.acidity                                                                                                   |  4                                                                                                                                                            | 2950.382                                                                                                                                                      | \n",
       "| alcohol + volatile.acidity + residual.sugar + fixed.acidity + sulphates                                                                                       |  5                                                                                                                                                            | 2935.500                                                                                                                                                      | \n",
       "| alcohol + volatile.acidity + residual.sugar + fixed.acidity + sulphates + free.sulfur.dioxide                                                                 |  6                                                                                                                                                            | 2927.573                                                                                                                                                      | \n",
       "| alcohol + volatile.acidity + residual.sugar + fixed.acidity + sulphates + free.sulfur.dioxide + pH                                                            |  7                                                                                                                                                            | 2927.118                                                                                                                                                      | \n",
       "| alcohol + volatile.acidity + residual.sugar + fixed.acidity + sulphates + free.sulfur.dioxide + pH + density                                                  |  8                                                                                                                                                            | 2922.866                                                                                                                                                      | \n",
       "| alcohol + volatile.acidity + residual.sugar + fixed.acidity + sulphates + free.sulfur.dioxide + pH + density + total.sulfur.dioxide                           |  9                                                                                                                                                            | 2923.725                                                                                                                                                      | \n",
       "| alcohol + volatile.acidity + residual.sugar + fixed.acidity + sulphates + free.sulfur.dioxide + pH + density + total.sulfur.dioxide + citric.acid             | 10                                                                                                                                                            | 2925.138                                                                                                                                                      | \n",
       "| alcohol + volatile.acidity + residual.sugar + fixed.acidity + sulphates + free.sulfur.dioxide + pH + density + total.sulfur.dioxide + citric.acid + chlorides | 11                                                                                                                                                            | 2926.762                                                                                                                                                      | \n",
       "\n",
       "\n"
      ],
      "text/plain": [
       "   features                                                                                                                                                     \n",
       "1  alcohol                                                                                                                                                      \n",
       "2  alcohol + volatile.acidity                                                                                                                                   \n",
       "3  alcohol + volatile.acidity + residual.sugar                                                                                                                  \n",
       "4  alcohol + volatile.acidity + residual.sugar + fixed.acidity                                                                                                  \n",
       "5  alcohol + volatile.acidity + residual.sugar + fixed.acidity + sulphates                                                                                      \n",
       "6  alcohol + volatile.acidity + residual.sugar + fixed.acidity + sulphates + free.sulfur.dioxide                                                                \n",
       "7  alcohol + volatile.acidity + residual.sugar + fixed.acidity + sulphates + free.sulfur.dioxide + pH                                                           \n",
       "8  alcohol + volatile.acidity + residual.sugar + fixed.acidity + sulphates + free.sulfur.dioxide + pH + density                                                 \n",
       "9  alcohol + volatile.acidity + residual.sugar + fixed.acidity + sulphates + free.sulfur.dioxide + pH + density + total.sulfur.dioxide                          \n",
       "10 alcohol + volatile.acidity + residual.sugar + fixed.acidity + sulphates + free.sulfur.dioxide + pH + density + total.sulfur.dioxide + citric.acid            \n",
       "11 alcohol + volatile.acidity + residual.sugar + fixed.acidity + sulphates + free.sulfur.dioxide + pH + density + total.sulfur.dioxide + citric.acid + chlorides\n",
       "   vars measure \n",
       "1   1   3210.032\n",
       "2   2   3008.069\n",
       "3   3   2970.836\n",
       "4   4   2950.382\n",
       "5   5   2935.500\n",
       "6   6   2927.573\n",
       "7   7   2927.118\n",
       "8   8   2922.866\n",
       "9   9   2923.725\n",
       "10 10   2925.138\n",
       "11 11   2926.762"
      ]
     },
     "metadata": {},
     "output_type": "display_data"
    }
   ],
   "source": [
    "step.aic$modelsData"
   ]
  },
  {
   "cell_type": "markdown",
   "metadata": {},
   "source": [
    "### 4.4 Analysis of Stepwise Logistic Regression Models\n",
    "\n",
    "In here, I plotted the performance of the different stepwise models created. To do this, I used `ggplot`'s `qplot()` to make a pretty scatterplot. The selected number of features (blue) and the feature with the best metric (red) are highlighted. "
   ]
  },
  {
   "cell_type": "code",
   "execution_count": 32,
   "metadata": {
    "collapsed": false
   },
   "outputs": [
    {
     "data": {
      "image/png": "[encoded data removed]",
      "text/plain": [
       "plot without title"
      ]
     },
     "metadata": {},
     "output_type": "display_data"
    }
   ],
   "source": [
    "######################## Plot the model performance ##############################\n",
    "\n",
    "# aggregate by getting the max measures per variable qty.\n",
    "auc.data <- step.auc$modelsData[-1] \n",
    "auc.measure <- aggregate(auc.data, by = list(variables = auc.data$vars), FUN = max)\n",
    "\n",
    "acc.data <- step.accuracy$modelsData[-1]\n",
    "acc.measure <- aggregate(acc.data, by = list(variables = acc.data$vars), FUN = max)\n",
    "\n",
    "aic.data <- step.aic$modelsData[-1]\n",
    "aic.measure <- aggregate(aic.data, by = list(variables = aic.data$vars), FUN = min)\n",
    "\n",
    "# get the x-intercept aka the number of variables in the model\n",
    "auc.xint <- length(step.auc$includedFeatures)\n",
    "acc.xint <- length(step.accuracy$includedFeatures)\n",
    "aic.xint <- length(step.aic$includedFeatures)\n",
    "\n",
    "# plot them\n",
    "auc.plot <- qplot(auc.measure$variables, auc.measure$measure, xlab = 'Number of variables', ylab = 'AUC score') \n",
    "auc.plot <- auc.plot + geom_hline(yintercept = max(auc.measure$measure), color = 'red') + scale_x_continuous(breaks = c(1:11))\n",
    "auc.plot <- auc.plot + geom_vline(xintercept = auc.xint, color = 'blue')\n",
    "\n",
    "acc.plot <- qplot(acc.measure$variables, acc.measure$measure, xlab = 'Number of variables', ylab = 'Accuracy')\n",
    "acc.plot <- acc.plot + geom_hline(yintercept = max(acc.measure$measure), color = 'red') + scale_x_continuous(breaks = c(1:11))\n",
    "acc.plot <- acc.plot + geom_vline(xintercept = acc.xint, color = 'blue')\n",
    "\n",
    "aic.plot <- qplot(aic.measure$variables, aic.measure$measure, xlab = 'Number of variables', ylab = 'AIC')\n",
    "aic.plot <- aic.plot + geom_hline(yintercept = min(aic.measure$measure), color = 'red') + scale_x_continuous(breaks = c(1:11))\n",
    "aic.plot <- aic.plot + geom_vline(xintercept = aic.xint, color = 'blue')\n",
    "\n",
    "grid.arrange(auc.plot, acc.plot, aic.plot, ncol=2)"
   ]
  },
  {
   "cell_type": "markdown",
   "metadata": {},
   "source": [
    "**Analysis**\n",
    "\n",
    "The graphs show that the metric values converge as the number of variables increase, and that the stepwise algorithm is selecting the number of variables where the convergence starts. This illustrates the **importance of using the one-standard error rule**. Due to the randomness and uncertainty introduced in cross-validation, the resulting AUCs, accuracies, and AICs of the models will fluctuate within a specific range, so it is more prudent to take this into account and pick the simplest model. \n",
    "\n",
    "**Testing the Models**\n",
    "\n",
    "The three derived models can now be used against the test data to assess their performance."
   ]
  },
  {
   "cell_type": "code",
   "execution_count": 33,
   "metadata": {
    "collapsed": false
   },
   "outputs": [
    {
     "name": "stdout",
     "output_type": "stream",
     "text": [
      "\n",
      "test data accuracy:  0.7020649\n",
      "test data auc:  0.6443025"
     ]
    }
   ],
   "source": [
    "positive <- 'good'\n",
    "negative <- 'bad'\n",
    "\n",
    "# predict the test data using the model\n",
    "probs <- predict(step.auc$bestModel, testing.data, type = \"response\")\n",
    "pred.glm <- rep(positive, length(probs))\n",
    "pred.glm[probs < 0.5] <- negative\n",
    "acc<- confusionMatrix(pred.glm, testing.data$quality, positive = positive)$overall['Accuracy']\n",
    "cat(\"\\ntest data accuracy: \", acc)\n",
    "auc <- roc(as.numeric(testing.data$quality), as.numeric(factor(pred.glm)))$auc\n",
    "cat(\"\\ntest data auc: \", auc)\n",
    "test.models[iter,'index'] <- iter\n",
    "test.models[iter,'model'] <- 'stepwise - AUC'\n",
    "test.models[iter,'auc.score'] <- auc\n",
    "iter <- iter + 1"
   ]
  },
  {
   "cell_type": "code",
   "execution_count": 34,
   "metadata": {
    "collapsed": false
   },
   "outputs": [
    {
     "name": "stdout",
     "output_type": "stream",
     "text": [
      "\n",
      "test data accuracy:  0.7020649\n",
      "test data auc:  0.6452107"
     ]
    }
   ],
   "source": [
    "# predict the test data using the model\n",
    "probs <- predict(step.accuracy$bestModel, testing.data, type = \"response\")\n",
    "pred.glm <- rep(positive, length(probs))\n",
    "pred.glm[probs < 0.5] <- negative\n",
    "acc<- confusionMatrix(pred.glm, testing.data$quality, positive = positive)$overall['Accuracy']\n",
    "cat(\"\\ntest data accuracy: \", acc)\n",
    "auc <- roc(as.numeric(testing.data$quality), as.numeric(factor(pred.glm)))$auc\n",
    "cat(\"\\ntest data auc: \", auc)\n",
    "test.models[iter,'index'] <- iter\n",
    "test.models[iter,'model'] <- 'stepwise - Accuracy'\n",
    "test.models[iter,'auc.score'] <- auc\n",
    "iter <- iter + 1"
   ]
  },
  {
   "cell_type": "code",
   "execution_count": 35,
   "metadata": {
    "collapsed": false
   },
   "outputs": [
    {
     "name": "stdout",
     "output_type": "stream",
     "text": [
      "\n",
      "test data accuracy:  0.7064897\n",
      "test data auc:  0.6513836"
     ]
    }
   ],
   "source": [
    "# predict the test data using the model\n",
    "probs <- predict(step.aic$bestModel, testing.data, type = \"response\")\n",
    "pred.glm <- rep(negative, length(probs))\n",
    "pred.glm[probs > 0.5] <- positive\n",
    "acc<- confusionMatrix(pred.glm, testing.data$quality, positive = positive)$overall['Accuracy']\n",
    "cat(\"\\ntest data accuracy: \", acc)\n",
    "auc <- roc(as.numeric(testing.data$quality), as.numeric(factor(pred.glm)))$auc\n",
    "cat(\"\\ntest data auc: \", auc)\n",
    "test.models[iter,'index'] <- iter\n",
    "test.models[iter,'model'] <- 'stepwise - AIC'\n",
    "test.models[iter,'auc.score'] <- auc\n",
    "iter <- iter + 1"
   ]
  },
  {
   "cell_type": "code",
   "execution_count": 36,
   "metadata": {
    "collapsed": false
   },
   "outputs": [
    {
     "name": "stdout",
     "output_type": "stream",
     "text": [
      "Test Predictions AUC Scores"
     ]
    },
    {
     "data": {
      "text/html": [
       "<table>\n",
       "<thead><tr><th scope=col>index</th><th scope=col>model</th><th scope=col>auc.score</th></tr></thead>\n",
       "<tbody>\n",
       "\t<tr><td>1                  </td><td>stepwise - AUC     </td><td>0.6443025          </td></tr>\n",
       "\t<tr><td>2                  </td><td>stepwise - Accuracy</td><td>0.6452107          </td></tr>\n",
       "\t<tr><td>3                  </td><td>stepwise - AIC     </td><td>0.6513836          </td></tr>\n",
       "</tbody>\n",
       "</table>\n"
      ],
      "text/latex": [
       "\\begin{tabular}{r|lll}\n",
       " index & model & auc.score\\\\\n",
       "\\hline\n",
       "\t 1                   & stepwise - AUC      & 0.6443025          \\\\\n",
       "\t 2                   & stepwise - Accuracy & 0.6452107          \\\\\n",
       "\t 3                   & stepwise - AIC      & 0.6513836          \\\\\n",
       "\\end{tabular}\n"
      ],
      "text/markdown": [
       "\n",
       "index | model | auc.score | \n",
       "|---|---|---|\n",
       "| 1                   | stepwise - AUC      | 0.6443025           | \n",
       "| 2                   | stepwise - Accuracy | 0.6452107           | \n",
       "| 3                   | stepwise - AIC      | 0.6513836           | \n",
       "\n",
       "\n"
      ],
      "text/plain": [
       "  index model               auc.score\n",
       "1 1     stepwise - AUC      0.6443025\n",
       "2 2     stepwise - Accuracy 0.6452107\n",
       "3 3     stepwise - AIC      0.6513836"
      ]
     },
     "metadata": {},
     "output_type": "display_data"
    }
   ],
   "source": [
    "cat(\"Test Predictions AUC Scores\")\n",
    "na.omit(test.models)"
   ]
  },
  {
   "cell_type": "markdown",
   "metadata": {},
   "source": [
    "** How are the performance of the models versus the test set?**\n",
    "\n",
    "Performance-wise, the results of the models are very underwhelming. The model at its most basic (or dumbest) could predict everything as 'good' and would still have 0.64 accuracy $\\frac{435}{(435+243)}$ and 0.5 auc score. A 5% improvement in accuracy and 15% improvement in AUC score is not really a huge leap forward. However, it is still an improvement with respect to the full model, because the resulting accuracy and auc scores are the same, even with lesser features."
   ]
  },
  {
   "cell_type": "markdown",
   "metadata": {},
   "source": [
    "## 5. Regularization\n",
    "\n",
    "The next method of improving fit is by using *regularization*. Regularization works by adding a *shrinkage penalty* to the existing model that reduces the coefficients (or the weights) of the features and leads to a drop in the model's variance. \n",
    "\n",
    "As seen in the part 4 of the assessment, performing stepwise selection is an onerous task, and this becomes an issue as the number of features reach to $\\infty$. The preferred alternative, therefore, is to just add a penalty to the existing model in order to shrink the coefficients to zero and prevent overfitting.\n",
    "\n",
    "The objective of regularization, then, is to minimize the error function\n",
    "\n",
    "$$\n",
    "E(\\pmb{w}) = \\sum_{i=1}^{n} (\\pmb{y}_\\text{pred} - \\pmb{y}_i)^2 + \\lambda *\\sum_{j=1}^{m}(||\\pmb{w}_j||^q)\n",
    "$$\n",
    "\n",
    "where\n",
    "\n",
    "$\\pmb{y}_\\text{pred} = \\pmb{w_0} + \\pmb{w_1}.\\mathbf{x_1} + ... + \\pmb{w_i}.\\mathbf{x_i}$ which is called the odds of logistic regression.\n",
    "\n",
    "Note: the main feature of regularization is just the added term \"$\\lambda *||\\pmb{w}||^q$\" that forces the coefficients to shrink.\n",
    "\n",
    "There are two types of regularization, depending on the value of **q** above:\n",
    "\n",
    "1. **Ridge Regularization** - also known as L2 penalty, this is when q = 2.  \n",
    "2. **Lasso Regularization** - also known as L1 penalty, this is when q = 1.\n",
    "\n",
    "The shrinking effect of these two regularizations will be further discussed below.\n",
    "\n",
    "**Tuning Shrinkage Penalty**\n",
    "\n",
    "The goal of selecting the best shrinkage penalty, $\\lambda$, is very important to regularization. This is related to the bias-variance tradeoff. An increased $\\lambda$ leads to a (dramatic) decrease in variance but only a (slight) increase in bias. On the other hand, as $\\lambda$ approaches 0, the variance increases. An intermediate value of $\\lambda$ will lead to a moderate level of variance and minimal bias that may result to better predictions. To select the best shrinkage penalty, we may resort to performing cross validation over a list of $\\lambda$ values and select the $\\lambda$ that yields the best score (in our case, the AUC score).\n",
    "\n",
    "\n",
    "**Performing Regularization in R**\n",
    "\n",
    "To perform regularization I will use the `glmnet` package. This library has a robust method called `cv.glmnet()` that enables you to find the best $\\lambda$ by performing 10-fold CV. The resulting \"best\" $\\lambda$ is then used to re-fit using all of the variables with the updated tuning parameter."
   ]
  },
  {
   "cell_type": "code",
   "execution_count": 37,
   "metadata": {
    "collapsed": false
   },
   "outputs": [],
   "source": [
    "cv.regularization <- function(training.data, regularization){\n",
    "    \n",
    "    positive <- 'good'\n",
    "    negative <- 'bad'\n",
    "    \n",
    "    alpha <- 0\n",
    "    if (regularization == 'lasso'){ alpha <- 1 }\n",
    "\n",
    "    training.mat <- model.matrix(quality ~ ., data = training.data)[,-1]\n",
    "        \n",
    "    cv.model <- cv.glmnet(training.mat, \n",
    "                      training.data$quality, \n",
    "                      alpha = alpha,\n",
    "                      family = 'binomial')\n",
    "    best.lambda <- cv.model$lambda.min\n",
    "    leastsq.mod <- glmnet(training.mat, \n",
    "                          training.data$quality, \n",
    "                          alpha = alpha, \n",
    "                          family = 'binomial')\n",
    "\n",
    "    # print the results\n",
    "    cat(\"\\nBest \", regularization, \" lambda: \", best.lambda, \"\\n\")\n",
    "    cat(regularization,\" model train auc: \", max(cv.model$cvm))\n",
    "    model.coef <- predict(leastsq.mod, type=\"coefficients\", s = best.lambda)[1:ncol(training.data),]\n",
    "    cat(\"\\n\\nModel coefficients:\\n\")\n",
    "    print(model.coef)\n",
    "        \n",
    "    return(list(cvModel = cv.model, bestLambda = best.lambda, coefficients = model.coef, lsModel = leastsq.mod))\n",
    "}"
   ]
  },
  {
   "cell_type": "code",
   "execution_count": 38,
   "metadata": {
    "collapsed": true
   },
   "outputs": [],
   "source": [
    "# plot the lambda v coefficients\n",
    "# taken from Haffari, Gholamreza \"Linear Models for Regression\" (2017)\n",
    "plot.coefficients <- function(fit){\n",
    "    out <- as.data.frame(as.matrix(t(fit$beta)))\n",
    "    out[,c('nonzero', 'lambda')] <- c(fit$df, fit$lambda)\n",
    "\n",
    "    # reshape the outputs (for plotting)\n",
    "    out.m<-melt(out, id=c('lambda', 'nonzero'))\n",
    "    names(out.m) <- c('lambda', 'nonzero', 'feature', 'coefficient')\n",
    "\n",
    "    # plot coefficients vs lambda \n",
    "    g <- ggplot(data = out.m, aes(x=log(lambda), y=coefficient, color=factor(feature))) + geom_line() +\n",
    "        ggtitle('Coefficients vs. log(Lambda)') + theme_minimal()\n",
    "    print(g)\n",
    "}"
   ]
  },
  {
   "cell_type": "markdown",
   "metadata": {},
   "source": [
    "### 5.1 Ridge (L2) Regularization\n",
    "\n",
    "To recap, ridge regularization adds the square of the weights in minimizing the coefficients:\n",
    "\n",
    "$$\n",
    "+ \\lambda *\\sum_{j=1}^{m}(\\pmb{w}_j^2)\n",
    "$$\n",
    "\n",
    "where $\\lambda$ is the shrinkage penalty and $\\pmb{w}$ are the coefficients or the weights.\n",
    "\n",
    "Ridge regularization shrinks the coefficient of the features near 0. As $\\lambda$ approaches 0, we get the least squares solution, and as $\\lambda$ approaches $\\infty$, the coefficients are decreased and converges near 0. Note that this will only shrink the coefficients, and will not turn them into 0. "
   ]
  },
  {
   "cell_type": "code",
   "execution_count": 39,
   "metadata": {
    "collapsed": false
   },
   "outputs": [
    {
     "name": "stdout",
     "output_type": "stream",
     "text": [
      "\n",
      "Best  ridge  lambda:  0.02128708 \n",
      "ridge  model train auc:  1.277773\n",
      "\n",
      "Model coefficients:\n",
      "         (Intercept)        fixed.acidity     volatile.acidity \n",
      "          0.86735847          -0.08889248          -0.53236387 \n",
      "         citric.acid       residual.sugar            chlorides \n",
      "          0.04953674           0.33250174          -0.07830202 \n",
      " free.sulfur.dioxide total.sulfur.dioxide              density \n",
      "          0.17610615          -0.10468944          -0.28385123 \n",
      "                  pH            sulphates              alcohol \n",
      "          0.13152792           0.17546760           0.89596963 \n"
     ]
    }
   ],
   "source": [
    "ridge.result <- cv.regularization(training.data,'ridge')\n",
    "cv.ridge <- ridge.result$cvModel"
   ]
  },
  {
   "cell_type": "code",
   "execution_count": 40,
   "metadata": {
    "collapsed": true
   },
   "outputs": [],
   "source": [
    "#?glmnet"
   ]
  },
  {
   "cell_type": "markdown",
   "metadata": {},
   "source": [
    "**Analysis**\n",
    "<br/>Based on cross validation for ridge regularization, the best lambda is **0.021**. Meanwhile, it can be seen that Ridge Regularization indeed shrank the feature coefficients. However, because the lambda is close to 0, the shrinkage is to a lesser degree. In particular, the features **volatile.acidity**, **residual.sugar**, **chlorides**, **density**, **pH**, **sulphates**, and **alcohol** were penalized."
   ]
  },
  {
   "cell_type": "code",
   "execution_count": 41,
   "metadata": {
    "collapsed": false,
    "scrolled": false
   },
   "outputs": [
    {
     "data": {
      "image/png": "[encoded data removed]",
      "text/plain": [
       "plot without title"
      ]
     },
     "metadata": {},
     "output_type": "display_data"
    }
   ],
   "source": [
    "plot.coefficients(cv.ridge$glmnet.fit)"
   ]
  },
  {
   "cell_type": "markdown",
   "metadata": {},
   "source": [
    "As shown in this graph, the feature coefficients are already small due to data normalization, and as log(lambda) increases, the coefficients' values get closer to 0, although they never become 0. This is the main difference between Ridge and Lasso. Lasso produces **sparse** models--that is, models that uses a subset of features, while Ridge does not. "
   ]
  },
  {
   "cell_type": "code",
   "execution_count": 42,
   "metadata": {
    "collapsed": false
   },
   "outputs": [
    {
     "data": {
      "image/png": "[encoded data removed]",
      "text/plain": [
       "plot without title"
      ]
     },
     "metadata": {},
     "output_type": "display_data"
    }
   ],
   "source": [
    "plot(cv.ridge)"
   ]
  },
  {
   "cell_type": "markdown",
   "metadata": {},
   "source": [
    "The plot above shows `cv.glmnet()`'s performance in selecting the best lambda. Based on this, we can see that lower lambdas produces higher AUC scores than higher lambdas."
   ]
  },
  {
   "cell_type": "markdown",
   "metadata": {},
   "source": [
    "### 5.2 Lasso (L1) Regularization\n",
    "\n",
    "Meanwhile, lasso regularization adds the absolute value of the weights in minimizing the coefficients:\n",
    "\n",
    "$$\n",
    "+ \\lambda *\\sum_{j=1}^{m}(|{\\pmb{w}_j}|)\n",
    "$$\n",
    "\n",
    "where $\\lambda$ is the shrinkage penalty and $\\pmb{w}$ are the coefficients or the weights.\n",
    "\n",
    "Lasso regularization also shrinks the coefficients, but it yields sparse models. As $\\lambda$ approaches $\\infty$, the redundant features shrank to 0, thereby removing it from the model. In this way lasso regularization also performs feature selection, as only the variables it deems important is retained from the model. Ridge, meanwhile, preserves all the features."
   ]
  },
  {
   "cell_type": "code",
   "execution_count": 43,
   "metadata": {
    "collapsed": false
   },
   "outputs": [
    {
     "name": "stdout",
     "output_type": "stream",
     "text": [
      "\n",
      "Best  lasso  lambda:  0.004694079 \n",
      "lasso  model train auc:  1.276495\n",
      "\n",
      "Model coefficients:\n",
      "         (Intercept)        fixed.acidity     volatile.acidity \n",
      "          0.90815017          -0.14098406          -0.64788792 \n",
      "         citric.acid       residual.sugar            chlorides \n",
      "          0.00000000           0.22527337          -0.01553774 \n",
      " free.sulfur.dioxide total.sulfur.dioxide              density \n",
      "          0.13641664          -0.01586404           0.00000000 \n",
      "                  pH            sulphates              alcohol \n",
      "          0.06159732           0.15200454           1.25968301 \n"
     ]
    }
   ],
   "source": [
    "set.seed(12345)\n",
    "lasso.result <- cv.regularization(training.data, 'lasso')\n",
    "cv.lasso <- lasso.result$cvModel"
   ]
  },
  {
   "cell_type": "markdown",
   "metadata": {},
   "source": [
    "**Analysis**\n",
    "<br/>Based on the cross validation performed for Lasso regularization, the best lambda would be **0.005**. Several coefficients were removed from the model, like density and citric acid, resulting to a total of 9 variables. Density might have been removed because it is correlated to the residual sugar, while citric acid is removed because it is correlated to the fixed.acidity."
   ]
  },
  {
   "cell_type": "code",
   "execution_count": 44,
   "metadata": {
    "collapsed": false
   },
   "outputs": [
    {
     "data": {
      "image/png": "[encoded data removed]",
      "text/plain": [
       "plot without title"
      ]
     },
     "metadata": {},
     "output_type": "display_data"
    }
   ],
   "source": [
    "plot(cv.lasso)"
   ]
  },
  {
   "cell_type": "code",
   "execution_count": 45,
   "metadata": {
    "collapsed": false
   },
   "outputs": [
    {
     "data": {
      "image/png": "[encoded data removed]",
      "text/plain": [
       "plot without title"
      ]
     },
     "metadata": {},
     "output_type": "display_data"
    }
   ],
   "source": [
    "plot.coefficients(cv.lasso$glmnet.fit)"
   ]
  },
  {
   "cell_type": "markdown",
   "metadata": {},
   "source": [
    "The plot above shows how Lasso regularization removes the features it deems less important to the model. Looking from right to left, it considers **alcohol** as the most relevant feature, followed by **volatile.acidity**, and then with **fixed acidity** and **free.sulfur.dioxide**."
   ]
  },
  {
   "cell_type": "code",
   "execution_count": 50,
   "metadata": {
    "collapsed": false
   },
   "outputs": [
    {
     "data": {
      "text/html": [
       "<table>\n",
       "<thead><tr><th scope=col>fixed.acidity</th><th scope=col>volatile.acidity</th><th scope=col>citric.acid</th><th scope=col>residual.sugar</th><th scope=col>chlorides</th><th scope=col>free.sulfur.dioxide</th><th scope=col>total.sulfur.dioxide</th><th scope=col>density</th><th scope=col>pH</th><th scope=col>sulphates</th><th scope=col>alcohol</th><th scope=col>quality</th></tr></thead>\n",
       "<tbody>\n",
       "\t<tr><td>-2.1634204  </td><td>-0.45327591 </td><td>-0.49039866 </td><td> 1.42476605 </td><td>-0.67361025 </td><td>-0.005726945</td><td>-0.37984617 </td><td> 0.70231610 </td><td>-0.84826819 </td><td> 0.086390071</td><td>-1.0347280  </td><td>good        </td></tr>\n",
       "\t<tr><td>-0.8953111  </td><td> 1.24785288 </td><td>-0.83019456 </td><td>-0.94739107 </td><td> 0.91539903 </td><td>-0.696014690</td><td> 0.29309792 </td><td>-0.31480473 </td><td> 0.66712809 </td><td>-0.178244574</td><td>-0.8412782  </td><td>bad         </td></tr>\n",
       "\t<tr><td>-0.4341804  </td><td> 0.66460872 </td><td> 1.54837675 </td><td> 0.54495191 </td><td> 0.42986842 </td><td> 1.087228652</td><td> 0.94361054 </td><td> 0.56125555 </td><td>-0.51883422 </td><td>-0.354667671</td><td>-0.8689139  </td><td>bad         </td></tr>\n",
       "\t<tr><td>-1.8175724  </td><td> 1.19924920 </td><td>-1.50978636 </td><td>-0.86943286 </td><td>-0.32049708 </td><td>-1.386302435</td><td>-2.03977491 </td><td>-0.83821363 </td><td> 2.11663758 </td><td>-0.795725414</td><td> 0.7892269  </td><td>bad         </td></tr>\n",
       "\t<tr><td>-1.1258764  </td><td> 0.08136457 </td><td>-0.49039866 </td><td>-0.83602219 </td><td> 0.73884244 </td><td>-0.983634584</td><td> 0.11364616 </td><td>-0.78995607 </td><td> 0.20592053 </td><td>-1.236783157</td><td> 0.3746917  </td><td>good        </td></tr>\n",
       "\t<tr><td> 0.6033636  </td><td> 0.66460872 </td><td> 2.90756036 </td><td> 0.65632079 </td><td> 0.34159012 </td><td>-1.386302435</td><td>-0.78361262 </td><td> 0.88792209 </td><td>-0.05762665 </td><td> 0.086390071</td><td> 0.2088776  </td><td>bad         </td></tr>\n",
       "\t<tr><td>-1.8175724  </td><td>-0.69629431 </td><td>-0.15060276 </td><td>-0.81374842 </td><td> 0.12089439 </td><td>-0.983634584</td><td>-1.65843993 </td><td>-1.47669824 </td><td> 0.27180732 </td><td>-1.060360060</td><td> 1.1208551  </td><td>good        </td></tr>\n",
       "\t<tr><td>-0.2036150  </td><td> 0.56740136 </td><td> 0.61393802 </td><td> 0.61177323 </td><td> 0.03261610 </td><td> 1.950088334</td><td> 0.78659025 </td><td> 0.53155859 </td><td>-0.32117383 </td><td> 0.086390071</td><td>-0.9103674  </td><td>good        </td></tr>\n",
       "\t<tr><td>-1.8175724  </td><td> 0.17857193 </td><td> 0.10424417 </td><td>-0.85829597 </td><td>-0.32049708 </td><td>-0.926110605</td><td>-0.87333850 </td><td>-1.51753156 </td><td> 2.38018476 </td><td>-0.090033026</td><td> 1.9499255  </td><td>good        </td></tr>\n",
       "\t<tr><td>-0.6647457  </td><td>-1.27953846 </td><td>-0.49039866 </td><td> 1.25771273 </td><td>-0.45291452 </td><td> 0.684560801</td><td>-0.42470911 </td><td> 0.93246753 </td><td>-0.51883422 </td><td>-0.972148511</td><td>-1.2834491  </td><td>good        </td></tr>\n",
       "\t<tr><td>-0.7800284  </td><td>-0.40467223 </td><td>-0.06565378 </td><td> 0.81223722 </td><td>-0.62947111 </td><td> 0.396940907</td><td>-0.02094266 </td><td>-0.43359257 </td><td> 0.33769412 </td><td>-2.030687093</td><td> 1.3695762  </td><td>good        </td></tr>\n",
       "\t<tr><td>-0.2036150  </td><td>-0.11305015 </td><td>-0.06565378 </td><td>-0.90284352 </td><td>-0.05566220 </td><td>-0.926110605</td><td>-0.94063291 </td><td>-1.13889534 </td><td>-0.58472101 </td><td> 0.615659362</td><td> 1.3281227  </td><td>bad         </td></tr>\n",
       "\t<tr><td>-1.5870071  </td><td>-0.74489799 </td><td>-1.42483739 </td><td> 1.60295626 </td><td> 0.25331183 </td><td>-0.178298881</td><td>-0.44714058 </td><td> 0.79140698 </td><td> 1.32599604 </td><td>-0.972148511</td><td> 0.1259706  </td><td>good        </td></tr>\n",
       "\t<tr><td>-1.0105937  </td><td>-1.57116054 </td><td>-0.40544968 </td><td>-0.88056974 </td><td>-0.36463623 </td><td> 0.109321013</td><td>-1.16494760 </td><td>-1.02753174 </td><td> 0.86478848 </td><td>-0.619302317</td><td> 0.2088776  </td><td>good        </td></tr>\n",
       "\t<tr><td>-0.4341804  </td><td> 0.27577929 </td><td> 1.71827470 </td><td> 0.76768966 </td><td> 0.51814671 </td><td> 0.109321013</td><td> 1.93059520 </td><td> 1.08095232 </td><td>-0.18940024 </td><td>-0.442879220</td><td>-1.2834491  </td><td>bad         </td></tr>\n",
       "\t<tr><td>-0.2036150  </td><td>-0.69629431 </td><td> 0.52898905 </td><td>-0.68010576 </td><td>-0.18807964 </td><td>-0.178298881</td><td>-0.73874968 </td><td>-0.48185013 </td><td> 0.14003373 </td><td> 0.792082459</td><td> 0.2088776  </td><td>good        </td></tr>\n",
       "\t<tr><td> 1.7561903  </td><td> 2.02551175 </td><td>-0.83019456 </td><td> 0.28880349 </td><td>-0.49705367 </td><td>-1.616398350</td><td> 0.51741261 </td><td>-0.02525939 </td><td>-0.98004178 </td><td>-0.090033026</td><td> 0.4575988  </td><td>bad         </td></tr>\n",
       "\t<tr><td>-1.1258764  </td><td>-0.11305015 </td><td>-1.08504149 </td><td> 0.43358303 </td><td>-0.23221879 </td><td> 0.454464885</td><td> 0.22580351 </td><td> 0.33852836 </td><td>-0.32117383 </td><td>-0.090033026</td><td>-0.7030998  </td><td>bad         </td></tr>\n",
       "\t<tr><td> 0.1422330  </td><td> 0.08136457 </td><td>-0.06565378 </td><td> 0.09947639 </td><td>-0.23221879 </td><td>-1.041158563</td><td>-0.51443499 </td><td>-0.18859266 </td><td>-1.04592857 </td><td> 0.792082459</td><td> 0.4575988  </td><td>bad         </td></tr>\n",
       "\t<tr><td>-2.0481378  </td><td> 0.47019400 </td><td>-1.25493944 </td><td>-0.16780892 </td><td>-0.58533196 </td><td> 0.339416928</td><td>-0.24525735 </td><td>-0.87904695 </td><td>-0.12351345 </td><td>-0.795725414</td><td> 0.2917847  </td><td>good        </td></tr>\n",
       "\t<tr><td>-0.4341804  </td><td>-1.08512375 </td><td> 0.10424417 </td><td> 1.79228335 </td><td>-0.05566220 </td><td> 0.627036822</td><td> 0.09121469 </td><td> 1.48928550 </td><td>-0.91415498 </td><td>-0.531090768</td><td>-1.2834491  </td><td>good        </td></tr>\n",
       "\t<tr><td>-2.0481378  </td><td> 0.47019400 </td><td>-0.83019456 </td><td> 1.43590294 </td><td>-0.67361025 </td><td>-0.638490711</td><td> 0.51741261 </td><td>-0.10692602 </td><td> 1.39188284 </td><td> 1.321351750</td><td> 0.9550410  </td><td>good        </td></tr>\n",
       "\t<tr><td>-0.4341804  </td><td>-0.50187959 </td><td> 0.35909110 </td><td> 0.56722568 </td><td> 0.20917268 </td><td> 1.489896503</td><td> 0.33796086 </td><td> 0.50928587 </td><td>-2.23189088 </td><td>-0.001821477</td><td>-1.1176350  </td><td>good        </td></tr>\n",
       "\t<tr><td>-1.0105937  </td><td> 1.53947496 </td><td> 0.27414212 </td><td>-0.63555821 </td><td>-0.67361025 </td><td>-1.271254478</td><td>-1.38926230 </td><td>-0.55609252 </td><td> 0.14003373 </td><td>-0.090033026</td><td> 0.1259706  </td><td>good        </td></tr>\n",
       "\t<tr><td>-0.8953111  </td><td>-0.11305015 </td><td>-0.57534763 </td><td>-0.90284352 </td><td>-0.32049708 </td><td>-0.120774902</td><td> 0.06878322 </td><td>-0.83821363 </td><td> 1.72131681 </td><td>-0.531090768</td><td> 0.3746917  </td><td>good        </td></tr>\n",
       "\t<tr><td>-0.8953111  </td><td>-0.79350167 </td><td>-0.57534763 </td><td> 2.08184244 </td><td>-0.01152305 </td><td> 1.087228652</td><td>-0.22282588 </td><td> 1.80295963 </td><td>-1.37536255 </td><td> 1.762409493</td><td>-1.0347280  </td><td>good        </td></tr>\n",
       "\t<tr><td>-0.7800284  </td><td> 0.66460872 </td><td>-0.74524558 </td><td>-0.68010576 </td><td>-0.49705367 </td><td>-0.523442754</td><td>-0.04337412 </td><td>-1.07950142 </td><td> 0.93067527 </td><td> 0.880294008</td><td> 1.1208551  </td><td>good        </td></tr>\n",
       "\t<tr><td>-1.0105937  </td><td>-0.69629431 </td><td>-0.83019456 </td><td> 0.56722568 </td><td>-0.54119281 </td><td>-0.696014690</td><td>-0.11066853 </td><td> 0.33110412 </td><td> 1.19422245 </td><td> 0.880294008</td><td> 0.2088776  </td><td>good        </td></tr>\n",
       "\t<tr><td>-0.4341804  </td><td> 1.73388968 </td><td>-0.91514353 </td><td> 2.08184244 </td><td> 0.07675524 </td><td> 0.972180694</td><td> 1.07819935 </td><td> 1.76955055 </td><td> 1.26010925 </td><td> 0.968505556</td><td>-0.1227505  </td><td>bad         </td></tr>\n",
       "\t<tr><td>-0.3188977  </td><td>-0.79350167 </td><td>-0.15060276 </td><td>-0.72465331 </td><td>-0.54119281 </td><td>-0.120774902</td><td>-0.89576997 </td><td>-1.51196338 </td><td>-1.57302293 </td><td> 1.056717105</td><td> 1.1208551  </td><td>good        </td></tr>\n",
       "\t<tr><td>...</td><td>...</td><td>...</td><td>...</td><td>...</td><td>...</td><td>...</td><td>...</td><td>...</td><td>...</td><td>...</td><td>...</td></tr>\n",
       "\t<tr><td> 0.2575156  </td><td> 0.37298665 </td><td> 0.1042442  </td><td>-0.90284352 </td><td>-0.14394049 </td><td>-0.811062648</td><td>-1.47898818 </td><td>-0.85677423 </td><td> 0.733014888</td><td> 1.409563299</td><td> 1.12085511 </td><td>good        </td></tr>\n",
       "\t<tr><td> 2.1020384  </td><td>-0.50187959 </td><td> 1.1236319  </td><td>-0.96966485 </td><td> 0.38572927 </td><td>-1.443826414</td><td>-1.41169377 </td><td> 0.21974052 </td><td>-1.638909728</td><td>-0.001821477</td><td>-1.28344910 </td><td>good        </td></tr>\n",
       "\t<tr><td>-0.8953111  </td><td>-0.11305015 </td><td>-0.4054497  </td><td>-0.12326137 </td><td> 0.78298159 </td><td>-0.178298881</td><td> 1.48196580 </td><td> 1.07352808 </td><td> 3.236713093</td><td> 1.938832590</td><td>-0.53728573 </td><td>bad         </td></tr>\n",
       "\t<tr><td>-1.0105937  </td><td> 1.92830439 </td><td>-0.2355517  </td><td>-0.85829597 </td><td>-0.36463623 </td><td>-0.868586626</td><td>-1.27710495 </td><td>-1.09063778 </td><td> 1.787203606</td><td>-0.619302317</td><td> 1.03794806 </td><td>good        </td></tr>\n",
       "\t<tr><td>-1.2411591  </td><td> 0.08136457 </td><td>-1.4248374  </td><td> 0.56722568 </td><td>-0.05566220 </td><td> 0.799608758</td><td> 1.39223993 </td><td> 0.59837674 </td><td> 0.074146939</td><td>-1.148571608</td><td>-1.03472798 </td><td>bad         </td></tr>\n",
       "\t<tr><td> 3.3701477  </td><td>-0.40467223 </td><td> 1.0386829  </td><td>-0.92511730 </td><td>-0.54119281 </td><td>-1.328778457</td><td>-1.70330287 </td><td>-0.33707745 </td><td>-3.022532421</td><td>-0.178244574</td><td> 0.12597061 </td><td>good        </td></tr>\n",
       "\t<tr><td> 0.2575156  </td><td> 1.83109704 </td><td>-2.1893782  </td><td>-0.94739107 </td><td>-0.45291452 </td><td>-0.983634584</td><td> 0.36039233 </td><td>-0.93101663 </td><td>-1.177702164</td><td>-1.324994705</td><td>-0.12275052 </td><td>bad         </td></tr>\n",
       "\t<tr><td> 0.7186463  </td><td>-0.79350167 </td><td> 0.2741421  </td><td>-0.92511730 </td><td>-0.32049708 </td><td> 0.569512843</td><td>-0.53686645 </td><td>-0.33707745 </td><td> 1.062448862</td><td>-1.324994705</td><td>-0.62019277 </td><td>good        </td></tr>\n",
       "\t<tr><td>-1.0105937  </td><td> 1.49087128 </td><td>-1.4248374  </td><td> 0.23311905 </td><td>-0.62947111 </td><td>-0.753538669</td><td>-0.02094266 </td><td>-0.74169851 </td><td> 0.271807323</td><td>-0.266456123</td><td> 1.28666919 </td><td>good        </td></tr>\n",
       "\t<tr><td> 0.9492117  </td><td>-1.08512375 </td><td> 1.1236319  </td><td>-0.99193862 </td><td>-0.40877537 </td><td> 1.662468440</td><td> 0.27066645 </td><td>-0.83450151 </td><td>-1.177702164</td><td>-0.707513866</td><td> 0.04306356 </td><td>good        </td></tr>\n",
       "\t<tr><td>-0.2036150  </td><td>-1.18233110 </td><td>-0.3205007  </td><td>-0.79147464 </td><td> 0.20917268 </td><td> 0.339416928</td><td> 0.27066645 </td><td>-0.85677423 </td><td>-0.914154985</td><td>-0.442879220</td><td> 0.62341286 </td><td>good        </td></tr>\n",
       "\t<tr><td>-0.4341804  </td><td>-0.98791639 </td><td> 0.1891931  </td><td>-0.96966485 </td><td>-0.01152305 </td><td> 0.281892949</td><td>-0.60416086 </td><td>-0.89389543 </td><td> 0.733014888</td><td>-1.236783157</td><td> 0.20887765 </td><td>good        </td></tr>\n",
       "\t<tr><td>-0.6647457  </td><td>-1.18233110 </td><td> 0.0192952  </td><td>-0.94739107 </td><td> 0.51814671 </td><td>-0.753538669</td><td>-1.18737907 </td><td>-0.93101663 </td><td> 0.798901683</td><td>-0.266456123</td><td> 0.20887765 </td><td>good        </td></tr>\n",
       "\t<tr><td>-1.5870071  </td><td> 0.17857193 </td><td>-0.2355517  </td><td>-0.92511730 </td><td>-0.71774940 </td><td>-0.523442754</td><td>-0.94063291 </td><td>-2.25995553 </td><td> 0.733014888</td><td>-0.795725414</td><td> 2.44736777 </td><td>good        </td></tr>\n",
       "\t<tr><td> 0.7186463  </td><td> 0.76181608 </td><td> 0.0192952  </td><td>-0.88056974 </td><td>-0.89430599 </td><td>-0.408394796</td><td>-1.79302875 </td><td>-0.74541063 </td><td> 0.074146939</td><td>-1.413206254</td><td> 0.45759877 </td><td>good        </td></tr>\n",
       "\t<tr><td> 0.1422330  </td><td>-0.89070903 </td><td> 0.1891931  </td><td>-0.07871382 </td><td> 0.95953818 </td><td>-0.120774902</td><td> 0.33796086 </td><td> 0.55383131 </td><td> 1.062448862</td><td>-0.090033026</td><td>-0.70309981 </td><td>bad         </td></tr>\n",
       "\t<tr><td> 0.8339290  </td><td> 0.56740136 </td><td>-0.4054497  </td><td>-0.30145157 </td><td>-0.76188855 </td><td> 0.684560801</td><td>-0.78361262 </td><td>-1.45813764 </td><td> 0.008260144</td><td> 0.086390071</td><td> 2.11573961 </td><td>good        </td></tr>\n",
       "\t<tr><td>-0.2036150  </td><td>-0.40467223 </td><td>-0.4903987  </td><td>-0.88056974 </td><td> 0.51814671 </td><td>-0.063250924</td><td> 0.38282380 </td><td>-0.04010787 </td><td> 0.140033734</td><td> 0.615659362</td><td>-0.95182094 </td><td>good        </td></tr>\n",
       "\t<tr><td> 1.9867557  </td><td>-0.40467223 </td><td> 0.5289890  </td><td> 1.12407008 </td><td>-0.05566220 </td><td>-0.811062648</td><td> 0.15850910 </td><td> 1.44474007 </td><td> 0.008260144</td><td> 0.351024717</td><td>-0.53728573 </td><td>good        </td></tr>\n",
       "\t<tr><td>-0.2036150  </td><td> 0.27577929 </td><td>-2.1893782  </td><td>-0.85829597 </td><td>-0.54119281 </td><td> 1.202276609</td><td> 0.20337204 </td><td>-0.53010768 </td><td>-0.255287036</td><td>-0.619302317</td><td>-0.53728573 </td><td>bad         </td></tr>\n",
       "\t<tr><td>-2.2787031  </td><td> 0.56740136 </td><td>-2.7840210  </td><td> 0.25539282 </td><td>-0.76188855 </td><td>-0.063250924</td><td> 0.62956996 </td><td> 0.14549812 </td><td> 1.062448862</td><td> 1.056717105</td><td>-0.62019277 </td><td>good        </td></tr>\n",
       "\t<tr><td>-0.2036150  </td><td>-0.11305015 </td><td> 0.6988870  </td><td>-0.90284352 </td><td> 0.29745098 </td><td>-1.041158563</td><td> 0.15850910 </td><td> 0.59095250 </td><td> 1.457769631</td><td>-0.178244574</td><td>-0.53728573 </td><td>good        </td></tr>\n",
       "\t<tr><td> 0.0269503  </td><td>-0.21025751 </td><td> 0.7838360  </td><td>-0.81374842 </td><td> 0.16503354 </td><td> 0.396940907</td><td>-0.29012029 </td><td>-0.18859266 </td><td> 1.787203606</td><td>-0.090033026</td><td>-0.12275052 </td><td>good        </td></tr>\n",
       "\t<tr><td> 2.1020384  </td><td>-0.50187959 </td><td> 0.6139380  </td><td>-0.25690402 </td><td>-0.45291452 </td><td>-0.983634584</td><td>-0.58172939 </td><td> 0.44246771 </td><td>-0.387060625</td><td> 0.351024717</td><td>-0.78600685 </td><td>bad         </td></tr>\n",
       "\t<tr><td> 0.7186463  </td><td>-0.79350167 </td><td>-0.1506028  </td><td>-0.83602219 </td><td>-0.32049708 </td><td>-0.005726945</td><td>-0.42470911 </td><td>-0.85677423 </td><td> 0.337694118</td><td>-0.883936963</td><td> 1.12085511 </td><td>good        </td></tr>\n",
       "\t<tr><td> 0.0269503  </td><td>-0.40467223 </td><td> 0.1891931  </td><td> 0.23311905 </td><td> 0.12089439 </td><td> 0.569512843</td><td> 0.83145319 </td><td> 0.33110412 </td><td> 0.601241298</td><td> 0.527447814</td><td>-0.12275052 </td><td>good        </td></tr>\n",
       "\t<tr><td>-1.0105937  </td><td> 0.76181608 </td><td>-2.4442251  </td><td> 0.07720262 </td><td> 0.03261610 </td><td>-0.753538669</td><td>-1.07522172 </td><td>-0.04010787 </td><td> 0.140033734</td><td> 0.174601620</td><td>-0.37147164 </td><td>bad         </td></tr>\n",
       "\t<tr><td> 1.5256250  </td><td>-0.59908695 </td><td> 0.8687849  </td><td>-0.85829597 </td><td>-0.05566220 </td><td>-0.350870817</td><td>-0.13310000 </td><td> 0.10837693 </td><td> 0.140033734</td><td>-0.354667671</td><td> 0.29178469 </td><td>good        </td></tr>\n",
       "\t<tr><td>-0.3188977  </td><td> 0.85902344 </td><td> 0.0192952  </td><td>-0.41282045 </td><td>-0.40877537 </td><td>-0.638490711</td><td>-0.96306438 </td><td>-0.79738031 </td><td>-0.123513446</td><td>-0.972148511</td><td> 0.45759877 </td><td>good        </td></tr>\n",
       "\t<tr><td>-0.4341804  </td><td> 0.47019400 </td><td>-0.1506028  </td><td> 0.03265506 </td><td> 0.12089439 </td><td> 0.454464885</td><td> 0.85388466 </td><td> 0.59095250 </td><td>-0.057626651</td><td> 1.497774847</td><td>-1.11763502 </td><td>good        </td></tr>\n",
       "</tbody>\n",
       "</table>\n"
      ],
      "text/latex": [
       "\\begin{tabular}{r|llllllllllll}\n",
       " fixed.acidity & volatile.acidity & citric.acid & residual.sugar & chlorides & free.sulfur.dioxide & total.sulfur.dioxide & density & pH & sulphates & alcohol & quality\\\\\n",
       "\\hline\n",
       "\t -2.1634204   & -0.45327591  & -0.49039866  &  1.42476605  & -0.67361025  & -0.005726945 & -0.37984617  &  0.70231610  & -0.84826819  &  0.086390071 & -1.0347280   & good        \\\\\n",
       "\t -0.8953111   &  1.24785288  & -0.83019456  & -0.94739107  &  0.91539903  & -0.696014690 &  0.29309792  & -0.31480473  &  0.66712809  & -0.178244574 & -0.8412782   & bad         \\\\\n",
       "\t -0.4341804   &  0.66460872  &  1.54837675  &  0.54495191  &  0.42986842  &  1.087228652 &  0.94361054  &  0.56125555  & -0.51883422  & -0.354667671 & -0.8689139   & bad         \\\\\n",
       "\t -1.8175724   &  1.19924920  & -1.50978636  & -0.86943286  & -0.32049708  & -1.386302435 & -2.03977491  & -0.83821363  &  2.11663758  & -0.795725414 &  0.7892269   & bad         \\\\\n",
       "\t -1.1258764   &  0.08136457  & -0.49039866  & -0.83602219  &  0.73884244  & -0.983634584 &  0.11364616  & -0.78995607  &  0.20592053  & -1.236783157 &  0.3746917   & good        \\\\\n",
       "\t  0.6033636   &  0.66460872  &  2.90756036  &  0.65632079  &  0.34159012  & -1.386302435 & -0.78361262  &  0.88792209  & -0.05762665  &  0.086390071 &  0.2088776   & bad         \\\\\n",
       "\t -1.8175724   & -0.69629431  & -0.15060276  & -0.81374842  &  0.12089439  & -0.983634584 & -1.65843993  & -1.47669824  &  0.27180732  & -1.060360060 &  1.1208551   & good        \\\\\n",
       "\t -0.2036150   &  0.56740136  &  0.61393802  &  0.61177323  &  0.03261610  &  1.950088334 &  0.78659025  &  0.53155859  & -0.32117383  &  0.086390071 & -0.9103674   & good        \\\\\n",
       "\t -1.8175724   &  0.17857193  &  0.10424417  & -0.85829597  & -0.32049708  & -0.926110605 & -0.87333850  & -1.51753156  &  2.38018476  & -0.090033026 &  1.9499255   & good        \\\\\n",
       "\t -0.6647457   & -1.27953846  & -0.49039866  &  1.25771273  & -0.45291452  &  0.684560801 & -0.42470911  &  0.93246753  & -0.51883422  & -0.972148511 & -1.2834491   & good        \\\\\n",
       "\t -0.7800284   & -0.40467223  & -0.06565378  &  0.81223722  & -0.62947111  &  0.396940907 & -0.02094266  & -0.43359257  &  0.33769412  & -2.030687093 &  1.3695762   & good        \\\\\n",
       "\t -0.2036150   & -0.11305015  & -0.06565378  & -0.90284352  & -0.05566220  & -0.926110605 & -0.94063291  & -1.13889534  & -0.58472101  &  0.615659362 &  1.3281227   & bad         \\\\\n",
       "\t -1.5870071   & -0.74489799  & -1.42483739  &  1.60295626  &  0.25331183  & -0.178298881 & -0.44714058  &  0.79140698  &  1.32599604  & -0.972148511 &  0.1259706   & good        \\\\\n",
       "\t -1.0105937   & -1.57116054  & -0.40544968  & -0.88056974  & -0.36463623  &  0.109321013 & -1.16494760  & -1.02753174  &  0.86478848  & -0.619302317 &  0.2088776   & good        \\\\\n",
       "\t -0.4341804   &  0.27577929  &  1.71827470  &  0.76768966  &  0.51814671  &  0.109321013 &  1.93059520  &  1.08095232  & -0.18940024  & -0.442879220 & -1.2834491   & bad         \\\\\n",
       "\t -0.2036150   & -0.69629431  &  0.52898905  & -0.68010576  & -0.18807964  & -0.178298881 & -0.73874968  & -0.48185013  &  0.14003373  &  0.792082459 &  0.2088776   & good        \\\\\n",
       "\t  1.7561903   &  2.02551175  & -0.83019456  &  0.28880349  & -0.49705367  & -1.616398350 &  0.51741261  & -0.02525939  & -0.98004178  & -0.090033026 &  0.4575988   & bad         \\\\\n",
       "\t -1.1258764   & -0.11305015  & -1.08504149  &  0.43358303  & -0.23221879  &  0.454464885 &  0.22580351  &  0.33852836  & -0.32117383  & -0.090033026 & -0.7030998   & bad         \\\\\n",
       "\t  0.1422330   &  0.08136457  & -0.06565378  &  0.09947639  & -0.23221879  & -1.041158563 & -0.51443499  & -0.18859266  & -1.04592857  &  0.792082459 &  0.4575988   & bad         \\\\\n",
       "\t -2.0481378   &  0.47019400  & -1.25493944  & -0.16780892  & -0.58533196  &  0.339416928 & -0.24525735  & -0.87904695  & -0.12351345  & -0.795725414 &  0.2917847   & good        \\\\\n",
       "\t -0.4341804   & -1.08512375  &  0.10424417  &  1.79228335  & -0.05566220  &  0.627036822 &  0.09121469  &  1.48928550  & -0.91415498  & -0.531090768 & -1.2834491   & good        \\\\\n",
       "\t -2.0481378   &  0.47019400  & -0.83019456  &  1.43590294  & -0.67361025  & -0.638490711 &  0.51741261  & -0.10692602  &  1.39188284  &  1.321351750 &  0.9550410   & good        \\\\\n",
       "\t -0.4341804   & -0.50187959  &  0.35909110  &  0.56722568  &  0.20917268  &  1.489896503 &  0.33796086  &  0.50928587  & -2.23189088  & -0.001821477 & -1.1176350   & good        \\\\\n",
       "\t -1.0105937   &  1.53947496  &  0.27414212  & -0.63555821  & -0.67361025  & -1.271254478 & -1.38926230  & -0.55609252  &  0.14003373  & -0.090033026 &  0.1259706   & good        \\\\\n",
       "\t -0.8953111   & -0.11305015  & -0.57534763  & -0.90284352  & -0.32049708  & -0.120774902 &  0.06878322  & -0.83821363  &  1.72131681  & -0.531090768 &  0.3746917   & good        \\\\\n",
       "\t -0.8953111   & -0.79350167  & -0.57534763  &  2.08184244  & -0.01152305  &  1.087228652 & -0.22282588  &  1.80295963  & -1.37536255  &  1.762409493 & -1.0347280   & good        \\\\\n",
       "\t -0.7800284   &  0.66460872  & -0.74524558  & -0.68010576  & -0.49705367  & -0.523442754 & -0.04337412  & -1.07950142  &  0.93067527  &  0.880294008 &  1.1208551   & good        \\\\\n",
       "\t -1.0105937   & -0.69629431  & -0.83019456  &  0.56722568  & -0.54119281  & -0.696014690 & -0.11066853  &  0.33110412  &  1.19422245  &  0.880294008 &  0.2088776   & good        \\\\\n",
       "\t -0.4341804   &  1.73388968  & -0.91514353  &  2.08184244  &  0.07675524  &  0.972180694 &  1.07819935  &  1.76955055  &  1.26010925  &  0.968505556 & -0.1227505   & bad         \\\\\n",
       "\t -0.3188977   & -0.79350167  & -0.15060276  & -0.72465331  & -0.54119281  & -0.120774902 & -0.89576997  & -1.51196338  & -1.57302293  &  1.056717105 &  1.1208551   & good        \\\\\n",
       "\t ... & ... & ... & ... & ... & ... & ... & ... & ... & ... & ... & ...\\\\\n",
       "\t  0.2575156   &  0.37298665  &  0.1042442   & -0.90284352  & -0.14394049  & -0.811062648 & -1.47898818  & -0.85677423  &  0.733014888 &  1.409563299 &  1.12085511  & good        \\\\\n",
       "\t  2.1020384   & -0.50187959  &  1.1236319   & -0.96966485  &  0.38572927  & -1.443826414 & -1.41169377  &  0.21974052  & -1.638909728 & -0.001821477 & -1.28344910  & good        \\\\\n",
       "\t -0.8953111   & -0.11305015  & -0.4054497   & -0.12326137  &  0.78298159  & -0.178298881 &  1.48196580  &  1.07352808  &  3.236713093 &  1.938832590 & -0.53728573  & bad         \\\\\n",
       "\t -1.0105937   &  1.92830439  & -0.2355517   & -0.85829597  & -0.36463623  & -0.868586626 & -1.27710495  & -1.09063778  &  1.787203606 & -0.619302317 &  1.03794806  & good        \\\\\n",
       "\t -1.2411591   &  0.08136457  & -1.4248374   &  0.56722568  & -0.05566220  &  0.799608758 &  1.39223993  &  0.59837674  &  0.074146939 & -1.148571608 & -1.03472798  & bad         \\\\\n",
       "\t  3.3701477   & -0.40467223  &  1.0386829   & -0.92511730  & -0.54119281  & -1.328778457 & -1.70330287  & -0.33707745  & -3.022532421 & -0.178244574 &  0.12597061  & good        \\\\\n",
       "\t  0.2575156   &  1.83109704  & -2.1893782   & -0.94739107  & -0.45291452  & -0.983634584 &  0.36039233  & -0.93101663  & -1.177702164 & -1.324994705 & -0.12275052  & bad         \\\\\n",
       "\t  0.7186463   & -0.79350167  &  0.2741421   & -0.92511730  & -0.32049708  &  0.569512843 & -0.53686645  & -0.33707745  &  1.062448862 & -1.324994705 & -0.62019277  & good        \\\\\n",
       "\t -1.0105937   &  1.49087128  & -1.4248374   &  0.23311905  & -0.62947111  & -0.753538669 & -0.02094266  & -0.74169851  &  0.271807323 & -0.266456123 &  1.28666919  & good        \\\\\n",
       "\t  0.9492117   & -1.08512375  &  1.1236319   & -0.99193862  & -0.40877537  &  1.662468440 &  0.27066645  & -0.83450151  & -1.177702164 & -0.707513866 &  0.04306356  & good        \\\\\n",
       "\t -0.2036150   & -1.18233110  & -0.3205007   & -0.79147464  &  0.20917268  &  0.339416928 &  0.27066645  & -0.85677423  & -0.914154985 & -0.442879220 &  0.62341286  & good        \\\\\n",
       "\t -0.4341804   & -0.98791639  &  0.1891931   & -0.96966485  & -0.01152305  &  0.281892949 & -0.60416086  & -0.89389543  &  0.733014888 & -1.236783157 &  0.20887765  & good        \\\\\n",
       "\t -0.6647457   & -1.18233110  &  0.0192952   & -0.94739107  &  0.51814671  & -0.753538669 & -1.18737907  & -0.93101663  &  0.798901683 & -0.266456123 &  0.20887765  & good        \\\\\n",
       "\t -1.5870071   &  0.17857193  & -0.2355517   & -0.92511730  & -0.71774940  & -0.523442754 & -0.94063291  & -2.25995553  &  0.733014888 & -0.795725414 &  2.44736777  & good        \\\\\n",
       "\t  0.7186463   &  0.76181608  &  0.0192952   & -0.88056974  & -0.89430599  & -0.408394796 & -1.79302875  & -0.74541063  &  0.074146939 & -1.413206254 &  0.45759877  & good        \\\\\n",
       "\t  0.1422330   & -0.89070903  &  0.1891931   & -0.07871382  &  0.95953818  & -0.120774902 &  0.33796086  &  0.55383131  &  1.062448862 & -0.090033026 & -0.70309981  & bad         \\\\\n",
       "\t  0.8339290   &  0.56740136  & -0.4054497   & -0.30145157  & -0.76188855  &  0.684560801 & -0.78361262  & -1.45813764  &  0.008260144 &  0.086390071 &  2.11573961  & good        \\\\\n",
       "\t -0.2036150   & -0.40467223  & -0.4903987   & -0.88056974  &  0.51814671  & -0.063250924 &  0.38282380  & -0.04010787  &  0.140033734 &  0.615659362 & -0.95182094  & good        \\\\\n",
       "\t  1.9867557   & -0.40467223  &  0.5289890   &  1.12407008  & -0.05566220  & -0.811062648 &  0.15850910  &  1.44474007  &  0.008260144 &  0.351024717 & -0.53728573  & good        \\\\\n",
       "\t -0.2036150   &  0.27577929  & -2.1893782   & -0.85829597  & -0.54119281  &  1.202276609 &  0.20337204  & -0.53010768  & -0.255287036 & -0.619302317 & -0.53728573  & bad         \\\\\n",
       "\t -2.2787031   &  0.56740136  & -2.7840210   &  0.25539282  & -0.76188855  & -0.063250924 &  0.62956996  &  0.14549812  &  1.062448862 &  1.056717105 & -0.62019277  & good        \\\\\n",
       "\t -0.2036150   & -0.11305015  &  0.6988870   & -0.90284352  &  0.29745098  & -1.041158563 &  0.15850910  &  0.59095250  &  1.457769631 & -0.178244574 & -0.53728573  & good        \\\\\n",
       "\t  0.0269503   & -0.21025751  &  0.7838360   & -0.81374842  &  0.16503354  &  0.396940907 & -0.29012029  & -0.18859266  &  1.787203606 & -0.090033026 & -0.12275052  & good        \\\\\n",
       "\t  2.1020384   & -0.50187959  &  0.6139380   & -0.25690402  & -0.45291452  & -0.983634584 & -0.58172939  &  0.44246771  & -0.387060625 &  0.351024717 & -0.78600685  & bad         \\\\\n",
       "\t  0.7186463   & -0.79350167  & -0.1506028   & -0.83602219  & -0.32049708  & -0.005726945 & -0.42470911  & -0.85677423  &  0.337694118 & -0.883936963 &  1.12085511  & good        \\\\\n",
       "\t  0.0269503   & -0.40467223  &  0.1891931   &  0.23311905  &  0.12089439  &  0.569512843 &  0.83145319  &  0.33110412  &  0.601241298 &  0.527447814 & -0.12275052  & good        \\\\\n",
       "\t -1.0105937   &  0.76181608  & -2.4442251   &  0.07720262  &  0.03261610  & -0.753538669 & -1.07522172  & -0.04010787  &  0.140033734 &  0.174601620 & -0.37147164  & bad         \\\\\n",
       "\t  1.5256250   & -0.59908695  &  0.8687849   & -0.85829597  & -0.05566220  & -0.350870817 & -0.13310000  &  0.10837693  &  0.140033734 & -0.354667671 &  0.29178469  & good        \\\\\n",
       "\t -0.3188977   &  0.85902344  &  0.0192952   & -0.41282045  & -0.40877537  & -0.638490711 & -0.96306438  & -0.79738031  & -0.123513446 & -0.972148511 &  0.45759877  & good        \\\\\n",
       "\t -0.4341804   &  0.47019400  & -0.1506028   &  0.03265506  &  0.12089439  &  0.454464885 &  0.85388466  &  0.59095250  & -0.057626651 &  1.497774847 & -1.11763502  & good        \\\\\n",
       "\\end{tabular}\n"
      ],
      "text/markdown": [
       "\n",
       "fixed.acidity | volatile.acidity | citric.acid | residual.sugar | chlorides | free.sulfur.dioxide | total.sulfur.dioxide | density | pH | sulphates | alcohol | quality | \n",
       "|---|---|---|---|---|---|---|---|---|---|---|---|---|---|---|---|---|---|---|---|---|---|---|---|---|---|---|---|---|---|---|---|---|---|---|---|---|---|---|---|---|---|---|---|---|---|---|---|---|---|---|---|---|---|---|---|---|---|---|---|---|\n",
       "| -2.1634204   | -0.45327591  | -0.49039866  |  1.42476605  | -0.67361025  | -0.005726945 | -0.37984617  |  0.70231610  | -0.84826819  |  0.086390071 | -1.0347280   | good         | \n",
       "| -0.8953111   |  1.24785288  | -0.83019456  | -0.94739107  |  0.91539903  | -0.696014690 |  0.29309792  | -0.31480473  |  0.66712809  | -0.178244574 | -0.8412782   | bad          | \n",
       "| -0.4341804   |  0.66460872  |  1.54837675  |  0.54495191  |  0.42986842  |  1.087228652 |  0.94361054  |  0.56125555  | -0.51883422  | -0.354667671 | -0.8689139   | bad          | \n",
       "| -1.8175724   |  1.19924920  | -1.50978636  | -0.86943286  | -0.32049708  | -1.386302435 | -2.03977491  | -0.83821363  |  2.11663758  | -0.795725414 |  0.7892269   | bad          | \n",
       "| -1.1258764   |  0.08136457  | -0.49039866  | -0.83602219  |  0.73884244  | -0.983634584 |  0.11364616  | -0.78995607  |  0.20592053  | -1.236783157 |  0.3746917   | good         | \n",
       "|  0.6033636   |  0.66460872  |  2.90756036  |  0.65632079  |  0.34159012  | -1.386302435 | -0.78361262  |  0.88792209  | -0.05762665  |  0.086390071 |  0.2088776   | bad          | \n",
       "| -1.8175724   | -0.69629431  | -0.15060276  | -0.81374842  |  0.12089439  | -0.983634584 | -1.65843993  | -1.47669824  |  0.27180732  | -1.060360060 |  1.1208551   | good         | \n",
       "| -0.2036150   |  0.56740136  |  0.61393802  |  0.61177323  |  0.03261610  |  1.950088334 |  0.78659025  |  0.53155859  | -0.32117383  |  0.086390071 | -0.9103674   | good         | \n",
       "| -1.8175724   |  0.17857193  |  0.10424417  | -0.85829597  | -0.32049708  | -0.926110605 | -0.87333850  | -1.51753156  |  2.38018476  | -0.090033026 |  1.9499255   | good         | \n",
       "| -0.6647457   | -1.27953846  | -0.49039866  |  1.25771273  | -0.45291452  |  0.684560801 | -0.42470911  |  0.93246753  | -0.51883422  | -0.972148511 | -1.2834491   | good         | \n",
       "| -0.7800284   | -0.40467223  | -0.06565378  |  0.81223722  | -0.62947111  |  0.396940907 | -0.02094266  | -0.43359257  |  0.33769412  | -2.030687093 |  1.3695762   | good         | \n",
       "| -0.2036150   | -0.11305015  | -0.06565378  | -0.90284352  | -0.05566220  | -0.926110605 | -0.94063291  | -1.13889534  | -0.58472101  |  0.615659362 |  1.3281227   | bad          | \n",
       "| -1.5870071   | -0.74489799  | -1.42483739  |  1.60295626  |  0.25331183  | -0.178298881 | -0.44714058  |  0.79140698  |  1.32599604  | -0.972148511 |  0.1259706   | good         | \n",
       "| -1.0105937   | -1.57116054  | -0.40544968  | -0.88056974  | -0.36463623  |  0.109321013 | -1.16494760  | -1.02753174  |  0.86478848  | -0.619302317 |  0.2088776   | good         | \n",
       "| -0.4341804   |  0.27577929  |  1.71827470  |  0.76768966  |  0.51814671  |  0.109321013 |  1.93059520  |  1.08095232  | -0.18940024  | -0.442879220 | -1.2834491   | bad          | \n",
       "| -0.2036150   | -0.69629431  |  0.52898905  | -0.68010576  | -0.18807964  | -0.178298881 | -0.73874968  | -0.48185013  |  0.14003373  |  0.792082459 |  0.2088776   | good         | \n",
       "|  1.7561903   |  2.02551175  | -0.83019456  |  0.28880349  | -0.49705367  | -1.616398350 |  0.51741261  | -0.02525939  | -0.98004178  | -0.090033026 |  0.4575988   | bad          | \n",
       "| -1.1258764   | -0.11305015  | -1.08504149  |  0.43358303  | -0.23221879  |  0.454464885 |  0.22580351  |  0.33852836  | -0.32117383  | -0.090033026 | -0.7030998   | bad          | \n",
       "|  0.1422330   |  0.08136457  | -0.06565378  |  0.09947639  | -0.23221879  | -1.041158563 | -0.51443499  | -0.18859266  | -1.04592857  |  0.792082459 |  0.4575988   | bad          | \n",
       "| -2.0481378   |  0.47019400  | -1.25493944  | -0.16780892  | -0.58533196  |  0.339416928 | -0.24525735  | -0.87904695  | -0.12351345  | -0.795725414 |  0.2917847   | good         | \n",
       "| -0.4341804   | -1.08512375  |  0.10424417  |  1.79228335  | -0.05566220  |  0.627036822 |  0.09121469  |  1.48928550  | -0.91415498  | -0.531090768 | -1.2834491   | good         | \n",
       "| -2.0481378   |  0.47019400  | -0.83019456  |  1.43590294  | -0.67361025  | -0.638490711 |  0.51741261  | -0.10692602  |  1.39188284  |  1.321351750 |  0.9550410   | good         | \n",
       "| -0.4341804   | -0.50187959  |  0.35909110  |  0.56722568  |  0.20917268  |  1.489896503 |  0.33796086  |  0.50928587  | -2.23189088  | -0.001821477 | -1.1176350   | good         | \n",
       "| -1.0105937   |  1.53947496  |  0.27414212  | -0.63555821  | -0.67361025  | -1.271254478 | -1.38926230  | -0.55609252  |  0.14003373  | -0.090033026 |  0.1259706   | good         | \n",
       "| -0.8953111   | -0.11305015  | -0.57534763  | -0.90284352  | -0.32049708  | -0.120774902 |  0.06878322  | -0.83821363  |  1.72131681  | -0.531090768 |  0.3746917   | good         | \n",
       "| -0.8953111   | -0.79350167  | -0.57534763  |  2.08184244  | -0.01152305  |  1.087228652 | -0.22282588  |  1.80295963  | -1.37536255  |  1.762409493 | -1.0347280   | good         | \n",
       "| -0.7800284   |  0.66460872  | -0.74524558  | -0.68010576  | -0.49705367  | -0.523442754 | -0.04337412  | -1.07950142  |  0.93067527  |  0.880294008 |  1.1208551   | good         | \n",
       "| -1.0105937   | -0.69629431  | -0.83019456  |  0.56722568  | -0.54119281  | -0.696014690 | -0.11066853  |  0.33110412  |  1.19422245  |  0.880294008 |  0.2088776   | good         | \n",
       "| -0.4341804   |  1.73388968  | -0.91514353  |  2.08184244  |  0.07675524  |  0.972180694 |  1.07819935  |  1.76955055  |  1.26010925  |  0.968505556 | -0.1227505   | bad          | \n",
       "| -0.3188977   | -0.79350167  | -0.15060276  | -0.72465331  | -0.54119281  | -0.120774902 | -0.89576997  | -1.51196338  | -1.57302293  |  1.056717105 |  1.1208551   | good         | \n",
       "| ... | ... | ... | ... | ... | ... | ... | ... | ... | ... | ... | ... | \n",
       "|  0.2575156   |  0.37298665  |  0.1042442   | -0.90284352  | -0.14394049  | -0.811062648 | -1.47898818  | -0.85677423  |  0.733014888 |  1.409563299 |  1.12085511  | good         | \n",
       "|  2.1020384   | -0.50187959  |  1.1236319   | -0.96966485  |  0.38572927  | -1.443826414 | -1.41169377  |  0.21974052  | -1.638909728 | -0.001821477 | -1.28344910  | good         | \n",
       "| -0.8953111   | -0.11305015  | -0.4054497   | -0.12326137  |  0.78298159  | -0.178298881 |  1.48196580  |  1.07352808  |  3.236713093 |  1.938832590 | -0.53728573  | bad          | \n",
       "| -1.0105937   |  1.92830439  | -0.2355517   | -0.85829597  | -0.36463623  | -0.868586626 | -1.27710495  | -1.09063778  |  1.787203606 | -0.619302317 |  1.03794806  | good         | \n",
       "| -1.2411591   |  0.08136457  | -1.4248374   |  0.56722568  | -0.05566220  |  0.799608758 |  1.39223993  |  0.59837674  |  0.074146939 | -1.148571608 | -1.03472798  | bad          | \n",
       "|  3.3701477   | -0.40467223  |  1.0386829   | -0.92511730  | -0.54119281  | -1.328778457 | -1.70330287  | -0.33707745  | -3.022532421 | -0.178244574 |  0.12597061  | good         | \n",
       "|  0.2575156   |  1.83109704  | -2.1893782   | -0.94739107  | -0.45291452  | -0.983634584 |  0.36039233  | -0.93101663  | -1.177702164 | -1.324994705 | -0.12275052  | bad          | \n",
       "|  0.7186463   | -0.79350167  |  0.2741421   | -0.92511730  | -0.32049708  |  0.569512843 | -0.53686645  | -0.33707745  |  1.062448862 | -1.324994705 | -0.62019277  | good         | \n",
       "| -1.0105937   |  1.49087128  | -1.4248374   |  0.23311905  | -0.62947111  | -0.753538669 | -0.02094266  | -0.74169851  |  0.271807323 | -0.266456123 |  1.28666919  | good         | \n",
       "|  0.9492117   | -1.08512375  |  1.1236319   | -0.99193862  | -0.40877537  |  1.662468440 |  0.27066645  | -0.83450151  | -1.177702164 | -0.707513866 |  0.04306356  | good         | \n",
       "| -0.2036150   | -1.18233110  | -0.3205007   | -0.79147464  |  0.20917268  |  0.339416928 |  0.27066645  | -0.85677423  | -0.914154985 | -0.442879220 |  0.62341286  | good         | \n",
       "| -0.4341804   | -0.98791639  |  0.1891931   | -0.96966485  | -0.01152305  |  0.281892949 | -0.60416086  | -0.89389543  |  0.733014888 | -1.236783157 |  0.20887765  | good         | \n",
       "| -0.6647457   | -1.18233110  |  0.0192952   | -0.94739107  |  0.51814671  | -0.753538669 | -1.18737907  | -0.93101663  |  0.798901683 | -0.266456123 |  0.20887765  | good         | \n",
       "| -1.5870071   |  0.17857193  | -0.2355517   | -0.92511730  | -0.71774940  | -0.523442754 | -0.94063291  | -2.25995553  |  0.733014888 | -0.795725414 |  2.44736777  | good         | \n",
       "|  0.7186463   |  0.76181608  |  0.0192952   | -0.88056974  | -0.89430599  | -0.408394796 | -1.79302875  | -0.74541063  |  0.074146939 | -1.413206254 |  0.45759877  | good         | \n",
       "|  0.1422330   | -0.89070903  |  0.1891931   | -0.07871382  |  0.95953818  | -0.120774902 |  0.33796086  |  0.55383131  |  1.062448862 | -0.090033026 | -0.70309981  | bad          | \n",
       "|  0.8339290   |  0.56740136  | -0.4054497   | -0.30145157  | -0.76188855  |  0.684560801 | -0.78361262  | -1.45813764  |  0.008260144 |  0.086390071 |  2.11573961  | good         | \n",
       "| -0.2036150   | -0.40467223  | -0.4903987   | -0.88056974  |  0.51814671  | -0.063250924 |  0.38282380  | -0.04010787  |  0.140033734 |  0.615659362 | -0.95182094  | good         | \n",
       "|  1.9867557   | -0.40467223  |  0.5289890   |  1.12407008  | -0.05566220  | -0.811062648 |  0.15850910  |  1.44474007  |  0.008260144 |  0.351024717 | -0.53728573  | good         | \n",
       "| -0.2036150   |  0.27577929  | -2.1893782   | -0.85829597  | -0.54119281  |  1.202276609 |  0.20337204  | -0.53010768  | -0.255287036 | -0.619302317 | -0.53728573  | bad          | \n",
       "| -2.2787031   |  0.56740136  | -2.7840210   |  0.25539282  | -0.76188855  | -0.063250924 |  0.62956996  |  0.14549812  |  1.062448862 |  1.056717105 | -0.62019277  | good         | \n",
       "| -0.2036150   | -0.11305015  |  0.6988870   | -0.90284352  |  0.29745098  | -1.041158563 |  0.15850910  |  0.59095250  |  1.457769631 | -0.178244574 | -0.53728573  | good         | \n",
       "|  0.0269503   | -0.21025751  |  0.7838360   | -0.81374842  |  0.16503354  |  0.396940907 | -0.29012029  | -0.18859266  |  1.787203606 | -0.090033026 | -0.12275052  | good         | \n",
       "|  2.1020384   | -0.50187959  |  0.6139380   | -0.25690402  | -0.45291452  | -0.983634584 | -0.58172939  |  0.44246771  | -0.387060625 |  0.351024717 | -0.78600685  | bad          | \n",
       "|  0.7186463   | -0.79350167  | -0.1506028   | -0.83602219  | -0.32049708  | -0.005726945 | -0.42470911  | -0.85677423  |  0.337694118 | -0.883936963 |  1.12085511  | good         | \n",
       "|  0.0269503   | -0.40467223  |  0.1891931   |  0.23311905  |  0.12089439  |  0.569512843 |  0.83145319  |  0.33110412  |  0.601241298 |  0.527447814 | -0.12275052  | good         | \n",
       "| -1.0105937   |  0.76181608  | -2.4442251   |  0.07720262  |  0.03261610  | -0.753538669 | -1.07522172  | -0.04010787  |  0.140033734 |  0.174601620 | -0.37147164  | bad          | \n",
       "|  1.5256250   | -0.59908695  |  0.8687849   | -0.85829597  | -0.05566220  | -0.350870817 | -0.13310000  |  0.10837693  |  0.140033734 | -0.354667671 |  0.29178469  | good         | \n",
       "| -0.3188977   |  0.85902344  |  0.0192952   | -0.41282045  | -0.40877537  | -0.638490711 | -0.96306438  | -0.79738031  | -0.123513446 | -0.972148511 |  0.45759877  | good         | \n",
       "| -0.4341804   |  0.47019400  | -0.1506028   |  0.03265506  |  0.12089439  |  0.454464885 |  0.85388466  |  0.59095250  | -0.057626651 |  1.497774847 | -1.11763502  | good         | \n",
       "\n",
       "\n"
      ],
      "text/plain": [
       "    fixed.acidity volatile.acidity citric.acid residual.sugar chlorides  \n",
       "1   -2.1634204    -0.45327591      -0.49039866  1.42476605    -0.67361025\n",
       "2   -0.8953111     1.24785288      -0.83019456 -0.94739107     0.91539903\n",
       "3   -0.4341804     0.66460872       1.54837675  0.54495191     0.42986842\n",
       "4   -1.8175724     1.19924920      -1.50978636 -0.86943286    -0.32049708\n",
       "5   -1.1258764     0.08136457      -0.49039866 -0.83602219     0.73884244\n",
       "6    0.6033636     0.66460872       2.90756036  0.65632079     0.34159012\n",
       "7   -1.8175724    -0.69629431      -0.15060276 -0.81374842     0.12089439\n",
       "8   -0.2036150     0.56740136       0.61393802  0.61177323     0.03261610\n",
       "9   -1.8175724     0.17857193       0.10424417 -0.85829597    -0.32049708\n",
       "10  -0.6647457    -1.27953846      -0.49039866  1.25771273    -0.45291452\n",
       "11  -0.7800284    -0.40467223      -0.06565378  0.81223722    -0.62947111\n",
       "12  -0.2036150    -0.11305015      -0.06565378 -0.90284352    -0.05566220\n",
       "13  -1.5870071    -0.74489799      -1.42483739  1.60295626     0.25331183\n",
       "14  -1.0105937    -1.57116054      -0.40544968 -0.88056974    -0.36463623\n",
       "15  -0.4341804     0.27577929       1.71827470  0.76768966     0.51814671\n",
       "16  -0.2036150    -0.69629431       0.52898905 -0.68010576    -0.18807964\n",
       "17   1.7561903     2.02551175      -0.83019456  0.28880349    -0.49705367\n",
       "18  -1.1258764    -0.11305015      -1.08504149  0.43358303    -0.23221879\n",
       "19   0.1422330     0.08136457      -0.06565378  0.09947639    -0.23221879\n",
       "20  -2.0481378     0.47019400      -1.25493944 -0.16780892    -0.58533196\n",
       "21  -0.4341804    -1.08512375       0.10424417  1.79228335    -0.05566220\n",
       "22  -2.0481378     0.47019400      -0.83019456  1.43590294    -0.67361025\n",
       "23  -0.4341804    -0.50187959       0.35909110  0.56722568     0.20917268\n",
       "24  -1.0105937     1.53947496       0.27414212 -0.63555821    -0.67361025\n",
       "25  -0.8953111    -0.11305015      -0.57534763 -0.90284352    -0.32049708\n",
       "26  -0.8953111    -0.79350167      -0.57534763  2.08184244    -0.01152305\n",
       "27  -0.7800284     0.66460872      -0.74524558 -0.68010576    -0.49705367\n",
       "28  -1.0105937    -0.69629431      -0.83019456  0.56722568    -0.54119281\n",
       "29  -0.4341804     1.73388968      -0.91514353  2.08184244     0.07675524\n",
       "30  -0.3188977    -0.79350167      -0.15060276 -0.72465331    -0.54119281\n",
       "... ...           ...              ...         ...            ...        \n",
       "649  0.2575156     0.37298665       0.1042442  -0.90284352    -0.14394049\n",
       "650  2.1020384    -0.50187959       1.1236319  -0.96966485     0.38572927\n",
       "651 -0.8953111    -0.11305015      -0.4054497  -0.12326137     0.78298159\n",
       "652 -1.0105937     1.92830439      -0.2355517  -0.85829597    -0.36463623\n",
       "653 -1.2411591     0.08136457      -1.4248374   0.56722568    -0.05566220\n",
       "654  3.3701477    -0.40467223       1.0386829  -0.92511730    -0.54119281\n",
       "655  0.2575156     1.83109704      -2.1893782  -0.94739107    -0.45291452\n",
       "656  0.7186463    -0.79350167       0.2741421  -0.92511730    -0.32049708\n",
       "657 -1.0105937     1.49087128      -1.4248374   0.23311905    -0.62947111\n",
       "658  0.9492117    -1.08512375       1.1236319  -0.99193862    -0.40877537\n",
       "659 -0.2036150    -1.18233110      -0.3205007  -0.79147464     0.20917268\n",
       "660 -0.4341804    -0.98791639       0.1891931  -0.96966485    -0.01152305\n",
       "661 -0.6647457    -1.18233110       0.0192952  -0.94739107     0.51814671\n",
       "662 -1.5870071     0.17857193      -0.2355517  -0.92511730    -0.71774940\n",
       "663  0.7186463     0.76181608       0.0192952  -0.88056974    -0.89430599\n",
       "664  0.1422330    -0.89070903       0.1891931  -0.07871382     0.95953818\n",
       "665  0.8339290     0.56740136      -0.4054497  -0.30145157    -0.76188855\n",
       "666 -0.2036150    -0.40467223      -0.4903987  -0.88056974     0.51814671\n",
       "667  1.9867557    -0.40467223       0.5289890   1.12407008    -0.05566220\n",
       "668 -0.2036150     0.27577929      -2.1893782  -0.85829597    -0.54119281\n",
       "669 -2.2787031     0.56740136      -2.7840210   0.25539282    -0.76188855\n",
       "670 -0.2036150    -0.11305015       0.6988870  -0.90284352     0.29745098\n",
       "671  0.0269503    -0.21025751       0.7838360  -0.81374842     0.16503354\n",
       "672  2.1020384    -0.50187959       0.6139380  -0.25690402    -0.45291452\n",
       "673  0.7186463    -0.79350167      -0.1506028  -0.83602219    -0.32049708\n",
       "674  0.0269503    -0.40467223       0.1891931   0.23311905     0.12089439\n",
       "675 -1.0105937     0.76181608      -2.4442251   0.07720262     0.03261610\n",
       "676  1.5256250    -0.59908695       0.8687849  -0.85829597    -0.05566220\n",
       "677 -0.3188977     0.85902344       0.0192952  -0.41282045    -0.40877537\n",
       "678 -0.4341804     0.47019400      -0.1506028   0.03265506     0.12089439\n",
       "    free.sulfur.dioxide total.sulfur.dioxide density     pH          \n",
       "1   -0.005726945        -0.37984617           0.70231610 -0.84826819 \n",
       "2   -0.696014690         0.29309792          -0.31480473  0.66712809 \n",
       "3    1.087228652         0.94361054           0.56125555 -0.51883422 \n",
       "4   -1.386302435        -2.03977491          -0.83821363  2.11663758 \n",
       "5   -0.983634584         0.11364616          -0.78995607  0.20592053 \n",
       "6   -1.386302435        -0.78361262           0.88792209 -0.05762665 \n",
       "7   -0.983634584        -1.65843993          -1.47669824  0.27180732 \n",
       "8    1.950088334         0.78659025           0.53155859 -0.32117383 \n",
       "9   -0.926110605        -0.87333850          -1.51753156  2.38018476 \n",
       "10   0.684560801        -0.42470911           0.93246753 -0.51883422 \n",
       "11   0.396940907        -0.02094266          -0.43359257  0.33769412 \n",
       "12  -0.926110605        -0.94063291          -1.13889534 -0.58472101 \n",
       "13  -0.178298881        -0.44714058           0.79140698  1.32599604 \n",
       "14   0.109321013        -1.16494760          -1.02753174  0.86478848 \n",
       "15   0.109321013         1.93059520           1.08095232 -0.18940024 \n",
       "16  -0.178298881        -0.73874968          -0.48185013  0.14003373 \n",
       "17  -1.616398350         0.51741261          -0.02525939 -0.98004178 \n",
       "18   0.454464885         0.22580351           0.33852836 -0.32117383 \n",
       "19  -1.041158563        -0.51443499          -0.18859266 -1.04592857 \n",
       "20   0.339416928        -0.24525735          -0.87904695 -0.12351345 \n",
       "21   0.627036822         0.09121469           1.48928550 -0.91415498 \n",
       "22  -0.638490711         0.51741261          -0.10692602  1.39188284 \n",
       "23   1.489896503         0.33796086           0.50928587 -2.23189088 \n",
       "24  -1.271254478        -1.38926230          -0.55609252  0.14003373 \n",
       "25  -0.120774902         0.06878322          -0.83821363  1.72131681 \n",
       "26   1.087228652        -0.22282588           1.80295963 -1.37536255 \n",
       "27  -0.523442754        -0.04337412          -1.07950142  0.93067527 \n",
       "28  -0.696014690        -0.11066853           0.33110412  1.19422245 \n",
       "29   0.972180694         1.07819935           1.76955055  1.26010925 \n",
       "30  -0.120774902        -0.89576997          -1.51196338 -1.57302293 \n",
       "... ...                 ...                  ...         ...         \n",
       "649 -0.811062648        -1.47898818          -0.85677423  0.733014888\n",
       "650 -1.443826414        -1.41169377           0.21974052 -1.638909728\n",
       "651 -0.178298881         1.48196580           1.07352808  3.236713093\n",
       "652 -0.868586626        -1.27710495          -1.09063778  1.787203606\n",
       "653  0.799608758         1.39223993           0.59837674  0.074146939\n",
       "654 -1.328778457        -1.70330287          -0.33707745 -3.022532421\n",
       "655 -0.983634584         0.36039233          -0.93101663 -1.177702164\n",
       "656  0.569512843        -0.53686645          -0.33707745  1.062448862\n",
       "657 -0.753538669        -0.02094266          -0.74169851  0.271807323\n",
       "658  1.662468440         0.27066645          -0.83450151 -1.177702164\n",
       "659  0.339416928         0.27066645          -0.85677423 -0.914154985\n",
       "660  0.281892949        -0.60416086          -0.89389543  0.733014888\n",
       "661 -0.753538669        -1.18737907          -0.93101663  0.798901683\n",
       "662 -0.523442754        -0.94063291          -2.25995553  0.733014888\n",
       "663 -0.408394796        -1.79302875          -0.74541063  0.074146939\n",
       "664 -0.120774902         0.33796086           0.55383131  1.062448862\n",
       "665  0.684560801        -0.78361262          -1.45813764  0.008260144\n",
       "666 -0.063250924         0.38282380          -0.04010787  0.140033734\n",
       "667 -0.811062648         0.15850910           1.44474007  0.008260144\n",
       "668  1.202276609         0.20337204          -0.53010768 -0.255287036\n",
       "669 -0.063250924         0.62956996           0.14549812  1.062448862\n",
       "670 -1.041158563         0.15850910           0.59095250  1.457769631\n",
       "671  0.396940907        -0.29012029          -0.18859266  1.787203606\n",
       "672 -0.983634584        -0.58172939           0.44246771 -0.387060625\n",
       "673 -0.005726945        -0.42470911          -0.85677423  0.337694118\n",
       "674  0.569512843         0.83145319           0.33110412  0.601241298\n",
       "675 -0.753538669        -1.07522172          -0.04010787  0.140033734\n",
       "676 -0.350870817        -0.13310000           0.10837693  0.140033734\n",
       "677 -0.638490711        -0.96306438          -0.79738031 -0.123513446\n",
       "678  0.454464885         0.85388466           0.59095250 -0.057626651\n",
       "    sulphates    alcohol     quality\n",
       "1    0.086390071 -1.0347280  good   \n",
       "2   -0.178244574 -0.8412782  bad    \n",
       "3   -0.354667671 -0.8689139  bad    \n",
       "4   -0.795725414  0.7892269  bad    \n",
       "5   -1.236783157  0.3746917  good   \n",
       "6    0.086390071  0.2088776  bad    \n",
       "7   -1.060360060  1.1208551  good   \n",
       "8    0.086390071 -0.9103674  good   \n",
       "9   -0.090033026  1.9499255  good   \n",
       "10  -0.972148511 -1.2834491  good   \n",
       "11  -2.030687093  1.3695762  good   \n",
       "12   0.615659362  1.3281227  bad    \n",
       "13  -0.972148511  0.1259706  good   \n",
       "14  -0.619302317  0.2088776  good   \n",
       "15  -0.442879220 -1.2834491  bad    \n",
       "16   0.792082459  0.2088776  good   \n",
       "17  -0.090033026  0.4575988  bad    \n",
       "18  -0.090033026 -0.7030998  bad    \n",
       "19   0.792082459  0.4575988  bad    \n",
       "20  -0.795725414  0.2917847  good   \n",
       "21  -0.531090768 -1.2834491  good   \n",
       "22   1.321351750  0.9550410  good   \n",
       "23  -0.001821477 -1.1176350  good   \n",
       "24  -0.090033026  0.1259706  good   \n",
       "25  -0.531090768  0.3746917  good   \n",
       "26   1.762409493 -1.0347280  good   \n",
       "27   0.880294008  1.1208551  good   \n",
       "28   0.880294008  0.2088776  good   \n",
       "29   0.968505556 -0.1227505  bad    \n",
       "30   1.056717105  1.1208551  good   \n",
       "... ...          ...         ...    \n",
       "649  1.409563299  1.12085511 good   \n",
       "650 -0.001821477 -1.28344910 good   \n",
       "651  1.938832590 -0.53728573 bad    \n",
       "652 -0.619302317  1.03794806 good   \n",
       "653 -1.148571608 -1.03472798 bad    \n",
       "654 -0.178244574  0.12597061 good   \n",
       "655 -1.324994705 -0.12275052 bad    \n",
       "656 -1.324994705 -0.62019277 good   \n",
       "657 -0.266456123  1.28666919 good   \n",
       "658 -0.707513866  0.04306356 good   \n",
       "659 -0.442879220  0.62341286 good   \n",
       "660 -1.236783157  0.20887765 good   \n",
       "661 -0.266456123  0.20887765 good   \n",
       "662 -0.795725414  2.44736777 good   \n",
       "663 -1.413206254  0.45759877 good   \n",
       "664 -0.090033026 -0.70309981 bad    \n",
       "665  0.086390071  2.11573961 good   \n",
       "666  0.615659362 -0.95182094 good   \n",
       "667  0.351024717 -0.53728573 good   \n",
       "668 -0.619302317 -0.53728573 bad    \n",
       "669  1.056717105 -0.62019277 good   \n",
       "670 -0.178244574 -0.53728573 good   \n",
       "671 -0.090033026 -0.12275052 good   \n",
       "672  0.351024717 -0.78600685 bad    \n",
       "673 -0.883936963  1.12085511 good   \n",
       "674  0.527447814 -0.12275052 good   \n",
       "675  0.174601620 -0.37147164 bad    \n",
       "676 -0.354667671  0.29178469 good   \n",
       "677 -0.972148511  0.45759877 good   \n",
       "678  1.497774847 -1.11763502 good   "
      ]
     },
     "metadata": {},
     "output_type": "display_data"
    }
   ],
   "source": [
    "testing.data"
   ]
  },
  {
   "cell_type": "code",
   "execution_count": 46,
   "metadata": {
    "collapsed": false
   },
   "outputs": [
    {
     "name": "stdout",
     "output_type": "stream",
     "text": [
      "\n",
      "Ridge model test auc:  0.6487158\n",
      "Lasso model test auc:  0.648659"
     ]
    }
   ],
   "source": [
    "testing.mat <- model.matrix(quality ~ ., data = testing.data)[,-1]\n",
    "\n",
    "# predict test data using the ridge regression model\n",
    "probs <- predict(ridge.result$lsModel, s = cv.ridge$lambda.min, newx=testing.mat, type = \"response\")\n",
    "pred.glm <- rep('good', length(probs))\n",
    "pred.glm[probs < 0.5] <- 'bad'\n",
    "\n",
    "auc <- roc(as.numeric(testing.file$quality), as.numeric(factor(pred.glm)))$auc\n",
    "\n",
    "cat(\"\\nRidge model test auc: \", auc)\n",
    "\n",
    "test.models[iter,'index'] <- iter\n",
    "test.models[iter,'model'] <- 'regularization - Ridge'\n",
    "test.models[iter,'auc.score'] <- auc\n",
    "iter <- iter + 1\n",
    "\n",
    "probs <- predict(lasso.result$lsModel, s = cv.lasso$lambda.min, newx=testing.mat, type = \"response\")\n",
    "pred.glm <- rep('good', length(probs))\n",
    "pred.glm[probs < 0.5] <- 'bad'\n",
    "\n",
    "auc <- roc(as.numeric(testing.data$quality), as.numeric(factor(pred.glm)))$auc\n",
    "cat(\"\\nLasso model test auc: \", auc)\n",
    "\n",
    "test.models[iter,'index'] <- iter\n",
    "test.models[iter,'model'] <- 'regularization - Lasso'\n",
    "test.models[iter,'auc.score'] <- auc\n",
    "iter <- iter + 1"
   ]
  },
  {
   "cell_type": "markdown",
   "metadata": {},
   "source": [
    "## 6. Comparison Between Feature Selection and Regularization\n",
    "\n",
    "Let us now recap the resulting models we have created.\n",
    "\n",
    "full model:\n",
    "\n",
    "`\n",
    "quality ~ fixed.acidity + volatile.acidity + citric.acid + residual.sugar + chlorides + free.sulfur.dioxide + total.sulfur.dioxide + density + pH + sulphates + alcohol\n",
    "`\n",
    "\n",
    "forward stepwise selection with AUC score\n",
    "\n",
    "`\n",
    "quality ~ alcohol + volatile.acidity + residual.sugar + fixed.acidity\n",
    "`\n",
    "\n",
    "forward stepwise selection with accuracy score\n",
    "\n",
    "`\n",
    "quality ~ alcohol + volatile.acidity + residual.sugar\n",
    "`\n",
    "\n",
    "forward stepwise selection AIC score\n",
    "\n",
    "`\n",
    "quality ~ alcohol + volatile.acidity + residual.sugar + fixed.acidity + sulphates\n",
    "`\n",
    "\n",
    "Ridge regularization\n",
    "\n",
    "`\n",
    "quality ~ fixed.acidity + volatile.acidity + citric.acid + residual.sugar + chlorides + free.sulfur.dioxide + total.sulfur.dioxide + density + pH + sulphates + alcohol + L2 penalty\n",
    "`\n",
    "\n",
    "Lasso regularization\n",
    "\n",
    "`\n",
    "quality ~ fixed.acidity + volatile.acidity + residual.sugar + chlorides + free.sulfur.dioxide + total.sulfur.dioxide + pH + sulphates + alcohol + L1 penalty\n",
    "`\n",
    "\n",
    "Let us also see the AUC scores of the models."
   ]
  },
  {
   "cell_type": "code",
   "execution_count": 47,
   "metadata": {
    "collapsed": false
   },
   "outputs": [
    {
     "data": {
      "text/html": [
       "<table>\n",
       "<thead><tr><th scope=col>index</th><th scope=col>model</th><th scope=col>auc.score</th></tr></thead>\n",
       "<tbody>\n",
       "\t<tr><td>1                     </td><td>stepwise - AUC        </td><td>0.6443025             </td></tr>\n",
       "\t<tr><td>2                     </td><td>stepwise - Accuracy   </td><td>0.6452107             </td></tr>\n",
       "\t<tr><td>3                     </td><td>stepwise - AIC        </td><td>0.6513836             </td></tr>\n",
       "\t<tr><td>4                     </td><td>regularization - Ridge</td><td>0.6487158             </td></tr>\n",
       "\t<tr><td>5                     </td><td>regularization - Lasso</td><td>0.6486590             </td></tr>\n",
       "</tbody>\n",
       "</table>\n"
      ],
      "text/latex": [
       "\\begin{tabular}{r|lll}\n",
       " index & model & auc.score\\\\\n",
       "\\hline\n",
       "\t 1                      & stepwise - AUC         & 0.6443025             \\\\\n",
       "\t 2                      & stepwise - Accuracy    & 0.6452107             \\\\\n",
       "\t 3                      & stepwise - AIC         & 0.6513836             \\\\\n",
       "\t 4                      & regularization - Ridge & 0.6487158             \\\\\n",
       "\t 5                      & regularization - Lasso & 0.6486590             \\\\\n",
       "\\end{tabular}\n"
      ],
      "text/markdown": [
       "\n",
       "index | model | auc.score | \n",
       "|---|---|---|---|---|\n",
       "| 1                      | stepwise - AUC         | 0.6443025              | \n",
       "| 2                      | stepwise - Accuracy    | 0.6452107              | \n",
       "| 3                      | stepwise - AIC         | 0.6513836              | \n",
       "| 4                      | regularization - Ridge | 0.6487158              | \n",
       "| 5                      | regularization - Lasso | 0.6486590              | \n",
       "\n",
       "\n"
      ],
      "text/plain": [
       "  index model                  auc.score\n",
       "1 1     stepwise - AUC         0.6443025\n",
       "2 2     stepwise - Accuracy    0.6452107\n",
       "3 3     stepwise - AIC         0.6513836\n",
       "4 4     regularization - Ridge 0.6487158\n",
       "5 5     regularization - Lasso 0.6486590"
      ]
     },
     "metadata": {},
     "output_type": "display_data"
    }
   ],
   "source": [
    "test.models"
   ]
  },
  {
   "cell_type": "code",
   "execution_count": 48,
   "metadata": {
    "collapsed": true
   },
   "outputs": [],
   "source": [
    "#?predict.glmnet"
   ]
  },
  {
   "cell_type": "markdown",
   "metadata": {},
   "source": [
    "Results show that the models using feature selection and regularization perform at the same rate as the full model. The performance is similar if we take into account the uncertainty brought by cross validation. On the bright side, the models produced are simpler and has lesser variance without a significant drop in performance.\n",
    "\n",
    "**Advantages and Disadvantanges of the Three Methods Used**\n",
    "\n",
    "**Forward Stepwise Selection**\n",
    "\n",
    "Advantages \n",
    "- Reduces the complexity of the model because it does not use all features\n",
    "- Better and faster than subset selection because it has less model combinations to consider\n",
    "- We can analyse the intermediate effect of applying different combinations of variables to the model\n",
    "\n",
    "Disadvantages \n",
    "- Computationally expensive and harder to implement than regularization\n",
    "- Needs to contain the features of the previously created Model, so is not 100% sure to find the optimal combination of features\n",
    "- Tends to have high variance because it is instensely trained to fit the training data  \n",
    "\n",
    "\n",
    "**Ridge Regularization**\n",
    "\n",
    "Advantages \n",
    "- Easier to implement than both Stepwise Selection and Lasso Regularization as it does not yield sparse model\n",
    "- Reduces the risk of overfitting by penalizing the parameters\n",
    "\n",
    "Disadvantages \n",
    "- May lead to a biased model if a wrong lambda is picked as it might penalize relevant variables\n",
    "- Has a higher chance to overfit than both Stepwise and Lasso because it does not remove any features\n",
    "\n",
    "\n",
    "**Lasso Regularization**\n",
    "\n",
    "Advantages \n",
    "- Computationally better than Stepwise Selection in generating sparse models\n",
    "- Reduces the risk of overfitting by penalizing the parameters\n",
    "- Creates a simpler model than Ridge Regularization\n",
    "\n",
    "Disadvantages \n",
    "- May lead to a biased model if a wrong lambda is picked as it might remove relevant variables\n",
    "- Deems correlated features as redundant variables"
   ]
  },
  {
   "cell_type": "markdown",
   "metadata": {},
   "source": [
    "What is the best model?"
   ]
  },
  {
   "cell_type": "code",
   "execution_count": 49,
   "metadata": {
    "collapsed": false
   },
   "outputs": [
    {
     "data": {
      "text/html": [
       "<table>\n",
       "<thead><tr><th></th><th scope=col>index</th><th scope=col>model</th><th scope=col>auc.score</th></tr></thead>\n",
       "<tbody>\n",
       "\t<tr><th scope=row>3</th><td>3             </td><td>stepwise - AIC</td><td>0.6513836     </td></tr>\n",
       "</tbody>\n",
       "</table>\n"
      ],
      "text/latex": [
       "\\begin{tabular}{r|lll}\n",
       "  & index & model & auc.score\\\\\n",
       "\\hline\n",
       "\t3 & 3              & stepwise - AIC & 0.6513836     \\\\\n",
       "\\end{tabular}\n"
      ],
      "text/markdown": [
       "\n",
       "| <!--/--> | index | model | auc.score | \n",
       "|---|\n",
       "| 3 | 3              | stepwise - AIC | 0.6513836      | \n",
       "\n",
       "\n"
      ],
      "text/plain": [
       "  index model          auc.score\n",
       "3 3     stepwise - AIC 0.6513836"
      ]
     },
     "metadata": {},
     "output_type": "display_data"
    }
   ],
   "source": [
    "# get the best model\n",
    "subset(test.models, auc.score == max(auc.score))"
   ]
  },
  {
   "cell_type": "markdown",
   "metadata": {},
   "source": [
    "Based on the **AUC scores**, the best model is the **Stepwise Selection based in AIC scoring**, followed by **Ridge Regularization and Lasso Regularization**. What does this say? It is preferred to look at the model's inherent characteristics (like the coefficients, number of parameters, etc.) than the model's predictive performance on the training data. In this scenario, looking at the AIC score and penalizing the coefficients are more effective than looking at the best AUC score. It is more important to create a *generalized* model to account for the uncertainty of the test data. Otherwise, your model might be overfitted.\n",
    "\n",
    "However, in comparing them against the full model, the three models failed to improve accuracy. The full model's performance against the test data outperforms all the models in terms of the AUC (albeit to a very small degree). Again, the benefit gained from feature selection and regularization is to preserve the model's predictive performance while reducing its complexity by removing features or shrinking its coefficients.\n",
    "\n",
    "**Recommendations**\n",
    "\n",
    "What can be implied from these findings?\n",
    "- A linear model may not be suited to the dataset. Looking at the statistics of the data alone does not show any *linear* relationship between good or bad wine. Maybe other models like QDA or decision trees may perform better.\n",
    "- The underperformance of the models may be due to class imbalance. The good wines are better represented than the bad wines. Cross validation should have reduced the effect of class imbalance, however that wasn't apparent on the result. Better to get more data to produce a better model.\n",
    "- Based on the table above, **Lasso regularization** is the most effective way to reduce the model complexity. It is computationally better than stepwise selection and is a simplier model than ridge while yielding the same level of test accuracy.\n",
    "\n",
    "## 7. Conclusion\n",
    "\n",
    "This assessment deals with creating a wine quality classifier using logistic regression, and optimizing it using feature selection and regularization. Results show that these methods simplify the existing model by shrinking its coefficients or removing parameters it deem redundant. Specifically, the following competencies were performed:\n",
    "\n",
    "1. **Using R for applied data analysis.** R is a very powerful tool for both exploring and analyzing the house prices dataset. Working through this assessment is more straightforward and has given me more time to analyze the data and the models I create because of its built-in functions and data types.\n",
    "\n",
    "2. **Exploratory Data Analysis**. Exploratory Data Analysis, though not specified in the assessment, is still needed to familiarize myself with the data. In exploring the data, I get to have an idea about the behaviors of the different features. It makes creating the model more insightful.\n",
    "\n",
    "3. **Producing a Logistic Regression Model.** Logistic Regression is a robust classifier especially for binary classification. The dataset were not responding well with the models I have created, and it can be further improved by using interaction terms, dealing with collinearity or increasing the size of the data.\n",
    "\n",
    "4. **Improving the model via Feature Selection and Regularization.** Both methods are a great way to optimize the model. Feature selection aims to select the best combination of models without having to test every possible combination. Ridge and Lasso regularizations are a great way to shrink the coefficients of the models (and in the case of Lasso, remove redundant features) to avoid overfitting."
   ]
  },
  {
   "cell_type": "markdown",
   "metadata": {},
   "source": []
  }
 ],
 "metadata": {
  "kernelspec": {
   "display_name": "R",
   "language": "R",
   "name": "ir"
  },
  "language_info": {
   "codemirror_mode": "r",
   "file_extension": ".r",
   "mimetype": "text/x-r-source",
   "name": "R",
   "pygments_lexer": "r",
   "version": "3.3.2"
  }
 },
 "nbformat": 4,
 "nbformat_minor": 2
}
