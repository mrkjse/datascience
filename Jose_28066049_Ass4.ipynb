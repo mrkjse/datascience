{
 "cells": [
  {
   "cell_type": "markdown",
   "metadata": {},
   "source": [
    "# FIT 5196 Assessment 4\n",
    "\n",
    "Date: 30 May 2017 \n",
    " \n",
    "Version: 1\n",
    "\n",
    "Environment: Python 2.7.13 and Jupyter notebook\n",
    "\n",
    "\n",
    "### Description\n",
    "This assessment covers topics from weeks 9 to 11, mainly about **Data Integration** and **Data Reshaping**.  \n",
    "\n",
    "The availability of data nowadays and the speed at which data is generated is unprecedented. In connection, different data formats have been introduced to satisfy different needs and requirements in storing and presenting data. In order to combine these datasets for further analysis and greater value, proper merging and integration is important. \n",
    "\n",
    "Furthermore, data normalisation is also necessary in order to maintain better predictive models by 'scaling' different attributes. Data transformation and normalisation helps data scientists to better see any relationships between variables and allows them to perform some methods that are limited to specific sets of data (e.g. methods where Gaussian variables are expected).\n",
    "\n",
    "The data used are in the XML and CSV form, but both files pertain to a collection of property sales in **King County, Washington** from **May to July 2014**. Further description of the individual datasets will be shown below. According to the assignment specifications, 430 sales records are found in the XML file while 4,600 records are in the CSV file.\n",
    "\n",
    "This assessment will illustrate how to parse both XML and CSV files into a Pandas DataFrame, how to create a **mediated (also known as global) schema** to integrate both data frames and reconcile both data sources based from  this schema, and transforming variables using Z-Score Normalization, Min-Max Scaling, and Log Transformation.\n",
    "\n",
    "### Contents\n",
    "1. Importing Libraries\n",
    "2. Reading the Data\n",
    "    - Reading and Describing the XML File\n",
    "    - Reading and Describing the CSV File\n",
    "3. Defining the Mediated Schema\n",
    "4. Parsing the XML File\n",
    "    - Converting the XML nodes to Pandas DataFrame\n",
    "    - Defining Tasks for Schema and Data Integration\n",
    "    - Parsing Address\n",
    "        - Extracting different address components\n",
    "        - Checking Country Values\n",
    "        - Checking Zip Code Values\n",
    "        - Checking State Values\n",
    "        - Creating StateZip Column\n",
    "        - Checking County Values\n",
    "        - Checking City Values\n",
    "        - Checking Street Values\n",
    "    - Parsing Price\n",
    "    - Parsing Bedrooms, Bathrooms, Floors\n",
    "    - Parsing Areas (Living Area, Lot Area, Upper Area, Basement Area)\n",
    "    - Parsing Waterfront and View\n",
    "    - Parsing Sold_Date\n",
    "    - Parsing Build_Year and Renovate Year\n",
    "    - Renaming and Reordering Columns\n",
    "5. Parsing the CSV File\n",
    "    - Defining Tasks for Schema and Data Integration\n",
    "    - Parsing Price\n",
    "    - Parsing Date\n",
    "    - Parsing Street\n",
    "    - Parsing City\n",
    "    - Parsing Statezip\n",
    "    - Parsing Country\n",
    "    - Parsing Yr_Built & Yr_Renovated\n",
    "    - Removing Columns\n",
    "    - Renaming and Reordering Columns\n",
    "6. Forming the Integrated Data Frame\n",
    "7. Price Data Reshaping\n",
    "    - Z-Score Normalisation\n",
    "    - Min-Max Normalisation\n",
    "    - Log Transformation\n",
    "    - Plots and Analysis\n",
    "8. Summary\n",
    "9. References\n",
    "    "
   ]
  },
  {
   "cell_type": "code",
   "execution_count": 1,
   "metadata": {
    "collapsed": false
   },
   "outputs": [
    {
     "name": "stderr",
     "output_type": "stream",
     "text": [
      "Python 2.7.13 :: Anaconda 4.3.0 (64-bit)\n"
     ]
    }
   ],
   "source": [
    "!python --version"
   ]
  },
  {
   "cell_type": "markdown",
   "metadata": {},
   "source": [
    "# 1. Importing Libraries\n",
    "The following libraries are used:\n",
    "\n",
    "- **pandas** - for putting the data into the DataFrame and the suceeding DataFrame operations (pandas Developers, 2012)\n",
    "- **BeautifulSoup** - for reading and parsing the XML File (Richardson, 2012)\n",
    "- **numpy** - for faster numerical calculations (Numpy Developers, 2017)\n",
    "- **matplotlib.pyplot** - for graph the data (Matplotlib Development Team, 2017)\n",
    "- **math** - for performing log transform (Python Software Foundation, 2012)\n"
   ]
  },
  {
   "cell_type": "code",
   "execution_count": 2,
   "metadata": {
    "collapsed": true
   },
   "outputs": [],
   "source": [
    "from bs4 import BeautifulSoup\n",
    "import pandas as pd\n",
    "import numpy as np\n",
    "import math\n",
    "import matplotlib.pyplot as plt"
   ]
  },
  {
   "cell_type": "markdown",
   "metadata": {},
   "source": [
    "# 2. Reading the Data\n",
    "\n",
    "This part comprises reading and analysing both XML and CSV files. Both files are parsed into a data frame and its columns analysed to come up with a reconciled mediated schema.\n",
    "\n",
    "## 2.1 Reading and Describing the XML File\n",
    "The XML file contains a collection of 430 records which pertain to the sales of properties accross King County, Washington on July 2014.\n",
    "\n",
    "**BeautifulSoup** was used in order to read and extract the data. (Richardson, 2012) BeautifulSoup provides an easy interface in reading both HTML and XML file using the `find()` and `find_all()` functions. The former is used to find individual tags in a node while the latter is used to get a collection of nodes. To get the values of the tags' attributes, BeautifulSoup methods `has_attrs()` and `attrs[]` are used.  "
   ]
  },
  {
   "cell_type": "code",
   "execution_count": 3,
   "metadata": {
    "collapsed": false
   },
   "outputs": [],
   "source": [
    "infile = open(\"data_s2_ass4.xml\", \"r\")\n",
    "contents = infile.read()\n",
    "soup = BeautifulSoup(contents, \"lxml\")\n",
    "infile.close()"
   ]
  },
  {
   "cell_type": "markdown",
   "metadata": {},
   "source": [
    "Check if 430 records are found and show what does a record look like."
   ]
  },
  {
   "cell_type": "code",
   "execution_count": 4,
   "metadata": {
    "collapsed": false
   },
   "outputs": [
    {
     "name": "stdout",
     "output_type": "stream",
     "text": [
      "Number of records: 430\n",
      "\n",
      "<record>\n",
      "<date>2014-07-19</date>\n",
      "<address>10515, 115th Place Northeast, Juanita, Kirkland, King County, Washington, 98033, United States of America</address>\n",
      "<price>630000</price>\n",
      "<solddate>2014-07-09</solddate>\n",
      "<bedrooms>3</bedrooms>\n",
      "<bathrooms>1.75</bathrooms>\n",
      "<livingarea unit=\"sqm\">158.8641984</livingarea>\n",
      "<lotarea unit=\"sqm\">814.48095168</lotarea>\n",
      "<floors>1.0</floors>\n",
      "<waterfront></waterfront>\n",
      "<view></view>\n",
      "<upperarea unit=\"sqm\">158.8641984</upperarea>\n",
      "<basementarea></basementarea>\n",
      "<buildyear>1986</buildyear>\n",
      "<renovateyear>0</renovateyear>\n",
      "</record>\n",
      "\n",
      "<record>\n",
      "<date>2014-07-15</date>\n",
      "<address>6824, Phinney Avenue North, Phinney Ridge, Seattle, King County, Washington, 98103, United States of America</address>\n",
      "<price>569950</price>\n",
      "<solddate>2014-07-10</solddate>\n",
      "<bedrooms>4</bedrooms>\n",
      "<bathrooms>1.0</bathrooms>\n",
      "<livingarea unit=\"sqm\">105.9094656</livingarea>\n",
      "<lotarea unit=\"sqm\">551.8440576</lotarea>\n",
      "<floors>1.0</floors>\n",
      "<waterfront></waterfront>\n",
      "<view>2</view>\n",
      "<upperarea unit=\"sqm\">105.9094656</upperarea>\n",
      "<basementarea></basementarea>\n",
      "<buildyear>1916</buildyear>\n",
      "<renovateyear>0</renovateyear>\n",
      "</record>\n",
      "\n",
      "<record>\n",
      "<date>2014-07-21</date>\n",
      "<address>10032, Rainier Avenue South, Seattle, King County, Washington, 98178, United States of America</address>\n",
      "<price>840500</price>\n",
      "<solddate>2014-07-15</solddate>\n",
      "<bedrooms>4</bedrooms>\n",
      "<bathrooms>2.25</bathrooms>\n",
      "<livingarea unit=\"sqm\">212.7479616</livingarea>\n",
      "<lotarea unit=\"sqm\">1131.00160896</lotarea>\n",
      "<floors>1.0</floors>\n",
      "<waterfront>Yes</waterfront>\n",
      "<view>4</view>\n",
      "<upperarea unit=\"sqm\">138.4255296</upperarea>\n",
      "<basementarea unit=\"sqm\">74.322432</basementarea>\n",
      "<buildyear>1948</buildyear>\n",
      "<renovateyear>0</renovateyear>\n",
      "</record>\n"
     ]
    }
   ],
   "source": [
    "records = soup.find_all('record')\n",
    "print 'Number of records: ' + str(len(soup.find_all('record')))\n",
    "print ''\n",
    "print records[0]\n",
    "print ''\n",
    "print records[41]\n",
    "print ''\n",
    "print records[369]"
   ]
  },
  {
   "cell_type": "markdown",
   "metadata": {},
   "source": [
    "Checking the XML file, a `<record>` has the following child nodes:\n",
    "\n",
    "1. **date** - The date which the entry was logged.\n",
    "2. **address** - The complete address of the property.\n",
    "3. **price** - The price at which the property was sold.\n",
    "4. **solddate** - The date which the property was sold.\n",
    "5. **bedrooms** - The number of bedrooms.\n",
    "6. **bathrooms** - The number of bathrooms.\n",
    "7. **livingarea** - The area of living space, of which unit is an attribute.\n",
    "8. **lotarea** - The area of the lot, of which unit is an attribute.\n",
    "9. **floors** - The number of floors.\n",
    "10. **waterfront** - Indicates whether a property is in front of a body of water or not.\n",
    "11. **view** - Indicates whether a property has a view or not. \n",
    "12. **upperarea** - The area of the living space over the terrain, of which unit is an attribute.\n",
    "13. **basementarea** - The area of the living space under the terrain, of which unit is an attribute.\n",
    "14. **buildyear** - The year the property was built.\n",
    "15. **renovateyear** - The year the property was renovated.\n",
    "\n",
    "The following are **numeric variables**:\n",
    "- *Discrete*: price, bedrooms, bathrooms, floors\n",
    "- *Continuous*: livingarea, lotarea, upperarea, basementarea\n",
    "- *Time*: date, solddate, buildyear, renovateyear\n",
    "\n",
    "The following are **categorical variables**:\n",
    "- *Ordinal:* waterfront, view\n",
    "- *Nominal:* address"
   ]
  },
  {
   "cell_type": "markdown",
   "metadata": {},
   "source": [
    "### 2.1.1 Converting the XML Nodes to Pandas DataFrame\n",
    "\n",
    "The XML File will then be converted into a DataFrame. But first, check if for every record node there are only single tags of the variables indicated above. I created a method called `check_multiple_tags()` to do this. This method will use BeautifulSoup's `findAll()` method and check if it was able to find more than 1 node per variable."
   ]
  },
  {
   "cell_type": "code",
   "execution_count": 5,
   "metadata": {
    "collapsed": false
   },
   "outputs": [],
   "source": [
    "# Check if there are a list of tags that we should now about before extracting the record.\n",
    "# Example:\n",
    "# <parent> \n",
    "#       <child> </child>\n",
    "#       <child> </child>\n",
    "# </parent>\n",
    "def check_multiple_tags(tagname):\n",
    "    nodes = record.findAll(tagname)\n",
    "    if (len(nodes) > 1):\n",
    "        print 'multiple ', tagname, ' exist.'\n",
    "    if (len(nodes) == 0):\n",
    "        print 'empty ', tagname, ' exist.'\n",
    "\n",
    "for record in records:\n",
    "    check_multiple_tags('date')\n",
    "    check_multiple_tags('address')\n",
    "    check_multiple_tags('price')\n",
    "    check_multiple_tags('solddate')\n",
    "    check_multiple_tags('bedrooms')\n",
    "    check_multiple_tags('bathrooms')\n",
    "    check_multiple_tags('livingarea')\n",
    "    check_multiple_tags('lotarea')\n",
    "    check_multiple_tags('floors')\n",
    "    check_multiple_tags('waterfront')\n",
    "    check_multiple_tags('view')\n",
    "    check_multiple_tags('upperarea')\n",
    "    check_multiple_tags('basementarea')\n",
    "    check_multiple_tags('buildyear')\n",
    "    check_multiple_tags('renovateyear')"
   ]
  },
  {
   "cell_type": "markdown",
   "metadata": {},
   "source": [
    "Since the XML File is structured as expected, I now created a function called `extract_record()` to extract values inside the nodes . Again **BeautifulSoup** methods are utilised for this. The function returns a **Pandas Series** (Pandas Developers, 2017) which is structured like a Python tuple but with indices that tags each element.\n",
    "\n",
    "The final outcome is a collection of Pandas Series that can now be formed into a **Pandas Data Frame** (Pandas Developers, 2014)."
   ]
  },
  {
   "cell_type": "code",
   "execution_count": 6,
   "metadata": {
    "collapsed": false
   },
   "outputs": [
    {
     "name": "stdout",
     "output_type": "stream",
     "text": [
      "430\n"
     ]
    }
   ],
   "source": [
    "recordSeries = []\n",
    "\n",
    "# Extract the values from the nodes and put it into a Pandas Series.\n",
    "def extract_record(record):\n",
    "    date = record.find('date').text\n",
    "    address = record.find('address').text\n",
    "    price = record.find('price').text\n",
    "    soldDate = record.find('solddate').text\n",
    "    bedrooms = record.find('bedrooms').text\n",
    "    bathrooms = record.find('bathrooms').text\n",
    "    livingAreaTag = record.find('livingarea')\n",
    "    livingArea = livingAreaTag.text\n",
    "    \n",
    "    # Extract the living area unit by checking the attribute 'unit'.\n",
    "    if (livingAreaTag.has_attr('unit')):\n",
    "        livingAreaUnit = livingAreaTag.attrs['unit'].strip()\n",
    "    # If the unit does not exist put blank.\n",
    "    else:\n",
    "        livingAreaUnit = ''\n",
    "    \n",
    "    lotAreaTag = record.find('lotarea')\n",
    "    lotArea = lotAreaTag.text\n",
    "    \n",
    "    # Extract the lot area unit by checking the attribute 'unit'.\n",
    "    if (lotAreaTag.has_attr('unit')):\n",
    "        lotAreaUnit = lotAreaTag.attrs['unit'].strip()\n",
    "    # If the unit does not exist put blank.\n",
    "    else:\n",
    "        lotAreaUnit = ''\n",
    "        \n",
    "    floors = record.find('floors').text\n",
    "    waterFront = record.find('waterfront').text\n",
    "    view = record.find('view').text\n",
    "    \n",
    "    upperAreaTag = record.find('upperarea')\n",
    "    upperArea = upperAreaTag.text\n",
    "    \n",
    "    # Extract the upper area unit by checking the attribute 'unit'.\n",
    "    if (upperAreaTag.has_attr('unit')):\n",
    "        upperAreaUnit = upperAreaTag.attrs['unit'].strip()\n",
    "    # If the unit does not exist put blank.\n",
    "    else:\n",
    "        upperAreaUnit = ''\n",
    "    \n",
    "    basementAreaTag = record.find('basementarea') \n",
    "    basementArea = basementAreaTag.text\n",
    "    \n",
    "    # Extract the basement area unit by checking the attribute 'unit'.\n",
    "    if (basementAreaTag.has_attr('unit')):\n",
    "        basementAreaUnit = basementAreaTag.attrs['unit'].strip()\n",
    "    # If the unit does not exist put blank.\n",
    "    else:\n",
    "        basementAreaUnit = ''\n",
    "            \n",
    "    buildYear = record.find('buildyear').text\n",
    "    renovateYear = record.find('renovateyear').text\n",
    "    \n",
    "    # Put the extracted texts into a tuple.\n",
    "    newTuple = [date, \n",
    "                address, \n",
    "                price, \n",
    "                soldDate, \n",
    "                bedrooms, \n",
    "                bathrooms, \n",
    "                livingArea, \n",
    "                livingAreaUnit,\n",
    "                lotArea,\n",
    "                lotAreaUnit,\n",
    "                floors, \n",
    "                waterFront, \n",
    "                view, \n",
    "                upperArea, \n",
    "                upperAreaUnit,\n",
    "                basementArea, \n",
    "                basementAreaUnit,\n",
    "                buildYear, \n",
    "                renovateYear]\n",
    "    \n",
    "    # Convert the tuple into a Pandas Series.\n",
    "    # Notice that the units have different indices so we can checkout the values later.\n",
    "    newSeries = pd.Series(newTuple,\n",
    "                          index = ['date', \n",
    "                                  'address', \n",
    "                                  'price', \n",
    "                                  'sold_date', \n",
    "                                  'bedrooms', \n",
    "                                  'bathrooms', \n",
    "                                  'living_area',\n",
    "                                  'living_area_unit',\n",
    "                                  'lot_area',\n",
    "                                  'lot_area_unit',\n",
    "                                  'floors', \n",
    "                                  'waterfront', \n",
    "                                  'view',\n",
    "                                  'upper_area', \n",
    "                                  'upper_area_unit',\n",
    "                                  'basement_area', \n",
    "                                  'basement_area_unit',\n",
    "                                  'build_year', \n",
    "                                  'renovate_year'])\n",
    "    \n",
    "    return newSeries\n",
    "\n",
    "# Extract the records and put them into a collection of Pandas Series.\n",
    "recordSeries = [extract_record(record) for record in records]\n",
    "\n",
    "print(len(recordSeries))"
   ]
  },
  {
   "cell_type": "markdown",
   "metadata": {},
   "source": [
    "Check if the texts were extracted and they are where they're supposed to be."
   ]
  },
  {
   "cell_type": "code",
   "execution_count": 7,
   "metadata": {
    "collapsed": false
   },
   "outputs": [
    {
     "name": "stdout",
     "output_type": "stream",
     "text": [
      "date                                                         2014-07-16\n",
      "address               Elk Meadows Park, Warner Avenue East, Enumclaw...\n",
      "price                                                            272000\n",
      "sold_date                                                    2014-07-15\n",
      "bedrooms                                                              4\n",
      "bathrooms                                                           2.0\n",
      "living_area                                                 173.7286848\n",
      "living_area_unit                                                    sqm\n",
      "lot_area                                                   608.60781504\n",
      "lot_area_unit                                                       sqm\n",
      "floors                                                              1.0\n",
      "waterfront                                                             \n",
      "view                                                                  3\n",
      "upper_area                                                  173.7286848\n",
      "upper_area_unit                                                     sqm\n",
      "basement_area                                                          \n",
      "basement_area_unit                                                     \n",
      "build_year                                                         2009\n",
      "renovate_year                                                         0\n",
      "dtype: object\n",
      "\n",
      "date                                                         2014-07-14\n",
      "address               29298, 54th Place South, Wyngates, Lakeland No...\n",
      "price                                                            299950\n",
      "sold_date                                                    2014-07-11\n",
      "bedrooms                                                              3\n",
      "bathrooms                                                           2.5\n",
      "living_area                                                  148.644864\n",
      "living_area_unit                                                    sqm\n",
      "lot_area                                                    913.2368832\n",
      "lot_area_unit                                                       sqm\n",
      "floors                                                              2.0\n",
      "waterfront                                                             \n",
      "view                                                                   \n",
      "upper_area                                                   148.644864\n",
      "upper_area_unit                                                     sqm\n",
      "basement_area                                                          \n",
      "basement_area_unit                                                     \n",
      "build_year                                                         1993\n",
      "renovate_year                                                         0\n",
      "dtype: object\n"
     ]
    }
   ],
   "source": [
    "# Sanity check. Are we able to extract the data properly?\n",
    "print recordSeries[400]\n",
    "print ''\n",
    "print recordSeries[100]"
   ]
  },
  {
   "cell_type": "code",
   "execution_count": 8,
   "metadata": {
    "collapsed": true
   },
   "outputs": [],
   "source": [
    "# Create a Pandas Data Frame from a list of Series.\n",
    "xmlData = pd.DataFrame(recordSeries)"
   ]
  },
  {
   "cell_type": "code",
   "execution_count": 9,
   "metadata": {
    "collapsed": false
   },
   "outputs": [
    {
     "data": {
      "text/html": [
       "<div>\n",
       "<table border=\"1\" class=\"dataframe\">\n",
       "  <thead>\n",
       "    <tr style=\"text-align: right;\">\n",
       "      <th></th>\n",
       "      <th>date</th>\n",
       "      <th>address</th>\n",
       "      <th>price</th>\n",
       "      <th>sold_date</th>\n",
       "      <th>bedrooms</th>\n",
       "      <th>bathrooms</th>\n",
       "      <th>living_area</th>\n",
       "      <th>living_area_unit</th>\n",
       "      <th>lot_area</th>\n",
       "      <th>lot_area_unit</th>\n",
       "      <th>floors</th>\n",
       "      <th>waterfront</th>\n",
       "      <th>view</th>\n",
       "      <th>upper_area</th>\n",
       "      <th>upper_area_unit</th>\n",
       "      <th>basement_area</th>\n",
       "      <th>basement_area_unit</th>\n",
       "      <th>build_year</th>\n",
       "      <th>renovate_year</th>\n",
       "    </tr>\n",
       "  </thead>\n",
       "  <tbody>\n",
       "    <tr>\n",
       "      <th>0</th>\n",
       "      <td>2014-07-19</td>\n",
       "      <td>10515, 115th Place Northeast, Juanita, Kirklan...</td>\n",
       "      <td>630000</td>\n",
       "      <td>2014-07-09</td>\n",
       "      <td>3</td>\n",
       "      <td>1.75</td>\n",
       "      <td>158.8641984</td>\n",
       "      <td>sqm</td>\n",
       "      <td>814.48095168</td>\n",
       "      <td>sqm</td>\n",
       "      <td>1.0</td>\n",
       "      <td></td>\n",
       "      <td></td>\n",
       "      <td>158.8641984</td>\n",
       "      <td>sqm</td>\n",
       "      <td></td>\n",
       "      <td></td>\n",
       "      <td>1986</td>\n",
       "      <td>0</td>\n",
       "    </tr>\n",
       "    <tr>\n",
       "      <th>1</th>\n",
       "      <td>2014-07-10</td>\n",
       "      <td>1501, Northwest 90th Street, Ballard, Seattle,...</td>\n",
       "      <td>599950</td>\n",
       "      <td>2014-07-09</td>\n",
       "      <td>3</td>\n",
       "      <td>3.25</td>\n",
       "      <td>170.0125632</td>\n",
       "      <td>sqm</td>\n",
       "      <td>167.59708416</td>\n",
       "      <td>sqm</td>\n",
       "      <td>3.0</td>\n",
       "      <td></td>\n",
       "      <td></td>\n",
       "      <td>170.0125632</td>\n",
       "      <td>sqm</td>\n",
       "      <td></td>\n",
       "      <td></td>\n",
       "      <td>2014</td>\n",
       "      <td>0</td>\n",
       "    </tr>\n",
       "    <tr>\n",
       "      <th>2</th>\n",
       "      <td>2014-07-16</td>\n",
       "      <td>537, North 70th Street, Phinney Ridge, Seattle...</td>\n",
       "      <td>680000</td>\n",
       "      <td>2014-07-09</td>\n",
       "      <td>3</td>\n",
       "      <td>2.0</td>\n",
       "      <td>165.3674112</td>\n",
       "      <td>sqm</td>\n",
       "      <td>531.4053888</td>\n",
       "      <td>sqm</td>\n",
       "      <td>1.0</td>\n",
       "      <td></td>\n",
       "      <td></td>\n",
       "      <td>91.0449792</td>\n",
       "      <td>sqm</td>\n",
       "      <td>74.322432</td>\n",
       "      <td>sqm</td>\n",
       "      <td>1925</td>\n",
       "      <td>0</td>\n",
       "    </tr>\n",
       "    <tr>\n",
       "      <th>3</th>\n",
       "      <td>2014-07-13</td>\n",
       "      <td>12008, 35th Avenue Northeast, Cedar Park, Lake...</td>\n",
       "      <td>335500</td>\n",
       "      <td>2014-07-09</td>\n",
       "      <td>3</td>\n",
       "      <td>1.0</td>\n",
       "      <td>127.2771648</td>\n",
       "      <td>sqm</td>\n",
       "      <td>629.8826112</td>\n",
       "      <td>sqm</td>\n",
       "      <td>2.0</td>\n",
       "      <td></td>\n",
       "      <td></td>\n",
       "      <td>127.2771648</td>\n",
       "      <td>sqm</td>\n",
       "      <td></td>\n",
       "      <td></td>\n",
       "      <td>1930</td>\n",
       "      <td>0</td>\n",
       "    </tr>\n",
       "    <tr>\n",
       "      <th>4</th>\n",
       "      <td>2014-07-18</td>\n",
       "      <td>11807, Northeast 105th Court, Juanita, Kirklan...</td>\n",
       "      <td>379000</td>\n",
       "      <td>2014-07-09</td>\n",
       "      <td>3</td>\n",
       "      <td>2.5</td>\n",
       "      <td>142.1416512</td>\n",
       "      <td>sqm</td>\n",
       "      <td>270.62655552</td>\n",
       "      <td>sqm</td>\n",
       "      <td>2.0</td>\n",
       "      <td></td>\n",
       "      <td></td>\n",
       "      <td>142.1416512</td>\n",
       "      <td>sqm</td>\n",
       "      <td></td>\n",
       "      <td></td>\n",
       "      <td>1986</td>\n",
       "      <td>0</td>\n",
       "    </tr>\n",
       "  </tbody>\n",
       "</table>\n",
       "</div>"
      ],
      "text/plain": [
       "         date                                            address   price  \\\n",
       "0  2014-07-19  10515, 115th Place Northeast, Juanita, Kirklan...  630000   \n",
       "1  2014-07-10  1501, Northwest 90th Street, Ballard, Seattle,...  599950   \n",
       "2  2014-07-16  537, North 70th Street, Phinney Ridge, Seattle...  680000   \n",
       "3  2014-07-13  12008, 35th Avenue Northeast, Cedar Park, Lake...  335500   \n",
       "4  2014-07-18  11807, Northeast 105th Court, Juanita, Kirklan...  379000   \n",
       "\n",
       "    sold_date bedrooms bathrooms  living_area living_area_unit      lot_area  \\\n",
       "0  2014-07-09        3      1.75  158.8641984              sqm  814.48095168   \n",
       "1  2014-07-09        3      3.25  170.0125632              sqm  167.59708416   \n",
       "2  2014-07-09        3       2.0  165.3674112              sqm   531.4053888   \n",
       "3  2014-07-09        3       1.0  127.2771648              sqm   629.8826112   \n",
       "4  2014-07-09        3       2.5  142.1416512              sqm  270.62655552   \n",
       "\n",
       "  lot_area_unit floors waterfront view   upper_area upper_area_unit  \\\n",
       "0           sqm    1.0                  158.8641984             sqm   \n",
       "1           sqm    3.0                  170.0125632             sqm   \n",
       "2           sqm    1.0                   91.0449792             sqm   \n",
       "3           sqm    2.0                  127.2771648             sqm   \n",
       "4           sqm    2.0                  142.1416512             sqm   \n",
       "\n",
       "  basement_area basement_area_unit build_year renovate_year  \n",
       "0                                        1986             0  \n",
       "1                                        2014             0  \n",
       "2     74.322432                sqm       1925             0  \n",
       "3                                        1930             0  \n",
       "4                                        1986             0  "
      ]
     },
     "execution_count": 9,
     "metadata": {},
     "output_type": "execute_result"
    }
   ],
   "source": [
    "# Show the resulting data frame from the XML file.\n",
    "xmlData.head()"
   ]
  },
  {
   "cell_type": "markdown",
   "metadata": {},
   "source": [
    "### 2.1.2 Initial Checking for Area Units\n",
    "The continuous variables in the XML file have an attribute called **units**. These attributes were put in a separate column to check if they are all the same (square metres). To do this I used **Pandas'** method called `value_counts()` that  enumerates the unique values in a column. \n",
    "\n",
    "If the values are all **sqm** then these columns can be eliminated."
   ]
  },
  {
   "cell_type": "code",
   "execution_count": 10,
   "metadata": {
    "collapsed": false
   },
   "outputs": [
    {
     "name": "stdout",
     "output_type": "stream",
     "text": [
      "Living Area Unit values:\n",
      "sqm    430\n",
      "Name: living_area_unit, dtype: int64\n",
      "\n",
      "Lot Area Unit values:\n",
      "sqm    430\n",
      "Name: lot_area_unit, dtype: int64\n",
      "\n",
      "Upper Area Unit values:\n",
      "sqm    430\n",
      "Name: upper_area_unit, dtype: int64\n",
      "\n",
      "Basement Area Unit values:\n",
      "       249\n",
      "sqm    181\n",
      "Name: basement_area_unit, dtype: int64\n"
     ]
    }
   ],
   "source": [
    "# Check the values of the units of all continuous variables.\n",
    "print 'Living Area Unit values:'\n",
    "print xmlData['living_area_unit'].value_counts()\n",
    "print '\\nLot Area Unit values:'\n",
    "print xmlData['lot_area_unit'].value_counts()\n",
    "print '\\nUpper Area Unit values:'\n",
    "print xmlData['upper_area_unit'].value_counts()\n",
    "print '\\nBasement Area Unit values:'\n",
    "print xmlData['basement_area_unit'].value_counts() "
   ]
  },
  {
   "cell_type": "markdown",
   "metadata": {},
   "source": [
    "Renamed the columns of *living_area*, *lot_area*, *upper_area* and *basement_area* to **sqm.living_area**, **sqm.lot_area**, **sqm.upper_area**, **sqm.basement_area** since all units are in **sqm**."
   ]
  },
  {
   "cell_type": "code",
   "execution_count": 11,
   "metadata": {
    "collapsed": false,
    "scrolled": true
   },
   "outputs": [],
   "source": [
    "# Since all values have 'sqm' as units, just change the column name as sqm.living_area and so on.\n",
    "xmlData.rename(columns = {\n",
    "            'living_area': 'sqm.living_area', \n",
    "            'lot_area': 'sqm.lot_area', \n",
    "            'upper_area': 'sqm.upper_area', \n",
    "            'basement_area': 'sqm.basement_area'}, inplace = True)"
   ]
  },
  {
   "cell_type": "code",
   "execution_count": 12,
   "metadata": {
    "collapsed": false
   },
   "outputs": [],
   "source": [
    "# Drop the '-units' column.\n",
    "xmlData.drop('living_area_unit', axis = 1, inplace = True)\n",
    "xmlData.drop('lot_area_unit', axis = 1, inplace = True)\n",
    "xmlData.drop('upper_area_unit', axis = 1, inplace = True)\n",
    "xmlData.drop('basement_area_unit', axis = 1, inplace = True)"
   ]
  },
  {
   "cell_type": "markdown",
   "metadata": {},
   "source": [
    "The resulting DataFrame generated from the XML file is shown below. "
   ]
  },
  {
   "cell_type": "code",
   "execution_count": 13,
   "metadata": {
    "collapsed": false
   },
   "outputs": [
    {
     "data": {
      "text/html": [
       "<div>\n",
       "<table border=\"1\" class=\"dataframe\">\n",
       "  <thead>\n",
       "    <tr style=\"text-align: right;\">\n",
       "      <th></th>\n",
       "      <th>date</th>\n",
       "      <th>address</th>\n",
       "      <th>price</th>\n",
       "      <th>sold_date</th>\n",
       "      <th>bedrooms</th>\n",
       "      <th>bathrooms</th>\n",
       "      <th>sqm.living_area</th>\n",
       "      <th>sqm.lot_area</th>\n",
       "      <th>floors</th>\n",
       "      <th>waterfront</th>\n",
       "      <th>view</th>\n",
       "      <th>sqm.upper_area</th>\n",
       "      <th>sqm.basement_area</th>\n",
       "      <th>build_year</th>\n",
       "      <th>renovate_year</th>\n",
       "    </tr>\n",
       "  </thead>\n",
       "  <tbody>\n",
       "    <tr>\n",
       "      <th>0</th>\n",
       "      <td>2014-07-19</td>\n",
       "      <td>10515, 115th Place Northeast, Juanita, Kirklan...</td>\n",
       "      <td>630000</td>\n",
       "      <td>2014-07-09</td>\n",
       "      <td>3</td>\n",
       "      <td>1.75</td>\n",
       "      <td>158.8641984</td>\n",
       "      <td>814.48095168</td>\n",
       "      <td>1.0</td>\n",
       "      <td></td>\n",
       "      <td></td>\n",
       "      <td>158.8641984</td>\n",
       "      <td></td>\n",
       "      <td>1986</td>\n",
       "      <td>0</td>\n",
       "    </tr>\n",
       "    <tr>\n",
       "      <th>1</th>\n",
       "      <td>2014-07-10</td>\n",
       "      <td>1501, Northwest 90th Street, Ballard, Seattle,...</td>\n",
       "      <td>599950</td>\n",
       "      <td>2014-07-09</td>\n",
       "      <td>3</td>\n",
       "      <td>3.25</td>\n",
       "      <td>170.0125632</td>\n",
       "      <td>167.59708416</td>\n",
       "      <td>3.0</td>\n",
       "      <td></td>\n",
       "      <td></td>\n",
       "      <td>170.0125632</td>\n",
       "      <td></td>\n",
       "      <td>2014</td>\n",
       "      <td>0</td>\n",
       "    </tr>\n",
       "    <tr>\n",
       "      <th>2</th>\n",
       "      <td>2014-07-16</td>\n",
       "      <td>537, North 70th Street, Phinney Ridge, Seattle...</td>\n",
       "      <td>680000</td>\n",
       "      <td>2014-07-09</td>\n",
       "      <td>3</td>\n",
       "      <td>2.0</td>\n",
       "      <td>165.3674112</td>\n",
       "      <td>531.4053888</td>\n",
       "      <td>1.0</td>\n",
       "      <td></td>\n",
       "      <td></td>\n",
       "      <td>91.0449792</td>\n",
       "      <td>74.322432</td>\n",
       "      <td>1925</td>\n",
       "      <td>0</td>\n",
       "    </tr>\n",
       "    <tr>\n",
       "      <th>3</th>\n",
       "      <td>2014-07-13</td>\n",
       "      <td>12008, 35th Avenue Northeast, Cedar Park, Lake...</td>\n",
       "      <td>335500</td>\n",
       "      <td>2014-07-09</td>\n",
       "      <td>3</td>\n",
       "      <td>1.0</td>\n",
       "      <td>127.2771648</td>\n",
       "      <td>629.8826112</td>\n",
       "      <td>2.0</td>\n",
       "      <td></td>\n",
       "      <td></td>\n",
       "      <td>127.2771648</td>\n",
       "      <td></td>\n",
       "      <td>1930</td>\n",
       "      <td>0</td>\n",
       "    </tr>\n",
       "    <tr>\n",
       "      <th>4</th>\n",
       "      <td>2014-07-18</td>\n",
       "      <td>11807, Northeast 105th Court, Juanita, Kirklan...</td>\n",
       "      <td>379000</td>\n",
       "      <td>2014-07-09</td>\n",
       "      <td>3</td>\n",
       "      <td>2.5</td>\n",
       "      <td>142.1416512</td>\n",
       "      <td>270.62655552</td>\n",
       "      <td>2.0</td>\n",
       "      <td></td>\n",
       "      <td></td>\n",
       "      <td>142.1416512</td>\n",
       "      <td></td>\n",
       "      <td>1986</td>\n",
       "      <td>0</td>\n",
       "    </tr>\n",
       "  </tbody>\n",
       "</table>\n",
       "</div>"
      ],
      "text/plain": [
       "         date                                            address   price  \\\n",
       "0  2014-07-19  10515, 115th Place Northeast, Juanita, Kirklan...  630000   \n",
       "1  2014-07-10  1501, Northwest 90th Street, Ballard, Seattle,...  599950   \n",
       "2  2014-07-16  537, North 70th Street, Phinney Ridge, Seattle...  680000   \n",
       "3  2014-07-13  12008, 35th Avenue Northeast, Cedar Park, Lake...  335500   \n",
       "4  2014-07-18  11807, Northeast 105th Court, Juanita, Kirklan...  379000   \n",
       "\n",
       "    sold_date bedrooms bathrooms sqm.living_area  sqm.lot_area floors  \\\n",
       "0  2014-07-09        3      1.75     158.8641984  814.48095168    1.0   \n",
       "1  2014-07-09        3      3.25     170.0125632  167.59708416    3.0   \n",
       "2  2014-07-09        3       2.0     165.3674112   531.4053888    1.0   \n",
       "3  2014-07-09        3       1.0     127.2771648   629.8826112    2.0   \n",
       "4  2014-07-09        3       2.5     142.1416512  270.62655552    2.0   \n",
       "\n",
       "  waterfront view sqm.upper_area sqm.basement_area build_year renovate_year  \n",
       "0                    158.8641984                         1986             0  \n",
       "1                    170.0125632                         2014             0  \n",
       "2                     91.0449792         74.322432       1925             0  \n",
       "3                    127.2771648                         1930             0  \n",
       "4                    142.1416512                         1986             0  "
      ]
     },
     "execution_count": 13,
     "metadata": {},
     "output_type": "execute_result"
    }
   ],
   "source": [
    "xmlData.head(5)"
   ]
  },
  {
   "cell_type": "code",
   "execution_count": 14,
   "metadata": {
    "collapsed": false
   },
   "outputs": [
    {
     "data": {
      "text/html": [
       "<div>\n",
       "<table border=\"1\" class=\"dataframe\">\n",
       "  <thead>\n",
       "    <tr style=\"text-align: right;\">\n",
       "      <th></th>\n",
       "      <th>date</th>\n",
       "      <th>address</th>\n",
       "      <th>price</th>\n",
       "      <th>sold_date</th>\n",
       "      <th>bedrooms</th>\n",
       "      <th>bathrooms</th>\n",
       "      <th>sqm.living_area</th>\n",
       "      <th>sqm.lot_area</th>\n",
       "      <th>floors</th>\n",
       "      <th>waterfront</th>\n",
       "      <th>view</th>\n",
       "      <th>sqm.upper_area</th>\n",
       "      <th>sqm.basement_area</th>\n",
       "      <th>build_year</th>\n",
       "      <th>renovate_year</th>\n",
       "    </tr>\n",
       "  </thead>\n",
       "  <tbody>\n",
       "    <tr>\n",
       "      <th>count</th>\n",
       "      <td>430</td>\n",
       "      <td>430</td>\n",
       "      <td>430</td>\n",
       "      <td>430</td>\n",
       "      <td>430</td>\n",
       "      <td>430</td>\n",
       "      <td>430</td>\n",
       "      <td>430</td>\n",
       "      <td>430</td>\n",
       "      <td>430</td>\n",
       "      <td>430</td>\n",
       "      <td>430</td>\n",
       "      <td>430</td>\n",
       "      <td>430</td>\n",
       "      <td>430</td>\n",
       "    </tr>\n",
       "    <tr>\n",
       "      <th>unique</th>\n",
       "      <td>18</td>\n",
       "      <td>429</td>\n",
       "      <td>315</td>\n",
       "      <td>8</td>\n",
       "      <td>8</td>\n",
       "      <td>15</td>\n",
       "      <td>248</td>\n",
       "      <td>374</td>\n",
       "      <td>5</td>\n",
       "      <td>2</td>\n",
       "      <td>5</td>\n",
       "      <td>220</td>\n",
       "      <td>105</td>\n",
       "      <td>101</td>\n",
       "      <td>19</td>\n",
       "    </tr>\n",
       "    <tr>\n",
       "      <th>top</th>\n",
       "      <td>2014-07-17</td>\n",
       "      <td>98027; 98006, 158th Place Southeast, Eastgate,...</td>\n",
       "      <td>650000</td>\n",
       "      <td>2014-07-14</td>\n",
       "      <td>3</td>\n",
       "      <td>2.5</td>\n",
       "      <td>133.7803776</td>\n",
       "      <td>464.5152</td>\n",
       "      <td>1.0</td>\n",
       "      <td></td>\n",
       "      <td></td>\n",
       "      <td>100.3352832</td>\n",
       "      <td></td>\n",
       "      <td>1968</td>\n",
       "      <td>0</td>\n",
       "    </tr>\n",
       "    <tr>\n",
       "      <th>freq</th>\n",
       "      <td>45</td>\n",
       "      <td>2</td>\n",
       "      <td>6</td>\n",
       "      <td>116</td>\n",
       "      <td>197</td>\n",
       "      <td>105</td>\n",
       "      <td>7</td>\n",
       "      <td>12</td>\n",
       "      <td>222</td>\n",
       "      <td>427</td>\n",
       "      <td>396</td>\n",
       "      <td>8</td>\n",
       "      <td>249</td>\n",
       "      <td>13</td>\n",
       "      <td>404</td>\n",
       "    </tr>\n",
       "  </tbody>\n",
       "</table>\n",
       "</div>"
      ],
      "text/plain": [
       "              date                                            address   price  \\\n",
       "count          430                                                430     430   \n",
       "unique          18                                                429     315   \n",
       "top     2014-07-17  98027; 98006, 158th Place Southeast, Eastgate,...  650000   \n",
       "freq            45                                                  2       6   \n",
       "\n",
       "         sold_date bedrooms bathrooms sqm.living_area sqm.lot_area floors  \\\n",
       "count          430      430       430             430          430    430   \n",
       "unique           8        8        15             248          374      5   \n",
       "top     2014-07-14        3       2.5     133.7803776     464.5152    1.0   \n",
       "freq           116      197       105               7           12    222   \n",
       "\n",
       "       waterfront view sqm.upper_area sqm.basement_area build_year  \\\n",
       "count         430  430            430               430        430   \n",
       "unique          2    5            220               105        101   \n",
       "top                       100.3352832                         1968   \n",
       "freq          427  396              8               249         13   \n",
       "\n",
       "       renovate_year  \n",
       "count            430  \n",
       "unique            19  \n",
       "top                0  \n",
       "freq             404  "
      ]
     },
     "execution_count": 14,
     "metadata": {},
     "output_type": "execute_result"
    }
   ],
   "source": [
    "xmlData.describe()"
   ]
  },
  {
   "cell_type": "code",
   "execution_count": 15,
   "metadata": {
    "collapsed": false
   },
   "outputs": [
    {
     "data": {
      "text/html": [
       "<div>\n",
       "<table border=\"1\" class=\"dataframe\">\n",
       "  <thead>\n",
       "    <tr style=\"text-align: right;\">\n",
       "      <th></th>\n",
       "      <th>date</th>\n",
       "      <th>address</th>\n",
       "      <th>price</th>\n",
       "      <th>sold_date</th>\n",
       "      <th>bedrooms</th>\n",
       "      <th>bathrooms</th>\n",
       "      <th>sqm.living_area</th>\n",
       "      <th>sqm.lot_area</th>\n",
       "      <th>floors</th>\n",
       "      <th>waterfront</th>\n",
       "      <th>view</th>\n",
       "      <th>sqm.upper_area</th>\n",
       "      <th>sqm.basement_area</th>\n",
       "      <th>build_year</th>\n",
       "      <th>renovate_year</th>\n",
       "    </tr>\n",
       "  </thead>\n",
       "  <tbody>\n",
       "    <tr>\n",
       "      <th>count</th>\n",
       "      <td>430</td>\n",
       "      <td>430</td>\n",
       "      <td>430</td>\n",
       "      <td>430</td>\n",
       "      <td>430</td>\n",
       "      <td>430</td>\n",
       "      <td>430</td>\n",
       "      <td>430</td>\n",
       "      <td>430</td>\n",
       "      <td>430</td>\n",
       "      <td>430</td>\n",
       "      <td>430</td>\n",
       "      <td>430</td>\n",
       "      <td>430</td>\n",
       "      <td>430</td>\n",
       "    </tr>\n",
       "    <tr>\n",
       "      <th>unique</th>\n",
       "      <td>18</td>\n",
       "      <td>429</td>\n",
       "      <td>315</td>\n",
       "      <td>8</td>\n",
       "      <td>8</td>\n",
       "      <td>15</td>\n",
       "      <td>248</td>\n",
       "      <td>374</td>\n",
       "      <td>5</td>\n",
       "      <td>2</td>\n",
       "      <td>5</td>\n",
       "      <td>220</td>\n",
       "      <td>105</td>\n",
       "      <td>101</td>\n",
       "      <td>19</td>\n",
       "    </tr>\n",
       "    <tr>\n",
       "      <th>top</th>\n",
       "      <td>2014-07-17</td>\n",
       "      <td>98027; 98006, 158th Place Southeast, Eastgate,...</td>\n",
       "      <td>650000</td>\n",
       "      <td>2014-07-14</td>\n",
       "      <td>3</td>\n",
       "      <td>2.5</td>\n",
       "      <td>133.7803776</td>\n",
       "      <td>464.5152</td>\n",
       "      <td>1.0</td>\n",
       "      <td></td>\n",
       "      <td></td>\n",
       "      <td>100.3352832</td>\n",
       "      <td></td>\n",
       "      <td>1968</td>\n",
       "      <td>0</td>\n",
       "    </tr>\n",
       "    <tr>\n",
       "      <th>freq</th>\n",
       "      <td>45</td>\n",
       "      <td>2</td>\n",
       "      <td>6</td>\n",
       "      <td>116</td>\n",
       "      <td>197</td>\n",
       "      <td>105</td>\n",
       "      <td>7</td>\n",
       "      <td>12</td>\n",
       "      <td>222</td>\n",
       "      <td>427</td>\n",
       "      <td>396</td>\n",
       "      <td>8</td>\n",
       "      <td>249</td>\n",
       "      <td>13</td>\n",
       "      <td>404</td>\n",
       "    </tr>\n",
       "  </tbody>\n",
       "</table>\n",
       "</div>"
      ],
      "text/plain": [
       "              date                                            address   price  \\\n",
       "count          430                                                430     430   \n",
       "unique          18                                                429     315   \n",
       "top     2014-07-17  98027; 98006, 158th Place Southeast, Eastgate,...  650000   \n",
       "freq            45                                                  2       6   \n",
       "\n",
       "         sold_date bedrooms bathrooms sqm.living_area sqm.lot_area floors  \\\n",
       "count          430      430       430             430          430    430   \n",
       "unique           8        8        15             248          374      5   \n",
       "top     2014-07-14        3       2.5     133.7803776     464.5152    1.0   \n",
       "freq           116      197       105               7           12    222   \n",
       "\n",
       "       waterfront view sqm.upper_area sqm.basement_area build_year  \\\n",
       "count         430  430            430               430        430   \n",
       "unique          2    5            220               105        101   \n",
       "top                       100.3352832                         1968   \n",
       "freq          427  396              8               249         13   \n",
       "\n",
       "       renovate_year  \n",
       "count            430  \n",
       "unique            19  \n",
       "top                0  \n",
       "freq             404  "
      ]
     },
     "execution_count": 15,
     "metadata": {},
     "output_type": "execute_result"
    }
   ],
   "source": [
    "xmlData.describe(include = ['O'])"
   ]
  },
  {
   "cell_type": "markdown",
   "metadata": {},
   "source": [
    "## 2.2 Reading and Describing the CSV File\n",
    "\n",
    "The CSV (comma-separated value) file is a collection of 4600 property sales records from the same location (all in Washington, USA), from May to July 2014. \n",
    "\n",
    "Parsing the CSV file is easier with the help of **Pandas'** `read_csv()` function. This conveniently converts the CSV file into a Pandas Data Frame, parsing it along the way."
   ]
  },
  {
   "cell_type": "code",
   "execution_count": 16,
   "metadata": {
    "collapsed": false
   },
   "outputs": [],
   "source": [
    "csvData = pd.read_csv('data_s1_ass4.csv')"
   ]
  },
  {
   "cell_type": "code",
   "execution_count": 17,
   "metadata": {
    "collapsed": false
   },
   "outputs": [
    {
     "data": {
      "text/html": [
       "<div>\n",
       "<table border=\"1\" class=\"dataframe\">\n",
       "  <thead>\n",
       "    <tr style=\"text-align: right;\">\n",
       "      <th></th>\n",
       "      <th>date</th>\n",
       "      <th>price</th>\n",
       "      <th>bedrooms</th>\n",
       "      <th>bathrooms</th>\n",
       "      <th>sqft_living</th>\n",
       "      <th>sqft_lot</th>\n",
       "      <th>floors</th>\n",
       "      <th>waterfront</th>\n",
       "      <th>view</th>\n",
       "      <th>condition</th>\n",
       "      <th>sqft_above</th>\n",
       "      <th>sqft_basement</th>\n",
       "      <th>yr_built</th>\n",
       "      <th>yr_renovated</th>\n",
       "      <th>street</th>\n",
       "      <th>city</th>\n",
       "      <th>statezip</th>\n",
       "      <th>country</th>\n",
       "    </tr>\n",
       "  </thead>\n",
       "  <tbody>\n",
       "    <tr>\n",
       "      <th>0</th>\n",
       "      <td>20140502T000000</td>\n",
       "      <td>313k</td>\n",
       "      <td>3</td>\n",
       "      <td>1.50</td>\n",
       "      <td>1340</td>\n",
       "      <td>7912</td>\n",
       "      <td>1.5</td>\n",
       "      <td>0</td>\n",
       "      <td>0</td>\n",
       "      <td>3</td>\n",
       "      <td>1340</td>\n",
       "      <td>0</td>\n",
       "      <td>1955</td>\n",
       "      <td>NaN</td>\n",
       "      <td>18810 Densmore Ave N</td>\n",
       "      <td>Shoreline</td>\n",
       "      <td>WA 98133</td>\n",
       "      <td>USA</td>\n",
       "    </tr>\n",
       "    <tr>\n",
       "      <th>1</th>\n",
       "      <td>20140502T000000</td>\n",
       "      <td>2.384m</td>\n",
       "      <td>5</td>\n",
       "      <td>2.50</td>\n",
       "      <td>3650</td>\n",
       "      <td>9050</td>\n",
       "      <td>2.0</td>\n",
       "      <td>0</td>\n",
       "      <td>4</td>\n",
       "      <td>5</td>\n",
       "      <td>3370</td>\n",
       "      <td>280</td>\n",
       "      <td>1921</td>\n",
       "      <td>NaN</td>\n",
       "      <td>709 W Blaine St</td>\n",
       "      <td>Seattle</td>\n",
       "      <td>WA 98119</td>\n",
       "      <td>USA</td>\n",
       "    </tr>\n",
       "    <tr>\n",
       "      <th>2</th>\n",
       "      <td>20140502T000000</td>\n",
       "      <td>342k</td>\n",
       "      <td>3</td>\n",
       "      <td>2.00</td>\n",
       "      <td>1930</td>\n",
       "      <td>11947</td>\n",
       "      <td>1.0</td>\n",
       "      <td>0</td>\n",
       "      <td>0</td>\n",
       "      <td>4</td>\n",
       "      <td>1930</td>\n",
       "      <td>0</td>\n",
       "      <td>1966</td>\n",
       "      <td>NaN</td>\n",
       "      <td>26206-26214 143rd Ave SE</td>\n",
       "      <td>Kent</td>\n",
       "      <td>WA 98042</td>\n",
       "      <td>USA</td>\n",
       "    </tr>\n",
       "    <tr>\n",
       "      <th>3</th>\n",
       "      <td>20140502T000000</td>\n",
       "      <td>420k</td>\n",
       "      <td>3</td>\n",
       "      <td>2.25</td>\n",
       "      <td>2000</td>\n",
       "      <td>8030</td>\n",
       "      <td>1.0</td>\n",
       "      <td>0</td>\n",
       "      <td>0</td>\n",
       "      <td>4</td>\n",
       "      <td>1000</td>\n",
       "      <td>1000</td>\n",
       "      <td>1963</td>\n",
       "      <td>NaN</td>\n",
       "      <td>857 170th Pl NE</td>\n",
       "      <td>Bellevue</td>\n",
       "      <td>WA 98008</td>\n",
       "      <td>USA</td>\n",
       "    </tr>\n",
       "    <tr>\n",
       "      <th>4</th>\n",
       "      <td>20140502T000000</td>\n",
       "      <td>550k</td>\n",
       "      <td>4</td>\n",
       "      <td>2.50</td>\n",
       "      <td>1940</td>\n",
       "      <td>10500</td>\n",
       "      <td>1.0</td>\n",
       "      <td>0</td>\n",
       "      <td>0</td>\n",
       "      <td>4</td>\n",
       "      <td>1140</td>\n",
       "      <td>800</td>\n",
       "      <td>1976</td>\n",
       "      <td>NaN</td>\n",
       "      <td>9105 170th Ave NE</td>\n",
       "      <td>Redmond</td>\n",
       "      <td>WA 98052</td>\n",
       "      <td>USA</td>\n",
       "    </tr>\n",
       "  </tbody>\n",
       "</table>\n",
       "</div>"
      ],
      "text/plain": [
       "              date   price  bedrooms  bathrooms  sqft_living  sqft_lot  \\\n",
       "0  20140502T000000    313k         3       1.50         1340      7912   \n",
       "1  20140502T000000  2.384m         5       2.50         3650      9050   \n",
       "2  20140502T000000    342k         3       2.00         1930     11947   \n",
       "3  20140502T000000    420k         3       2.25         2000      8030   \n",
       "4  20140502T000000    550k         4       2.50         1940     10500   \n",
       "\n",
       "   floors  waterfront  view  condition  sqft_above  sqft_basement  yr_built  \\\n",
       "0     1.5           0     0          3        1340              0      1955   \n",
       "1     2.0           0     4          5        3370            280      1921   \n",
       "2     1.0           0     0          4        1930              0      1966   \n",
       "3     1.0           0     0          4        1000           1000      1963   \n",
       "4     1.0           0     0          4        1140            800      1976   \n",
       "\n",
       "   yr_renovated                    street       city  statezip country  \n",
       "0           NaN      18810 Densmore Ave N  Shoreline  WA 98133     USA  \n",
       "1           NaN           709 W Blaine St    Seattle  WA 98119     USA  \n",
       "2           NaN  26206-26214 143rd Ave SE       Kent  WA 98042     USA  \n",
       "3           NaN           857 170th Pl NE   Bellevue  WA 98008     USA  \n",
       "4           NaN         9105 170th Ave NE    Redmond  WA 98052     USA  "
      ]
     },
     "execution_count": 17,
     "metadata": {},
     "output_type": "execute_result"
    }
   ],
   "source": [
    "csvData.head(5)"
   ]
  },
  {
   "cell_type": "markdown",
   "metadata": {},
   "source": [
    "Checking the CSV file, the dataset has the following variables:\n",
    "\n",
    "1. **date** - The date which the property was sold.\n",
    "2. **price** - The price at which the property was sold.\n",
    "3. **bedrooms** - The number of bedrooms.\n",
    "4. **bathrooms** - The number of bathrooms.\n",
    "5. **sqft_living** - The area of living space, in square feet (sqft).\n",
    "6. **sqft_lot** - The area of the lot, in sqft.\n",
    "7. **floors** - The number of floors.\n",
    "8. **waterfront** - Indicates whether a property is in front of a body of water or not.\n",
    "9. **view** - Indicates whether a property has a view or not.\n",
    "10. **condition** - Rates the condition of a property, from 1 to 5.\n",
    "11. **sqft_above** - The area of the living space over the terrain, in square feet.\n",
    "12. **sqft_basement** - The area of the living space under the terrain, in square feet.\n",
    "13. **yr_built** - The year the property was built.\n",
    "14. **yr_renovated** -  The year the property was renovated.\n",
    "15. **street** - The street of the property.\n",
    "16. **city** - The city where the property is in.\n",
    "17. **statezip** - The state and the zipcode of the property.\n",
    "18. **country** - The country of the the property.\n",
    "\n",
    "The following are **numeric variables**:\n",
    "- *Discrete*: price, bedrooms, bathrooms, floors\n",
    "- *Continuous*: sqft_living, sqft_lot, sqft_above, sqft_basement\n",
    "- *Time*: date, yr_built, yr_renovated\n",
    "\n",
    "The following are **categorical variables**:\n",
    "- *Ordinal:* waterfront, view, condition\n",
    "- *Nominal:* street, city, statezip, country"
   ]
  },
  {
   "cell_type": "code",
   "execution_count": 18,
   "metadata": {
    "collapsed": false,
    "scrolled": true
   },
   "outputs": [
    {
     "name": "stdout",
     "output_type": "stream",
     "text": [
      "date              object\n",
      "price             object\n",
      "bedrooms           int64\n",
      "bathrooms        float64\n",
      "sqft_living        int64\n",
      "sqft_lot           int64\n",
      "floors           float64\n",
      "waterfront         int64\n",
      "view               int64\n",
      "condition          int64\n",
      "sqft_above         int64\n",
      "sqft_basement      int64\n",
      "yr_built           int64\n",
      "yr_renovated     float64\n",
      "street            object\n",
      "city              object\n",
      "statezip          object\n",
      "country           object\n",
      "dtype: object\n"
     ]
    }
   ],
   "source": [
    "# Check the column's data types.\n",
    "print csvData.dtypes"
   ]
  },
  {
   "cell_type": "code",
   "execution_count": 19,
   "metadata": {
    "collapsed": false
   },
   "outputs": [
    {
     "data": {
      "text/html": [
       "<div>\n",
       "<table border=\"1\" class=\"dataframe\">\n",
       "  <thead>\n",
       "    <tr style=\"text-align: right;\">\n",
       "      <th></th>\n",
       "      <th>bedrooms</th>\n",
       "      <th>bathrooms</th>\n",
       "      <th>sqft_living</th>\n",
       "      <th>sqft_lot</th>\n",
       "      <th>floors</th>\n",
       "      <th>waterfront</th>\n",
       "      <th>view</th>\n",
       "      <th>condition</th>\n",
       "      <th>sqft_above</th>\n",
       "      <th>sqft_basement</th>\n",
       "      <th>yr_built</th>\n",
       "      <th>yr_renovated</th>\n",
       "    </tr>\n",
       "  </thead>\n",
       "  <tbody>\n",
       "    <tr>\n",
       "      <th>count</th>\n",
       "      <td>4600.000000</td>\n",
       "      <td>4600.000000</td>\n",
       "      <td>4600.000000</td>\n",
       "      <td>4.600000e+03</td>\n",
       "      <td>4600.000000</td>\n",
       "      <td>4600.000000</td>\n",
       "      <td>4600.000000</td>\n",
       "      <td>4600.000000</td>\n",
       "      <td>4600.000000</td>\n",
       "      <td>4600.000000</td>\n",
       "      <td>4600.000000</td>\n",
       "      <td>224.000000</td>\n",
       "    </tr>\n",
       "    <tr>\n",
       "      <th>mean</th>\n",
       "      <td>3.400870</td>\n",
       "      <td>2.160707</td>\n",
       "      <td>2139.068696</td>\n",
       "      <td>1.485252e+04</td>\n",
       "      <td>1.512065</td>\n",
       "      <td>0.007174</td>\n",
       "      <td>0.240652</td>\n",
       "      <td>3.451739</td>\n",
       "      <td>1827.265435</td>\n",
       "      <td>311.803261</td>\n",
       "      <td>1970.766739</td>\n",
       "      <td>1996.776786</td>\n",
       "    </tr>\n",
       "    <tr>\n",
       "      <th>std</th>\n",
       "      <td>0.908848</td>\n",
       "      <td>0.783959</td>\n",
       "      <td>963.229803</td>\n",
       "      <td>3.588444e+04</td>\n",
       "      <td>0.538288</td>\n",
       "      <td>0.084404</td>\n",
       "      <td>0.778405</td>\n",
       "      <td>0.677230</td>\n",
       "      <td>862.168977</td>\n",
       "      <td>463.856471</td>\n",
       "      <td>29.733676</td>\n",
       "      <td>16.348892</td>\n",
       "    </tr>\n",
       "    <tr>\n",
       "      <th>min</th>\n",
       "      <td>0.000000</td>\n",
       "      <td>0.000000</td>\n",
       "      <td>370.000000</td>\n",
       "      <td>6.380000e+02</td>\n",
       "      <td>1.000000</td>\n",
       "      <td>0.000000</td>\n",
       "      <td>0.000000</td>\n",
       "      <td>1.000000</td>\n",
       "      <td>370.000000</td>\n",
       "      <td>0.000000</td>\n",
       "      <td>1900.000000</td>\n",
       "      <td>1934.000000</td>\n",
       "    </tr>\n",
       "    <tr>\n",
       "      <th>25%</th>\n",
       "      <td>3.000000</td>\n",
       "      <td>1.750000</td>\n",
       "      <td>1460.000000</td>\n",
       "      <td>5.000750e+03</td>\n",
       "      <td>1.000000</td>\n",
       "      <td>0.000000</td>\n",
       "      <td>0.000000</td>\n",
       "      <td>3.000000</td>\n",
       "      <td>1190.000000</td>\n",
       "      <td>0.000000</td>\n",
       "      <td>1951.000000</td>\n",
       "      <td>1988.000000</td>\n",
       "    </tr>\n",
       "    <tr>\n",
       "      <th>50%</th>\n",
       "      <td>3.000000</td>\n",
       "      <td>2.250000</td>\n",
       "      <td>1980.000000</td>\n",
       "      <td>7.683000e+03</td>\n",
       "      <td>1.500000</td>\n",
       "      <td>0.000000</td>\n",
       "      <td>0.000000</td>\n",
       "      <td>3.000000</td>\n",
       "      <td>1590.000000</td>\n",
       "      <td>0.000000</td>\n",
       "      <td>1976.000000</td>\n",
       "      <td>2001.000000</td>\n",
       "    </tr>\n",
       "    <tr>\n",
       "      <th>75%</th>\n",
       "      <td>4.000000</td>\n",
       "      <td>2.500000</td>\n",
       "      <td>2620.000000</td>\n",
       "      <td>1.100125e+04</td>\n",
       "      <td>2.000000</td>\n",
       "      <td>0.000000</td>\n",
       "      <td>0.000000</td>\n",
       "      <td>4.000000</td>\n",
       "      <td>2300.000000</td>\n",
       "      <td>610.000000</td>\n",
       "      <td>1997.000000</td>\n",
       "      <td>2010.000000</td>\n",
       "    </tr>\n",
       "    <tr>\n",
       "      <th>max</th>\n",
       "      <td>9.000000</td>\n",
       "      <td>8.000000</td>\n",
       "      <td>13540.000000</td>\n",
       "      <td>1.074218e+06</td>\n",
       "      <td>3.500000</td>\n",
       "      <td>1.000000</td>\n",
       "      <td>4.000000</td>\n",
       "      <td>5.000000</td>\n",
       "      <td>9410.000000</td>\n",
       "      <td>4820.000000</td>\n",
       "      <td>2014.000000</td>\n",
       "      <td>2014.000000</td>\n",
       "    </tr>\n",
       "  </tbody>\n",
       "</table>\n",
       "</div>"
      ],
      "text/plain": [
       "          bedrooms    bathrooms   sqft_living      sqft_lot       floors  \\\n",
       "count  4600.000000  4600.000000   4600.000000  4.600000e+03  4600.000000   \n",
       "mean      3.400870     2.160707   2139.068696  1.485252e+04     1.512065   \n",
       "std       0.908848     0.783959    963.229803  3.588444e+04     0.538288   \n",
       "min       0.000000     0.000000    370.000000  6.380000e+02     1.000000   \n",
       "25%       3.000000     1.750000   1460.000000  5.000750e+03     1.000000   \n",
       "50%       3.000000     2.250000   1980.000000  7.683000e+03     1.500000   \n",
       "75%       4.000000     2.500000   2620.000000  1.100125e+04     2.000000   \n",
       "max       9.000000     8.000000  13540.000000  1.074218e+06     3.500000   \n",
       "\n",
       "        waterfront         view    condition   sqft_above  sqft_basement  \\\n",
       "count  4600.000000  4600.000000  4600.000000  4600.000000    4600.000000   \n",
       "mean      0.007174     0.240652     3.451739  1827.265435     311.803261   \n",
       "std       0.084404     0.778405     0.677230   862.168977     463.856471   \n",
       "min       0.000000     0.000000     1.000000   370.000000       0.000000   \n",
       "25%       0.000000     0.000000     3.000000  1190.000000       0.000000   \n",
       "50%       0.000000     0.000000     3.000000  1590.000000       0.000000   \n",
       "75%       0.000000     0.000000     4.000000  2300.000000     610.000000   \n",
       "max       1.000000     4.000000     5.000000  9410.000000    4820.000000   \n",
       "\n",
       "          yr_built  yr_renovated  \n",
       "count  4600.000000    224.000000  \n",
       "mean   1970.766739   1996.776786  \n",
       "std      29.733676     16.348892  \n",
       "min    1900.000000   1934.000000  \n",
       "25%    1951.000000   1988.000000  \n",
       "50%    1976.000000   2001.000000  \n",
       "75%    1997.000000   2010.000000  \n",
       "max    2014.000000   2014.000000  "
      ]
     },
     "execution_count": 19,
     "metadata": {},
     "output_type": "execute_result"
    }
   ],
   "source": [
    "csvData.describe()"
   ]
  },
  {
   "cell_type": "code",
   "execution_count": 20,
   "metadata": {
    "collapsed": false
   },
   "outputs": [
    {
     "data": {
      "text/html": [
       "<div>\n",
       "<table border=\"1\" class=\"dataframe\">\n",
       "  <thead>\n",
       "    <tr style=\"text-align: right;\">\n",
       "      <th></th>\n",
       "      <th>date</th>\n",
       "      <th>price</th>\n",
       "      <th>street</th>\n",
       "      <th>city</th>\n",
       "      <th>statezip</th>\n",
       "      <th>country</th>\n",
       "    </tr>\n",
       "  </thead>\n",
       "  <tbody>\n",
       "    <tr>\n",
       "      <th>count</th>\n",
       "      <td>4600</td>\n",
       "      <td>4600</td>\n",
       "      <td>4600</td>\n",
       "      <td>4600</td>\n",
       "      <td>4600</td>\n",
       "      <td>4600</td>\n",
       "    </tr>\n",
       "    <tr>\n",
       "      <th>unique</th>\n",
       "      <td>70</td>\n",
       "      <td>1646</td>\n",
       "      <td>4525</td>\n",
       "      <td>44</td>\n",
       "      <td>77</td>\n",
       "      <td>1</td>\n",
       "    </tr>\n",
       "    <tr>\n",
       "      <th>top</th>\n",
       "      <td>20140623T000000</td>\n",
       "      <td>300k</td>\n",
       "      <td>2520 Mulberry Walk NE</td>\n",
       "      <td>Seattle</td>\n",
       "      <td>WA 98103</td>\n",
       "      <td>USA</td>\n",
       "    </tr>\n",
       "    <tr>\n",
       "      <th>freq</th>\n",
       "      <td>142</td>\n",
       "      <td>41</td>\n",
       "      <td>4</td>\n",
       "      <td>1573</td>\n",
       "      <td>148</td>\n",
       "      <td>4600</td>\n",
       "    </tr>\n",
       "  </tbody>\n",
       "</table>\n",
       "</div>"
      ],
      "text/plain": [
       "                   date price                 street     city  statezip  \\\n",
       "count              4600  4600                   4600     4600      4600   \n",
       "unique               70  1646                   4525       44        77   \n",
       "top     20140623T000000  300k  2520 Mulberry Walk NE  Seattle  WA 98103   \n",
       "freq                142    41                      4     1573       148   \n",
       "\n",
       "       country  \n",
       "count     4600  \n",
       "unique       1  \n",
       "top        USA  \n",
       "freq      4600  "
      ]
     },
     "execution_count": 20,
     "metadata": {},
     "output_type": "execute_result"
    }
   ],
   "source": [
    "csvData.describe(include = ['O'])"
   ]
  },
  {
   "cell_type": "markdown",
   "metadata": {},
   "source": [
    "# 3. Defining the Mediated Schema\n",
    "\n",
    "Based on the local schema of the two datasets, I have devised the following **global or mediated schema** in order to create an **integrated data frame**:\n",
    "\n",
    "Global Schema Column | Data Type | Description | XML File Concerns | CSV File Concerns\n",
    "---------------------|-----------|-------------|----------|----------\n",
    "**date**| datetime|property sold date in *'yyyy-mm-dd'* format|same format, named as *sold_date*|in the format *'YYYYMMDDTHHMMSS'*\n",
    "**price**|int64|sold price in *US$* without decimals|same format|needs to expand *k*s and *m*s\n",
    "**bedrooms**|int64|number of bedrooms|same format|same format\n",
    "**bathrooms**|float64|number of bathrooms|same format|same format\n",
    "**sqft_living**|int64|area of living space in *sqft*|in *sqm*, named as *living_area*|same format\n",
    "**sqft_lot**|int64|area of property lot in *sqft*|in *sqm*, named as *lot_area*|same format\n",
    "**floors**|int64|number of floors (including mezzanine or balcony)|same format|same format\n",
    "**waterfront**|int64|pertains to if property is in front of a body of water|needs to discretize|same format\n",
    "**view**|int64|pertains to if property has a view|needs to discretize|same format\n",
    "**sqft_above**|int64|area of living space above land in *sqft*|in *sqm*, named as *upper_area*|same format\n",
    "**sqft_basement**|int64|area of living space below land in *sqft*|in *sqm*, named as *basement_area*|same format\n",
    "**yr_built**|int64|year property was built (*'yyyy'* format)|same format, named as *build_year*|same format\n",
    "**yr_renovated**|int64|year property was renovated, if any (*'yyyy'* format) otherwise None|same format, named as *renovate_year*, 0 for unrenovated properties|same format\n",
    "**street**|string|unit # and street of the property, where terms are abbreviated and in title case|needs to be extracted from the address, all abbreviations are expanded|some are not abbreviated\n",
    "**city**|string|city where the property is in, in title case|needs to be extracted from the address|same format\n",
    "**statezip**|string|state and zipcode where the property is in *'WA [zipcode]'* format|needs to be extracted from the address, WA as 'Washington'|same format\n",
    "**country**|string|country where the property is, supplied as *'USA'*|needs to be extracted from the address, USA as 'United States of America'|same format\n",
    "\n",
    "**Notes:**\n",
    "1. I have used **square feet** in quantifying **area variables (sqft_living, sqft_lot, sqft_above, sqft_basement)** as the USA's standard unit of measurement is the *English System*.\n",
    "2. For the XML file, I excluded the variable **date** because it is not included in the CSV file. Ultimately for datasets like these it is more important to know the **sold_date** rather than the date the record was logged. I have also contrasted the two datasets and the sold_date in the XML file is arranged from earliest to latest like the date in the CSV file. \n",
    "3. For the CSV file, I excluded the **condition** variable as it is not available in the XML file. I can *impute* their values but this task's objective is to properly *integrate* two different datasets so I will not do it here.\n",
    "4. I have formatted the global schema's **date** variable into a Python datetime format which makes it more readable.\n",
    "5. I represented the **ordinal variables (waterfront and view)** as *numeric* since it will be easier to interpret in this format.\n",
    "6. For the XML file I will abbreviate terms in the **street** like Northeast (NE), Southwest (SW), Street (St), Avenue (Ave) as this is the US standard, and popular property sites in the US like <a href='http://www.redfin.com'>Redfin</a> and <a href='http://www.zillow.com'>Zillow</a> abbreviate terms when displaying the address.\n",
    "7. For the XML file I have excluded some parts of the address like **community, neighbourhood, and county** as they are not part of the *US postal system mailing format* (BitBoost Systems, 2011) and they are not available in the CSV file.\n",
    "\n",
    "My approach is to slowly transform both XML and CSV data frames into the mediated schema format then merge them together to create the integrated data frame."
   ]
  },
  {
   "cell_type": "markdown",
   "metadata": {},
   "source": [
    "# 4. Parsing the XML File\n",
    "\n",
    "I will now parse the XML file in order to transform it in accordance with the global schema. To do this I will use a lot of different **Pandas** functions to manipulate the data frame.\n",
    "\n",
    "Note that a lot of my changes will have a parameter **`inplace = True`** so the changes will already apply to the data frame. This eliminates the need to assign to it everytime a change is made."
   ]
  },
  {
   "cell_type": "markdown",
   "metadata": {},
   "source": [
    "## 4.1 Defining Tasks for Schema and Data Integration\n",
    "\n",
    "Based on the concerns listed in the previous part a lot of things need to be done to transform the XML data into a form acceptable for integration. These include the following:\n",
    "\n",
    "1. Removing the **date** column and renaming the **sold_date** as **date**.\n",
    "2. Converting the **sqm.living_area** column into sqft and creating the **sqft_living** column.\n",
    "3. Converting the **sqm.lot_area** column into sqft and creating the **sqft_lot** column.\n",
    "4. Converting the **sqm.upper_area** column into sqft and creating the **sqft_above** column.\n",
    "5. Converting the **sqm.basement_area** column into sqft and creating the **sqft_basement** column.\n",
    "6. Converting **waterfront** from blanks and 'Yes' to 0s and 1s, respectively.\n",
    "7. Converting blank **view** into 0.\n",
    "8. Converting 0 **renovated_year** into blank.\n",
    "9. Extracting the street, city, state, zipcode, and country from the **address**.\n",
    "10. Abbreviating the terms in the street, state, and country.\n",
    "11. Combining the state and zipcode columns.\n",
    "12. Renaming **build_year** and **renovated_year** as **yr_built** and **yr_renovated**.\n"
   ]
  },
  {
   "cell_type": "code",
   "execution_count": 21,
   "metadata": {
    "collapsed": false
   },
   "outputs": [],
   "source": [
    "# xmlData.to_csv('xmlFile.csv', index = False)"
   ]
  },
  {
   "cell_type": "markdown",
   "metadata": {},
   "source": [
    "## 4.2 Parsing XML Address\n",
    "\n",
    "Checking some examples of the address variable,\n",
    "\n",
    "`1714, South Pearl Street, Rainier Valley, Seattle, King County, Washington, 98108, United States of America`\n",
    "`4408, Thackeray Place Northeast, Portage Bay, Wallingford, Seattle, King County, Washington, 98105, United States of America`\n",
    "`44th Avenue South, Lakeland North, King County, Washington, 98001, United States of America`\n",
    "\n",
    "the following observations can be made:\n",
    "- The addresses have different lengths when splitted by a comma.\n",
    "- They have the following components: **unit/property number\\***, **street**, **neighbourhood\\***, **community\\***, **city**, **county**, **state**, **zipcode**, and **country**\n",
    "- All terms are **not** abbreviated, especially for the terms in street, state and country.\n",
    "- An address must have a minimum of **5 commas** based from the components above.\n",
    "\n",
    "<small>\\* means the component is optional</small> \n",
    "\n",
    "\n",
    "### 4.2.1 Extracting Different Address Components\n",
    "Extracting address components is done in reverse, mainly because all the components at the end (country, zipcode, state, county and city) have the same location. The remaining components are either optional or part of a property's street.\n",
    "\n",
    "The following steps are performed:\n",
    "\n",
    "1. Split the address by the commas\n",
    "2. Retrieve components in reverse (starting from the last entry):\n",
    "\n",
    "    - the length - 1 split goes to the country\n",
    "    - length - 2 split goes to the zip\n",
    "    - length - 3 split goes to the state\n",
    "    - length - 4 split goes to the county\n",
    "    - length - 5 split goes to the city\n",
    "\n",
    "    - the street may be the first split OR the first 2 splits\n",
    "    \n",
    "3. Create different columns for the extracted data\n",
    "\n",
    "But first, sanity check: do all records really have a minimum of 5 commas?"
   ]
  },
  {
   "cell_type": "code",
   "execution_count": 22,
   "metadata": {
    "collapsed": false
   },
   "outputs": [
    {
     "name": "stdout",
     "output_type": "stream",
     "text": [
      "Index: 89\n",
      "290th Avenue Southeast, Hobart, King County, Washington, United States of America\n"
     ]
    }
   ],
   "source": [
    "# Based on the assumption above, check if an address has less than 5 commas\n",
    "for i in range(len(xmlData)):\n",
    "    commas = xmlData.loc[i, 'address'].count(',')\n",
    "    if (commas < 5):\n",
    "        print 'Index: ' + str(i)\n",
    "        print xmlData.loc[i, 'address']"
   ]
  },
  {
   "cell_type": "markdown",
   "metadata": {},
   "source": [
    "Looks like one was not. And it's missing a **zipcode**, an essential part since it's in the global schema. Try and populate the zip code."
   ]
  },
  {
   "cell_type": "code",
   "execution_count": 23,
   "metadata": {
    "collapsed": false
   },
   "outputs": [
    {
     "name": "stdout",
     "output_type": "stream",
     "text": [
      "4\n"
     ]
    }
   ],
   "source": [
    "# Checkout index 89. How many commas does it have?\n",
    "commas = xmlData.loc[89, 'address'].count(',')\n",
    "print commas"
   ]
  },
  {
   "cell_type": "markdown",
   "metadata": {},
   "source": [
    "Based on <a href='https://en.wikipedia.org/wiki/Hobart,_Washington'>Wikipedia</a>, Hobart has a zipcode of **98025**."
   ]
  },
  {
   "cell_type": "code",
   "execution_count": 24,
   "metadata": {
    "collapsed": false
   },
   "outputs": [
    {
     "data": {
      "text/plain": [
       "u'290th Avenue Southeast, Hobart, King County, Washington, 98025, United States of America'"
      ]
     },
     "execution_count": 24,
     "metadata": {},
     "output_type": "execute_result"
    }
   ],
   "source": [
    "# Supply the zipcode found in Wikipedia.\n",
    "xmlData.set_value(89, 'address', u'290th Avenue Southeast, Hobart, King County, Washington, 98025, United States of America')\n",
    "xmlData.loc[89, 'address']"
   ]
  },
  {
   "cell_type": "markdown",
   "metadata": {},
   "source": [
    "Declare the method for extracting components of interest from the address."
   ]
  },
  {
   "cell_type": "code",
   "execution_count": 25,
   "metadata": {
    "collapsed": false
   },
   "outputs": [
    {
     "name": "stdout",
     "output_type": "stream",
     "text": [
      "430\n",
      "430\n",
      "430\n",
      "430\n",
      "430\n",
      "430\n"
     ]
    }
   ],
   "source": [
    "# Declare the components of interest.\n",
    "countries = []\n",
    "zipcodes = []\n",
    "states = []\n",
    "counties = []\n",
    "cities = []\n",
    "streets = []\n",
    "\n",
    "# Extract them from a record's address.\n",
    "def extract_address(address):\n",
    "    addrComponents = address.split(',')\n",
    "    addrLength = len(addrComponents)\n",
    "    \n",
    "    # The last part of the address is the country.\n",
    "    countries.append(addrComponents[-1])\n",
    "    # The second to the last part is the zipcode.\n",
    "    zipcodes.append(addrComponents[-2])\n",
    "    # The third to the last part is the state.\n",
    "    states.append(addrComponents[-3])\n",
    "    # The fourth to the last part is the county.\n",
    "    counties.append(addrComponents[-4])\n",
    "    # The fifth to the last part is the city.\n",
    "    cities.append(addrComponents[-5])\n",
    "    \n",
    "    # Check how many splits the street have.\n",
    "    if (addrLength - 5 == 1):\n",
    "        k = 1\n",
    "    # The default number of components allocated for the street is 2 \n",
    "    else:\n",
    "        k = 2\n",
    "    \n",
    "    street = ''\n",
    "    for i in range(0, k):\n",
    "        street = street + addrComponents[i]\n",
    "        \n",
    "    # Add a space in the streets - this will help in abbreviating some terms later.\n",
    "    streets.append(street + ' ')\n",
    "\n",
    "for i in range(0, len(xmlData)):\n",
    "        extract_address(xmlData.loc[i, 'address'])\n",
    "\n",
    "# Check if the components were extracted.\n",
    "print len(countries)\n",
    "print len(zipcodes)\n",
    "print len(states)\n",
    "print len(counties)\n",
    "print len(cities)\n",
    "print len(streets)"
   ]
  },
  {
   "cell_type": "code",
   "execution_count": 26,
   "metadata": {
    "collapsed": false
   },
   "outputs": [],
   "source": [
    "# Add the new columns street, city, county, state, zipcode and country.\n",
    "xmlData['street'] = streets\n",
    "xmlData['city'] = cities\n",
    "xmlData['county'] = counties\n",
    "xmlData['state'] = states\n",
    "xmlData['zipcode'] = zipcodes\n",
    "xmlData['country'] = countries\n",
    "\n",
    "# Reorder the columns so that the address and its newly extracted components are placed together. \n",
    "xmlData = pd.DataFrame(xmlData[['date', 'sold_date', 'price', 'bedrooms', 'bathrooms', 'sqm.living_area', 'sqm.lot_area', 'floors', 'waterfront', 'view', 'sqm.upper_area', 'sqm.basement_area', 'build_year', 'renovate_year', 'address', 'street', 'city', 'county', 'state', 'zipcode', 'country']])"
   ]
  },
  {
   "cell_type": "markdown",
   "metadata": {},
   "source": [
    "Now try resolving data-level conflicts if the values are in accordance to the global schema.\n",
    "\n",
    "### 4.2.2 Checking Country Values \n",
    "Check if the country column only has **United States of America** as value. If that is the case then abbreviate it into **USA** as per the global schema specification."
   ]
  },
  {
   "cell_type": "code",
   "execution_count": 27,
   "metadata": {
    "collapsed": false
   },
   "outputs": [
    {
     "data": {
      "text/plain": [
       " United States of America    430\n",
       "Name: country, dtype: int64"
      ]
     },
     "execution_count": 27,
     "metadata": {},
     "output_type": "execute_result"
    }
   ],
   "source": [
    "# Check if all countries are United States of America.\n",
    "xmlData['country'].value_counts()"
   ]
  },
  {
   "cell_type": "code",
   "execution_count": 28,
   "metadata": {
    "collapsed": false
   },
   "outputs": [],
   "source": [
    "# Abbreviate the country into USA.\n",
    "xmlData['country'].replace({' United States of America': 'USA'}, inplace = True)"
   ]
  },
  {
   "cell_type": "code",
   "execution_count": 29,
   "metadata": {
    "collapsed": false
   },
   "outputs": [
    {
     "data": {
      "text/plain": [
       "USA    430\n",
       "Name: country, dtype: int64"
      ]
     },
     "execution_count": 29,
     "metadata": {},
     "output_type": "execute_result"
    }
   ],
   "source": [
    "xmlData['country'].value_counts()"
   ]
  },
  {
   "cell_type": "markdown",
   "metadata": {},
   "source": [
    "### 4.2.3 Checking ZipCode Values\n",
    "Check if all the **zip codes** are valid. A valid WA zipcode is a 5-digit character that starts with **98---**. \n",
    "\n",
    "Since the values will be numerous I have decided to put it in a data frame by using **Pandas'** `reset_index()` to set the indices. This will allow me to filter the values based on frequency."
   ]
  },
  {
   "cell_type": "code",
   "execution_count": 30,
   "metadata": {
    "collapsed": false
   },
   "outputs": [
    {
     "data": {
      "text/html": [
       "<div>\n",
       "<table border=\"1\" class=\"dataframe\">\n",
       "  <thead>\n",
       "    <tr style=\"text-align: right;\">\n",
       "      <th></th>\n",
       "      <th>zipcodes</th>\n",
       "      <th>count</th>\n",
       "    </tr>\n",
       "  </thead>\n",
       "  <tbody>\n",
       "    <tr>\n",
       "      <th>40</th>\n",
       "      <td>98065</td>\n",
       "      <td>4</td>\n",
       "    </tr>\n",
       "    <tr>\n",
       "      <th>41</th>\n",
       "      <td>98107</td>\n",
       "      <td>4</td>\n",
       "    </tr>\n",
       "    <tr>\n",
       "      <th>42</th>\n",
       "      <td>98003</td>\n",
       "      <td>4</td>\n",
       "    </tr>\n",
       "    <tr>\n",
       "      <th>43</th>\n",
       "      <td>98019</td>\n",
       "      <td>4</td>\n",
       "    </tr>\n",
       "    <tr>\n",
       "      <th>44</th>\n",
       "      <td>98168</td>\n",
       "      <td>4</td>\n",
       "    </tr>\n",
       "    <tr>\n",
       "      <th>45</th>\n",
       "      <td>98032</td>\n",
       "      <td>4</td>\n",
       "    </tr>\n",
       "    <tr>\n",
       "      <th>46</th>\n",
       "      <td>98040</td>\n",
       "      <td>4</td>\n",
       "    </tr>\n",
       "    <tr>\n",
       "      <th>47</th>\n",
       "      <td>98178</td>\n",
       "      <td>4</td>\n",
       "    </tr>\n",
       "    <tr>\n",
       "      <th>48</th>\n",
       "      <td>98199</td>\n",
       "      <td>4</td>\n",
       "    </tr>\n",
       "    <tr>\n",
       "      <th>49</th>\n",
       "      <td>98055</td>\n",
       "      <td>4</td>\n",
       "    </tr>\n",
       "    <tr>\n",
       "      <th>50</th>\n",
       "      <td>98011</td>\n",
       "      <td>3</td>\n",
       "    </tr>\n",
       "    <tr>\n",
       "      <th>51</th>\n",
       "      <td>98106</td>\n",
       "      <td>3</td>\n",
       "    </tr>\n",
       "    <tr>\n",
       "      <th>52</th>\n",
       "      <td>98108</td>\n",
       "      <td>3</td>\n",
       "    </tr>\n",
       "    <tr>\n",
       "      <th>53</th>\n",
       "      <td>98198</td>\n",
       "      <td>3</td>\n",
       "    </tr>\n",
       "    <tr>\n",
       "      <th>54</th>\n",
       "      <td>98005</td>\n",
       "      <td>3</td>\n",
       "    </tr>\n",
       "    <tr>\n",
       "      <th>55</th>\n",
       "      <td>98102</td>\n",
       "      <td>2</td>\n",
       "    </tr>\n",
       "    <tr>\n",
       "      <th>56</th>\n",
       "      <td>98188</td>\n",
       "      <td>2</td>\n",
       "    </tr>\n",
       "    <tr>\n",
       "      <th>57</th>\n",
       "      <td>98027; 98006</td>\n",
       "      <td>2</td>\n",
       "    </tr>\n",
       "    <tr>\n",
       "      <th>58</th>\n",
       "      <td>98002</td>\n",
       "      <td>2</td>\n",
       "    </tr>\n",
       "    <tr>\n",
       "      <th>59</th>\n",
       "      <td>98007</td>\n",
       "      <td>2</td>\n",
       "    </tr>\n",
       "    <tr>\n",
       "      <th>60</th>\n",
       "      <td>98047</td>\n",
       "      <td>2</td>\n",
       "    </tr>\n",
       "    <tr>\n",
       "      <th>61</th>\n",
       "      <td>98030</td>\n",
       "      <td>2</td>\n",
       "    </tr>\n",
       "    <tr>\n",
       "      <th>62</th>\n",
       "      <td>98105</td>\n",
       "      <td>2</td>\n",
       "    </tr>\n",
       "    <tr>\n",
       "      <th>63</th>\n",
       "      <td>98057</td>\n",
       "      <td>1</td>\n",
       "    </tr>\n",
       "    <tr>\n",
       "      <th>64</th>\n",
       "      <td>98011-9478</td>\n",
       "      <td>1</td>\n",
       "    </tr>\n",
       "    <tr>\n",
       "      <th>65</th>\n",
       "      <td>98024</td>\n",
       "      <td>1</td>\n",
       "    </tr>\n",
       "    <tr>\n",
       "      <th>66</th>\n",
       "      <td>90874</td>\n",
       "      <td>1</td>\n",
       "    </tr>\n",
       "    <tr>\n",
       "      <th>67</th>\n",
       "      <td>98014</td>\n",
       "      <td>1</td>\n",
       "    </tr>\n",
       "    <tr>\n",
       "      <th>68</th>\n",
       "      <td>98072</td>\n",
       "      <td>1</td>\n",
       "    </tr>\n",
       "    <tr>\n",
       "      <th>69</th>\n",
       "      <td>98136</td>\n",
       "      <td>1</td>\n",
       "    </tr>\n",
       "    <tr>\n",
       "      <th>70</th>\n",
       "      <td>98077</td>\n",
       "      <td>1</td>\n",
       "    </tr>\n",
       "    <tr>\n",
       "      <th>71</th>\n",
       "      <td>98025</td>\n",
       "      <td>1</td>\n",
       "    </tr>\n",
       "    <tr>\n",
       "      <th>72</th>\n",
       "      <td>98051</td>\n",
       "      <td>1</td>\n",
       "    </tr>\n",
       "    <tr>\n",
       "      <th>73</th>\n",
       "      <td>98109</td>\n",
       "      <td>1</td>\n",
       "    </tr>\n",
       "  </tbody>\n",
       "</table>\n",
       "</div>"
      ],
      "text/plain": [
       "         zipcodes  count\n",
       "40          98065      4\n",
       "41          98107      4\n",
       "42          98003      4\n",
       "43          98019      4\n",
       "44          98168      4\n",
       "45          98032      4\n",
       "46          98040      4\n",
       "47          98178      4\n",
       "48          98199      4\n",
       "49          98055      4\n",
       "50          98011      3\n",
       "51          98106      3\n",
       "52          98108      3\n",
       "53          98198      3\n",
       "54          98005      3\n",
       "55          98102      2\n",
       "56          98188      2\n",
       "57   98027; 98006      2\n",
       "58          98002      2\n",
       "59          98007      2\n",
       "60          98047      2\n",
       "61          98030      2\n",
       "62          98105      2\n",
       "63          98057      1\n",
       "64     98011-9478      1\n",
       "65          98024      1\n",
       "66          90874      1\n",
       "67          98014      1\n",
       "68          98072      1\n",
       "69          98136      1\n",
       "70          98077      1\n",
       "71          98025      1\n",
       "72          98051      1\n",
       "73          98109      1"
      ]
     },
     "execution_count": 30,
     "metadata": {},
     "output_type": "execute_result"
    }
   ],
   "source": [
    "# Check if all the zip codes are valid.\n",
    "zipcodes = xmlData['zipcode'].value_counts().reset_index()\n",
    "zipcodes.columns = ['zipcodes', 'count']\n",
    "\n",
    "# Logic: zipcodes that appear less frequently tend to be erroneous, so check zipcodes used less than 5 times.\n",
    "zipcodes[zipcodes['count'] < 5]"
   ]
  },
  {
   "cell_type": "markdown",
   "metadata": {},
   "source": [
    "Two zipcodes appear to be erroneous, **98027; 98006** and **98011-9478**. Investigate and check if they should be corrected by crossvalidating it with other sources."
   ]
  },
  {
   "cell_type": "code",
   "execution_count": 31,
   "metadata": {
    "collapsed": false
   },
   "outputs": [
    {
     "data": {
      "text/html": [
       "<div>\n",
       "<table border=\"1\" class=\"dataframe\">\n",
       "  <thead>\n",
       "    <tr style=\"text-align: right;\">\n",
       "      <th></th>\n",
       "      <th>date</th>\n",
       "      <th>sold_date</th>\n",
       "      <th>price</th>\n",
       "      <th>bedrooms</th>\n",
       "      <th>bathrooms</th>\n",
       "      <th>sqm.living_area</th>\n",
       "      <th>sqm.lot_area</th>\n",
       "      <th>floors</th>\n",
       "      <th>waterfront</th>\n",
       "      <th>view</th>\n",
       "      <th>...</th>\n",
       "      <th>sqm.basement_area</th>\n",
       "      <th>build_year</th>\n",
       "      <th>renovate_year</th>\n",
       "      <th>address</th>\n",
       "      <th>street</th>\n",
       "      <th>city</th>\n",
       "      <th>county</th>\n",
       "      <th>state</th>\n",
       "      <th>zipcode</th>\n",
       "      <th>country</th>\n",
       "    </tr>\n",
       "  </thead>\n",
       "  <tbody>\n",
       "    <tr>\n",
       "      <th>77</th>\n",
       "      <td>2014-07-20</td>\n",
       "      <td>2014-07-10</td>\n",
       "      <td>710000</td>\n",
       "      <td>4</td>\n",
       "      <td>2.5</td>\n",
       "      <td>266.6317248</td>\n",
       "      <td>835.6628448</td>\n",
       "      <td>1.0</td>\n",
       "      <td></td>\n",
       "      <td></td>\n",
       "      <td>...</td>\n",
       "      <td>92.90304</td>\n",
       "      <td>1968</td>\n",
       "      <td>0</td>\n",
       "      <td>98027; 98006, 158th Place Southeast, Eastgate,...</td>\n",
       "      <td>98027; 98006 158th Place Southeast</td>\n",
       "      <td>Bellevue</td>\n",
       "      <td>King County</td>\n",
       "      <td>Washington</td>\n",
       "      <td>98027; 98006</td>\n",
       "      <td>USA</td>\n",
       "    </tr>\n",
       "    <tr>\n",
       "      <th>134</th>\n",
       "      <td>2014-07-12</td>\n",
       "      <td>2014-07-11</td>\n",
       "      <td>582000</td>\n",
       "      <td>5</td>\n",
       "      <td>2.5</td>\n",
       "      <td>258.2704512</td>\n",
       "      <td>1145.9589984</td>\n",
       "      <td>1.0</td>\n",
       "      <td></td>\n",
       "      <td></td>\n",
       "      <td>...</td>\n",
       "      <td>110.5546176</td>\n",
       "      <td>1968</td>\n",
       "      <td>0</td>\n",
       "      <td>98027; 98006, 158th Place Southeast, Eastgate,...</td>\n",
       "      <td>98027; 98006 158th Place Southeast</td>\n",
       "      <td>Bellevue</td>\n",
       "      <td>King County</td>\n",
       "      <td>Washington</td>\n",
       "      <td>98027; 98006</td>\n",
       "      <td>USA</td>\n",
       "    </tr>\n",
       "  </tbody>\n",
       "</table>\n",
       "<p>2 rows × 21 columns</p>\n",
       "</div>"
      ],
      "text/plain": [
       "           date   sold_date   price bedrooms bathrooms sqm.living_area  \\\n",
       "77   2014-07-20  2014-07-10  710000        4       2.5     266.6317248   \n",
       "134  2014-07-12  2014-07-11  582000        5       2.5     258.2704512   \n",
       "\n",
       "     sqm.lot_area floors waterfront view   ...   sqm.basement_area build_year  \\\n",
       "77    835.6628448    1.0                   ...            92.90304       1968   \n",
       "134  1145.9589984    1.0                   ...         110.5546176       1968   \n",
       "\n",
       "    renovate_year                                            address  \\\n",
       "77              0  98027; 98006, 158th Place Southeast, Eastgate,...   \n",
       "134             0  98027; 98006, 158th Place Southeast, Eastgate,...   \n",
       "\n",
       "                                  street       city        county  \\\n",
       "77   98027; 98006 158th Place Southeast    Bellevue   King County   \n",
       "134  98027; 98006 158th Place Southeast    Bellevue   King County   \n",
       "\n",
       "           state        zipcode country  \n",
       "77    Washington   98027; 98006     USA  \n",
       "134   Washington   98027; 98006     USA  \n",
       "\n",
       "[2 rows x 21 columns]"
      ]
     },
     "execution_count": 31,
     "metadata": {},
     "output_type": "execute_result"
    }
   ],
   "source": [
    "# Check which rows have the zipcode '98027; 98006'\n",
    "xmlData[xmlData['zipcode'] == ' 98027; 98006']"
   ]
  },
  {
   "cell_type": "markdown",
   "metadata": {},
   "source": [
    "Based from <a href = 'https://www.redfin.com/WA/Bellevue/5-158th-Pl-SE-98008/home/426096'>here</a> and <a href = 'https://www.zillow.com/homedetails/4825-158th-Pl-SE-Bellevue-WA-98006/48781398_zpid/'>here</a>, the zipcode for 158th Place Southeast Eastgate is just 98006, so replace the rows accordingly.\n",
    "\n",
    "Looking at the addresses in <a href= 'https://goo.gl/maps/qxEgJforaYR2'>Google Maps</a>, there's no 98027 158th Pl SE nor 98006 158th Pl SE, so I will just not indicate any street number."
   ]
  },
  {
   "cell_type": "code",
   "execution_count": 32,
   "metadata": {
    "collapsed": false
   },
   "outputs": [
    {
     "name": "stdout",
     "output_type": "stream",
     "text": [
      "street     158th Place Southeast \n",
      "zipcode                     98006\n",
      "Name: 77, dtype: object\n",
      "street     158th Place Southeast \n",
      "zipcode                     98006\n",
      "Name: 134, dtype: object\n"
     ]
    }
   ],
   "source": [
    "# Replace the zipcodes of rows 77 and 134 with the researched zipcode.\n",
    "xmlData.set_value(77, 'zipcode', ' 98006')\n",
    "xmlData.set_value(134, 'zipcode', ' 98006')\n",
    "\n",
    "# Replace the streets of rows 77 and 134.\n",
    "xmlData.set_value(77, 'street', u'158th Place Southeast ')\n",
    "xmlData.set_value(134, 'street', u'158th Place Southeast ')\n",
    "\n",
    "print xmlData.loc[77, ['street', 'zipcode']]\n",
    "print xmlData.loc[134, ['street', 'zipcode']]"
   ]
  },
  {
   "cell_type": "code",
   "execution_count": 33,
   "metadata": {
    "collapsed": false,
    "scrolled": true
   },
   "outputs": [
    {
     "data": {
      "text/html": [
       "<div>\n",
       "<table border=\"1\" class=\"dataframe\">\n",
       "  <thead>\n",
       "    <tr style=\"text-align: right;\">\n",
       "      <th></th>\n",
       "      <th>date</th>\n",
       "      <th>sold_date</th>\n",
       "      <th>price</th>\n",
       "      <th>bedrooms</th>\n",
       "      <th>bathrooms</th>\n",
       "      <th>sqm.living_area</th>\n",
       "      <th>sqm.lot_area</th>\n",
       "      <th>floors</th>\n",
       "      <th>waterfront</th>\n",
       "      <th>view</th>\n",
       "      <th>...</th>\n",
       "      <th>sqm.basement_area</th>\n",
       "      <th>build_year</th>\n",
       "      <th>renovate_year</th>\n",
       "      <th>address</th>\n",
       "      <th>street</th>\n",
       "      <th>city</th>\n",
       "      <th>county</th>\n",
       "      <th>state</th>\n",
       "      <th>zipcode</th>\n",
       "      <th>country</th>\n",
       "    </tr>\n",
       "  </thead>\n",
       "  <tbody>\n",
       "    <tr>\n",
       "      <th>296</th>\n",
       "      <td>2014-07-23</td>\n",
       "      <td>2014-07-14</td>\n",
       "      <td>447000</td>\n",
       "      <td>3</td>\n",
       "      <td>2.5</td>\n",
       "      <td>161.6512896</td>\n",
       "      <td>282.70395072</td>\n",
       "      <td>2.0</td>\n",
       "      <td></td>\n",
       "      <td></td>\n",
       "      <td>...</td>\n",
       "      <td></td>\n",
       "      <td>2012</td>\n",
       "      <td>0</td>\n",
       "      <td>24 Hour Fitness - Bothell, 126th Avenue Northe...</td>\n",
       "      <td>24 Hour Fitness - Bothell 126th Avenue Northeast</td>\n",
       "      <td>Bothell</td>\n",
       "      <td>King County</td>\n",
       "      <td>Washington</td>\n",
       "      <td>98011-9478</td>\n",
       "      <td>USA</td>\n",
       "    </tr>\n",
       "  </tbody>\n",
       "</table>\n",
       "<p>1 rows × 21 columns</p>\n",
       "</div>"
      ],
      "text/plain": [
       "           date   sold_date   price bedrooms bathrooms sqm.living_area  \\\n",
       "296  2014-07-23  2014-07-14  447000        3       2.5     161.6512896   \n",
       "\n",
       "     sqm.lot_area floors waterfront view   ...   sqm.basement_area build_year  \\\n",
       "296  282.70395072    2.0                   ...                           2012   \n",
       "\n",
       "    renovate_year                                            address  \\\n",
       "296             0  24 Hour Fitness - Bothell, 126th Avenue Northe...   \n",
       "\n",
       "                                                street      city  \\\n",
       "296  24 Hour Fitness - Bothell 126th Avenue Northeast    Bothell   \n",
       "\n",
       "           county        state      zipcode country  \n",
       "296   King County   Washington   98011-9478     USA  \n",
       "\n",
       "[1 rows x 21 columns]"
      ]
     },
     "execution_count": 33,
     "metadata": {},
     "output_type": "execute_result"
    }
   ],
   "source": [
    "# Check which rows have the zipcode '98011-9478'\n",
    "xmlData[xmlData['zipcode'] == ' 98011-9478']"
   ]
  },
  {
   "cell_type": "markdown",
   "metadata": {},
   "source": [
    "Based on the gym's <a href = 'https://www.24hourfitness.com/Website/Club/00440'>website</a>, the correct zipcode is just 98011 so just replace it accordingly. "
   ]
  },
  {
   "cell_type": "code",
   "execution_count": 34,
   "metadata": {
    "collapsed": false
   },
   "outputs": [
    {
     "name": "stdout",
     "output_type": "stream",
     "text": [
      "date                                                        2014-07-23\n",
      "sold_date                                                   2014-07-14\n",
      "price                                                           447000\n",
      "bedrooms                                                             3\n",
      "bathrooms                                                          2.5\n",
      "sqm.living_area                                            161.6512896\n",
      "sqm.lot_area                                              282.70395072\n",
      "floors                                                             2.0\n",
      "waterfront                                                            \n",
      "view                                                                  \n",
      "sqm.upper_area                                             161.6512896\n",
      "sqm.basement_area                                                     \n",
      "build_year                                                        2012\n",
      "renovate_year                                                        0\n",
      "address              24 Hour Fitness - Bothell, 126th Avenue Northe...\n",
      "street               24 Hour Fitness - Bothell 126th Avenue Northeast \n",
      "city                                                           Bothell\n",
      "county                                                     King County\n",
      "state                                                       Washington\n",
      "zipcode                                                          98011\n",
      "country                                                            USA\n",
      "Name: 296, dtype: object\n"
     ]
    }
   ],
   "source": [
    "# Replace row 296's zipcode with 98011\n",
    "xmlData.set_value(296, 'zipcode', ' 98011')\n",
    "print xmlData.loc[296]"
   ]
  },
  {
   "cell_type": "markdown",
   "metadata": {},
   "source": [
    "### 4.2.4 Checking State Values\n",
    "Check if the state column only has **Washington** as value. If that is the case then abbreviate it into **WA** as per the global schema specification."
   ]
  },
  {
   "cell_type": "code",
   "execution_count": 35,
   "metadata": {
    "collapsed": false
   },
   "outputs": [],
   "source": [
    "# Check if all values in the 'state' column are Washington.\n",
    "xmlData['state'].value_counts()\n",
    "\n",
    "# Convert Washington to its abbreviation, 'WA'.\n",
    "xmlData['state'].replace({' Washington':'WA'}, inplace = True)"
   ]
  },
  {
   "cell_type": "markdown",
   "metadata": {},
   "source": [
    "### 4.2.5 Creating the StateZip Column\n",
    "Integrating the state and zipcode column only needs a **lambda function** that joins the values of these columns with space using the `' '.join()` function."
   ]
  },
  {
   "cell_type": "code",
   "execution_count": 36,
   "metadata": {
    "collapsed": true
   },
   "outputs": [],
   "source": [
    "# Combine the state and zipcode columns together to form the statezip column.\n",
    "# taken from https://stackoverflow.com/questions/19377969/combine-two-columns-of-text-in-dataframe-in-pandas-python\n",
    "xmlData['statezip'] = xmlData[['state', 'zipcode']].apply(lambda x: ''.join(x), axis = 1)\n",
    "\n",
    "# Drop the two columns.\n",
    "xmlData.drop('state', axis = 1, inplace = True)\n",
    "xmlData.drop('zipcode', axis = 1, inplace = True)"
   ]
  },
  {
   "cell_type": "markdown",
   "metadata": {},
   "source": [
    "### 4.2.6 Checking County Values\n",
    "Check if the county column only has **King County** as value. If that is the case then it is confirmed that all of the properties in both XML and CSV are in King County. I will not need this in the global schema since the city and statezip are enough."
   ]
  },
  {
   "cell_type": "code",
   "execution_count": 37,
   "metadata": {
    "collapsed": false
   },
   "outputs": [
    {
     "data": {
      "text/plain": [
       " King County    430\n",
       "Name: county, dtype: int64"
      ]
     },
     "execution_count": 37,
     "metadata": {},
     "output_type": "execute_result"
    }
   ],
   "source": [
    "# Are all properties located in King County?\n",
    "xmlData['county'].value_counts()"
   ]
  },
  {
   "cell_type": "code",
   "execution_count": 38,
   "metadata": {
    "collapsed": true
   },
   "outputs": [],
   "source": [
    "# Affirmative. Drop the county column.\n",
    "xmlData.drop('county', axis = 1, inplace = True)"
   ]
  },
  {
   "cell_type": "markdown",
   "metadata": {},
   "source": [
    "### 4.2.7 Checking City Values\n",
    "\n",
    "Check if the city values are valid. Turn the `value_counts()` output into a data frame again to filter the values."
   ]
  },
  {
   "cell_type": "code",
   "execution_count": 39,
   "metadata": {
    "collapsed": false
   },
   "outputs": [
    {
     "data": {
      "text/html": [
       "<div>\n",
       "<table border=\"1\" class=\"dataframe\">\n",
       "  <thead>\n",
       "    <tr style=\"text-align: right;\">\n",
       "      <th></th>\n",
       "      <th>cities</th>\n",
       "      <th>count</th>\n",
       "    </tr>\n",
       "  </thead>\n",
       "  <tbody>\n",
       "    <tr>\n",
       "      <th>18</th>\n",
       "      <td>Maple Valley</td>\n",
       "      <td>4</td>\n",
       "    </tr>\n",
       "    <tr>\n",
       "      <th>19</th>\n",
       "      <td>Novelty</td>\n",
       "      <td>4</td>\n",
       "    </tr>\n",
       "    <tr>\n",
       "      <th>20</th>\n",
       "      <td>Lakeland South</td>\n",
       "      <td>4</td>\n",
       "    </tr>\n",
       "    <tr>\n",
       "      <th>21</th>\n",
       "      <td>Mercer Island</td>\n",
       "      <td>4</td>\n",
       "    </tr>\n",
       "    <tr>\n",
       "      <th>22</th>\n",
       "      <td>Duvall</td>\n",
       "      <td>4</td>\n",
       "    </tr>\n",
       "    <tr>\n",
       "      <th>23</th>\n",
       "      <td>White Center</td>\n",
       "      <td>4</td>\n",
       "    </tr>\n",
       "    <tr>\n",
       "      <th>24</th>\n",
       "      <td>Fairwood</td>\n",
       "      <td>4</td>\n",
       "    </tr>\n",
       "    <tr>\n",
       "      <th>25</th>\n",
       "      <td>Cottage Lake</td>\n",
       "      <td>3</td>\n",
       "    </tr>\n",
       "    <tr>\n",
       "      <th>26</th>\n",
       "      <td>Enumclaw</td>\n",
       "      <td>3</td>\n",
       "    </tr>\n",
       "    <tr>\n",
       "      <th>27</th>\n",
       "      <td>Tanner</td>\n",
       "      <td>3</td>\n",
       "    </tr>\n",
       "    <tr>\n",
       "      <th>28</th>\n",
       "      <td>Newcastle</td>\n",
       "      <td>3</td>\n",
       "    </tr>\n",
       "    <tr>\n",
       "      <th>29</th>\n",
       "      <td>Des Moines</td>\n",
       "      <td>3</td>\n",
       "    </tr>\n",
       "    <tr>\n",
       "      <th>30</th>\n",
       "      <td>Snoqualmie</td>\n",
       "      <td>3</td>\n",
       "    </tr>\n",
       "    <tr>\n",
       "      <th>31</th>\n",
       "      <td>Oskams Corner</td>\n",
       "      <td>2</td>\n",
       "    </tr>\n",
       "    <tr>\n",
       "      <th>32</th>\n",
       "      <td>Lake Morton-Berrydale</td>\n",
       "      <td>2</td>\n",
       "    </tr>\n",
       "    <tr>\n",
       "      <th>33</th>\n",
       "      <td>Hobart</td>\n",
       "      <td>2</td>\n",
       "    </tr>\n",
       "    <tr>\n",
       "      <th>34</th>\n",
       "      <td>Union Hill-Novelty Hill</td>\n",
       "      <td>2</td>\n",
       "    </tr>\n",
       "    <tr>\n",
       "      <th>35</th>\n",
       "      <td>Lake Forest Park</td>\n",
       "      <td>2</td>\n",
       "    </tr>\n",
       "    <tr>\n",
       "      <th>36</th>\n",
       "      <td>Normandy Park</td>\n",
       "      <td>2</td>\n",
       "    </tr>\n",
       "    <tr>\n",
       "      <th>37</th>\n",
       "      <td>Woodinville</td>\n",
       "      <td>2</td>\n",
       "    </tr>\n",
       "    <tr>\n",
       "      <th>38</th>\n",
       "      <td>Bothell</td>\n",
       "      <td>2</td>\n",
       "    </tr>\n",
       "    <tr>\n",
       "      <th>39</th>\n",
       "      <td>Pacific</td>\n",
       "      <td>2</td>\n",
       "    </tr>\n",
       "    <tr>\n",
       "      <th>40</th>\n",
       "      <td>Mirrormont</td>\n",
       "      <td>2</td>\n",
       "    </tr>\n",
       "    <tr>\n",
       "      <th>41</th>\n",
       "      <td>SeaTac</td>\n",
       "      <td>2</td>\n",
       "    </tr>\n",
       "    <tr>\n",
       "      <th>42</th>\n",
       "      <td>East Hill-Meridian</td>\n",
       "      <td>2</td>\n",
       "    </tr>\n",
       "    <tr>\n",
       "      <th>43</th>\n",
       "      <td>Tukwila</td>\n",
       "      <td>1</td>\n",
       "    </tr>\n",
       "    <tr>\n",
       "      <th>44</th>\n",
       "      <td>Lea Hill</td>\n",
       "      <td>1</td>\n",
       "    </tr>\n",
       "    <tr>\n",
       "      <th>45</th>\n",
       "      <td>Cedar Falls</td>\n",
       "      <td>1</td>\n",
       "    </tr>\n",
       "    <tr>\n",
       "      <th>46</th>\n",
       "      <td>Clyde Hill</td>\n",
       "      <td>1</td>\n",
       "    </tr>\n",
       "    <tr>\n",
       "      <th>47</th>\n",
       "      <td>Fall City</td>\n",
       "      <td>1</td>\n",
       "    </tr>\n",
       "    <tr>\n",
       "      <th>48</th>\n",
       "      <td>North Bend</td>\n",
       "      <td>1</td>\n",
       "    </tr>\n",
       "    <tr>\n",
       "      <th>49</th>\n",
       "      <td>Ravensdale</td>\n",
       "      <td>1</td>\n",
       "    </tr>\n",
       "    <tr>\n",
       "      <th>50</th>\n",
       "      <td>Bryn Mawr-Skyway</td>\n",
       "      <td>1</td>\n",
       "    </tr>\n",
       "    <tr>\n",
       "      <th>51</th>\n",
       "      <td>Mount View</td>\n",
       "      <td>1</td>\n",
       "    </tr>\n",
       "    <tr>\n",
       "      <th>52</th>\n",
       "      <td>Cedar Grove</td>\n",
       "      <td>1</td>\n",
       "    </tr>\n",
       "    <tr>\n",
       "      <th>53</th>\n",
       "      <td>Ames Lake</td>\n",
       "      <td>1</td>\n",
       "    </tr>\n",
       "    <tr>\n",
       "      <th>54</th>\n",
       "      <td>Krain</td>\n",
       "      <td>1</td>\n",
       "    </tr>\n",
       "    <tr>\n",
       "      <th>55</th>\n",
       "      <td>Maple Heights-Lake Desire</td>\n",
       "      <td>1</td>\n",
       "    </tr>\n",
       "    <tr>\n",
       "      <th>56</th>\n",
       "      <td>Highland Park</td>\n",
       "      <td>1</td>\n",
       "    </tr>\n",
       "    <tr>\n",
       "      <th>57</th>\n",
       "      <td>Preston</td>\n",
       "      <td>1</td>\n",
       "    </tr>\n",
       "    <tr>\n",
       "      <th>58</th>\n",
       "      <td>Wabash</td>\n",
       "      <td>1</td>\n",
       "    </tr>\n",
       "    <tr>\n",
       "      <th>59</th>\n",
       "      <td>Snoqualmie Falls</td>\n",
       "      <td>1</td>\n",
       "    </tr>\n",
       "    <tr>\n",
       "      <th>60</th>\n",
       "      <td>Stuart</td>\n",
       "      <td>1</td>\n",
       "    </tr>\n",
       "    <tr>\n",
       "      <th>61</th>\n",
       "      <td>Sahalee</td>\n",
       "      <td>1</td>\n",
       "    </tr>\n",
       "    <tr>\n",
       "      <th>62</th>\n",
       "      <td>Georgetown</td>\n",
       "      <td>1</td>\n",
       "    </tr>\n",
       "  </tbody>\n",
       "</table>\n",
       "</div>"
      ],
      "text/plain": [
       "                        cities  count\n",
       "18                Maple Valley      4\n",
       "19                     Novelty      4\n",
       "20              Lakeland South      4\n",
       "21               Mercer Island      4\n",
       "22                      Duvall      4\n",
       "23                White Center      4\n",
       "24                    Fairwood      4\n",
       "25                Cottage Lake      3\n",
       "26                    Enumclaw      3\n",
       "27                      Tanner      3\n",
       "28                   Newcastle      3\n",
       "29                  Des Moines      3\n",
       "30                  Snoqualmie      3\n",
       "31               Oskams Corner      2\n",
       "32       Lake Morton-Berrydale      2\n",
       "33                      Hobart      2\n",
       "34     Union Hill-Novelty Hill      2\n",
       "35            Lake Forest Park      2\n",
       "36               Normandy Park      2\n",
       "37                 Woodinville      2\n",
       "38                     Bothell      2\n",
       "39                     Pacific      2\n",
       "40                  Mirrormont      2\n",
       "41                      SeaTac      2\n",
       "42          East Hill-Meridian      2\n",
       "43                     Tukwila      1\n",
       "44                    Lea Hill      1\n",
       "45                 Cedar Falls      1\n",
       "46                  Clyde Hill      1\n",
       "47                   Fall City      1\n",
       "48                  North Bend      1\n",
       "49                  Ravensdale      1\n",
       "50            Bryn Mawr-Skyway      1\n",
       "51                  Mount View      1\n",
       "52                 Cedar Grove      1\n",
       "53                   Ames Lake      1\n",
       "54                       Krain      1\n",
       "55   Maple Heights-Lake Desire      1\n",
       "56               Highland Park      1\n",
       "57                     Preston      1\n",
       "58                      Wabash      1\n",
       "59            Snoqualmie Falls      1\n",
       "60                      Stuart      1\n",
       "61                     Sahalee      1\n",
       "62                  Georgetown      1"
      ]
     },
     "execution_count": 39,
     "metadata": {},
     "output_type": "execute_result"
    }
   ],
   "source": [
    "# Check if all cities are valid.\n",
    "cities = xmlData['city'].value_counts().reset_index()\n",
    "cities.columns = ['cities', 'count']\n",
    "\n",
    "# Select all cities that have less than five instances in the Data Frame.\n",
    "cities[cities['count'] < 5]"
   ]
  },
  {
   "cell_type": "markdown",
   "metadata": {},
   "source": [
    "Based on this <a href = 'http://washington.hometownlocator.com/counties/cities,cfips,033,c,king.cfm'>website</a>, these are valid cities.  All terms are also in title case so the format is fine.\n",
    "\n",
    "The last remaining step would just be to remove the space in the first character of the cities caused by the split."
   ]
  },
  {
   "cell_type": "code",
   "execution_count": 40,
   "metadata": {
    "collapsed": false
   },
   "outputs": [
    {
     "name": "stdout",
     "output_type": "stream",
     "text": [
      "0            Kirkland\n",
      "1             Seattle\n",
      "2             Seattle\n",
      "3             Seattle\n",
      "4            Kirkland\n",
      "5             Seattle\n",
      "6             Seattle\n",
      "7             Seattle\n",
      "8             Seattle\n",
      "9             Seattle\n",
      "10            Seattle\n",
      "11            Seattle\n",
      "12            Seattle\n",
      "13            Seattle\n",
      "14            Seattle\n",
      "15            Seattle\n",
      "16            Seattle\n",
      "17            Seattle\n",
      "18            Seattle\n",
      "19            Seattle\n",
      "20            Seattle\n",
      "21            Seattle\n",
      "22            Seattle\n",
      "23            Seattle\n",
      "24           Kirkland\n",
      "25            Seattle\n",
      "26            Seattle\n",
      "27               Kent\n",
      "28            Seattle\n",
      "29            Seattle\n",
      "            ...      \n",
      "400          Enumclaw\n",
      "401          Bellevue\n",
      "402           Seattle\n",
      "403            Vashon\n",
      "404         Covington\n",
      "405           Kenmore\n",
      "406       Woodinville\n",
      "407          Kirkland\n",
      "408           Seattle\n",
      "409           Novelty\n",
      "410       Federal Way\n",
      "411            Auburn\n",
      "412           Seattle\n",
      "413           Seattle\n",
      "414           Seattle\n",
      "415            Auburn\n",
      "416           Seattle\n",
      "417           Seattle\n",
      "418           Seattle\n",
      "419           Seattle\n",
      "420        Des Moines\n",
      "421          Fairwood\n",
      "422      Cottage Lake\n",
      "423            Tanner\n",
      "424           Seattle\n",
      "425              Kent\n",
      "426    Lakeland South\n",
      "427          Lea Hill\n",
      "428          Fairwood\n",
      "429           Seattle\n",
      "Name: city, dtype: object\n"
     ]
    }
   ],
   "source": [
    "# Strip the first character which is a space.\n",
    "xmlData['city'] = [ct[1:] for ct in xmlData['city']]\n",
    "print xmlData['city']"
   ]
  },
  {
   "cell_type": "markdown",
   "metadata": {},
   "source": [
    "### 4.2.8 Checking Street Values\n",
    "For the street values, the primary task is to **abbreviate** the direction and road descriptors in accordance with the global schema. I added space at the end during extraction so I could avoid abbreviating terms like 'Northshire' or 'Eastgate'. \n",
    "\n",
    "To replace the substrings I just utilized **Pandas' `str.replace()`** function, which matches and replaces *substrings*, not the whole string."
   ]
  },
  {
   "cell_type": "code",
   "execution_count": 41,
   "metadata": {
    "collapsed": false
   },
   "outputs": [],
   "source": [
    "# Abbreviate the expanded terms in the street column since it's the industry standard \n",
    "# when representing addresses in the United States.\n",
    "\n",
    "# Directions\n",
    "xmlData['street'] = xmlData['street'].str.replace(' Northeast ', ' NE ')\n",
    "xmlData['street'] = xmlData['street'].str.replace(' Northwest ', ' NW ')\n",
    "xmlData['street'] = xmlData['street'].str.replace(' Southeast ', ' SE ')\n",
    "xmlData['street'] = xmlData['street'].str.replace(' Southwest ', ' SW ')\n",
    "xmlData['street'] = xmlData['street'].str.replace(' North ', ' N ')\n",
    "xmlData['street'] = xmlData['street'].str.replace(' South ', ' S ')\n",
    "xmlData['street'] = xmlData['street'].str.replace(' East ', ' E ')\n",
    "xmlData['street'] = xmlData['street'].str.replace(' West ', ' W ')\n",
    "\n",
    "# Road Descriptions\n",
    "xmlData['street'] = xmlData['street'].str.replace(' Avenue', ' Ave')\n",
    "xmlData['street'] = xmlData['street'].str.replace(' Parkway', ' Pkwy')\n",
    "xmlData['street'] = xmlData['street'].str.replace(' Street', ' St')\n",
    "xmlData['street'] = xmlData['street'].str.replace(' Place', ' Pl')\n",
    "xmlData['street'] = xmlData['street'].str.replace(' Court', ' Ct')\n",
    "xmlData['street'] = xmlData['street'].str.replace(' Road', ' Rd')\n",
    "xmlData['street'] = xmlData['street'].str.replace(' Lane', ' Ln')\n",
    "xmlData['street'] = xmlData['street'].str.replace(' Boulevard', ' Blvd')\n",
    "xmlData['street'] = xmlData['street'].str.replace(' Highway', ' Hwy')\n",
    "xmlData['street'] = xmlData['street'].str.replace(' Drive', ' Dr')"
   ]
  },
  {
   "cell_type": "code",
   "execution_count": 42,
   "metadata": {
    "collapsed": false
   },
   "outputs": [
    {
     "data": {
      "text/plain": [
       "0                  10515 115th Pl NE \n",
       "1                    1501 NW 90th St \n",
       "2                      537 N 70th St \n",
       "3                  12008 35th Ave NE \n",
       "4                  11807 NE 105th Ct \n",
       "5                     924 26th Ave S \n",
       "6                       125 30th Ave \n",
       "7                 5626 Keystone Pl N \n",
       "8                    1714 S Pearl St \n",
       "9              10304 Interlake Ave N \n",
       "10                  3822 42nd Ave SW \n",
       "11                    548 NE 86th St \n",
       "12                  4112 38th Ave SW \n",
       "13                  9510 28th Ave NW \n",
       "14                5641 Keystone Pl N \n",
       "15              4408 Thackeray Pl NE \n",
       "16                1925 Walnut Ave SW \n",
       "17                    2318 N 60th St \n",
       "18                   6732 Mars Ave S \n",
       "19                  7335 35th Ave SW \n",
       "20                   1018 NE 96th St \n",
       "21                5428 Kirkwood Pl N \n",
       "22                 5148 S Creston St \n",
       "23                   3051 36th Ave W \n",
       "24                14206 119th Ave NE \n",
       "25                     1718 32nd Ave \n",
       "26                  9716 33rd Ave SW \n",
       "27                 23884 140th Ln SE \n",
       "28                  3008 38th Ave SW \n",
       "29                746 Boylston Ave E \n",
       "                    ...              \n",
       "400    Elk Meadows Park Warner Ave E \n",
       "401        Northeast 8th St Eastgate \n",
       "402                  2823 NW 64th St \n",
       "403                     115th Ave SW \n",
       "404                19789 SE 266th Pl \n",
       "405                 7689 NE 175th St \n",
       "406                12505 NE 160th Pl \n",
       "407                 12119 NE 64th St \n",
       "408                  2515 31st Ave W \n",
       "409            9799 241st Terrace NE \n",
       "410                   322 S 297th Pl \n",
       "411                   975 52nd St SE \n",
       "412                 8315 16th Ave NW \n",
       "413                  8131 49th Ave S \n",
       "414                  4729 53rd Ave S \n",
       "415                   3428 Scenic Dr \n",
       "416               8226 Corliss Ave N \n",
       "417                 9052 Burke Ave N \n",
       "418               3210 S Dearborn St \n",
       "419                 14075 23rd Pl NE \n",
       "420                  20150 2nd Ave S \n",
       "421           13646 SE Fairwood Blvd \n",
       "422                19798 NE 191st St \n",
       "423                41935 SE 135th St \n",
       "424                 7003 26th Ave NW \n",
       "425               20974 103rd Ave SE \n",
       "426                  35198 56th Pl S \n",
       "427                31800 120th Pl SE \n",
       "428                14048 SE 158th St \n",
       "429                8819 Renton Ave S \n",
       "Name: street, dtype: object"
      ]
     },
     "execution_count": 42,
     "metadata": {},
     "output_type": "execute_result"
    }
   ],
   "source": [
    "# Check the value of the street column.\n",
    "xmlData['street']"
   ]
  },
  {
   "cell_type": "markdown",
   "metadata": {},
   "source": [
    "Because I have replaced terms in the between spaces, some streets that start with the abbreviated terms and **do not** have a street number must have been missed. To detect these rows I just used **Pandas' regular expression string matcher `str.match()`**. \n",
    "\n",
    "The regular expression used is **`^(?:[A-Z]).*$`**, meaning any string that starts with a capital letter."
   ]
  },
  {
   "cell_type": "code",
   "execution_count": 43,
   "metadata": {
    "collapsed": false
   },
   "outputs": [
    {
     "data": {
      "text/html": [
       "<div>\n",
       "<table border=\"1\" class=\"dataframe\">\n",
       "  <thead>\n",
       "    <tr style=\"text-align: right;\">\n",
       "      <th></th>\n",
       "      <th>street</th>\n",
       "      <th>city</th>\n",
       "      <th>address</th>\n",
       "    </tr>\n",
       "  </thead>\n",
       "  <tbody>\n",
       "    <tr>\n",
       "      <th>31</th>\n",
       "      <td>Island Crest Way and SE 58th St SE 58th St</td>\n",
       "      <td>Mercer Island</td>\n",
       "      <td>Island Crest Way and SE 58th St, Southeast 58t...</td>\n",
       "    </tr>\n",
       "    <tr>\n",
       "      <th>33</th>\n",
       "      <td>Fire Station 34 633</td>\n",
       "      <td>Seattle</td>\n",
       "      <td>Fire Station 34, 633, 32nd Avenue East, Broadm...</td>\n",
       "    </tr>\n",
       "    <tr>\n",
       "      <th>38</th>\n",
       "      <td>Victory Outreach Church SW 108th St</td>\n",
       "      <td>White Center</td>\n",
       "      <td>Victory Outreach Church, Southwest 108th Stree...</td>\n",
       "    </tr>\n",
       "    <tr>\n",
       "      <th>49</th>\n",
       "      <td>Southeast 183rd St</td>\n",
       "      <td>Maple Heights-Lake Desire</td>\n",
       "      <td>Southeast 183rd Street, Maple Heights-Lake Des...</td>\n",
       "    </tr>\n",
       "    <tr>\n",
       "      <th>79</th>\n",
       "      <td>Kirk Park NE Magnolia St</td>\n",
       "      <td>Issaquah</td>\n",
       "      <td>Kirk Park, Northeast Magnolia Street, Kirk Par...</td>\n",
       "    </tr>\n",
       "    <tr>\n",
       "      <th>91</th>\n",
       "      <td>Saddleback Trail Eastgate</td>\n",
       "      <td>Bellevue</td>\n",
       "      <td>Saddleback Trail, Eastgate, Bellevue, King Cou...</td>\n",
       "    </tr>\n",
       "    <tr>\n",
       "      <th>104</th>\n",
       "      <td>I S 234th St</td>\n",
       "      <td>Des Moines</td>\n",
       "      <td>I, South 234th Street, Des Moines, King County...</td>\n",
       "    </tr>\n",
       "    <tr>\n",
       "      <th>162</th>\n",
       "      <td>NE 9th PL</td>\n",
       "      <td>Sammamish</td>\n",
       "      <td>NE 9th PL, Sammamish, King County, Washington,...</td>\n",
       "    </tr>\n",
       "    <tr>\n",
       "      <th>293</th>\n",
       "      <td>Village Green Park Dr NE</td>\n",
       "      <td>Issaquah</td>\n",
       "      <td>Village Green, Park Drive Northeast, Issaquah,...</td>\n",
       "    </tr>\n",
       "    <tr>\n",
       "      <th>324</th>\n",
       "      <td>Northeast Bird St</td>\n",
       "      <td>Duvall</td>\n",
       "      <td>Northeast Bird Street, Duvall, King County, Wa...</td>\n",
       "    </tr>\n",
       "    <tr>\n",
       "      <th>349</th>\n",
       "      <td>Southwest 270th St</td>\n",
       "      <td>Vashon</td>\n",
       "      <td>Southwest 270th Street, Vashon, King County, W...</td>\n",
       "    </tr>\n",
       "    <tr>\n",
       "      <th>399</th>\n",
       "      <td>Southeast 10th St</td>\n",
       "      <td>North Bend</td>\n",
       "      <td>Southeast 10th Street, North Bend, King County...</td>\n",
       "    </tr>\n",
       "    <tr>\n",
       "      <th>400</th>\n",
       "      <td>Elk Meadows Park Warner Ave E</td>\n",
       "      <td>Enumclaw</td>\n",
       "      <td>Elk Meadows Park, Warner Avenue East, Enumclaw...</td>\n",
       "    </tr>\n",
       "    <tr>\n",
       "      <th>401</th>\n",
       "      <td>Northeast 8th St Eastgate</td>\n",
       "      <td>Bellevue</td>\n",
       "      <td>Northeast 8th Street, Eastgate, Bellevue, King...</td>\n",
       "    </tr>\n",
       "  </tbody>\n",
       "</table>\n",
       "</div>"
      ],
      "text/plain": [
       "                                          street                       city  \\\n",
       "31   Island Crest Way and SE 58th St SE 58th St               Mercer Island   \n",
       "33                          Fire Station 34 633                     Seattle   \n",
       "38          Victory Outreach Church SW 108th St                White Center   \n",
       "49                           Southeast 183rd St   Maple Heights-Lake Desire   \n",
       "79                     Kirk Park NE Magnolia St                    Issaquah   \n",
       "91                    Saddleback Trail Eastgate                    Bellevue   \n",
       "104                                I S 234th St                  Des Moines   \n",
       "162                                   NE 9th PL                   Sammamish   \n",
       "293                    Village Green Park Dr NE                    Issaquah   \n",
       "324                           Northeast Bird St                      Duvall   \n",
       "349                          Southwest 270th St                      Vashon   \n",
       "399                           Southeast 10th St                  North Bend   \n",
       "400               Elk Meadows Park Warner Ave E                    Enumclaw   \n",
       "401                   Northeast 8th St Eastgate                    Bellevue   \n",
       "\n",
       "                                               address  \n",
       "31   Island Crest Way and SE 58th St, Southeast 58t...  \n",
       "33   Fire Station 34, 633, 32nd Avenue East, Broadm...  \n",
       "38   Victory Outreach Church, Southwest 108th Stree...  \n",
       "49   Southeast 183rd Street, Maple Heights-Lake Des...  \n",
       "79   Kirk Park, Northeast Magnolia Street, Kirk Par...  \n",
       "91   Saddleback Trail, Eastgate, Bellevue, King Cou...  \n",
       "104  I, South 234th Street, Des Moines, King County...  \n",
       "162  NE 9th PL, Sammamish, King County, Washington,...  \n",
       "293  Village Green, Park Drive Northeast, Issaquah,...  \n",
       "324  Northeast Bird Street, Duvall, King County, Wa...  \n",
       "349  Southwest 270th Street, Vashon, King County, W...  \n",
       "399  Southeast 10th Street, North Bend, King County...  \n",
       "400  Elk Meadows Park, Warner Avenue East, Enumclaw...  \n",
       "401  Northeast 8th Street, Eastgate, Bellevue, King...  "
      ]
     },
     "execution_count": 43,
     "metadata": {},
     "output_type": "execute_result"
    }
   ],
   "source": [
    "# Check for streets that start a capital letter.\n",
    "xmlData[xmlData['street'].str.match('^(?:[A-Z]).*$')][['street','city','address']]"
   ]
  },
  {
   "cell_type": "markdown",
   "metadata": {},
   "source": [
    "Most of these streets start with a term that should be abbreviated (e.g. rows **49, 324, 349, and 399**). There are also some weird streets in rows **31, 33, 91, 104, and 401**.\n",
    "\n",
    "Investigating these streets:\n",
    "- based on <a href='https://goo.gl/maps/X2KcWqQfxNr'>Google Maps</a> row **31**'s street should just be Island Crestway SE 58th St as the name of the property is Island Crestway & SE 58th St and it would be redundant to show the street twice.\n",
    "- based on <a href='https://goo.gl/maps/FyXHaSf8ijv'>Google Maps</a> row **33**'s street should be 633 32nd Ave E. It was cut off because the street comprises 3 commas and not the usual 2.\n",
    "- rows **91 and 401** includes **Eastgate** which is not part of the street (it's a name of the community), so it must be removed.\n",
    "- row **104**'s property name is `I`. I cannot verify this online so it's best I just leave it as it is."
   ]
  },
  {
   "cell_type": "code",
   "execution_count": 44,
   "metadata": {
    "collapsed": false
   },
   "outputs": [
    {
     "data": {
      "text/plain": [
       "date                                                        2014-07-21\n",
       "sold_date                                                   2014-07-11\n",
       "price                                                           258000\n",
       "bedrooms                                                             3\n",
       "bathrooms                                                          2.0\n",
       "sqm.living_area                                            156.0771072\n",
       "sqm.lot_area                                             1856.01693312\n",
       "floors                                                             1.0\n",
       "waterfront                                                            \n",
       "view                                                                  \n",
       "sqm.upper_area                                              81.7546752\n",
       "sqm.basement_area                                            74.322432\n",
       "build_year                                                        1948\n",
       "renovate_year                                                        0\n",
       "address              I, South 234th Street, Des Moines, King County...\n",
       "street                                                   I S 234th St \n",
       "city                                                        Des Moines\n",
       "country                                                            USA\n",
       "statezip                                                      WA 98198\n",
       "Name: 104, dtype: object"
      ]
     },
     "execution_count": 44,
     "metadata": {},
     "output_type": "execute_result"
    }
   ],
   "source": [
    "xmlData.loc[104]"
   ]
  },
  {
   "cell_type": "code",
   "execution_count": 45,
   "metadata": {
    "collapsed": false
   },
   "outputs": [
    {
     "name": "stdout",
     "output_type": "stream",
     "text": [
      "SE 183rd St \n",
      "Saddleback Trail \n",
      "NE 9th Pl \n",
      "NE Bird St \n",
      "SW 270th St \n",
      "SE 10th St \n",
      "NE Bird St \n",
      "NE 8th St \n"
     ]
    }
   ],
   "source": [
    "# Manually replace the substrings for the streets in these rows.\n",
    "xmlData.set_value(49, 'street', xmlData.loc[49, 'street'].replace('Southeast', 'SE')) \n",
    "xmlData.set_value(399, 'street', xmlData.loc[399, 'street'].replace('Southeast', 'SE'))\n",
    "xmlData.set_value(349, 'street', xmlData.loc[349, 'street'].replace('Southwest', 'SW'))\n",
    "xmlData.set_value(324, 'street', xmlData.loc[324, 'street'].replace('Northeast', 'NE'))\n",
    "\n",
    "# Remove Eastgate since it's not part of the street name. \n",
    "xmlData.set_value(91, 'street', 'Saddleback Trail ')\n",
    "xmlData.set_value(401, 'street', 'NE 8th St ')\n",
    "\n",
    "# Fix other street names. The spaces at the end will be stripped later.\n",
    "xmlData.set_value(31, 'street', 'Island Crest Way & SE 58th St ')\n",
    "xmlData.set_value(162, 'street', 'NE 9th Pl ')\n",
    "xmlData.set_value(33, 'street', 'Fire Station 34 633 32nd Ave E ')\n",
    "\n",
    "# Check the values.\n",
    "print xmlData.loc[49, 'street']\n",
    "print xmlData.loc[91, 'street']\n",
    "print xmlData.loc[162, 'street']\n",
    "print xmlData.loc[324, 'street']\n",
    "print xmlData.loc[349, 'street']\n",
    "print xmlData.loc[399, 'street']\n",
    "print xmlData.loc[324, 'street']\n",
    "print xmlData.loc[401, 'street']"
   ]
  },
  {
   "cell_type": "markdown",
   "metadata": {},
   "source": [
    "Since a street name usually ends with either the direction or a road description, I tried to find out any rows that doesn't end with either."
   ]
  },
  {
   "cell_type": "code",
   "execution_count": 46,
   "metadata": {
    "collapsed": false
   },
   "outputs": [
    {
     "data": {
      "text/plain": [
       "86        12412 NE 80th Way \n",
       "233    16531 SE Newport Way \n",
       "256        3798 Hampton Way \n",
       "262       4372 W Mercer Way \n",
       "395      21629 SE 299th Way \n",
       "Name: street, dtype: object"
      ]
     },
     "execution_count": 46,
     "metadata": {},
     "output_type": "execute_result"
    }
   ],
   "source": [
    "# Check for strings that doesn't end in any abbreviations\n",
    "xmlData[xmlData['street'].str.match('.*[^St|Ave|S|N|E|W|NE|SE|NW|SW|Pl|Ct|Dr|Ln|Blvd] $')]['street']"
   ]
  },
  {
   "cell_type": "markdown",
   "metadata": {},
   "source": [
    "All of these terms end in **Way**. The term **'Way'** is not being abbreviated when displaying US addresses. This term was also not abbreviated in the CSV File.\n",
    "\n",
    "Now that I'm done processing the street column I could just remove the space I added earlier.\n",
    "\n",
    "I can also drop the address column now."
   ]
  },
  {
   "cell_type": "code",
   "execution_count": 47,
   "metadata": {
    "collapsed": false
   },
   "outputs": [],
   "source": [
    "# Remove the space added at the end of the string\n",
    "xmlData['street'] = [street[:-1] for street in xmlData['street']]"
   ]
  },
  {
   "cell_type": "code",
   "execution_count": 48,
   "metadata": {
    "collapsed": false
   },
   "outputs": [],
   "source": [
    "# Drop the address column.\n",
    "xmlData.drop('address', axis = 1, inplace = True)"
   ]
  },
  {
   "cell_type": "markdown",
   "metadata": {},
   "source": [
    "## 4.3 Parsing XML Price\n",
    "Since the XML prices are already in the global schema format, just convert it to numeric to make sure all prices are int int64 format using **Pandas' `to_numeric()`** method. This method converts the column into a numeric data type, while specifying `errors = 'raise'` to throw and raise any exceptions encountered during parsing."
   ]
  },
  {
   "cell_type": "code",
   "execution_count": 49,
   "metadata": {
    "collapsed": true
   },
   "outputs": [],
   "source": [
    "# Check if all the price values are numeric.\n",
    "xmlData['price'] = pd.to_numeric(xmlData['price'], errors = 'raise')"
   ]
  },
  {
   "cell_type": "markdown",
   "metadata": {},
   "source": [
    "## 4.4 Parsing XML Bedrooms, Bathrooms, & Floors\n",
    "The same goes for the discrete variables bedrooms, bathrooms, and floors. Use the same method to ensure these columns are in the expected format (int64 and float64)."
   ]
  },
  {
   "cell_type": "code",
   "execution_count": 50,
   "metadata": {
    "collapsed": true
   },
   "outputs": [],
   "source": [
    "# Check if all bedrooms, bathrooms, and floors are numeric.\n",
    "xmlData['bedrooms'] = pd.to_numeric(xmlData['bedrooms'], errors = 'raise')\n",
    "xmlData['bathrooms'] = pd.to_numeric(xmlData['bathrooms'], errors = 'raise')\n",
    "xmlData['floors'] = pd.to_numeric(xmlData['floors'], errors = 'raise')"
   ]
  },
  {
   "cell_type": "markdown",
   "metadata": {},
   "source": [
    "## 4.5 Parsing XML Areas (Living Area, Lot Area, Upper Area, Basement Area)\n",
    "Because the United States use the **English System of Measurement**, it is better to convert the variables in sqm to sqft.\n",
    "\n",
    "To convert the sqm.living_area, sqm.lot_area, sqm.upper_area and sqm.basement_area to sqft, I did **scalar multiplication**. According to various internet resources (<a href = 'http://www.metric-conversions.org/area/square-meters-to-square-feet.htm'>1</a>, <a href='http://www.convertunits.com/from/sq+m/to/sq+ft'>2</a>, <a href='https://www.google.com.au/search?q=1+sqm+to+sqft&oq=1+sqm&aqs=chrome.1.69i57j0l5.6956j0j7&sourceid=chrome&ie=UTF-8'>3</a>), 1 sqm is equal to **10.7639104167 sqft**. \n",
    "\n",
    "Drop the old columns after performing scalar multiplication."
   ]
  },
  {
   "cell_type": "code",
   "execution_count": 51,
   "metadata": {
    "collapsed": true
   },
   "outputs": [],
   "source": [
    "# Check if the living_area, lot_area, upper_area, and basement_area are numeric.\n",
    "xmlData['sqm.living_area'] = pd.to_numeric(xmlData['sqm.living_area'], errors = 'raise')\n",
    "xmlData['sqm.lot_area'] = pd.to_numeric(xmlData['sqm.lot_area'], errors = 'raise')\n",
    "xmlData['sqm.upper_area'] = pd.to_numeric(xmlData['sqm.upper_area'], errors = 'raise')\n",
    "xmlData['sqm.basement_area'] = pd.to_numeric(xmlData['sqm.basement_area'], errors = 'raise')"
   ]
  },
  {
   "cell_type": "code",
   "execution_count": 52,
   "metadata": {
    "collapsed": false
   },
   "outputs": [],
   "source": [
    "# As per US standard, need to convert these areas to sqft.\n",
    "# Create new columns made up of converted values of the areas.\n",
    "xmlData['sqft.living_area'] = xmlData['sqm.living_area'] * 10.7639104167\n",
    "xmlData['sqft.lot_area'] = xmlData['sqm.lot_area'] * 10.7639104167\n",
    "xmlData['sqft.upper_area'] = xmlData['sqm.upper_area'] * 10.7639104167\n",
    "xmlData['sqft.basement_area'] = xmlData['sqm.basement_area'] * 10.7639104167\n",
    "\n",
    "# Fill NaNs with 0 for basement area (since it's the only column in the set with NaNs).\n",
    "xmlData['sqft.basement_area'].fillna(0, inplace=True)\n",
    "\n",
    "# Remove decimal points.\n",
    "xmlData['sqft.living_area'] = xmlData['sqft.living_area'].round().astype(int)\n",
    "xmlData['sqft.lot_area'] = xmlData['sqft.lot_area'].round().astype(int)\n",
    "xmlData['sqft.upper_area'] = xmlData['sqft.upper_area'].round().astype(int)\n",
    "xmlData['sqft.basement_area'] = xmlData['sqft.basement_area'].round().astype(int)\n",
    "\n",
    "# Drop old columns.\n",
    "xmlData.drop('sqm.living_area', axis = 1, inplace = True)\n",
    "xmlData.drop('sqm.lot_area', axis = 1, inplace = True)\n",
    "xmlData.drop('sqm.upper_area', axis = 1, inplace = True)\n",
    "xmlData.drop('sqm.basement_area', axis = 1, inplace = True)"
   ]
  },
  {
   "cell_type": "markdown",
   "metadata": {},
   "source": [
    "## 4.6 Parsing XML Waterfront  & View\n",
    "Convert these categorical variables into numbers using **Pandas' `replace()`** function, which just replaces the values using a specified mapping in a dictionary-like format. \n",
    "\n",
    "For waterfront replace blanks with 0 and 'Yes' with 1. For view, since other values are already numeric (1, 2, 3, and 4) just convert blank to 0.\n",
    "\n",
    "To ensure these columns are numeric, use **Pandas' `to_numeric()`** again."
   ]
  },
  {
   "cell_type": "code",
   "execution_count": 53,
   "metadata": {
    "collapsed": false
   },
   "outputs": [],
   "source": [
    "# Replace watefront with binary values 0 and 1.\n",
    "xmlData['waterfront'].replace({'':'0', 'Yes':'1'}, inplace = True)\n",
    "# Replace view with values 0, 1, 2, 3, and 4.\n",
    "xmlData['view'].replace({'':'0'}, inplace = True)\n",
    "\n",
    "# Ensure the columns are all in numeric.\n",
    "xmlData['waterfront'] = pd.to_numeric(xmlData['waterfront'], errors = 'raise')\n",
    "xmlData['view'] = pd.to_numeric(xmlData['view'], errors = 'raise')"
   ]
  },
  {
   "cell_type": "markdown",
   "metadata": {},
   "source": [
    "## 4.7 Parsing XML Sold_Date\n",
    "I just converted the sold_date column into the Python Datetime format using **Pandas' `to_datetime()`** to make sure all the dates are valid. This method converts the column into a datetime data type, while specifying `errors = 'raise'` to throw and raise any exceptions encountered during parsing."
   ]
  },
  {
   "cell_type": "code",
   "execution_count": 54,
   "metadata": {
    "collapsed": false
   },
   "outputs": [],
   "source": [
    "# Convert sold_date to datetime.\n",
    "xmlData['sold_date'] = pd.to_datetime(xmlData['sold_date'], format = \"%Y-%m-%d\", errors = 'raise')"
   ]
  },
  {
   "cell_type": "markdown",
   "metadata": {},
   "source": [
    "Since I will not be using the date column I have decided just to drop it."
   ]
  },
  {
   "cell_type": "code",
   "execution_count": 55,
   "metadata": {
    "collapsed": false
   },
   "outputs": [],
   "source": [
    "# Drop the date column.\n",
    "xmlData.drop('date', axis = 1, inplace = True)"
   ]
  },
  {
   "cell_type": "markdown",
   "metadata": {},
   "source": [
    "## 4.8 Parsing XML Build_Year & Renovate_Year\n",
    "For build_year and renovate_year, perform two tasks:\n",
    "- ensure both columns have valid dates by converting to datetime then converting it back to string  in 'yyyy' format \n",
    "- ensure rows with no renovate_year are `blank` in accordance with the global schema"
   ]
  },
  {
   "cell_type": "code",
   "execution_count": 56,
   "metadata": {
    "collapsed": false
   },
   "outputs": [],
   "source": [
    "# Convert the years to datetime.\n",
    "xmlData['build_year'] = pd.to_datetime(xmlData['build_year'], format = '%Y', errors = 'raise')\n",
    "\n",
    "# Replace 0 years with '' to ensure they will be NaT when converted to datetime.\n",
    "xmlData['renovate_year'].replace({'0':''}, inplace = True)\n",
    "\n",
    "# Convert renovate years to datetime and let the ''s be NaTs.\n",
    "xmlData['renovate_year'] = pd.to_datetime(xmlData['renovate_year'], format = '%Y', errors = 'coerce')\n",
    "\n",
    "# convert the yr_built into string %Y format\n",
    "xmlData['build_year'] = [d.strftime('%Y') if not pd.isnull(d) else '' for d in xmlData['build_year']]\n",
    "\n",
    "# convert the yr_renovated into string %Y, otherwise if there's no value set as empty\n",
    "xmlData['renovate_year'] = [d.strftime('%Y') if not pd.isnull(d) else '' for d in xmlData['renovate_year']]"
   ]
  },
  {
   "cell_type": "code",
   "execution_count": 57,
   "metadata": {
    "collapsed": false
   },
   "outputs": [
    {
     "data": {
      "text/plain": [
       "1968    13\n",
       "2004    12\n",
       "2006    12\n",
       "1996    11\n",
       "1959    10\n",
       "1962     9\n",
       "2005     9\n",
       "2007     9\n",
       "1992     9\n",
       "2008     9\n",
       "1969     9\n",
       "2014     9\n",
       "1966     8\n",
       "1978     7\n",
       "1944     7\n",
       "1963     7\n",
       "1998     7\n",
       "1952     7\n",
       "1977     6\n",
       "1926     6\n",
       "1983     6\n",
       "1986     6\n",
       "1990     6\n",
       "1989     6\n",
       "1967     6\n",
       "1975     6\n",
       "1956     5\n",
       "1960     5\n",
       "2013     5\n",
       "1950     5\n",
       "        ..\n",
       "1982     2\n",
       "1985     2\n",
       "1987     2\n",
       "1970     2\n",
       "1907     2\n",
       "1906     2\n",
       "1916     2\n",
       "1946     2\n",
       "1920     2\n",
       "1927     2\n",
       "1991     2\n",
       "1993     2\n",
       "1949     2\n",
       "1905     2\n",
       "1961     2\n",
       "2010     1\n",
       "1973     1\n",
       "1934     1\n",
       "1921     1\n",
       "1971     1\n",
       "1945     1\n",
       "1957     1\n",
       "1901     1\n",
       "1900     1\n",
       "1903     1\n",
       "1999     1\n",
       "1904     1\n",
       "1997     1\n",
       "1918     1\n",
       "1931     1\n",
       "Name: build_year, dtype: int64"
      ]
     },
     "execution_count": 57,
     "metadata": {},
     "output_type": "execute_result"
    }
   ],
   "source": [
    "xmlData['build_year'].value_counts()"
   ]
  },
  {
   "cell_type": "code",
   "execution_count": 58,
   "metadata": {
    "collapsed": false
   },
   "outputs": [
    {
     "data": {
      "text/plain": [
       "        404\n",
       "2014      3\n",
       "2004      2\n",
       "2007      2\n",
       "1991      2\n",
       "1987      2\n",
       "2002      2\n",
       "2011      2\n",
       "1997      1\n",
       "1986      1\n",
       "1993      1\n",
       "1994      1\n",
       "1983      1\n",
       "1996      1\n",
       "1965      1\n",
       "2000      1\n",
       "2006      1\n",
       "2009      1\n",
       "1978      1\n",
       "Name: renovate_year, dtype: int64"
      ]
     },
     "execution_count": 58,
     "metadata": {},
     "output_type": "execute_result"
    }
   ],
   "source": [
    "xmlData['renovate_year'].value_counts()"
   ]
  },
  {
   "cell_type": "markdown",
   "metadata": {},
   "source": [
    "## 4.9 Renaming and Reordering Columns\n",
    "To rename the columns use **Pandas' `rename()`** function which easily maps the old column name into the new column name.\n",
    "\n",
    "Then, generate a new data frame consisting of the re-ordered columns."
   ]
  },
  {
   "cell_type": "code",
   "execution_count": 59,
   "metadata": {
    "collapsed": false
   },
   "outputs": [],
   "source": [
    "# Rename the columns.\n",
    "xmlData.rename(columns = {\n",
    "            'sold_date': 'date',\n",
    "            'sqft.living_area': 'sqft_living', \n",
    "            'sqft.lot_area': 'sqft_lot', \n",
    "            'sqft.upper_area': 'sqft_above', \n",
    "            'sqft.basement_area': 'sqft_basement',\n",
    "            'build_year': 'yr_built',\n",
    "            'renovate_year': 'yr_renovated'}, inplace = True)\n",
    "\n",
    "# Reorder the Data Frame.\n",
    "xmlData = pd.DataFrame(xmlData[['date', 'price', 'bedrooms', 'bathrooms', 'sqft_living', 'sqft_lot', 'floors', 'waterfront', 'view', 'sqft_above', 'sqft_basement', 'yr_built', 'yr_renovated', 'street', 'city', 'statezip', 'country']])"
   ]
  },
  {
   "cell_type": "code",
   "execution_count": 60,
   "metadata": {
    "collapsed": false
   },
   "outputs": [
    {
     "data": {
      "text/html": [
       "<div>\n",
       "<table border=\"1\" class=\"dataframe\">\n",
       "  <thead>\n",
       "    <tr style=\"text-align: right;\">\n",
       "      <th></th>\n",
       "      <th>date</th>\n",
       "      <th>price</th>\n",
       "      <th>bedrooms</th>\n",
       "      <th>bathrooms</th>\n",
       "      <th>sqft_living</th>\n",
       "      <th>sqft_lot</th>\n",
       "      <th>floors</th>\n",
       "      <th>waterfront</th>\n",
       "      <th>view</th>\n",
       "      <th>sqft_above</th>\n",
       "      <th>sqft_basement</th>\n",
       "      <th>yr_built</th>\n",
       "      <th>yr_renovated</th>\n",
       "      <th>street</th>\n",
       "      <th>city</th>\n",
       "      <th>statezip</th>\n",
       "      <th>country</th>\n",
       "    </tr>\n",
       "  </thead>\n",
       "  <tbody>\n",
       "    <tr>\n",
       "      <th>0</th>\n",
       "      <td>2014-07-09</td>\n",
       "      <td>630000</td>\n",
       "      <td>3</td>\n",
       "      <td>1.75</td>\n",
       "      <td>1710</td>\n",
       "      <td>8767</td>\n",
       "      <td>1.0</td>\n",
       "      <td>0</td>\n",
       "      <td>0</td>\n",
       "      <td>1710</td>\n",
       "      <td>0</td>\n",
       "      <td>1986</td>\n",
       "      <td></td>\n",
       "      <td>10515 115th Pl NE</td>\n",
       "      <td>Kirkland</td>\n",
       "      <td>WA 98033</td>\n",
       "      <td>USA</td>\n",
       "    </tr>\n",
       "    <tr>\n",
       "      <th>1</th>\n",
       "      <td>2014-07-09</td>\n",
       "      <td>599950</td>\n",
       "      <td>3</td>\n",
       "      <td>3.25</td>\n",
       "      <td>1830</td>\n",
       "      <td>1804</td>\n",
       "      <td>3.0</td>\n",
       "      <td>0</td>\n",
       "      <td>0</td>\n",
       "      <td>1830</td>\n",
       "      <td>0</td>\n",
       "      <td>2014</td>\n",
       "      <td></td>\n",
       "      <td>1501 NW 90th St</td>\n",
       "      <td>Seattle</td>\n",
       "      <td>WA 98117</td>\n",
       "      <td>USA</td>\n",
       "    </tr>\n",
       "    <tr>\n",
       "      <th>2</th>\n",
       "      <td>2014-07-09</td>\n",
       "      <td>680000</td>\n",
       "      <td>3</td>\n",
       "      <td>2.00</td>\n",
       "      <td>1780</td>\n",
       "      <td>5720</td>\n",
       "      <td>1.0</td>\n",
       "      <td>0</td>\n",
       "      <td>0</td>\n",
       "      <td>980</td>\n",
       "      <td>800</td>\n",
       "      <td>1925</td>\n",
       "      <td></td>\n",
       "      <td>537 N 70th St</td>\n",
       "      <td>Seattle</td>\n",
       "      <td>WA 98103</td>\n",
       "      <td>USA</td>\n",
       "    </tr>\n",
       "    <tr>\n",
       "      <th>3</th>\n",
       "      <td>2014-07-09</td>\n",
       "      <td>335500</td>\n",
       "      <td>3</td>\n",
       "      <td>1.00</td>\n",
       "      <td>1370</td>\n",
       "      <td>6780</td>\n",
       "      <td>2.0</td>\n",
       "      <td>0</td>\n",
       "      <td>0</td>\n",
       "      <td>1370</td>\n",
       "      <td>0</td>\n",
       "      <td>1930</td>\n",
       "      <td></td>\n",
       "      <td>12008 35th Ave NE</td>\n",
       "      <td>Seattle</td>\n",
       "      <td>WA 98125</td>\n",
       "      <td>USA</td>\n",
       "    </tr>\n",
       "    <tr>\n",
       "      <th>4</th>\n",
       "      <td>2014-07-09</td>\n",
       "      <td>379000</td>\n",
       "      <td>3</td>\n",
       "      <td>2.50</td>\n",
       "      <td>1530</td>\n",
       "      <td>2913</td>\n",
       "      <td>2.0</td>\n",
       "      <td>0</td>\n",
       "      <td>0</td>\n",
       "      <td>1530</td>\n",
       "      <td>0</td>\n",
       "      <td>1986</td>\n",
       "      <td></td>\n",
       "      <td>11807 NE 105th Ct</td>\n",
       "      <td>Kirkland</td>\n",
       "      <td>WA 98033</td>\n",
       "      <td>USA</td>\n",
       "    </tr>\n",
       "  </tbody>\n",
       "</table>\n",
       "</div>"
      ],
      "text/plain": [
       "        date   price  bedrooms  bathrooms  sqft_living  sqft_lot  floors  \\\n",
       "0 2014-07-09  630000         3       1.75         1710      8767     1.0   \n",
       "1 2014-07-09  599950         3       3.25         1830      1804     3.0   \n",
       "2 2014-07-09  680000         3       2.00         1780      5720     1.0   \n",
       "3 2014-07-09  335500         3       1.00         1370      6780     2.0   \n",
       "4 2014-07-09  379000         3       2.50         1530      2913     2.0   \n",
       "\n",
       "   waterfront  view  sqft_above  sqft_basement yr_built yr_renovated  \\\n",
       "0           0     0        1710              0     1986                \n",
       "1           0     0        1830              0     2014                \n",
       "2           0     0         980            800     1925                \n",
       "3           0     0        1370              0     1930                \n",
       "4           0     0        1530              0     1986                \n",
       "\n",
       "              street      city  statezip country  \n",
       "0  10515 115th Pl NE  Kirkland  WA 98033     USA  \n",
       "1    1501 NW 90th St   Seattle  WA 98117     USA  \n",
       "2      537 N 70th St   Seattle  WA 98103     USA  \n",
       "3  12008 35th Ave NE   Seattle  WA 98125     USA  \n",
       "4  11807 NE 105th Ct  Kirkland  WA 98033     USA  "
      ]
     },
     "execution_count": 60,
     "metadata": {},
     "output_type": "execute_result"
    }
   ],
   "source": [
    "xmlData.head(5)"
   ]
  },
  {
   "cell_type": "code",
   "execution_count": 61,
   "metadata": {
    "collapsed": false
   },
   "outputs": [],
   "source": [
    "xmlData.to_csv('xmlFile3.csv', index = False)"
   ]
  },
  {
   "cell_type": "markdown",
   "metadata": {},
   "source": [
    "# 5. Parsing the CSV File\n",
    " \n",
    "Now that the XML Data has been converted to the global schema, time to do the same for the CSV data. The CSV data is almost identical to the global schema already but with some slight changes. Like the XML dataset, I will still use common **Pandas functions** to manipulate the data frame, with a lot of my changes having a parameter **`inplace = True`** so the changes will already apply to the data frame, eliminating the need to assign to it everytime a change is made.\n",
    "\n",
    "The changes that needs to be implemented in the CSV data frame are specified below."
   ]
  },
  {
   "cell_type": "markdown",
   "metadata": {},
   "source": [
    "## 5.1 Defining Tasks for Schema and Data Integration\n",
    "\n",
    "The tasks needed to transform the CSV dataset into the global schema are the following:\n",
    "\n",
    "1. Convert the **price** column into int64 amounts by removing the 'k' and 'm' suffixes.\n",
    "2. Parse the **date** column into the Python Datetime format for it to be more readable.\n",
    "3. Check if the **street** column has un-abbreviated terms and abbreviate them as needed.\n",
    "4. Ensure **yr_built** & **yr_renovated** are in `yyyy` format.\n",
    "\n",
    "\n",
    "## 5.2 Parsing CSV Price\n",
    "\n",
    "To convert the price into int64 amounts I created a function called `convert_price()` that checks for the suffix of the prices and multiplies the correct factor accordingly. \n",
    "\n",
    "If the suffix is 'k' (meaning **kilo**), then it should be multiplied by **1,000.**\n",
    "<br/>If the suffix is 'm' (meaning **mega** -- but in actuality it should be 'M' and not 'm', for an amount \\* * .000 000 1* does not make sense), then it should be multiplied by **1,000,000**.\n",
    "\n",
    "To ensure that the amounts have no decimal places, use the `round()` function that rounds the amount to the nearest whole number before converting them to `int`."
   ]
  },
  {
   "cell_type": "code",
   "execution_count": 62,
   "metadata": {
    "collapsed": false
   },
   "outputs": [],
   "source": [
    "# Create a method that converts the price\n",
    "def convert_price(price):\n",
    "    # Check the last character of the price.\n",
    "    # If the price ends in 'k', multiply it by 1,000.\n",
    "    if price[-1] == 'k':\n",
    "        amount = float(price[:-1]) * 1000\n",
    "    # If the price ends in 'm', multiply it by 1,000,000.\n",
    "    elif price[-1] == 'm':\n",
    "        amount = float(price[:-1]) * 1000000\n",
    "    else:\n",
    "        amount = float(price)\n",
    "    return int(round(amount))\n",
    "\n",
    "# Convert the prices into a numeric amount.\n",
    "converted_prices = [convert_price(price) for price in csvData['price']]\n",
    "csvData['price'] = converted_prices"
   ]
  },
  {
   "cell_type": "code",
   "execution_count": 63,
   "metadata": {
    "collapsed": false
   },
   "outputs": [
    {
     "data": {
      "text/html": [
       "<div>\n",
       "<table border=\"1\" class=\"dataframe\">\n",
       "  <thead>\n",
       "    <tr style=\"text-align: right;\">\n",
       "      <th></th>\n",
       "      <th>date</th>\n",
       "      <th>price</th>\n",
       "      <th>bedrooms</th>\n",
       "      <th>bathrooms</th>\n",
       "      <th>sqft_living</th>\n",
       "      <th>sqft_lot</th>\n",
       "      <th>floors</th>\n",
       "      <th>waterfront</th>\n",
       "      <th>view</th>\n",
       "      <th>condition</th>\n",
       "      <th>sqft_above</th>\n",
       "      <th>sqft_basement</th>\n",
       "      <th>yr_built</th>\n",
       "      <th>yr_renovated</th>\n",
       "      <th>street</th>\n",
       "      <th>city</th>\n",
       "      <th>statezip</th>\n",
       "      <th>country</th>\n",
       "    </tr>\n",
       "  </thead>\n",
       "  <tbody>\n",
       "    <tr>\n",
       "      <th>0</th>\n",
       "      <td>20140502T000000</td>\n",
       "      <td>313000</td>\n",
       "      <td>3</td>\n",
       "      <td>1.50</td>\n",
       "      <td>1340</td>\n",
       "      <td>7912</td>\n",
       "      <td>1.5</td>\n",
       "      <td>0</td>\n",
       "      <td>0</td>\n",
       "      <td>3</td>\n",
       "      <td>1340</td>\n",
       "      <td>0</td>\n",
       "      <td>1955</td>\n",
       "      <td>NaN</td>\n",
       "      <td>18810 Densmore Ave N</td>\n",
       "      <td>Shoreline</td>\n",
       "      <td>WA 98133</td>\n",
       "      <td>USA</td>\n",
       "    </tr>\n",
       "    <tr>\n",
       "      <th>1</th>\n",
       "      <td>20140502T000000</td>\n",
       "      <td>2384000</td>\n",
       "      <td>5</td>\n",
       "      <td>2.50</td>\n",
       "      <td>3650</td>\n",
       "      <td>9050</td>\n",
       "      <td>2.0</td>\n",
       "      <td>0</td>\n",
       "      <td>4</td>\n",
       "      <td>5</td>\n",
       "      <td>3370</td>\n",
       "      <td>280</td>\n",
       "      <td>1921</td>\n",
       "      <td>NaN</td>\n",
       "      <td>709 W Blaine St</td>\n",
       "      <td>Seattle</td>\n",
       "      <td>WA 98119</td>\n",
       "      <td>USA</td>\n",
       "    </tr>\n",
       "    <tr>\n",
       "      <th>2</th>\n",
       "      <td>20140502T000000</td>\n",
       "      <td>342000</td>\n",
       "      <td>3</td>\n",
       "      <td>2.00</td>\n",
       "      <td>1930</td>\n",
       "      <td>11947</td>\n",
       "      <td>1.0</td>\n",
       "      <td>0</td>\n",
       "      <td>0</td>\n",
       "      <td>4</td>\n",
       "      <td>1930</td>\n",
       "      <td>0</td>\n",
       "      <td>1966</td>\n",
       "      <td>NaN</td>\n",
       "      <td>26206-26214 143rd Ave SE</td>\n",
       "      <td>Kent</td>\n",
       "      <td>WA 98042</td>\n",
       "      <td>USA</td>\n",
       "    </tr>\n",
       "    <tr>\n",
       "      <th>3</th>\n",
       "      <td>20140502T000000</td>\n",
       "      <td>420000</td>\n",
       "      <td>3</td>\n",
       "      <td>2.25</td>\n",
       "      <td>2000</td>\n",
       "      <td>8030</td>\n",
       "      <td>1.0</td>\n",
       "      <td>0</td>\n",
       "      <td>0</td>\n",
       "      <td>4</td>\n",
       "      <td>1000</td>\n",
       "      <td>1000</td>\n",
       "      <td>1963</td>\n",
       "      <td>NaN</td>\n",
       "      <td>857 170th Pl NE</td>\n",
       "      <td>Bellevue</td>\n",
       "      <td>WA 98008</td>\n",
       "      <td>USA</td>\n",
       "    </tr>\n",
       "    <tr>\n",
       "      <th>4</th>\n",
       "      <td>20140502T000000</td>\n",
       "      <td>550000</td>\n",
       "      <td>4</td>\n",
       "      <td>2.50</td>\n",
       "      <td>1940</td>\n",
       "      <td>10500</td>\n",
       "      <td>1.0</td>\n",
       "      <td>0</td>\n",
       "      <td>0</td>\n",
       "      <td>4</td>\n",
       "      <td>1140</td>\n",
       "      <td>800</td>\n",
       "      <td>1976</td>\n",
       "      <td>NaN</td>\n",
       "      <td>9105 170th Ave NE</td>\n",
       "      <td>Redmond</td>\n",
       "      <td>WA 98052</td>\n",
       "      <td>USA</td>\n",
       "    </tr>\n",
       "  </tbody>\n",
       "</table>\n",
       "</div>"
      ],
      "text/plain": [
       "              date    price  bedrooms  bathrooms  sqft_living  sqft_lot  \\\n",
       "0  20140502T000000   313000         3       1.50         1340      7912   \n",
       "1  20140502T000000  2384000         5       2.50         3650      9050   \n",
       "2  20140502T000000   342000         3       2.00         1930     11947   \n",
       "3  20140502T000000   420000         3       2.25         2000      8030   \n",
       "4  20140502T000000   550000         4       2.50         1940     10500   \n",
       "\n",
       "   floors  waterfront  view  condition  sqft_above  sqft_basement  yr_built  \\\n",
       "0     1.5           0     0          3        1340              0      1955   \n",
       "1     2.0           0     4          5        3370            280      1921   \n",
       "2     1.0           0     0          4        1930              0      1966   \n",
       "3     1.0           0     0          4        1000           1000      1963   \n",
       "4     1.0           0     0          4        1140            800      1976   \n",
       "\n",
       "   yr_renovated                    street       city  statezip country  \n",
       "0           NaN      18810 Densmore Ave N  Shoreline  WA 98133     USA  \n",
       "1           NaN           709 W Blaine St    Seattle  WA 98119     USA  \n",
       "2           NaN  26206-26214 143rd Ave SE       Kent  WA 98042     USA  \n",
       "3           NaN           857 170th Pl NE   Bellevue  WA 98008     USA  \n",
       "4           NaN         9105 170th Ave NE    Redmond  WA 98052     USA  "
      ]
     },
     "execution_count": 63,
     "metadata": {},
     "output_type": "execute_result"
    }
   ],
   "source": [
    "csvData.head(5)"
   ]
  },
  {
   "cell_type": "markdown",
   "metadata": {},
   "source": [
    "## 5.3 Parsing CSV Date\n",
    "Use **Pandas' `to_datetime()`** function again to parse the CSV date column into Python datetime. The format of the date should be indicated as `%Y%m%dT%H%M%S`. "
   ]
  },
  {
   "cell_type": "code",
   "execution_count": 64,
   "metadata": {
    "collapsed": false
   },
   "outputs": [],
   "source": [
    "# Parse the date column as Python Date.\n",
    "csvData['date'] = pd.to_datetime(csvData['date'], format = \"%Y%m%dT%H%M%S\", errors = 'raise')"
   ]
  },
  {
   "cell_type": "code",
   "execution_count": 65,
   "metadata": {
    "collapsed": false
   },
   "outputs": [
    {
     "data": {
      "text/html": [
       "<div>\n",
       "<table border=\"1\" class=\"dataframe\">\n",
       "  <thead>\n",
       "    <tr style=\"text-align: right;\">\n",
       "      <th></th>\n",
       "      <th>date</th>\n",
       "      <th>price</th>\n",
       "      <th>bedrooms</th>\n",
       "      <th>bathrooms</th>\n",
       "      <th>sqft_living</th>\n",
       "      <th>sqft_lot</th>\n",
       "      <th>floors</th>\n",
       "      <th>waterfront</th>\n",
       "      <th>view</th>\n",
       "      <th>condition</th>\n",
       "      <th>sqft_above</th>\n",
       "      <th>sqft_basement</th>\n",
       "      <th>yr_built</th>\n",
       "      <th>yr_renovated</th>\n",
       "      <th>street</th>\n",
       "      <th>city</th>\n",
       "      <th>statezip</th>\n",
       "      <th>country</th>\n",
       "    </tr>\n",
       "  </thead>\n",
       "  <tbody>\n",
       "    <tr>\n",
       "      <th>0</th>\n",
       "      <td>2014-05-02</td>\n",
       "      <td>313000</td>\n",
       "      <td>3</td>\n",
       "      <td>1.50</td>\n",
       "      <td>1340</td>\n",
       "      <td>7912</td>\n",
       "      <td>1.5</td>\n",
       "      <td>0</td>\n",
       "      <td>0</td>\n",
       "      <td>3</td>\n",
       "      <td>1340</td>\n",
       "      <td>0</td>\n",
       "      <td>1955</td>\n",
       "      <td>NaN</td>\n",
       "      <td>18810 Densmore Ave N</td>\n",
       "      <td>Shoreline</td>\n",
       "      <td>WA 98133</td>\n",
       "      <td>USA</td>\n",
       "    </tr>\n",
       "    <tr>\n",
       "      <th>1</th>\n",
       "      <td>2014-05-02</td>\n",
       "      <td>2384000</td>\n",
       "      <td>5</td>\n",
       "      <td>2.50</td>\n",
       "      <td>3650</td>\n",
       "      <td>9050</td>\n",
       "      <td>2.0</td>\n",
       "      <td>0</td>\n",
       "      <td>4</td>\n",
       "      <td>5</td>\n",
       "      <td>3370</td>\n",
       "      <td>280</td>\n",
       "      <td>1921</td>\n",
       "      <td>NaN</td>\n",
       "      <td>709 W Blaine St</td>\n",
       "      <td>Seattle</td>\n",
       "      <td>WA 98119</td>\n",
       "      <td>USA</td>\n",
       "    </tr>\n",
       "    <tr>\n",
       "      <th>2</th>\n",
       "      <td>2014-05-02</td>\n",
       "      <td>342000</td>\n",
       "      <td>3</td>\n",
       "      <td>2.00</td>\n",
       "      <td>1930</td>\n",
       "      <td>11947</td>\n",
       "      <td>1.0</td>\n",
       "      <td>0</td>\n",
       "      <td>0</td>\n",
       "      <td>4</td>\n",
       "      <td>1930</td>\n",
       "      <td>0</td>\n",
       "      <td>1966</td>\n",
       "      <td>NaN</td>\n",
       "      <td>26206-26214 143rd Ave SE</td>\n",
       "      <td>Kent</td>\n",
       "      <td>WA 98042</td>\n",
       "      <td>USA</td>\n",
       "    </tr>\n",
       "    <tr>\n",
       "      <th>3</th>\n",
       "      <td>2014-05-02</td>\n",
       "      <td>420000</td>\n",
       "      <td>3</td>\n",
       "      <td>2.25</td>\n",
       "      <td>2000</td>\n",
       "      <td>8030</td>\n",
       "      <td>1.0</td>\n",
       "      <td>0</td>\n",
       "      <td>0</td>\n",
       "      <td>4</td>\n",
       "      <td>1000</td>\n",
       "      <td>1000</td>\n",
       "      <td>1963</td>\n",
       "      <td>NaN</td>\n",
       "      <td>857 170th Pl NE</td>\n",
       "      <td>Bellevue</td>\n",
       "      <td>WA 98008</td>\n",
       "      <td>USA</td>\n",
       "    </tr>\n",
       "    <tr>\n",
       "      <th>4</th>\n",
       "      <td>2014-05-02</td>\n",
       "      <td>550000</td>\n",
       "      <td>4</td>\n",
       "      <td>2.50</td>\n",
       "      <td>1940</td>\n",
       "      <td>10500</td>\n",
       "      <td>1.0</td>\n",
       "      <td>0</td>\n",
       "      <td>0</td>\n",
       "      <td>4</td>\n",
       "      <td>1140</td>\n",
       "      <td>800</td>\n",
       "      <td>1976</td>\n",
       "      <td>NaN</td>\n",
       "      <td>9105 170th Ave NE</td>\n",
       "      <td>Redmond</td>\n",
       "      <td>WA 98052</td>\n",
       "      <td>USA</td>\n",
       "    </tr>\n",
       "  </tbody>\n",
       "</table>\n",
       "</div>"
      ],
      "text/plain": [
       "        date    price  bedrooms  bathrooms  sqft_living  sqft_lot  floors  \\\n",
       "0 2014-05-02   313000         3       1.50         1340      7912     1.5   \n",
       "1 2014-05-02  2384000         5       2.50         3650      9050     2.0   \n",
       "2 2014-05-02   342000         3       2.00         1930     11947     1.0   \n",
       "3 2014-05-02   420000         3       2.25         2000      8030     1.0   \n",
       "4 2014-05-02   550000         4       2.50         1940     10500     1.0   \n",
       "\n",
       "   waterfront  view  condition  sqft_above  sqft_basement  yr_built  \\\n",
       "0           0     0          3        1340              0      1955   \n",
       "1           0     4          5        3370            280      1921   \n",
       "2           0     0          4        1930              0      1966   \n",
       "3           0     0          4        1000           1000      1963   \n",
       "4           0     0          4        1140            800      1976   \n",
       "\n",
       "   yr_renovated                    street       city  statezip country  \n",
       "0           NaN      18810 Densmore Ave N  Shoreline  WA 98133     USA  \n",
       "1           NaN           709 W Blaine St    Seattle  WA 98119     USA  \n",
       "2           NaN  26206-26214 143rd Ave SE       Kent  WA 98042     USA  \n",
       "3           NaN           857 170th Pl NE   Bellevue  WA 98008     USA  \n",
       "4           NaN         9105 170th Ave NE    Redmond  WA 98052     USA  "
      ]
     },
     "execution_count": 65,
     "metadata": {},
     "output_type": "execute_result"
    }
   ],
   "source": [
    "# Check the current state of the CSV data.\n",
    "csvData.head()"
   ]
  },
  {
   "cell_type": "markdown",
   "metadata": {},
   "source": [
    "## 5.4 Parsing CSV Street\n",
    "\n",
    "Most of the values in the CSV street column are as expected--abbreviated and only contains the street number and the street name. However, to make sure that this holds through all values, check the column for any terms that are **not** abbreviated. Use the `str.match()` function that detects any string that would match the regular expression passed as a parameter.\n",
    "\n",
    "The regular expression used is `.*<term>.*` which just checks if the term is in any substrings in the column.\n"
   ]
  },
  {
   "cell_type": "code",
   "execution_count": 66,
   "metadata": {
    "collapsed": false
   },
   "outputs": [
    {
     "data": {
      "text/plain": [
       "510      17050 14th Avenue Northeast\n",
       "981           2632 NW North Beach Dr\n",
       "1445      7550 14th Avenue Northeast\n",
       "1848    10629 161st Avenue Northeast\n",
       "2497      8044 14th Avenue Northeast\n",
       "3450     15812 14th Avenue Northeast\n",
       "Name: street, dtype: object"
      ]
     },
     "execution_count": 66,
     "metadata": {},
     "output_type": "execute_result"
    }
   ],
   "source": [
    "# Check if there are any 'North/Northeast/Northwest' terms in street.\n",
    "csvData[csvData['street'].str.match('.*North.*')]['street']"
   ]
  },
  {
   "cell_type": "markdown",
   "metadata": {},
   "source": [
    "Looks like I caught something. These terms should be abbreviated into NE, and the term **Avenue** should be abbreviated as Ave."
   ]
  },
  {
   "cell_type": "code",
   "execution_count": 67,
   "metadata": {
    "collapsed": false
   },
   "outputs": [
    {
     "data": {
      "text/plain": [
       "981    2632 NW North Beach Dr\n",
       "Name: street, dtype: object"
      ]
     },
     "execution_count": 67,
     "metadata": {},
     "output_type": "execute_result"
    }
   ],
   "source": [
    "# Abbreviate 'Northeast' to 'NE'.\n",
    "csvData['street'] = csvData['street'].str.replace(' Northeast', ' NE')\n",
    "csvData[csvData['street'].str.match('.*North.*')]['street']"
   ]
  },
  {
   "cell_type": "markdown",
   "metadata": {},
   "source": [
    "I will leave **North Beach Dr** as it is because it looks like a valid name of an actual place."
   ]
  },
  {
   "cell_type": "code",
   "execution_count": 68,
   "metadata": {
    "collapsed": false
   },
   "outputs": [
    {
     "data": {
      "text/plain": [
       "26                27736 23rd Avenue South\n",
       "583     22442-22446 Southeast 281st Court\n",
       "996         29801-29829 23rd Avenue South\n",
       "3829               11819 1st Avenue South\n",
       "4172               17820 1st Avenue South\n",
       "Name: street, dtype: object"
      ]
     },
     "execution_count": 68,
     "metadata": {},
     "output_type": "execute_result"
    }
   ],
   "source": [
    "# Check if there are any 'South/Southeast/Southwest' terms in street.\n",
    "csvData[csvData['street'].str.match('.*South.*')]['street']"
   ]
  },
  {
   "cell_type": "code",
   "execution_count": 69,
   "metadata": {
    "collapsed": true
   },
   "outputs": [],
   "source": [
    "# Abbreviate 'Southeast' and 'South' to 'SE' and 'S' respectively.\n",
    "csvData['street'] = csvData['street'].str.replace(' Southeast', ' SE')\n",
    "csvData['street'] = csvData['street'].str.replace(' South', ' S')"
   ]
  },
  {
   "cell_type": "code",
   "execution_count": 70,
   "metadata": {
    "collapsed": false
   },
   "outputs": [
    {
     "data": {
      "text/plain": [
       "389      645 West Lake Sammamish Pkwy NE\n",
       "1906               16633 Westside Hwy SW\n",
       "2085                 2550 Westmont Way W\n",
       "2168    2244 West Lake Sammamish Pkwy NE\n",
       "3361    2860 West Lake Sammamish Pkwy NE\n",
       "4389                  2425 Westview Dr W\n",
       "Name: street, dtype: object"
      ]
     },
     "execution_count": 70,
     "metadata": {},
     "output_type": "execute_result"
    }
   ],
   "source": [
    "csvData[csvData['street'].str.match('.*West.*')]['street']"
   ]
  },
  {
   "cell_type": "code",
   "execution_count": 71,
   "metadata": {
    "collapsed": false
   },
   "outputs": [
    {
     "data": {
      "text/plain": [
       "376            5933 S Eastwood Dr\n",
       "434     East Lake Sammamish Trail\n",
       "2146          2027 Eastlake Ave E\n",
       "3106    Eastridge Drive Promenade\n",
       "Name: street, dtype: object"
      ]
     },
     "execution_count": 71,
     "metadata": {},
     "output_type": "execute_result"
    }
   ],
   "source": [
    "# Check if there are any 'East' terms in street.\n",
    "csvData[csvData['street'].str.match('.*East.*')]['street']"
   ]
  },
  {
   "cell_type": "markdown",
   "metadata": {},
   "source": [
    "Since **Eastwood, East Lake Sammamish, Eastlake, and Eastridge** looks like proper place names I will just leave it as it is."
   ]
  },
  {
   "cell_type": "code",
   "execution_count": 72,
   "metadata": {
    "collapsed": false
   },
   "outputs": [
    {
     "data": {
      "text/plain": [
       "26            27736 23rd Avenue S\n",
       "510          17050 14th Avenue NE\n",
       "996     29801-29829 23rd Avenue S\n",
       "1445          7550 14th Avenue NE\n",
       "1848        10629 161st Avenue NE\n",
       "2497          8044 14th Avenue NE\n",
       "3450         15812 14th Avenue NE\n",
       "3829           11819 1st Avenue S\n",
       "4172           17820 1st Avenue S\n",
       "Name: street, dtype: object"
      ]
     },
     "execution_count": 72,
     "metadata": {},
     "output_type": "execute_result"
    }
   ],
   "source": [
    "# Check if there are any 'Avenue' terms in street.\n",
    "csvData[csvData['street'].str.match('.*Avenue.*')]['street']"
   ]
  },
  {
   "cell_type": "code",
   "execution_count": 73,
   "metadata": {
    "collapsed": false
   },
   "outputs": [
    {
     "data": {
      "text/plain": [
       "3106    Eastridge Drive Promenade\n",
       "Name: street, dtype: object"
      ]
     },
     "execution_count": 73,
     "metadata": {},
     "output_type": "execute_result"
    }
   ],
   "source": [
    "# Check if there are any 'Drive' terms in street.\n",
    "csvData[csvData['street'].str.match('.*Drive.*')]['street']"
   ]
  },
  {
   "cell_type": "code",
   "execution_count": 74,
   "metadata": {
    "collapsed": false
   },
   "outputs": [
    {
     "data": {
      "text/plain": [
       "583    22442-22446 SE 281st Court\n",
       "Name: street, dtype: object"
      ]
     },
     "execution_count": 74,
     "metadata": {},
     "output_type": "execute_result"
    }
   ],
   "source": [
    "# Check if there are any 'Court' terms in street.\n",
    "csvData[csvData['street'].str.match('.*Court.*')]['street']"
   ]
  },
  {
   "cell_type": "code",
   "execution_count": 75,
   "metadata": {
    "collapsed": true
   },
   "outputs": [],
   "source": [
    "# Abbreviate these terms.\n",
    "csvData['street'] = csvData['street'].str.replace(' Avenue', ' Ave')\n",
    "csvData['street'] = csvData['street'].str.replace(' Court', ' Ct')\n",
    "csvData['street'] = csvData['street'].str.replace(' Drive', ' Dr')"
   ]
  },
  {
   "cell_type": "markdown",
   "metadata": {},
   "source": [
    "## 5.5 Parsing CSV City\n",
    "Verify if all cities are in title case and valid."
   ]
  },
  {
   "cell_type": "code",
   "execution_count": 76,
   "metadata": {
    "collapsed": false
   },
   "outputs": [
    {
     "data": {
      "text/html": [
       "<div>\n",
       "<table border=\"1\" class=\"dataframe\">\n",
       "  <thead>\n",
       "    <tr style=\"text-align: right;\">\n",
       "      <th></th>\n",
       "      <th>cities</th>\n",
       "      <th>count</th>\n",
       "    </tr>\n",
       "  </thead>\n",
       "  <tbody>\n",
       "    <tr>\n",
       "      <th>37</th>\n",
       "      <td>Yarrow Point</td>\n",
       "      <td>4</td>\n",
       "    </tr>\n",
       "    <tr>\n",
       "      <th>38</th>\n",
       "      <td>Skykomish</td>\n",
       "      <td>3</td>\n",
       "    </tr>\n",
       "    <tr>\n",
       "      <th>39</th>\n",
       "      <td>Milton</td>\n",
       "      <td>2</td>\n",
       "    </tr>\n",
       "    <tr>\n",
       "      <th>40</th>\n",
       "      <td>Preston</td>\n",
       "      <td>2</td>\n",
       "    </tr>\n",
       "    <tr>\n",
       "      <th>41</th>\n",
       "      <td>Beaux Arts Village</td>\n",
       "      <td>1</td>\n",
       "    </tr>\n",
       "    <tr>\n",
       "      <th>42</th>\n",
       "      <td>Inglewood-Finn Hill</td>\n",
       "      <td>1</td>\n",
       "    </tr>\n",
       "    <tr>\n",
       "      <th>43</th>\n",
       "      <td>Snoqualmie Pass</td>\n",
       "      <td>1</td>\n",
       "    </tr>\n",
       "  </tbody>\n",
       "</table>\n",
       "</div>"
      ],
      "text/plain": [
       "                 cities  count\n",
       "37         Yarrow Point      4\n",
       "38            Skykomish      3\n",
       "39               Milton      2\n",
       "40              Preston      2\n",
       "41   Beaux Arts Village      1\n",
       "42  Inglewood-Finn Hill      1\n",
       "43      Snoqualmie Pass      1"
      ]
     },
     "execution_count": 76,
     "metadata": {},
     "output_type": "execute_result"
    }
   ],
   "source": [
    "# Check if all cities are valid.\n",
    "cities = csvData['city'].value_counts().reset_index()\n",
    "cities.columns = ['cities', 'count']\n",
    "\n",
    "# Select all cities that have less than five instances in the Data Frame.\n",
    "cities[cities['count'] < 5]"
   ]
  },
  {
   "cell_type": "markdown",
   "metadata": {},
   "source": [
    "All these values look valid.\n",
    "\n",
    "## 5.6 Parsing CSV Statezip\n",
    "Verify if statezip values are valid and in the correct format."
   ]
  },
  {
   "cell_type": "code",
   "execution_count": 77,
   "metadata": {
    "collapsed": false
   },
   "outputs": [
    {
     "data": {
      "text/html": [
       "<div>\n",
       "<table border=\"1\" class=\"dataframe\">\n",
       "  <thead>\n",
       "    <tr style=\"text-align: right;\">\n",
       "      <th></th>\n",
       "      <th>statezip</th>\n",
       "      <th>count</th>\n",
       "    </tr>\n",
       "  </thead>\n",
       "  <tbody>\n",
       "    <tr>\n",
       "      <th>73</th>\n",
       "      <td>WA 98288</td>\n",
       "      <td>3</td>\n",
       "    </tr>\n",
       "    <tr>\n",
       "      <th>74</th>\n",
       "      <td>WA 98354</td>\n",
       "      <td>2</td>\n",
       "    </tr>\n",
       "    <tr>\n",
       "      <th>75</th>\n",
       "      <td>WA 98050</td>\n",
       "      <td>2</td>\n",
       "    </tr>\n",
       "    <tr>\n",
       "      <th>76</th>\n",
       "      <td>WA 98068</td>\n",
       "      <td>1</td>\n",
       "    </tr>\n",
       "  </tbody>\n",
       "</table>\n",
       "</div>"
      ],
      "text/plain": [
       "    statezip  count\n",
       "73  WA 98288      3\n",
       "74  WA 98354      2\n",
       "75  WA 98050      2\n",
       "76  WA 98068      1"
      ]
     },
     "execution_count": 77,
     "metadata": {},
     "output_type": "execute_result"
    }
   ],
   "source": [
    "# Check if all statezips are valid.\n",
    "statezips = csvData['statezip'].value_counts().reset_index()\n",
    "statezips.columns = ['statezip', 'count']\n",
    "\n",
    "# Select all statezips that have less than five instances in the Data Frame.\n",
    "statezips[statezips['count'] < 5]"
   ]
  },
  {
   "cell_type": "markdown",
   "metadata": {},
   "source": [
    "## 5.7 Parsing CSV Country\n",
    "\n",
    "Check the Country column--are they all USA?"
   ]
  },
  {
   "cell_type": "code",
   "execution_count": 78,
   "metadata": {
    "collapsed": false
   },
   "outputs": [
    {
     "data": {
      "text/plain": [
       "USA    4600\n",
       "Name: country, dtype: int64"
      ]
     },
     "execution_count": 78,
     "metadata": {},
     "output_type": "execute_result"
    }
   ],
   "source": [
    "csvData['country'].value_counts()"
   ]
  },
  {
   "cell_type": "markdown",
   "metadata": {},
   "source": [
    "## 5.8 Remove CSV Condition column\n",
    "As specified in the global schema I would be dropping the Condition column as the other data source does not have this."
   ]
  },
  {
   "cell_type": "code",
   "execution_count": 79,
   "metadata": {
    "collapsed": true
   },
   "outputs": [],
   "source": [
    "# Remove columns that are not needed - condition.\n",
    "csvData.drop('condition', axis = 1, inplace = True)"
   ]
  },
  {
   "cell_type": "markdown",
   "metadata": {},
   "source": [
    "## 5.9 Parsing CSV Yr_Built & Yr_Renovated\n",
    "Ensure that the Yr_Built and Yr_Renovated columns are in `yyyy` format. To do this I followed what I have done with the XML Data's Build_Year and Renovate_Year columns. Convert `to_datetime()` first then convert to string in `yyyy` using `strftime()`."
   ]
  },
  {
   "cell_type": "code",
   "execution_count": 80,
   "metadata": {
    "collapsed": false
   },
   "outputs": [],
   "source": [
    "# Convert the years to datetime.\n",
    "csvData['yr_built'] = pd.to_datetime(csvData['yr_built'], format = '%Y', errors = 'raise')\n",
    "\n",
    "# Convert renovate years to datetime and let the 0s be NaTs.\n",
    "csvData['yr_renovated'] = pd.to_datetime(csvData['yr_renovated'], format = '%Y.0', errors = 'coerce')\n",
    "\n",
    "# convert the yr_built into string %Y format\n",
    "csvData['yr_built'] = [d.strftime('%Y') if not pd.isnull(d) else '' for d in csvData['yr_built']]\n",
    "\n",
    "# convert the yr_renovated into string %Y, otherwise if there's no value set as empty\n",
    "csvData['yr_renovated'] = [d.strftime('%Y') if not pd.isnull(d) else '' for d in csvData['yr_renovated']]"
   ]
  },
  {
   "cell_type": "code",
   "execution_count": 81,
   "metadata": {
    "collapsed": false
   },
   "outputs": [
    {
     "data": {
      "text/plain": [
       "2006    111\n",
       "2005    104\n",
       "2007     93\n",
       "2004     92\n",
       "1978     90\n",
       "2008     89\n",
       "2003     89\n",
       "1967     82\n",
       "1977     80\n",
       "2014     78\n",
       "1968     77\n",
       "1987     74\n",
       "1989     72\n",
       "1990     71\n",
       "1959     69\n",
       "2001     68\n",
       "1962     66\n",
       "1954     63\n",
       "1979     60\n",
       "1947     59\n",
       "1948     58\n",
       "1983     57\n",
       "1976     57\n",
       "2013     56\n",
       "1926     55\n",
       "1960     55\n",
       "1988     55\n",
       "1998     55\n",
       "1942     54\n",
       "1991     53\n",
       "       ... \n",
       "1909     22\n",
       "1939     21\n",
       "1921     20\n",
       "1937     20\n",
       "1908     19\n",
       "1905     19\n",
       "1930     19\n",
       "1922     18\n",
       "1920     18\n",
       "1923     18\n",
       "1971     16\n",
       "1929     16\n",
       "1931     16\n",
       "1911     16\n",
       "1916     16\n",
       "1907     12\n",
       "1917     11\n",
       "1938     11\n",
       "1914     10\n",
       "1902     10\n",
       "1903     10\n",
       "1901      9\n",
       "1913      9\n",
       "1932      9\n",
       "1904      9\n",
       "1915      6\n",
       "1935      6\n",
       "1933      5\n",
       "1934      4\n",
       "1936      3\n",
       "Name: yr_built, dtype: int64"
      ]
     },
     "execution_count": 81,
     "metadata": {},
     "output_type": "execute_result"
    }
   ],
   "source": [
    "csvData['yr_built'].value_counts()"
   ]
  },
  {
   "cell_type": "code",
   "execution_count": 82,
   "metadata": {
    "collapsed": false
   },
   "outputs": [
    {
     "data": {
      "text/plain": [
       "        4376\n",
       "2013      23\n",
       "2014      22\n",
       "2003      12\n",
       "2005      10\n",
       "2000      10\n",
       "1988       7\n",
       "2002       7\n",
       "2009       7\n",
       "2007       7\n",
       "2001       6\n",
       "1998       6\n",
       "2010       6\n",
       "1990       6\n",
       "1983       5\n",
       "2006       5\n",
       "1992       5\n",
       "1994       4\n",
       "1986       4\n",
       "1984       4\n",
       "1985       4\n",
       "1982       4\n",
       "1993       4\n",
       "2011       4\n",
       "1997       3\n",
       "1999       3\n",
       "2004       3\n",
       "1989       3\n",
       "1979       2\n",
       "1955       2\n",
       "1958       2\n",
       "2012       2\n",
       "1969       2\n",
       "1968       2\n",
       "1945       2\n",
       "1980       2\n",
       "1996       2\n",
       "1970       2\n",
       "2008       2\n",
       "1995       2\n",
       "1956       2\n",
       "1971       1\n",
       "1972       1\n",
       "1948       1\n",
       "1954       1\n",
       "1978       1\n",
       "1953       1\n",
       "1934       1\n",
       "1987       1\n",
       "1981       1\n",
       "1991       1\n",
       "1975       1\n",
       "1977       1\n",
       "1960       1\n",
       "1974       1\n",
       "Name: yr_renovated, dtype: int64"
      ]
     },
     "execution_count": 82,
     "metadata": {},
     "output_type": "execute_result"
    }
   ],
   "source": [
    "csvData['yr_renovated'].value_counts()"
   ]
  },
  {
   "cell_type": "code",
   "execution_count": 83,
   "metadata": {
    "collapsed": false
   },
   "outputs": [
    {
     "data": {
      "text/html": [
       "<div>\n",
       "<table border=\"1\" class=\"dataframe\">\n",
       "  <thead>\n",
       "    <tr style=\"text-align: right;\">\n",
       "      <th></th>\n",
       "      <th>date</th>\n",
       "      <th>price</th>\n",
       "      <th>bedrooms</th>\n",
       "      <th>bathrooms</th>\n",
       "      <th>sqft_living</th>\n",
       "      <th>sqft_lot</th>\n",
       "      <th>floors</th>\n",
       "      <th>waterfront</th>\n",
       "      <th>view</th>\n",
       "      <th>sqft_above</th>\n",
       "      <th>sqft_basement</th>\n",
       "      <th>yr_built</th>\n",
       "      <th>yr_renovated</th>\n",
       "      <th>street</th>\n",
       "      <th>city</th>\n",
       "      <th>statezip</th>\n",
       "      <th>country</th>\n",
       "    </tr>\n",
       "  </thead>\n",
       "  <tbody>\n",
       "    <tr>\n",
       "      <th>0</th>\n",
       "      <td>2014-05-02</td>\n",
       "      <td>313000</td>\n",
       "      <td>3</td>\n",
       "      <td>1.50</td>\n",
       "      <td>1340</td>\n",
       "      <td>7912</td>\n",
       "      <td>1.5</td>\n",
       "      <td>0</td>\n",
       "      <td>0</td>\n",
       "      <td>1340</td>\n",
       "      <td>0</td>\n",
       "      <td>1955</td>\n",
       "      <td></td>\n",
       "      <td>18810 Densmore Ave N</td>\n",
       "      <td>Shoreline</td>\n",
       "      <td>WA 98133</td>\n",
       "      <td>USA</td>\n",
       "    </tr>\n",
       "    <tr>\n",
       "      <th>1</th>\n",
       "      <td>2014-05-02</td>\n",
       "      <td>2384000</td>\n",
       "      <td>5</td>\n",
       "      <td>2.50</td>\n",
       "      <td>3650</td>\n",
       "      <td>9050</td>\n",
       "      <td>2.0</td>\n",
       "      <td>0</td>\n",
       "      <td>4</td>\n",
       "      <td>3370</td>\n",
       "      <td>280</td>\n",
       "      <td>1921</td>\n",
       "      <td></td>\n",
       "      <td>709 W Blaine St</td>\n",
       "      <td>Seattle</td>\n",
       "      <td>WA 98119</td>\n",
       "      <td>USA</td>\n",
       "    </tr>\n",
       "    <tr>\n",
       "      <th>2</th>\n",
       "      <td>2014-05-02</td>\n",
       "      <td>342000</td>\n",
       "      <td>3</td>\n",
       "      <td>2.00</td>\n",
       "      <td>1930</td>\n",
       "      <td>11947</td>\n",
       "      <td>1.0</td>\n",
       "      <td>0</td>\n",
       "      <td>0</td>\n",
       "      <td>1930</td>\n",
       "      <td>0</td>\n",
       "      <td>1966</td>\n",
       "      <td></td>\n",
       "      <td>26206-26214 143rd Ave SE</td>\n",
       "      <td>Kent</td>\n",
       "      <td>WA 98042</td>\n",
       "      <td>USA</td>\n",
       "    </tr>\n",
       "    <tr>\n",
       "      <th>3</th>\n",
       "      <td>2014-05-02</td>\n",
       "      <td>420000</td>\n",
       "      <td>3</td>\n",
       "      <td>2.25</td>\n",
       "      <td>2000</td>\n",
       "      <td>8030</td>\n",
       "      <td>1.0</td>\n",
       "      <td>0</td>\n",
       "      <td>0</td>\n",
       "      <td>1000</td>\n",
       "      <td>1000</td>\n",
       "      <td>1963</td>\n",
       "      <td></td>\n",
       "      <td>857 170th Pl NE</td>\n",
       "      <td>Bellevue</td>\n",
       "      <td>WA 98008</td>\n",
       "      <td>USA</td>\n",
       "    </tr>\n",
       "    <tr>\n",
       "      <th>4</th>\n",
       "      <td>2014-05-02</td>\n",
       "      <td>550000</td>\n",
       "      <td>4</td>\n",
       "      <td>2.50</td>\n",
       "      <td>1940</td>\n",
       "      <td>10500</td>\n",
       "      <td>1.0</td>\n",
       "      <td>0</td>\n",
       "      <td>0</td>\n",
       "      <td>1140</td>\n",
       "      <td>800</td>\n",
       "      <td>1976</td>\n",
       "      <td></td>\n",
       "      <td>9105 170th Ave NE</td>\n",
       "      <td>Redmond</td>\n",
       "      <td>WA 98052</td>\n",
       "      <td>USA</td>\n",
       "    </tr>\n",
       "  </tbody>\n",
       "</table>\n",
       "</div>"
      ],
      "text/plain": [
       "        date    price  bedrooms  bathrooms  sqft_living  sqft_lot  floors  \\\n",
       "0 2014-05-02   313000         3       1.50         1340      7912     1.5   \n",
       "1 2014-05-02  2384000         5       2.50         3650      9050     2.0   \n",
       "2 2014-05-02   342000         3       2.00         1930     11947     1.0   \n",
       "3 2014-05-02   420000         3       2.25         2000      8030     1.0   \n",
       "4 2014-05-02   550000         4       2.50         1940     10500     1.0   \n",
       "\n",
       "   waterfront  view  sqft_above  sqft_basement yr_built yr_renovated  \\\n",
       "0           0     0        1340              0     1955                \n",
       "1           0     4        3370            280     1921                \n",
       "2           0     0        1930              0     1966                \n",
       "3           0     0        1000           1000     1963                \n",
       "4           0     0        1140            800     1976                \n",
       "\n",
       "                     street       city  statezip country  \n",
       "0      18810 Densmore Ave N  Shoreline  WA 98133     USA  \n",
       "1           709 W Blaine St    Seattle  WA 98119     USA  \n",
       "2  26206-26214 143rd Ave SE       Kent  WA 98042     USA  \n",
       "3           857 170th Pl NE   Bellevue  WA 98008     USA  \n",
       "4         9105 170th Ave NE    Redmond  WA 98052     USA  "
      ]
     },
     "execution_count": 83,
     "metadata": {},
     "output_type": "execute_result"
    }
   ],
   "source": [
    "csvData.head(5)"
   ]
  },
  {
   "cell_type": "markdown",
   "metadata": {},
   "source": [
    "# 6.  Forming the Integrated Data Frame\n",
    "Now that the two data frames have the same columns with matching data types, merge them into a single data frame.\n",
    "\n",
    "Since both data frames have the same column names, using **Pandas' `merge()`** function (Pandas Developers, 2012) will make integration straightforward. This function will take the two data frames and perform an SQL-like join with the join type specified in the `how` parameter and the pivot columns specified on the `on` parameter. I did an **outer join** because I want to have the **union** of the two datasets, while I specified all the columns in the `on` parameter as the two datasets already have the same column names.\n",
    "\n",
    "The merge function also has an `indicator` parameter. This checks for the existence of a row in both datasets: **both** can be seen in the **True** column if it can be found in both datasets while **left_only** and **right_only** if it is found in the left Data Frame or right Data Frame respectively. \n",
    "\n",
    "I don't have to worry about duplicates since they are already eliminated if an outer join is performed."
   ]
  },
  {
   "cell_type": "code",
   "execution_count": 84,
   "metadata": {
    "collapsed": false
   },
   "outputs": [
    {
     "name": "stdout",
     "output_type": "stream",
     "text": [
      "date             datetime64[ns]\n",
      "price                     int64\n",
      "bedrooms                  int64\n",
      "bathrooms               float64\n",
      "sqft_living               int32\n",
      "sqft_lot                  int32\n",
      "floors                  float64\n",
      "waterfront                int64\n",
      "view                      int64\n",
      "sqft_above                int32\n",
      "sqft_basement             int32\n",
      "yr_built                 object\n",
      "yr_renovated             object\n",
      "street                   object\n",
      "city                     object\n",
      "statezip                 object\n",
      "country                  object\n",
      "dtype: object\n",
      "\n",
      "date             datetime64[ns]\n",
      "price                     int64\n",
      "bedrooms                  int64\n",
      "bathrooms               float64\n",
      "sqft_living               int64\n",
      "sqft_lot                  int64\n",
      "floors                  float64\n",
      "waterfront                int64\n",
      "view                      int64\n",
      "sqft_above                int64\n",
      "sqft_basement             int64\n",
      "yr_built                 object\n",
      "yr_renovated             object\n",
      "street                   object\n",
      "city                     object\n",
      "statezip                 object\n",
      "country                  object\n",
      "dtype: object\n"
     ]
    }
   ],
   "source": [
    "# Check the data types. Are the two DataFrame's data types compatible?\n",
    "print xmlData.dtypes\n",
    "print ''\n",
    "print csvData.dtypes"
   ]
  },
  {
   "cell_type": "markdown",
   "metadata": {},
   "source": [
    "Since they are compatible, perform the merge."
   ]
  },
  {
   "cell_type": "code",
   "execution_count": 85,
   "metadata": {
    "collapsed": false
   },
   "outputs": [],
   "source": [
    "# Merge the Data Frames on the common columns.\n",
    "integratedData = pd.merge(xmlData, csvData, how = 'outer', indicator = 'True', on = [u'date', u'price', u'bedrooms', u'bathrooms', u'floors', u'waterfront',\n",
    "       u'view', u'yr_built', u'yr_renovated', u'sqft_above', u'sqft_basement',\n",
    "       u'sqft_living', u'sqft_lot', u'street', u'city', u'statezip',\n",
    "       u'country'])"
   ]
  },
  {
   "cell_type": "code",
   "execution_count": 86,
   "metadata": {
    "collapsed": false
   },
   "outputs": [
    {
     "data": {
      "text/html": [
       "<div>\n",
       "<table border=\"1\" class=\"dataframe\">\n",
       "  <thead>\n",
       "    <tr style=\"text-align: right;\">\n",
       "      <th></th>\n",
       "      <th>date</th>\n",
       "      <th>price</th>\n",
       "      <th>bedrooms</th>\n",
       "      <th>bathrooms</th>\n",
       "      <th>sqft_living</th>\n",
       "      <th>sqft_lot</th>\n",
       "      <th>floors</th>\n",
       "      <th>waterfront</th>\n",
       "      <th>view</th>\n",
       "      <th>sqft_above</th>\n",
       "      <th>sqft_basement</th>\n",
       "      <th>yr_built</th>\n",
       "      <th>yr_renovated</th>\n",
       "      <th>street</th>\n",
       "      <th>city</th>\n",
       "      <th>statezip</th>\n",
       "      <th>country</th>\n",
       "      <th>True</th>\n",
       "    </tr>\n",
       "  </thead>\n",
       "  <tbody>\n",
       "    <tr>\n",
       "      <th>0</th>\n",
       "      <td>2014-07-09</td>\n",
       "      <td>630000</td>\n",
       "      <td>3</td>\n",
       "      <td>1.75</td>\n",
       "      <td>1710</td>\n",
       "      <td>8767</td>\n",
       "      <td>1.0</td>\n",
       "      <td>0</td>\n",
       "      <td>0</td>\n",
       "      <td>1710</td>\n",
       "      <td>0</td>\n",
       "      <td>1986</td>\n",
       "      <td></td>\n",
       "      <td>10515 115th Pl NE</td>\n",
       "      <td>Kirkland</td>\n",
       "      <td>WA 98033</td>\n",
       "      <td>USA</td>\n",
       "      <td>both</td>\n",
       "    </tr>\n",
       "    <tr>\n",
       "      <th>1</th>\n",
       "      <td>2014-07-09</td>\n",
       "      <td>599950</td>\n",
       "      <td>3</td>\n",
       "      <td>3.25</td>\n",
       "      <td>1830</td>\n",
       "      <td>1804</td>\n",
       "      <td>3.0</td>\n",
       "      <td>0</td>\n",
       "      <td>0</td>\n",
       "      <td>1830</td>\n",
       "      <td>0</td>\n",
       "      <td>2014</td>\n",
       "      <td></td>\n",
       "      <td>1501 NW 90th St</td>\n",
       "      <td>Seattle</td>\n",
       "      <td>WA 98117</td>\n",
       "      <td>USA</td>\n",
       "      <td>both</td>\n",
       "    </tr>\n",
       "    <tr>\n",
       "      <th>2</th>\n",
       "      <td>2014-07-09</td>\n",
       "      <td>680000</td>\n",
       "      <td>3</td>\n",
       "      <td>2.00</td>\n",
       "      <td>1780</td>\n",
       "      <td>5720</td>\n",
       "      <td>1.0</td>\n",
       "      <td>0</td>\n",
       "      <td>0</td>\n",
       "      <td>980</td>\n",
       "      <td>800</td>\n",
       "      <td>1925</td>\n",
       "      <td></td>\n",
       "      <td>537 N 70th St</td>\n",
       "      <td>Seattle</td>\n",
       "      <td>WA 98103</td>\n",
       "      <td>USA</td>\n",
       "      <td>both</td>\n",
       "    </tr>\n",
       "    <tr>\n",
       "      <th>3</th>\n",
       "      <td>2014-07-09</td>\n",
       "      <td>335500</td>\n",
       "      <td>3</td>\n",
       "      <td>1.00</td>\n",
       "      <td>1370</td>\n",
       "      <td>6780</td>\n",
       "      <td>2.0</td>\n",
       "      <td>0</td>\n",
       "      <td>0</td>\n",
       "      <td>1370</td>\n",
       "      <td>0</td>\n",
       "      <td>1930</td>\n",
       "      <td></td>\n",
       "      <td>12008 35th Ave NE</td>\n",
       "      <td>Seattle</td>\n",
       "      <td>WA 98125</td>\n",
       "      <td>USA</td>\n",
       "      <td>both</td>\n",
       "    </tr>\n",
       "    <tr>\n",
       "      <th>4</th>\n",
       "      <td>2014-07-09</td>\n",
       "      <td>379000</td>\n",
       "      <td>3</td>\n",
       "      <td>2.50</td>\n",
       "      <td>1530</td>\n",
       "      <td>2913</td>\n",
       "      <td>2.0</td>\n",
       "      <td>0</td>\n",
       "      <td>0</td>\n",
       "      <td>1530</td>\n",
       "      <td>0</td>\n",
       "      <td>1986</td>\n",
       "      <td></td>\n",
       "      <td>11807 NE 105th Ct</td>\n",
       "      <td>Kirkland</td>\n",
       "      <td>WA 98033</td>\n",
       "      <td>USA</td>\n",
       "      <td>both</td>\n",
       "    </tr>\n",
       "    <tr>\n",
       "      <th>5</th>\n",
       "      <td>2014-07-09</td>\n",
       "      <td>321500</td>\n",
       "      <td>1</td>\n",
       "      <td>1.00</td>\n",
       "      <td>730</td>\n",
       "      <td>1942</td>\n",
       "      <td>1.0</td>\n",
       "      <td>0</td>\n",
       "      <td>0</td>\n",
       "      <td>730</td>\n",
       "      <td>0</td>\n",
       "      <td>2008</td>\n",
       "      <td></td>\n",
       "      <td>924 26th Ave S</td>\n",
       "      <td>Seattle</td>\n",
       "      <td>WA 98144</td>\n",
       "      <td>USA</td>\n",
       "      <td>both</td>\n",
       "    </tr>\n",
       "    <tr>\n",
       "      <th>6</th>\n",
       "      <td>2014-07-09</td>\n",
       "      <td>599000</td>\n",
       "      <td>7</td>\n",
       "      <td>2.50</td>\n",
       "      <td>2580</td>\n",
       "      <td>5750</td>\n",
       "      <td>1.0</td>\n",
       "      <td>0</td>\n",
       "      <td>0</td>\n",
       "      <td>1880</td>\n",
       "      <td>700</td>\n",
       "      <td>1901</td>\n",
       "      <td></td>\n",
       "      <td>125 30th Ave</td>\n",
       "      <td>Seattle</td>\n",
       "      <td>WA 98122</td>\n",
       "      <td>USA</td>\n",
       "      <td>both</td>\n",
       "    </tr>\n",
       "    <tr>\n",
       "      <th>7</th>\n",
       "      <td>2014-07-09</td>\n",
       "      <td>759000</td>\n",
       "      <td>4</td>\n",
       "      <td>1.75</td>\n",
       "      <td>2100</td>\n",
       "      <td>4750</td>\n",
       "      <td>1.0</td>\n",
       "      <td>0</td>\n",
       "      <td>0</td>\n",
       "      <td>1340</td>\n",
       "      <td>760</td>\n",
       "      <td>1975</td>\n",
       "      <td></td>\n",
       "      <td>5626 Keystone Pl N</td>\n",
       "      <td>Seattle</td>\n",
       "      <td>WA 98103</td>\n",
       "      <td>USA</td>\n",
       "      <td>both</td>\n",
       "    </tr>\n",
       "    <tr>\n",
       "      <th>8</th>\n",
       "      <td>2014-07-09</td>\n",
       "      <td>300000</td>\n",
       "      <td>4</td>\n",
       "      <td>1.75</td>\n",
       "      <td>1820</td>\n",
       "      <td>5015</td>\n",
       "      <td>1.0</td>\n",
       "      <td>0</td>\n",
       "      <td>0</td>\n",
       "      <td>1190</td>\n",
       "      <td>630</td>\n",
       "      <td>1926</td>\n",
       "      <td></td>\n",
       "      <td>1714 S Pearl St</td>\n",
       "      <td>Seattle</td>\n",
       "      <td>WA 98108</td>\n",
       "      <td>USA</td>\n",
       "      <td>both</td>\n",
       "    </tr>\n",
       "    <tr>\n",
       "      <th>9</th>\n",
       "      <td>2014-07-09</td>\n",
       "      <td>359000</td>\n",
       "      <td>3</td>\n",
       "      <td>1.50</td>\n",
       "      <td>1550</td>\n",
       "      <td>4980</td>\n",
       "      <td>1.0</td>\n",
       "      <td>0</td>\n",
       "      <td>0</td>\n",
       "      <td>1080</td>\n",
       "      <td>470</td>\n",
       "      <td>1978</td>\n",
       "      <td></td>\n",
       "      <td>10304 Interlake Ave N</td>\n",
       "      <td>Seattle</td>\n",
       "      <td>WA 98133</td>\n",
       "      <td>USA</td>\n",
       "      <td>both</td>\n",
       "    </tr>\n",
       "  </tbody>\n",
       "</table>\n",
       "</div>"
      ],
      "text/plain": [
       "        date   price  bedrooms  bathrooms  sqft_living  sqft_lot  floors  \\\n",
       "0 2014-07-09  630000         3       1.75         1710      8767     1.0   \n",
       "1 2014-07-09  599950         3       3.25         1830      1804     3.0   \n",
       "2 2014-07-09  680000         3       2.00         1780      5720     1.0   \n",
       "3 2014-07-09  335500         3       1.00         1370      6780     2.0   \n",
       "4 2014-07-09  379000         3       2.50         1530      2913     2.0   \n",
       "5 2014-07-09  321500         1       1.00          730      1942     1.0   \n",
       "6 2014-07-09  599000         7       2.50         2580      5750     1.0   \n",
       "7 2014-07-09  759000         4       1.75         2100      4750     1.0   \n",
       "8 2014-07-09  300000         4       1.75         1820      5015     1.0   \n",
       "9 2014-07-09  359000         3       1.50         1550      4980     1.0   \n",
       "\n",
       "   waterfront  view  sqft_above  sqft_basement yr_built yr_renovated  \\\n",
       "0           0     0        1710              0     1986                \n",
       "1           0     0        1830              0     2014                \n",
       "2           0     0         980            800     1925                \n",
       "3           0     0        1370              0     1930                \n",
       "4           0     0        1530              0     1986                \n",
       "5           0     0         730              0     2008                \n",
       "6           0     0        1880            700     1901                \n",
       "7           0     0        1340            760     1975                \n",
       "8           0     0        1190            630     1926                \n",
       "9           0     0        1080            470     1978                \n",
       "\n",
       "                  street      city  statezip country  True  \n",
       "0      10515 115th Pl NE  Kirkland  WA 98033     USA  both  \n",
       "1        1501 NW 90th St   Seattle  WA 98117     USA  both  \n",
       "2          537 N 70th St   Seattle  WA 98103     USA  both  \n",
       "3      12008 35th Ave NE   Seattle  WA 98125     USA  both  \n",
       "4      11807 NE 105th Ct  Kirkland  WA 98033     USA  both  \n",
       "5         924 26th Ave S   Seattle  WA 98144     USA  both  \n",
       "6           125 30th Ave   Seattle  WA 98122     USA  both  \n",
       "7     5626 Keystone Pl N   Seattle  WA 98103     USA  both  \n",
       "8        1714 S Pearl St   Seattle  WA 98108     USA  both  \n",
       "9  10304 Interlake Ave N   Seattle  WA 98133     USA  both  "
      ]
     },
     "execution_count": 86,
     "metadata": {},
     "output_type": "execute_result"
    }
   ],
   "source": [
    "integratedData.head(10)"
   ]
  },
  {
   "cell_type": "markdown",
   "metadata": {},
   "source": [
    "Checking out the distribution of the integratedData, looks like there were 30 duplicated records from both sources. The resulting dataset has **5000 records**, with the distribution shown below."
   ]
  },
  {
   "cell_type": "code",
   "execution_count": 87,
   "metadata": {
    "collapsed": false
   },
   "outputs": [
    {
     "name": "stdout",
     "output_type": "stream",
     "text": [
      "Total number of integrated records: 5000\n",
      "Total number of records existing in both XML and CSV: 30\n",
      "Total number of unique records from XML: 400\n",
      "Total number of unique records from CSV: 4570\n"
     ]
    }
   ],
   "source": [
    "print 'Total number of integrated records: ' + str(len(integratedData))\n",
    "print 'Total number of records existing in both XML and CSV: ' + str(len(integratedData[integratedData['True'] == 'both']))\n",
    "print 'Total number of unique records from XML: ' + str(len(integratedData[integratedData['True'] == 'left_only']))\n",
    "print 'Total number of unique records from CSV: ' + str(len(integratedData[integratedData['True'] == 'right_only']))"
   ]
  },
  {
   "cell_type": "markdown",
   "metadata": {},
   "source": [
    "**Reformat the data into a more readable format.** Sort the data frame by the latest sold date and then strip the True column before saving the data frame into a CSV file."
   ]
  },
  {
   "cell_type": "code",
   "execution_count": 88,
   "metadata": {
    "collapsed": false
   },
   "outputs": [
    {
     "data": {
      "text/html": [
       "<div>\n",
       "<table border=\"1\" class=\"dataframe\">\n",
       "  <thead>\n",
       "    <tr style=\"text-align: right;\">\n",
       "      <th></th>\n",
       "      <th>date</th>\n",
       "      <th>price</th>\n",
       "      <th>bedrooms</th>\n",
       "      <th>bathrooms</th>\n",
       "      <th>sqft_living</th>\n",
       "      <th>sqft_lot</th>\n",
       "      <th>floors</th>\n",
       "      <th>waterfront</th>\n",
       "      <th>view</th>\n",
       "      <th>sqft_above</th>\n",
       "      <th>sqft_basement</th>\n",
       "      <th>yr_built</th>\n",
       "      <th>yr_renovated</th>\n",
       "      <th>street</th>\n",
       "      <th>city</th>\n",
       "      <th>statezip</th>\n",
       "      <th>country</th>\n",
       "      <th>True</th>\n",
       "    </tr>\n",
       "  </thead>\n",
       "  <tbody>\n",
       "    <tr>\n",
       "      <th>0</th>\n",
       "      <td>2014-07-16</td>\n",
       "      <td>480000</td>\n",
       "      <td>3</td>\n",
       "      <td>2.50</td>\n",
       "      <td>1940</td>\n",
       "      <td>10035</td>\n",
       "      <td>2.0</td>\n",
       "      <td>0</td>\n",
       "      <td>0</td>\n",
       "      <td>1940</td>\n",
       "      <td>0</td>\n",
       "      <td>1994</td>\n",
       "      <td></td>\n",
       "      <td>12505 NE 160th Pl</td>\n",
       "      <td>Woodinville</td>\n",
       "      <td>WA 98072</td>\n",
       "      <td>USA</td>\n",
       "      <td>left_only</td>\n",
       "    </tr>\n",
       "    <tr>\n",
       "      <th>1</th>\n",
       "      <td>2014-07-16</td>\n",
       "      <td>645000</td>\n",
       "      <td>3</td>\n",
       "      <td>1.75</td>\n",
       "      <td>2340</td>\n",
       "      <td>6750</td>\n",
       "      <td>1.5</td>\n",
       "      <td>0</td>\n",
       "      <td>0</td>\n",
       "      <td>1620</td>\n",
       "      <td>720</td>\n",
       "      <td>1914</td>\n",
       "      <td></td>\n",
       "      <td>9052 Burke Ave N</td>\n",
       "      <td>Seattle</td>\n",
       "      <td>WA 98103</td>\n",
       "      <td>USA</td>\n",
       "      <td>left_only</td>\n",
       "    </tr>\n",
       "    <tr>\n",
       "      <th>2</th>\n",
       "      <td>2014-07-16</td>\n",
       "      <td>785000</td>\n",
       "      <td>4</td>\n",
       "      <td>2.50</td>\n",
       "      <td>2290</td>\n",
       "      <td>13416</td>\n",
       "      <td>2.0</td>\n",
       "      <td>0</td>\n",
       "      <td>0</td>\n",
       "      <td>2290</td>\n",
       "      <td>0</td>\n",
       "      <td>1981</td>\n",
       "      <td></td>\n",
       "      <td>NE 8th St</td>\n",
       "      <td>Bellevue</td>\n",
       "      <td>WA 98008</td>\n",
       "      <td>USA</td>\n",
       "      <td>left_only</td>\n",
       "    </tr>\n",
       "    <tr>\n",
       "      <th>3</th>\n",
       "      <td>2014-07-16</td>\n",
       "      <td>470000</td>\n",
       "      <td>3</td>\n",
       "      <td>1.00</td>\n",
       "      <td>1010</td>\n",
       "      <td>5000</td>\n",
       "      <td>1.0</td>\n",
       "      <td>0</td>\n",
       "      <td>0</td>\n",
       "      <td>1010</td>\n",
       "      <td>0</td>\n",
       "      <td>1952</td>\n",
       "      <td></td>\n",
       "      <td>2823 NW 64th St</td>\n",
       "      <td>Seattle</td>\n",
       "      <td>WA 98107</td>\n",
       "      <td>USA</td>\n",
       "      <td>left_only</td>\n",
       "    </tr>\n",
       "    <tr>\n",
       "      <th>4</th>\n",
       "      <td>2014-07-16</td>\n",
       "      <td>517534</td>\n",
       "      <td>2</td>\n",
       "      <td>1.00</td>\n",
       "      <td>833</td>\n",
       "      <td>143947</td>\n",
       "      <td>1.0</td>\n",
       "      <td>0</td>\n",
       "      <td>0</td>\n",
       "      <td>833</td>\n",
       "      <td>0</td>\n",
       "      <td>2006</td>\n",
       "      <td></td>\n",
       "      <td>115th Ave SW</td>\n",
       "      <td>Vashon</td>\n",
       "      <td>WA 98070</td>\n",
       "      <td>USA</td>\n",
       "      <td>left_only</td>\n",
       "    </tr>\n",
       "  </tbody>\n",
       "</table>\n",
       "</div>"
      ],
      "text/plain": [
       "        date   price  bedrooms  bathrooms  sqft_living  sqft_lot  floors  \\\n",
       "0 2014-07-16  480000         3       2.50         1940     10035     2.0   \n",
       "1 2014-07-16  645000         3       1.75         2340      6750     1.5   \n",
       "2 2014-07-16  785000         4       2.50         2290     13416     2.0   \n",
       "3 2014-07-16  470000         3       1.00         1010      5000     1.0   \n",
       "4 2014-07-16  517534         2       1.00          833    143947     1.0   \n",
       "\n",
       "   waterfront  view  sqft_above  sqft_basement yr_built yr_renovated  \\\n",
       "0           0     0        1940              0     1994                \n",
       "1           0     0        1620            720     1914                \n",
       "2           0     0        2290              0     1981                \n",
       "3           0     0        1010              0     1952                \n",
       "4           0     0         833              0     2006                \n",
       "\n",
       "              street         city  statezip country       True  \n",
       "0  12505 NE 160th Pl  Woodinville  WA 98072     USA  left_only  \n",
       "1   9052 Burke Ave N      Seattle  WA 98103     USA  left_only  \n",
       "2          NE 8th St     Bellevue  WA 98008     USA  left_only  \n",
       "3    2823 NW 64th St      Seattle  WA 98107     USA  left_only  \n",
       "4       115th Ave SW       Vashon  WA 98070     USA  left_only  "
      ]
     },
     "execution_count": 88,
     "metadata": {},
     "output_type": "execute_result"
    }
   ],
   "source": [
    "# Sort the dataset by the latest sold date.\n",
    "integratedData.sort_values(by = 'date', ascending = 0, inplace = True)\n",
    "\n",
    "# Reset the indices of the sorted Data Frame.\n",
    "integratedData.reset_index(inplace = True)\n",
    "\n",
    "# Drop the index column generated by reset_index().\n",
    "integratedData.drop('index', axis = 1, inplace = True)\n",
    "integratedData.head()"
   ]
  },
  {
   "cell_type": "code",
   "execution_count": 89,
   "metadata": {
    "collapsed": false
   },
   "outputs": [
    {
     "data": {
      "text/html": [
       "<div>\n",
       "<table border=\"1\" class=\"dataframe\">\n",
       "  <thead>\n",
       "    <tr style=\"text-align: right;\">\n",
       "      <th></th>\n",
       "      <th>date</th>\n",
       "      <th>price</th>\n",
       "      <th>bedrooms</th>\n",
       "      <th>bathrooms</th>\n",
       "      <th>sqft_living</th>\n",
       "      <th>sqft_lot</th>\n",
       "      <th>floors</th>\n",
       "      <th>waterfront</th>\n",
       "      <th>view</th>\n",
       "      <th>sqft_above</th>\n",
       "      <th>sqft_basement</th>\n",
       "      <th>yr_built</th>\n",
       "      <th>yr_renovated</th>\n",
       "      <th>street</th>\n",
       "      <th>city</th>\n",
       "      <th>statezip</th>\n",
       "      <th>country</th>\n",
       "    </tr>\n",
       "  </thead>\n",
       "  <tbody>\n",
       "    <tr>\n",
       "      <th>0</th>\n",
       "      <td>2014-07-16</td>\n",
       "      <td>480000</td>\n",
       "      <td>3</td>\n",
       "      <td>2.50</td>\n",
       "      <td>1940</td>\n",
       "      <td>10035</td>\n",
       "      <td>2.0</td>\n",
       "      <td>0</td>\n",
       "      <td>0</td>\n",
       "      <td>1940</td>\n",
       "      <td>0</td>\n",
       "      <td>1994</td>\n",
       "      <td></td>\n",
       "      <td>12505 NE 160th Pl</td>\n",
       "      <td>Woodinville</td>\n",
       "      <td>WA 98072</td>\n",
       "      <td>USA</td>\n",
       "    </tr>\n",
       "    <tr>\n",
       "      <th>1</th>\n",
       "      <td>2014-07-16</td>\n",
       "      <td>645000</td>\n",
       "      <td>3</td>\n",
       "      <td>1.75</td>\n",
       "      <td>2340</td>\n",
       "      <td>6750</td>\n",
       "      <td>1.5</td>\n",
       "      <td>0</td>\n",
       "      <td>0</td>\n",
       "      <td>1620</td>\n",
       "      <td>720</td>\n",
       "      <td>1914</td>\n",
       "      <td></td>\n",
       "      <td>9052 Burke Ave N</td>\n",
       "      <td>Seattle</td>\n",
       "      <td>WA 98103</td>\n",
       "      <td>USA</td>\n",
       "    </tr>\n",
       "    <tr>\n",
       "      <th>2</th>\n",
       "      <td>2014-07-16</td>\n",
       "      <td>785000</td>\n",
       "      <td>4</td>\n",
       "      <td>2.50</td>\n",
       "      <td>2290</td>\n",
       "      <td>13416</td>\n",
       "      <td>2.0</td>\n",
       "      <td>0</td>\n",
       "      <td>0</td>\n",
       "      <td>2290</td>\n",
       "      <td>0</td>\n",
       "      <td>1981</td>\n",
       "      <td></td>\n",
       "      <td>NE 8th St</td>\n",
       "      <td>Bellevue</td>\n",
       "      <td>WA 98008</td>\n",
       "      <td>USA</td>\n",
       "    </tr>\n",
       "    <tr>\n",
       "      <th>3</th>\n",
       "      <td>2014-07-16</td>\n",
       "      <td>470000</td>\n",
       "      <td>3</td>\n",
       "      <td>1.00</td>\n",
       "      <td>1010</td>\n",
       "      <td>5000</td>\n",
       "      <td>1.0</td>\n",
       "      <td>0</td>\n",
       "      <td>0</td>\n",
       "      <td>1010</td>\n",
       "      <td>0</td>\n",
       "      <td>1952</td>\n",
       "      <td></td>\n",
       "      <td>2823 NW 64th St</td>\n",
       "      <td>Seattle</td>\n",
       "      <td>WA 98107</td>\n",
       "      <td>USA</td>\n",
       "    </tr>\n",
       "    <tr>\n",
       "      <th>4</th>\n",
       "      <td>2014-07-16</td>\n",
       "      <td>517534</td>\n",
       "      <td>2</td>\n",
       "      <td>1.00</td>\n",
       "      <td>833</td>\n",
       "      <td>143947</td>\n",
       "      <td>1.0</td>\n",
       "      <td>0</td>\n",
       "      <td>0</td>\n",
       "      <td>833</td>\n",
       "      <td>0</td>\n",
       "      <td>2006</td>\n",
       "      <td></td>\n",
       "      <td>115th Ave SW</td>\n",
       "      <td>Vashon</td>\n",
       "      <td>WA 98070</td>\n",
       "      <td>USA</td>\n",
       "    </tr>\n",
       "  </tbody>\n",
       "</table>\n",
       "</div>"
      ],
      "text/plain": [
       "        date   price  bedrooms  bathrooms  sqft_living  sqft_lot  floors  \\\n",
       "0 2014-07-16  480000         3       2.50         1940     10035     2.0   \n",
       "1 2014-07-16  645000         3       1.75         2340      6750     1.5   \n",
       "2 2014-07-16  785000         4       2.50         2290     13416     2.0   \n",
       "3 2014-07-16  470000         3       1.00         1010      5000     1.0   \n",
       "4 2014-07-16  517534         2       1.00          833    143947     1.0   \n",
       "\n",
       "   waterfront  view  sqft_above  sqft_basement yr_built yr_renovated  \\\n",
       "0           0     0        1940              0     1994                \n",
       "1           0     0        1620            720     1914                \n",
       "2           0     0        2290              0     1981                \n",
       "3           0     0        1010              0     1952                \n",
       "4           0     0         833              0     2006                \n",
       "\n",
       "              street         city  statezip country  \n",
       "0  12505 NE 160th Pl  Woodinville  WA 98072     USA  \n",
       "1   9052 Burke Ave N      Seattle  WA 98103     USA  \n",
       "2          NE 8th St     Bellevue  WA 98008     USA  \n",
       "3    2823 NW 64th St      Seattle  WA 98107     USA  \n",
       "4       115th Ave SW       Vashon  WA 98070     USA  "
      ]
     },
     "execution_count": 89,
     "metadata": {},
     "output_type": "execute_result"
    }
   ],
   "source": [
    "integratedData.to_csv('merged.csv', index = False)\n",
    "\n",
    "# Drop the 'True' column.\n",
    "integratedData.drop('True', axis = 1, inplace = True)\n",
    "integratedData.head()"
   ]
  },
  {
   "cell_type": "code",
   "execution_count": 90,
   "metadata": {
    "collapsed": false
   },
   "outputs": [],
   "source": [
    "integratedData.to_csv('Jose_2866049_Ass4_data.csv', index = False)"
   ]
  },
  {
   "cell_type": "markdown",
   "metadata": {},
   "source": [
    "# 7. Data Reshaping\n",
    "\n",
    "This part will reshape the Price column of the Integrated Dataset in three forms:\n",
    "- **Z Score Normalization** - which gets the Z Score by normalizing a dataset by its mean and standard deviation\n",
    "- **Min Max Scaling** - which scales the dataset by its minimum and maximum value\n",
    "- **Log Transfromation** - which transforms the dataset by getting the logarithmic function of each item in the dataset\n",
    "\n",
    "**NumPy functions** (NumPy Developers, 2017) are used to get some statistics and convert the price column into a **NumPy array**. NumPy makes it faster to compute for some statistical functions like mean() and std() when the dataset is in a NumPy array.\n",
    "\n",
    "Analysis of the resulting plots of the data transforms are then made."
   ]
  },
  {
   "cell_type": "markdown",
   "metadata": {},
   "source": [
    "## 7.1 Z-Score Normalization\n",
    "**Z-Score Normalization** is used to transform all means of the variables to 0 and all standard deviation to 1. (Gattiker, 2013) This helps remove distortions that stem from the variables having different means and standard deviations without having to remove the outliers. \n",
    "\n",
    "Given a dataset x, the standard equation for Z-Score Normalization is:\n",
    "\n",
    "**<center>z<sub>i</sub> = (x<sub>i</sub> - mean(x))/(std(x))</center>**\n",
    "\n",
    "Values above the mean will have positive values, while values below the mean will have negative values. The overall shape of a distribution will not change after normalization. \n",
    "\n",
    "This is preferred when comparing two variables with different units and many Machine Learning algorithms also require normalization. (Raschka, 2014)\n"
   ]
  },
  {
   "cell_type": "code",
   "execution_count": 91,
   "metadata": {
    "collapsed": false
   },
   "outputs": [
    {
     "data": {
      "text/plain": [
       "array([-0.20655786,  0.23338516,  0.60667014, ..., -0.79314855,\n",
       "       -0.66383196, -0.31321071])"
      ]
     },
     "execution_count": 91,
     "metadata": {},
     "output_type": "execute_result"
    }
   ],
   "source": [
    "x = integratedData['price']\n",
    "numpyPrice = np.asarray(x)  \n",
    "\n",
    "# Z-score normalization\n",
    "priceZScoreNormalization = (numpyPrice - numpyPrice.mean()) / numpyPrice.std()\n",
    "priceZScoreNormalization"
   ]
  },
  {
   "cell_type": "markdown",
   "metadata": {},
   "source": [
    "## 7.2 Min-Max Scaling\n",
    "**Min-Max Scaling** is a method used to scale a variable into another range with a specified `min` and `max`. This is used if a smaller standard deviation is preferred without distorting the distribution of the data. (Raschka, 2014)\n",
    "\n",
    "The default equation of Min-Max Scaling is:\n",
    "\n",
    "**<center>m<sub>i</sub> = (x<sub>i</sub> - min(x)) / (max(x) - min(x))</center>**\n",
    "\n",
    "With the minimum 0 and the maximum 1. An arbitrary minimum `a` and maximum `b` is also possible with the equation:\n",
    "\n",
    "\n",
    "**<center>m<sub>i</sub> = (x<sub>i</sub> - min(x)) / (max(x) - min(x)) * ((b - a) + a) </center>**\n",
    "\n",
    "Even if the shape is not distorted, the **standard deviation and variance** of the datasets will be affected due to data compression/expansion depending on the prescribed `min` and `max` values."
   ]
  },
  {
   "cell_type": "code",
   "execution_count": 92,
   "metadata": {
    "collapsed": false
   },
   "outputs": [
    {
     "data": {
      "text/plain": [
       "array([  5.75560169,   8.11797552,  10.12241392, ...,   2.60576992,\n",
       "         3.30016465,   5.182905  ])"
      ]
     },
     "execution_count": 92,
     "metadata": {},
     "output_type": "execute_result"
    }
   ],
   "source": [
    "min = 0\n",
    "max = 100\n",
    "\n",
    "# MinMax scaling\n",
    "priceMinMaxScaling = (numpyPrice - numpyPrice.min()) / (float(numpyPrice.max()) - numpyPrice.min())  * (max - min) + min \n",
    "priceMinMaxScaling"
   ]
  },
  {
   "cell_type": "markdown",
   "metadata": {},
   "source": [
    "## 7.3 Log Transformation\n",
    "The primary aim of **Log Transformation** is to make skewed distributions less skewed. (Lane, 2011) This makes any inherent patterns between two variables that might be hidden due to the presence of outliers more visible.\n",
    "\n",
    "To transform the dataset x one can just use **math's `log()` function** (Python Software Foundation, 2016) which computes the logarithm with base `e` (any base will do). This lessens the effect of extreme values and transforms the distribution of the dataset to resemble the **Normal Distribution**."
   ]
  },
  {
   "cell_type": "code",
   "execution_count": 93,
   "metadata": {
    "collapsed": false
   },
   "outputs": [
    {
     "data": {
      "text/plain": [
       "array([ 13.08154138,  13.3770056 ,  13.573439  , ...,  12.46843691,\n",
       "        12.63947712,  12.99453001])"
      ]
     },
     "execution_count": 93,
     "metadata": {},
     "output_type": "execute_result"
    }
   ],
   "source": [
    "# Log transformation\n",
    "priceLogTransform = []\n",
    "i = 0\n",
    "for row in integratedData.iterrows():\n",
    "    priceLogTransform.append(math.log(integratedData['price'][i]))\n",
    "    i += 1\n",
    "\n",
    "# For faster plotting, transform into a NumPy array\n",
    "priceLogTransform = np.asarray(priceLogTransform)\n",
    "priceLogTransform"
   ]
  },
  {
   "cell_type": "markdown",
   "metadata": {},
   "source": [
    "## 7.4 Plots and Analysis\n",
    "I will use matplotlib's `plot()` function to get the resulting histogram of the reshaped prices. In addition, I will compute the basic statistics like mean, standard deviation, the min and max to compare and contrast the results."
   ]
  },
  {
   "cell_type": "code",
   "execution_count": 94,
   "metadata": {
    "collapsed": false
   },
   "outputs": [
    {
     "data": {
      "image/png": "[encoded data removed]",
      "text/plain": [
       "<matplotlib.figure.Figure at 0xba6d9b0>"
      ]
     },
     "metadata": {},
     "output_type": "display_data"
    },
    {
     "name": "stdout",
     "output_type": "stream",
     "text": [
      "Mean: 557469.0\n",
      "Standard Deviation: 375086.082666\n",
      "Min: 78000\n",
      "Max: 7062500\n"
     ]
    }
   ],
   "source": [
    "plt.title('Prices Histogram')\n",
    "plt.hist(integratedData['price'])\n",
    "plt.show()\n",
    "print 'Mean: ' + str(round(integratedData['price'].mean()))\n",
    "print 'Standard Deviation: ' + str(integratedData['price'].std())\n",
    "print 'Min: ' + str(integratedData['price'].min())\n",
    "print 'Max: ' + str(integratedData['price'].max())"
   ]
  },
  {
   "cell_type": "code",
   "execution_count": 95,
   "metadata": {
    "collapsed": false
   },
   "outputs": [
    {
     "data": {
      "image/png": "[encoded data removed]",
      "text/plain": [
       "<matplotlib.figure.Figure at 0xb9bfc18>"
      ]
     },
     "metadata": {},
     "output_type": "display_data"
    },
    {
     "name": "stdout",
     "output_type": "stream",
     "text": [
      "Mean: 0.0\n",
      "Standard Deviation: 1.0\n",
      "Min: -1.27841902453\n",
      "Max: 17.3445021597\n"
     ]
    }
   ],
   "source": [
    "plt.title('Z-Score Normalisation Histogram')\n",
    "plt.hist(priceZScoreNormalization)\n",
    "plt.show()\n",
    "print 'Mean: ' + str(round(priceZScoreNormalization.mean()))\n",
    "print 'Standard Deviation: ' + str(priceZScoreNormalization.std())\n",
    "print 'Min: ' + str(priceZScoreNormalization.min())\n",
    "print 'Max: ' + str(priceZScoreNormalization.max())"
   ]
  },
  {
   "cell_type": "markdown",
   "metadata": {},
   "source": [
    "**Z-Score Normalization Analysis**\n",
    "- The mean and standard deviation is 0 and 1, as expected.\n",
    "- There are negative values in `priceZScoreNormalization` but wasn't explicity shown in the histogram.\n",
    "- The overall shape of the data distribution is **not** modified. The data still shows heavy positive skewness."
   ]
  },
  {
   "cell_type": "code",
   "execution_count": 96,
   "metadata": {
    "collapsed": false
   },
   "outputs": [
    {
     "data": {
      "image/png": "[encoded data removed]",
      "text/plain": [
       "<matplotlib.figure.Figure at 0xc3334a8>"
      ]
     },
     "metadata": {},
     "output_type": "display_data"
    },
    {
     "name": "stdout",
     "output_type": "stream",
     "text": [
      "Mean: 6.86476096786\n",
      "Standard Deviation: 5.36972685492\n",
      "Min: 0.0\n",
      "Max: 100.0\n"
     ]
    }
   ],
   "source": [
    "plt.title('Min-Max Scaling Histogram')\n",
    "plt.hist(priceMinMaxScaling)\n",
    "plt.show()\n",
    "print 'Mean: ' + str(priceMinMaxScaling.mean())\n",
    "print 'Standard Deviation: ' + str(priceMinMaxScaling.std())\n",
    "print 'Min: ' + str(priceMinMaxScaling.min())\n",
    "print 'Max: ' + str(priceMinMaxScaling.max())"
   ]
  },
  {
   "cell_type": "markdown",
   "metadata": {},
   "source": [
    "**Min-Max Scaling Analysis**\n",
    "- The mean (~7) and standard deviation (~5) is scaled and is around the 0 - 100 range.\n",
    "- The min and max value is the arbitrary minimum and maximum prescribed in the equation.\n",
    "- The overall shape of the data is **not** modified. The data still shows heavy positive skewness.\n",
    "- The resulting histogram only has 6 bins, while the actual price has 8 bins, meaning the dataset was compressed."
   ]
  },
  {
   "cell_type": "code",
   "execution_count": 97,
   "metadata": {
    "collapsed": false
   },
   "outputs": [
    {
     "data": {
      "image/png": "[encoded data removed]",
      "text/plain": [
       "<matplotlib.figure.Figure at 0xcc14f98>"
      ]
     },
     "metadata": {},
     "output_type": "display_data"
    },
    {
     "name": "stdout",
     "output_type": "stream",
     "text": [
      "Mean: 13.0775311366\n",
      "Standard Deviation: 0.534169922996\n",
      "Min: 11.2644641057\n",
      "Max: 15.7703096544\n"
     ]
    }
   ],
   "source": [
    "plt.title('Log Transform Histogram')\n",
    "plt.hist(priceLogTransform)\n",
    "plt.show()\n",
    "print 'Mean: ' + str(priceLogTransform.mean())\n",
    "print 'Standard Deviation: ' + str(priceLogTransform.std())\n",
    "print 'Min: ' + str(priceLogTransform.min())\n",
    "print 'Max: ' + str(priceLogTransform.max())"
   ]
  },
  {
   "cell_type": "markdown",
   "metadata": {},
   "source": [
    "**Log Transform Analysis**\n",
    "- The overall shape of the data has changed, from being positively skewed into a bell-shaped Normal Distribution.\n",
    "- The effect of the outliers were minimised, and a lot of the dataset converges at the mean.\n",
    "- The standard deviation was reduced significantly."
   ]
  },
  {
   "cell_type": "markdown",
   "metadata": {},
   "source": [
    "## 7.5 Using Data Transformation to Analyze Two Variables\n",
    "\n",
    "As an example, I will also be performing Z-Score Normalization, Min-Max Scaling, and Log Transformation in another variable where price is highly correlated--'sqft_living' to see its effects when compared to 'price'."
   ]
  },
  {
   "cell_type": "code",
   "execution_count": 98,
   "metadata": {
    "collapsed": false
   },
   "outputs": [
    {
     "data": {
      "text/plain": [
       "array([ 7.57044325,  7.75790621,  7.7363071 , ...,  7.29979737,\n",
       "        6.74523635,  6.68461173])"
      ]
     },
     "execution_count": 98,
     "metadata": {},
     "output_type": "execute_result"
    }
   ],
   "source": [
    "y = integratedData['sqft_living']\n",
    "numpyLiving = np.asarray(y)  \n",
    "\n",
    "# Z-score normalization\n",
    "livingZScoreNormalization = (numpyLiving - numpyLiving.mean()) / numpyLiving.std()\n",
    "\n",
    "# MinMax scaling\n",
    "min = 0\n",
    "max = 100\n",
    "livingMinMaxScaling = (numpyLiving - numpyLiving.min()) / (float(numpyLiving.max()) - numpyLiving.min())  * (max - min) + min \n",
    "\n",
    "\n",
    "# Log transformation\n",
    "livingLogTransform = []\n",
    "i = 0\n",
    "for row in integratedData.iterrows():\n",
    "    livingLogTransform.append(math.log(integratedData['sqft_living'][i]))\n",
    "    i += 1\n",
    "\n",
    "# For faster plotting, transform into a NumPy array\n",
    "livingLogTransform = np.asarray(livingLogTransform)\n",
    "livingLogTransform"
   ]
  },
  {
   "cell_type": "code",
   "execution_count": 100,
   "metadata": {
    "collapsed": false
   },
   "outputs": [
    {
     "data": {
      "image/png": "[encoded data removed]",
      "text/plain": [
       "<matplotlib.figure.Figure at 0xd41f208>"
      ]
     },
     "metadata": {},
     "output_type": "display_data"
    },
    {
     "data": {
      "image/png": "[encoded data removed]",
      "text/plain": [
       "<matplotlib.figure.Figure at 0xbec34e0>"
      ]
     },
     "metadata": {},
     "output_type": "display_data"
    },
    {
     "data": {
      "image/png": "[encoded data removed]",
      "text/plain": [
       "<matplotlib.figure.Figure at 0xba57048>"
      ]
     },
     "metadata": {},
     "output_type": "display_data"
    },
    {
     "data": {
      "image/png": "[encoded data removed]",
      "text/plain": [
       "<matplotlib.figure.Figure at 0xba64be0>"
      ]
     },
     "metadata": {},
     "output_type": "display_data"
    }
   ],
   "source": [
    "plt.title('Actual Plot')\n",
    "plt.plot(integratedData['price'], integratedData['sqft_living'], 'o')\n",
    "plt.show()\n",
    "plt.title('Z-Score Normalisation Plot')\n",
    "plt.plot(priceZScoreNormalization, livingZScoreNormalization, 'o')\n",
    "plt.show()\n",
    "plt.title('Min-Max Scaling Plot')\n",
    "plt.plot(priceMinMaxScaling, livingMinMaxScaling, 'o')\n",
    "plt.show()\n",
    "plt.title('Log Transformation Plot')\n",
    "plt.plot(priceLogTransform, livingLogTransform, 'o')\n",
    "plt.show()"
   ]
  },
  {
   "cell_type": "markdown",
   "metadata": {},
   "source": [
    "**Analysis**\n",
    "- It is easier to read the plot when normalized or scaled because the overall shape is retained but the bin values are modified. In this case, it is easier to read decimal values and values between 0-100 than values with many zeroes.\n",
    "- As it is earlier, one can see that the variance decreases when scaled, as the bins also decreased during scaling vs. normalizing.\n",
    "- It is more inherent now that both variables are positively correlated when log transformed was applied into both variables because the effects of outliers were minimised."
   ]
  },
  {
   "cell_type": "markdown",
   "metadata": {},
   "source": [
    "# 8. Summary\n",
    "This assessment illustrated ways to integrate data from different sources and reshape data through the use of different Python tools. Proper data integration is important due to the myriad of datasets in a variety of formats and sizes nowadays. This involves using appropriate tools to resolve conflicts arising from both schema-level and data-level integration. Appropriate data reshaping, meanwhile, is important to transform data into a format better suited for statistical analysis which may lead to better results.\n",
    "\n",
    "The following tasks and techniques were performed in this assessment:\n",
    "\n",
    "1. **Parsing an XML File and transforming it to a Dataframe.** Through the use of available libraries like **BeautifulSoup**, reading and analysing XML files are now easier to do in Python.\n",
    "2. **Parsing a CSV File and transforming it to a Dataframe.** The all powerful **Pandas** library makes it possible to  transform a CSV File into a table and vice-versa through the `read_csv()` and `write_csv()` functions.\n",
    "3. **Defining a Global Schema for data integration.** This is done by carefully analyzing the data and schema of the datasets and creating a mediated schema that reconciles their structure and whose values originate from both of these sources.\n",
    "4. **Resolving schema-level and data-level conflicts in data from heterogenous sources.** Robust functions from the **Pandas** library like `to_numeric(), to_datetime()` for parsing and `replace() and str functions()` enable resolving schema-level and data-level conflicts more straightforward.\n",
    "5. **Joining data from heterogenous sources.** This is easily done with **Pandas' `merge()`** function that allows SQL-like joins for two datasets.\n",
    "6. **Reshaping data through Z-Score Normalization, Min-Max Scaling, and Log Transformation.** Mainly done through **Pandas and NumPy** structures, data reshaping is now easy to do in Python.\n",
    "7. **Analyzing the shape and distribution of dataset after normalizing, scaling, and log transforming.** Plotting the resulting transformations and analysing them is possible through the use of matplotlib's `plot()` function. Z-Score Normalization and Min-Max Scaling transforms the dataset without changing its overall shape and distribution while Log Transformation reduces the effect of outliers in the data making it easier to see relationship between variables."
   ]
  },
  {
   "cell_type": "markdown",
   "metadata": {},
   "source": [
    "# 9. References\n",
    "\n",
    "BitBoost Systems. (2011, Dec 12). United States Mailing Address Formats and Other International Mailing Information. Retrieved from Bitboost.com: http://www.bitboost.com/ref/international-address-formats/united_states/\n",
    "\n",
    "Gattiker, U. (2013, Jan 15). How Data Are Normalized. Retrieved from HowTo.ComMetrics: http://howto.commetrics.com/methodology/statistics/normalization/\n",
    "\n",
    "Lane, D. (2011, Aug 2). Log Transformations. Retrieved from Online Statistics Education: An Interactive Multimedia Course of Study: http://onlinestatbook.com/2/transformations/log.html\n",
    "\n",
    "NumPy Developers. (2017, Jan 16). Quickstart Tutorial - Numpy and Scipy Documentation. Retrieved from Scipy.org: https://docs.scipy.org/doc/numpy-dev/user/quickstart.html\n",
    "\n",
    "Pandas Developers. (2012, Jan 6). Merge, Join, and Concatenate. Retrieved from pandas 0.20.1 Documentation : https://pandas.pydata.org/pandas-docs/stable/merging.html\n",
    "\n",
    "Pandas Developers. (2017, May 18). pandas.Series. Retrieved from pandas 0.20.1 Documentation: https://pandas.pydata.org/pandas-docs/stable/generated/pandas.Series.html\n",
    "\n",
    "Python Software Foundation. (2016, Jun 25). Numerical and Mathematical Modules. Retrieved from Python 2.7.13 Documentation: https://docs.python.org/2/library/math.html\n",
    "\n",
    "Raschka, S. (2014, Jul 11). About Feature Scaling and Normalization. Retrieved from sebastianraschka: http://sebastianraschka.com/Articles/2014_about_feature_scaling.html\n",
    "\n",
    "Richardson, L. (2012, Feb 2). Beautiful Soup Documentation. Retrieved from Beautiful Soup 4.4.0 Documentation : https://www.crummy.com/software/BeautifulSoup/bs4/doc/\n",
    "\n"
   ]
  }
 ],
 "metadata": {
  "kernelspec": {
   "display_name": "Python 2",
   "language": "python",
   "name": "python2"
  },
  "language_info": {
   "codemirror_mode": {
    "name": "ipython",
    "version": 2
   },
   "file_extension": ".py",
   "mimetype": "text/x-python",
   "name": "python",
   "nbconvert_exporter": "python",
   "pygments_lexer": "ipython2",
   "version": "2.7.13"
  }
 },
 "nbformat": 4,
 "nbformat_minor": 2
}
