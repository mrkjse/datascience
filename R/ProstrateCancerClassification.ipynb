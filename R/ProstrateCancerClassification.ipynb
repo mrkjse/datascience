{
 "cells": [
  {
   "cell_type": "markdown",
   "metadata": {},
   "source": [
    "<p style = \"text-align:center\"> <h1>Prostrate Cancer Classification</h1></p>\n",
    "\n",
    "Date:  12 October 2017 \n",
    " \n",
    "Version: 1\n",
    "\n",
    "Environment: R 3.3.2 and Jupyter notebook\n",
    "\n",
    "## Introduction\n",
    "\n",
    "This notebook covers a complete data analysis task, which deals with **Exploratory Data Analysis**, **Regression**, and **Classification**. It involves exploring the data through getting different statistics, creating a regression model to impute several missing values, and analyzing different classifiers to determine which is suitable for the dataset. As said in the **no free lunch theorem**, no model can universally solve all problems, so indeed a comparison of different models is important.\n",
    "\n",
    "**Exploratory Data Analysis** is a concept that has been a vital part of any data science task. It's always a must that one must explore that data to be able to propose an appropriate data analysis approach.\n",
    "\n",
    "**Regression** has also been discussed in the past notebooks, so this will only cover a brief revision of the topic. Regression models are used to impute new or missing quantitative values based on the past or available values in the dataset. \n",
    "\n",
    "**Classification** is performed when the target variable is qualitative (or *categorical*). A previous notebook has already dealt with binary classification, and this notebook will feature multi-class classification.\n",
    "\n",
    "## Contents\n",
    "1. Exploratory Data Analysis\n",
    "    <br/>1.1 Data Description \n",
    "    <br/>1.2 Determining Variable Type\n",
    "    <br/>1.3 Data Cleaning\n",
    "    <br/>1.4 Missing Observations\n",
    "    <br/>1.5 Basic Statistics\n",
    "    <br/>1.6 Variable Distribution\n",
    "    <br/>1.7 Relationship Among Variables\n",
    "2. Regression\n",
    "    <br/>2.1 Predicting ATT1\n",
    "    <br/>2.2 Predicting ATT3\n",
    "    <br/>2.3 Predicting ATT4\n",
    "    <br/>2.4 Predicting ATT5\n",
    "    <br/>2.5 Summary\n",
    "3. Classificaton\n",
    "    <br/> 3.1 Naive Bayes Classifier\n",
    "    <br/> 3.2 Decision Trees\n",
    "    <br/> 3.3 Support Vector Machines (SVMs)\n",
    "    <br/> 3.4 Neural Networks\n",
    "4. Summary of the Classification Models \n",
    "5. Conclusion\n",
    "6. References"
   ]
  },
  {
   "cell_type": "code",
   "execution_count": 1,
   "metadata": {
    "collapsed": false
   },
   "outputs": [
    {
     "data": {
      "text/plain": [
       "R version 3.3.2 (2016-10-31)\n",
       "Platform: x86_64-w64-mingw32/x64 (64-bit)\n",
       "Running under: Windows 10 x64 (build 15063)\n",
       "\n",
       "locale:\n",
       "[1] LC_COLLATE=English_Australia.1252  LC_CTYPE=English_Australia.1252   \n",
       "[3] LC_MONETARY=English_Australia.1252 LC_NUMERIC=C                      \n",
       "[5] LC_TIME=English_Australia.1252    \n",
       "\n",
       "attached base packages:\n",
       "[1] stats     graphics  grDevices utils     datasets  methods   base     \n",
       "\n",
       "loaded via a namespace (and not attached):\n",
       " [1] R6_2.2.2            magrittr_1.5        IRdisplay_0.4.4    \n",
       " [4] pbdZMQ_0.2-6        tools_3.3.2         crayon_1.3.2       \n",
       " [7] uuid_0.1-2          stringi_1.1.5       IRkernel_0.8.7.9000\n",
       "[10] jsonlite_1.5        stringr_1.2.0       digest_0.6.12      \n",
       "[13] repr_0.12.0         evaluate_0.10.1    "
      ]
     },
     "metadata": {},
     "output_type": "display_data"
    }
   ],
   "source": [
    "# information about the R kernel and the machine used\n",
    "sessionInfo()"
   ]
  },
  {
   "cell_type": "code",
   "execution_count": 2,
   "metadata": {
    "collapsed": false
   },
   "outputs": [
    {
     "name": "stderr",
     "output_type": "stream",
     "text": [
      "Warning message:\n",
      "\"package 'reshape2' was built under R version 3.3.3\"Warning message:\n",
      "\"package 'car' was built under R version 3.3.3\"Warning message:\n",
      "\"package 'glmnet' was built under R version 3.3.3\"Loading required package: Matrix\n",
      "Warning message:\n",
      "\"package 'Matrix' was built under R version 3.3.3\"Loading required package: foreach\n",
      "Warning message:\n",
      "\"package 'foreach' was built under R version 3.3.3\"Loaded glmnet 2.0-10\n",
      "\n",
      "Warning message:\n",
      "\"package 'klaR' was built under R version 3.3.3\"Loading required package: MASS\n",
      "Warning message:\n",
      "\"package 'MASS' was built under R version 3.3.3\"Warning message:\n",
      "\"package 'caret' was built under R version 3.3.3\"Loading required package: lattice\n",
      "Warning message:\n",
      "\"package 'lattice' was built under R version 3.3.3\"Loading required package: ggplot2\n",
      "Warning message:\n",
      "\"package 'ggplot2' was built under R version 3.3.3\"Warning message:\n",
      "\"package 'tree' was built under R version 3.3.3\"Warning message:\n",
      "\"package 'randomForest' was built under R version 3.3.3\"randomForest 4.6-12\n",
      "Type rfNews() to see new features/changes/bug fixes.\n",
      "\n",
      "Attaching package: 'randomForest'\n",
      "\n",
      "The following object is masked from 'package:ggplot2':\n",
      "\n",
      "    margin\n",
      "\n",
      "Warning message:\n",
      "\"package 'e1071' was built under R version 3.3.3\"\n",
      "----------------------------------------------------------------------\n",
      "\n",
      "Your next step is to start H2O:\n",
      "    > h2o.init()\n",
      "\n",
      "For H2O package documentation, ask for help:\n",
      "    > ??h2o\n",
      "\n",
      "After starting H2O, you can use the Web UI at http://localhost:54321\n",
      "For more information visit http://docs.h2o.ai\n",
      "\n",
      "----------------------------------------------------------------------\n",
      "\n",
      "\n",
      "Attaching package: 'h2o'\n",
      "\n",
      "The following objects are masked from 'package:stats':\n",
      "\n",
      "    cor, sd, var\n",
      "\n",
      "The following objects are masked from 'package:base':\n",
      "\n",
      "    %*%, %in%, &&, ||, apply, as.factor, as.numeric, colnames,\n",
      "    colnames<-, ifelse, is.character, is.factor, is.numeric, log,\n",
      "    log10, log1p, log2, round, signif, trunc\n",
      "\n"
     ]
    }
   ],
   "source": [
    "# imported libraries\n",
    "library(reshape2) # for using melt()\n",
    "library(car)\n",
    "library(glmnet) # for regression\n",
    "library(klaR) # for naive bayes\n",
    "library(caret) # for naive bayes\n",
    "library(tree) # for decision trees\n",
    "library(randomForest) # for random forest\n",
    "library(e1071) # for svm\n",
    "library(h2o) # for neural networks"
   ]
  },
  {
   "cell_type": "markdown",
   "metadata": {},
   "source": [
    "# 1. Exploration\n",
    "\n",
    "This part comprises of the following tasks:\n",
    "1. Importing the data\n",
    "2. Checking the variable types\n",
    "3. Cleaning the data \n",
    "4. Checking out missing values\n",
    "5. Checking the basic statistics of the variables\n",
    "6. Checking for the relationship between variables\n",
    "\n",
    "## 1.1 Data Description\n",
    "\n",
    "The data was imported using the `read.csv()` function.\n",
    "\n",
    "The **data used** is a CSV file that describes different stages of prostrate cancer with 10 numerical, discrete features. There are four classes of prostrate cancer: 0 for **curable**, 1 for **tumour stage**, 2 for **node stage**, and 3 for **incurable cancers**. \n"
   ]
  },
  {
   "cell_type": "code",
   "execution_count": 3,
   "metadata": {
    "collapsed": false
   },
   "outputs": [
    {
     "data": {
      "text/html": [
       "<table>\n",
       "<thead><tr><th scope=col>ID</th><th scope=col>ATT1</th><th scope=col>ATT2</th><th scope=col>ATT3</th><th scope=col>ATT4</th><th scope=col>ATT5</th><th scope=col>ATT6</th><th scope=col>ATT7</th><th scope=col>ATT8</th><th scope=col>ATT9</th><th scope=col>ATT10</th><th scope=col>Result</th></tr></thead>\n",
       "<tbody>\n",
       "\t<tr><td>1 </td><td>1 </td><td>4 </td><td>1 </td><td>4 </td><td>3 </td><td>7 </td><td> 1</td><td>2 </td><td>6 </td><td>8 </td><td>0 </td></tr>\n",
       "\t<tr><td>2 </td><td>? </td><td>8 </td><td>9 </td><td>1 </td><td>1 </td><td>1 </td><td> 1</td><td>5 </td><td>6 </td><td>1 </td><td>1 </td></tr>\n",
       "\t<tr><td>3 </td><td>10</td><td>7 </td><td>? </td><td>7 </td><td>? </td><td>5 </td><td> 2</td><td>7 </td><td>1 </td><td>1 </td><td>2 </td></tr>\n",
       "\t<tr><td>4 </td><td>3 </td><td>4 </td><td>3 </td><td>? </td><td>2 </td><td>8 </td><td> 4</td><td>6 </td><td>7 </td><td>2 </td><td>1 </td></tr>\n",
       "\t<tr><td>5 </td><td>3 </td><td>5 </td><td>2 </td><td>1 </td><td>6 </td><td>5 </td><td> 3</td><td>1 </td><td>7 </td><td>1 </td><td>0 </td></tr>\n",
       "\t<tr><td>6 </td><td>2 </td><td>7 </td><td>3 </td><td>2 </td><td>1 </td><td>4 </td><td>10</td><td>3 </td><td>9 </td><td>5 </td><td>1 </td></tr>\n",
       "</tbody>\n",
       "</table>\n"
      ],
      "text/latex": [
       "\\begin{tabular}{r|llllllllllll}\n",
       " ID & ATT1 & ATT2 & ATT3 & ATT4 & ATT5 & ATT6 & ATT7 & ATT8 & ATT9 & ATT10 & Result\\\\\n",
       "\\hline\n",
       "\t 1  & 1  & 4  & 1  & 4  & 3  & 7  &  1 & 2  & 6  & 8  & 0 \\\\\n",
       "\t 2  & ?  & 8  & 9  & 1  & 1  & 1  &  1 & 5  & 6  & 1  & 1 \\\\\n",
       "\t 3  & 10 & 7  & ?  & 7  & ?  & 5  &  2 & 7  & 1  & 1  & 2 \\\\\n",
       "\t 4  & 3  & 4  & 3  & ?  & 2  & 8  &  4 & 6  & 7  & 2  & 1 \\\\\n",
       "\t 5  & 3  & 5  & 2  & 1  & 6  & 5  &  3 & 1  & 7  & 1  & 0 \\\\\n",
       "\t 6  & 2  & 7  & 3  & 2  & 1  & 4  & 10 & 3  & 9  & 5  & 1 \\\\\n",
       "\\end{tabular}\n"
      ],
      "text/markdown": [
       "\n",
       "ID | ATT1 | ATT2 | ATT3 | ATT4 | ATT5 | ATT6 | ATT7 | ATT8 | ATT9 | ATT10 | Result | \n",
       "|---|---|---|---|---|---|\n",
       "| 1  | 1  | 4  | 1  | 4  | 3  | 7  |  1 | 2  | 6  | 8  | 0  | \n",
       "| 2  | ?  | 8  | 9  | 1  | 1  | 1  |  1 | 5  | 6  | 1  | 1  | \n",
       "| 3  | 10 | 7  | ?  | 7  | ?  | 5  |  2 | 7  | 1  | 1  | 2  | \n",
       "| 4  | 3  | 4  | 3  | ?  | 2  | 8  |  4 | 6  | 7  | 2  | 1  | \n",
       "| 5  | 3  | 5  | 2  | 1  | 6  | 5  |  3 | 1  | 7  | 1  | 0  | \n",
       "| 6  | 2  | 7  | 3  | 2  | 1  | 4  | 10 | 3  | 9  | 5  | 1  | \n",
       "\n",
       "\n"
      ],
      "text/plain": [
       "  ID ATT1 ATT2 ATT3 ATT4 ATT5 ATT6 ATT7 ATT8 ATT9 ATT10 Result\n",
       "1 1  1    4    1    4    3    7     1   2    6    8     0     \n",
       "2 2  ?    8    9    1    1    1     1   5    6    1     1     \n",
       "3 3  10   7    ?    7    ?    5     2   7    1    1     2     \n",
       "4 4  3    4    3    ?    2    8     4   6    7    2     1     \n",
       "5 5  3    5    2    1    6    5     3   1    7    1     0     \n",
       "6 6  2    7    3    2    1    4    10   3    9    5     1     "
      ]
     },
     "metadata": {},
     "output_type": "display_data"
    }
   ],
   "source": [
    "data <- read.csv('data3000Final.csv')\n",
    "head(data)"
   ]
  },
  {
   "cell_type": "markdown",
   "metadata": {},
   "source": [
    "## 1.2 Determining Variable Type\n",
    "\n",
    "To get an initial overview of the resulting dataframe, check the following:\n",
    "- dimensions of the dataframe (how many rows of records? how many columns?)\n",
    "- the initial parsing of the data (what are the data types?)\n",
    "- are the data in the correct format?\n",
    "\n",
    "#### Dimensions of the Dataframe\n",
    "\n",
    "To check for the dimension, the function `dim()` is used. This function accepts a data frame and outputs the dimensions in *rows* x *columns*."
   ]
  },
  {
   "cell_type": "code",
   "execution_count": 4,
   "metadata": {
    "collapsed": false
   },
   "outputs": [
    {
     "data": {
      "text/html": [
       "<ol class=list-inline>\n",
       "\t<li>3000</li>\n",
       "\t<li>12</li>\n",
       "</ol>\n"
      ],
      "text/latex": [
       "\\begin{enumerate*}\n",
       "\\item 3000\n",
       "\\item 12\n",
       "\\end{enumerate*}\n"
      ],
      "text/markdown": [
       "1. 3000\n",
       "2. 12\n",
       "\n",
       "\n"
      ],
      "text/plain": [
       "[1] 3000   12"
      ]
     },
     "metadata": {},
     "output_type": "display_data"
    }
   ],
   "source": [
    "dim(data)"
   ]
  },
  {
   "cell_type": "markdown",
   "metadata": {},
   "source": [
    "#### Variable Types\n",
    "\n",
    "There are 11 features, and all of them looks discrete. The features are named **ID, ATT1, ATT2, ATT3, ATT4, ATT5, ATT6, ATT7, ATT8, ATT9, and ATT10**, while the target variable is named **Result**. The feature names are not very descriptive, so it's hard to put them into context. However, we can still use basic statistics to determine some interesting properties of the data."
   ]
  },
  {
   "cell_type": "code",
   "execution_count": 5,
   "metadata": {
    "collapsed": false
   },
   "outputs": [
    {
     "name": "stdout",
     "output_type": "stream",
     "text": [
      "'data.frame':\t3000 obs. of  12 variables:\n",
      " $ ID    : int  1 2 3 4 5 6 7 8 9 10 ...\n",
      " $ ATT1  : Factor w/ 11 levels \"?\",\"1\",\"10\",\"2\",..: 2 1 3 5 5 4 2 10 4 2 ...\n",
      " $ ATT2  : int  4 8 7 4 5 7 1 5 9 1 ...\n",
      " $ ATT3  : Factor w/ 11 levels \"?\",\"1\",\"10\",\"2\",..: 2 11 1 5 4 5 5 4 4 2 ...\n",
      " $ ATT4  : Factor w/ 11 levels \"?\",\"1\",\"10\",\"2\",..: 6 2 9 1 2 4 7 8 2 10 ...\n",
      " $ ATT5  : Factor w/ 11 levels \"?\",\"1\",\"10\",\"2\",..: 5 2 1 4 8 2 11 4 6 11 ...\n",
      " $ ATT6  : int  7 1 5 8 5 4 3 7 6 2 ...\n",
      " $ ATT7  : int  1 1 2 4 3 10 7 3 8 2 ...\n",
      " $ ATT8  : int  2 5 7 6 1 3 1 6 8 5 ...\n",
      " $ ATT9  : int  6 6 1 7 7 9 10 7 4 1 ...\n",
      " $ ATT10 : int  8 1 1 2 1 5 7 3 3 3 ...\n",
      " $ Result: int  0 1 2 1 0 1 1 1 1 0 ...\n"
     ]
    }
   ],
   "source": [
    "str(data)"
   ]
  },
  {
   "cell_type": "markdown",
   "metadata": {},
   "source": [
    "We can see that ATT1, ATT3, ATT4, and ATT5 has missing values care of \"?\" sign.\n",
    "\n",
    "## 1.3 Dataset Cleaning\n",
    "\n",
    "As above, we can see there's an attribute called **ID** that is just used to uniquely identify each observation. Since this is irrelevant when performing data analysis, it is better to remove it.\n",
    "\n",
    "A value of **\"?\" ** was also used to indicate missing values in the dataset. To conform with R standards, this variable must be turned into \"NA\". This makes it easier to filter and detect.\n",
    "\n",
    "The remaining features which were classified as factor due to the existence of \"?\" were then converted to numeric to prepare it for the regression task."
   ]
  },
  {
   "cell_type": "code",
   "execution_count": 6,
   "metadata": {
    "collapsed": false,
    "scrolled": true
   },
   "outputs": [
    {
     "name": "stdout",
     "output_type": "stream",
     "text": [
      "'data.frame':\t3000 obs. of  11 variables:\n",
      " $ ATT1  : num  1 NA 10 3 3 2 1 8 2 1 ...\n",
      " $ ATT2  : int  4 8 7 4 5 7 1 5 9 1 ...\n",
      " $ ATT3  : num  1 9 NA 3 2 3 3 2 2 1 ...\n",
      " $ ATT4  : num  4 1 7 NA 1 2 5 6 1 8 ...\n",
      " $ ATT5  : num  3 1 NA 2 6 1 9 2 4 9 ...\n",
      " $ ATT6  : int  7 1 5 8 5 4 3 7 6 2 ...\n",
      " $ ATT7  : int  1 1 2 4 3 10 7 3 8 2 ...\n",
      " $ ATT8  : int  2 5 7 6 1 3 1 6 8 5 ...\n",
      " $ ATT9  : int  6 6 1 7 7 9 10 7 4 1 ...\n",
      " $ ATT10 : int  8 1 1 2 1 5 7 3 3 3 ...\n",
      " $ Result: int  0 1 2 1 0 1 1 1 1 0 ...\n"
     ]
    }
   ],
   "source": [
    "# data cleaning\n",
    "\n",
    "# remove 'ID' column\n",
    "data <- data[, -1]\n",
    "\n",
    "# replace ? with NA\n",
    "data[data == '?'] <- NA\n",
    "\n",
    "# convert data type to INT\n",
    "data[, c(1, 3, 4, 5)] <- sapply(data[, c(1, 3, 4, 5)], as.character)\n",
    "data[, c(1, 3, 4, 5)] <- sapply(data[, c(1, 3, 4, 5)], as.numeric)\n",
    "\n",
    "str(data)"
   ]
  },
  {
   "cell_type": "markdown",
   "metadata": {},
   "source": [
    "## 1.4 Checking for Missing Variables\n",
    "\n",
    "Since the \"?\" observations were converted into `NA`, one can easily count the number of missing features by just using the `is.na()` function. "
   ]
  },
  {
   "cell_type": "code",
   "execution_count": 7,
   "metadata": {
    "collapsed": false
   },
   "outputs": [
    {
     "data": {
      "text/html": [
       "<ol class=list-inline>\n",
       "\t<li>&lt;NA&gt;</li>\n",
       "\t<li>&lt;NA&gt;</li>\n",
       "\t<li>&lt;NA&gt;</li>\n",
       "\t<li>&lt;NA&gt;</li>\n",
       "</ol>\n"
      ],
      "text/latex": [
       "\\begin{enumerate*}\n",
       "\\item <NA>\n",
       "\\item <NA>\n",
       "\\item <NA>\n",
       "\\item <NA>\n",
       "\\end{enumerate*}\n"
      ],
      "text/markdown": [
       "1. &lt;NA&gt;\n",
       "2. &lt;NA&gt;\n",
       "3. &lt;NA&gt;\n",
       "4. &lt;NA&gt;\n",
       "\n",
       "\n"
      ],
      "text/plain": [
       "[1] NA NA NA NA"
      ]
     },
     "metadata": {},
     "output_type": "display_data"
    },
    {
     "data": {
      "text/html": [
       "4"
      ],
      "text/latex": [
       "4"
      ],
      "text/markdown": [
       "4"
      ],
      "text/plain": [
       "[1] 4"
      ]
     },
     "metadata": {},
     "output_type": "display_data"
    }
   ],
   "source": [
    "# how many NA's do we have?\n",
    "data[is.na(data)]\n",
    "length(data[is.na(data)])"
   ]
  },
  {
   "cell_type": "markdown",
   "metadata": {},
   "source": [
    "Based from the `str()` call above, these four `NA`s are under **ATT1, ATT3, ATT4, and ATT5**. \n",
    "\n",
    "Since there are 4 `NA`s located in unique features, we need to produce 4 regression models.\n",
    "\n",
    "## 1.5 Computing for Data Statistics\n",
    "\n",
    "One can easily get various statistics per feature by calling the `summary()` function. It also counts the number of `NA`'s per feature to validate the number of missing values that the data have."
   ]
  },
  {
   "cell_type": "code",
   "execution_count": 8,
   "metadata": {
    "collapsed": false
   },
   "outputs": [
    {
     "data": {
      "text/plain": [
       "      ATT1             ATT2             ATT3             ATT4      \n",
       " Min.   : 1.000   Min.   : 1.000   Min.   : 1.000   Min.   : 1.00  \n",
       " 1st Qu.: 2.000   1st Qu.: 2.000   1st Qu.: 2.000   1st Qu.: 2.00  \n",
       " Median : 4.000   Median : 4.000   Median : 4.000   Median : 4.00  \n",
       " Mean   : 4.425   Mean   : 4.501   Mean   : 4.422   Mean   : 4.44  \n",
       " 3rd Qu.: 7.000   3rd Qu.: 7.000   3rd Qu.: 7.000   3rd Qu.: 6.00  \n",
       " Max.   :10.000   Max.   :10.000   Max.   :10.000   Max.   :10.00  \n",
       " NA's   :1                         NA's   :1        NA's   :1      \n",
       "      ATT5             ATT6             ATT7             ATT8       \n",
       " Min.   : 1.000   Min.   : 1.000   Min.   : 1.000   Min.   : 1.000  \n",
       " 1st Qu.: 2.000   1st Qu.: 2.000   1st Qu.: 2.000   1st Qu.: 2.000  \n",
       " Median : 4.000   Median : 4.000   Median : 4.000   Median : 4.000  \n",
       " Mean   : 4.326   Mean   : 4.431   Mean   : 4.479   Mean   : 4.478  \n",
       " 3rd Qu.: 6.000   3rd Qu.: 6.000   3rd Qu.: 7.000   3rd Qu.: 7.000  \n",
       " Max.   :10.000   Max.   :10.000   Max.   :10.000   Max.   :10.000  \n",
       " NA's   :1                                                          \n",
       "      ATT9            ATT10            Result     \n",
       " Min.   : 1.000   Min.   : 1.000   Min.   :0.000  \n",
       " 1st Qu.: 2.000   1st Qu.: 2.000   1st Qu.:0.000  \n",
       " Median : 4.000   Median : 4.000   Median :1.000  \n",
       " Mean   : 4.446   Mean   : 4.459   Mean   :0.984  \n",
       " 3rd Qu.: 6.000   3rd Qu.: 7.000   3rd Qu.:2.000  \n",
       " Max.   :10.000   Max.   :10.000   Max.   :3.000  \n",
       "                                                  "
      ]
     },
     "metadata": {},
     "output_type": "display_data"
    }
   ],
   "source": [
    "summary(data)"
   ]
  },
  {
   "cell_type": "markdown",
   "metadata": {},
   "source": [
    "**Reflections**\n",
    "- All the attributes are 'scaled' from 1 to 10.\n",
    "- The `summary()` call validates that there are indeed four missing values in different attributes.\n",
    "- All of the mean and median of the attributes are around ~4, which makes it likely that all of them follow the **Normal Distribution**.\n",
    "\n",
    "## 1.6 Determining the Variables' Distribution\n",
    "\n",
    "It is a good practice to check the distribution of the features by plotting its histogram. To do this we can use `ggplot()` that creates pretty and neat histograms."
   ]
  },
  {
   "cell_type": "code",
   "execution_count": 9,
   "metadata": {
    "collapsed": false
   },
   "outputs": [
    {
     "name": "stderr",
     "output_type": "stream",
     "text": [
      "No id variables; using all as measure variables\n",
      "Warning message:\n",
      "\"Removed 4 rows containing non-finite values (stat_bin).\""
     ]
    },
    {
     "data": {},
     "metadata": {},
     "output_type": "display_data"
    },
    {
     "data": {
      "image/png": "[encoded data removed]",
      "text/plain": [
       "plot without title"
      ]
     },
     "metadata": {},
     "output_type": "display_data"
    }
   ],
   "source": [
    "melted.data <- melt(data[1:(length(data))])\n",
    "histograms <- ggplot(data = melted.data, mapping = aes(x = value)) + \n",
    "                    geom_histogram(bins = 50) + facet_wrap(~variable, scales = 'free_x') + theme_light() \n",
    "histograms"
   ]
  },
  {
   "cell_type": "markdown",
   "metadata": {},
   "source": [
    "**Reflections**\n",
    "- Apparently, all of the features do **not** follow the Normal Distribution. However, they all follow the same distribution that resembles the Binomial distribution.\n",
    "- There's also a class imbalance that exists. From the histogram of **Result** we can see that the class **3** is under-represented. Putting it into context, based on the dataset there are less people with **incurable prostrate cancer** than those whose cancers are treatable, which is a good thing!\n",
    "\n",
    "## 1.7 Determining the Association Between Variables\n",
    "\n",
    "To find any *linear* correlation between two variables, we can just get their correlation coefficients since all of them are numerical variables. "
   ]
  },
  {
   "cell_type": "code",
   "execution_count": 10,
   "metadata": {
    "collapsed": false
   },
   "outputs": [
    {
     "data": {
      "text/html": [
       "<table>\n",
       "<thead><tr><th></th><th scope=col>ATT1</th><th scope=col>ATT2</th><th scope=col>ATT3</th><th scope=col>ATT4</th><th scope=col>ATT5</th><th scope=col>ATT6</th><th scope=col>ATT7</th><th scope=col>ATT8</th><th scope=col>ATT9</th><th scope=col>ATT10</th><th scope=col>Result</th></tr></thead>\n",
       "<tbody>\n",
       "\t<tr><th scope=row>ATT1</th><td>1.00000000</td><td>0.04610493</td><td>0.08060515</td><td>0.05601720</td><td>0.04422308</td><td>0.05452177</td><td>0.07122578</td><td>0.05026351</td><td>0.05418733</td><td>0.05468297</td><td>0.3742627 </td></tr>\n",
       "\t<tr><th scope=row>ATT2</th><td>0.04610493</td><td>1.00000000</td><td>0.06709630</td><td>0.06157343</td><td>0.03169298</td><td>0.03936361</td><td>0.01121757</td><td>0.02974010</td><td>0.09424293</td><td>0.07271654</td><td>0.3512550 </td></tr>\n",
       "\t<tr><th scope=row>ATT3</th><td>0.08060515</td><td>0.06709630</td><td>1.00000000</td><td>0.04656806</td><td>0.06498553</td><td>0.04017917</td><td>0.03144363</td><td>0.02602814</td><td>0.06029647</td><td>0.08543024</td><td>0.3652525 </td></tr>\n",
       "\t<tr><th scope=row>ATT4</th><td>0.05601720</td><td>0.06157343</td><td>0.04656806</td><td>1.00000000</td><td>0.08003001</td><td>0.04547098</td><td>0.05860170</td><td>0.02125053</td><td>0.02801731</td><td>0.08264849</td><td>0.3603542 </td></tr>\n",
       "\t<tr><th scope=row>ATT5</th><td>0.04422308</td><td>0.03169298</td><td>0.06498553</td><td>0.08003001</td><td>1.00000000</td><td>0.04995859</td><td>0.07143985</td><td>0.02907593</td><td>0.08373312</td><td>0.08360732</td><td>0.3742799 </td></tr>\n",
       "\t<tr><th scope=row>ATT6</th><td>0.05452177</td><td>0.03936361</td><td>0.04017917</td><td>0.04547098</td><td>0.04995859</td><td>1.00000000</td><td>0.02315537</td><td>0.04078043</td><td>0.06728710</td><td>0.06281401</td><td>0.3338361 </td></tr>\n",
       "\t<tr><th scope=row>ATT7</th><td>0.07122578</td><td>0.01121757</td><td>0.03144363</td><td>0.05860170</td><td>0.07143985</td><td>0.02315537</td><td>1.00000000</td><td>0.07823218</td><td>0.03721329</td><td>0.06658368</td><td>0.3406121 </td></tr>\n",
       "\t<tr><th scope=row>ATT8</th><td>0.05026351</td><td>0.02974010</td><td>0.02602814</td><td>0.02125053</td><td>0.02907593</td><td>0.04078043</td><td>0.07823218</td><td>1.00000000</td><td>0.04319090</td><td>0.03377578</td><td>0.3271048 </td></tr>\n",
       "\t<tr><th scope=row>ATT9</th><td>0.05418733</td><td>0.09424293</td><td>0.06029647</td><td>0.02801731</td><td>0.08373312</td><td>0.06728710</td><td>0.03721329</td><td>0.04319090</td><td>1.00000000</td><td>0.01185411</td><td>0.3495902 </td></tr>\n",
       "\t<tr><th scope=row>ATT10</th><td>0.05468297</td><td>0.07271654</td><td>0.08543024</td><td>0.08264849</td><td>0.08360732</td><td>0.06281401</td><td>0.06658368</td><td>0.03377578</td><td>0.01185411</td><td>1.00000000</td><td>0.3730892 </td></tr>\n",
       "\t<tr><th scope=row>Result</th><td>0.37426265</td><td>0.35125501</td><td>0.36525246</td><td>0.36035416</td><td>0.37427994</td><td>0.33383607</td><td>0.34061210</td><td>0.32710481</td><td>0.34959023</td><td>0.37308920</td><td>1.0000000 </td></tr>\n",
       "</tbody>\n",
       "</table>\n"
      ],
      "text/latex": [
       "\\begin{tabular}{r|lllllllllll}\n",
       "  & ATT1 & ATT2 & ATT3 & ATT4 & ATT5 & ATT6 & ATT7 & ATT8 & ATT9 & ATT10 & Result\\\\\n",
       "\\hline\n",
       "\tATT1 & 1.00000000 & 0.04610493 & 0.08060515 & 0.05601720 & 0.04422308 & 0.05452177 & 0.07122578 & 0.05026351 & 0.05418733 & 0.05468297 & 0.3742627 \\\\\n",
       "\tATT2 & 0.04610493 & 1.00000000 & 0.06709630 & 0.06157343 & 0.03169298 & 0.03936361 & 0.01121757 & 0.02974010 & 0.09424293 & 0.07271654 & 0.3512550 \\\\\n",
       "\tATT3 & 0.08060515 & 0.06709630 & 1.00000000 & 0.04656806 & 0.06498553 & 0.04017917 & 0.03144363 & 0.02602814 & 0.06029647 & 0.08543024 & 0.3652525 \\\\\n",
       "\tATT4 & 0.05601720 & 0.06157343 & 0.04656806 & 1.00000000 & 0.08003001 & 0.04547098 & 0.05860170 & 0.02125053 & 0.02801731 & 0.08264849 & 0.3603542 \\\\\n",
       "\tATT5 & 0.04422308 & 0.03169298 & 0.06498553 & 0.08003001 & 1.00000000 & 0.04995859 & 0.07143985 & 0.02907593 & 0.08373312 & 0.08360732 & 0.3742799 \\\\\n",
       "\tATT6 & 0.05452177 & 0.03936361 & 0.04017917 & 0.04547098 & 0.04995859 & 1.00000000 & 0.02315537 & 0.04078043 & 0.06728710 & 0.06281401 & 0.3338361 \\\\\n",
       "\tATT7 & 0.07122578 & 0.01121757 & 0.03144363 & 0.05860170 & 0.07143985 & 0.02315537 & 1.00000000 & 0.07823218 & 0.03721329 & 0.06658368 & 0.3406121 \\\\\n",
       "\tATT8 & 0.05026351 & 0.02974010 & 0.02602814 & 0.02125053 & 0.02907593 & 0.04078043 & 0.07823218 & 1.00000000 & 0.04319090 & 0.03377578 & 0.3271048 \\\\\n",
       "\tATT9 & 0.05418733 & 0.09424293 & 0.06029647 & 0.02801731 & 0.08373312 & 0.06728710 & 0.03721329 & 0.04319090 & 1.00000000 & 0.01185411 & 0.3495902 \\\\\n",
       "\tATT10 & 0.05468297 & 0.07271654 & 0.08543024 & 0.08264849 & 0.08360732 & 0.06281401 & 0.06658368 & 0.03377578 & 0.01185411 & 1.00000000 & 0.3730892 \\\\\n",
       "\tResult & 0.37426265 & 0.35125501 & 0.36525246 & 0.36035416 & 0.37427994 & 0.33383607 & 0.34061210 & 0.32710481 & 0.34959023 & 0.37308920 & 1.0000000 \\\\\n",
       "\\end{tabular}\n"
      ],
      "text/markdown": [
       "\n",
       "| <!--/--> | ATT1 | ATT2 | ATT3 | ATT4 | ATT5 | ATT6 | ATT7 | ATT8 | ATT9 | ATT10 | Result | \n",
       "|---|---|---|---|---|---|---|---|---|---|---|\n",
       "| ATT1 | 1.00000000 | 0.04610493 | 0.08060515 | 0.05601720 | 0.04422308 | 0.05452177 | 0.07122578 | 0.05026351 | 0.05418733 | 0.05468297 | 0.3742627  | \n",
       "| ATT2 | 0.04610493 | 1.00000000 | 0.06709630 | 0.06157343 | 0.03169298 | 0.03936361 | 0.01121757 | 0.02974010 | 0.09424293 | 0.07271654 | 0.3512550  | \n",
       "| ATT3 | 0.08060515 | 0.06709630 | 1.00000000 | 0.04656806 | 0.06498553 | 0.04017917 | 0.03144363 | 0.02602814 | 0.06029647 | 0.08543024 | 0.3652525  | \n",
       "| ATT4 | 0.05601720 | 0.06157343 | 0.04656806 | 1.00000000 | 0.08003001 | 0.04547098 | 0.05860170 | 0.02125053 | 0.02801731 | 0.08264849 | 0.3603542  | \n",
       "| ATT5 | 0.04422308 | 0.03169298 | 0.06498553 | 0.08003001 | 1.00000000 | 0.04995859 | 0.07143985 | 0.02907593 | 0.08373312 | 0.08360732 | 0.3742799  | \n",
       "| ATT6 | 0.05452177 | 0.03936361 | 0.04017917 | 0.04547098 | 0.04995859 | 1.00000000 | 0.02315537 | 0.04078043 | 0.06728710 | 0.06281401 | 0.3338361  | \n",
       "| ATT7 | 0.07122578 | 0.01121757 | 0.03144363 | 0.05860170 | 0.07143985 | 0.02315537 | 1.00000000 | 0.07823218 | 0.03721329 | 0.06658368 | 0.3406121  | \n",
       "| ATT8 | 0.05026351 | 0.02974010 | 0.02602814 | 0.02125053 | 0.02907593 | 0.04078043 | 0.07823218 | 1.00000000 | 0.04319090 | 0.03377578 | 0.3271048  | \n",
       "| ATT9 | 0.05418733 | 0.09424293 | 0.06029647 | 0.02801731 | 0.08373312 | 0.06728710 | 0.03721329 | 0.04319090 | 1.00000000 | 0.01185411 | 0.3495902  | \n",
       "| ATT10 | 0.05468297 | 0.07271654 | 0.08543024 | 0.08264849 | 0.08360732 | 0.06281401 | 0.06658368 | 0.03377578 | 0.01185411 | 1.00000000 | 0.3730892  | \n",
       "| Result | 0.37426265 | 0.35125501 | 0.36525246 | 0.36035416 | 0.37427994 | 0.33383607 | 0.34061210 | 0.32710481 | 0.34959023 | 0.37308920 | 1.0000000  | \n",
       "\n",
       "\n"
      ],
      "text/plain": [
       "       ATT1       ATT2       ATT3       ATT4       ATT5       ATT6      \n",
       "ATT1   1.00000000 0.04610493 0.08060515 0.05601720 0.04422308 0.05452177\n",
       "ATT2   0.04610493 1.00000000 0.06709630 0.06157343 0.03169298 0.03936361\n",
       "ATT3   0.08060515 0.06709630 1.00000000 0.04656806 0.06498553 0.04017917\n",
       "ATT4   0.05601720 0.06157343 0.04656806 1.00000000 0.08003001 0.04547098\n",
       "ATT5   0.04422308 0.03169298 0.06498553 0.08003001 1.00000000 0.04995859\n",
       "ATT6   0.05452177 0.03936361 0.04017917 0.04547098 0.04995859 1.00000000\n",
       "ATT7   0.07122578 0.01121757 0.03144363 0.05860170 0.07143985 0.02315537\n",
       "ATT8   0.05026351 0.02974010 0.02602814 0.02125053 0.02907593 0.04078043\n",
       "ATT9   0.05418733 0.09424293 0.06029647 0.02801731 0.08373312 0.06728710\n",
       "ATT10  0.05468297 0.07271654 0.08543024 0.08264849 0.08360732 0.06281401\n",
       "Result 0.37426265 0.35125501 0.36525246 0.36035416 0.37427994 0.33383607\n",
       "       ATT7       ATT8       ATT9       ATT10      Result   \n",
       "ATT1   0.07122578 0.05026351 0.05418733 0.05468297 0.3742627\n",
       "ATT2   0.01121757 0.02974010 0.09424293 0.07271654 0.3512550\n",
       "ATT3   0.03144363 0.02602814 0.06029647 0.08543024 0.3652525\n",
       "ATT4   0.05860170 0.02125053 0.02801731 0.08264849 0.3603542\n",
       "ATT5   0.07143985 0.02907593 0.08373312 0.08360732 0.3742799\n",
       "ATT6   0.02315537 0.04078043 0.06728710 0.06281401 0.3338361\n",
       "ATT7   1.00000000 0.07823218 0.03721329 0.06658368 0.3406121\n",
       "ATT8   0.07823218 1.00000000 0.04319090 0.03377578 0.3271048\n",
       "ATT9   0.03721329 0.04319090 1.00000000 0.01185411 0.3495902\n",
       "ATT10  0.06658368 0.03377578 0.01185411 1.00000000 0.3730892\n",
       "Result 0.34061210 0.32710481 0.34959023 0.37308920 1.0000000"
      ]
     },
     "metadata": {},
     "output_type": "display_data"
    }
   ],
   "source": [
    "cor <- cor(as.matrix(na.omit(data)))\n",
    "cor"
   ]
  },
  {
   "cell_type": "markdown",
   "metadata": {},
   "source": [
    "Looks like getting the correlation coefficients does not yield any interesting results, as most of them are between 0 to 0.3. This says that a *weak linear relationship* exists among the variables.\n",
    "\n",
    "We can also create a scatter plot matrix among the attributes to check if we can spot any trend."
   ]
  },
  {
   "cell_type": "code",
   "execution_count": 11,
   "metadata": {
    "collapsed": false
   },
   "outputs": [
    {
     "data": {
      "image/png": "[encoded data removed]",
      "text/plain": [
       "plot without title"
      ]
     },
     "metadata": {},
     "output_type": "display_data"
    }
   ],
   "source": [
    "options(warn=-1)\n",
    "scatterplotMatrix(data,cex=0.2)\n",
    "options(warn=0)"
   ]
  },
  {
   "cell_type": "markdown",
   "metadata": {},
   "source": [
    "Most of the trends are not exactly linear; however, their relationship with result *somehow* hints a linear structure. Since  linearity is less apparent with this dataset, non-linear methods might perform better."
   ]
  },
  {
   "cell_type": "markdown",
   "metadata": {},
   "source": [
    "\n",
    "# 2. Regression\n",
    "\n",
    "After exploring the data, it's now time to impute missing observations.\n",
    "\n",
    "**Regression Models Used**\n",
    "\n",
    "Since the dataset is very huge, less flexible models can be used to impute the data. One of the easier yet robust methods for imputing the data is to use a **generalized linear model with regularization.** Both **Lasso** and **Ridge** linear regression are easy to do and interpret.\n",
    "\n",
    "If these models don't do well (i.e. produce a high RMSE) then more complex models can ba used.\n",
    "\n",
    "**Recap: Linear Regression**\n",
    "\n",
    "To recap, a linear regression model takes the form\n",
    "\n",
    "$$\n",
    "Y = \\beta_0 + \\beta_1X_1 + \\beta_2X_2 + \\beta_3X_3 + ... + \\beta_nX_n + \\epsilon\n",
    "$$\n",
    "\n",
    "Where $Y$ is the target variable,\n",
    "<br/>$\\beta_0$ is the intercept, \n",
    "<br/>$\\beta_n$ is the slope with respect to feature $X_n$ that describes its relationship to the target variable, and\n",
    "<br/>$\\epsilon$ is the residual or the irreducible error.\n",
    "\n",
    "The goal of linear regression is to estimate the regression coefficients $\\beta_0, \\beta_1, \\beta_2, ..., \\beta_n$ that minimises the residual sum of squares (RSS).\n",
    "\n",
    "$$\n",
    "RSS = \\sum_{i=1}^{n}(y_i - y_\\text{pred})^2\n",
    "$$\n",
    "\n",
    "Which just says that the coefficients must result to predicted $y$ values that are close to the actual $y$ values as possible.\n",
    "\n",
    "\n",
    "**Recap: Regularization**\n",
    "\n",
    "Regularization is used to minimize the error function\n",
    "\n",
    "$$\n",
    "E(\\pmb{w}) = \\sum_{i=1}^{n} (\\pmb{y}_\\text{pred} - \\pmb{y}_i)^2 + \\lambda *\\sum_{j=1}^{m}(||\\pmb{w}_j||^q)\n",
    "$$\n",
    "\n",
    "where\n",
    "\n",
    "$\\pmb{y}_\\text{pred} = \\pmb{w_0} + \\pmb{w_1}.\\mathbf{x_1} + ... + \\pmb{w_i}.\\mathbf{x_i}$ is the linear regression prediction function.\n",
    "\n",
    "Note: the main parameter of regularization is just the added term \"$\\lambda *||\\pmb{w}||^q$\" with $\\lambda$ as the **shrinkage penalty** that forces the coefficients to shrink to avoid overfitting.\n",
    "\n",
    "There are two types of regularization, depending on the value of **q** above:\n",
    "\n",
    "1. **Ridge Regularization** - also known as L2 penalty, this is when q = 2.  \n",
    "2. **Lasso Regularization** - also known as L1 penalty, this is when q = 1.\n",
    "\n",
    "In addition, Lasso Regularization yields *sparse models*--that is, models that only use a subset of the features, while Ridge Regularization always includes them all.\n",
    "\n",
    "**Training and Testing Dataset**\n",
    "\n",
    "The first step to imputing the missing values is to divide the data into training and testing sets to reduce bias. The most common form of this division is to devote 80% of the dataset to training while the remaining 20% to testing."
   ]
  },
  {
   "cell_type": "code",
   "execution_count": 12,
   "metadata": {
    "collapsed": false
   },
   "outputs": [
    {
     "data": {
      "text/html": [
       "2397"
      ],
      "text/latex": [
       "2397"
      ],
      "text/markdown": [
       "2397"
      ],
      "text/plain": [
       "[1] 2397"
      ]
     },
     "metadata": {},
     "output_type": "display_data"
    },
    {
     "data": {
      "text/html": [
       "600"
      ],
      "text/latex": [
       "600"
      ],
      "text/markdown": [
       "600"
      ],
      "text/plain": [
       "[1] 600"
      ]
     },
     "metadata": {},
     "output_type": "display_data"
    }
   ],
   "source": [
    "# split data into training and test sets\n",
    "train.len <- nrow(data) * 0.80\n",
    "train.index <- sample(1:nrow(data), train.len)\n",
    "train <- data[train.index,]\n",
    "test <- data[-train.index,]\n",
    "\n",
    "train <- na.omit(train)\n",
    "test <- na.omit(test)\n",
    "\n",
    "nrow(train)\n",
    "nrow(test)"
   ]
  },
  {
   "cell_type": "markdown",
   "metadata": {},
   "source": [
    "We also have to declare the error function to get the **root mean squared-error** that is just the square-root version of the RSS. This describes the average deviation of the predicted to the actual target values.\n",
    "\n",
    "$$\n",
    "RMSE = \\sqrt{\\sum_{i=1}^{n}(y_i - y_\\text{pred})^2}\n",
    "$$"
   ]
  },
  {
   "cell_type": "code",
   "execution_count": 13,
   "metadata": {
    "collapsed": true
   },
   "outputs": [],
   "source": [
    "get.rmse <- function(predicted.values, actual.values){\n",
    "    p.length <- length(predicted.values)\n",
    "    a.length <- length(actual.values)\n",
    "    \n",
    "    if (p.length == a.length){\n",
    "        # square the errors (difference of predicted and actual)\n",
    "        squared.errors <- (predicted.values - actual.values)^2\n",
    "        \n",
    "        # get the mean\n",
    "        mean.squared.errors <- mean(squared.errors)\n",
    "        \n",
    "        # return the resulting square root\n",
    "        return (sqrt(mean.squared.errors))\n",
    "    }\n",
    "    else{\n",
    "        stop(\"Both numeric vectors must be equal!\")\n",
    "    }\n",
    "}"
   ]
  },
  {
   "cell_type": "markdown",
   "metadata": {},
   "source": [
    "**Modelling Procedure**\n",
    "\n",
    "Creating the Ridge and Lasso Regression will need several of the tools that were used in previous noteboooks. To create the linear model, the function `glmnet()` is used because it allows regularization. **Cross validation** of the training data is used to find the best lambda via `cv.glmnet()` which is then used in the `predict()` function to predict. There are two predictions involved, one using the testing data to capture the **RMSE** that describes the goodness-of-fit, while another is to actually predict the missing values.\n",
    "\n",
    "## 2.1 Predicting ATT1\n",
    "\n",
    "In this section, we have to create a regularized linear regression to predict the feature **ATT1**, which will become the target variable.\n",
    "\n",
    "The corresponding linear model is\n",
    "\n",
    "**ATT1** = $\\beta_0$ + $\\beta_1$**ATT2** + $\\beta_2$**ATT3** + $\\beta_3$**ATT4** + $\\beta_4$**ATT5** + $\\beta_5$**ATT6** + $\\beta_6$**ATT7** + $\\beta_7$**ATT8** + $\\beta_8$**ATT9** + $\\beta_9$**ATT10** + $\\beta_\\text{10}$**Result**\n",
    "\n",
    "With the coefficients subject to L1 and L2 regularizer.\n",
    "\n",
    "Note that I have included `Result` as a feature for this model because out of all the attributes it is the one with the highest correlation to ATT1."
   ]
  },
  {
   "cell_type": "code",
   "execution_count": 14,
   "metadata": {
    "collapsed": false
   },
   "outputs": [
    {
     "name": "stdout",
     "output_type": "stream",
     "text": [
      "\n",
      "Best Lambda:  0.1114247\n",
      "Ridge Regression Model for Predicting ATT1:\n",
      "\n",
      "(Intercept)        ATT2        ATT3        ATT4        ATT5        ATT6 \n",
      "  9.1627327  -0.1852387  -0.1694569  -0.1853875  -0.2080058  -0.1802417 \n",
      "       ATT7        ATT8        ATT9       ATT10      Result \n",
      " -0.1733493  -0.1767690  -0.1961661  -0.1943645   2.7348671 \n",
      "\n",
      "Ridge RMSE:  2.316864\n",
      "Ridge prediction:  5.888388\n",
      "\n",
      "==========================================================================\n",
      "Best Lambda:  0.001507629\n",
      "\n",
      "Lasso Regression Model for Predicting ATT1:\n",
      "\n",
      "(Intercept)        ATT2        ATT3        ATT4        ATT5        ATT6 \n",
      " 11.1302836  -0.2539226  -0.2380944  -0.2554540  -0.2766663  -0.2455601 \n",
      "       ATT7        ATT8        ATT9       ATT10      Result \n",
      " -0.2381096  -0.2460284  -0.2615091  -0.2618323   3.4794411 \n",
      "\n",
      "Lasso RMSE:  2.287218\n",
      "Lasso prediction:  6.358676"
     ]
    }
   ],
   "source": [
    "# create matrices but remove its intercept\n",
    "training.mat <- model.matrix(ATT1 ~ ., data = train)[,-1]\n",
    "testing.mat <- model.matrix(ATT1 ~., data = test)[,-1]\n",
    "\n",
    "# put NAs as 0 for prediction\n",
    "predict.data <- data[1:5,]\n",
    "predict.data[is.na(predict.data)] <- 0\n",
    "predict.matrix <- model.matrix(ATT1 ~ ., data = predict.data)[,-1]\n",
    "\n",
    "# create a ridge regression model for attribute 1\n",
    "cv.model <- cv.glmnet(training.mat, train$ATT1, alpha = 0)\n",
    "best.lambda <- cv.model$lambda.min\n",
    "leastsq.mod <- glmnet(training.mat, train$ATT1, alpha = 0)\n",
    "model.coef <- predict(leastsq.mod, type=\"coefficients\", s = best.lambda)[1:ncol(train),]\n",
    "cat(\"\\nBest Lambda: \", best.lambda)\n",
    "cat(\"\\nRidge Regression Model for Predicting ATT1:\\n\\n\")\n",
    "print(model.coef)\n",
    "\n",
    "predicted <- predict(leastsq.mod, s = best.lambda, newx=testing.mat, type = \"response\")\n",
    "att1.ridge.rmse <- get.rmse(predicted, test$ATT1)\n",
    "cat(\"\\nRidge RMSE: \", att1.ridge.rmse)\n",
    "\n",
    "att1.ridge.pred <- predict(leastsq.mod, s = best.lambda, newx=predict.matrix, type = \"response\")[2]\n",
    "cat(\"\\nRidge prediction: \", att1.ridge.pred)\n",
    "\n",
    "cat(\"\\n\\n==========================================================================\")\n",
    "\n",
    "# create a lasso regression model for attribute 1\n",
    "cv.model <- cv.glmnet(training.mat, train$ATT1, alpha = 1)\n",
    "best.lambda <- cv.model$lambda.min\n",
    "leastsq.mod <- glmnet(training.mat, train$ATT1, alpha = 1)\n",
    "model.coef <- predict(leastsq.mod, type=\"coefficients\", s = best.lambda)[1:ncol(train),]\n",
    "cat(\"\\nBest Lambda: \", best.lambda)\n",
    "cat(\"\\n\\nLasso Regression Model for Predicting ATT1:\\n\\n\")\n",
    "print(model.coef)\n",
    "\n",
    "predicted <- predict(leastsq.mod, s = best.lambda, newx=testing.mat, type = \"response\")\n",
    "att1.lasso.rmse <- get.rmse(predicted, test$ATT1)\n",
    "cat(\"\\nLasso RMSE: \", att1.lasso.rmse)\n",
    "att1.lasso.pred <- predict(leastsq.mod, s = best.lambda, newx=predict.matrix, type = \"response\")[2]\n",
    "cat(\"\\nLasso prediction: \", att1.lasso.pred)"
   ]
  },
  {
   "cell_type": "markdown",
   "metadata": {},
   "source": [
    "**Analysis of the models**\n",
    "- For **Ridge Regularization**, the best lambda is at **0.11**, which means that the coefficients did not shrink that much. The RMSE of the ridge model is at 2.32, which means on average the predicted value of ATT1 is just +/- 2 from the actual value, which is a good fit. The rounded predicted value is **6**.\n",
    "<br/><br/>\n",
    "- For **Lasso Regularization**, the best lambda is even lower at **0.002**, which is why the model included all of the features. The shrinkage penalty is small, so the model was not penalized harshly. The RMSE of the lasso model is at 2.28, which suggests a good fit. The rounded predicted value is **6**.\n",
    "\n",
    "In this case since the Lasso produced a slightly lower RMSE we get the imputed value from the Lasso model."
   ]
  },
  {
   "cell_type": "code",
   "execution_count": 15,
   "metadata": {
    "collapsed": false
   },
   "outputs": [],
   "source": [
    "data$ATT1[is.na(data$ATT1)] <- round(att1.lasso.pred)"
   ]
  },
  {
   "cell_type": "markdown",
   "metadata": {},
   "source": [
    "## 2.2 Predicting ATT3\n",
    "\n",
    "In this section, we have to create a regularized linear regression to predict the feature **ATT3**, which will become the target variable.\n",
    "\n",
    "The corresponding linear model is\n",
    "\n",
    "**ATT3** = $\\beta_0$ + $\\beta_1$**ATT1** + $\\beta_2$**ATT2** + $\\beta_3$**ATT4** + $\\beta_4$**ATT5** + $\\beta_5$**ATT6** + $\\beta_6$**ATT7** + $\\beta_7$**ATT8** + $\\beta_8$**ATT9** + $\\beta_9$**ATT10** + $\\beta_\\text{10}$**Result**\n",
    "\n",
    "With the coefficients subject to L1 and L2 regularizer."
   ]
  },
  {
   "cell_type": "code",
   "execution_count": 16,
   "metadata": {
    "collapsed": false
   },
   "outputs": [
    {
     "name": "stdout",
     "output_type": "stream",
     "text": [
      "\n",
      "Best Lambda:  0.111552\n",
      "Ridge Regression Model for Predicting ATT3:\n",
      "\n",
      "(Intercept)        ATT1        ATT2        ATT4        ATT5        ATT6 \n",
      "  8.9081773  -0.1737813  -0.1567280  -0.1981111  -0.1696120  -0.1956056 \n",
      "       ATT7        ATT8        ATT9       ATT10      Result \n",
      " -0.1937489  -0.1944582  -0.1599971  -0.1547668   2.6596837 \n",
      "\n",
      "Ridge RMSE:  2.249016\n",
      "Ridge prediction:  6.964361\n",
      "\n",
      "==========================================================================\n",
      "Best Lambda:  0.001656511\n",
      "Lasso Regression Model for Predicting ATT3:\n",
      "\n",
      "(Intercept)        ATT1        ATT2        ATT4        ATT5        ATT6 \n",
      " 10.8685129  -0.2454073  -0.2254344  -0.2664504  -0.2387652  -0.2591901 \n",
      "       ATT7        ATT8        ATT9       ATT10      Result \n",
      " -0.2564524  -0.2616092  -0.2257816  -0.2226459   3.3976473 \n",
      "\n",
      "Lasso RMSE:  2.210324\n",
      "Lasso prediction:  7.677994"
     ]
    }
   ],
   "source": [
    "# create matrices but remove its intercept\n",
    "training.mat <- model.matrix(ATT3 ~ ., data = train)[,-1]\n",
    "testing.mat <- model.matrix(ATT3 ~., data = test)[,-1]\n",
    "\n",
    "# put NAs as 0 for prediction\n",
    "predict.data <- data[1:5,]\n",
    "predict.data[is.na(predict.data)] <- 0\n",
    "predict.matrix <- model.matrix(ATT3 ~ ., data = predict.data)[,-1]\n",
    "\n",
    "# create a ridge regression model for attribute 3\n",
    "cv.model <- cv.glmnet(training.mat, train$ATT3, alpha = 0)\n",
    "best.lambda <- cv.model$lambda.min\n",
    "leastsq.mod <- glmnet(training.mat, train$ATT3, alpha = 0)\n",
    "model.coef <- predict(leastsq.mod, type=\"coefficients\", s = best.lambda)[1:ncol(train),]\n",
    "cat(\"\\nBest Lambda: \", best.lambda)\n",
    "cat(\"\\nRidge Regression Model for Predicting ATT3:\\n\\n\")\n",
    "print(model.coef)\n",
    "\n",
    "predicted <- predict(leastsq.mod, s = best.lambda, newx=testing.mat, type = \"response\")\n",
    "att3.ridge.rmse <- get.rmse(predicted, test$ATT3)\n",
    "cat(\"\\nRidge RMSE: \", att3.ridge.rmse)\n",
    "\n",
    "att3.ridge.pred <- predict(leastsq.mod, s = best.lambda, newx=predict.matrix, type = \"response\")[3]\n",
    "cat(\"\\nRidge prediction: \", att3.ridge.pred)\n",
    "\n",
    "cat(\"\\n\\n==========================================================================\")\n",
    "\n",
    "# create a lasso regression model for attribute 3b\n",
    "cv.model <- cv.glmnet(training.mat, train$ATT3, alpha = 1)\n",
    "best.lambda <- cv.model$lambda.min\n",
    "leastsq.mod <- glmnet(training.mat, train$ATT3, alpha = 1)\n",
    "model.coef <- predict(leastsq.mod, type=\"coefficients\", s = best.lambda)[1:ncol(train),]\n",
    "cat(\"\\nBest Lambda: \", best.lambda)\n",
    "cat(\"\\nLasso Regression Model for Predicting ATT3:\\n\\n\")\n",
    "print(model.coef)\n",
    "\n",
    "predicted <- predict(leastsq.mod, s = best.lambda, newx=testing.mat, type = \"response\")\n",
    "att3.lasso.rmse <- get.rmse(predicted, test$ATT3)\n",
    "cat(\"\\nLasso RMSE: \", att3.lasso.rmse)\n",
    "att3.lasso.pred <- predict(leastsq.mod, s = best.lambda, newx=predict.matrix, type = \"response\")[3]\n",
    "cat(\"\\nLasso prediction: \", att3.lasso.pred)"
   ]
  },
  {
   "cell_type": "markdown",
   "metadata": {},
   "source": [
    "**Analysis of the models**\n",
    "- For **ridge regularization**, the best lambda is at **0.11**, which means that the coefficients did not shrink that much. The RMSE of the ridge model is at 2.2, which means on average the predicted value of ATT3 is just +/- 2 from the actual value, which is a good fit. The rounded predicted value is **7**.\n",
    "<br/><br/>\n",
    "- For **lasso regularization**, the best lambda is even lower at **0.002**, which is why the model included all of the features. The shrinkage penalty is small, so the model was not penalized harshly. The RMSE of the lasso model is at 2.2, which suggests a good fit. The rounded predicted value is **8**.\n",
    "\n",
    "Since the Lasso model is slightly better, assign the Lasso prediction to the missing data."
   ]
  },
  {
   "cell_type": "code",
   "execution_count": 17,
   "metadata": {
    "collapsed": true
   },
   "outputs": [],
   "source": [
    "data$ATT3[is.na(data$ATT3)] <- round(att3.lasso.pred)"
   ]
  },
  {
   "cell_type": "markdown",
   "metadata": {},
   "source": [
    "## 2.3 Predicting ATT4\n",
    "\n",
    "In this section, we have to create a regularized linear regression to predict the feature **ATT4**, which will become the target variable.\n",
    "\n",
    "The corresponding linear model is\n",
    "\n",
    "**ATT4** = $\\beta_0$ + $\\beta_1$**ATT1** + $\\beta_2$**ATT2** + $\\beta_3$**ATT3** + $\\beta_4$**ATT5** + $\\beta_5$**ATT6** + $\\beta_6$**ATT7** + $\\beta_7$**ATT8** + $\\beta_8$**ATT9** + $\\beta_9$**ATT10** + $\\beta_\\text{10}$**Result**\n",
    "\n",
    "With the coefficients subject to L1 and L2 regularizer."
   ]
  },
  {
   "cell_type": "code",
   "execution_count": 18,
   "metadata": {
    "collapsed": false
   },
   "outputs": [
    {
     "name": "stdout",
     "output_type": "stream",
     "text": [
      "\n",
      "Best Lambda:  0.1096343\n",
      "Ridge Regression Model for Predicting ATT4:\n",
      "\n",
      "(Intercept)        ATT1        ATT2        ATT3        ATT5        ATT6 \n",
      "  8.9336669  -0.1849580  -0.1729899  -0.1927152  -0.1615991  -0.1689068 \n",
      "       ATT7        ATT8        ATT9       ATT10      Result \n",
      " -0.1621612  -0.2081055  -0.1942829  -0.1574861   2.6543911 \n",
      "\n",
      "Ridge RMSE:  2.299298\n",
      "Ridge prediction:  4.516396\n",
      "\n",
      "==========================================================================\n",
      "Best Lambda:  0.001483405\n",
      "Lasso Regression Model for Predicting ATT4:\n",
      "\n",
      "(Intercept)        ATT1        ATT2        ATT3        ATT5        ATT6 \n",
      " 10.8722113  -0.2556558  -0.2404377  -0.2586604  -0.2307082  -0.2331553 \n",
      "       ATT7        ATT8        ATT9       ATT10      Result \n",
      " -0.2257977  -0.2741895  -0.2581296  -0.2249593   3.3861746 \n",
      "\n",
      "Lasso RMSE:  2.262615\n",
      "Lasso prediction:  4.621874"
     ]
    }
   ],
   "source": [
    "# create matrices but remove its intercept\n",
    "training.mat <- model.matrix(ATT4 ~ ., data = train)[,-1]\n",
    "testing.mat <- model.matrix(ATT4 ~., data = test)[,-1]\n",
    "\n",
    "# put NAs as 0 for prediction\n",
    "predict.data <- data[1:5,]\n",
    "predict.data[is.na(predict.data)] <- 0\n",
    "predict.matrix <- model.matrix(ATT4 ~ ., data = predict.data)[,-1]\n",
    "\n",
    "# create a ridge regression model for attribute 3\n",
    "cv.model <- cv.glmnet(training.mat, train$ATT4, alpha = 0)\n",
    "best.lambda <- cv.model$lambda.min\n",
    "leastsq.mod <- glmnet(training.mat, train$ATT4, alpha = 0)\n",
    "model.coef <- predict(leastsq.mod, type=\"coefficients\", s = best.lambda)[1:ncol(train),]\n",
    "cat(\"\\nBest Lambda: \", best.lambda)\n",
    "cat(\"\\nRidge Regression Model for Predicting ATT4:\\n\\n\")\n",
    "print(model.coef)\n",
    "\n",
    "predicted <- predict(leastsq.mod, s = best.lambda, newx=testing.mat, type = \"response\")\n",
    "att4.ridge.rmse <- get.rmse(predicted, test$ATT4)\n",
    "cat(\"\\nRidge RMSE: \", att4.ridge.rmse)\n",
    "\n",
    "att4.ridge.pred <- predict(leastsq.mod, s = best.lambda, newx=predict.matrix, type = \"response\")[4]\n",
    "cat(\"\\nRidge prediction: \", att4.ridge.pred)\n",
    "\n",
    "cat(\"\\n\\n==========================================================================\")\n",
    "\n",
    "# create a lasso regression model for attribute 3b\n",
    "cv.model <- cv.glmnet(training.mat, train$ATT4, alpha = 1)\n",
    "best.lambda <- cv.model$lambda.min\n",
    "leastsq.mod <- glmnet(training.mat, train$ATT4, alpha = 1)\n",
    "model.coef <- predict(leastsq.mod, type=\"coefficients\", s = best.lambda)[1:ncol(train),]\n",
    "cat(\"\\nBest Lambda: \", best.lambda)\n",
    "cat(\"\\nLasso Regression Model for Predicting ATT4:\\n\\n\")\n",
    "print(model.coef)\n",
    "\n",
    "predicted <- predict(leastsq.mod, s = best.lambda, newx=testing.mat, type = \"response\")\n",
    "att4.lasso.rmse <- get.rmse(predicted, test$ATT4)\n",
    "cat(\"\\nLasso RMSE: \", att4.lasso.rmse)\n",
    "att4.lasso.pred <- predict(leastsq.mod, s = best.lambda, newx=predict.matrix, type = \"response\")[4]\n",
    "cat(\"\\nLasso prediction: \", att4.lasso.pred)"
   ]
  },
  {
   "cell_type": "markdown",
   "metadata": {},
   "source": [
    "**Analysis of the models**\n",
    "- For **ridge regularization**, the best lambda is at **0.1**, which means that the coefficients did not shrink that much. The RMSE of the ridge model is at 2.3, which means on average the predicted value of ATT3 is just +/- 2 from the actual value, which is a good fit. The rounded predicted value is **5**.\n",
    "<br/><br/>\n",
    "- For **lasso regularization**, the best lambda is even lower at **0.001**, which is why the model included all of the features. The shrinkage penalty is small, so the model was not penalized harshly. The RMSE of the lasso model is also at 2.3, which suggests a good fit. The rounded predicted value is also **5**.\n",
    "\n",
    "Since both models predicted the same rounded value then either models can be used."
   ]
  },
  {
   "cell_type": "code",
   "execution_count": 19,
   "metadata": {
    "collapsed": true
   },
   "outputs": [],
   "source": [
    "data$ATT4[is.na(data$ATT4)] <- round(att4.lasso.pred)"
   ]
  },
  {
   "cell_type": "markdown",
   "metadata": {},
   "source": [
    "## 2.4 Predicting ATT5\n",
    "\n",
    "In this section, we have to create a regularized linear regression to predict the feature **ATT5**, which will become the target variable.\n",
    "\n",
    "The corresponding linear model is\n",
    "\n",
    "**ATT5** = $\\beta_0$ + $\\beta_1$**ATT1** + $\\beta_2$**ATT2** + $\\beta_3$**ATT3** + $\\beta_4$**ATT4** + $\\beta_5$**ATT6** + $\\beta_6$**ATT7** + $\\beta_7$**ATT8** + $\\beta_8$**ATT9** + $\\beta_9$**ATT10** + $\\beta_\\text{10}$**Result**\n",
    "\n",
    "With the coefficients subject to L1 and L2 regularizer."
   ]
  },
  {
   "cell_type": "code",
   "execution_count": 20,
   "metadata": {
    "collapsed": false
   },
   "outputs": [
    {
     "name": "stdout",
     "output_type": "stream",
     "text": [
      "\n",
      "Best Lambda:  0.1046193\n",
      "Ridge Regression Model for Predicting ATT5:\n",
      "\n",
      "(Intercept)        ATT1        ATT2        ATT3        ATT4        ATT6 \n",
      "  8.9330610  -0.2070363  -0.2066924  -0.1649959  -0.1616630  -0.1745022 \n",
      "       ATT7        ATT8        ATT9       ATT10      Result \n",
      " -0.1690380  -0.1968501  -0.1625602  -0.1664461   2.6269584 \n",
      "\n",
      "Ridge RMSE:  2.209214\n",
      "Ridge prediction:  5.300616\n",
      "\n",
      "==========================================================================\n",
      "Best Lambda:  0.001415549\n",
      "Lasso Regression Model for Predicting ATT5:\n",
      "\n",
      "(Intercept)        ATT1        ATT2        ATT3        ATT4        ATT6 \n",
      " 10.8053606  -0.2743154  -0.2704385  -0.2296962  -0.2285861  -0.2362575 \n",
      "       ATT7        ATT8        ATT9       ATT10      Result \n",
      " -0.2301564  -0.2610525  -0.2254528  -0.2311064   3.3349704 \n",
      "\n",
      "Lasso RMSE:  2.898478\n",
      "Lasso prediction:  5.475878"
     ]
    }
   ],
   "source": [
    "# create matrices but remove its intercept\n",
    "training.mat <- model.matrix(ATT5 ~ ., data = train)[,-1]\n",
    "testing.mat <- model.matrix(ATT5 ~., data = test)[,-1]\n",
    "\n",
    "# put NAs as 0 for prediction\n",
    "predict.data <- data[1:5,]\n",
    "predict.data[is.na(predict.data)] <- 0\n",
    "predict.matrix <- model.matrix(ATT5 ~ ., data = predict.data)[,-1]\n",
    "\n",
    "# create a ridge regression model for attribute 5\n",
    "cv.model <- cv.glmnet(training.mat, train$ATT5, alpha = 0)\n",
    "best.lambda <- cv.model$lambda.min\n",
    "leastsq.mod <- glmnet(training.mat, train$ATT5, alpha = 0)\n",
    "model.coef <- predict(leastsq.mod, type=\"coefficients\", s = best.lambda)[1:ncol(train),]\n",
    "cat(\"\\nBest Lambda: \", best.lambda)\n",
    "cat(\"\\nRidge Regression Model for Predicting ATT5:\\n\\n\")\n",
    "print(model.coef)\n",
    "\n",
    "predicted <- predict(leastsq.mod, s = best.lambda, newx=testing.mat, type = \"response\")\n",
    "att5.ridge.rmse <- get.rmse(predicted, test$ATT5)\n",
    "cat(\"\\nRidge RMSE: \", att5.ridge.rmse)\n",
    "\n",
    "att5.ridge.pred <- predict(leastsq.mod, s = best.lambda, newx=predict.matrix, type = \"response\")[3]\n",
    "cat(\"\\nRidge prediction: \", att5.ridge.pred)\n",
    "\n",
    "cat(\"\\n\\n==========================================================================\")\n",
    "\n",
    "# create a lasso regression model for attribute 5\n",
    "cv.model <- cv.glmnet(training.mat, train$ATT5, alpha = 1)\n",
    "best.lambda <- cv.model$lambda.min\n",
    "leastsq.mod <- glmnet(training.mat, train$ATT5, alpha = 1)\n",
    "model.coef <- predict(leastsq.mod, type=\"coefficients\", s = best.lambda)[1:ncol(train),]\n",
    "cat(\"\\nBest Lambda: \", best.lambda)\n",
    "cat(\"\\nLasso Regression Model for Predicting ATT5:\\n\\n\")\n",
    "print(model.coef)\n",
    "\n",
    "predicted <- predict(leastsq.mod, s = best.lambda, newx=testing.mat, type = \"response\")\n",
    "att5.lasso.rmse <- get.rmse(predicted, test$ATT4)\n",
    "cat(\"\\nLasso RMSE: \", att5.lasso.rmse)\n",
    "att5.lasso.pred <- predict(leastsq.mod, s = best.lambda, newx=predict.matrix, type = \"response\")[3]\n",
    "cat(\"\\nLasso prediction: \", att5.lasso.pred)"
   ]
  },
  {
   "cell_type": "markdown",
   "metadata": {},
   "source": [
    "**Analysis of the models**\n",
    "- For **ridge regularization**, the best lambda is at **0.10**, which means that the coefficients did not shrink that much. The RMSE of the ridge model is at 2.2, which means on average the predicted value of ATT3 is just +/- 2 from the actual value, which is a good fit. The rounded predicted value is **5**.\n",
    "<br/><br/>\n",
    "- For **lasso regularization**, the best lambda is even lower at **0.001**, which is why the model included all of the features. The shrinkage penalty is small, so the model was not penalized harshly. The RMSE of the lasso model is at 2.89 which is higher than the ridge but still suggests a good fit. The rounded predicted value is also **5**.\n",
    "\n",
    "Since both models predicted the same rounded value then either models can be used."
   ]
  },
  {
   "cell_type": "code",
   "execution_count": 21,
   "metadata": {
    "collapsed": true
   },
   "outputs": [],
   "source": [
    "data$ATT5[is.na(data$ATT5)] <- round(att5.ridge.pred)"
   ]
  },
  {
   "cell_type": "markdown",
   "metadata": {},
   "source": [
    "## 2.5 Summary\n",
    "\n",
    "In general, regularized linear regression models worked well in imputing the values. The effect of regularization, however, is not as prominent, as the best lambda is always a small value. Nevertheless, the RMSE of the test data against the model is just around 2.3-2.8, which suggests a good enough fit. \n",
    "\n",
    "# 3. Prostrate Cancer Classification\n",
    "\n",
    "Since we're done imputing the missing values, it's time to create a good classifier for prostrate cancer. The aim of this part of the notebook is to create a model with the highest possible **accuracy**, or the proportion of the correct predictions over the total number of observations.\n",
    "\n",
    "**Classifiers Used**\n",
    "\n",
    "The following classification models are used in this notebook:\n",
    "\n",
    "- **Naive Bayes Classifier** \n",
    "<br/>A *generative* probabilistic model that computes the probability of each observation belonging to a class by using Bayes' Theorem.\n",
    "\n",
    "\n",
    "- **Decision Trees and Random Forest** \n",
    "<br/>A *tree-based* method that splits the predictor space into several simple regions based on a set of splitting rules.\n",
    "\n",
    "\n",
    "- **SVMs** \n",
    "<br/>A method that evolved from a classifier called *maximal-margin classifier* and *support vector classifier* and is known to be one of the most flexible classifiers.\n",
    "\n",
    "\n",
    "- **Neural Networks**\n",
    "<br/>A model that mimics how a human brain learns by generating a collection of neurons that work together to solve a specific problem.\n",
    "\n",
    "Each models will be described in depth in the succeeding sections.\n",
    "\n",
    "**Data Preprocessing**\n",
    "\n",
    "First, let's preprocess the data. I have decided to turn the result into a factor, since it is a categorical variable. As for the attributes, since according to the data description they are rounded <u>numeric</u> measurements I shall leave them as is. "
   ]
  },
  {
   "cell_type": "code",
   "execution_count": 22,
   "metadata": {
    "collapsed": false
   },
   "outputs": [
    {
     "name": "stdout",
     "output_type": "stream",
     "text": [
      "'data.frame':\t3000 obs. of  11 variables:\n",
      " $ ATT1  : num  1 6 10 3 3 2 1 8 2 1 ...\n",
      " $ ATT2  : int  4 8 7 4 5 7 1 5 9 1 ...\n",
      " $ ATT3  : num  1 9 8 3 2 3 3 2 2 1 ...\n",
      " $ ATT4  : num  4 1 7 5 1 2 5 6 1 8 ...\n",
      " $ ATT5  : num  3 1 5 2 6 1 9 2 4 9 ...\n",
      " $ ATT6  : int  7 1 5 8 5 4 3 7 6 2 ...\n",
      " $ ATT7  : int  1 1 2 4 3 10 7 3 8 2 ...\n",
      " $ ATT8  : int  2 5 7 6 1 3 1 6 8 5 ...\n",
      " $ ATT9  : int  6 6 1 7 7 9 10 7 4 1 ...\n",
      " $ ATT10 : int  8 1 1 2 1 5 7 3 3 3 ...\n",
      " $ Result: Factor w/ 4 levels \"0\",\"1\",\"2\",\"3\": 1 2 3 2 1 2 2 2 2 1 ...\n"
     ]
    }
   ],
   "source": [
    "data$Result <- factor(data$Result, levels = c(0:3))\n",
    "str(data)"
   ]
  },
  {
   "cell_type": "markdown",
   "metadata": {},
   "source": [
    "** Training and Testing Dataset**\n",
    "\n",
    "The dataset is again split into two groups, with 80% of the data used for training and 20% for testing the classifier."
   ]
  },
  {
   "cell_type": "code",
   "execution_count": 23,
   "metadata": {
    "collapsed": false
   },
   "outputs": [
    {
     "data": {
      "text/html": [],
      "text/latex": [],
      "text/markdown": [],
      "text/plain": [
       "character(0)"
      ]
     },
     "metadata": {},
     "output_type": "display_data"
    },
    {
     "data": {
      "text/html": [
       "2400"
      ],
      "text/latex": [
       "2400"
      ],
      "text/markdown": [
       "2400"
      ],
      "text/plain": [
       "[1] 2400"
      ]
     },
     "metadata": {},
     "output_type": "display_data"
    },
    {
     "data": {
      "text/html": [
       "600"
      ],
      "text/latex": [
       "600"
      ],
      "text/markdown": [
       "600"
      ],
      "text/plain": [
       "[1] 600"
      ]
     },
     "metadata": {},
     "output_type": "display_data"
    },
    {
     "name": "stdout",
     "output_type": "stream",
     "text": [
      "'data.frame':\t2400 obs. of  11 variables:\n",
      " $ ATT1  : num  9 7 4 9 5 9 2 4 1 1 ...\n",
      " $ ATT2  : int  4 4 3 4 7 9 7 4 3 8 ...\n",
      " $ ATT3  : num  2 1 6 2 2 6 3 3 8 9 ...\n",
      " $ ATT4  : num  5 6 7 6 3 1 2 10 5 5 ...\n",
      " $ ATT5  : num  7 2 3 1 7 7 10 2 3 2 ...\n",
      " $ ATT6  : int  6 5 8 9 5 8 6 2 4 1 ...\n",
      " $ ATT7  : int  5 4 7 5 4 2 7 1 7 7 ...\n",
      " $ ATT8  : int  4 7 5 9 7 6 9 1 9 2 ...\n",
      " $ ATT9  : int  4 2 7 2 5 3 5 1 3 4 ...\n",
      " $ ATT10 : int  5 2 2 9 6 1 4 4 7 9 ...\n",
      " $ Result: Factor w/ 4 levels \"0\",\"1\",\"2\",\"3\": 3 1 3 3 3 3 3 1 2 2 ...\n",
      "'data.frame':\t600 obs. of  11 variables:\n",
      " $ ATT1  : num  6 7 2 1 4 3 3 6 3 5 ...\n",
      " $ ATT2  : int  2 10 2 2 3 3 8 6 10 9 ...\n",
      " $ ATT3  : num  2 7 5 10 2 2 2 9 5 5 ...\n",
      " $ ATT4  : num  1 10 7 8 2 1 8 6 3 2 ...\n",
      " $ ATT5  : num  1 2 5 3 1 3 6 1 6 9 ...\n",
      " $ ATT6  : int  2 6 1 2 10 1 5 8 9 10 ...\n",
      " $ ATT7  : int  4 9 2 1 1 5 6 7 4 5 ...\n",
      " $ ATT8  : int  8 6 2 8 6 1 2 3 2 4 ...\n",
      " $ ATT9  : int  6 4 3 2 4 4 3 7 1 10 ...\n",
      " $ ATT10 : int  10 2 4 7 4 5 1 9 2 3 ...\n",
      " $ Result: Factor w/ 4 levels \"0\",\"1\",\"2\",\"3\": 2 4 1 2 1 1 2 4 2 4 ...\n"
     ]
    }
   ],
   "source": [
    "# did we have any problems converting everything into factor?\n",
    "data[is.na(data)]\n",
    "\n",
    "set.seed(1234)\n",
    "# split into train and test sets again\n",
    "train.len <- nrow(data) * 0.80\n",
    "train.index <- sample(1:nrow(data), train.len)\n",
    "train <- data[train.index,]\n",
    "test <- data[-train.index,]\n",
    "\n",
    "train <- na.omit(train)\n",
    "test <- na.omit(test)\n",
    "\n",
    "# was there any NA rows?\n",
    "nrow(train)\n",
    "nrow(test)\n",
    "\n",
    "str(train)\n",
    "str(test)"
   ]
  },
  {
   "cell_type": "markdown",
   "metadata": {},
   "source": [
    "## 3.1 Naive Bayes Classifier\n",
    "\n",
    "Note: Materials used in this section are based from FIT 5201: Data Analysis Algorithms lecture notes.\n",
    "\n",
    "**Naive Bayes Classifier** is a classifier that generates a probability distribution for each class and then calculates the probability of an observation to belong in a class using the Bayes' Theorem.\n",
    "\n",
    "The main assumption of this model is that **all features are independent from each other**. Since all of the features exhibit low correlation coefficient, it is possible that the features may be independent.\n",
    "\n",
    "Generating the probability distribution of each class $\\mathcal{C}_k$ requires the following:\n",
    "- prior probabilities $\\pmb{p(\\mathcal{C}_k)}$ which is just the fraction of observations that belong to each class $\\mathcal{C}_k$ in the whole dataset\n",
    "- class means $\\mu_k$\n",
    "- class covariance matrices $\\mathbf{S}_k$\n",
    "- shared covariance matrix$\\Sigma$\n",
    "\n",
    "The conditional probability $p(x | \\mathcal{C}_k)$ is derived from the distribution density function using the $\\mu_k$ and $\\Sigma$. \n",
    "\n",
    "Once you have calculated $p(\\mathcal{C}_k)$ and $p(x|\\mathcal{C}_k)$, Bayes theorem can now be used to calculate the posterior $p(\\mathcal{C}_k|x)$ probabilities for each class. \n",
    "\n",
    "$$\n",
    "p(\\mathcal{C}_k|x) = \\frac{p\\mathcal{C}_k . p(x|\\mathcal{C}_k)}{p(x)}\n",
    "$$\n",
    "\n",
    "Whichever has the bigger posterior probability is the chosen class for the data.\n",
    "\n",
    "To create the classifier, the function `train()` from the package `klaR` is used, with the parameter `'nb'` indicating that we aim for a Naive Bayes Classifier. **Cross-validation** is also performed in order to determine the accuracy of the model against the training data. The one with the best **accuracy** is picked as the best model."
   ]
  },
  {
   "cell_type": "code",
   "execution_count": 24,
   "metadata": {
    "collapsed": false
   },
   "outputs": [
    {
     "data": {
      "text/plain": [
       "Naive Bayes \n",
       "\n",
       "2400 samples\n",
       "  10 predictor\n",
       "   4 classes: '0', '1', '2', '3' \n",
       "\n",
       "No pre-processing\n",
       "Resampling: Cross-Validated (10 fold) \n",
       "Summary of sample sizes: 2161, 2160, 2160, 2160, 2160, 2160, ... \n",
       "Resampling results across tuning parameters:\n",
       "\n",
       "  usekernel  Accuracy   Kappa    \n",
       "  FALSE      0.7820878  0.6748585\n",
       "   TRUE      0.7808309  0.6711068\n",
       "\n",
       "Tuning parameter 'fL' was held constant at a value of 0\n",
       "Tuning\n",
       " parameter 'adjust' was held constant at a value of 1\n",
       "Accuracy was used to select the optimal model using  the largest value.\n",
       "The final values used for the model were fL = 0, usekernel = FALSE and adjust\n",
       " = 1."
      ]
     },
     "metadata": {},
     "output_type": "display_data"
    }
   ],
   "source": [
    "x <- train[,-ncol(train)]\n",
    "y <- train[,ncol(train)]\n",
    "options(warn=-1)\n",
    "\n",
    "# create a Naive Bayes model by cross-validating the training set\n",
    "naiveBayes <- train(x,y,'nb',trControl=trainControl(method='cv',number=10))\n",
    "naiveBayes\n",
    "\n",
    "options(warn=0)"
   ]
  },
  {
   "cell_type": "markdown",
   "metadata": {},
   "source": [
    "**Analysis of the model**\n",
    "\n",
    "The average training accuracy of the cross-validated Naive Bayes model is **78%**, which is good enough. There is a lesser chance of overfitting as the model did not have a perfect accuracy for the training data. "
   ]
  },
  {
   "cell_type": "code",
   "execution_count": 25,
   "metadata": {
    "collapsed": false
   },
   "outputs": [
    {
     "name": "stdout",
     "output_type": "stream",
     "text": [
      "\n",
      "Naive Bayes Train Accuracy:  0.7941667\n",
      "Naive Bayes Test Accuracy:  0.7733333"
     ]
    }
   ],
   "source": [
    "options(warn=-1)\n",
    "naiveBayes.trainPred <- predict(naiveBayes$finalModel,train[,-ncol(train)])$class\n",
    "naiveBayes.trainAccuracy <- confusionMatrix(naiveBayes.trainPred, train[,ncol(train)])$overall['Accuracy']\n",
    "cat(\"\\nNaive Bayes Train Accuracy: \", naiveBayes.trainAccuracy)\n",
    "\n",
    "naiveBayes.pred <- predict(naiveBayes$finalModel,test[,-ncol(test)])$class\n",
    "naiveBayes.testAccuracy <- confusionMatrix(naiveBayes.pred, test[,ncol(test)])$overall['Accuracy']\n",
    "cat(\"\\nNaive Bayes Test Accuracy: \", naiveBayes.testAccuracy)\n",
    "options(warn=0)"
   ]
  },
  {
   "cell_type": "markdown",
   "metadata": {},
   "source": [
    "The best considered model from cross validation produced an accuracy of **79%**, which is a good fit. When tested against the test data, it produced an accuracy of **77%** which is robust enough. It is impressive considering Naive Bayes Classifier is one of the simplest models to create and computationally inexpensive."
   ]
  },
  {
   "cell_type": "markdown",
   "metadata": {},
   "source": [
    "## 3.2 Decision Trees\n",
    "\n",
    "**Decision Trees** are one of the easiest models to interpret due to its structure. The tree is grown by recursively splitting the predictor space into two, based on a criterion which can either be one the following: *classification error rate*, the *Gini index*, or the *entropy*. Decision trees aim to produce a tree that maximizes **node purity** -- that is, the probability that a node contains all observations from a single class. In the three criteria used, both the *Gini index* and *entropy* takes into account node purity.\n",
    "\n",
    "The reason why I chose to include decision trees is because there is no clear linear relationship that exists in the dataset and because of the resulting models are easier to interpret.\n",
    "\n",
    "### 3.2.1 Basic Decision Tree\n",
    "\n",
    "To create a classification tree, the method `tree()` is used. The function `plot()` and `text()` are then called to display the tree. "
   ]
  },
  {
   "cell_type": "code",
   "execution_count": 26,
   "metadata": {
    "collapsed": false
   },
   "outputs": [
    {
     "data": {
      "image/png": "[encoded data removed]",
      "text/plain": [
       "plot without title"
      ]
     },
     "metadata": {},
     "output_type": "display_data"
    }
   ],
   "source": [
    "# create a cross validated decision tree\n",
    "decisionTree <- tree(Result ~ ., data = train)\n",
    "plot(decisionTree)\n",
    "text(decisionTree, pretty = 1)"
   ]
  },
  {
   "cell_type": "code",
   "execution_count": 27,
   "metadata": {
    "collapsed": false
   },
   "outputs": [
    {
     "name": "stdout",
     "output_type": "stream",
     "text": [
      "\n",
      " Decision Tree Train Accuracy:  0.4979167\n",
      "\n",
      " Decision Tree Test Accuracy:  0.48"
     ]
    }
   ],
   "source": [
    "dt.trainPred <- predict(decisionTree, newdata = train, type=\"class\")\n",
    "dt.trainAccuracy <- confusionMatrix(dt.trainPred, train[,ncol(train)])$overall['Accuracy']\n",
    "cat(\"\\n Decision Tree Train Accuracy: \", dt.trainAccuracy)\n",
    "\n",
    "dt.pred <- predict(decisionTree, newdata = test, type=\"class\")\n",
    "dt.accuracy <- confusionMatrix(dt.pred, test[,ncol(test)])$overall['Accuracy']\n",
    "cat(\"\\n\\n Decision Tree Test Accuracy: \", dt.accuracy)"
   ]
  },
  {
   "cell_type": "markdown",
   "metadata": {},
   "source": [
    "**Analysis of the model**\n",
    "- Based on the resulting classification tree, **ATT1** is considered the most important attribute. The data then proceeds to the left if its ATT1 is either **1, 2, 3, 4**, otherwise the data goes to the right. This is how a tree is read, from top down.\n",
    "- There were two terminal nodes that yield that same splitting value, **ATT10** which produces 0 at both splits, and **ATT3** which produces 2 at both splits. The split was performed because it leads to an <u>increase in node purity.</u>\n",
    "- There are four classes in the dataset, but the <u>class **3** is missing from the tree</u>. This might be because class 3 is underrepresented in the dataset.\n",
    "- Because only three classes are classified in the tree, this yields a drop in accuracy and is <u>not considered a very good model.</u>\n",
    "- Computing the accuracy, the model indeed underperforms--it only has **49.7%** train accuracy and **48%** test accuracy.\n",
    "\n",
    "### 3.2.2 Pruned Decision Tree\n",
    "\n",
    "Since the basic decision tree is more likely to overfit the training data (but in this case it *underfits*), **pruning** is performed to decrease the number of splits and decrease variance (with a slight increase in bias). Pruning is performed by using a *threshold*; if the splitting criterion passes the threshold then the splitting is stopped. This produces a *subtree* of the previous decision tree (ie the number of terminal nodes is smaller).\n",
    "\n",
    "The method used to perform pruning is the `cv.tree()` method, which uses cross validation to choose how complex the tree is. Since we're doing classification, the function used is `prune.misclass`, which checks for the number of misclassifications."
   ]
  },
  {
   "cell_type": "code",
   "execution_count": 28,
   "metadata": {
    "collapsed": false
   },
   "outputs": [
    {
     "data": {
      "text/plain": [
       "$size\n",
       "[1] 9 6 5 4 3 2 1\n",
       "\n",
       "$dev\n",
       "[1] 1307 1298 1291 1253 1296 1378 1575\n",
       "\n",
       "$k\n",
       "[1] -Inf    0    2   23   55   82  166\n",
       "\n",
       "$method\n",
       "[1] \"misclass\"\n",
       "\n",
       "attr(,\"class\")\n",
       "[1] \"prune\"         \"tree.sequence\""
      ]
     },
     "metadata": {},
     "output_type": "display_data"
    },
    {
     "data": {
      "text/html": [
       "4"
      ],
      "text/latex": [
       "4"
      ],
      "text/markdown": [
       "4"
      ],
      "text/plain": [
       "[1] 4"
      ]
     },
     "metadata": {},
     "output_type": "display_data"
    },
    {
     "data": {
      "image/png": "[encoded data removed]",
      "text/plain": [
       "plot without title"
      ]
     },
     "metadata": {},
     "output_type": "display_data"
    }
   ],
   "source": [
    "# use cross-validation to determine the optimal level of tree complexity\n",
    "cv.decisionTree <- cv.tree(decisionTree, FUN = prune.misclass)\n",
    "cv.decisionTree\n",
    "\n",
    "# determine the optimal number of terminal nodes\n",
    "tree.min <- which.min(cv.decisionTree$dev)\n",
    "bestSubTree <- cv.decisionTree$size[tree.min]\n",
    "bestSubTree\n",
    "\n",
    "plot(cv.decisionTree$size, cv.decisionTree$dev, type = \"b\")\n",
    "points(cv.decisionTree$size[tree.min], cv.decisionTree$dev[tree.min], col = \"red\", cex = 2, pch = 20)"
   ]
  },
  {
   "cell_type": "markdown",
   "metadata": {},
   "source": [
    "Looks like the optimal tree is the one with **4 terminal nodes**."
   ]
  },
  {
   "cell_type": "code",
   "execution_count": 29,
   "metadata": {
    "collapsed": false
   },
   "outputs": [
    {
     "data": {
      "text/plain": [
       "\n",
       "Classification tree:\n",
       "snip.tree(tree = decisionTree, nodes = c(4L, 7L, 6L, 5L))\n",
       "Variables actually used in tree construction:\n",
       "[1] \"ATT1\"  \"ATT5\"  \"ATT10\"\n",
       "Number of terminal nodes:  4 \n",
       "Residual mean deviance:  2.245 = 5379 / 2396 \n",
       "Misclassification error rate: 0.5125 = 1230 / 2400 "
      ]
     },
     "metadata": {},
     "output_type": "display_data"
    },
    {
     "data": {
      "image/png": "[encoded data removed]",
      "text/plain": [
       "plot without title"
      ]
     },
     "metadata": {},
     "output_type": "display_data"
    }
   ],
   "source": [
    "# use prune.tree function\n",
    "prune.decisionTree <- prune.misclass(decisionTree, best = bestSubTree)\n",
    "summary(prune.decisionTree)\n",
    "\n",
    "#plot the tree\n",
    "plot(prune.decisionTree)\n",
    "text(prune.decisionTree, pretty = 0)"
   ]
  },
  {
   "cell_type": "code",
   "execution_count": 30,
   "metadata": {
    "collapsed": false
   },
   "outputs": [
    {
     "name": "stdout",
     "output_type": "stream",
     "text": [
      "\n",
      "Pruned Decision Tree Train Accuracy:  0.4875\n",
      "\n",
      "Pruned Decision Tree Test Accuracy:  0.4633333"
     ]
    }
   ],
   "source": [
    "prunedDT.trainPred <- predict(prune.decisionTree, newdata = train, type=\"class\")\n",
    "pruneDT.trainAccuracy <- confusionMatrix(prunedDT.trainPred, train[,ncol(train)])$overall['Accuracy']\n",
    "cat(\"\\nPruned Decision Tree Train Accuracy: \", pruneDT.trainAccuracy)\n",
    "\n",
    "prunedDT.pred <- predict(prune.decisionTree, newdata = test, type=\"class\")\n",
    "pruneDT.accuracy <- confusionMatrix(prunedDT.pred, test[,ncol(test)])$overall['Accuracy']\n",
    "cat(\"\\n\\nPruned Decision Tree Test Accuracy: \", pruneDT.accuracy)"
   ]
  },
  {
   "cell_type": "markdown",
   "metadata": {},
   "source": [
    "**Analysis of the Model**\n",
    "- The model produced a subtree of the previous decision tree, which only uses the features **ATT1, ATT5, and ATT10**. \n",
    "- The model still has <u>not included</u> class *3*, which will yield a high error rate.\n",
    "- The resulting train accuracy of the pruned decision tree is **49%**, while for the test accuracy it is only **46%**, which is a drop in performance from using the whole tree.\n",
    "- The resulting decision trees <u>underfits</u> the data, because it does not include all classes in the terminal nodes and still has a low training accuracy."
   ]
  },
  {
   "cell_type": "markdown",
   "metadata": {},
   "source": [
    "### 3.2.3 Random Forest\n",
    "\n",
    "The concept of **Random Forest** is used to significantly improve the performance of decision trees. Since the earlier trees underfit the data, creating multiple subtrees which will predict based on a consensus can result in performance improvement. In general, performing random forest is a way to decrease **overfitting**, however, in the case of this example the tree clearly underfits because of its very low training accuracy. \n",
    "\n",
    "**Creating a random forest**\n",
    "\n",
    "A collection of trees are created from the bootstrapped training data, and is splitted according to a subset of *m* features (usually $\\sqrt{p}$, where $p$ is the number of features). This produces a tree that uses a *subset* of the training data and a *subset* of predictors, thereby ensuring that the result is not overfitted. However, since this results in a number of subtrees for classification the model is harder to interpret than a normal decision tree.\n",
    "\n",
    "To perform random forest, the method `randomForest()` is used from the `randomForest` package. Random forest is performed with differing number of bootstraped subtrees indicated in the `ntree` parameter: 10, 50, 100, 500, and 1000. Each resulting randomForest is then analyzed according to their test accuracies."
   ]
  },
  {
   "cell_type": "code",
   "execution_count": 31,
   "metadata": {
    "collapsed": true
   },
   "outputs": [],
   "source": [
    "?randomForest"
   ]
  },
  {
   "cell_type": "code",
   "execution_count": 32,
   "metadata": {
    "collapsed": true
   },
   "outputs": [],
   "source": [
    "K <- c(10, 50, 100, 500, 1000)\n",
    "\n",
    "# use Random Forest\n",
    "rf.accuracies <- as.data.frame(matrix(NA,nrow=length(K), ncol=3))\n",
    "names(rf.accuracies) <- c('k', 'train.accuracy', 'test.accuracy')\n",
    "i <- 1\n",
    "\n",
    "mtry.val <- sqrt(10)\n",
    "i <- 1\n",
    "for (k in K){\n",
    "    randomForest <- randomForest(Result ~ ., data = train, ntree = k, mtry = mtry.val, importance = TRUE)\n",
    "    randomForest.pred <- predict(randomForest, newdata = test, type = \"class\")\n",
    "    randomForest.accuracy <- confusionMatrix(randomForest.pred, test[,ncol(test)])$overall['Accuracy']\n",
    "    \n",
    "    randomForest.trainPred <- predict(randomForest, newdata = train, type = \"class\")\n",
    "    randomForest.trainAccuracy <- confusionMatrix(randomForest.trainPred, train[,ncol(train)])$overall['Accuracy']\n",
    "\n",
    "\n",
    "    rf.accuracies[i, 'k'] <- k\n",
    "    rf.accuracies[i, 'train.accuracy'] <- randomForest.trainAccuracy\n",
    "    rf.accuracies[i, 'test.accuracy'] <- randomForest.accuracy\n",
    "    i <- i + 1\n",
    "}"
   ]
  },
  {
   "cell_type": "code",
   "execution_count": 33,
   "metadata": {
    "collapsed": false
   },
   "outputs": [
    {
     "data": {},
     "metadata": {},
     "output_type": "display_data"
    },
    {
     "data": {
      "image/png": "[encoded data removed]",
      "text/plain": [
       "plot without title"
      ]
     },
     "metadata": {},
     "output_type": "display_data"
    }
   ],
   "source": [
    "ggplot(data=rf.accuracies,aes(x=k, y=train.accuracy)) + geom_line() + geom_point(shape=21, fill='red')  +\n",
    "    ggtitle('Train Accuracy vs. K (number of trees)') + theme_minimal()"
   ]
  },
  {
   "cell_type": "code",
   "execution_count": 34,
   "metadata": {
    "collapsed": false
   },
   "outputs": [
    {
     "data": {},
     "metadata": {},
     "output_type": "display_data"
    },
    {
     "data": {
      "image/png": "[encoded data removed]",
      "text/plain": [
       "plot without title"
      ]
     },
     "metadata": {},
     "output_type": "display_data"
    }
   ],
   "source": [
    "ggplot(data=rf.accuracies,aes(x=k, y=test.accuracy)) + geom_line() + geom_point(shape=21, fill='red')  +\n",
    "    ggtitle('Test Accuracy vs. K (number of trees)') + theme_minimal()"
   ]
  },
  {
   "cell_type": "markdown",
   "metadata": {},
   "source": [
    "#### Summary of Random Forest Models\n",
    "\n",
    "The table below shows the overall performance of doing random forest in the dataset."
   ]
  },
  {
   "cell_type": "code",
   "execution_count": 35,
   "metadata": {
    "collapsed": false
   },
   "outputs": [
    {
     "name": "stdout",
     "output_type": "stream",
     "text": [
      "Random Forest Accuracies"
     ]
    },
    {
     "data": {
      "text/html": [
       "<table>\n",
       "<thead><tr><th scope=col>k</th><th scope=col>train.accuracy</th><th scope=col>test.accuracy</th></tr></thead>\n",
       "<tbody>\n",
       "\t<tr><td>  10     </td><td>0.99375  </td><td>0.6833333</td></tr>\n",
       "\t<tr><td>  50     </td><td>1.00000  </td><td>0.7616667</td></tr>\n",
       "\t<tr><td> 100     </td><td>1.00000  </td><td>0.7783333</td></tr>\n",
       "\t<tr><td> 500     </td><td>1.00000  </td><td>0.7900000</td></tr>\n",
       "\t<tr><td>1000     </td><td>1.00000  </td><td>0.7966667</td></tr>\n",
       "</tbody>\n",
       "</table>\n"
      ],
      "text/latex": [
       "\\begin{tabular}{r|lll}\n",
       " k & train.accuracy & test.accuracy\\\\\n",
       "\\hline\n",
       "\t   10      & 0.99375   & 0.6833333\\\\\n",
       "\t   50      & 1.00000   & 0.7616667\\\\\n",
       "\t  100      & 1.00000   & 0.7783333\\\\\n",
       "\t  500      & 1.00000   & 0.7900000\\\\\n",
       "\t 1000      & 1.00000   & 0.7966667\\\\\n",
       "\\end{tabular}\n"
      ],
      "text/markdown": [
       "\n",
       "k | train.accuracy | test.accuracy | \n",
       "|---|---|---|---|---|\n",
       "|   10      | 0.99375   | 0.6833333 | \n",
       "|   50      | 1.00000   | 0.7616667 | \n",
       "|  100      | 1.00000   | 0.7783333 | \n",
       "|  500      | 1.00000   | 0.7900000 | \n",
       "| 1000      | 1.00000   | 0.7966667 | \n",
       "\n",
       "\n"
      ],
      "text/plain": [
       "  k    train.accuracy test.accuracy\n",
       "1   10 0.99375        0.6833333    \n",
       "2   50 1.00000        0.7616667    \n",
       "3  100 1.00000        0.7783333    \n",
       "4  500 1.00000        0.7900000    \n",
       "5 1000 1.00000        0.7966667    "
      ]
     },
     "metadata": {},
     "output_type": "display_data"
    },
    {
     "name": "stdout",
     "output_type": "stream",
     "text": [
      "\n",
      "Best K: 1000"
     ]
    },
    {
     "data": {
      "text/html": [
       "<table>\n",
       "<thead><tr><th></th><th scope=col>k</th><th scope=col>train.accuracy</th><th scope=col>test.accuracy</th></tr></thead>\n",
       "<tbody>\n",
       "\t<tr><th scope=row>5</th><td>1000     </td><td>1        </td><td>0.7966667</td></tr>\n",
       "</tbody>\n",
       "</table>\n"
      ],
      "text/latex": [
       "\\begin{tabular}{r|lll}\n",
       "  & k & train.accuracy & test.accuracy\\\\\n",
       "\\hline\n",
       "\t5 & 1000      & 1         & 0.7966667\\\\\n",
       "\\end{tabular}\n"
      ],
      "text/markdown": [
       "\n",
       "| <!--/--> | k | train.accuracy | test.accuracy | \n",
       "|---|\n",
       "| 5 | 1000      | 1         | 0.7966667 | \n",
       "\n",
       "\n"
      ],
      "text/plain": [
       "  k    train.accuracy test.accuracy\n",
       "5 1000 1              0.7966667    "
      ]
     },
     "metadata": {},
     "output_type": "display_data"
    }
   ],
   "source": [
    "cat(\"Random Forest Accuracies\")\n",
    "rf.accuracies\n",
    "\n",
    "bestK <- rf.accuracies[rf.accuracies$test.accuracy == max(rf.accuracies$test.accuracy),]$k\n",
    "cat(\"\\nBest K:\", bestK)\n",
    "\n",
    "rf.accuracies[rf.accuracies$test.accuracy == max(rf.accuracies$test.accuracy),]"
   ]
  },
  {
   "cell_type": "markdown",
   "metadata": {},
   "source": [
    "**Analysis of the Models**\n",
    "- Random forest did improve the performance of decision trees significantly. \n",
    "- At `k = 50` onwards, the random forest model was able to predict all training data correctly, which is considered <u>overfitting</u>. \n",
    "- Because of bootstrapping, even if the model overfits the training data, random forest produced formidable test accuracies of almost **~80%**.\n",
    "- Overfitting is severe at `k = 10`, but variance decreases as `k` increases. This is why the best model considered is the one with the most subtrees (`k = 1000`).\n",
    "\n",
    "**Variable importance**\n",
    "\n",
    "To get a better insight at the resulting random forest model, variable importance is retrieved using the `varImp()` function.\n",
    "The parameter `type = 1` means we want to retrieve the overall variable importance."
   ]
  },
  {
   "cell_type": "code",
   "execution_count": 36,
   "metadata": {
    "collapsed": false
   },
   "outputs": [],
   "source": [
    "randomForest <- randomForest(Result ~ ., data = train, ntree = bestK, importance = TRUE)"
   ]
  },
  {
   "cell_type": "code",
   "execution_count": 37,
   "metadata": {
    "collapsed": false
   },
   "outputs": [
    {
     "data": {
      "image/png": "[encoded data removed]",
      "text/plain": [
       "Plot with title \"Random Forest Variable Importance\""
      ]
     },
     "metadata": {},
     "output_type": "display_data"
    }
   ],
   "source": [
    "rf.varImp <- varImp(randomForest, type = 1)\n",
    "rf.varImp[,'Attributes'] <- rownames(rf.varImp)\n",
    "rf.varImp <- rf.varImp[order(rf.varImp$Overall),]\n",
    "\n",
    "# plot the variable importance\n",
    "barplot(rf.varImp$Overall, horiz = TRUE, names.arg = rf.varImp$Attributes, cex.names = 0.8)\n",
    "title(\"Random Forest Variable Importance\")"
   ]
  },
  {
   "cell_type": "markdown",
   "metadata": {},
   "source": [
    "The most important features according to the randomForest model are **ATT1, ATT10, and ATT7**, while **ATT5, ATT4, and ATT6** were the least important."
   ]
  },
  {
   "cell_type": "markdown",
   "metadata": {},
   "source": [
    "## 3.3 Support Vector Machines\n",
    "\n",
    "**Support Vector Machines** (SVM) are one of the most popular ways of classification especially for non-linear decision boundaries. SVMs enlarge the feature space through the use of *similarity functions* or **kernels** to accommodate non-linear boundary between classes. There are three used kernels in this notebook: **radial kernel, linear kernel, and polynomial kernel.**\n",
    "\n",
    "To perform SVM, the `svm()` function is used from the `e1071` package.\n",
    "\n",
    "SVMs are parameterized by a **cost** value. The cost value describes how strict would you allow certain outliers from each classes to be misclassfieid. It also determines the number of support vectors needed to detect the decision boundary. If the cost value is <u>large</u>, there is a possibility of having a <u>high bias but low variance</u> predictions. On the other hand, if the cost value is <u>small</u>, the model is prone to <u>low bias but high variance</u>. Therefore it is important to produce an optimal cost parameter. To do this, a 10-fold cross validation method is used in the `tune()` function from the `e1071` package.\n",
    "\n",
    "As this type of model is said to be very robust and is said to be more powerful than other classification models, I have decided to include this in this notebook."
   ]
  },
  {
   "cell_type": "markdown",
   "metadata": {},
   "source": [
    "### 3.3.1 Radial Kernel SVM\n",
    "\n",
    "**Radial Kernel SVMs** are one of the most popular kernels available, which only considers nearby training observations for predicting the class of the test observation. \n",
    "\n",
    "The kernel function is\n",
    "\n",
    "\n",
    "$$\n",
    "K(x_i, l_i) = exp(-\\gamma\\sum_{j=1}^{p}(x_\\text{ij} - l_\\text{ij})^2)\n",
    "$$\n",
    "\n",
    "A positive constant parameter called $\\gamma$ is used to aid in predicting the non-linear decision boundary. Together with the **cost** parameter, the **gamma** parameter is also tuned via cross validation."
   ]
  },
  {
   "cell_type": "code",
   "execution_count": 38,
   "metadata": {
    "collapsed": false
   },
   "outputs": [
    {
     "data": {
      "text/plain": [
       "\n",
       "Parameter tuning of 'svm':\n",
       "\n",
       "- sampling method: 10-fold cross validation \n",
       "\n",
       "- best parameters:\n",
       " cost gamma\n",
       "  100  0.01\n",
       "\n",
       "- best performance: 0.01833333 \n",
       "\n",
       "- Detailed performance results:\n",
       "    cost gamma      error  dispersion\n",
       "1  1e-02 1e-02 0.65083333 0.017546235\n",
       "2  1e-01 1e-02 0.28458333 0.023899384\n",
       "3  1e+00 1e-02 0.05916667 0.017213259\n",
       "4  5e+00 1e-02 0.03291667 0.013241874\n",
       "5  1e+01 1e-02 0.02500000 0.007607258\n",
       "6  1e+02 1e-02 0.01833333 0.011653432\n",
       "7  1e-02 1e-01 0.49083333 0.038530091\n",
       "8  1e-01 1e-01 0.16166667 0.023471811\n",
       "9  1e+00 1e-01 0.06291667 0.011528614\n",
       "10 5e+00 1e-01 0.06916667 0.015365907\n",
       "11 1e+01 1e-01 0.06875000 0.014197950\n",
       "12 1e+02 1e-01 0.06416667 0.013058510\n",
       "13 1e-02 1e+00 0.65083333 0.017546235\n",
       "14 1e-01 1e+00 0.65083333 0.017546235\n",
       "15 1e+00 1e+00 0.39250000 0.024279748\n",
       "16 5e+00 1e+00 0.37375000 0.016787755\n",
       "17 1e+01 1e+00 0.37375000 0.016787755\n",
       "18 1e+02 1e+00 0.37375000 0.016787755\n",
       "19 1e-02 5e+00 0.65083333 0.017546235\n",
       "20 1e-01 5e+00 0.65083333 0.017546235\n",
       "21 1e+00 5e+00 0.60708333 0.064670640\n",
       "22 5e+00 5e+00 0.59791667 0.065653470\n",
       "23 1e+01 5e+00 0.59791667 0.065653470\n",
       "24 1e+02 5e+00 0.59791667 0.065653470\n",
       "25 1e-02 1e+01 0.65083333 0.017546235\n",
       "26 1e-01 1e+01 0.65083333 0.017546235\n",
       "27 1e+00 1e+01 0.64833333 0.020050092\n",
       "28 5e+00 1e+01 0.64833333 0.020050092\n",
       "29 1e+01 1e+01 0.64833333 0.020050092\n",
       "30 1e+02 1e+01 0.64833333 0.020050092\n",
       "31 1e-02 1e+02 0.65083333 0.017546235\n",
       "32 1e-01 1e+02 0.65083333 0.017546235\n",
       "33 1e+00 1e+02 0.65083333 0.017546235\n",
       "34 5e+00 1e+02 0.65083333 0.017546235\n",
       "35 1e+01 1e+02 0.65083333 0.017546235\n",
       "36 1e+02 1e+02 0.65083333 0.017546235\n"
      ]
     },
     "metadata": {},
     "output_type": "display_data"
    },
    {
     "data": {
      "text/plain": [
       "\n",
       "Call:\n",
       "svm(formula = Result ~ ., data = train, kernel = \"radial\", cost = tune.radial$best.parameter$cost, \n",
       "    gamma = tune.radial$best.parameter$gamma)\n",
       "\n",
       "\n",
       "Parameters:\n",
       "   SVM-Type:  C-classification \n",
       " SVM-Kernel:  radial \n",
       "       cost:  100 \n",
       "      gamma:  0.01 \n",
       "\n",
       "Number of Support Vectors:  362\n",
       "\n",
       " ( 106 73 148 35 )\n",
       "\n",
       "\n",
       "Number of Classes:  4 \n",
       "\n",
       "Levels: \n",
       " 0 1 2 3\n",
       "\n",
       "\n"
      ]
     },
     "metadata": {},
     "output_type": "display_data"
    }
   ],
   "source": [
    "tune.radial <- tune(svm, Result ~ ., \n",
    "                    data = train, \n",
    "                    kernel = \"radial\", \n",
    "                    ranges = list(cost = c(0.01, 0.1, 1, 5, 10, 100), \n",
    "                    gamma = c(0.01, 0.1, 1, 5, 10, 100)))\n",
    "summary(tune.radial)\n",
    "\n",
    "svm.radial <- svm(Result ~ ., \n",
    "                  kernel = \"radial\", \n",
    "                  data = train, \n",
    "                  cost = tune.radial$best.parameter$cost, \n",
    "                  gamma =  tune.radial$best.parameter$gamma)\n",
    "summary(svm.radial)"
   ]
  },
  {
   "cell_type": "markdown",
   "metadata": {},
   "source": [
    "**Analysis of the model**\n",
    "- The model took a moderate amount of time to be trained, as radial SVMs are computationally expensive. \n",
    "- According to the CV, the optimal **cost** parameter is 100, while the radial kernel's optimal **gamma** parameter is 0.01.\n",
    "- It took a total of **362** support vectors, **106** support vectors for class 0, **73** support vectors for class 1, **148** support vectors for class 2, and **35** vectors for class 3."
   ]
  },
  {
   "cell_type": "markdown",
   "metadata": {},
   "source": [
    "### 3.3.2 Linear Kernel SVM\n",
    "\n",
    "**Linear Kernel SVM** is equivalent to creating a **support vector classifier**, which is a soft margin classifier that allows some outliers to be on the wrong side of the *linear* decision boundary of the hyperplane. It uses the *Pearson Correlation* to determine the similarity of two points. Basically, this version of SVM gives out a standard linear classifier. \n",
    "The kernel function is\n",
    "\n",
    "$$\n",
    "K(x_i, l_i) = \\sum_{j=1}^{p}x_\\text{ij}l_\\text{ij}\n",
    "$$\n",
    "\n",
    "Aside from the cost parameter, no additional parameters are used."
   ]
  },
  {
   "cell_type": "code",
   "execution_count": 39,
   "metadata": {
    "collapsed": false
   },
   "outputs": [
    {
     "data": {
      "text/plain": [
       "\n",
       "Parameter tuning of 'svm':\n",
       "\n",
       "- sampling method: 10-fold cross validation \n",
       "\n",
       "- best parameters:\n",
       " cost\n",
       "   10\n",
       "\n",
       "- best performance: 0.0004166667 \n",
       "\n",
       "- Detailed performance results:\n",
       "          cost        error  dispersion\n",
       "1   0.01000000 0.0804166667 0.024140311\n",
       "2   0.01778279 0.0495833333 0.015768630\n",
       "3   0.03162278 0.0362500000 0.011955744\n",
       "4   0.05623413 0.0270833333 0.008838835\n",
       "5   0.10000000 0.0245833333 0.008436857\n",
       "6   0.17782794 0.0158333333 0.007027284\n",
       "7   0.31622777 0.0075000000 0.004730385\n",
       "8   0.56234133 0.0141666667 0.005624571\n",
       "9   1.00000000 0.0100000000 0.006860605\n",
       "10  1.77827941 0.0045833333 0.002365193\n",
       "11  3.16227766 0.0025000000 0.002151657\n",
       "12  5.62341325 0.0020833333 0.002196026\n",
       "13 10.00000000 0.0004166667 0.001317616\n"
      ]
     },
     "metadata": {},
     "output_type": "display_data"
    },
    {
     "data": {
      "text/plain": [
       "\n",
       "Call:\n",
       "svm(formula = Result ~ ., data = train, kernel = \"linear\", cost = tune.linear$best.parameter$cost)\n",
       "\n",
       "\n",
       "Parameters:\n",
       "   SVM-Type:  C-classification \n",
       " SVM-Kernel:  linear \n",
       "       cost:  10 \n",
       "      gamma:  0.1 \n",
       "\n",
       "Number of Support Vectors:  372\n",
       "\n",
       " ( 90 76 178 28 )\n",
       "\n",
       "\n",
       "Number of Classes:  4 \n",
       "\n",
       "Levels: \n",
       " 0 1 2 3\n",
       "\n",
       "\n"
      ]
     },
     "metadata": {},
     "output_type": "display_data"
    }
   ],
   "source": [
    "tune.linear <- tune(svm, Result ~ ., \n",
    "                    data = train, \n",
    "                    kernel = \"linear\", \n",
    "                    ranges = list(cost = 10^seq(-2, 1, by = 0.25)))\n",
    "summary(tune.linear)\n",
    "svm.linear <- svm(Result ~ ., \n",
    "                  kernel = \"linear\", \n",
    "                  data = train, \n",
    "                  cost = tune.linear$best.parameter$cost)\n",
    "summary(svm.linear)"
   ]
  },
  {
   "cell_type": "markdown",
   "metadata": {},
   "source": [
    "**Analysis of the model**\n",
    "- This SVM was the fastest to be trained among other SVMs, as it only uses a linear similarity function. \n",
    "- According to the CV, the optimal **cost** parameter is 10.\n",
    "- It took a total of **372** support vectors, **90** support vectors for class 0, **76** support vectors for class 1, **178** support vectors for class 2, and **28** vectors for class 3.\n",
    "- There were less support vectors needed because the decision boundary is linear."
   ]
  },
  {
   "cell_type": "markdown",
   "metadata": {},
   "source": [
    "### 3.3.3 Polynomial Kernel SVM of Order 2\n",
    "\n",
    "**Polynomial kernels** extend the linear kernel by just extending the linear kernel's equation into higher dimension. In this case, the polynomial kernel of order 2 extends it to a quadratic function, which produces a non-linear decision boundary so it is considered more robust than the linear kernel but also more computationally expensive.\n",
    "\n",
    "The kernel function is\n",
    "\n",
    "$$\n",
    "K(x_i, l_i) = (1 + \\sum_{j=1}^{p}x_\\text{ij}l_\\text{ij})^2\n",
    "$$"
   ]
  },
  {
   "cell_type": "code",
   "execution_count": 40,
   "metadata": {
    "collapsed": false
   },
   "outputs": [
    {
     "data": {
      "text/plain": [
       "\n",
       "Parameter tuning of 'svm':\n",
       "\n",
       "- sampling method: 10-fold cross validation \n",
       "\n",
       "- best parameters:\n",
       " cost\n",
       "   10\n",
       "\n",
       "- best performance: 0.2479167 \n",
       "\n",
       "- Detailed performance results:\n",
       "          cost     error dispersion\n",
       "1   0.01000000 0.5937500 0.05713890\n",
       "2   0.01778279 0.5666667 0.03742276\n",
       "3   0.03162278 0.5291667 0.03339115\n",
       "4   0.05623413 0.4950000 0.03741245\n",
       "5   0.10000000 0.4508333 0.03267876\n",
       "6   0.17782794 0.3933333 0.03063122\n",
       "7   0.31622777 0.3508333 0.03009758\n",
       "8   0.56234133 0.3137500 0.03390994\n",
       "9   1.00000000 0.2937500 0.03442932\n",
       "10  1.77827941 0.2675000 0.02898755\n",
       "11  3.16227766 0.2600000 0.03346041\n",
       "12  5.62341325 0.2520833 0.03607102\n",
       "13 10.00000000 0.2479167 0.03174758\n"
      ]
     },
     "metadata": {},
     "output_type": "display_data"
    },
    {
     "data": {
      "text/plain": [
       "\n",
       "Call:\n",
       "svm(formula = Result ~ ., data = train, kernel = \"polynomial\", degree = 2, \n",
       "    cost = tune.poly2$best.parameter$cost)\n",
       "\n",
       "\n",
       "Parameters:\n",
       "   SVM-Type:  C-classification \n",
       " SVM-Kernel:  polynomial \n",
       "       cost:  10 \n",
       "     degree:  2 \n",
       "      gamma:  0.1 \n",
       "     coef.0:  0 \n",
       "\n",
       "Number of Support Vectors:  1341\n",
       "\n",
       " ( 439 527 281 94 )\n",
       "\n",
       "\n",
       "Number of Classes:  4 \n",
       "\n",
       "Levels: \n",
       " 0 1 2 3\n",
       "\n",
       "\n"
      ]
     },
     "metadata": {},
     "output_type": "display_data"
    }
   ],
   "source": [
    "tune.poly2 <- tune(svm, Result ~ ., \n",
    "                  data = train, \n",
    "                  kernel = \"polynomial\", \n",
    "                  degree = 2, \n",
    "                  ranges = list(cost = 10^seq(-2, 1, by = 0.25)))\n",
    "summary(tune.poly2)\n",
    "svm.poly2 <- svm(Result ~ ., \n",
    "                  kernel = \"polynomial\", \n",
    "                  degree = 2,\n",
    "                  data = train, \n",
    "                  cost = tune.poly2$best.parameter$cost)\n",
    "summary(svm.poly2)"
   ]
  },
  {
   "cell_type": "markdown",
   "metadata": {},
   "source": [
    "**Analysis of the model**\n",
    "- This SVM was the one of the slowest to be trained, due to its complex similarity function. \n",
    "- According to the CV, the optimal **cost** parameter is 10, which is between the cost of linear and radial kernels.\n",
    "- It took a total of **1341** support vectors, **439** support vectors for class 0, **527** support vectors for class 1, **281** support vectors for class 2, and **94** vectors for class 3.\n",
    "- The number of vectors for order 2 is way more than both the radial and linear kernel."
   ]
  },
  {
   "cell_type": "markdown",
   "metadata": {},
   "source": [
    "### 3.3.4 Polynomial Kernel SVM of Order 3\n",
    "\n",
    "Again, a polynomial kernel is implemented in this case with order 3, which makes it more complicated than order 2 but is more flexible in terms of identifying the decision boundary.\n",
    "\n",
    "The kernel function is\n",
    "\n",
    "$$\n",
    "K(x_i, l_i) = (1 + \\sum_{j=1}^{p}x_\\text{ij}l_\\text{ij})^3\n",
    "$$"
   ]
  },
  {
   "cell_type": "code",
   "execution_count": 41,
   "metadata": {
    "collapsed": false
   },
   "outputs": [
    {
     "data": {
      "text/plain": [
       "\n",
       "Parameter tuning of 'svm':\n",
       "\n",
       "- sampling method: 10-fold cross validation \n",
       "\n",
       "- best parameters:\n",
       " cost\n",
       "   10\n",
       "\n",
       "- best performance: 0.13375 \n",
       "\n",
       "- Detailed performance results:\n",
       "          cost     error dispersion\n",
       "1   0.01000000 0.5904167 0.12212828\n",
       "2   0.01778279 0.5216667 0.07489190\n",
       "3   0.03162278 0.4129167 0.03795760\n",
       "4   0.05623413 0.2662500 0.03358987\n",
       "5   0.10000000 0.2012500 0.02332755\n",
       "6   0.17782794 0.1633333 0.01593292\n",
       "7   0.31622777 0.1458333 0.01631575\n",
       "8   0.56234133 0.1395833 0.01995848\n",
       "9   1.00000000 0.1345833 0.02265635\n",
       "10  1.77827941 0.1370833 0.01888582\n",
       "11  3.16227766 0.1366667 0.02020344\n",
       "12  5.62341325 0.1391667 0.01610153\n",
       "13 10.00000000 0.1337500 0.01233690\n"
      ]
     },
     "metadata": {},
     "output_type": "display_data"
    },
    {
     "data": {
      "text/plain": [
       "\n",
       "Call:\n",
       "svm(formula = Result ~ ., data = train, kernel = \"polynomial\", degree = 3, \n",
       "    cost = tune.poly3$best.parameter$cost)\n",
       "\n",
       "\n",
       "Parameters:\n",
       "   SVM-Type:  C-classification \n",
       " SVM-Kernel:  polynomial \n",
       "       cost:  10 \n",
       "     degree:  3 \n",
       "      gamma:  0.1 \n",
       "     coef.0:  0 \n",
       "\n",
       "Number of Support Vectors:  827\n",
       "\n",
       " ( 222 187 369 49 )\n",
       "\n",
       "\n",
       "Number of Classes:  4 \n",
       "\n",
       "Levels: \n",
       " 0 1 2 3\n",
       "\n",
       "\n"
      ]
     },
     "metadata": {},
     "output_type": "display_data"
    }
   ],
   "source": [
    "tune.poly3 <- tune(svm, Result ~ ., \n",
    "                  data = train, \n",
    "                  kernel = \"polynomial\", \n",
    "                  degree = 3, \n",
    "                  ranges = list(cost = 10^seq(-2, 1, by = 0.25)))\n",
    "summary(tune.poly3)\n",
    "svm.poly3 <- svm(Result ~ ., \n",
    "                  kernel = \"polynomial\", \n",
    "                  degree = 3,\n",
    "                  data = train, \n",
    "                  cost = tune.poly3$best.parameter$cost)\n",
    "summary(svm.poly3)"
   ]
  },
  {
   "cell_type": "markdown",
   "metadata": {},
   "source": [
    "**Analysis of the model**\n",
    "- This SVM was the one of the slowest to be trained, due to its complex similarity function. \n",
    "- According to the CV, the optimal **cost** parameter is 10.\n",
    "- It took a total of **827** support vectors, **222** support vectors for class 0, **187** support vectors for class 1, **369** support vectors for class 2, and **49** vectors for class 3."
   ]
  },
  {
   "cell_type": "markdown",
   "metadata": {},
   "source": [
    "### 3.3.5 Polynomial SVM of Order 4\n",
    "\n",
    "The kernel function of this polynomial SVM is\n",
    "\n",
    "$$\n",
    "K(x_i, l_i) = (1 + \\sum_{j=1}^{p}x_\\text{ij}l_\\text{ij})^4\n",
    "$$"
   ]
  },
  {
   "cell_type": "code",
   "execution_count": 42,
   "metadata": {
    "collapsed": false
   },
   "outputs": [
    {
     "data": {
      "text/plain": [
       "\n",
       "Parameter tuning of 'svm':\n",
       "\n",
       "- sampling method: 10-fold cross validation \n",
       "\n",
       "- best parameters:\n",
       "     cost\n",
       " 5.623413\n",
       "\n",
       "- best performance: 0.2366667 \n",
       "\n",
       "- Detailed performance results:\n",
       "          cost     error dispersion\n",
       "1   0.01000000 0.6350000 0.05118955\n",
       "2   0.01778279 0.5716667 0.06780851\n",
       "3   0.03162278 0.5295833 0.03039414\n",
       "4   0.05623413 0.4545833 0.01938980\n",
       "5   0.10000000 0.3912500 0.02269038\n",
       "6   0.17782794 0.3512500 0.01757370\n",
       "7   0.31622777 0.3125000 0.02315741\n",
       "8   0.56234133 0.2800000 0.02551930\n",
       "9   1.00000000 0.2541667 0.02900085\n",
       "10  1.77827941 0.2529167 0.02469334\n",
       "11  3.16227766 0.2429167 0.02959670\n",
       "12  5.62341325 0.2366667 0.02797155\n",
       "13 10.00000000 0.2408333 0.02203042\n"
      ]
     },
     "metadata": {},
     "output_type": "display_data"
    },
    {
     "data": {
      "text/plain": [
       "\n",
       "Call:\n",
       "svm(formula = Result ~ ., data = train, kernel = \"polynomial\", degree = 4, \n",
       "    cost = tune.poly4$best.parameter$cost)\n",
       "\n",
       "\n",
       "Parameters:\n",
       "   SVM-Type:  C-classification \n",
       " SVM-Kernel:  polynomial \n",
       "       cost:  5.623413 \n",
       "     degree:  4 \n",
       "      gamma:  0.1 \n",
       "     coef.0:  0 \n",
       "\n",
       "Number of Support Vectors:  1651\n",
       "\n",
       " ( 404 574 580 93 )\n",
       "\n",
       "\n",
       "Number of Classes:  4 \n",
       "\n",
       "Levels: \n",
       " 0 1 2 3\n",
       "\n",
       "\n"
      ]
     },
     "metadata": {},
     "output_type": "display_data"
    }
   ],
   "source": [
    "tune.poly4 <- tune(svm, Result ~ ., \n",
    "                  data = train, \n",
    "                  kernel = \"polynomial\", \n",
    "                  degree = 4, \n",
    "                  ranges = list(cost = 10^seq(-2, 1, by = 0.25)))\n",
    "summary(tune.poly4)\n",
    "svm.poly4 <- svm(Result ~ ., \n",
    "                  kernel = \"polynomial\", \n",
    "                  degree = 4,\n",
    "                  data = train, \n",
    "                  cost = tune.poly4$best.parameter$cost)\n",
    "summary(svm.poly4)"
   ]
  },
  {
   "cell_type": "markdown",
   "metadata": {},
   "source": [
    "**Analysis of the model**\n",
    "- This SVM was the one of the slowest to be trained, due to its complex similarity function. \n",
    "- According to the CV, the optimal **cost** parameter is 0.1, which is prone to being biased.\n",
    "- It took a total of **1651** support vectors, **404** support vectors for class 0, **574** support vectors for class 1, **580** support vectors for class 2, and **93** vectors for class 3.\n",
    "\n",
    "It can be inferred then that polynomial kernels with orders 3 and 4 is not recommended in this dataset, as they do not pose any improvements on the model made with order 2."
   ]
  },
  {
   "cell_type": "markdown",
   "metadata": {},
   "source": [
    "### 3.3.6 Summary of SVM Models\n",
    "\n",
    "So far we have generated a lot of models. To determine its performance against the dataset, the training accuracy and the testing accuracy of all the models are computed, and is consolidated on a single table for easier analysis."
   ]
  },
  {
   "cell_type": "code",
   "execution_count": 43,
   "metadata": {
    "collapsed": true
   },
   "outputs": [],
   "source": [
    "# create a table that summarizes the accuracy\n",
    "# number of models made\n",
    "n <- 5\n",
    "svm.accuracies <- as.data.frame(matrix(NA,nrow=n, ncol=3))\n",
    "names(svm.accuracies) <- c('model', 'train.accuracy', 'test.accuracy')"
   ]
  },
  {
   "cell_type": "code",
   "execution_count": 44,
   "metadata": {
    "collapsed": false
   },
   "outputs": [],
   "source": [
    "##\n",
    "## Getting the training accuracy\n",
    "## and adding it to the summary table\n",
    "##\n",
    "\n",
    "i <- 1\n",
    "\n",
    "# get train prediction accuracy for the radial model\n",
    "radial.train.pred <- predict(svm.radial, train)\n",
    "radial.train.accuracy <- confusionMatrix(radial.train.pred, train[,ncol(train)])$overall['Accuracy']\n",
    "svm.accuracies[i, 'model'] <- 'SVM with radial kernel'\n",
    "svm.accuracies[i, 'train.accuracy'] <- radial.train.accuracy\n",
    "i <- i + 1\n",
    "\n",
    "# get train prediction accuracy for the linear model\n",
    "linear.train.pred <- predict(svm.linear, train)\n",
    "linear.train.accuracy <- confusionMatrix(linear.train.pred, train[,ncol(train)])$overall['Accuracy']\n",
    "svm.accuracies[i, 'model'] <- 'SVM with linear kernel'\n",
    "svm.accuracies[i, 'train.accuracy'] <- linear.train.accuracy\n",
    "i <- i + 1\n",
    "\n",
    "# get train prediction accuracy for the polynomial model\n",
    "poly2.train.pred <- predict(svm.poly2, train)\n",
    "poly2.train.accuracy <- confusionMatrix(poly2.train.pred, train[,ncol(train)])$overall['Accuracy']\n",
    "svm.accuracies[i, 'model'] <- 'SVM with polynomial kernel of order 2'\n",
    "svm.accuracies[i, 'train.accuracy'] <- poly2.train.accuracy\n",
    "i <- i + 1\n",
    "\n",
    "# get train prediction accuracy for the polynomial model\n",
    "poly3.train.pred <- predict(svm.poly3, train)\n",
    "poly3.train.accuracy <- confusionMatrix(poly3.train.pred, train[,ncol(train)])$overall['Accuracy']\n",
    "svm.accuracies[i, 'model'] <- 'SVM with polynomial kernel of order 3'\n",
    "svm.accuracies[i, 'train.accuracy'] <- poly3.train.accuracy\n",
    "i <- i + 1\n",
    "\n",
    "# get train prediction accuracy for the polynomial model\n",
    "poly4.train.pred <- predict(svm.poly4, train)\n",
    "poly4.train.accuracy <- confusionMatrix(poly4.train.pred, train[,ncol(train)])$overall['Accuracy']\n",
    "svm.accuracies[i, 'model'] <- 'SVM with polynomial kernel of order 4'\n",
    "svm.accuracies[i, 'train.accuracy'] <- poly4.train.accuracy\n",
    "i <- i + 1"
   ]
  },
  {
   "cell_type": "code",
   "execution_count": 45,
   "metadata": {
    "collapsed": false
   },
   "outputs": [],
   "source": [
    "##\n",
    "## Getting the testing accuracy\n",
    "## and adding it to the summary table\n",
    "##\n",
    "\n",
    "i <- 1\n",
    "\n",
    "# get test prediction accuracy for the radial model\n",
    "radial.test.pred <- predict(svm.radial, test)\n",
    "radial.test.accuracy <- confusionMatrix(radial.test.pred, test[,ncol(test)])$overall['Accuracy']\n",
    "svm.accuracies[i, 'test.accuracy'] <- radial.test.accuracy\n",
    "i <- i + 1\n",
    "\n",
    "# get test prediction accuracy for the linear model\n",
    "linear.test.pred <- predict(svm.linear, test)\n",
    "linear.test.accuracy <- confusionMatrix(linear.test.pred, test[,ncol(test)])$overall['Accuracy']\n",
    "svm.accuracies[i, 'test.accuracy'] <- linear.test.accuracy\n",
    "i <- i + 1\n",
    "\n",
    "# get test prediction accuracy for the polynomial model\n",
    "poly2.test.pred <- predict(svm.poly2, test)\n",
    "poly2.test.accuracy <- confusionMatrix(poly2.test.pred, test[,ncol(test)])$overall['Accuracy']\n",
    "svm.accuracies[i, 'test.accuracy'] <- poly2.test.accuracy\n",
    "i <- i + 1\n",
    "\n",
    "# get test prediction accuracy for the polynomial model\n",
    "poly3.test.pred <- predict(svm.poly3, test)\n",
    "poly3.test.accuracy <- confusionMatrix(poly3.test.pred, test[,ncol(test)])$overall['Accuracy']\n",
    "svm.accuracies[i, 'test.accuracy'] <- poly3.test.accuracy\n",
    "i <- i + 1\n",
    "\n",
    "# get test prediction accuracy for the polynomial model\n",
    "poly4.test.pred <- predict(svm.poly4, test)\n",
    "poly4.test.accuracy <- confusionMatrix(poly4.test.pred, test[,ncol(test)])$overall['Accuracy']\n",
    "svm.accuracies[i, 'test.accuracy'] <- poly4.test.accuracy\n",
    "i <- i + 1"
   ]
  },
  {
   "cell_type": "code",
   "execution_count": 46,
   "metadata": {
    "collapsed": false
   },
   "outputs": [
    {
     "data": {
      "text/html": [
       "<table>\n",
       "<thead><tr><th scope=col>model</th><th scope=col>train.accuracy</th><th scope=col>test.accuracy</th></tr></thead>\n",
       "<tbody>\n",
       "\t<tr><td>SVM with radial kernel               </td><td>0.9991667                            </td><td>0.9833333                            </td></tr>\n",
       "\t<tr><td>SVM with linear kernel               </td><td>0.9995833                            </td><td>1.0000000                            </td></tr>\n",
       "\t<tr><td>SVM with polynomial kernel of order 2</td><td>0.7900000                            </td><td>0.7750000                            </td></tr>\n",
       "\t<tr><td>SVM with polynomial kernel of order 3</td><td>0.9679167                            </td><td>0.8950000                            </td></tr>\n",
       "\t<tr><td>SVM with polynomial kernel of order 4</td><td>0.9454167                            </td><td>0.7883333                            </td></tr>\n",
       "</tbody>\n",
       "</table>\n"
      ],
      "text/latex": [
       "\\begin{tabular}{r|lll}\n",
       " model & train.accuracy & test.accuracy\\\\\n",
       "\\hline\n",
       "\t SVM with radial kernel                & 0.9991667                             & 0.9833333                            \\\\\n",
       "\t SVM with linear kernel                & 0.9995833                             & 1.0000000                            \\\\\n",
       "\t SVM with polynomial kernel of order 2 & 0.7900000                             & 0.7750000                            \\\\\n",
       "\t SVM with polynomial kernel of order 3 & 0.9679167                             & 0.8950000                            \\\\\n",
       "\t SVM with polynomial kernel of order 4 & 0.9454167                             & 0.7883333                            \\\\\n",
       "\\end{tabular}\n"
      ],
      "text/markdown": [
       "\n",
       "model | train.accuracy | test.accuracy | \n",
       "|---|---|---|---|---|\n",
       "| SVM with radial kernel                | 0.9991667                             | 0.9833333                             | \n",
       "| SVM with linear kernel                | 0.9995833                             | 1.0000000                             | \n",
       "| SVM with polynomial kernel of order 2 | 0.7900000                             | 0.7750000                             | \n",
       "| SVM with polynomial kernel of order 3 | 0.9679167                             | 0.8950000                             | \n",
       "| SVM with polynomial kernel of order 4 | 0.9454167                             | 0.7883333                             | \n",
       "\n",
       "\n"
      ],
      "text/plain": [
       "  model                                 train.accuracy test.accuracy\n",
       "1 SVM with radial kernel                0.9991667      0.9833333    \n",
       "2 SVM with linear kernel                0.9995833      1.0000000    \n",
       "3 SVM with polynomial kernel of order 2 0.7900000      0.7750000    \n",
       "4 SVM with polynomial kernel of order 3 0.9679167      0.8950000    \n",
       "5 SVM with polynomial kernel of order 4 0.9454167      0.7883333    "
      ]
     },
     "metadata": {},
     "output_type": "display_data"
    }
   ],
   "source": [
    "# display the summary of accuracies\n",
    "svm.accuracies"
   ]
  },
  {
   "cell_type": "code",
   "execution_count": 47,
   "metadata": {
    "collapsed": false
   },
   "outputs": [
    {
     "name": "stdout",
     "output_type": "stream",
     "text": [
      "\n",
      "Best SVM model: SVM with linear kernel"
     ]
    },
    {
     "data": {
      "text/html": [
       "<table>\n",
       "<thead><tr><th></th><th scope=col>model</th><th scope=col>train.accuracy</th><th scope=col>test.accuracy</th></tr></thead>\n",
       "<tbody>\n",
       "\t<tr><th scope=row>2</th><td>SVM with linear kernel</td><td>0.9995833             </td><td>1                     </td></tr>\n",
       "</tbody>\n",
       "</table>\n"
      ],
      "text/latex": [
       "\\begin{tabular}{r|lll}\n",
       "  & model & train.accuracy & test.accuracy\\\\\n",
       "\\hline\n",
       "\t2 & SVM with linear kernel & 0.9995833              & 1                     \\\\\n",
       "\\end{tabular}\n"
      ],
      "text/markdown": [
       "\n",
       "| <!--/--> | model | train.accuracy | test.accuracy | \n",
       "|---|\n",
       "| 2 | SVM with linear kernel | 0.9995833              | 1                      | \n",
       "\n",
       "\n"
      ],
      "text/plain": [
       "  model                  train.accuracy test.accuracy\n",
       "2 SVM with linear kernel 0.9995833      1            "
      ]
     },
     "metadata": {},
     "output_type": "display_data"
    }
   ],
   "source": [
    "bestSVM <- svm.accuracies[svm.accuracies$test.accuracy == max(svm.accuracies$test.accuracy),]$model\n",
    "cat(\"\\nBest SVM model:\", bestSVM)\n",
    "\n",
    "svm.accuracies[svm.accuracies$test.accuracy == max(svm.accuracies$test.accuracy),]"
   ]
  },
  {
   "cell_type": "markdown",
   "metadata": {},
   "source": [
    "**Analysis of model performance**\n",
    "- The SVM with **radial kernel** and **linear kernel** were very good and powerful in determining the actual decision boundary. Both kernels almost got all the training observations right, which might suggest overfitting, but it also got high test accuracies, which tells that the model was very robust and was able to generalize well. \n",
    "- Both high test and train accuracies may be because of the large data size. More data means better performance. \n",
    "- Based on the accuracies (and the computation complexity), the **SVM with linear kernel** is a good model to the data. It has very high accuracy and does not take long to train."
   ]
  },
  {
   "cell_type": "markdown",
   "metadata": {},
   "source": [
    "## 3.4 Neural Networks\n",
    "\n",
    "Note: Materials used in this section are based from FIT 5201: Data Analysis Algorithms lecture notes.\n",
    "\n",
    "**Neural Networks** is another popular model for classification. Like SVM, it is also good at detecting non-linear decision boundaries. It is made up of a collection of neurons on multiple layers that may be used to enhance the feature space like SVM through the use of **activation functions**.\n",
    "\n",
    "A basic neuron is made up of a collection of inputs $x_0, x_1, x_2, ..., x_j$ that goes through an *activation function* $h_\\text{w,b}$ whose results are placed as another input to another neuron or the final output of the network. It is robust because Neural Networks can produce non-linear hidden units that enhances the feature space. One of the most popular activation function is the **logistic function** $\\sigma(z)$ which is also featured in Logistic Regression.\n",
    "\n",
    "$$\n",
    "\\sigma(z) = \\frac{1}{1 + e^{-z}}\n",
    "$$\n",
    "\n",
    "Another popular activation function is the **tanh** function\n",
    "\n",
    "$$\n",
    "\\text{tanh}(z) = \\frac{e^z - e^{-z}}{e^z + e^{-z}}\n",
    "$$\n",
    "\n",
    "where z is the total weighted sum of the inputs\n",
    "\n",
    "$$\n",
    "z^{(l)} = \\sum_{j=1}^{n}W_\\text{ij}^{(l-1)}x_j + b_i^{(l-1)}\n",
    "$$\n",
    "\n",
    "These non-linear activation functions make it possible to detect non-linearities.\n",
    "\n",
    "Neural Networks are parameterized by the weights $W_\\text{ij}^{(l)}$ and the bias terms $b_i$ of the neuron $i$ with respect to input $j$ of the layer $l$.   \n",
    "\n",
    "To implement Neural Networks in R, an external library called `h2o` is used. This library is a fast and scalable Machine Learning API that is popular among Data Scientist for being open-source. The installation options can be found <a href=\"http://h2o-release.s3.amazonaws.com/h2o/rel-weierstrass/6/index.html\">here</a> (it's not just a simple `install.package()` call, unfortunately)."
   ]
  },
  {
   "cell_type": "code",
   "execution_count": 48,
   "metadata": {
    "collapsed": false
   },
   "outputs": [
    {
     "name": "stdout",
     "output_type": "stream",
     "text": [
      " Connection successful!\n",
      "\n",
      "R is connected to the H2O cluster: \n",
      "    H2O cluster uptime:         17 minutes 46 seconds \n",
      "    H2O cluster version:        3.15.0.4046 \n",
      "    H2O cluster version age:    13 days  \n",
      "    H2O cluster name:           mrkjse \n",
      "    H2O cluster total nodes:    1 \n",
      "    H2O cluster total memory:   3.52 GB \n",
      "    H2O cluster total cores:    4 \n",
      "    H2O cluster allowed cores:  4 \n",
      "    H2O cluster healthy:        TRUE \n",
      "    H2O Connection ip:          localhost \n",
      "    H2O Connection port:        54321 \n",
      "    H2O Connection proxy:       NA \n",
      "    H2O Internal Security:      FALSE \n",
      "    H2O API Extensions:         Algos, AutoML, Core V3, Core V4 \n",
      "    R Version:                  R version 3.3.2 (2016-10-31) \n",
      "\n"
     ]
    }
   ],
   "source": [
    "# just a simple Neural Network using the h2o library\n",
    "\n",
    "# initialise h2o instance\n",
    "localH2O <- h2o.init(nthreads = -1, port = 54321, startH2O = FALSE, max_mem_size = '6G', strict_version_check = FALSE)"
   ]
  },
  {
   "cell_type": "markdown",
   "metadata": {},
   "source": [
    "**Implementing a Neural Network**\n",
    "\n",
    "To train a Neural Network in `h2o`, the function `deeplearning()` is used. The parameters are self-explanatory, but those specific to neural networks are `hidden`, which indicates the number of hidden layers and their neurons (eg. hidden = c(100, 200, 100) means 3 hidden layers with the first and third hidden layer having 100 neurons while the second has 200). The activation function which can be `Sigmoid` or `Tanh`, `autoencoder` which is set to FALSE, and a regularizer `l2`.\n",
    "\n",
    "In here I tested 10 different Neural Network models of varying hidden layer neurons from 100 to 1000 and recorded both their training and testing accuracies."
   ]
  },
  {
   "cell_type": "code",
   "execution_count": 49,
   "metadata": {
    "collapsed": false
   },
   "outputs": [
    {
     "name": "stdout",
     "output_type": "stream",
     "text": [
      "  |======================================================================| 100%\n",
      "  |======================================================================| 100%\n",
      "  |======================================================================| 100%\n",
      "  |======================================================================| 100%\n",
      "  |======================================================================| 100%\n",
      "  |======================================================================| 100%\n",
      "  |======================================================================| 100%\n",
      "  |======================================================================| 100%\n",
      "  |======================================================================| 100%\n",
      "  |======================================================================| 100%\n",
      "  |======================================================================| 100%\n",
      "  |======================================================================| 100%\n",
      "  |======================================================================| 100%\n",
      "  |======================================================================| 100%\n",
      "  |======================================================================| 100%\n",
      "  |======================================================================| 100%\n",
      "  |======================================================================| 100%\n",
      "  |======================================================================| 100%\n",
      "  |======================================================================| 100%\n",
      "  |======================================================================| 100%\n",
      "  |======================================================================| 100%\n",
      "  |======================================================================| 100%\n",
      "  |======================================================================| 100%\n",
      "  |======================================================================| 100%\n",
      "  |======================================================================| 100%\n",
      "  |======================================================================| 100%\n",
      "  |======================================================================| 100%\n",
      "  |======================================================================| 100%\n",
      "  |======================================================================| 100%\n",
      "  |======================================================================| 100%\n",
      "  |======================================================================| 100%\n",
      "  |======================================================================| 100%\n"
     ]
    }
   ],
   "source": [
    "nn.train <- as.h2o(train)\n",
    "nn.test <- as.h2o(test)\n",
    "K <- seq(100, 1000, 100)\n",
    "\n",
    "nn.accuracies <- as.data.frame(matrix(NA,nrow=length(K), ncol=3))\n",
    "names(nn.accuracies) <- c('k', 'train.accuracy', 'test.accuracy')\n",
    "i <- 1\n",
    "\n",
    "set.seed(1234)\n",
    "options(warn=-1)\n",
    "for (k in K){\n",
    "    nn.model <- h2o.deeplearning(    \n",
    "          x = 1:(ncol(train) - 1), # select the feature space\n",
    "          y = ncol(train), # select the result\n",
    "          training_frame = nn.train, # specify the frame     \n",
    "          hidden = c(k), # number of layers and their units\n",
    "          epochs = 50, # maximum number of iteration \n",
    "          activation = 'Tanh', # activation function \n",
    "          autoencoder = FALSE, # is it an autoencoder? No\n",
    "          l2 = 0.1 )\n",
    "\n",
    "    nn.trainPredict <- h2o.predict(nn.model, nn.train)$predict\n",
    "    nn.testPredict <- h2o.predict(nn.model, nn.test)$predict\n",
    "    \n",
    "    nn.trainAccuracy <- confusionMatrix(as.data.frame(nn.trainPredict)[,1], train[,ncol(train)])$overall['Accuracy']\n",
    "    nn.testAccuracy <- confusionMatrix(as.data.frame(nn.testPredict)[,1], test[,ncol(test)])$overall['Accuracy']\n",
    "    \n",
    "    nn.accuracies[i, 'k'] <- k\n",
    "    nn.accuracies[i, 'train.accuracy'] <- nn.trainAccuracy\n",
    "    nn.accuracies[i, 'test.accuracy'] <- nn.testAccuracy\n",
    "    i <- i + 1\n",
    "\n",
    "}\n",
    "options(warn=0)"
   ]
  },
  {
   "cell_type": "markdown",
   "metadata": {},
   "source": [
    "#### Summary of Neural Network Models\n",
    "\n",
    "The Neural Network models are laid out on the suceeding cells. "
   ]
  },
  {
   "cell_type": "code",
   "execution_count": 50,
   "metadata": {
    "collapsed": false
   },
   "outputs": [
    {
     "name": "stdout",
     "output_type": "stream",
     "text": [
      "Neural Network Accuracies"
     ]
    },
    {
     "data": {
      "text/html": [
       "<table>\n",
       "<thead><tr><th scope=col>k</th><th scope=col>train.accuracy</th><th scope=col>test.accuracy</th></tr></thead>\n",
       "<tbody>\n",
       "\t<tr><td> 100     </td><td>0.8233333</td><td>0.8333333</td></tr>\n",
       "\t<tr><td> 200     </td><td>0.8379167</td><td>0.8466667</td></tr>\n",
       "\t<tr><td> 300     </td><td>0.8504167</td><td>0.8583333</td></tr>\n",
       "\t<tr><td> 400     </td><td>0.8250000</td><td>0.8383333</td></tr>\n",
       "\t<tr><td> 500     </td><td>0.8220833</td><td>0.8416667</td></tr>\n",
       "\t<tr><td> 600     </td><td>0.8650000</td><td>0.8766667</td></tr>\n",
       "\t<tr><td> 700     </td><td>0.8100000</td><td>0.8300000</td></tr>\n",
       "\t<tr><td> 800     </td><td>0.8595833</td><td>0.8666667</td></tr>\n",
       "\t<tr><td> 900     </td><td>0.8545833</td><td>0.8666667</td></tr>\n",
       "\t<tr><td>1000     </td><td>0.8237500</td><td>0.8383333</td></tr>\n",
       "</tbody>\n",
       "</table>\n"
      ],
      "text/latex": [
       "\\begin{tabular}{r|lll}\n",
       " k & train.accuracy & test.accuracy\\\\\n",
       "\\hline\n",
       "\t  100      & 0.8233333 & 0.8333333\\\\\n",
       "\t  200      & 0.8379167 & 0.8466667\\\\\n",
       "\t  300      & 0.8504167 & 0.8583333\\\\\n",
       "\t  400      & 0.8250000 & 0.8383333\\\\\n",
       "\t  500      & 0.8220833 & 0.8416667\\\\\n",
       "\t  600      & 0.8650000 & 0.8766667\\\\\n",
       "\t  700      & 0.8100000 & 0.8300000\\\\\n",
       "\t  800      & 0.8595833 & 0.8666667\\\\\n",
       "\t  900      & 0.8545833 & 0.8666667\\\\\n",
       "\t 1000      & 0.8237500 & 0.8383333\\\\\n",
       "\\end{tabular}\n"
      ],
      "text/markdown": [
       "\n",
       "k | train.accuracy | test.accuracy | \n",
       "|---|---|---|---|---|---|---|---|---|---|\n",
       "|  100      | 0.8233333 | 0.8333333 | \n",
       "|  200      | 0.8379167 | 0.8466667 | \n",
       "|  300      | 0.8504167 | 0.8583333 | \n",
       "|  400      | 0.8250000 | 0.8383333 | \n",
       "|  500      | 0.8220833 | 0.8416667 | \n",
       "|  600      | 0.8650000 | 0.8766667 | \n",
       "|  700      | 0.8100000 | 0.8300000 | \n",
       "|  800      | 0.8595833 | 0.8666667 | \n",
       "|  900      | 0.8545833 | 0.8666667 | \n",
       "| 1000      | 0.8237500 | 0.8383333 | \n",
       "\n",
       "\n"
      ],
      "text/plain": [
       "   k    train.accuracy test.accuracy\n",
       "1   100 0.8233333      0.8333333    \n",
       "2   200 0.8379167      0.8466667    \n",
       "3   300 0.8504167      0.8583333    \n",
       "4   400 0.8250000      0.8383333    \n",
       "5   500 0.8220833      0.8416667    \n",
       "6   600 0.8650000      0.8766667    \n",
       "7   700 0.8100000      0.8300000    \n",
       "8   800 0.8595833      0.8666667    \n",
       "9   900 0.8545833      0.8666667    \n",
       "10 1000 0.8237500      0.8383333    "
      ]
     },
     "metadata": {},
     "output_type": "display_data"
    },
    {
     "name": "stdout",
     "output_type": "stream",
     "text": [
      "\n",
      "Best K: 600"
     ]
    },
    {
     "data": {
      "text/html": [
       "<table>\n",
       "<thead><tr><th></th><th scope=col>k</th><th scope=col>train.accuracy</th><th scope=col>test.accuracy</th></tr></thead>\n",
       "<tbody>\n",
       "\t<tr><th scope=row>6</th><td>600      </td><td>0.865    </td><td>0.8766667</td></tr>\n",
       "</tbody>\n",
       "</table>\n"
      ],
      "text/latex": [
       "\\begin{tabular}{r|lll}\n",
       "  & k & train.accuracy & test.accuracy\\\\\n",
       "\\hline\n",
       "\t6 & 600       & 0.865     & 0.8766667\\\\\n",
       "\\end{tabular}\n"
      ],
      "text/markdown": [
       "\n",
       "| <!--/--> | k | train.accuracy | test.accuracy | \n",
       "|---|\n",
       "| 6 | 600       | 0.865     | 0.8766667 | \n",
       "\n",
       "\n"
      ],
      "text/plain": [
       "  k   train.accuracy test.accuracy\n",
       "6 600 0.865          0.8766667    "
      ]
     },
     "metadata": {},
     "output_type": "display_data"
    }
   ],
   "source": [
    "cat(\"Neural Network Accuracies\")\n",
    "nn.accuracies\n",
    "\n",
    "bestK <- nn.accuracies[nn.accuracies$test.accuracy == max(nn.accuracies$test.accuracy),]$k\n",
    "cat(\"\\nBest K:\", bestK)\n",
    "\n",
    "nn.accuracies[nn.accuracies$test.accuracy == max(nn.accuracies$test.accuracy),][1,]"
   ]
  },
  {
   "cell_type": "markdown",
   "metadata": {},
   "source": [
    "**Analysis of the models**\n",
    "- The Neural Network models work fine even at `hidden = 100`, with both training and testing accuracies above **80%**, a very impressive performance. \n",
    "- Because we used an external API, the training time was faster compared to most SVM models, but SVM with linear kernel is still faster.\n",
    "- Based from the accuracies, the best model is the Neural Network with **600 hidden layer neurons**. However, as the performance of all the models do not deviate much from each other, it is better to pick the Neural Network with **300 hidden layer neurons** because its performance is pretty close to the best model and is simplier."
   ]
  },
  {
   "cell_type": "markdown",
   "metadata": {},
   "source": [
    "# 4. Summary of the Classification Models "
   ]
  },
  {
   "cell_type": "markdown",
   "metadata": {},
   "source": [
    "Here is a consolidation of the best models created using different classifiers. There were a total of **23 models** trained and analysed, and the best **4 models** were evaluated below.\n",
    "\n",
    "To recap, the classification model types are:\n",
    "\n",
    "1. Naive Bayes\n",
    "2. Random Forest\n",
    "3. SVM\n",
    "4. Neural Network\n",
    "\n",
    "The analysis of the performance of the classifiers will be discussed in this section. The following cell creates a nice table that displays the best 4 models as indicated above."
   ]
  },
  {
   "cell_type": "code",
   "execution_count": 51,
   "metadata": {
    "collapsed": false
   },
   "outputs": [
    {
     "name": "stdout",
     "output_type": "stream",
     "text": [
      "Summary of the Models Created\n",
      "\n"
     ]
    },
    {
     "data": {
      "text/html": [
       "<table>\n",
       "<thead><tr><th scope=col>model</th><th scope=col>train.accuracy</th><th scope=col>test.accuracy</th></tr></thead>\n",
       "<tbody>\n",
       "\t<tr><td>Naive Bayes Classifier </td><td>0.7941667              </td><td>0.7733333              </td></tr>\n",
       "\t<tr><td>Random Forest          </td><td>1.0000000              </td><td>0.7966667              </td></tr>\n",
       "\t<tr><td>Support Vector Machines</td><td>0.9995833              </td><td>1.0000000              </td></tr>\n",
       "\t<tr><td>Neural Network         </td><td>0.8766667              </td><td>0.8650000              </td></tr>\n",
       "</tbody>\n",
       "</table>\n"
      ],
      "text/latex": [
       "\\begin{tabular}{r|lll}\n",
       " model & train.accuracy & test.accuracy\\\\\n",
       "\\hline\n",
       "\t Naive Bayes Classifier  & 0.7941667               & 0.7733333              \\\\\n",
       "\t Random Forest           & 1.0000000               & 0.7966667              \\\\\n",
       "\t Support Vector Machines & 0.9995833               & 1.0000000              \\\\\n",
       "\t Neural Network          & 0.8766667               & 0.8650000              \\\\\n",
       "\\end{tabular}\n"
      ],
      "text/markdown": [
       "\n",
       "model | train.accuracy | test.accuracy | \n",
       "|---|---|---|---|\n",
       "| Naive Bayes Classifier  | 0.7941667               | 0.7733333               | \n",
       "| Random Forest           | 1.0000000               | 0.7966667               | \n",
       "| Support Vector Machines | 0.9995833               | 1.0000000               | \n",
       "| Neural Network          | 0.8766667               | 0.8650000               | \n",
       "\n",
       "\n"
      ],
      "text/plain": [
       "  model                   train.accuracy test.accuracy\n",
       "1 Naive Bayes Classifier  0.7941667      0.7733333    \n",
       "2 Random Forest           1.0000000      0.7966667    \n",
       "3 Support Vector Machines 0.9995833      1.0000000    \n",
       "4 Neural Network          0.8766667      0.8650000    "
      ]
     },
     "metadata": {},
     "output_type": "display_data"
    }
   ],
   "source": [
    "# generate a summary table of the best four models per classification method\n",
    "cat(\"Summary of the Models Created\\n\\n\")\n",
    "final.accuracies <- as.data.frame(matrix(NA,nrow=4, ncol=3))\n",
    "names(final.accuracies) <- c('model', 'train.accuracy', 'test.accuracy')\n",
    "i <- 1\n",
    "\n",
    "final.accuracies[i, 'model'] <- 'Naive Bayes Classifier'\n",
    "final.accuracies[i, 'train.accuracy'] <- naiveBayes.trainAccuracy\n",
    "final.accuracies[i, 'test.accuracy'] <- naiveBayes.testAccuracy\n",
    "i <- i + 1\n",
    "\n",
    "final.accuracies[i, 'model'] <- 'Random Forest'\n",
    "final.accuracies[i, 'train.accuracy'] <- rf.accuracies[rf.accuracies$test.accuracy == max(rf.accuracies$test.accuracy),]$train.accuracy\n",
    "final.accuracies[i, 'test.accuracy'] <- rf.accuracies[rf.accuracies$test.accuracy == max(rf.accuracies$test.accuracy),]$test.accuracy\n",
    "i <- i + 1\n",
    "\n",
    "final.accuracies[i, 'model'] <- 'Support Vector Machines'\n",
    "final.accuracies[i, 'train.accuracy'] <- svm.accuracies[svm.accuracies$test.accuracy == max(svm.accuracies$test.accuracy),]$train.accuracy\n",
    "final.accuracies[i, 'test.accuracy'] <- svm.accuracies[svm.accuracies$test.accuracy == max(svm.accuracies$test.accuracy),]$test.accuracy\n",
    "i <- i + 1\n",
    "\n",
    "final.accuracies[i, 'model'] <- 'Neural Network'\n",
    "final.accuracies[i, 'train.accuracy'] <- nn.accuracies[nn.accuracies$test.accuracy == max(nn.accuracies$test.accuracy),][1,]$test.accuracy\n",
    "final.accuracies[i, 'test.accuracy'] <- nn.accuracies[nn.accuracies$test.accuracy == max(nn.accuracies$test.accuracy),][1,]$train.accuracy\n",
    "\n",
    "final.accuracies"
   ]
  },
  {
   "cell_type": "markdown",
   "metadata": {},
   "source": [
    "In general, all models performed quite well on the data, with the minimum test accuracy at **77%** and the maximum at **100%**.\n",
    "\n",
    "Before deriving which is the *best* model, let us examine each of their characteristics.\n",
    "\n",
    "1. **Naive Bayes**\n",
    "<br/>**PROs:** Good for small training datasets. Less prone to overfitting. Fast to train. Will generally perform on a par with advanced classifiers if the dataset is large.\n",
    "<br/>**CONs:** Assumes all features are independent. Too simplistic look at the data. May suffer from high bias\n",
    "<br/>**Use this for:** If you are sure that the data features are independent from each other; if the number of observations are less than the number of features; or you just want a *classifier-on-the-go* that's fast to implement.\n",
    "<br/><br/><br/>\n",
    "2. **Random Forest**\n",
    "<br/>**PROs**: Decision trees easier to interpret. Can give an insight on variable importance. Can easily handle qualitative features. Handles bias-variance tradeoff very well (due to bootstrapping and feature selection)\n",
    "<br/>**CONs**: Not as robust as other methods. Random forest can take a long execution time but still underperform compared to SVM and NN.\n",
    "<br/>**Use this for:** If you want to create a model that is easy to interpret, or if your dataset has a lot of qualitative features and has a non-linear decision boundary.\n",
    "<br/><br/><br/>\n",
    "3. **SVM**\n",
    "<br/>**PROs**: The *in*, the *popular*, some say it's the *best* (most of the time). SVMs are very robust due to a variety of kernels that may be used to detect various decision boundaries. Does not need a lot of parameters to train (just the `cost` for starters). As an optimisation problem, always arrives at the global minimum.\n",
    "<br/>**CONs**: It is really hard to interpret and takes quite a while to train.\n",
    "<br/>**Use this for:** If you believe the *end justifies the means* i.e. you just want the most robust results, never mind the computational cost. If your dataset looks very, very complex, then it might be better to try this one first then try the simplier models later. Do note that SVMs can still underperform in some scenarios (no free lunch!).\n",
    "<br/><br/><br/>\n",
    "4. **Neural Network**\n",
    "<br/>**PROs**: Also *popular*. Also *in*. This is also very robust, and can be applied to a wide range of classification problems, no matter how complex the decision boundary is. Can learn from any data structure (images, music, speech, text, you name it). \n",
    "<br/>**CONs**: Also hard to interpret and still takes a while to train. As an optimisation problem, is said to get stuck at a local minima. Not as robust as SVMs.\n",
    "<br/>**Use ths for:** Comparable to SVMs, use this if you want a robust classifier and does not care about the computational cost. Opt this if your dataset is non-structured. This gets the job done more often than not.\n",
    "\n",
    "\n",
    "In picking the best model for this dataset, **based on accuracy**, <u>SVM</u> is the best. However, if you take into account **the bias-variance trade-off**, I would pick <u>Neural Networks</u> just because it does not seem to overfit the training data. If I want a **more interpretable model**, I would go for <u>Random Forests</u>, but if I want a **simple *and* interpretable model**, I would go for the <u>Naive Bayes</u>.\n"
   ]
  },
  {
   "cell_type": "markdown",
   "metadata": {},
   "source": [
    "# 5. Conclusion\n",
    "\n",
    "This notebook is an example on how to create a complete data analysis task to classify prostrate cancer stages. Results show that the chosen models used for classification perform well enough over the dataset, and the model should be chosen based on a variety of factors. The data analysis task are as follows:\n",
    "\n",
    "1. **Exploratory Data Analysis** - Before doing any data modelling, it is important to perform EDA. This involves parsing the data correctly, cleaning it for any erroneous observations, checking basic statistics like the central tendency measures and the distribution, analysing the outliers, and detecting the relationships of the variables in the data.\n",
    "\n",
    "2. **Regression for Imputation** - Regression is used to predict quantitative variables. It is important that the regression models are regularized to prevent overfitting.\n",
    "\n",
    "3. **Prostrate Cancer Classification** - Several models were analyzed to check which one is the most appropriate classifier. It is important to choose your models carefully depending on the nature of the data and certain limitations like machine capabilities, and to always, always create several models for comparison.\n",
    "\n",
    "4. **Use of Resampling and Cross Validation** - Throughout the whole notebook resampling methods like bootstrapping and cross validation are used to prevent the models from underfitting or overfitting the data.\n",
    "\n",
    "5. **Documentation and Analysis** - The methods above will not matter much if the documentation of the code, analysis of the results, and justification of the steps are lacking. Being able to interpret and analyse your data correctly is half of what it takes to be a Data Scientist.\n",
    "\n",
    "# 6. References Used\n",
    "\n",
    "1. Stack Exchange Inc. (2017). *Neural networks vs support vector machines: are the second definitely superior?*. Retrieved from Cross Validated: https://stats.stackexchange.com/questions/30042/neural-networks-vs-support-vector-machines-are-the-second-definitely-superior.\n",
    "2. James, G. et al. (2017). *An Introduction to Statistical Learning with Applications in R.* Springer Science+Business Media, New York.\n",
    "3. Lecture notes from both FIT 5149 (made by Prof. R. Amarasiri) and FIT 5201 (made by Prof. Y. Kang, Prof. R. Amarasiri, and Prof. G. Haffari). (2017). Faculty of Information Technology, Monash University, Melbourne.\n",
    "4. Ng, A. (2017). *Machine Learning.* Retrieved from Coursera: https://www.coursera.org/learn/machine-learning."
   ]
  }
 ],
 "metadata": {
  "kernelspec": {
   "display_name": "R",
   "language": "R",
   "name": "ir"
  },
  "language_info": {
   "codemirror_mode": "r",
   "file_extension": ".r",
   "mimetype": "text/x-r-source",
   "name": "R",
   "pygments_lexer": "r",
   "version": "3.3.2"
  }
 },
 "nbformat": 4,
 "nbformat_minor": 2
}
