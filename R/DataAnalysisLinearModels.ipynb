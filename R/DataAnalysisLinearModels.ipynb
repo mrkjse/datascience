{
 "cells": [
  {
   "cell_type": "markdown",
   "metadata": {},
   "source": [
    "# Exploring and Analysing House Pricing Data\n",
    "\n",
    "Date:  18 Aug 2017 \n",
    " \n",
    "Version: 1\n",
    "\n",
    "Environment: R 3.3.2 and Jupyter notebook\n",
    "\n",
    "\n",
    "## Introduction\n",
    "This notebook  deals about **Exploratory Data Analysis** and **Linear Regression**. This includes reading and parsing CSV Files, determining and analyzing different variables in the dataset, finding statistics and relationship between variables, and finally creating a robust model in order to predict an unknown or future (target) value by using Linear Regression.\n",
    "\n",
    "**Exploratory Data Analysis** is an important part of the Data Science Process. It  enables data scientists to familiarize themselves with the data they are going to work with in order to know the best approach in data analysis. Usually, it is under the umbrella of **Data Wrangling**, which is considered the most crucial part of Data Science--since the values derived from analyzing the data is wasted if the underlying data has not been cleaned and pre-processed properly.\n",
    "\n",
    "**Linear Regression** is one of the classical approaches to supervised learning. It is used to predict a continuous output from a set of both quantitative and qualitative inputs by assuming a linear relationship between them. As it is one of the basic ways of modelling for data analysis, mastering how to implement it is vital for someone aspiring to be a Data Scientist.\n",
    "\n",
    "The **data used** is a CSV file that resembles a table of house prices from May 2014 to May 2015. The data will be further described in the following exploratory data analysis. Linear regression will be used to predict house prices from the set of features.\n",
    "\n",
    "\n",
    "## Contents\n",
    "1. Importing the Data\n",
    "2. Exploratory Data Analysis\n",
    "    <br/>2.1 Enumerating variables and determining variable type\n",
    "    <br/>2.2 Finding statistics per variable (to determine the distribution of values)\n",
    "    <br/>2.3 Performing pictorial representations per variable\n",
    "    <br/>2.4 Determining outliers and other possible issues\n",
    "    <br/>2.5 Determining any association between variables\n",
    "3. Linear Regression\n",
    "    <br/>3.1 Checking the relationship between the input variables and the target variables\n",
    "    <br/>3.2 Determining how strong the relationship is\n",
    "    <br/>3.3 Filtering irrelevant input variables\n",
    "    <br/>3.4 Checking for the synergy among the input variables\n",
    "    <br/>3.5 Checking the linearity (or non-linearity) of the relationship\n",
    "4. Testing and Validation\n",
    "5. Conclusion"
   ]
  },
  {
   "cell_type": "code",
   "execution_count": 1,
   "metadata": {
    "collapsed": false
   },
   "outputs": [
    {
     "data": {
      "text/plain": [
       "R version 3.3.2 (2016-10-31)\n",
       "Platform: x86_64-w64-mingw32/x64 (64-bit)\n",
       "Running under: Windows 10 x64 (build 15063)\n",
       "\n",
       "locale:\n",
       "[1] LC_COLLATE=English_Australia.1252  LC_CTYPE=English_Australia.1252   \n",
       "[3] LC_MONETARY=English_Australia.1252 LC_NUMERIC=C                      \n",
       "[5] LC_TIME=English_Australia.1252    \n",
       "\n",
       "attached base packages:\n",
       "[1] stats     graphics  grDevices utils     datasets  methods   base     \n",
       "\n",
       "loaded via a namespace (and not attached):\n",
       " [1] R6_2.2.2            magrittr_1.5        IRdisplay_0.4.4    \n",
       " [4] pbdZMQ_0.2-6        tools_3.3.2         crayon_1.3.2       \n",
       " [7] uuid_0.1-2          stringi_1.1.5       IRkernel_0.8.7.9000\n",
       "[10] jsonlite_1.5        stringr_1.2.0       digest_0.6.12      \n",
       "[13] repr_0.12.0         evaluate_0.10.1    "
      ]
     },
     "metadata": {},
     "output_type": "display_data"
    }
   ],
   "source": [
    "# information about the R kernel and machine used\n",
    "sessionInfo()"
   ]
  },
  {
   "cell_type": "code",
   "execution_count": 2,
   "metadata": {
    "collapsed": false
   },
   "outputs": [
    {
     "name": "stderr",
     "output_type": "stream",
     "text": [
      "Warning message:\n",
      "\"package 'psych' was built under R version 3.3.3\"Warning message:\n",
      "\"package 'plyr' was built under R version 3.3.3\"Warning message:\n",
      "\"package 'ggplot2' was built under R version 3.3.3\"\n",
      "Attaching package: 'ggplot2'\n",
      "\n",
      "The following objects are masked from 'package:psych':\n",
      "\n",
      "    %+%, alpha\n",
      "\n",
      "Warning message:\n",
      "\"package 'gridExtra' was built under R version 3.3.3\"Warning message:\n",
      "\"package 'car' was built under R version 3.3.3\"\n",
      "Attaching package: 'car'\n",
      "\n",
      "The following object is masked from 'package:psych':\n",
      "\n",
      "    logit\n",
      "\n"
     ]
    }
   ],
   "source": [
    "# import libraries\n",
    "library(psych)\n",
    "library(plyr)\n",
    "library(ggplot2)\n",
    "library(gridExtra)\n",
    "library(car)"
   ]
  },
  {
   "cell_type": "markdown",
   "metadata": {},
   "source": [
    "## 1. Importing the Data\n",
    "\n",
    "This part comprises the following tasks:\n",
    "1. Reading that 'training.csv' CSV file into R\n",
    "2. Converting the 'training.csv' CSV file into a dataframe\n",
    "3. Initial Exploration of the data\n",
    "\n",
    "### 1.1 Data Description\n",
    "\n",
    "The data includes housing sales record of an unspecified location from May 2014 to May 2015. Based from the zipcodes, they might be from Washington, USA. In it includes the following information:\n",
    "\n",
    "1. **id** - unique ID for each home sold\n",
    "2. **price** - the price of each home sold (*assumed* to be in US Dollars)\n",
    "3. **bedrooms** - the number of bedrooms of the property (in whole numbers)\n",
    "4. **bathrooms** - the number of bathrooms of the property (may be a whole number or with decimals .25, .50, or .75 which indicate the proportion of toilets and showers in the house)\n",
    "5. **sqft_living** - the total living space of the property; specifically the sum of sqft_above and sqft_basement (in square feet)\n",
    "6. **sqft_lot** - the total lot space of the property (in square feet)\n",
    "7. **waterfront** - indicates whether the property is located in front of a body of water (river, lake, sea, etc.; 0 for no, 1 for yes)\n",
    "8. **condition** - the state of the house according to the property assesors (an index from 1 to 4, 4 being the highest)\n",
    "9. **grade** - the state of building construction (an index from 1 to 13, 13 being the highest)\n",
    "10. **yr_build** - the year when the house was initially built\n",
    "11. **zipcode** - the postcode of the area where the house is located.\n",
    "\n",
    "### 1.2 Data Import\n",
    "To import the data, I used R's `read.csv()` function. This function allows CSV (comma-separated values) files to be imported into R where it is automatically converted into a dataframe."
   ]
  },
  {
   "cell_type": "code",
   "execution_count": 3,
   "metadata": {
    "collapsed": true
   },
   "outputs": [],
   "source": [
    "training.file <- read.csv(\"training.csv\")"
   ]
  },
  {
   "cell_type": "code",
   "execution_count": 4,
   "metadata": {
    "collapsed": false
   },
   "outputs": [
    {
     "data": {
      "text/html": [
       "<table>\n",
       "<thead><tr><th scope=col>id</th><th scope=col>price</th><th scope=col>bedrooms</th><th scope=col>bathrooms</th><th scope=col>sqft_living</th><th scope=col>sqft_lot</th><th scope=col>waterfront</th><th scope=col>condition</th><th scope=col>grade</th><th scope=col>yr_built</th><th scope=col>zipcode</th></tr></thead>\n",
       "<tbody>\n",
       "\t<tr><td>5537200043</td><td> 211000   </td><td>4         </td><td>1.00      </td><td>2100      </td><td>9200      </td><td>0         </td><td>3         </td><td> 7        </td><td>1959      </td><td>98168     </td></tr>\n",
       "\t<tr><td>2025700080</td><td> 265000   </td><td>3         </td><td>2.50      </td><td>1530      </td><td>6000      </td><td>0         </td><td>4         </td><td> 7        </td><td>1991      </td><td>98038     </td></tr>\n",
       "\t<tr><td>2025049111</td><td>1440000   </td><td>3         </td><td>3.50      </td><td>3870      </td><td>3819      </td><td>0         </td><td>3         </td><td>11        </td><td>2002      </td><td>98102     </td></tr>\n",
       "\t<tr><td>9482700075</td><td> 800000   </td><td>4         </td><td>3.50      </td><td>2370      </td><td>3302      </td><td>0         </td><td>3         </td><td> 8        </td><td>1926      </td><td>98103     </td></tr>\n",
       "\t<tr><td>2856102105</td><td>1059500   </td><td>5         </td><td>3.25      </td><td>3230      </td><td>3825      </td><td>0         </td><td>3         </td><td> 9        </td><td>2014      </td><td>98117     </td></tr>\n",
       "\t<tr><td>3364900375</td><td> 750000   </td><td>2         </td><td>1.00      </td><td>1620      </td><td>6120      </td><td>0         </td><td>3         </td><td> 7        </td><td>1951      </td><td>98115     </td></tr>\n",
       "</tbody>\n",
       "</table>\n"
      ],
      "text/latex": [
       "\\begin{tabular}{r|lllllllllll}\n",
       " id & price & bedrooms & bathrooms & sqft\\_living & sqft\\_lot & waterfront & condition & grade & yr\\_built & zipcode\\\\\n",
       "\\hline\n",
       "\t 5537200043 &  211000    & 4          & 1.00       & 2100       & 9200       & 0          & 3          &  7         & 1959       & 98168     \\\\\n",
       "\t 2025700080 &  265000    & 3          & 2.50       & 1530       & 6000       & 0          & 4          &  7         & 1991       & 98038     \\\\\n",
       "\t 2025049111 & 1440000    & 3          & 3.50       & 3870       & 3819       & 0          & 3          & 11         & 2002       & 98102     \\\\\n",
       "\t 9482700075 &  800000    & 4          & 3.50       & 2370       & 3302       & 0          & 3          &  8         & 1926       & 98103     \\\\\n",
       "\t 2856102105 & 1059500    & 5          & 3.25       & 3230       & 3825       & 0          & 3          &  9         & 2014       & 98117     \\\\\n",
       "\t 3364900375 &  750000    & 2          & 1.00       & 1620       & 6120       & 0          & 3          &  7         & 1951       & 98115     \\\\\n",
       "\\end{tabular}\n"
      ],
      "text/markdown": [
       "\n",
       "id | price | bedrooms | bathrooms | sqft_living | sqft_lot | waterfront | condition | grade | yr_built | zipcode | \n",
       "|---|---|---|---|---|---|\n",
       "| 5537200043 |  211000    | 4          | 1.00       | 2100       | 9200       | 0          | 3          |  7         | 1959       | 98168      | \n",
       "| 2025700080 |  265000    | 3          | 2.50       | 1530       | 6000       | 0          | 4          |  7         | 1991       | 98038      | \n",
       "| 2025049111 | 1440000    | 3          | 3.50       | 3870       | 3819       | 0          | 3          | 11         | 2002       | 98102      | \n",
       "| 9482700075 |  800000    | 4          | 3.50       | 2370       | 3302       | 0          | 3          |  8         | 1926       | 98103      | \n",
       "| 2856102105 | 1059500    | 5          | 3.25       | 3230       | 3825       | 0          | 3          |  9         | 2014       | 98117      | \n",
       "| 3364900375 |  750000    | 2          | 1.00       | 1620       | 6120       | 0          | 3          |  7         | 1951       | 98115      | \n",
       "\n",
       "\n"
      ],
      "text/plain": [
       "  id         price   bedrooms bathrooms sqft_living sqft_lot waterfront\n",
       "1 5537200043  211000 4        1.00      2100        9200     0         \n",
       "2 2025700080  265000 3        2.50      1530        6000     0         \n",
       "3 2025049111 1440000 3        3.50      3870        3819     0         \n",
       "4 9482700075  800000 4        3.50      2370        3302     0         \n",
       "5 2856102105 1059500 5        3.25      3230        3825     0         \n",
       "6 3364900375  750000 2        1.00      1620        6120     0         \n",
       "  condition grade yr_built zipcode\n",
       "1 3          7    1959     98168  \n",
       "2 4          7    1991     98038  \n",
       "3 3         11    2002     98102  \n",
       "4 3          8    1926     98103  \n",
       "5 3          9    2014     98117  \n",
       "6 3          7    1951     98115  "
      ]
     },
     "metadata": {},
     "output_type": "display_data"
    }
   ],
   "source": [
    "head(training.file)"
   ]
  },
  {
   "cell_type": "markdown",
   "metadata": {},
   "source": [
    "## 2. Exploratory Data Analysis\n",
    "\n",
    "This part comprises of getting to know the data to be modeled. After the data has been successfully imported into a data frame, a thorough investigation is needed to ensure that the data scientist is familiar with the data he/she will be munching for analysis. \n",
    "\n",
    "It comprises of the following tasks:\n",
    "\n",
    "<br/>2.1 Enumerating variables and determining variable type \n",
    "<br/>2.2 Finding statistics per variable (to determine the distribution of values) \n",
    "<br/>2.3 Performing pictorial representations per variable \n",
    "<br/>2.4 Determining outliers and other possible issues \n",
    "<br/>2.5 Determining any association between variables\n",
    "\n",
    "### 2.1 Enumerating variables and determining variable type\n",
    "\n",
    "To get an initial overview of the resulting dataframe, check the following:\n",
    "- dimensions of the dataframe (how many rows of records? how many columns?)\n",
    "- the initial parsing of the data (what are the data types?)\n",
    "- are the data in the correct format?\n",
    "\n",
    "#### Dimensions of the Dataframe\n",
    "\n",
    "To check for the dimension, the function `dim()` is used. This function accepts a data frame and outputs the dimensions in *rows* x *columns*."
   ]
  },
  {
   "cell_type": "code",
   "execution_count": 5,
   "metadata": {
    "collapsed": false
   },
   "outputs": [
    {
     "data": {
      "text/html": [
       "<ol class=list-inline>\n",
       "\t<li>10000</li>\n",
       "\t<li>11</li>\n",
       "</ol>\n"
      ],
      "text/latex": [
       "\\begin{enumerate*}\n",
       "\\item 10000\n",
       "\\item 11\n",
       "\\end{enumerate*}\n"
      ],
      "text/markdown": [
       "1. 10000\n",
       "2. 11\n",
       "\n",
       "\n"
      ],
      "text/plain": [
       "[1] 10000    11"
      ]
     },
     "metadata": {},
     "output_type": "display_data"
    }
   ],
   "source": [
    "dim(training.file)"
   ]
  },
  {
   "cell_type": "markdown",
   "metadata": {},
   "source": [
    "This says that the data has **10,000** house sales records with **11 features**: id, price, bedrooms, bathrooms, sqft_living, sqft_lot, waterfront, condition, grade, yr_built, zipcode. These features have aleady been described earlier.\n",
    "\n",
    "To get the initial (parsed) data types, use the `str()` function."
   ]
  },
  {
   "cell_type": "code",
   "execution_count": 6,
   "metadata": {
    "collapsed": false
   },
   "outputs": [
    {
     "name": "stdout",
     "output_type": "stream",
     "text": [
      "'data.frame':\t10000 obs. of  11 variables:\n",
      " $ id         : num  5.54e+09 2.03e+09 2.03e+09 9.48e+09 2.86e+09 ...\n",
      " $ price      : int  211000 265000 1440000 800000 1059500 750000 229000 271115 428000 1240000 ...\n",
      " $ bedrooms   : int  4 3 3 4 5 2 3 2 3 4 ...\n",
      " $ bathrooms  : num  1 2.5 3.5 3.5 3.25 1 1.5 1.5 2.25 3.5 ...\n",
      " $ sqft_living: int  2100 1530 3870 2370 3230 1620 1200 830 2600 3820 ...\n",
      " $ sqft_lot   : int  9200 6000 3819 3302 3825 6120 5000 1325 15000 13224 ...\n",
      " $ waterfront : int  0 0 0 0 0 0 0 0 0 0 ...\n",
      " $ condition  : int  3 4 3 3 3 3 3 3 3 3 ...\n",
      " $ grade      : int  7 7 11 8 9 7 6 7 9 10 ...\n",
      " $ yr_built   : int  1959 1991 2002 1926 2014 1951 1979 2005 1978 1990 ...\n",
      " $ zipcode    : int  98168 98038 98102 98103 98117 98115 98146 98136 98038 98004 ...\n"
     ]
    }
   ],
   "source": [
    "str(training.file)"
   ]
  },
  {
   "cell_type": "markdown",
   "metadata": {},
   "source": [
    "#### Evaluating Variable Types\n",
    "\n",
    "Based from the Week 2 lecture, variable types are mainly segregated into **numerical (quantitative)** and **categorical (qualitative)**. Numerical variables answer the question *'how many?'* or *'how much?'* and are any variable which can be measured, counted, ordered, *and* perform arithmetic operations upon. Categorical variables, meanwhile, answer the question *'what type'* or *'which category?'*. These variables can be ordered, sorted, *or* categorized.\n",
    "\n",
    "Furthermore, numerical variables can be classified into **continuous** or **discrete**. Continuous variables are usually <u>measured</u> and take on any value between an interval, while discrete variables are <u>counted</u> and is based on a set of distinct values.\n",
    "\n",
    "Categorical variables are furthered classified into **ordinal** or **nominal**. Ordinal variables can be arranged into a logical order, while nominal variables cannot (there is no hierarchy between values).\n",
    "\n",
    "\n",
    "**Which variables are numerical?**\n",
    "\n",
    "The following variables are numerical:\n",
    "* price - discrete\n",
    "* bedrooms - discrete\n",
    "* bathrooms - discrete\n",
    "* sqft_living - continuous\n",
    "* sqft_lot - continuous\n",
    "\n",
    "\n",
    "**Which variables are categorical?**\n",
    "\n",
    "The following variables are categorical:\n",
    "* id - nominal (it seems there's no inherent order)\n",
    "* waterfront - nominal (I can argue that waterfront properties are as beautiful as non-waterfront properties, so no inherent order is observed)\n",
    "* condition - ordinal\n",
    "* grade - ordinal\n",
    "* yr_built - ordinal (can be arranged from earliest to latest.) \n",
    "<br/>Note: I did not classify this as numerical because you cannot perform arithmetic operations on it. For example, you cannot multiply nor divide a year by 2, compute average year, etc.; *number of years* is numerical but not the year itself. \n",
    "* zipcode - nominal (there's no inherent hierarchy among the values)\n",
    "\n",
    "**Reflections**\n",
    "* In looking at the dataset, there are more numerical variables than categorical variables.\n",
    "* Most of the variables are discrete variables.\n",
    "* The categorical variables *id* and *zipcode* need to be converted into `char` since they are nominal variables. \n",
    "* Meanwhile, *yr_built* can just be an integer since there is an inherent order in it. \n",
    "* Zipcode, being a qualitative variable will be computationally costly when a linear regression model is built, because it features a lot of distinct values."
   ]
  },
  {
   "cell_type": "code",
   "execution_count": 7,
   "metadata": {
    "collapsed": false
   },
   "outputs": [
    {
     "name": "stdout",
     "output_type": "stream",
     "text": [
      "'data.frame':\t10000 obs. of  11 variables:\n",
      " $ id         : chr [1:10000, 1] \"5537200043\" \"2025700080\" \"2025049111\" \"9482700075\" ...\n",
      "  ..- attr(*, \"dimnames\")=List of 2\n",
      "  .. ..$ : NULL\n",
      "  .. ..$ : chr \"id\"\n",
      " $ price      : int  211000 265000 1440000 800000 1059500 750000 229000 271115 428000 1240000 ...\n",
      " $ bedrooms   : int  4 3 3 4 5 2 3 2 3 4 ...\n",
      " $ bathrooms  : num  1 2.5 3.5 3.5 3.25 1 1.5 1.5 2.25 3.5 ...\n",
      " $ sqft_living: int  2100 1530 3870 2370 3230 1620 1200 830 2600 3820 ...\n",
      " $ sqft_lot   : int  9200 6000 3819 3302 3825 6120 5000 1325 15000 13224 ...\n",
      " $ waterfront : int  0 0 0 0 0 0 0 0 0 0 ...\n",
      " $ condition  : int  3 4 3 3 3 3 3 3 3 3 ...\n",
      " $ grade      : int  7 7 11 8 9 7 6 7 9 10 ...\n",
      " $ yr_built   : int  1959 1991 2002 1926 2014 1951 1979 2005 1978 1990 ...\n",
      " $ zipcode    : chr [1:10000, 1] \"98168\" \"98038\" \"98102\" \"98103\" ...\n",
      "  ..- attr(*, \"dimnames\")=List of 2\n",
      "  .. ..$ : NULL\n",
      "  .. ..$ : chr \"zipcode\"\n"
     ]
    },
    {
     "data": {
      "text/html": [
       "FALSE"
      ],
      "text/latex": [
       "FALSE"
      ],
      "text/markdown": [
       "FALSE"
      ],
      "text/plain": [
       "[1] FALSE"
      ]
     },
     "metadata": {},
     "output_type": "display_data"
    }
   ],
   "source": [
    "# convert zipcode as character\n",
    "training.file['id'] <- sapply(training.file['id'], as.character)\n",
    "training.file['zipcode'] <- sapply(training.file['zipcode'], as.character)\n",
    "str(training.file)\n",
    "\n",
    "# is there any null ID or zipcode?\n",
    "any(is.na(training.file['id']) || is.na(training.file['zipcode']))"
   ]
  },
  {
   "cell_type": "markdown",
   "metadata": {},
   "source": [
    "### 2.2 Finding statistics per variable (to determine the distribution of values)\n",
    "\n",
    "Now that the variables are in their expected data type, we can now proceed to looking at the general statistics of the data. To do this, the methods `summary()` or `describe()` can be used. This gives out initial descriptive statistics like *minimum, maximum mean, median, quartiles, etc.* per column."
   ]
  },
  {
   "cell_type": "code",
   "execution_count": 8,
   "metadata": {
    "collapsed": false
   },
   "outputs": [
    {
     "data": {
      "text/plain": [
       "       id.id           price            bedrooms        bathrooms    \n",
       " 1139600270:   2   Min.   :  78000   Min.   : 0.000   Min.   :0.000  \n",
       " 1446403850:   2   1st Qu.: 320000   1st Qu.: 3.000   1st Qu.:1.750  \n",
       " 1721801010:   2   Median : 450000   Median : 3.000   Median :2.250  \n",
       " 1901600090:   2   Mean   : 541434   Mean   : 3.373   Mean   :2.113  \n",
       " 1995200200:   2   3rd Qu.: 649950   3rd Qu.: 4.000   3rd Qu.:2.500  \n",
       " 2023049218:   2   Max.   :6885000   Max.   :10.000   Max.   :8.000  \n",
       " (Other)   :9988                                                     \n",
       "  sqft_living       sqft_lot        waterfront       condition    \n",
       " Min.   :  370   Min.   :   520   Min.   :0.0000   Min.   :1.000  \n",
       " 1st Qu.: 1430   1st Qu.:  5058   1st Qu.:0.0000   1st Qu.:3.000  \n",
       " Median : 1920   Median :  7620   Median :0.0000   Median :3.000  \n",
       " Mean   : 2080   Mean   : 14947   Mean   :0.0077   Mean   :3.407  \n",
       " 3rd Qu.: 2545   3rd Qu.: 10642   3rd Qu.:0.0000   3rd Qu.:4.000  \n",
       " Max.   :13540   Max.   :982998   Max.   :1.0000   Max.   :5.000  \n",
       "                                                                  \n",
       "     grade           yr_built    zipcode.zipcode\n",
       " Min.   : 3.000   Min.   :1900   98042  : 273   \n",
       " 1st Qu.: 7.000   1st Qu.:1951   98103  : 272   \n",
       " Median : 7.000   Median :1975   98034  : 266   \n",
       " Mean   : 7.657   Mean   :1971   98115  : 262   \n",
       " 3rd Qu.: 8.000   3rd Qu.:1997   98117  : 258   \n",
       " Max.   :13.000   Max.   :2015   98038  : 250   \n",
       "                                 (Other):8419   "
      ]
     },
     "metadata": {},
     "output_type": "display_data"
    }
   ],
   "source": [
    "summary(training.file)"
   ]
  },
  {
   "cell_type": "code",
   "execution_count": 9,
   "metadata": {
    "collapsed": false
   },
   "outputs": [
    {
     "data": {
      "text/html": [
       "<table>\n",
       "<thead><tr><th></th><th scope=col>vars</th><th scope=col>n</th><th scope=col>mean</th><th scope=col>sd</th><th scope=col>median</th><th scope=col>trimmed</th><th scope=col>mad</th><th scope=col>min</th><th scope=col>max</th><th scope=col>range</th><th scope=col>skew</th><th scope=col>kurtosis</th><th scope=col>se</th></tr></thead>\n",
       "<tbody>\n",
       "\t<tr><th scope=row>id*</th><td> 1          </td><td>10000       </td><td>4.590594e+09</td><td>2.868528e+09</td><td>3.905101e+09</td><td>4.510949e+09</td><td>3.562391e+09</td><td>1000102     </td><td>9842300095  </td><td>9841299993  </td><td> 0.237      </td><td> -1.261     </td><td>28685283.620</td></tr>\n",
       "\t<tr><th scope=row>price</th><td> 2          </td><td>10000       </td><td>5.414345e+05</td><td>3.683079e+05</td><td>4.500000e+05</td><td>4.833585e+05</td><td>2.224641e+05</td><td>  78000     </td><td>   6885000  </td><td>   6807000  </td><td> 3.871      </td><td> 30.397     </td><td>    3683.079</td></tr>\n",
       "\t<tr><th scope=row>bedrooms</th><td> 3          </td><td>10000       </td><td>3.373000e+00</td><td>9.130000e-01</td><td>3.000000e+00</td><td>3.340000e+00</td><td>1.483000e+00</td><td>      0     </td><td>        10  </td><td>        10  </td><td> 0.511      </td><td>  1.794     </td><td>       0.009</td></tr>\n",
       "\t<tr><th scope=row>bathrooms</th><td> 4          </td><td>10000       </td><td>2.113000e+00</td><td>7.640000e-01</td><td>2.250000e+00</td><td>2.073000e+00</td><td>7.410000e-01</td><td>      0     </td><td>         8  </td><td>         8  </td><td> 0.454      </td><td>  1.004     </td><td>       0.008</td></tr>\n",
       "\t<tr><th scope=row>sqft_living</th><td> 5          </td><td>10000       </td><td>2.080232e+03</td><td>9.158000e+02</td><td>1.920000e+03</td><td>1.986522e+03</td><td>8.154300e+02</td><td>    370     </td><td>     13540  </td><td>     13170  </td><td> 1.454      </td><td>  5.497     </td><td>       9.158</td></tr>\n",
       "\t<tr><th scope=row>sqft_lot</th><td> 6          </td><td>10000       </td><td>1.494731e+04</td><td>3.863758e+04</td><td>7.620000e+03</td><td>8.234971e+03</td><td>3.884412e+03</td><td>    520     </td><td>    982998  </td><td>    982478  </td><td>10.536      </td><td>167.084     </td><td>     386.376</td></tr>\n",
       "\t<tr><th scope=row>waterfront</th><td> 7          </td><td>10000       </td><td>8.000000e-03</td><td>8.700000e-02</td><td>0.000000e+00</td><td>0.000000e+00</td><td>0.000000e+00</td><td>      0     </td><td>         1  </td><td>         1  </td><td>11.262      </td><td>124.852     </td><td>       0.001</td></tr>\n",
       "\t<tr><th scope=row>condition</th><td> 8          </td><td>10000       </td><td>3.407000e+00</td><td>6.510000e-01</td><td>3.000000e+00</td><td>3.304000e+00</td><td>0.000000e+00</td><td>      1     </td><td>         5  </td><td>         4  </td><td> 0.980      </td><td>  0.579     </td><td>       0.007</td></tr>\n",
       "\t<tr><th scope=row>grade</th><td> 9          </td><td>10000       </td><td>7.657000e+00</td><td>1.184000e+00</td><td>7.000000e+00</td><td>7.584000e+00</td><td>1.483000e+00</td><td>      3     </td><td>        13  </td><td>        10  </td><td> 0.736      </td><td>  1.033     </td><td>       0.012</td></tr>\n",
       "\t<tr><th scope=row>yr_built</th><td>10          </td><td>10000       </td><td>1.970877e+03</td><td>2.945300e+01</td><td>1.975000e+03</td><td>1.972936e+03</td><td>3.410000e+01</td><td>   1900     </td><td>      2015  </td><td>       115  </td><td>-0.460      </td><td> -0.679     </td><td>       0.295</td></tr>\n",
       "\t<tr><th scope=row>zipcode*</th><td>11          </td><td>10000       </td><td>9.807791e+04</td><td>5.331900e+01</td><td>9.806500e+04</td><td>9.807469e+04</td><td>6.226900e+01</td><td>  98001     </td><td>     98199  </td><td>       198  </td><td> 0.409      </td><td> -0.842     </td><td>       0.533</td></tr>\n",
       "</tbody>\n",
       "</table>\n"
      ],
      "text/latex": [
       "\\begin{tabular}{r|lllllllllllll}\n",
       "  & vars & n & mean & sd & median & trimmed & mad & min & max & range & skew & kurtosis & se\\\\\n",
       "\\hline\n",
       "\tid* &  1           & 10000        & 4.590594e+09 & 2.868528e+09 & 3.905101e+09 & 4.510949e+09 & 3.562391e+09 & 1000102      & 9842300095   & 9841299993   &  0.237       &  -1.261      & 28685283.620\\\\\n",
       "\tprice &  2           & 10000        & 5.414345e+05 & 3.683079e+05 & 4.500000e+05 & 4.833585e+05 & 2.224641e+05 &   78000      &    6885000   &    6807000   &  3.871       &  30.397      &     3683.079\\\\\n",
       "\tbedrooms &  3           & 10000        & 3.373000e+00 & 9.130000e-01 & 3.000000e+00 & 3.340000e+00 & 1.483000e+00 &       0      &         10   &         10   &  0.511       &   1.794      &        0.009\\\\\n",
       "\tbathrooms &  4           & 10000        & 2.113000e+00 & 7.640000e-01 & 2.250000e+00 & 2.073000e+00 & 7.410000e-01 &       0      &          8   &          8   &  0.454       &   1.004      &        0.008\\\\\n",
       "\tsqft\\_living &  5           & 10000        & 2.080232e+03 & 9.158000e+02 & 1.920000e+03 & 1.986522e+03 & 8.154300e+02 &     370      &      13540   &      13170   &  1.454       &   5.497      &        9.158\\\\\n",
       "\tsqft\\_lot &  6           & 10000        & 1.494731e+04 & 3.863758e+04 & 7.620000e+03 & 8.234971e+03 & 3.884412e+03 &     520      &     982998   &     982478   & 10.536       & 167.084      &      386.376\\\\\n",
       "\twaterfront &  7           & 10000        & 8.000000e-03 & 8.700000e-02 & 0.000000e+00 & 0.000000e+00 & 0.000000e+00 &       0      &          1   &          1   & 11.262       & 124.852      &        0.001\\\\\n",
       "\tcondition &  8           & 10000        & 3.407000e+00 & 6.510000e-01 & 3.000000e+00 & 3.304000e+00 & 0.000000e+00 &       1      &          5   &          4   &  0.980       &   0.579      &        0.007\\\\\n",
       "\tgrade &  9           & 10000        & 7.657000e+00 & 1.184000e+00 & 7.000000e+00 & 7.584000e+00 & 1.483000e+00 &       3      &         13   &         10   &  0.736       &   1.033      &        0.012\\\\\n",
       "\tyr\\_built & 10           & 10000        & 1.970877e+03 & 2.945300e+01 & 1.975000e+03 & 1.972936e+03 & 3.410000e+01 &    1900      &       2015   &        115   & -0.460       &  -0.679      &        0.295\\\\\n",
       "\tzipcode* & 11           & 10000        & 9.807791e+04 & 5.331900e+01 & 9.806500e+04 & 9.807469e+04 & 6.226900e+01 &   98001      &      98199   &        198   &  0.409       &  -0.842      &        0.533\\\\\n",
       "\\end{tabular}\n"
      ],
      "text/markdown": [
       "\n",
       "| <!--/--> | vars | n | mean | sd | median | trimmed | mad | min | max | range | skew | kurtosis | se | \n",
       "|---|---|---|---|---|---|---|---|---|---|---|\n",
       "| id* |  1           | 10000        | 4.590594e+09 | 2.868528e+09 | 3.905101e+09 | 4.510949e+09 | 3.562391e+09 | 1000102      | 9842300095   | 9841299993   |  0.237       |  -1.261      | 28685283.620 | \n",
       "| price |  2           | 10000        | 5.414345e+05 | 3.683079e+05 | 4.500000e+05 | 4.833585e+05 | 2.224641e+05 |   78000      |    6885000   |    6807000   |  3.871       |  30.397      |     3683.079 | \n",
       "| bedrooms |  3           | 10000        | 3.373000e+00 | 9.130000e-01 | 3.000000e+00 | 3.340000e+00 | 1.483000e+00 |       0      |         10   |         10   |  0.511       |   1.794      |        0.009 | \n",
       "| bathrooms |  4           | 10000        | 2.113000e+00 | 7.640000e-01 | 2.250000e+00 | 2.073000e+00 | 7.410000e-01 |       0      |          8   |          8   |  0.454       |   1.004      |        0.008 | \n",
       "| sqft_living |  5           | 10000        | 2.080232e+03 | 9.158000e+02 | 1.920000e+03 | 1.986522e+03 | 8.154300e+02 |     370      |      13540   |      13170   |  1.454       |   5.497      |        9.158 | \n",
       "| sqft_lot |  6           | 10000        | 1.494731e+04 | 3.863758e+04 | 7.620000e+03 | 8.234971e+03 | 3.884412e+03 |     520      |     982998   |     982478   | 10.536       | 167.084      |      386.376 | \n",
       "| waterfront |  7           | 10000        | 8.000000e-03 | 8.700000e-02 | 0.000000e+00 | 0.000000e+00 | 0.000000e+00 |       0      |          1   |          1   | 11.262       | 124.852      |        0.001 | \n",
       "| condition |  8           | 10000        | 3.407000e+00 | 6.510000e-01 | 3.000000e+00 | 3.304000e+00 | 0.000000e+00 |       1      |          5   |          4   |  0.980       |   0.579      |        0.007 | \n",
       "| grade |  9           | 10000        | 7.657000e+00 | 1.184000e+00 | 7.000000e+00 | 7.584000e+00 | 1.483000e+00 |       3      |         13   |         10   |  0.736       |   1.033      |        0.012 | \n",
       "| yr_built | 10           | 10000        | 1.970877e+03 | 2.945300e+01 | 1.975000e+03 | 1.972936e+03 | 3.410000e+01 |    1900      |       2015   |        115   | -0.460       |  -0.679      |        0.295 | \n",
       "| zipcode* | 11           | 10000        | 9.807791e+04 | 5.331900e+01 | 9.806500e+04 | 9.807469e+04 | 6.226900e+01 |   98001      |      98199   |        198   |  0.409       |  -0.842      |        0.533 | \n",
       "\n",
       "\n"
      ],
      "text/plain": [
       "            vars n     mean         sd           median       trimmed     \n",
       "id*          1   10000 4.590594e+09 2.868528e+09 3.905101e+09 4.510949e+09\n",
       "price        2   10000 5.414345e+05 3.683079e+05 4.500000e+05 4.833585e+05\n",
       "bedrooms     3   10000 3.373000e+00 9.130000e-01 3.000000e+00 3.340000e+00\n",
       "bathrooms    4   10000 2.113000e+00 7.640000e-01 2.250000e+00 2.073000e+00\n",
       "sqft_living  5   10000 2.080232e+03 9.158000e+02 1.920000e+03 1.986522e+03\n",
       "sqft_lot     6   10000 1.494731e+04 3.863758e+04 7.620000e+03 8.234971e+03\n",
       "waterfront   7   10000 8.000000e-03 8.700000e-02 0.000000e+00 0.000000e+00\n",
       "condition    8   10000 3.407000e+00 6.510000e-01 3.000000e+00 3.304000e+00\n",
       "grade        9   10000 7.657000e+00 1.184000e+00 7.000000e+00 7.584000e+00\n",
       "yr_built    10   10000 1.970877e+03 2.945300e+01 1.975000e+03 1.972936e+03\n",
       "zipcode*    11   10000 9.807791e+04 5.331900e+01 9.806500e+04 9.807469e+04\n",
       "            mad          min     max        range      skew   kurtosis\n",
       "id*         3.562391e+09 1000102 9842300095 9841299993  0.237  -1.261 \n",
       "price       2.224641e+05   78000    6885000    6807000  3.871  30.397 \n",
       "bedrooms    1.483000e+00       0         10         10  0.511   1.794 \n",
       "bathrooms   7.410000e-01       0          8          8  0.454   1.004 \n",
       "sqft_living 8.154300e+02     370      13540      13170  1.454   5.497 \n",
       "sqft_lot    3.884412e+03     520     982998     982478 10.536 167.084 \n",
       "waterfront  0.000000e+00       0          1          1 11.262 124.852 \n",
       "condition   0.000000e+00       1          5          4  0.980   0.579 \n",
       "grade       1.483000e+00       3         13         10  0.736   1.033 \n",
       "yr_built    3.410000e+01    1900       2015        115 -0.460  -0.679 \n",
       "zipcode*    6.226900e+01   98001      98199        198  0.409  -0.842 \n",
       "            se          \n",
       "id*         28685283.620\n",
       "price           3683.079\n",
       "bedrooms           0.009\n",
       "bathrooms          0.008\n",
       "sqft_living        9.158\n",
       "sqft_lot         386.376\n",
       "waterfront         0.001\n",
       "condition          0.007\n",
       "grade              0.012\n",
       "yr_built           0.295\n",
       "zipcode*           0.533"
      ]
     },
     "metadata": {},
     "output_type": "display_data"
    }
   ],
   "source": [
    "round(describe(training.file), 3)"
   ]
  },
  {
   "cell_type": "markdown",
   "metadata": {},
   "source": [
    "#### Observation\n",
    "* Six houses were sold twice as six distinct ids appeared twice on the record.\n",
    "* The cheapest house was priced at \\$78,000 while the most expensive house was sold at \\$6,885,000.\n",
    "* The average house price from May 2014 to May 2015 is around \\$450,000 - \\$550,000.\n",
    "* The average living area is around ~2000 sqft. The mean and median are close because the range of the values is small (13,170).\n",
    "* The average lot area, meanwhile is around ~7500 sqft. The mean of the lot may have been affected by extreme values, as the range is big (982,478) so its difference from the median is huge.\n",
    "* There are houses with no bedrooms or bathrooms (odd), while there are palatial houses with up to 10 bedrooms and 8 bathrooms.\n",
    "* On average, a house usually has 3 bedrooms and 2 bathrooms.\n",
    "* The oldest house was built in 1900 while the most recently built house was from 2015.\n",
    "* 15% of the houses are just from five different postcodes--98042, 98103, 98115, 98117, and 98038. Which speaks about the area's population/development.\n",
    "\n",
    "## 2.3 Performing pictorial representations per variable\n",
    "\n",
    "To better understand the data, we can take a look at the frequency table of some variables using the `count()` function. Histograms `hist()` are also appropriate for variables that  take on a large number of values. The package `ggplot2` offers a nicer histogram (`geom_histogram()`), so it may be better to use it over `hist()`."
   ]
  },
  {
   "cell_type": "code",
   "execution_count": 10,
   "metadata": {
    "collapsed": false
   },
   "outputs": [
    {
     "data": {
      "text/html": [
       "<table>\n",
       "<thead><tr><th scope=col>bedrooms</th><th scope=col>freq</th></tr></thead>\n",
       "<tbody>\n",
       "\t<tr><td> 0  </td><td>   6</td></tr>\n",
       "\t<tr><td> 1  </td><td>  93</td></tr>\n",
       "\t<tr><td> 2  </td><td>1292</td></tr>\n",
       "\t<tr><td> 3  </td><td>4497</td></tr>\n",
       "\t<tr><td> 4  </td><td>3203</td></tr>\n",
       "\t<tr><td> 5  </td><td> 753</td></tr>\n",
       "\t<tr><td> 6  </td><td> 129</td></tr>\n",
       "\t<tr><td> 7  </td><td>  16</td></tr>\n",
       "\t<tr><td> 8  </td><td>   5</td></tr>\n",
       "\t<tr><td> 9  </td><td>   4</td></tr>\n",
       "\t<tr><td>10  </td><td>   2</td></tr>\n",
       "</tbody>\n",
       "</table>\n"
      ],
      "text/latex": [
       "\\begin{tabular}{r|ll}\n",
       " bedrooms & freq\\\\\n",
       "\\hline\n",
       "\t  0   &    6\\\\\n",
       "\t  1   &   93\\\\\n",
       "\t  2   & 1292\\\\\n",
       "\t  3   & 4497\\\\\n",
       "\t  4   & 3203\\\\\n",
       "\t  5   &  753\\\\\n",
       "\t  6   &  129\\\\\n",
       "\t  7   &   16\\\\\n",
       "\t  8   &    5\\\\\n",
       "\t  9   &    4\\\\\n",
       "\t 10   &    2\\\\\n",
       "\\end{tabular}\n"
      ],
      "text/markdown": [
       "\n",
       "bedrooms | freq | \n",
       "|---|---|---|---|---|---|---|---|---|---|---|\n",
       "|  0   |    6 | \n",
       "|  1   |   93 | \n",
       "|  2   | 1292 | \n",
       "|  3   | 4497 | \n",
       "|  4   | 3203 | \n",
       "|  5   |  753 | \n",
       "|  6   |  129 | \n",
       "|  7   |   16 | \n",
       "|  8   |    5 | \n",
       "|  9   |    4 | \n",
       "| 10   |    2 | \n",
       "\n",
       "\n"
      ],
      "text/plain": [
       "   bedrooms freq\n",
       "1   0          6\n",
       "2   1         93\n",
       "3   2       1292\n",
       "4   3       4497\n",
       "5   4       3203\n",
       "6   5        753\n",
       "7   6        129\n",
       "8   7         16\n",
       "9   8          5\n",
       "10  9          4\n",
       "11 10          2"
      ]
     },
     "metadata": {},
     "output_type": "display_data"
    }
   ],
   "source": [
    "# count outputs the relative frequency table of a variable/column\n",
    "count(training.file['bedrooms'])"
   ]
  },
  {
   "cell_type": "code",
   "execution_count": 11,
   "metadata": {
    "collapsed": false
   },
   "outputs": [
    {
     "data": {
      "text/html": [
       "<table>\n",
       "<thead><tr><th scope=col>waterfront</th><th scope=col>freq</th></tr></thead>\n",
       "<tbody>\n",
       "\t<tr><td>0   </td><td>9923</td></tr>\n",
       "\t<tr><td>1   </td><td>  77</td></tr>\n",
       "</tbody>\n",
       "</table>\n"
      ],
      "text/latex": [
       "\\begin{tabular}{r|ll}\n",
       " waterfront & freq\\\\\n",
       "\\hline\n",
       "\t 0    & 9923\\\\\n",
       "\t 1    &   77\\\\\n",
       "\\end{tabular}\n"
      ],
      "text/markdown": [
       "\n",
       "waterfront | freq | \n",
       "|---|---|\n",
       "| 0    | 9923 | \n",
       "| 1    |   77 | \n",
       "\n",
       "\n"
      ],
      "text/plain": [
       "  waterfront freq\n",
       "1 0          9923\n",
       "2 1            77"
      ]
     },
     "metadata": {},
     "output_type": "display_data"
    }
   ],
   "source": [
    "count(training.file['waterfront'])"
   ]
  },
  {
   "cell_type": "code",
   "execution_count": 12,
   "metadata": {
    "collapsed": false
   },
   "outputs": [
    {
     "data": {
      "text/html": [
       "<table>\n",
       "<thead><tr><th scope=col>condition</th><th scope=col>freq</th></tr></thead>\n",
       "<tbody>\n",
       "\t<tr><td>1   </td><td>  19</td></tr>\n",
       "\t<tr><td>2   </td><td>  89</td></tr>\n",
       "\t<tr><td>3   </td><td>6462</td></tr>\n",
       "\t<tr><td>4   </td><td>2664</td></tr>\n",
       "\t<tr><td>5   </td><td> 766</td></tr>\n",
       "</tbody>\n",
       "</table>\n"
      ],
      "text/latex": [
       "\\begin{tabular}{r|ll}\n",
       " condition & freq\\\\\n",
       "\\hline\n",
       "\t 1    &   19\\\\\n",
       "\t 2    &   89\\\\\n",
       "\t 3    & 6462\\\\\n",
       "\t 4    & 2664\\\\\n",
       "\t 5    &  766\\\\\n",
       "\\end{tabular}\n"
      ],
      "text/markdown": [
       "\n",
       "condition | freq | \n",
       "|---|---|---|---|---|\n",
       "| 1    |   19 | \n",
       "| 2    |   89 | \n",
       "| 3    | 6462 | \n",
       "| 4    | 2664 | \n",
       "| 5    |  766 | \n",
       "\n",
       "\n"
      ],
      "text/plain": [
       "  condition freq\n",
       "1 1           19\n",
       "2 2           89\n",
       "3 3         6462\n",
       "4 4         2664\n",
       "5 5          766"
      ]
     },
     "metadata": {},
     "output_type": "display_data"
    }
   ],
   "source": [
    "count(training.file['condition'])"
   ]
  },
  {
   "cell_type": "code",
   "execution_count": 13,
   "metadata": {
    "collapsed": false
   },
   "outputs": [
    {
     "data": {
      "image/png": "[encoded data removed]",
      "text/plain": [
       "plot without title"
      ]
     },
     "metadata": {},
     "output_type": "display_data"
    }
   ],
   "source": [
    "# ggplot enables histogram and various plot to be produced from the dataframe\n",
    "q1<-ggplot(aes(x=bedrooms), data =  training.file) +\n",
    "    geom_histogram(color =I('black'),fill = \"White\", binwidth = 1) +\n",
    "    ggtitle('Bedrooms')\n",
    "\n",
    "q2<-ggplot(aes(x=bathrooms), data =  training.file) +\n",
    "    geom_histogram(color =I('black'),fill = \"white\", binwidth = 0.25) +\n",
    "    ggtitle('Bathrooms')\n",
    "\n",
    "q3<-ggplot(aes(x=grade), data =  training.file) +\n",
    "    geom_histogram(color =I('black'),fill = \"white\", binwidth = 1) +\n",
    "    ggtitle('Grade')\n",
    "\n",
    "q4<-ggplot(aes(x=condition), data =  training.file) +\n",
    "    geom_histogram(color =I('black'),fill = \"white\", binwidth = 1) +\n",
    "    ggtitle('Condition')\n",
    "\n",
    "q5<-ggplot(aes(x=waterfront), data =  training.file) +\n",
    "    geom_histogram(color =I('black'),fill = \"white\", binwidth = 1) +\n",
    "    ggtitle('Waterfront')\n",
    "\n",
    "q6<-ggplot(aes(x=yr_built), data =  training.file) +\n",
    "    geom_histogram(color =I('black'),fill = \"white\", binwidth = 10) +\n",
    "    ggtitle('Yr_Built')\n",
    "\n",
    "# use grid.arrange to arrange the histograms nicely\n",
    "grid.arrange(q1,q2,q3,q4,q5,q6,ncol=2)"
   ]
  },
  {
   "cell_type": "code",
   "execution_count": 14,
   "metadata": {
    "collapsed": false
   },
   "outputs": [
    {
     "data": {
      "image/png": "[encoded data removed]",
      "text/plain": [
       "plot without title"
      ]
     },
     "metadata": {},
     "output_type": "display_data"
    }
   ],
   "source": [
    "# divide the price by 1000 for readability\n",
    "q7 <-ggplot(aes(x=price/1000), data =  training.file)+\n",
    "    geom_histogram(color =I('black'),fill = \"White\", binwidth = 100)+\n",
    "    ggtitle('Price')\n",
    "\n",
    "q8 <-ggplot(aes(x=sqft_living), data =  training.file)+\n",
    "    geom_histogram(color =I('black'),fill = \"White\", binwidth = 1000)+\n",
    "    ggtitle('Sqft_Living')\n",
    "\n",
    "# divide sqft_lot by 1000 for readability\n",
    "q9 <-ggplot(aes(x=sqft_lot/1000), data =  training.file)+\n",
    "    geom_histogram(color =I('black'),fill = \"White\", binwidth = 100)+\n",
    "    ggtitle('Sqft_lot')\n",
    "\n",
    "\n",
    "grid.arrange(q7, q8, q9, ncol=2)"
   ]
  },
  {
   "cell_type": "code",
   "execution_count": 15,
   "metadata": {
    "collapsed": false
   },
   "outputs": [
    {
     "name": "stdout",
     "output_type": "stream",
     "text": [
      "Skewness of variables"
     ]
    },
    {
     "data": {
      "text/html": [
       "<dl class=dl-horizontal>\n",
       "\t<dt>bathrooms</dt>\n",
       "\t\t<dd>0.453849825428396</dd>\n",
       "\t<dt>bedrooms</dt>\n",
       "\t\t<dd>0.510773923795177</dd>\n",
       "\t<dt>sqft_living</dt>\n",
       "\t\t<dd>1.45391006286483</dd>\n",
       "\t<dt>price</dt>\n",
       "\t\t<dd>3.87198195714828</dd>\n",
       "\t<dt>sqft_lot</dt>\n",
       "\t\t<dd>10.5373944953258</dd>\n",
       "</dl>\n"
      ],
      "text/latex": [
       "\\begin{description*}\n",
       "\\item[bathrooms] 0.453849825428396\n",
       "\\item[bedrooms] 0.510773923795177\n",
       "\\item[sqft\\textbackslash{}\\_living] 1.45391006286483\n",
       "\\item[price] 3.87198195714828\n",
       "\\item[sqft\\textbackslash{}\\_lot] 10.5373944953258\n",
       "\\end{description*}\n"
      ],
      "text/markdown": [
       "bathrooms\n",
       ":   0.453849825428396bedrooms\n",
       ":   0.510773923795177sqft_living\n",
       ":   1.45391006286483price\n",
       ":   3.87198195714828sqft_lot\n",
       ":   10.5373944953258\n",
       "\n"
      ],
      "text/plain": [
       "  bathrooms    bedrooms sqft_living       price    sqft_lot \n",
       "  0.4538498   0.5107739   1.4539101   3.8719820  10.5373945 "
      ]
     },
     "metadata": {},
     "output_type": "display_data"
    }
   ],
   "source": [
    "library(moments)\n",
    "cat(\"Skewness of variables\")\n",
    "col.skewness <- function(x){return(skewness(x))}\n",
    "sort(apply(training.file[2:6], 2, col.skewness))"
   ]
  },
  {
   "cell_type": "markdown",
   "metadata": {},
   "source": [
    "#### Observations\n",
    "* The majority of houses have **2 to 4 bedrooms** and **2 to 3 bathrooms**.\n",
    "* There is a significant number of houses (around ~17%) with a **single bathroom**, which might correspond to studio apartments.\n",
    "* **Almost all** of the houses are not situated near a body of water (waterfront == 0).\n",
    "* **Price, Sqft_Living, and Sqft_Lot** are **positively skewed**. This corresponds to a *few* houses sold at an exorbitantly high price and houses that have a massive area. We may have a hard time creating a suitable model for this because skewed features are not linear--they tend to be more quadratic or higher. \n",
    "* Most of the houses are in **good condition** (condition == 3 or condition == 4) and of **average construction level and design** (grade between 6 to 8).\n",
    "* A huge chunk of  houses were built after World War 2 (1950s onwards), but most of these houses were built in the last decade (2000s). \n",
    "\n",
    "#### Shape of the distribution\n",
    "* Price - right skewed due to  outliers\n",
    "* Bedrooms - resembles a normal distribution\n",
    "* Bathrooms - resembles a right skewed distribution\n",
    "* Sqft_Living - right skewed due to outliers\n",
    "* Sqft_Lot - right skewed\n",
    "* Condition - resembles a normal distribution\n",
    "* Grade - resembles a normal distribution\n",
    "* Yr_built - negatively skewed but almost uniform, as the spread is very wide\n",
    "\n",
    "## 2.4 Determining outliers and other possible issues \n",
    "\n",
    "Based from the histogram above, *price, sqft_living, and sqft_lot* have skewed distribution due to outliers. \n",
    "\n",
    "To better understand them, a boxplot is created using the method `boxplot()`. This provides an overview about the distribution of data in relation to the mean and also gives us an idea about the number of outliers there are. "
   ]
  },
  {
   "cell_type": "code",
   "execution_count": 16,
   "metadata": {
    "collapsed": false
   },
   "outputs": [
    {
     "data": {
      "image/png": "[encoded data removed]",
      "text/plain": [
       "Plot with title \"Boxplot of House Prices\""
      ]
     },
     "metadata": {},
     "output_type": "display_data"
    }
   ],
   "source": [
    "# divide the price by 1000 for readability\n",
    "boxplot(training.file$price/1000, xlab = \"House Price (in $1000)\", main = \"Boxplot of House Prices\")"
   ]
  },
  {
   "cell_type": "markdown",
   "metadata": {},
   "source": [
    "A number of houses have prices considered as *potential outliers*-- with prices more than **\\$1,000,000**. This is driving the distribution to be right skewed, as the majority of houses are sold for less than \\$1,000,000 (the median house price is again \\$450,000). The noticeable outliers are houses whose prices are above \\$4,000,000."
   ]
  },
  {
   "cell_type": "code",
   "execution_count": 17,
   "metadata": {
    "collapsed": false
   },
   "outputs": [
    {
     "data": {
      "image/png": "[encoded data removed]",
      "text/plain": [
       "Plot with title \"Boxplot of House Living Area\""
      ]
     },
     "metadata": {},
     "output_type": "display_data"
    }
   ],
   "source": [
    "boxplot(training.file$sqft_living, xlab = \"Living Area (in sqft)\", main = \"Boxplot of House Living Area\")"
   ]
  },
  {
   "cell_type": "markdown",
   "metadata": {},
   "source": [
    "On the other hand, the living area data is not as skewed. There were a number of *potential outliers* (houses whose area is greater than 4000 sqft), but the skewness is not as severe as the other two variables (price and lot area). The main data point that has affected the skewness of the data is the house with **14,000 sqft of living area** (quite spacious!), as it is vastly more spacious compared to the next highest with 10,000 sqft."
   ]
  },
  {
   "cell_type": "code",
   "execution_count": 18,
   "metadata": {
    "collapsed": false
   },
   "outputs": [
    {
     "data": {
      "image/png": "[encoded data removed]",
      "text/plain": [
       "Plot with title \"Boxplot of House Lot Area\""
      ]
     },
     "metadata": {},
     "output_type": "display_data"
    }
   ],
   "source": [
    "# divide the lot by 1000 for readability\n",
    "boxplot(training.file$sqft_lot/1000, xlab = \"Lot Area (in 1000 sqft)\", main = \"Boxplot of House Lot Area\")"
   ]
  },
  {
   "cell_type": "markdown",
   "metadata": {},
   "source": [
    "This variable has the worst skewness out of all. Five houses with more than 500,000 sqft has severely pushed the distribution from the right. This has made the boxplot pushed towards the bottom flat.\n",
    "\n",
    "To remedy this, **data transformation** is needed. **Log transform** can be performed on price, sqft_living, and sqft_lot to make it less skewed. The function `log()` will get the natural logarithm $\\log_e (x)$."
   ]
  },
  {
   "cell_type": "code",
   "execution_count": 19,
   "metadata": {
    "collapsed": false
   },
   "outputs": [],
   "source": [
    "# preserve old data (for future plots)\n",
    "training.data <- data.frame(training.file)\n",
    "\n",
    "# log transform the data to make it less skewed\n",
    "training.data$price <- log(training.file$price)\n",
    "training.data$sqft_living <- log(training.file$sqft_living)\n",
    "training.data$sqft_lot <- log(training.file$sqft_lot)"
   ]
  },
  {
   "cell_type": "code",
   "execution_count": 20,
   "metadata": {
    "collapsed": false
   },
   "outputs": [
    {
     "data": {
      "image/png": "[encoded data removed]",
      "text/plain": [
       "Plot with title \"Log Transformed Features\""
      ]
     },
     "metadata": {},
     "output_type": "display_data"
    },
    {
     "data": {
      "image/png": "[encoded data removed]",
      "text/plain": [
       "plot without title"
      ]
     },
     "metadata": {},
     "output_type": "display_data"
    }
   ],
   "source": [
    "# show price, sqft_living, and sqft_lot's new boxplot\n",
    "boxplot(training.data[, c(2,5,6)], las = 1, cex.axis = 0.5, main = \"Log Transformed Features\")\n",
    "\n",
    "# show the histogram to check the distribution\n",
    "q10 <-ggplot(aes(x=price), data =  training.data)+\n",
    "    geom_histogram(color =I('black'),fill = \"White\", binwidth = 0.25)+\n",
    "    ggtitle('(Transformed) Price')\n",
    "\n",
    "q11 <-ggplot(aes(x=sqft_living), data =  training.data)+\n",
    "    geom_histogram(color =I('black'),fill = \"White\", binwidth = 0.25)+\n",
    "    ggtitle('(Transformed) Sqft_Living')\n",
    "\n",
    "q12 <-ggplot(aes(x=sqft_lot), data =  training.data)+\n",
    "    geom_histogram(color =I('black'),fill = \"White\", binwidth = 0.25)+\n",
    "    ggtitle('(Transformed) Sqft_lot')\n",
    "\n",
    "\n",
    "grid.arrange(q10, q11, q12, ncol=2)"
   ]
  },
  {
   "cell_type": "markdown",
   "metadata": {},
   "source": [
    "As seen above, log transform really did make the distribution normal.\n",
    "\n",
    "Also, because the variable *id* is a nominal variable that's just used to label the observations, it's better to exclude it from the data."
   ]
  },
  {
   "cell_type": "code",
   "execution_count": 21,
   "metadata": {
    "collapsed": true
   },
   "outputs": [],
   "source": [
    "# extract the data for producing the model\n",
    "training.data <- training.data[-1]"
   ]
  },
  {
   "cell_type": "code",
   "execution_count": 22,
   "metadata": {
    "collapsed": false
   },
   "outputs": [
    {
     "data": {
      "text/html": [
       "<table>\n",
       "<thead><tr><th scope=col>price</th><th scope=col>bedrooms</th><th scope=col>bathrooms</th><th scope=col>sqft_living</th><th scope=col>sqft_lot</th><th scope=col>waterfront</th><th scope=col>condition</th><th scope=col>grade</th><th scope=col>yr_built</th><th scope=col>zipcode</th></tr></thead>\n",
       "<tbody>\n",
       "\t<tr><td>12.25961</td><td>4       </td><td>1.00    </td><td>7.649693</td><td>9.126959</td><td>0       </td><td>3       </td><td> 7      </td><td>1959    </td><td>98168   </td></tr>\n",
       "\t<tr><td>12.48749</td><td>3       </td><td>2.50    </td><td>7.333023</td><td>8.699515</td><td>0       </td><td>4       </td><td> 7      </td><td>1991    </td><td>98038   </td></tr>\n",
       "\t<tr><td>14.18015</td><td>3       </td><td>3.50    </td><td>8.261010</td><td>8.247744</td><td>0       </td><td>3       </td><td>11      </td><td>2002    </td><td>98102   </td></tr>\n",
       "\t<tr><td>13.59237</td><td>4       </td><td>3.50    </td><td>7.770645</td><td>8.102284</td><td>0       </td><td>3       </td><td> 8      </td><td>1926    </td><td>98103   </td></tr>\n",
       "\t<tr><td>13.87331</td><td>5       </td><td>3.25    </td><td>8.080237</td><td>8.249314</td><td>0       </td><td>3       </td><td> 9      </td><td>2014    </td><td>98117   </td></tr>\n",
       "\t<tr><td>13.52783</td><td>2       </td><td>1.00    </td><td>7.390181</td><td>8.719317</td><td>0       </td><td>3       </td><td> 7      </td><td>1951    </td><td>98115   </td></tr>\n",
       "</tbody>\n",
       "</table>\n"
      ],
      "text/latex": [
       "\\begin{tabular}{r|llllllllll}\n",
       " price & bedrooms & bathrooms & sqft\\_living & sqft\\_lot & waterfront & condition & grade & yr\\_built & zipcode\\\\\n",
       "\\hline\n",
       "\t 12.25961 & 4        & 1.00     & 7.649693 & 9.126959 & 0        & 3        &  7       & 1959     & 98168   \\\\\n",
       "\t 12.48749 & 3        & 2.50     & 7.333023 & 8.699515 & 0        & 4        &  7       & 1991     & 98038   \\\\\n",
       "\t 14.18015 & 3        & 3.50     & 8.261010 & 8.247744 & 0        & 3        & 11       & 2002     & 98102   \\\\\n",
       "\t 13.59237 & 4        & 3.50     & 7.770645 & 8.102284 & 0        & 3        &  8       & 1926     & 98103   \\\\\n",
       "\t 13.87331 & 5        & 3.25     & 8.080237 & 8.249314 & 0        & 3        &  9       & 2014     & 98117   \\\\\n",
       "\t 13.52783 & 2        & 1.00     & 7.390181 & 8.719317 & 0        & 3        &  7       & 1951     & 98115   \\\\\n",
       "\\end{tabular}\n"
      ],
      "text/markdown": [
       "\n",
       "price | bedrooms | bathrooms | sqft_living | sqft_lot | waterfront | condition | grade | yr_built | zipcode | \n",
       "|---|---|---|---|---|---|\n",
       "| 12.25961 | 4        | 1.00     | 7.649693 | 9.126959 | 0        | 3        |  7       | 1959     | 98168    | \n",
       "| 12.48749 | 3        | 2.50     | 7.333023 | 8.699515 | 0        | 4        |  7       | 1991     | 98038    | \n",
       "| 14.18015 | 3        | 3.50     | 8.261010 | 8.247744 | 0        | 3        | 11       | 2002     | 98102    | \n",
       "| 13.59237 | 4        | 3.50     | 7.770645 | 8.102284 | 0        | 3        |  8       | 1926     | 98103    | \n",
       "| 13.87331 | 5        | 3.25     | 8.080237 | 8.249314 | 0        | 3        |  9       | 2014     | 98117    | \n",
       "| 13.52783 | 2        | 1.00     | 7.390181 | 8.719317 | 0        | 3        |  7       | 1951     | 98115    | \n",
       "\n",
       "\n"
      ],
      "text/plain": [
       "  price    bedrooms bathrooms sqft_living sqft_lot waterfront condition grade\n",
       "1 12.25961 4        1.00      7.649693    9.126959 0          3          7   \n",
       "2 12.48749 3        2.50      7.333023    8.699515 0          4          7   \n",
       "3 14.18015 3        3.50      8.261010    8.247744 0          3         11   \n",
       "4 13.59237 4        3.50      7.770645    8.102284 0          3          8   \n",
       "5 13.87331 5        3.25      8.080237    8.249314 0          3          9   \n",
       "6 13.52783 2        1.00      7.390181    8.719317 0          3          7   \n",
       "  yr_built zipcode\n",
       "1 1959     98168  \n",
       "2 1991     98038  \n",
       "3 2002     98102  \n",
       "4 1926     98103  \n",
       "5 2014     98117  \n",
       "6 1951     98115  "
      ]
     },
     "metadata": {},
     "output_type": "display_data"
    }
   ],
   "source": [
    "head(training.data)"
   ]
  },
  {
   "cell_type": "markdown",
   "metadata": {},
   "source": [
    "## 2.5 Determining any association between variables\n",
    "\n",
    "### 2.5.1 Relationship of numerical variables\n",
    "\n",
    "To check if there is a *linear relationship* between numerical variables, we need to compute for the **correlation coefficient**. R makes it easy for us by just calling the `cor()` function. A value of **1** implies heavy positive linear correlation, **-1** for heavy negative linear correlation, while a value close to **0** implies weak or no linear correlation."
   ]
  },
  {
   "cell_type": "code",
   "execution_count": 23,
   "metadata": {
    "collapsed": false
   },
   "outputs": [
    {
     "data": {
      "text/html": [
       "<table>\n",
       "<thead><tr><th></th><th scope=col>price</th><th scope=col>bedrooms</th><th scope=col>bathrooms</th><th scope=col>sqft_living</th><th scope=col>sqft_lot</th><th scope=col>waterfront</th><th scope=col>condition</th><th scope=col>grade</th><th scope=col>yr_built</th></tr></thead>\n",
       "<tbody>\n",
       "\t<tr><th scope=row>price</th><td>1.000 </td><td> 0.323</td><td> 0.525</td><td> 0.696</td><td> 0.094</td><td> 0.295</td><td> 0.033</td><td> 0.669</td><td> 0.061</td></tr>\n",
       "\t<tr><th scope=row>bedrooms</th><td>0.323 </td><td> 1.000</td><td> 0.522</td><td> 0.591</td><td> 0.035</td><td>-0.003</td><td> 0.029</td><td> 0.367</td><td> 0.145</td></tr>\n",
       "\t<tr><th scope=row>bathrooms</th><td>0.525 </td><td> 0.522</td><td> 1.000</td><td> 0.751</td><td> 0.089</td><td> 0.075</td><td>-0.127</td><td> 0.670</td><td> 0.510</td></tr>\n",
       "\t<tr><th scope=row>sqft_living</th><td>0.696 </td><td> 0.591</td><td> 0.751</td><td> 1.000</td><td> 0.187</td><td> 0.120</td><td>-0.063</td><td> 0.765</td><td> 0.322</td></tr>\n",
       "\t<tr><th scope=row>sqft_lot</th><td>0.094 </td><td> 0.035</td><td> 0.089</td><td> 0.187</td><td> 1.000</td><td> 0.027</td><td>-0.017</td><td> 0.117</td><td> 0.058</td></tr>\n",
       "\t<tr><th scope=row>waterfront</th><td>0.295 </td><td>-0.003</td><td> 0.075</td><td> 0.120</td><td> 0.027</td><td> 1.000</td><td> 0.015</td><td> 0.085</td><td>-0.018</td></tr>\n",
       "\t<tr><th scope=row>condition</th><td>0.033 </td><td> 0.029</td><td>-0.127</td><td>-0.063</td><td>-0.017</td><td> 0.015</td><td> 1.000</td><td>-0.150</td><td>-0.364</td></tr>\n",
       "\t<tr><th scope=row>grade</th><td>0.669 </td><td> 0.367</td><td> 0.670</td><td> 0.765</td><td> 0.117</td><td> 0.085</td><td>-0.150</td><td> 1.000</td><td> 0.452</td></tr>\n",
       "\t<tr><th scope=row>yr_built</th><td>0.061 </td><td> 0.145</td><td> 0.510</td><td> 0.322</td><td> 0.058</td><td>-0.018</td><td>-0.364</td><td> 0.452</td><td> 1.000</td></tr>\n",
       "</tbody>\n",
       "</table>\n"
      ],
      "text/latex": [
       "\\begin{tabular}{r|lllllllll}\n",
       "  & price & bedrooms & bathrooms & sqft\\_living & sqft\\_lot & waterfront & condition & grade & yr\\_built\\\\\n",
       "\\hline\n",
       "\tprice & 1.000  &  0.323 &  0.525 &  0.696 &  0.094 &  0.295 &  0.033 &  0.669 &  0.061\\\\\n",
       "\tbedrooms & 0.323  &  1.000 &  0.522 &  0.591 &  0.035 & -0.003 &  0.029 &  0.367 &  0.145\\\\\n",
       "\tbathrooms & 0.525  &  0.522 &  1.000 &  0.751 &  0.089 &  0.075 & -0.127 &  0.670 &  0.510\\\\\n",
       "\tsqft\\_living & 0.696  &  0.591 &  0.751 &  1.000 &  0.187 &  0.120 & -0.063 &  0.765 &  0.322\\\\\n",
       "\tsqft\\_lot & 0.094  &  0.035 &  0.089 &  0.187 &  1.000 &  0.027 & -0.017 &  0.117 &  0.058\\\\\n",
       "\twaterfront & 0.295  & -0.003 &  0.075 &  0.120 &  0.027 &  1.000 &  0.015 &  0.085 & -0.018\\\\\n",
       "\tcondition & 0.033  &  0.029 & -0.127 & -0.063 & -0.017 &  0.015 &  1.000 & -0.150 & -0.364\\\\\n",
       "\tgrade & 0.669  &  0.367 &  0.670 &  0.765 &  0.117 &  0.085 & -0.150 &  1.000 &  0.452\\\\\n",
       "\tyr\\_built & 0.061  &  0.145 &  0.510 &  0.322 &  0.058 & -0.018 & -0.364 &  0.452 &  1.000\\\\\n",
       "\\end{tabular}\n"
      ],
      "text/markdown": [
       "\n",
       "| <!--/--> | price | bedrooms | bathrooms | sqft_living | sqft_lot | waterfront | condition | grade | yr_built | \n",
       "|---|---|---|---|---|---|---|---|---|\n",
       "| price | 1.000  |  0.323 |  0.525 |  0.696 |  0.094 |  0.295 |  0.033 |  0.669 |  0.061 | \n",
       "| bedrooms | 0.323  |  1.000 |  0.522 |  0.591 |  0.035 | -0.003 |  0.029 |  0.367 |  0.145 | \n",
       "| bathrooms | 0.525  |  0.522 |  1.000 |  0.751 |  0.089 |  0.075 | -0.127 |  0.670 |  0.510 | \n",
       "| sqft_living | 0.696  |  0.591 |  0.751 |  1.000 |  0.187 |  0.120 | -0.063 |  0.765 |  0.322 | \n",
       "| sqft_lot | 0.094  |  0.035 |  0.089 |  0.187 |  1.000 |  0.027 | -0.017 |  0.117 |  0.058 | \n",
       "| waterfront | 0.295  | -0.003 |  0.075 |  0.120 |  0.027 |  1.000 |  0.015 |  0.085 | -0.018 | \n",
       "| condition | 0.033  |  0.029 | -0.127 | -0.063 | -0.017 |  0.015 |  1.000 | -0.150 | -0.364 | \n",
       "| grade | 0.669  |  0.367 |  0.670 |  0.765 |  0.117 |  0.085 | -0.150 |  1.000 |  0.452 | \n",
       "| yr_built | 0.061  |  0.145 |  0.510 |  0.322 |  0.058 | -0.018 | -0.364 |  0.452 |  1.000 | \n",
       "\n",
       "\n"
      ],
      "text/plain": [
       "            price bedrooms bathrooms sqft_living sqft_lot waterfront condition\n",
       "price       1.000  0.323    0.525     0.696       0.094    0.295      0.033   \n",
       "bedrooms    0.323  1.000    0.522     0.591       0.035   -0.003      0.029   \n",
       "bathrooms   0.525  0.522    1.000     0.751       0.089    0.075     -0.127   \n",
       "sqft_living 0.696  0.591    0.751     1.000       0.187    0.120     -0.063   \n",
       "sqft_lot    0.094  0.035    0.089     0.187       1.000    0.027     -0.017   \n",
       "waterfront  0.295 -0.003    0.075     0.120       0.027    1.000      0.015   \n",
       "condition   0.033  0.029   -0.127    -0.063      -0.017    0.015      1.000   \n",
       "grade       0.669  0.367    0.670     0.765       0.117    0.085     -0.150   \n",
       "yr_built    0.061  0.145    0.510     0.322       0.058   -0.018     -0.364   \n",
       "            grade  yr_built\n",
       "price        0.669  0.061  \n",
       "bedrooms     0.367  0.145  \n",
       "bathrooms    0.670  0.510  \n",
       "sqft_living  0.765  0.322  \n",
       "sqft_lot     0.117  0.058  \n",
       "waterfront   0.085 -0.018  \n",
       "condition   -0.150 -0.364  \n",
       "grade        1.000  0.452  \n",
       "yr_built     0.452  1.000  "
      ]
     },
     "metadata": {},
     "output_type": "display_data"
    }
   ],
   "source": [
    "# compute correlation for numerical variables\n",
    "round(cor(training.file[2:10]), 3)"
   ]
  },
  {
   "cell_type": "markdown",
   "metadata": {},
   "source": [
    "#### Observations\n",
    "\n",
    "**Which of the following displayed positive correlation?**\n",
    "- bathrooms x sqft_living (0.760)\n",
    "- sqft_living x grade (0.748)\n",
    "- price x sqft_living (0.696)\n",
    "- bathrooms x grade (0.670)\n",
    "- price x grade (0.669)\n",
    "- sqft_living x bedrooms (0.636)\n",
    "- bedrooms x sqft_living(0.591)\n",
    "- price x bathrooms (0.525)\n",
    "- bedrooms x bathrooms (0.522)\n",
    "- bathrooms x yr_built (0.510)\n",
    "\n",
    "**Which of the following displayed negative correlation?**\n",
    "- None. The lowest was the relationship between condition and yr_built (does newer houses tend to have bad condition?), but it's still less than -0.5 to even warrant such correlation. The remaining pairs exhibited weak to no linear correlation.\n",
    "\n",
    "**Which variables exhibited most correlation towards other variables?**\n",
    "- Sqft_living, bathrooms, grade and price are the variables that exhibited the most number of correlations among other variables. The variables bedroom, sqft_lot, and yr_built exhibited moderate correlation with other variables.\n",
    "\n",
    "**Which variables exhibited weak to no correlation towards other variables?**\n",
    "- Waterfront, and condition gave almost no correlation to other variables. This makes it highly probable to be irrelevant to the model that will be built later.\n",
    "\n",
    "Another way of checking for the correlation is to plot the two variables against each other via a scatterplot. To do this over the whole dataset a multivariate scatter plot is produced by using the `pairs()` function or the `scatterplotMatrix()` function. In this scenario, I will use the scatterplotMatrix because it also features a regression line which may be insightful for the model we'll build."
   ]
  },
  {
   "cell_type": "code",
   "execution_count": 24,
   "metadata": {
    "collapsed": false
   },
   "outputs": [
    {
     "data": {
      "image/png": "[encoded data removed]",
      "text/plain": [
       "plot without title"
      ]
     },
     "metadata": {},
     "output_type": "display_data"
    }
   ],
   "source": [
    "# turn off warnings for readability\n",
    "options(warn=-1)\n",
    "scatterplotMatrix(training.file[2:10],cex=0.2)\n",
    "options(warn=0)"
   ]
  },
  {
   "cell_type": "markdown",
   "metadata": {},
   "source": [
    "To see the linearity of the relationship, it might be better to see a magnified scatterplot of the variables with high correlations."
   ]
  },
  {
   "cell_type": "code",
   "execution_count": 25,
   "metadata": {
    "collapsed": false
   },
   "outputs": [
    {
     "data": {},
     "metadata": {},
     "output_type": "display_data"
    },
    {
     "data": {
      "image/png": "[encoded data removed]",
      "text/plain": [
       "plot without title"
      ]
     },
     "metadata": {},
     "output_type": "display_data"
    }
   ],
   "source": [
    "ggplot(aes(x = grade, y = sqft_living), data = training.file) + \n",
    "    geom_point(alpha=1/4, position = 'jitter') +\n",
    "    ggtitle(' Sqft_Living and Grade Relationship')"
   ]
  },
  {
   "cell_type": "code",
   "execution_count": 26,
   "metadata": {
    "collapsed": false
   },
   "outputs": [
    {
     "data": {},
     "metadata": {},
     "output_type": "display_data"
    },
    {
     "data": {
      "image/png": "[encoded data removed]",
      "text/plain": [
       "plot without title"
      ]
     },
     "metadata": {},
     "output_type": "display_data"
    }
   ],
   "source": [
    "ggplot(aes(x = bathrooms, y = sqft_living), data = training.file) + \n",
    "    geom_point(alpha=1/4, position = 'jitter') +\n",
    "    ggtitle(' Sqft_Living and Bathroom Relationship')"
   ]
  },
  {
   "cell_type": "code",
   "execution_count": 27,
   "metadata": {
    "collapsed": false
   },
   "outputs": [
    {
     "data": {},
     "metadata": {},
     "output_type": "display_data"
    },
    {
     "data": {
      "image/png": "[encoded data removed]",
      "text/plain": [
       "plot without title"
      ]
     },
     "metadata": {},
     "output_type": "display_data"
    }
   ],
   "source": [
    "ggplot(aes(x = sqft_living, y = price), data = training.file) + \n",
    "    geom_point(alpha=1/4, position = 'jitter') +\n",
    "    ggtitle(' Sqft_Living and Price Relationship')"
   ]
  },
  {
   "cell_type": "markdown",
   "metadata": {},
   "source": [
    "In this scatterplot, one can clearly see that the sqft_living is heavily skewed. A relationship does exist between the two variables, but it's hard to see if it's linear. \n",
    "\n",
    "The log transformed data makes the linear relationship more apparent."
   ]
  },
  {
   "cell_type": "code",
   "execution_count": 28,
   "metadata": {
    "collapsed": false
   },
   "outputs": [
    {
     "data": {},
     "metadata": {},
     "output_type": "display_data"
    },
    {
     "data": {
      "image/png": "[encoded data removed]",
      "text/plain": [
       "plot without title"
      ]
     },
     "metadata": {},
     "output_type": "display_data"
    }
   ],
   "source": [
    "ggplot(aes(x = sqft_living, y = price), data = training.data) + \n",
    "    geom_point(alpha=1/4, position = 'jitter') +\n",
    "    ggtitle(' Sqft_Living and Price Relationship')"
   ]
  },
  {
   "cell_type": "code",
   "execution_count": 29,
   "metadata": {
    "collapsed": false
   },
   "outputs": [
    {
     "data": {},
     "metadata": {},
     "output_type": "display_data"
    },
    {
     "data": {
      "image/png": "[encoded data removed]",
      "text/plain": [
       "plot without title"
      ]
     },
     "metadata": {},
     "output_type": "display_data"
    }
   ],
   "source": [
    "ggplot(aes(x = grade, y = bathrooms), data = training.data) + \n",
    "    geom_point(alpha=1/4, position = 'jitter') +\n",
    "    ggtitle(' Grade and Bathroom Relationship')"
   ]
  },
  {
   "cell_type": "code",
   "execution_count": 30,
   "metadata": {
    "collapsed": false
   },
   "outputs": [
    {
     "data": {},
     "metadata": {},
     "output_type": "display_data"
    },
    {
     "data": {
      "image/png": "[encoded data removed]",
      "text/plain": [
       "plot without title"
      ]
     },
     "metadata": {},
     "output_type": "display_data"
    }
   ],
   "source": [
    "ggplot(aes(x = grade, y = price/1000), data = training.file) + \n",
    "    geom_point(alpha=1/4, position = 'jitter') +\n",
    "    ggtitle(' Grade and Price Relationship')"
   ]
  },
  {
   "cell_type": "markdown",
   "metadata": {},
   "source": [
    "The relationship between price and grade is more quadratic than linear based from the graph above."
   ]
  },
  {
   "cell_type": "markdown",
   "metadata": {},
   "source": [
    "#### Observations\n",
    "\n",
    "* Houses with high grades are almost equivalent to houses with more space. Does it mean that good design == lots of living space?\n",
    "* Houses with bigger and more bathrooms have tend to have more space (common sense?)\n",
    "* Price is highly correlated to the living space and grade, which is also a common knowledge -- the more space your house has, and the better constructed/designed it is, the higher it will sell.\n",
    "* Price is also highly correlated to the number of bathrooms. So if you want to increase your house's value, just build another bathroom!\n",
    "* Few houses are sold in front of a body of water, so it doesn't say much.\n",
    "* Oddly, 'condition' does not give out any high correlation to price--it might be subjective in the first place. \n",
    "* The age of the house also doesn't have any bearing to a house's price. Well, there have been old (vintage!) and new (modern!) houses sold at high prices.\n",
    "* However, the age of the house does have a moderate correlation with grade. Modern houses are considered better built due to technological advances in building design and construction.\n"
   ]
  },
  {
   "cell_type": "markdown",
   "metadata": {},
   "source": [
    "### 2.5.2 Relationship of categorical variables\n",
    "\n",
    "To check whether zipcode is related to other variables, **chi-square test of independence** is used. Information about chi-square is available on this <a href=\"http://www.r-tutor.com/elementary-statistics/goodness-fit/chi-squared-test-independence\">link</a>. Chi-square statistic can be used to test the null hypothesis *\"Attribute A and Attribute B is independent of each other\"*. If the resulting p-value of the statistic is less than 0.05, then we can reject the null hypothesis.\n",
    "\n",
    "Based on the result below, looks like all of the variables are related to zipcode. This says that location, indeed, can dictate the house price. A small house in an exclusive suburb can be more expensive than a big house in an unrestricted one. Furthermore, based on the p-values, zipcode is more strongly related to **bathrooms, grade, and yr_built**."
   ]
  },
  {
   "cell_type": "code",
   "execution_count": 31,
   "metadata": {
    "collapsed": false
   },
   "outputs": [
    {
     "name": "stdout",
     "output_type": "stream",
     "text": [
      "[1] \"zipcode and  price\"\n",
      "[1] 2.11241e-45\n",
      "[1] \"zipcode and  bedrooms\"\n",
      "[1] 1.850787e-162\n",
      "[1] \"zipcode and  bathrooms\"\n",
      "[1] 0\n",
      "[1] \"zipcode and  sqft_living\"\n",
      "[1] 1.106781e-130\n",
      "[1] \"zipcode and  sqft_lot\"\n",
      "[1] 2.247835e-136\n",
      "[1] \"zipcode and  waterfront\"\n",
      "[1] 2.715047e-66\n",
      "[1] \"zipcode and  condition\"\n",
      "[1] 6.563891e-136\n",
      "[1] \"zipcode and  grade\"\n",
      "[1] 0\n",
      "[1] \"zipcode and  yr_built\"\n",
      "[1] 0\n"
     ]
    }
   ],
   "source": [
    "# turn off warnings for readability\n",
    "options(warn=-1)\n",
    "\n",
    "# perform chisquare test against zipcode to each of the variables\n",
    "for(i in 1:9){\n",
    "    m1 <- table(training.data$zipcode, training.data[,i])\n",
    "    print(paste(\"zipcode and \", colnames(training.data[i])))\n",
    "    print(chisq.test(m1)$p.value)\n",
    "}\n",
    "options(warn=0)"
   ]
  },
  {
   "cell_type": "markdown",
   "metadata": {},
   "source": [
    "We can also checkout the relationship of zipcode with other functions by aggregating the dataset per zipcode value and then getting their median values. Through this we can analyze any **location specific insights.**"
   ]
  },
  {
   "cell_type": "code",
   "execution_count": 32,
   "metadata": {
    "collapsed": false
   },
   "outputs": [
    {
     "data": {
      "text/html": [
       "<table>\n",
       "<thead><tr><th></th><th scope=col>zipcode</th><th scope=col>price</th><th scope=col>num.of.records</th><th scope=col>sqft_living</th><th scope=col>bathrooms</th><th scope=col>yr_built</th><th scope=col>bedrooms</th><th scope=col>sqft_lot</th><th scope=col>grade</th></tr></thead>\n",
       "<tbody>\n",
       "\t<tr><th scope=row>65</th><td>98168     </td><td>225000    </td><td>125       </td><td>1449.600  </td><td>1.000     </td><td>1949.0    </td><td>3         </td><td> 11412.104</td><td>6.448000  </td></tr>\n",
       "\t<tr><th scope=row>2</th><td>98002     </td><td>235000    </td><td> 90       </td><td>1595.389  </td><td>1.750     </td><td>1968.0    </td><td>3         </td><td>  7267.544</td><td>6.700000  </td></tr>\n",
       "\t<tr><th scope=row>21</th><td>98032     </td><td>250000    </td><td> 57       </td><td>1761.632  </td><td>1.750     </td><td>1967.0    </td><td>3         </td><td>  9861.491</td><td>7.157895  </td></tr>\n",
       "\t<tr><th scope=row>1</th><td>98001     </td><td>260000    </td><td>165       </td><td>1857.376  </td><td>2.000     </td><td>1983.0    </td><td>3         </td><td> 14759.624</td><td>7.284848  </td></tr>\n",
       "\t<tr><th scope=row>3</th><td>98003     </td><td>263000    </td><td>122       </td><td>1913.262  </td><td>2.000     </td><td>1977.5    </td><td>3         </td><td>  9734.508</td><td>7.508197  </td></tr>\n",
       "\t<tr><th scope=row>67</th><td>98178     </td><td>265000    </td><td>115       </td><td>1729.826  </td><td>1.750     </td><td>1951.0    </td><td>3         </td><td>  8510.522</td><td>6.826087  </td></tr>\n",
       "\t<tr><th scope=row>69</th><td>98198     </td><td>267500    </td><td>132       </td><td>1762.235  </td><td>1.750     </td><td>1963.5    </td><td>3         </td><td> 10333.652</td><td>7.128788  </td></tr>\n",
       "\t<tr><th scope=row>14</th><td>98023     </td><td>270000    </td><td>244       </td><td>1987.947  </td><td>2.000     </td><td>1978.0    </td><td>3         </td><td>  9972.119</td><td>7.569672  </td></tr>\n",
       "\t<tr><th scope=row>68</th><td>98188     </td><td>271225    </td><td> 74       </td><td>1795.270  </td><td>1.750     </td><td>1961.0    </td><td>3         </td><td>  9627.541</td><td>7.054054  </td></tr>\n",
       "\t<tr><th scope=row>62</th><td>98148     </td><td>278000    </td><td> 27       </td><td>1516.296  </td><td>1.500     </td><td>1954.0    </td><td>3         </td><td>  8457.148</td><td>6.888889  </td></tr>\n",
       "\t<tr><th scope=row>20</th><td>98031     </td><td>279000    </td><td>111       </td><td>1867.117  </td><td>2.250     </td><td>1981.0    </td><td>3         </td><td> 10888.063</td><td>7.306306  </td></tr>\n",
       "\t<tr><th scope=row>13</th><td>98022     </td><td>279500    </td><td> 98       </td><td>1817.867  </td><td>1.875     </td><td>1975.5    </td><td>3         </td><td> 75814.041</td><td>7.112245  </td></tr>\n",
       "\t<tr><th scope=row>19</th><td>98030     </td><td>289975    </td><td>126       </td><td>1990.079  </td><td>2.375     </td><td>1990.5    </td><td>3         </td><td> 10601.968</td><td>7.325397  </td></tr>\n",
       "\t<tr><th scope=row>31</th><td>98055     </td><td>293950    </td><td>126       </td><td>1789.373  </td><td>1.750     </td><td>1966.0    </td><td>3         </td><td> 11415.444</td><td>7.150794  </td></tr>\n",
       "\t<tr><th scope=row>61</th><td>98146     </td><td>294800    </td><td>134       </td><td>1605.448  </td><td>1.500     </td><td>1949.5    </td><td>3         </td><td>  9127.187</td><td>6.753731  </td></tr>\n",
       "\t<tr><th scope=row>27</th><td>98042     </td><td>299000    </td><td>273       </td><td>2017.000  </td><td>2.500     </td><td>1988.0    </td><td>3         </td><td> 21541.308</td><td>7.498168  </td></tr>\n",
       "\t<tr><th scope=row>41</th><td>98092     </td><td>302000    </td><td>165       </td><td>2110.576  </td><td>2.500     </td><td>1989.0    </td><td>3         </td><td> 28053.594</td><td>7.703030  </td></tr>\n",
       "\t<tr><th scope=row>45</th><td>98106     </td><td>312250    </td><td>146       </td><td>1496.521  </td><td>1.750     </td><td>1955.0    </td><td>3         </td><td>  5569.068</td><td>6.869863  </td></tr>\n",
       "\t<tr><th scope=row>33</th><td>98058     </td><td>329950    </td><td>226       </td><td>2072.341  </td><td>2.250     </td><td>1977.5    </td><td>3         </td><td> 21420.195</td><td>7.646018  </td></tr>\n",
       "\t<tr><th scope=row>47</th><td>98108     </td><td>335000    </td><td> 90       </td><td>1672.444  </td><td>1.750     </td><td>1949.5    </td><td>3         </td><td>  5216.678</td><td>6.922222  </td></tr>\n",
       "\t<tr><th scope=row>9</th><td>98010     </td><td>340000    </td><td> 39       </td><td>2069.590  </td><td>2.000     </td><td>1990.0    </td><td>3         </td><td> 44340.949</td><td>7.487179  </td></tr>\n",
       "\t<tr><th scope=row>24</th><td>98038     </td><td>345475    </td><td>250       </td><td>2181.860  </td><td>2.500     </td><td>2001.5    </td><td>3         </td><td> 19600.596</td><td>7.608000  </td></tr>\n",
       "\t<tr><th scope=row>53</th><td>98118     </td><td>365000    </td><td>235       </td><td>1687.996  </td><td>1.750     </td><td>1949.0    </td><td>3         </td><td>  5989.251</td><td>6.970213  </td></tr>\n",
       "\t<tr><th scope=row>58</th><td>98133     </td><td>373000    </td><td>241       </td><td>1619.041  </td><td>1.750     </td><td>1955.0    </td><td>3         </td><td>  6872.664</td><td>7.112033  </td></tr>\n",
       "\t<tr><th scope=row>32</th><td>98056     </td><td>380000    </td><td>187       </td><td>2033.075  </td><td>2.000     </td><td>1970.0    </td><td>3         </td><td>  9136.556</td><td>7.294118  </td></tr>\n",
       "\t<tr><th scope=row>63</th><td>98155     </td><td>386000    </td><td>202       </td><td>1780.743  </td><td>1.750     </td><td>1955.0    </td><td>3         </td><td> 10260.257</td><td>7.183168  </td></tr>\n",
       "\t<tr><th scope=row>28</th><td>98045     </td><td>391000    </td><td>120       </td><td>2050.542  </td><td>2.000     </td><td>1987.5    </td><td>3         </td><td> 42149.475</td><td>7.558333  </td></tr>\n",
       "\t<tr><th scope=row>64</th><td>98166     </td><td>393975    </td><td>110       </td><td>2090.282  </td><td>1.750     </td><td>1955.0    </td><td>3         </td><td> 13313.318</td><td>7.445455  </td></tr>\n",
       "\t<tr><th scope=row>12</th><td>98019     </td><td>396500    </td><td> 74       </td><td>2101.257  </td><td>2.500     </td><td>1996.0    </td><td>3         </td><td> 45999.851</td><td>7.351351  </td></tr>\n",
       "\t<tr><th scope=row>57</th><td>98126     </td><td>399475    </td><td>168       </td><td>1550.018  </td><td>1.500     </td><td>1944.0    </td><td>3         </td><td>  5266.690</td><td>7.053571  </td></tr>\n",
       "\t<tr><th scope=row>11</th><td>98014     </td><td>420850    </td><td> 61       </td><td>2191.541  </td><td>2.000     </td><td>1989.0    </td><td>3         </td><td>101100.590</td><td>7.491803  </td></tr>\n",
       "\t<tr><th scope=row>17</th><td>98028     </td><td>425000    </td><td>109       </td><td>2177.385  </td><td>2.250     </td><td>1978.0    </td><td>4         </td><td> 11208.211</td><td>7.568807  </td></tr>\n",
       "\t<tr><th scope=row>34</th><td>98059     </td><td>428450    </td><td>216       </td><td>2384.954  </td><td>2.500     </td><td>1995.5    </td><td>4         </td><td> 15616.755</td><td>7.870370  </td></tr>\n",
       "\t<tr><th scope=row>56</th><td>98125     </td><td>430000    </td><td>207       </td><td>1772.971  </td><td>1.750     </td><td>1953.0    </td><td>3         </td><td>  7889.217</td><td>7.164251  </td></tr>\n",
       "\t<tr><th scope=row>15</th><td>98024     </td><td>440000    </td><td> 45       </td><td>2335.000  </td><td>2.000     </td><td>1977.0    </td><td>3         </td><td> 80637.289</td><td>7.622222  </td></tr>\n",
       "\t<tr><th scope=row>23</th><td>98034     </td><td>446475    </td><td>266       </td><td>1944.455  </td><td>2.250     </td><td>1974.0    </td><td>3         </td><td> 10125.425</td><td>7.496241  </td></tr>\n",
       "\t<tr><th scope=row>60</th><td>98144     </td><td>465000    </td><td>151       </td><td>2017.550  </td><td>2.000     </td><td>1941.0    </td><td>3         </td><td>  4409.490</td><td>7.609272  </td></tr>\n",
       "\t<tr><th scope=row>10</th><td>98011     </td><td>466500    </td><td> 86       </td><td>2173.605  </td><td>2.250     </td><td>1982.0    </td><td>3         </td><td> 12900.698</td><td>7.720930  </td></tr>\n",
       "\t<tr><th scope=row>36</th><td>98070     </td><td>480000    </td><td> 55       </td><td>1889.345  </td><td>1.750     </td><td>1976.0    </td><td>3         </td><td> 98054.673</td><td>7.290909  </td></tr>\n",
       "\t<tr><th scope=row>35</th><td>98065     </td><td>491000    </td><td>150       </td><td>2527.267  </td><td>2.500     </td><td>2004.0    </td><td>4         </td><td> 21458.240</td><td>7.760000  </td></tr>\n",
       "\t<tr><th scope=row>37</th><td>98072     </td><td>500000    </td><td>109       </td><td>2319.908  </td><td>2.250     </td><td>1979.0    </td><td>3         </td><td> 30450.560</td><td>7.990826  </td></tr>\n",
       "\t<tr><th scope=row>59</th><td>98136     </td><td>515000    </td><td>111       </td><td>1737.802  </td><td>1.750     </td><td>1943.0    </td><td>3         </td><td>  6008.649</td><td>7.414414  </td></tr>\n",
       "\t<tr><th scope=row>46</th><td>98107     </td><td>536500    </td><td>137       </td><td>1607.372  </td><td>2.000     </td><td>1951.0    </td><td>3         </td><td>  3227.131</td><td>7.459854  </td></tr>\n",
       "\t<tr><th scope=row>52</th><td>98117     </td><td>541000    </td><td>258       </td><td>1695.140  </td><td>1.750     </td><td>1940.5    </td><td>3         </td><td>  4650.116</td><td>7.267442  </td></tr>\n",
       "\t<tr><th scope=row>43</th><td>98103     </td><td>550000    </td><td>272       </td><td>1607.375  </td><td>2.000     </td><td>1929.5    </td><td>3         </td><td>  3529.254</td><td>7.411765  </td></tr>\n",
       "\t<tr><th scope=row>8</th><td>98008     </td><td>554500    </td><td>129       </td><td>2175.620  </td><td>2.250     </td><td>1964.0    </td><td>4         </td><td> 10238.597</td><td>7.596899  </td></tr>\n",
       "\t<tr><th scope=row>51</th><td>98116     </td><td>567500    </td><td>145       </td><td>1845.883  </td><td>2.000     </td><td>1950.0    </td><td>3         </td><td>  4949.207</td><td>7.517241  </td></tr>\n",
       "\t<tr><th scope=row>55</th><td>98122     </td><td>567500    </td><td>130       </td><td>1807.892  </td><td>2.000     </td><td>1929.0    </td><td>3         </td><td>  3394.669</td><td>7.815385  </td></tr>\n",
       "\t<tr><th scope=row>50</th><td>98115     </td><td>568750    </td><td>262       </td><td>1847.279  </td><td>1.750     </td><td>1945.0    </td><td>3         </td><td>  5423.576</td><td>7.381679  </td></tr>\n",
       "\t<tr><th scope=row>66</th><td>98177     </td><td>575000    </td><td>120       </td><td>2350.083  </td><td>2.000     </td><td>1955.0    </td><td>3         </td><td> 12396.508</td><td>8.041667  </td></tr>\n",
       "</tbody>\n",
       "</table>\n"
      ],
      "text/latex": [
       "\\begin{tabular}{r|lllllllll}\n",
       "  & zipcode & price & num.of.records & sqft\\_living & bathrooms & yr\\_built & bedrooms & sqft\\_lot & grade\\\\\n",
       "\\hline\n",
       "\t65 & 98168      & 225000     & 125        & 1449.600   & 1.000      & 1949.0     & 3          &  11412.104 & 6.448000  \\\\\n",
       "\t2 & 98002      & 235000     &  90        & 1595.389   & 1.750      & 1968.0     & 3          &   7267.544 & 6.700000  \\\\\n",
       "\t21 & 98032      & 250000     &  57        & 1761.632   & 1.750      & 1967.0     & 3          &   9861.491 & 7.157895  \\\\\n",
       "\t1 & 98001      & 260000     & 165        & 1857.376   & 2.000      & 1983.0     & 3          &  14759.624 & 7.284848  \\\\\n",
       "\t3 & 98003      & 263000     & 122        & 1913.262   & 2.000      & 1977.5     & 3          &   9734.508 & 7.508197  \\\\\n",
       "\t67 & 98178      & 265000     & 115        & 1729.826   & 1.750      & 1951.0     & 3          &   8510.522 & 6.826087  \\\\\n",
       "\t69 & 98198      & 267500     & 132        & 1762.235   & 1.750      & 1963.5     & 3          &  10333.652 & 7.128788  \\\\\n",
       "\t14 & 98023      & 270000     & 244        & 1987.947   & 2.000      & 1978.0     & 3          &   9972.119 & 7.569672  \\\\\n",
       "\t68 & 98188      & 271225     &  74        & 1795.270   & 1.750      & 1961.0     & 3          &   9627.541 & 7.054054  \\\\\n",
       "\t62 & 98148      & 278000     &  27        & 1516.296   & 1.500      & 1954.0     & 3          &   8457.148 & 6.888889  \\\\\n",
       "\t20 & 98031      & 279000     & 111        & 1867.117   & 2.250      & 1981.0     & 3          &  10888.063 & 7.306306  \\\\\n",
       "\t13 & 98022      & 279500     &  98        & 1817.867   & 1.875      & 1975.5     & 3          &  75814.041 & 7.112245  \\\\\n",
       "\t19 & 98030      & 289975     & 126        & 1990.079   & 2.375      & 1990.5     & 3          &  10601.968 & 7.325397  \\\\\n",
       "\t31 & 98055      & 293950     & 126        & 1789.373   & 1.750      & 1966.0     & 3          &  11415.444 & 7.150794  \\\\\n",
       "\t61 & 98146      & 294800     & 134        & 1605.448   & 1.500      & 1949.5     & 3          &   9127.187 & 6.753731  \\\\\n",
       "\t27 & 98042      & 299000     & 273        & 2017.000   & 2.500      & 1988.0     & 3          &  21541.308 & 7.498168  \\\\\n",
       "\t41 & 98092      & 302000     & 165        & 2110.576   & 2.500      & 1989.0     & 3          &  28053.594 & 7.703030  \\\\\n",
       "\t45 & 98106      & 312250     & 146        & 1496.521   & 1.750      & 1955.0     & 3          &   5569.068 & 6.869863  \\\\\n",
       "\t33 & 98058      & 329950     & 226        & 2072.341   & 2.250      & 1977.5     & 3          &  21420.195 & 7.646018  \\\\\n",
       "\t47 & 98108      & 335000     &  90        & 1672.444   & 1.750      & 1949.5     & 3          &   5216.678 & 6.922222  \\\\\n",
       "\t9 & 98010      & 340000     &  39        & 2069.590   & 2.000      & 1990.0     & 3          &  44340.949 & 7.487179  \\\\\n",
       "\t24 & 98038      & 345475     & 250        & 2181.860   & 2.500      & 2001.5     & 3          &  19600.596 & 7.608000  \\\\\n",
       "\t53 & 98118      & 365000     & 235        & 1687.996   & 1.750      & 1949.0     & 3          &   5989.251 & 6.970213  \\\\\n",
       "\t58 & 98133      & 373000     & 241        & 1619.041   & 1.750      & 1955.0     & 3          &   6872.664 & 7.112033  \\\\\n",
       "\t32 & 98056      & 380000     & 187        & 2033.075   & 2.000      & 1970.0     & 3          &   9136.556 & 7.294118  \\\\\n",
       "\t63 & 98155      & 386000     & 202        & 1780.743   & 1.750      & 1955.0     & 3          &  10260.257 & 7.183168  \\\\\n",
       "\t28 & 98045      & 391000     & 120        & 2050.542   & 2.000      & 1987.5     & 3          &  42149.475 & 7.558333  \\\\\n",
       "\t64 & 98166      & 393975     & 110        & 2090.282   & 1.750      & 1955.0     & 3          &  13313.318 & 7.445455  \\\\\n",
       "\t12 & 98019      & 396500     &  74        & 2101.257   & 2.500      & 1996.0     & 3          &  45999.851 & 7.351351  \\\\\n",
       "\t57 & 98126      & 399475     & 168        & 1550.018   & 1.500      & 1944.0     & 3          &   5266.690 & 7.053571  \\\\\n",
       "\t11 & 98014      & 420850     &  61        & 2191.541   & 2.000      & 1989.0     & 3          & 101100.590 & 7.491803  \\\\\n",
       "\t17 & 98028      & 425000     & 109        & 2177.385   & 2.250      & 1978.0     & 4          &  11208.211 & 7.568807  \\\\\n",
       "\t34 & 98059      & 428450     & 216        & 2384.954   & 2.500      & 1995.5     & 4          &  15616.755 & 7.870370  \\\\\n",
       "\t56 & 98125      & 430000     & 207        & 1772.971   & 1.750      & 1953.0     & 3          &   7889.217 & 7.164251  \\\\\n",
       "\t15 & 98024      & 440000     &  45        & 2335.000   & 2.000      & 1977.0     & 3          &  80637.289 & 7.622222  \\\\\n",
       "\t23 & 98034      & 446475     & 266        & 1944.455   & 2.250      & 1974.0     & 3          &  10125.425 & 7.496241  \\\\\n",
       "\t60 & 98144      & 465000     & 151        & 2017.550   & 2.000      & 1941.0     & 3          &   4409.490 & 7.609272  \\\\\n",
       "\t10 & 98011      & 466500     &  86        & 2173.605   & 2.250      & 1982.0     & 3          &  12900.698 & 7.720930  \\\\\n",
       "\t36 & 98070      & 480000     &  55        & 1889.345   & 1.750      & 1976.0     & 3          &  98054.673 & 7.290909  \\\\\n",
       "\t35 & 98065      & 491000     & 150        & 2527.267   & 2.500      & 2004.0     & 4          &  21458.240 & 7.760000  \\\\\n",
       "\t37 & 98072      & 500000     & 109        & 2319.908   & 2.250      & 1979.0     & 3          &  30450.560 & 7.990826  \\\\\n",
       "\t59 & 98136      & 515000     & 111        & 1737.802   & 1.750      & 1943.0     & 3          &   6008.649 & 7.414414  \\\\\n",
       "\t46 & 98107      & 536500     & 137        & 1607.372   & 2.000      & 1951.0     & 3          &   3227.131 & 7.459854  \\\\\n",
       "\t52 & 98117      & 541000     & 258        & 1695.140   & 1.750      & 1940.5     & 3          &   4650.116 & 7.267442  \\\\\n",
       "\t43 & 98103      & 550000     & 272        & 1607.375   & 2.000      & 1929.5     & 3          &   3529.254 & 7.411765  \\\\\n",
       "\t8 & 98008      & 554500     & 129        & 2175.620   & 2.250      & 1964.0     & 4          &  10238.597 & 7.596899  \\\\\n",
       "\t51 & 98116      & 567500     & 145        & 1845.883   & 2.000      & 1950.0     & 3          &   4949.207 & 7.517241  \\\\\n",
       "\t55 & 98122      & 567500     & 130        & 1807.892   & 2.000      & 1929.0     & 3          &   3394.669 & 7.815385  \\\\\n",
       "\t50 & 98115      & 568750     & 262        & 1847.279   & 1.750      & 1945.0     & 3          &   5423.576 & 7.381679  \\\\\n",
       "\t66 & 98177      & 575000     & 120        & 2350.083   & 2.000      & 1955.0     & 3          &  12396.508 & 8.041667  \\\\\n",
       "\\end{tabular}\n"
      ],
      "text/markdown": [
       "\n",
       "| <!--/--> | zipcode | price | num.of.records | sqft_living | bathrooms | yr_built | bedrooms | sqft_lot | grade | \n",
       "|---|---|---|---|---|---|---|---|---|---|---|---|---|---|---|---|---|---|---|---|---|---|---|---|---|---|---|---|---|---|---|---|---|---|---|---|---|---|---|---|---|---|---|---|---|---|---|---|---|---|\n",
       "| 65 | 98168      | 225000     | 125        | 1449.600   | 1.000      | 1949.0     | 3          |  11412.104 | 6.448000   | \n",
       "| 2 | 98002      | 235000     |  90        | 1595.389   | 1.750      | 1968.0     | 3          |   7267.544 | 6.700000   | \n",
       "| 21 | 98032      | 250000     |  57        | 1761.632   | 1.750      | 1967.0     | 3          |   9861.491 | 7.157895   | \n",
       "| 1 | 98001      | 260000     | 165        | 1857.376   | 2.000      | 1983.0     | 3          |  14759.624 | 7.284848   | \n",
       "| 3 | 98003      | 263000     | 122        | 1913.262   | 2.000      | 1977.5     | 3          |   9734.508 | 7.508197   | \n",
       "| 67 | 98178      | 265000     | 115        | 1729.826   | 1.750      | 1951.0     | 3          |   8510.522 | 6.826087   | \n",
       "| 69 | 98198      | 267500     | 132        | 1762.235   | 1.750      | 1963.5     | 3          |  10333.652 | 7.128788   | \n",
       "| 14 | 98023      | 270000     | 244        | 1987.947   | 2.000      | 1978.0     | 3          |   9972.119 | 7.569672   | \n",
       "| 68 | 98188      | 271225     |  74        | 1795.270   | 1.750      | 1961.0     | 3          |   9627.541 | 7.054054   | \n",
       "| 62 | 98148      | 278000     |  27        | 1516.296   | 1.500      | 1954.0     | 3          |   8457.148 | 6.888889   | \n",
       "| 20 | 98031      | 279000     | 111        | 1867.117   | 2.250      | 1981.0     | 3          |  10888.063 | 7.306306   | \n",
       "| 13 | 98022      | 279500     |  98        | 1817.867   | 1.875      | 1975.5     | 3          |  75814.041 | 7.112245   | \n",
       "| 19 | 98030      | 289975     | 126        | 1990.079   | 2.375      | 1990.5     | 3          |  10601.968 | 7.325397   | \n",
       "| 31 | 98055      | 293950     | 126        | 1789.373   | 1.750      | 1966.0     | 3          |  11415.444 | 7.150794   | \n",
       "| 61 | 98146      | 294800     | 134        | 1605.448   | 1.500      | 1949.5     | 3          |   9127.187 | 6.753731   | \n",
       "| 27 | 98042      | 299000     | 273        | 2017.000   | 2.500      | 1988.0     | 3          |  21541.308 | 7.498168   | \n",
       "| 41 | 98092      | 302000     | 165        | 2110.576   | 2.500      | 1989.0     | 3          |  28053.594 | 7.703030   | \n",
       "| 45 | 98106      | 312250     | 146        | 1496.521   | 1.750      | 1955.0     | 3          |   5569.068 | 6.869863   | \n",
       "| 33 | 98058      | 329950     | 226        | 2072.341   | 2.250      | 1977.5     | 3          |  21420.195 | 7.646018   | \n",
       "| 47 | 98108      | 335000     |  90        | 1672.444   | 1.750      | 1949.5     | 3          |   5216.678 | 6.922222   | \n",
       "| 9 | 98010      | 340000     |  39        | 2069.590   | 2.000      | 1990.0     | 3          |  44340.949 | 7.487179   | \n",
       "| 24 | 98038      | 345475     | 250        | 2181.860   | 2.500      | 2001.5     | 3          |  19600.596 | 7.608000   | \n",
       "| 53 | 98118      | 365000     | 235        | 1687.996   | 1.750      | 1949.0     | 3          |   5989.251 | 6.970213   | \n",
       "| 58 | 98133      | 373000     | 241        | 1619.041   | 1.750      | 1955.0     | 3          |   6872.664 | 7.112033   | \n",
       "| 32 | 98056      | 380000     | 187        | 2033.075   | 2.000      | 1970.0     | 3          |   9136.556 | 7.294118   | \n",
       "| 63 | 98155      | 386000     | 202        | 1780.743   | 1.750      | 1955.0     | 3          |  10260.257 | 7.183168   | \n",
       "| 28 | 98045      | 391000     | 120        | 2050.542   | 2.000      | 1987.5     | 3          |  42149.475 | 7.558333   | \n",
       "| 64 | 98166      | 393975     | 110        | 2090.282   | 1.750      | 1955.0     | 3          |  13313.318 | 7.445455   | \n",
       "| 12 | 98019      | 396500     |  74        | 2101.257   | 2.500      | 1996.0     | 3          |  45999.851 | 7.351351   | \n",
       "| 57 | 98126      | 399475     | 168        | 1550.018   | 1.500      | 1944.0     | 3          |   5266.690 | 7.053571   | \n",
       "| 11 | 98014      | 420850     |  61        | 2191.541   | 2.000      | 1989.0     | 3          | 101100.590 | 7.491803   | \n",
       "| 17 | 98028      | 425000     | 109        | 2177.385   | 2.250      | 1978.0     | 4          |  11208.211 | 7.568807   | \n",
       "| 34 | 98059      | 428450     | 216        | 2384.954   | 2.500      | 1995.5     | 4          |  15616.755 | 7.870370   | \n",
       "| 56 | 98125      | 430000     | 207        | 1772.971   | 1.750      | 1953.0     | 3          |   7889.217 | 7.164251   | \n",
       "| 15 | 98024      | 440000     |  45        | 2335.000   | 2.000      | 1977.0     | 3          |  80637.289 | 7.622222   | \n",
       "| 23 | 98034      | 446475     | 266        | 1944.455   | 2.250      | 1974.0     | 3          |  10125.425 | 7.496241   | \n",
       "| 60 | 98144      | 465000     | 151        | 2017.550   | 2.000      | 1941.0     | 3          |   4409.490 | 7.609272   | \n",
       "| 10 | 98011      | 466500     |  86        | 2173.605   | 2.250      | 1982.0     | 3          |  12900.698 | 7.720930   | \n",
       "| 36 | 98070      | 480000     |  55        | 1889.345   | 1.750      | 1976.0     | 3          |  98054.673 | 7.290909   | \n",
       "| 35 | 98065      | 491000     | 150        | 2527.267   | 2.500      | 2004.0     | 4          |  21458.240 | 7.760000   | \n",
       "| 37 | 98072      | 500000     | 109        | 2319.908   | 2.250      | 1979.0     | 3          |  30450.560 | 7.990826   | \n",
       "| 59 | 98136      | 515000     | 111        | 1737.802   | 1.750      | 1943.0     | 3          |   6008.649 | 7.414414   | \n",
       "| 46 | 98107      | 536500     | 137        | 1607.372   | 2.000      | 1951.0     | 3          |   3227.131 | 7.459854   | \n",
       "| 52 | 98117      | 541000     | 258        | 1695.140   | 1.750      | 1940.5     | 3          |   4650.116 | 7.267442   | \n",
       "| 43 | 98103      | 550000     | 272        | 1607.375   | 2.000      | 1929.5     | 3          |   3529.254 | 7.411765   | \n",
       "| 8 | 98008      | 554500     | 129        | 2175.620   | 2.250      | 1964.0     | 4          |  10238.597 | 7.596899   | \n",
       "| 51 | 98116      | 567500     | 145        | 1845.883   | 2.000      | 1950.0     | 3          |   4949.207 | 7.517241   | \n",
       "| 55 | 98122      | 567500     | 130        | 1807.892   | 2.000      | 1929.0     | 3          |   3394.669 | 7.815385   | \n",
       "| 50 | 98115      | 568750     | 262        | 1847.279   | 1.750      | 1945.0     | 3          |   5423.576 | 7.381679   | \n",
       "| 66 | 98177      | 575000     | 120        | 2350.083   | 2.000      | 1955.0     | 3          |  12396.508 | 8.041667   | \n",
       "\n",
       "\n"
      ],
      "text/plain": [
       "   zipcode price  num.of.records sqft_living bathrooms yr_built bedrooms\n",
       "65 98168   225000 125            1449.600    1.000     1949.0   3       \n",
       "2  98002   235000  90            1595.389    1.750     1968.0   3       \n",
       "21 98032   250000  57            1761.632    1.750     1967.0   3       \n",
       "1  98001   260000 165            1857.376    2.000     1983.0   3       \n",
       "3  98003   263000 122            1913.262    2.000     1977.5   3       \n",
       "67 98178   265000 115            1729.826    1.750     1951.0   3       \n",
       "69 98198   267500 132            1762.235    1.750     1963.5   3       \n",
       "14 98023   270000 244            1987.947    2.000     1978.0   3       \n",
       "68 98188   271225  74            1795.270    1.750     1961.0   3       \n",
       "62 98148   278000  27            1516.296    1.500     1954.0   3       \n",
       "20 98031   279000 111            1867.117    2.250     1981.0   3       \n",
       "13 98022   279500  98            1817.867    1.875     1975.5   3       \n",
       "19 98030   289975 126            1990.079    2.375     1990.5   3       \n",
       "31 98055   293950 126            1789.373    1.750     1966.0   3       \n",
       "61 98146   294800 134            1605.448    1.500     1949.5   3       \n",
       "27 98042   299000 273            2017.000    2.500     1988.0   3       \n",
       "41 98092   302000 165            2110.576    2.500     1989.0   3       \n",
       "45 98106   312250 146            1496.521    1.750     1955.0   3       \n",
       "33 98058   329950 226            2072.341    2.250     1977.5   3       \n",
       "47 98108   335000  90            1672.444    1.750     1949.5   3       \n",
       "9  98010   340000  39            2069.590    2.000     1990.0   3       \n",
       "24 98038   345475 250            2181.860    2.500     2001.5   3       \n",
       "53 98118   365000 235            1687.996    1.750     1949.0   3       \n",
       "58 98133   373000 241            1619.041    1.750     1955.0   3       \n",
       "32 98056   380000 187            2033.075    2.000     1970.0   3       \n",
       "63 98155   386000 202            1780.743    1.750     1955.0   3       \n",
       "28 98045   391000 120            2050.542    2.000     1987.5   3       \n",
       "64 98166   393975 110            2090.282    1.750     1955.0   3       \n",
       "12 98019   396500  74            2101.257    2.500     1996.0   3       \n",
       "57 98126   399475 168            1550.018    1.500     1944.0   3       \n",
       "11 98014   420850  61            2191.541    2.000     1989.0   3       \n",
       "17 98028   425000 109            2177.385    2.250     1978.0   4       \n",
       "34 98059   428450 216            2384.954    2.500     1995.5   4       \n",
       "56 98125   430000 207            1772.971    1.750     1953.0   3       \n",
       "15 98024   440000  45            2335.000    2.000     1977.0   3       \n",
       "23 98034   446475 266            1944.455    2.250     1974.0   3       \n",
       "60 98144   465000 151            2017.550    2.000     1941.0   3       \n",
       "10 98011   466500  86            2173.605    2.250     1982.0   3       \n",
       "36 98070   480000  55            1889.345    1.750     1976.0   3       \n",
       "35 98065   491000 150            2527.267    2.500     2004.0   4       \n",
       "37 98072   500000 109            2319.908    2.250     1979.0   3       \n",
       "59 98136   515000 111            1737.802    1.750     1943.0   3       \n",
       "46 98107   536500 137            1607.372    2.000     1951.0   3       \n",
       "52 98117   541000 258            1695.140    1.750     1940.5   3       \n",
       "43 98103   550000 272            1607.375    2.000     1929.5   3       \n",
       "8  98008   554500 129            2175.620    2.250     1964.0   4       \n",
       "51 98116   567500 145            1845.883    2.000     1950.0   3       \n",
       "55 98122   567500 130            1807.892    2.000     1929.0   3       \n",
       "50 98115   568750 262            1847.279    1.750     1945.0   3       \n",
       "66 98177   575000 120            2350.083    2.000     1955.0   3       \n",
       "   sqft_lot   grade   \n",
       "65  11412.104 6.448000\n",
       "2    7267.544 6.700000\n",
       "21   9861.491 7.157895\n",
       "1   14759.624 7.284848\n",
       "3    9734.508 7.508197\n",
       "67   8510.522 6.826087\n",
       "69  10333.652 7.128788\n",
       "14   9972.119 7.569672\n",
       "68   9627.541 7.054054\n",
       "62   8457.148 6.888889\n",
       "20  10888.063 7.306306\n",
       "13  75814.041 7.112245\n",
       "19  10601.968 7.325397\n",
       "31  11415.444 7.150794\n",
       "61   9127.187 6.753731\n",
       "27  21541.308 7.498168\n",
       "41  28053.594 7.703030\n",
       "45   5569.068 6.869863\n",
       "33  21420.195 7.646018\n",
       "47   5216.678 6.922222\n",
       "9   44340.949 7.487179\n",
       "24  19600.596 7.608000\n",
       "53   5989.251 6.970213\n",
       "58   6872.664 7.112033\n",
       "32   9136.556 7.294118\n",
       "63  10260.257 7.183168\n",
       "28  42149.475 7.558333\n",
       "64  13313.318 7.445455\n",
       "12  45999.851 7.351351\n",
       "57   5266.690 7.053571\n",
       "11 101100.590 7.491803\n",
       "17  11208.211 7.568807\n",
       "34  15616.755 7.870370\n",
       "56   7889.217 7.164251\n",
       "15  80637.289 7.622222\n",
       "23  10125.425 7.496241\n",
       "60   4409.490 7.609272\n",
       "10  12900.698 7.720930\n",
       "36  98054.673 7.290909\n",
       "35  21458.240 7.760000\n",
       "37  30450.560 7.990826\n",
       "59   6008.649 7.414414\n",
       "46   3227.131 7.459854\n",
       "52   4650.116 7.267442\n",
       "43   3529.254 7.411765\n",
       "8   10238.597 7.596899\n",
       "51   4949.207 7.517241\n",
       "55   3394.669 7.815385\n",
       "50   5423.576 7.381679\n",
       "66  12396.508 8.041667"
      ]
     },
     "metadata": {},
     "output_type": "display_data"
    },
    {
     "data": {
      "text/html": [
       "<table>\n",
       "<thead><tr><th></th><th scope=col>zipcode</th><th scope=col>price</th><th scope=col>num.of.records</th><th scope=col>sqft_living</th><th scope=col>bathrooms</th><th scope=col>yr_built</th><th scope=col>bedrooms</th><th scope=col>sqft_lot</th><th scope=col>grade</th></tr></thead>\n",
       "<tbody>\n",
       "\t<tr><th scope=row>9</th><td>98010     </td><td> 340000   </td><td> 39       </td><td>2069.590  </td><td>2.00      </td><td>1990.0    </td><td>3         </td><td> 44340.949</td><td>7.487179  </td></tr>\n",
       "\t<tr><th scope=row>24</th><td>98038     </td><td> 345475   </td><td>250       </td><td>2181.860  </td><td>2.50      </td><td>2001.5    </td><td>3         </td><td> 19600.596</td><td>7.608000  </td></tr>\n",
       "\t<tr><th scope=row>53</th><td>98118     </td><td> 365000   </td><td>235       </td><td>1687.996  </td><td>1.75      </td><td>1949.0    </td><td>3         </td><td>  5989.251</td><td>6.970213  </td></tr>\n",
       "\t<tr><th scope=row>58</th><td>98133     </td><td> 373000   </td><td>241       </td><td>1619.041  </td><td>1.75      </td><td>1955.0    </td><td>3         </td><td>  6872.664</td><td>7.112033  </td></tr>\n",
       "\t<tr><th scope=row>32</th><td>98056     </td><td> 380000   </td><td>187       </td><td>2033.075  </td><td>2.00      </td><td>1970.0    </td><td>3         </td><td>  9136.556</td><td>7.294118  </td></tr>\n",
       "\t<tr><th scope=row>63</th><td>98155     </td><td> 386000   </td><td>202       </td><td>1780.743  </td><td>1.75      </td><td>1955.0    </td><td>3         </td><td> 10260.257</td><td>7.183168  </td></tr>\n",
       "\t<tr><th scope=row>28</th><td>98045     </td><td> 391000   </td><td>120       </td><td>2050.542  </td><td>2.00      </td><td>1987.5    </td><td>3         </td><td> 42149.475</td><td>7.558333  </td></tr>\n",
       "\t<tr><th scope=row>64</th><td>98166     </td><td> 393975   </td><td>110       </td><td>2090.282  </td><td>1.75      </td><td>1955.0    </td><td>3         </td><td> 13313.318</td><td>7.445455  </td></tr>\n",
       "\t<tr><th scope=row>12</th><td>98019     </td><td> 396500   </td><td> 74       </td><td>2101.257  </td><td>2.50      </td><td>1996.0    </td><td>3         </td><td> 45999.851</td><td>7.351351  </td></tr>\n",
       "\t<tr><th scope=row>57</th><td>98126     </td><td> 399475   </td><td>168       </td><td>1550.018  </td><td>1.50      </td><td>1944.0    </td><td>3         </td><td>  5266.690</td><td>7.053571  </td></tr>\n",
       "\t<tr><th scope=row>11</th><td>98014     </td><td> 420850   </td><td> 61       </td><td>2191.541  </td><td>2.00      </td><td>1989.0    </td><td>3         </td><td>101100.590</td><td>7.491803  </td></tr>\n",
       "\t<tr><th scope=row>17</th><td>98028     </td><td> 425000   </td><td>109       </td><td>2177.385  </td><td>2.25      </td><td>1978.0    </td><td>4         </td><td> 11208.211</td><td>7.568807  </td></tr>\n",
       "\t<tr><th scope=row>34</th><td>98059     </td><td> 428450   </td><td>216       </td><td>2384.954  </td><td>2.50      </td><td>1995.5    </td><td>4         </td><td> 15616.755</td><td>7.870370  </td></tr>\n",
       "\t<tr><th scope=row>56</th><td>98125     </td><td> 430000   </td><td>207       </td><td>1772.971  </td><td>1.75      </td><td>1953.0    </td><td>3         </td><td>  7889.217</td><td>7.164251  </td></tr>\n",
       "\t<tr><th scope=row>15</th><td>98024     </td><td> 440000   </td><td> 45       </td><td>2335.000  </td><td>2.00      </td><td>1977.0    </td><td>3         </td><td> 80637.289</td><td>7.622222  </td></tr>\n",
       "\t<tr><th scope=row>23</th><td>98034     </td><td> 446475   </td><td>266       </td><td>1944.455  </td><td>2.25      </td><td>1974.0    </td><td>3         </td><td> 10125.425</td><td>7.496241  </td></tr>\n",
       "\t<tr><th scope=row>60</th><td>98144     </td><td> 465000   </td><td>151       </td><td>2017.550  </td><td>2.00      </td><td>1941.0    </td><td>3         </td><td>  4409.490</td><td>7.609272  </td></tr>\n",
       "\t<tr><th scope=row>10</th><td>98011     </td><td> 466500   </td><td> 86       </td><td>2173.605  </td><td>2.25      </td><td>1982.0    </td><td>3         </td><td> 12900.698</td><td>7.720930  </td></tr>\n",
       "\t<tr><th scope=row>36</th><td>98070     </td><td> 480000   </td><td> 55       </td><td>1889.345  </td><td>1.75      </td><td>1976.0    </td><td>3         </td><td> 98054.673</td><td>7.290909  </td></tr>\n",
       "\t<tr><th scope=row>35</th><td>98065     </td><td> 491000   </td><td>150       </td><td>2527.267  </td><td>2.50      </td><td>2004.0    </td><td>4         </td><td> 21458.240</td><td>7.760000  </td></tr>\n",
       "\t<tr><th scope=row>37</th><td>98072     </td><td> 500000   </td><td>109       </td><td>2319.908  </td><td>2.25      </td><td>1979.0    </td><td>3         </td><td> 30450.560</td><td>7.990826  </td></tr>\n",
       "\t<tr><th scope=row>59</th><td>98136     </td><td> 515000   </td><td>111       </td><td>1737.802  </td><td>1.75      </td><td>1943.0    </td><td>3         </td><td>  6008.649</td><td>7.414414  </td></tr>\n",
       "\t<tr><th scope=row>46</th><td>98107     </td><td> 536500   </td><td>137       </td><td>1607.372  </td><td>2.00      </td><td>1951.0    </td><td>3         </td><td>  3227.131</td><td>7.459854  </td></tr>\n",
       "\t<tr><th scope=row>52</th><td>98117     </td><td> 541000   </td><td>258       </td><td>1695.140  </td><td>1.75      </td><td>1940.5    </td><td>3         </td><td>  4650.116</td><td>7.267442  </td></tr>\n",
       "\t<tr><th scope=row>43</th><td>98103     </td><td> 550000   </td><td>272       </td><td>1607.375  </td><td>2.00      </td><td>1929.5    </td><td>3         </td><td>  3529.254</td><td>7.411765  </td></tr>\n",
       "\t<tr><th scope=row>8</th><td>98008     </td><td> 554500   </td><td>129       </td><td>2175.620  </td><td>2.25      </td><td>1964.0    </td><td>4         </td><td> 10238.597</td><td>7.596899  </td></tr>\n",
       "\t<tr><th scope=row>51</th><td>98116     </td><td> 567500   </td><td>145       </td><td>1845.883  </td><td>2.00      </td><td>1950.0    </td><td>3         </td><td>  4949.207</td><td>7.517241  </td></tr>\n",
       "\t<tr><th scope=row>55</th><td>98122     </td><td> 567500   </td><td>130       </td><td>1807.892  </td><td>2.00      </td><td>1929.0    </td><td>3         </td><td>  3394.669</td><td>7.815385  </td></tr>\n",
       "\t<tr><th scope=row>50</th><td>98115     </td><td> 568750   </td><td>262       </td><td>1847.279  </td><td>1.75      </td><td>1945.0    </td><td>3         </td><td>  5423.576</td><td>7.381679  </td></tr>\n",
       "\t<tr><th scope=row>66</th><td>98177     </td><td> 575000   </td><td>120       </td><td>2350.083  </td><td>2.00      </td><td>1955.0    </td><td>3         </td><td> 12396.508</td><td>8.041667  </td></tr>\n",
       "\t<tr><th scope=row>16</th><td>98027     </td><td> 580000   </td><td>206       </td><td>2563.568  </td><td>2.50      </td><td>1991.0    </td><td>4         </td><td> 34165.869</td><td>8.300971  </td></tr>\n",
       "\t<tr><th scope=row>18</th><td>98029     </td><td> 585000   </td><td>159       </td><td>2354.843  </td><td>2.50      </td><td>2000.0    </td><td>3         </td><td>  7955.208</td><td>8.490566  </td></tr>\n",
       "\t<tr><th scope=row>7</th><td>98007     </td><td> 597000   </td><td> 64       </td><td>2253.594  </td><td>2.25      </td><td>1965.0    </td><td>4         </td><td> 11399.156</td><td>8.109375  </td></tr>\n",
       "\t<tr><th scope=row>29</th><td>98052     </td><td> 605000   </td><td>247       </td><td>2298.348  </td><td>2.50      </td><td>1983.0    </td><td>4         </td><td> 10782.117</td><td>8.149798  </td></tr>\n",
       "\t<tr><th scope=row>30</th><td>98053     </td><td> 635000   </td><td>209       </td><td>2641.507  </td><td>2.50      </td><td>2003.0    </td><td>3         </td><td> 33034.589</td><td>8.282297  </td></tr>\n",
       "\t<tr><th scope=row>38</th><td>98074     </td><td> 644750   </td><td>212       </td><td>2640.156  </td><td>2.50      </td><td>1988.0    </td><td>4         </td><td> 13066.976</td><td>8.712264  </td></tr>\n",
       "\t<tr><th scope=row>40</th><td>98077     </td><td> 660000   </td><td> 91       </td><td>2779.286  </td><td>2.50      </td><td>1988.0    </td><td>4         </td><td> 56956.934</td><td>8.637363  </td></tr>\n",
       "\t<tr><th scope=row>22</th><td>98033     </td><td> 675000   </td><td>186       </td><td>2353.355  </td><td>2.25      </td><td>1979.0    </td><td>3         </td><td> 10378.274</td><td>8.091398  </td></tr>\n",
       "\t<tr><th scope=row>44</th><td>98105     </td><td> 686500   </td><td>121       </td><td>2205.273  </td><td>2.00      </td><td>1928.0    </td><td>3         </td><td>  5480.860</td><td>7.909091  </td></tr>\n",
       "\t<tr><th scope=row>70</th><td>98199     </td><td> 700000   </td><td>137       </td><td>2205.628  </td><td>2.00      </td><td>1950.0    </td><td>3         </td><td>  5518.423</td><td>8.058394  </td></tr>\n",
       "\t<tr><th scope=row>48</th><td>98109     </td><td> 705000   </td><td> 47       </td><td>2009.787  </td><td>2.25      </td><td>1924.0    </td><td>3         </td><td>  3286.872</td><td>7.829787  </td></tr>\n",
       "\t<tr><th scope=row>42</th><td>98102     </td><td> 740500   </td><td> 46       </td><td>2242.261  </td><td>2.50      </td><td>1925.0    </td><td>3         </td><td>  3287.674</td><td>8.456522  </td></tr>\n",
       "\t<tr><th scope=row>39</th><td>98075     </td><td> 743000   </td><td>174       </td><td>3056.931  </td><td>2.50      </td><td>1999.0    </td><td>4         </td><td> 16560.178</td><td>9.057471  </td></tr>\n",
       "\t<tr><th scope=row>5</th><td>98005     </td><td> 745000   </td><td> 90       </td><td>2612.256  </td><td>2.25      </td><td>1967.0    </td><td>4         </td><td> 20950.667</td><td>8.488889  </td></tr>\n",
       "\t<tr><th scope=row>6</th><td>98006     </td><td> 770000   </td><td>227       </td><td>2845.273  </td><td>2.50      </td><td>1978.0    </td><td>4         </td><td> 12643.731</td><td>8.753304  </td></tr>\n",
       "\t<tr><th scope=row>54</th><td>98119     </td><td> 780000   </td><td> 75       </td><td>2067.640  </td><td>2.25      </td><td>1927.0    </td><td>3         </td><td>  3752.187</td><td>8.066667  </td></tr>\n",
       "\t<tr><th scope=row>49</th><td>98112     </td><td> 957500   </td><td>122       </td><td>2558.623  </td><td>2.50      </td><td>1930.0    </td><td>3         </td><td>  4812.410</td><td>8.557377  </td></tr>\n",
       "\t<tr><th scope=row>26</th><td>98040     </td><td> 980000   </td><td>125       </td><td>3067.528  </td><td>2.50      </td><td>1968.0    </td><td>4         </td><td> 14370.640</td><td>8.864000  </td></tr>\n",
       "\t<tr><th scope=row>4</th><td>98004     </td><td>1014250   </td><td>147       </td><td>2745.952  </td><td>2.50      </td><td>1963.0    </td><td>4         </td><td> 12898.231</td><td>8.571429  </td></tr>\n",
       "\t<tr><th scope=row>25</th><td>98039     </td><td>1900000   </td><td> 24       </td><td>4100.625  </td><td>3.00      </td><td>1978.0    </td><td>4         </td><td> 18726.292</td><td>9.791667  </td></tr>\n",
       "</tbody>\n",
       "</table>\n"
      ],
      "text/latex": [
       "\\begin{tabular}{r|lllllllll}\n",
       "  & zipcode & price & num.of.records & sqft\\_living & bathrooms & yr\\_built & bedrooms & sqft\\_lot & grade\\\\\n",
       "\\hline\n",
       "\t9 & 98010      &  340000    &  39        & 2069.590   & 2.00       & 1990.0     & 3          &  44340.949 & 7.487179  \\\\\n",
       "\t24 & 98038      &  345475    & 250        & 2181.860   & 2.50       & 2001.5     & 3          &  19600.596 & 7.608000  \\\\\n",
       "\t53 & 98118      &  365000    & 235        & 1687.996   & 1.75       & 1949.0     & 3          &   5989.251 & 6.970213  \\\\\n",
       "\t58 & 98133      &  373000    & 241        & 1619.041   & 1.75       & 1955.0     & 3          &   6872.664 & 7.112033  \\\\\n",
       "\t32 & 98056      &  380000    & 187        & 2033.075   & 2.00       & 1970.0     & 3          &   9136.556 & 7.294118  \\\\\n",
       "\t63 & 98155      &  386000    & 202        & 1780.743   & 1.75       & 1955.0     & 3          &  10260.257 & 7.183168  \\\\\n",
       "\t28 & 98045      &  391000    & 120        & 2050.542   & 2.00       & 1987.5     & 3          &  42149.475 & 7.558333  \\\\\n",
       "\t64 & 98166      &  393975    & 110        & 2090.282   & 1.75       & 1955.0     & 3          &  13313.318 & 7.445455  \\\\\n",
       "\t12 & 98019      &  396500    &  74        & 2101.257   & 2.50       & 1996.0     & 3          &  45999.851 & 7.351351  \\\\\n",
       "\t57 & 98126      &  399475    & 168        & 1550.018   & 1.50       & 1944.0     & 3          &   5266.690 & 7.053571  \\\\\n",
       "\t11 & 98014      &  420850    &  61        & 2191.541   & 2.00       & 1989.0     & 3          & 101100.590 & 7.491803  \\\\\n",
       "\t17 & 98028      &  425000    & 109        & 2177.385   & 2.25       & 1978.0     & 4          &  11208.211 & 7.568807  \\\\\n",
       "\t34 & 98059      &  428450    & 216        & 2384.954   & 2.50       & 1995.5     & 4          &  15616.755 & 7.870370  \\\\\n",
       "\t56 & 98125      &  430000    & 207        & 1772.971   & 1.75       & 1953.0     & 3          &   7889.217 & 7.164251  \\\\\n",
       "\t15 & 98024      &  440000    &  45        & 2335.000   & 2.00       & 1977.0     & 3          &  80637.289 & 7.622222  \\\\\n",
       "\t23 & 98034      &  446475    & 266        & 1944.455   & 2.25       & 1974.0     & 3          &  10125.425 & 7.496241  \\\\\n",
       "\t60 & 98144      &  465000    & 151        & 2017.550   & 2.00       & 1941.0     & 3          &   4409.490 & 7.609272  \\\\\n",
       "\t10 & 98011      &  466500    &  86        & 2173.605   & 2.25       & 1982.0     & 3          &  12900.698 & 7.720930  \\\\\n",
       "\t36 & 98070      &  480000    &  55        & 1889.345   & 1.75       & 1976.0     & 3          &  98054.673 & 7.290909  \\\\\n",
       "\t35 & 98065      &  491000    & 150        & 2527.267   & 2.50       & 2004.0     & 4          &  21458.240 & 7.760000  \\\\\n",
       "\t37 & 98072      &  500000    & 109        & 2319.908   & 2.25       & 1979.0     & 3          &  30450.560 & 7.990826  \\\\\n",
       "\t59 & 98136      &  515000    & 111        & 1737.802   & 1.75       & 1943.0     & 3          &   6008.649 & 7.414414  \\\\\n",
       "\t46 & 98107      &  536500    & 137        & 1607.372   & 2.00       & 1951.0     & 3          &   3227.131 & 7.459854  \\\\\n",
       "\t52 & 98117      &  541000    & 258        & 1695.140   & 1.75       & 1940.5     & 3          &   4650.116 & 7.267442  \\\\\n",
       "\t43 & 98103      &  550000    & 272        & 1607.375   & 2.00       & 1929.5     & 3          &   3529.254 & 7.411765  \\\\\n",
       "\t8 & 98008      &  554500    & 129        & 2175.620   & 2.25       & 1964.0     & 4          &  10238.597 & 7.596899  \\\\\n",
       "\t51 & 98116      &  567500    & 145        & 1845.883   & 2.00       & 1950.0     & 3          &   4949.207 & 7.517241  \\\\\n",
       "\t55 & 98122      &  567500    & 130        & 1807.892   & 2.00       & 1929.0     & 3          &   3394.669 & 7.815385  \\\\\n",
       "\t50 & 98115      &  568750    & 262        & 1847.279   & 1.75       & 1945.0     & 3          &   5423.576 & 7.381679  \\\\\n",
       "\t66 & 98177      &  575000    & 120        & 2350.083   & 2.00       & 1955.0     & 3          &  12396.508 & 8.041667  \\\\\n",
       "\t16 & 98027      &  580000    & 206        & 2563.568   & 2.50       & 1991.0     & 4          &  34165.869 & 8.300971  \\\\\n",
       "\t18 & 98029      &  585000    & 159        & 2354.843   & 2.50       & 2000.0     & 3          &   7955.208 & 8.490566  \\\\\n",
       "\t7 & 98007      &  597000    &  64        & 2253.594   & 2.25       & 1965.0     & 4          &  11399.156 & 8.109375  \\\\\n",
       "\t29 & 98052      &  605000    & 247        & 2298.348   & 2.50       & 1983.0     & 4          &  10782.117 & 8.149798  \\\\\n",
       "\t30 & 98053      &  635000    & 209        & 2641.507   & 2.50       & 2003.0     & 3          &  33034.589 & 8.282297  \\\\\n",
       "\t38 & 98074      &  644750    & 212        & 2640.156   & 2.50       & 1988.0     & 4          &  13066.976 & 8.712264  \\\\\n",
       "\t40 & 98077      &  660000    &  91        & 2779.286   & 2.50       & 1988.0     & 4          &  56956.934 & 8.637363  \\\\\n",
       "\t22 & 98033      &  675000    & 186        & 2353.355   & 2.25       & 1979.0     & 3          &  10378.274 & 8.091398  \\\\\n",
       "\t44 & 98105      &  686500    & 121        & 2205.273   & 2.00       & 1928.0     & 3          &   5480.860 & 7.909091  \\\\\n",
       "\t70 & 98199      &  700000    & 137        & 2205.628   & 2.00       & 1950.0     & 3          &   5518.423 & 8.058394  \\\\\n",
       "\t48 & 98109      &  705000    &  47        & 2009.787   & 2.25       & 1924.0     & 3          &   3286.872 & 7.829787  \\\\\n",
       "\t42 & 98102      &  740500    &  46        & 2242.261   & 2.50       & 1925.0     & 3          &   3287.674 & 8.456522  \\\\\n",
       "\t39 & 98075      &  743000    & 174        & 3056.931   & 2.50       & 1999.0     & 4          &  16560.178 & 9.057471  \\\\\n",
       "\t5 & 98005      &  745000    &  90        & 2612.256   & 2.25       & 1967.0     & 4          &  20950.667 & 8.488889  \\\\\n",
       "\t6 & 98006      &  770000    & 227        & 2845.273   & 2.50       & 1978.0     & 4          &  12643.731 & 8.753304  \\\\\n",
       "\t54 & 98119      &  780000    &  75        & 2067.640   & 2.25       & 1927.0     & 3          &   3752.187 & 8.066667  \\\\\n",
       "\t49 & 98112      &  957500    & 122        & 2558.623   & 2.50       & 1930.0     & 3          &   4812.410 & 8.557377  \\\\\n",
       "\t26 & 98040      &  980000    & 125        & 3067.528   & 2.50       & 1968.0     & 4          &  14370.640 & 8.864000  \\\\\n",
       "\t4 & 98004      & 1014250    & 147        & 2745.952   & 2.50       & 1963.0     & 4          &  12898.231 & 8.571429  \\\\\n",
       "\t25 & 98039      & 1900000    &  24        & 4100.625   & 3.00       & 1978.0     & 4          &  18726.292 & 9.791667  \\\\\n",
       "\\end{tabular}\n"
      ],
      "text/markdown": [
       "\n",
       "| <!--/--> | zipcode | price | num.of.records | sqft_living | bathrooms | yr_built | bedrooms | sqft_lot | grade | \n",
       "|---|---|---|---|---|---|---|---|---|---|---|---|---|---|---|---|---|---|---|---|---|---|---|---|---|---|---|---|---|---|---|---|---|---|---|---|---|---|---|---|---|---|---|---|---|---|---|---|---|---|\n",
       "| 9 | 98010      |  340000    |  39        | 2069.590   | 2.00       | 1990.0     | 3          |  44340.949 | 7.487179   | \n",
       "| 24 | 98038      |  345475    | 250        | 2181.860   | 2.50       | 2001.5     | 3          |  19600.596 | 7.608000   | \n",
       "| 53 | 98118      |  365000    | 235        | 1687.996   | 1.75       | 1949.0     | 3          |   5989.251 | 6.970213   | \n",
       "| 58 | 98133      |  373000    | 241        | 1619.041   | 1.75       | 1955.0     | 3          |   6872.664 | 7.112033   | \n",
       "| 32 | 98056      |  380000    | 187        | 2033.075   | 2.00       | 1970.0     | 3          |   9136.556 | 7.294118   | \n",
       "| 63 | 98155      |  386000    | 202        | 1780.743   | 1.75       | 1955.0     | 3          |  10260.257 | 7.183168   | \n",
       "| 28 | 98045      |  391000    | 120        | 2050.542   | 2.00       | 1987.5     | 3          |  42149.475 | 7.558333   | \n",
       "| 64 | 98166      |  393975    | 110        | 2090.282   | 1.75       | 1955.0     | 3          |  13313.318 | 7.445455   | \n",
       "| 12 | 98019      |  396500    |  74        | 2101.257   | 2.50       | 1996.0     | 3          |  45999.851 | 7.351351   | \n",
       "| 57 | 98126      |  399475    | 168        | 1550.018   | 1.50       | 1944.0     | 3          |   5266.690 | 7.053571   | \n",
       "| 11 | 98014      |  420850    |  61        | 2191.541   | 2.00       | 1989.0     | 3          | 101100.590 | 7.491803   | \n",
       "| 17 | 98028      |  425000    | 109        | 2177.385   | 2.25       | 1978.0     | 4          |  11208.211 | 7.568807   | \n",
       "| 34 | 98059      |  428450    | 216        | 2384.954   | 2.50       | 1995.5     | 4          |  15616.755 | 7.870370   | \n",
       "| 56 | 98125      |  430000    | 207        | 1772.971   | 1.75       | 1953.0     | 3          |   7889.217 | 7.164251   | \n",
       "| 15 | 98024      |  440000    |  45        | 2335.000   | 2.00       | 1977.0     | 3          |  80637.289 | 7.622222   | \n",
       "| 23 | 98034      |  446475    | 266        | 1944.455   | 2.25       | 1974.0     | 3          |  10125.425 | 7.496241   | \n",
       "| 60 | 98144      |  465000    | 151        | 2017.550   | 2.00       | 1941.0     | 3          |   4409.490 | 7.609272   | \n",
       "| 10 | 98011      |  466500    |  86        | 2173.605   | 2.25       | 1982.0     | 3          |  12900.698 | 7.720930   | \n",
       "| 36 | 98070      |  480000    |  55        | 1889.345   | 1.75       | 1976.0     | 3          |  98054.673 | 7.290909   | \n",
       "| 35 | 98065      |  491000    | 150        | 2527.267   | 2.50       | 2004.0     | 4          |  21458.240 | 7.760000   | \n",
       "| 37 | 98072      |  500000    | 109        | 2319.908   | 2.25       | 1979.0     | 3          |  30450.560 | 7.990826   | \n",
       "| 59 | 98136      |  515000    | 111        | 1737.802   | 1.75       | 1943.0     | 3          |   6008.649 | 7.414414   | \n",
       "| 46 | 98107      |  536500    | 137        | 1607.372   | 2.00       | 1951.0     | 3          |   3227.131 | 7.459854   | \n",
       "| 52 | 98117      |  541000    | 258        | 1695.140   | 1.75       | 1940.5     | 3          |   4650.116 | 7.267442   | \n",
       "| 43 | 98103      |  550000    | 272        | 1607.375   | 2.00       | 1929.5     | 3          |   3529.254 | 7.411765   | \n",
       "| 8 | 98008      |  554500    | 129        | 2175.620   | 2.25       | 1964.0     | 4          |  10238.597 | 7.596899   | \n",
       "| 51 | 98116      |  567500    | 145        | 1845.883   | 2.00       | 1950.0     | 3          |   4949.207 | 7.517241   | \n",
       "| 55 | 98122      |  567500    | 130        | 1807.892   | 2.00       | 1929.0     | 3          |   3394.669 | 7.815385   | \n",
       "| 50 | 98115      |  568750    | 262        | 1847.279   | 1.75       | 1945.0     | 3          |   5423.576 | 7.381679   | \n",
       "| 66 | 98177      |  575000    | 120        | 2350.083   | 2.00       | 1955.0     | 3          |  12396.508 | 8.041667   | \n",
       "| 16 | 98027      |  580000    | 206        | 2563.568   | 2.50       | 1991.0     | 4          |  34165.869 | 8.300971   | \n",
       "| 18 | 98029      |  585000    | 159        | 2354.843   | 2.50       | 2000.0     | 3          |   7955.208 | 8.490566   | \n",
       "| 7 | 98007      |  597000    |  64        | 2253.594   | 2.25       | 1965.0     | 4          |  11399.156 | 8.109375   | \n",
       "| 29 | 98052      |  605000    | 247        | 2298.348   | 2.50       | 1983.0     | 4          |  10782.117 | 8.149798   | \n",
       "| 30 | 98053      |  635000    | 209        | 2641.507   | 2.50       | 2003.0     | 3          |  33034.589 | 8.282297   | \n",
       "| 38 | 98074      |  644750    | 212        | 2640.156   | 2.50       | 1988.0     | 4          |  13066.976 | 8.712264   | \n",
       "| 40 | 98077      |  660000    |  91        | 2779.286   | 2.50       | 1988.0     | 4          |  56956.934 | 8.637363   | \n",
       "| 22 | 98033      |  675000    | 186        | 2353.355   | 2.25       | 1979.0     | 3          |  10378.274 | 8.091398   | \n",
       "| 44 | 98105      |  686500    | 121        | 2205.273   | 2.00       | 1928.0     | 3          |   5480.860 | 7.909091   | \n",
       "| 70 | 98199      |  700000    | 137        | 2205.628   | 2.00       | 1950.0     | 3          |   5518.423 | 8.058394   | \n",
       "| 48 | 98109      |  705000    |  47        | 2009.787   | 2.25       | 1924.0     | 3          |   3286.872 | 7.829787   | \n",
       "| 42 | 98102      |  740500    |  46        | 2242.261   | 2.50       | 1925.0     | 3          |   3287.674 | 8.456522   | \n",
       "| 39 | 98075      |  743000    | 174        | 3056.931   | 2.50       | 1999.0     | 4          |  16560.178 | 9.057471   | \n",
       "| 5 | 98005      |  745000    |  90        | 2612.256   | 2.25       | 1967.0     | 4          |  20950.667 | 8.488889   | \n",
       "| 6 | 98006      |  770000    | 227        | 2845.273   | 2.50       | 1978.0     | 4          |  12643.731 | 8.753304   | \n",
       "| 54 | 98119      |  780000    |  75        | 2067.640   | 2.25       | 1927.0     | 3          |   3752.187 | 8.066667   | \n",
       "| 49 | 98112      |  957500    | 122        | 2558.623   | 2.50       | 1930.0     | 3          |   4812.410 | 8.557377   | \n",
       "| 26 | 98040      |  980000    | 125        | 3067.528   | 2.50       | 1968.0     | 4          |  14370.640 | 8.864000   | \n",
       "| 4 | 98004      | 1014250    | 147        | 2745.952   | 2.50       | 1963.0     | 4          |  12898.231 | 8.571429   | \n",
       "| 25 | 98039      | 1900000    |  24        | 4100.625   | 3.00       | 1978.0     | 4          |  18726.292 | 9.791667   | \n",
       "\n",
       "\n"
      ],
      "text/plain": [
       "   zipcode price   num.of.records sqft_living bathrooms yr_built bedrooms\n",
       "9  98010    340000  39            2069.590    2.00      1990.0   3       \n",
       "24 98038    345475 250            2181.860    2.50      2001.5   3       \n",
       "53 98118    365000 235            1687.996    1.75      1949.0   3       \n",
       "58 98133    373000 241            1619.041    1.75      1955.0   3       \n",
       "32 98056    380000 187            2033.075    2.00      1970.0   3       \n",
       "63 98155    386000 202            1780.743    1.75      1955.0   3       \n",
       "28 98045    391000 120            2050.542    2.00      1987.5   3       \n",
       "64 98166    393975 110            2090.282    1.75      1955.0   3       \n",
       "12 98019    396500  74            2101.257    2.50      1996.0   3       \n",
       "57 98126    399475 168            1550.018    1.50      1944.0   3       \n",
       "11 98014    420850  61            2191.541    2.00      1989.0   3       \n",
       "17 98028    425000 109            2177.385    2.25      1978.0   4       \n",
       "34 98059    428450 216            2384.954    2.50      1995.5   4       \n",
       "56 98125    430000 207            1772.971    1.75      1953.0   3       \n",
       "15 98024    440000  45            2335.000    2.00      1977.0   3       \n",
       "23 98034    446475 266            1944.455    2.25      1974.0   3       \n",
       "60 98144    465000 151            2017.550    2.00      1941.0   3       \n",
       "10 98011    466500  86            2173.605    2.25      1982.0   3       \n",
       "36 98070    480000  55            1889.345    1.75      1976.0   3       \n",
       "35 98065    491000 150            2527.267    2.50      2004.0   4       \n",
       "37 98072    500000 109            2319.908    2.25      1979.0   3       \n",
       "59 98136    515000 111            1737.802    1.75      1943.0   3       \n",
       "46 98107    536500 137            1607.372    2.00      1951.0   3       \n",
       "52 98117    541000 258            1695.140    1.75      1940.5   3       \n",
       "43 98103    550000 272            1607.375    2.00      1929.5   3       \n",
       "8  98008    554500 129            2175.620    2.25      1964.0   4       \n",
       "51 98116    567500 145            1845.883    2.00      1950.0   3       \n",
       "55 98122    567500 130            1807.892    2.00      1929.0   3       \n",
       "50 98115    568750 262            1847.279    1.75      1945.0   3       \n",
       "66 98177    575000 120            2350.083    2.00      1955.0   3       \n",
       "16 98027    580000 206            2563.568    2.50      1991.0   4       \n",
       "18 98029    585000 159            2354.843    2.50      2000.0   3       \n",
       "7  98007    597000  64            2253.594    2.25      1965.0   4       \n",
       "29 98052    605000 247            2298.348    2.50      1983.0   4       \n",
       "30 98053    635000 209            2641.507    2.50      2003.0   3       \n",
       "38 98074    644750 212            2640.156    2.50      1988.0   4       \n",
       "40 98077    660000  91            2779.286    2.50      1988.0   4       \n",
       "22 98033    675000 186            2353.355    2.25      1979.0   3       \n",
       "44 98105    686500 121            2205.273    2.00      1928.0   3       \n",
       "70 98199    700000 137            2205.628    2.00      1950.0   3       \n",
       "48 98109    705000  47            2009.787    2.25      1924.0   3       \n",
       "42 98102    740500  46            2242.261    2.50      1925.0   3       \n",
       "39 98075    743000 174            3056.931    2.50      1999.0   4       \n",
       "5  98005    745000  90            2612.256    2.25      1967.0   4       \n",
       "6  98006    770000 227            2845.273    2.50      1978.0   4       \n",
       "54 98119    780000  75            2067.640    2.25      1927.0   3       \n",
       "49 98112    957500 122            2558.623    2.50      1930.0   3       \n",
       "26 98040    980000 125            3067.528    2.50      1968.0   4       \n",
       "4  98004   1014250 147            2745.952    2.50      1963.0   4       \n",
       "25 98039   1900000  24            4100.625    3.00      1978.0   4       \n",
       "   sqft_lot   grade   \n",
       "9   44340.949 7.487179\n",
       "24  19600.596 7.608000\n",
       "53   5989.251 6.970213\n",
       "58   6872.664 7.112033\n",
       "32   9136.556 7.294118\n",
       "63  10260.257 7.183168\n",
       "28  42149.475 7.558333\n",
       "64  13313.318 7.445455\n",
       "12  45999.851 7.351351\n",
       "57   5266.690 7.053571\n",
       "11 101100.590 7.491803\n",
       "17  11208.211 7.568807\n",
       "34  15616.755 7.870370\n",
       "56   7889.217 7.164251\n",
       "15  80637.289 7.622222\n",
       "23  10125.425 7.496241\n",
       "60   4409.490 7.609272\n",
       "10  12900.698 7.720930\n",
       "36  98054.673 7.290909\n",
       "35  21458.240 7.760000\n",
       "37  30450.560 7.990826\n",
       "59   6008.649 7.414414\n",
       "46   3227.131 7.459854\n",
       "52   4650.116 7.267442\n",
       "43   3529.254 7.411765\n",
       "8   10238.597 7.596899\n",
       "51   4949.207 7.517241\n",
       "55   3394.669 7.815385\n",
       "50   5423.576 7.381679\n",
       "66  12396.508 8.041667\n",
       "16  34165.869 8.300971\n",
       "18   7955.208 8.490566\n",
       "7   11399.156 8.109375\n",
       "29  10782.117 8.149798\n",
       "30  33034.589 8.282297\n",
       "38  13066.976 8.712264\n",
       "40  56956.934 8.637363\n",
       "22  10378.274 8.091398\n",
       "44   5480.860 7.909091\n",
       "70   5518.423 8.058394\n",
       "48   3286.872 7.829787\n",
       "42   3287.674 8.456522\n",
       "39  16560.178 9.057471\n",
       "5   20950.667 8.488889\n",
       "6   12643.731 8.753304\n",
       "54   3752.187 8.066667\n",
       "49   4812.410 8.557377\n",
       "26  14370.640 8.864000\n",
       "4   12898.231 8.571429\n",
       "25  18726.292 9.791667"
      ]
     },
     "metadata": {},
     "output_type": "display_data"
    }
   ],
   "source": [
    "options(warn=-1)\n",
    "\n",
    "# get median house prices per zipcode\n",
    "mean.price.per.zipcode <- aggregate(training.file$price,\n",
    "                 by = list(zipcode = training.file$zipcode), FUN = median)\n",
    "\n",
    "# get the number of records per zipcode\n",
    "count.per.zipcode <- aggregate(training.file$price,\n",
    "                 by = list(zipcode = training.file$zipcode), FUN = length)\n",
    "count.per.zipcode <- count.per.zipcode[order(count.per.zipcode$x),]\n",
    "\n",
    "# get the mean sqft_living per zipcode\n",
    "living.per.zipcode <- aggregate(training.file$sqft_living,\n",
    "                 by = list(zipcode = training.file$zipcode), FUN = mean)\n",
    "living.per.zipcode <- living.per.zipcode[order(living.per.zipcode$x),]\n",
    "\n",
    "# get the median number of bathrooms per zipcode\n",
    "bathrooms.per.zipcode <- aggregate(training.file$bathrooms,\n",
    "                 by = list(zipcode = training.file$zipcode), FUN = median)\n",
    "bathrooms.per.zipcode <- bathrooms.per.zipcode[order(bathrooms.per.zipcode$x),]\n",
    "\n",
    "# get the mean sqft_lot per zipcode\n",
    "lot.per.zipcode <- aggregate(training.file$sqft_lot,\n",
    "                 by = list(zipcode = training.file$zipcode), FUN = mean)\n",
    "lot.per.zipcode <- lot.per.zipcode[order(lot.per.zipcode$x),]\n",
    "\n",
    "# get the median yr_built per zipcode\n",
    "yr.per.zipcode <- aggregate(training.file$yr_built,\n",
    "                 by = list(zipcode = training.file$zipcode), FUN = median)\n",
    "yr.per.zipcode <- yr.per.zipcode[order(yr.per.zipcode$x),]\n",
    "\n",
    "# get the median bedrooms per zipcode\n",
    "bedrooms.per.zipcode <- aggregate(training.file$bedrooms,\n",
    "                 by = list(zipcode = training.file$zipcode), FUN = median)\n",
    "bedrooms.per.zipcode <- bedrooms.per.zipcode[order(bedrooms.per.zipcode$x),]\n",
    "\n",
    "# get the median grade per zipcode\n",
    "grade.per.zip <- aggregate(training.file$grade,\n",
    "                 by = list(zipcode = training.file$zipcode), FUN = mean)\n",
    "grade.per.zip <- grade.per.zip[order(grade.per.zip$x),]\n",
    "\n",
    "# join the tables together\n",
    "merged.data <- merge(mean.price.per.zipcode, count.per.zipcode, by = \"zipcode\")\n",
    "merged.data <- merge(merged.data, living.per.zipcode, by = \"zipcode\")\n",
    "merged.data <- merge(merged.data, bathrooms.per.zipcode, by = \"zipcode\")\n",
    "merged.data <- merge(merged.data, yr.per.zipcode, by = \"zipcode\")\n",
    "merged.data <- merge(merged.data, bedrooms.per.zipcode, by =\"zipcode\")\n",
    "merged.data <- merge(merged.data, lot.per.zipcode, by = \"zipcode\")\n",
    "merged.data <- merge(merged.data, grade.per.zip, by = \"zipcode\")\n",
    "\n",
    "colnames(merged.data) <- c(\"zipcode\", \n",
    "                           \"price\", \n",
    "                           \"num.of.records\", \n",
    "                           \"sqft_living\", \n",
    "                           \"bathrooms\", \n",
    "                           \"yr_built\",\n",
    "                           \"bedrooms\", \n",
    "                           \"sqft_lot\", \n",
    "                           \"grade\")\n",
    "\n",
    "# order the data by price\n",
    "merged.data <- merged.data[order(merged.data$price),]\n",
    "\n",
    "# view the cheapest locations\n",
    "head(merged.data, 50)\n",
    "\n",
    "# view the expensive locations\n",
    "tail(merged.data, 50)\n",
    "\n",
    "options(warn=0)"
   ]
  },
  {
   "cell_type": "markdown",
   "metadata": {},
   "source": [
    "#### Observations\n",
    "\n",
    "- As the prices increase, the average bathrooms, sqft_living, and grade increase as well.\n",
    "- **Zipcode** also dictates the increase. Based from the table above, zipcode is strongly correlated to price, bathrooms and grade, and moderately correlated to the living area. \n",
    "- Based from this correlation, we can infer that expensive (and elegantly constructed) houses tend to cluster towards similar zipcodes/location. The same can also be said about cheap houses.\n",
    "- The prime locations in the dataset have median houses at **\\$750,000, with an average of 2.50 bathrooms and a grade of 8 and above.**\n",
    "- On the other end of the spectrum, cheaper locations in the dataset have an average median house price of **\\$250,000 with 1.75 bathrooms and a grade of 7 and below.**"
   ]
  },
  {
   "cell_type": "markdown",
   "metadata": {},
   "source": [
    "## 3. Linear Regression\n",
    "\n",
    "After exploring the data, it's now time to develop a model that can be used to predict future house prices.\n",
    "\n",
    "This task will attempt to answer the following questions:\n",
    "\n",
    "(the following questions are based from *An Introduction to Statistical Learning with Application in R (2013, Springer)*)\n",
    "\n",
    "3.1 Is there a relationship between house features (number of bedrooms, number of bathrooms, sqft_living, sqft_lot, waterfront, condition, grade, yr_built and zipcode) and the house price?\n",
    "<br/>3.2 How strong is the relationship?\n",
    "<br/>3.3 Which feature(s) contribute to the house price?\n",
    "<br/>3.4 Is there synergy among the house features?\n",
    "<br/>3.5 Is the relationship linear?\n",
    "\n",
    "### 3.1 Is there a relationship between house features and house price?\n",
    "\n",
    "To answer this, we can fit an initial linear regression model using all the features by calling the `lm()` function. The `lm()` function inputs the regression formula and the data, and outputs a resulting regression class whose contents can be seen by calling the `summary()` method.\n",
    "\n",
    "To determine if the relationship exists, we need to look at the resulting **F-statistic's p-value**. This statistic tests the null hypothesis *\"The feature vector $X$ and target variable $Y$ is independent of each other.\"* A low p-value (< 0.05) indicates that a relationship indeed exists."
   ]
  },
  {
   "cell_type": "code",
   "execution_count": 33,
   "metadata": {
    "collapsed": false
   },
   "outputs": [
    {
     "data": {
      "text/plain": [
       "\n",
       "Call:\n",
       "lm(formula = price ~ ., data = training.data)\n",
       "\n",
       "Residuals:\n",
       "    Min      1Q  Median      3Q     Max \n",
       "-1.1688 -0.1039  0.0017  0.1042  1.0430 \n",
       "\n",
       "Coefficients:\n",
       "               Estimate Std. Error t value Pr(>|t|)    \n",
       "(Intercept)   8.7664346  0.2292937  38.232  < 2e-16 ***\n",
       "bedrooms     -0.0196099  0.0028730  -6.826 9.27e-12 ***\n",
       "bathrooms     0.0455589  0.0044488  10.241  < 2e-16 ***\n",
       "sqft_living   0.4339047  0.0097118  44.678  < 2e-16 ***\n",
       "sqft_lot      0.0700761  0.0030569  22.924  < 2e-16 ***\n",
       "waterfront    0.6677975  0.0225795  29.575  < 2e-16 ***\n",
       "condition     0.0447345  0.0032714  13.674  < 2e-16 ***\n",
       "grade         0.1260469  0.0028805  43.759  < 2e-16 ***\n",
       "yr_built     -0.0006499  0.0001064  -6.106 1.06e-09 ***\n",
       "zipcode98002  0.0055412  0.0250232   0.221  0.82475    \n",
       "zipcode98003  0.0287796  0.0227488   1.265  0.20586    \n",
       "zipcode98004  1.1512585  0.0218414  52.710  < 2e-16 ***\n",
       "zipcode98005  0.7117336  0.0251554  28.293  < 2e-16 ***\n",
       "zipcode98006  0.6910947  0.0197714  34.954  < 2e-16 ***\n",
       "zipcode98007  0.6679543  0.0281618  23.718  < 2e-16 ***\n",
       "zipcode98008  0.6790273  0.0224850  30.199  < 2e-16 ***\n",
       "zipcode98010  0.2195387  0.0340091   6.455 1.13e-10 ***\n",
       "zipcode98011  0.4680040  0.0253409  18.468  < 2e-16 ***\n",
       "zipcode98014  0.3237148  0.0288575  11.218  < 2e-16 ***\n",
       "zipcode98019  0.3417451  0.0267053  12.797  < 2e-16 ***\n",
       "zipcode98022  0.0974449  0.0244437   3.986 6.75e-05 ***\n",
       "zipcode98023 -0.0090175  0.0192072  -0.469  0.63873    \n",
       "zipcode98024  0.4437565  0.0322441  13.762  < 2e-16 ***\n",
       "zipcode98027  0.5335767  0.0199840  26.700  < 2e-16 ***\n",
       "zipcode98028  0.4192348  0.0235231  17.822  < 2e-16 ***\n",
       "zipcode98029  0.6314256  0.0213683  29.550  < 2e-16 ***\n",
       "zipcode98030  0.0951782  0.0225358   4.223 2.43e-05 ***\n",
       "zipcode98031  0.0883074  0.0233807   3.777  0.00016 ***\n",
       "zipcode98032 -0.0021730  0.0292936  -0.074  0.94087    \n",
       "zipcode98033  0.8229390  0.0204761  40.190  < 2e-16 ***\n",
       "zipcode98034  0.5795868  0.0188999  30.666  < 2e-16 ***\n",
       "zipcode98038  0.2139495  0.0191470  11.174  < 2e-16 ***\n",
       "zipcode98039  1.3176777  0.0420140  31.363  < 2e-16 ***\n",
       "zipcode98040  0.9287800  0.0229427  40.483  < 2e-16 ***\n",
       "zipcode98042  0.0949086  0.0187992   5.049 4.53e-07 ***\n",
       "zipcode98045  0.3542896  0.0229371  15.446  < 2e-16 ***\n",
       "zipcode98052  0.6594856  0.0192315  34.292  < 2e-16 ***\n",
       "zipcode98053  0.6111367  0.0199893  30.573  < 2e-16 ***\n",
       "zipcode98055  0.1843282  0.0225816   8.163 3.67e-16 ***\n",
       "zipcode98056  0.3591269  0.0204067  17.599  < 2e-16 ***\n",
       "zipcode98058  0.1646597  0.0195196   8.436  < 2e-16 ***\n",
       "zipcode98059  0.3769571  0.0197295  19.106  < 2e-16 ***\n",
       "zipcode98065  0.4821820  0.0215690  22.355  < 2e-16 ***\n",
       "zipcode98070  0.2822501  0.0304576   9.267  < 2e-16 ***\n",
       "zipcode98072  0.4766528  0.0235796  20.215  < 2e-16 ***\n",
       "zipcode98074  0.5703627  0.0199554  28.582  < 2e-16 ***\n",
       "zipcode98075  0.5977571  0.0209544  28.527  < 2e-16 ***\n",
       "zipcode98077  0.4312280  0.0252116  17.104  < 2e-16 ***\n",
       "zipcode98092  0.0478601  0.0209858   2.281  0.02259 *  \n",
       "zipcode98102  0.9894170  0.0325232  30.422  < 2e-16 ***\n",
       "zipcode98103  0.8623724  0.0196492  43.888  < 2e-16 ***\n",
       "zipcode98105  0.9974962  0.0236880  42.110  < 2e-16 ***\n",
       "zipcode98106  0.3730623  0.0218556  17.069  < 2e-16 ***\n",
       "zipcode98107  0.8890693  0.0226694  39.219  < 2e-16 ***\n",
       "zipcode98108  0.3749393  0.0252168  14.869  < 2e-16 ***\n",
       "zipcode98109  0.9949638  0.0322510  30.851  < 2e-16 ***\n",
       "zipcode98112  1.0727336  0.0237632  45.143  < 2e-16 ***\n",
       "zipcode98115  0.8562838  0.0194820  43.953  < 2e-16 ***\n",
       "zipcode98116  0.8070404  0.0221509  36.434  < 2e-16 ***\n",
       "zipcode98117  0.8386108  0.0195976  42.792  < 2e-16 ***\n",
       "zipcode98118  0.4975639  0.0197492  25.194  < 2e-16 ***\n",
       "zipcode98119  1.0503535  0.0273689  38.378  < 2e-16 ***\n",
       "zipcode98122  0.8702887  0.0232045  37.505  < 2e-16 ***\n",
       "zipcode98125  0.6018342  0.0200364  30.037  < 2e-16 ***\n",
       "zipcode98126  0.6229938  0.0212751  29.283  < 2e-16 ***\n",
       "zipcode98133  0.4663638  0.0194234  24.010  < 2e-16 ***\n",
       "zipcode98136  0.7510091  0.0237813  31.580  < 2e-16 ***\n",
       "zipcode98144  0.7368518  0.0220732  33.382  < 2e-16 ***\n",
       "zipcode98146  0.3245484  0.0222820  14.565  < 2e-16 ***\n",
       "zipcode98148  0.1774448  0.0396152   4.479 7.58e-06 ***\n",
       "zipcode98155  0.4605658  0.0200653  22.953  < 2e-16 ***\n",
       "zipcode98166  0.3611915  0.0235481  15.338  < 2e-16 ***\n",
       "zipcode98168  0.0590697  0.0227313   2.599  0.00937 ** \n",
       "zipcode98177  0.6633303  0.0230614  28.764  < 2e-16 ***\n",
       "zipcode98178  0.1758429  0.0232816   7.553 4.63e-14 ***\n",
       "zipcode98188  0.1260093  0.0266681   4.725 2.33e-06 ***\n",
       "zipcode98198  0.0936085  0.0222845   4.201 2.69e-05 ***\n",
       "zipcode98199  0.9193470  0.0225254  40.814  < 2e-16 ***\n",
       "---\n",
       "Signif. codes:  0 '***' 0.001 '**' 0.01 '*' 0.05 '.' 0.1 ' ' 1\n",
       "\n",
       "Residual standard error: 0.1903 on 9922 degrees of freedom\n",
       "Multiple R-squared:  0.8726,\tAdjusted R-squared:  0.8716 \n",
       "F-statistic: 882.7 on 77 and 9922 DF,  p-value: < 2.2e-16\n"
      ]
     },
     "metadata": {},
     "output_type": "display_data"
    }
   ],
   "source": [
    "fit1 <- lm(price~., data = training.data)\n",
    "summary(fit1)"
   ]
  },
  {
   "cell_type": "markdown",
   "metadata": {},
   "source": [
    "Based on the **F-statistic's very low p-value**, there is a clear evidence of relationship between the house features and the resulting price. \n",
    "\n",
    "### 3.2 How strong is the relationship? \n",
    "\n",
    "To check how strong the relationship is, we need to check about the resulting residual standard error (RSE). RSE is an indicator of the average error that the model has from the true regression line. The RSE of the house sales data is \\$166,100 while the mean value of the prices is \\$541,434, indicating a percentage error of around 31%. \n",
    "\n",
    "Another good statistic for measuring the goodness of fit of the model is **$R^2$**, which explains how much of the variability in the prices is explained by the features. Based on the resulting value, the model explains **~ 87% of the variability in house prices**, which can be considered very robust!\n",
    "\n",
    "### 3.3 Which feature contribute to the house prices?\n",
    "\n",
    "The **t-statistic** is computed to test the null hypothesis *\"There is no relationship between price $y$ and feature $x$\"*. Looking at the **coefficients** of each feature and their resulting t-statistic p-value, **all features** look relevant to price as all have <u>p-values less than 0.05</u>.\n",
    "\n",
    "#### Interpreting the Intercepts\n",
    "\n",
    "In terms of the intercepts, it's interesting that both bedrooms and yr_built have **negative coefficients**. Based from the model, as the number of bedrooms decrease and the houses become older, the more expensive they become. Otherwise, an increase in the value of other features (sqft_living, sqft_lot, bathrooms, condition, waterfront and grade) also increases the value of a house. Lastly, most zipcodes (i.e. location) are important in dictating the price, but some zipcodes aren't. \n",
    "\n",
    "Although these initial fit already has a moderately good $R^2$, we can still improve upon the model by filtering the most relevant features. We can do this by using the `step()` function, which enables us to select the optimum features based on the resulting AIC of the model, more formally called as **stepwise selection/regression**. **AIC** or Akaike Information Criterion, measures the quality of a model, used primarily in model selection.\n",
    "\n",
    "In general, the lower the AIC, the better the model.\n"
   ]
  },
  {
   "cell_type": "code",
   "execution_count": 34,
   "metadata": {
    "collapsed": false
   },
   "outputs": [
    {
     "name": "stdout",
     "output_type": "stream",
     "text": [
      "Start:  AIC=-33100.14\n",
      "price ~ bedrooms + bathrooms + sqft_living + sqft_lot + waterfront + \n",
      "    condition + grade + yr_built + zipcode\n",
      "\n",
      "              Df Sum of Sq    RSS    AIC\n",
      "<none>                     359.50 -33100\n",
      "- yr_built     1      1.35 360.86 -33065\n",
      "- bedrooms     1      1.69 361.19 -33055\n",
      "- bathrooms    1      3.80 363.30 -32997\n",
      "- condition    1      6.78 366.28 -32915\n",
      "- sqft_lot     1     19.04 378.54 -32586\n",
      "- waterfront   1     31.69 391.20 -32257\n",
      "- grade        1     69.38 428.88 -31338\n",
      "- sqft_living  1     72.33 431.83 -31269\n",
      "- zipcode     69    639.24 998.75 -23020\n"
     ]
    }
   ],
   "source": [
    "fit2 <- step(fit1, direction = \"both\")"
   ]
  },
  {
   "cell_type": "code",
   "execution_count": 35,
   "metadata": {
    "collapsed": false
   },
   "outputs": [
    {
     "data": {
      "text/plain": [
       "\n",
       "Call:\n",
       "lm(formula = price ~ bedrooms + bathrooms + sqft_living + sqft_lot + \n",
       "    waterfront + condition + grade + yr_built + zipcode, data = training.data)\n",
       "\n",
       "Residuals:\n",
       "    Min      1Q  Median      3Q     Max \n",
       "-1.1688 -0.1039  0.0017  0.1042  1.0430 \n",
       "\n",
       "Coefficients:\n",
       "               Estimate Std. Error t value Pr(>|t|)    \n",
       "(Intercept)   8.7664346  0.2292937  38.232  < 2e-16 ***\n",
       "bedrooms     -0.0196099  0.0028730  -6.826 9.27e-12 ***\n",
       "bathrooms     0.0455589  0.0044488  10.241  < 2e-16 ***\n",
       "sqft_living   0.4339047  0.0097118  44.678  < 2e-16 ***\n",
       "sqft_lot      0.0700761  0.0030569  22.924  < 2e-16 ***\n",
       "waterfront    0.6677975  0.0225795  29.575  < 2e-16 ***\n",
       "condition     0.0447345  0.0032714  13.674  < 2e-16 ***\n",
       "grade         0.1260469  0.0028805  43.759  < 2e-16 ***\n",
       "yr_built     -0.0006499  0.0001064  -6.106 1.06e-09 ***\n",
       "zipcode98002  0.0055412  0.0250232   0.221  0.82475    \n",
       "zipcode98003  0.0287796  0.0227488   1.265  0.20586    \n",
       "zipcode98004  1.1512585  0.0218414  52.710  < 2e-16 ***\n",
       "zipcode98005  0.7117336  0.0251554  28.293  < 2e-16 ***\n",
       "zipcode98006  0.6910947  0.0197714  34.954  < 2e-16 ***\n",
       "zipcode98007  0.6679543  0.0281618  23.718  < 2e-16 ***\n",
       "zipcode98008  0.6790273  0.0224850  30.199  < 2e-16 ***\n",
       "zipcode98010  0.2195387  0.0340091   6.455 1.13e-10 ***\n",
       "zipcode98011  0.4680040  0.0253409  18.468  < 2e-16 ***\n",
       "zipcode98014  0.3237148  0.0288575  11.218  < 2e-16 ***\n",
       "zipcode98019  0.3417451  0.0267053  12.797  < 2e-16 ***\n",
       "zipcode98022  0.0974449  0.0244437   3.986 6.75e-05 ***\n",
       "zipcode98023 -0.0090175  0.0192072  -0.469  0.63873    \n",
       "zipcode98024  0.4437565  0.0322441  13.762  < 2e-16 ***\n",
       "zipcode98027  0.5335767  0.0199840  26.700  < 2e-16 ***\n",
       "zipcode98028  0.4192348  0.0235231  17.822  < 2e-16 ***\n",
       "zipcode98029  0.6314256  0.0213683  29.550  < 2e-16 ***\n",
       "zipcode98030  0.0951782  0.0225358   4.223 2.43e-05 ***\n",
       "zipcode98031  0.0883074  0.0233807   3.777  0.00016 ***\n",
       "zipcode98032 -0.0021730  0.0292936  -0.074  0.94087    \n",
       "zipcode98033  0.8229390  0.0204761  40.190  < 2e-16 ***\n",
       "zipcode98034  0.5795868  0.0188999  30.666  < 2e-16 ***\n",
       "zipcode98038  0.2139495  0.0191470  11.174  < 2e-16 ***\n",
       "zipcode98039  1.3176777  0.0420140  31.363  < 2e-16 ***\n",
       "zipcode98040  0.9287800  0.0229427  40.483  < 2e-16 ***\n",
       "zipcode98042  0.0949086  0.0187992   5.049 4.53e-07 ***\n",
       "zipcode98045  0.3542896  0.0229371  15.446  < 2e-16 ***\n",
       "zipcode98052  0.6594856  0.0192315  34.292  < 2e-16 ***\n",
       "zipcode98053  0.6111367  0.0199893  30.573  < 2e-16 ***\n",
       "zipcode98055  0.1843282  0.0225816   8.163 3.67e-16 ***\n",
       "zipcode98056  0.3591269  0.0204067  17.599  < 2e-16 ***\n",
       "zipcode98058  0.1646597  0.0195196   8.436  < 2e-16 ***\n",
       "zipcode98059  0.3769571  0.0197295  19.106  < 2e-16 ***\n",
       "zipcode98065  0.4821820  0.0215690  22.355  < 2e-16 ***\n",
       "zipcode98070  0.2822501  0.0304576   9.267  < 2e-16 ***\n",
       "zipcode98072  0.4766528  0.0235796  20.215  < 2e-16 ***\n",
       "zipcode98074  0.5703627  0.0199554  28.582  < 2e-16 ***\n",
       "zipcode98075  0.5977571  0.0209544  28.527  < 2e-16 ***\n",
       "zipcode98077  0.4312280  0.0252116  17.104  < 2e-16 ***\n",
       "zipcode98092  0.0478601  0.0209858   2.281  0.02259 *  \n",
       "zipcode98102  0.9894170  0.0325232  30.422  < 2e-16 ***\n",
       "zipcode98103  0.8623724  0.0196492  43.888  < 2e-16 ***\n",
       "zipcode98105  0.9974962  0.0236880  42.110  < 2e-16 ***\n",
       "zipcode98106  0.3730623  0.0218556  17.069  < 2e-16 ***\n",
       "zipcode98107  0.8890693  0.0226694  39.219  < 2e-16 ***\n",
       "zipcode98108  0.3749393  0.0252168  14.869  < 2e-16 ***\n",
       "zipcode98109  0.9949638  0.0322510  30.851  < 2e-16 ***\n",
       "zipcode98112  1.0727336  0.0237632  45.143  < 2e-16 ***\n",
       "zipcode98115  0.8562838  0.0194820  43.953  < 2e-16 ***\n",
       "zipcode98116  0.8070404  0.0221509  36.434  < 2e-16 ***\n",
       "zipcode98117  0.8386108  0.0195976  42.792  < 2e-16 ***\n",
       "zipcode98118  0.4975639  0.0197492  25.194  < 2e-16 ***\n",
       "zipcode98119  1.0503535  0.0273689  38.378  < 2e-16 ***\n",
       "zipcode98122  0.8702887  0.0232045  37.505  < 2e-16 ***\n",
       "zipcode98125  0.6018342  0.0200364  30.037  < 2e-16 ***\n",
       "zipcode98126  0.6229938  0.0212751  29.283  < 2e-16 ***\n",
       "zipcode98133  0.4663638  0.0194234  24.010  < 2e-16 ***\n",
       "zipcode98136  0.7510091  0.0237813  31.580  < 2e-16 ***\n",
       "zipcode98144  0.7368518  0.0220732  33.382  < 2e-16 ***\n",
       "zipcode98146  0.3245484  0.0222820  14.565  < 2e-16 ***\n",
       "zipcode98148  0.1774448  0.0396152   4.479 7.58e-06 ***\n",
       "zipcode98155  0.4605658  0.0200653  22.953  < 2e-16 ***\n",
       "zipcode98166  0.3611915  0.0235481  15.338  < 2e-16 ***\n",
       "zipcode98168  0.0590697  0.0227313   2.599  0.00937 ** \n",
       "zipcode98177  0.6633303  0.0230614  28.764  < 2e-16 ***\n",
       "zipcode98178  0.1758429  0.0232816   7.553 4.63e-14 ***\n",
       "zipcode98188  0.1260093  0.0266681   4.725 2.33e-06 ***\n",
       "zipcode98198  0.0936085  0.0222845   4.201 2.69e-05 ***\n",
       "zipcode98199  0.9193470  0.0225254  40.814  < 2e-16 ***\n",
       "---\n",
       "Signif. codes:  0 '***' 0.001 '**' 0.01 '*' 0.05 '.' 0.1 ' ' 1\n",
       "\n",
       "Residual standard error: 0.1903 on 9922 degrees of freedom\n",
       "Multiple R-squared:  0.8726,\tAdjusted R-squared:  0.8716 \n",
       "F-statistic: 882.7 on 77 and 9922 DF,  p-value: < 2.2e-16\n"
      ]
     },
     "metadata": {},
     "output_type": "display_data"
    }
   ],
   "source": [
    "summary(fit2)"
   ]
  },
  {
   "cell_type": "markdown",
   "metadata": {},
   "source": [
    "The method resulted in the initial model that we had. Seems like **all variables** are optimal to the model, according to the step function. "
   ]
  },
  {
   "cell_type": "markdown",
   "metadata": {},
   "source": [
    "Since our model still assumes that each feature is independent to other features *(additive relationship)*, looking for *interaction* or synergy among them might improve the resulting model.\n",
    "\n",
    "### 3.4 Is there synergy among house features? \n",
    "\n",
    "To do this, it's best to analyze the correlations and tests of independence.\n",
    "\n",
    "Based on the **exploratory data analysis** performed above, which features are related to price?\n",
    "\n",
    "**sqft_living, bathrooms, grade, zipcode**\n",
    "\n",
    "Since grade has the highest correlation to price, we need to check which features are also related to grade. They may be indirectly related to price.\n",
    "\n",
    "**sqft_living, bathrooms, yr_built, bedrooms**\n",
    "\n",
    "Since sqft_living has the second highest correlation to price, we can check out which features are related to sqft_living as well.\n",
    "\n",
    "**bedrooms, bathrooms, grade**\n",
    "\n",
    "**Zipcode** produced very low p-value when tested using chi-square, so this feature is also related to the other variables in a high degree.\n",
    "\n",
    "Note that **sqft_lot** is also related to both **sqft_living** and **grade**, the two features with highest correlation to price.\n",
    "\n",
    "To produce the most appropriate model, we had to take into account these interactions. I had to test different combinations and check which model would produce a high $R^2$ and the **lowest root mean squared-error** with the *least possible number of terms*.\n",
    "\n",
    "### The Final Model\n",
    "\n",
    "The final model I created consists of **all the features** plus the following interaction terms:\n",
    "\n",
    "**sqft_living:grade:zipcode:yr_built** - Including sqft_living, grade, and zipcode as an interaction term makes sense. For new homebuyers, these provide answers to initial questions they have in house-hunting: Is the house big enough for their family? Is the build sturdy and design impeccable? Is it located in a prime and accessible location? \n",
    "\n",
    "The variable **yr_built** can be considered a *confounding variable*. From the exploratory data analysis it doesn't look much relevant to price, but I found that including this feature improves the root mean square error significantly. Maybe it is more related to **grade** than what the correlation matrix shows, and since price is dependent on grade a relationship must exist between price and yr_built.\n",
    "\n",
    "**sqft_living:sqft_lot:grade** - After looking for other interaction terms, this combination also gave out a promising test result. *Big yet empty lots* does sell cheaper than a moderate lot with a nice house, but a *big lot with a big and elegant house* is sure to skyrocket the house price. So in a way this interaction is not *that* peculiar.\n",
    "\n",
    "*Why are bedrooms and bathrooms not included?* \n",
    "Looks like homebuyers prioritize the house build and design over the number of rooms. Personally I'd prefer a house of bricks with a single room and bath than a wooden one with more rooms.\n",
    "\n",
    "In summary, my model is:\n",
    "\n",
    "`\n",
    "lm(formula = price ~ bedrooms + bathrooms + sqft_living + sqft_lot + \n",
    "    waterfront + condition + grade + yr_built + zipcode + sqft_living:sqft_lot:grade + \n",
    "    sqft_living:grade:yr_built:zipcode, data = training.data)\n",
    "    `\n",
    "    \n",
    "<br/>\n",
    "<br/>It is  made up of **11 terms (inc. 2 interaction terms)** that has an **$R^2$** of around 88%.\n",
    "\n"
   ]
  },
  {
   "cell_type": "code",
   "execution_count": 36,
   "metadata": {
    "collapsed": false
   },
   "outputs": [
    {
     "data": {
      "text/plain": [
       "\n",
       "Call:\n",
       "lm(formula = price ~ bedrooms + bathrooms + sqft_living + sqft_lot + \n",
       "    waterfront + condition + grade + yr_built + zipcode + sqft_living:sqft_lot:grade + \n",
       "    sqft_living:grade:yr_built:zipcode, data = training.data)\n",
       "\n",
       "Residuals:\n",
       "     Min       1Q   Median       3Q      Max \n",
       "-1.16983 -0.09815  0.00370  0.10269  0.91670 \n",
       "\n",
       "Coefficients:\n",
       "                                          Estimate Std. Error t value Pr(>|t|)\n",
       "(Intercept)                              1.463e+01  4.376e-01  33.428  < 2e-16\n",
       "bedrooms                                -1.641e-02  2.823e-03  -5.813 6.32e-09\n",
       "bathrooms                                3.793e-02  4.424e-03   8.575  < 2e-16\n",
       "sqft_living                              1.252e-02  2.614e-02   0.479 0.632067\n",
       "sqft_lot                                 1.518e-01  1.299e-02  11.692  < 2e-16\n",
       "waterfront                               6.277e-01  2.239e-02  28.034  < 2e-16\n",
       "condition                                4.996e-02  3.247e-03  15.385  < 2e-16\n",
       "grade                                   -3.275e-01  2.655e-02 -12.335  < 2e-16\n",
       "yr_built                                -2.501e-03  1.544e-04 -16.195  < 2e-16\n",
       "zipcode98002                            -1.656e-01  1.678e-01  -0.987 0.323723\n",
       "zipcode98003                             2.590e-01  1.431e-01   1.810 0.070369\n",
       "zipcode98004                             1.615e+00  1.151e-01  14.028  < 2e-16\n",
       "zipcode98005                             1.554e+00  1.446e-01  10.749  < 2e-16\n",
       "zipcode98006                             9.699e-01  1.101e-01   8.806  < 2e-16\n",
       "zipcode98007                             1.102e+00  1.631e-01   6.754 1.52e-11\n",
       "zipcode98008                             1.124e+00  1.372e-01   8.190 2.94e-16\n",
       "zipcode98010                             3.983e-01  1.527e-01   2.609 0.009100\n",
       "zipcode98011                             8.108e-01  1.649e-01   4.917 8.91e-07\n",
       "zipcode98014                             6.684e-01  1.327e-01   5.035 4.85e-07\n",
       "zipcode98019                             5.712e-01  1.602e-01   3.566 0.000364\n",
       "zipcode98022                             2.672e-01  1.345e-01   1.986 0.047066\n",
       "zipcode98023                             4.610e-01  1.123e-01   4.105 4.08e-05\n",
       "zipcode98024                             6.922e-01  1.390e-01   4.981 6.43e-07\n",
       "zipcode98027                             8.485e-01  1.104e-01   7.683 1.71e-14\n",
       "zipcode98028                             8.346e-01  1.555e-01   5.369 8.10e-08\n",
       "zipcode98029                             1.213e+00  1.355e-01   8.954  < 2e-16\n",
       "zipcode98030                             4.080e-01  1.499e-01   2.721 0.006518\n",
       "zipcode98031                             4.179e-01  1.883e-01   2.219 0.026513\n",
       "zipcode98032                             4.077e-01  1.759e-01   2.317 0.020501\n",
       "zipcode98033                             1.132e+00  1.103e-01  10.259  < 2e-16\n",
       "zipcode98034                             7.389e-01  1.108e-01   6.668 2.74e-11\n",
       "zipcode98038                             5.448e-01  1.162e-01   4.690 2.77e-06\n",
       "zipcode98039                             1.897e+00  1.928e-01   9.841  < 2e-16\n",
       "zipcode98040                             1.606e+00  1.276e-01  12.583  < 2e-16\n",
       "zipcode98042                             4.106e-01  1.143e-01   3.594 0.000327\n",
       "zipcode98045                             7.065e-01  1.210e-01   5.837 5.49e-09\n",
       "zipcode98052                             1.113e+00  1.178e-01   9.450  < 2e-16\n",
       "zipcode98053                             1.237e+00  1.155e-01  10.702  < 2e-16\n",
       "zipcode98055                             5.924e-01  1.254e-01   4.725 2.33e-06\n",
       "zipcode98056                             3.212e-01  1.095e-01   2.932 0.003375\n",
       "zipcode98058                             3.818e-01  1.130e-01   3.380 0.000727\n",
       "zipcode98059                             4.909e-01  1.082e-01   4.537 5.78e-06\n",
       "zipcode98065                             8.241e-01  1.162e-01   7.092 1.41e-12\n",
       "zipcode98070                             5.008e-01  1.483e-01   3.377 0.000735\n",
       "zipcode98072                             8.735e-01  1.387e-01   6.298 3.15e-10\n",
       "zipcode98074                             1.229e+00  1.182e-01  10.400  < 2e-16\n",
       "zipcode98075                             1.348e+00  1.271e-01  10.600  < 2e-16\n",
       "zipcode98077                             8.177e-01  1.374e-01   5.952 2.73e-09\n",
       "zipcode98092                             3.777e-01  1.305e-01   2.894 0.003818\n",
       "zipcode98102                             1.378e+00  1.594e-01   8.645  < 2e-16\n",
       "zipcode98103                             1.150e+00  1.224e-01   9.392  < 2e-16\n",
       "zipcode98105                             1.122e+00  1.236e-01   9.072  < 2e-16\n",
       "zipcode98106                             7.006e-01  1.234e-01   5.679 1.39e-08\n",
       "zipcode98107                             1.225e+00  1.515e-01   8.087 6.83e-16\n",
       "zipcode98108                             6.287e-01  1.583e-01   3.972 7.18e-05\n",
       "zipcode98109                             1.248e+00  1.799e-01   6.939 4.20e-12\n",
       "zipcode98112                             1.246e+00  1.284e-01   9.700  < 2e-16\n",
       "zipcode98115                             1.038e+00  1.175e-01   8.828  < 2e-16\n",
       "zipcode98116                             1.177e+00  1.243e-01   9.469  < 2e-16\n",
       "zipcode98117                             1.230e+00  1.110e-01  11.085  < 2e-16\n",
       "zipcode98118                             5.920e-01  1.095e-01   5.407 6.55e-08\n",
       "zipcode98119                             1.086e+00  1.551e-01   6.999 2.75e-12\n",
       "zipcode98122                             1.017e+00  1.395e-01   7.293 3.27e-13\n",
       "zipcode98125                             1.035e+00  1.280e-01   8.086 6.87e-16\n",
       "zipcode98126                             8.627e-01  1.166e-01   7.397 1.50e-13\n",
       "zipcode98133                             9.416e-01  1.281e-01   7.349 2.15e-13\n",
       "zipcode98136                             9.658e-01  1.321e-01   7.311 2.86e-13\n",
       "zipcode98144                             6.134e-01  1.194e-01   5.136 2.86e-07\n",
       "zipcode98146                            -8.587e-02  1.220e-01  -0.704 0.481380\n",
       "zipcode98148                             5.157e-01  2.523e-01   2.044 0.040994\n",
       "zipcode98155                             7.383e-01  1.200e-01   6.153 7.90e-10\n",
       "zipcode98166                             5.162e-01  1.239e-01   4.165 3.15e-05\n",
       "zipcode98168                            -2.045e-02  1.482e-01  -0.138 0.890206\n",
       "zipcode98177                             7.317e-01  1.297e-01   5.643 1.72e-08\n",
       "zipcode98178                             1.618e-01  1.346e-01   1.202 0.229493\n",
       "zipcode98188                             4.342e-01  1.487e-01   2.920 0.003513\n",
       "zipcode98198                             1.364e-01  1.319e-01   1.034 0.301083\n",
       "zipcode98199                             1.251e+00  1.201e-01  10.413  < 2e-16\n",
       "sqft_living:sqft_lot:grade              -1.486e-03  2.107e-04  -7.056 1.83e-12\n",
       "sqft_living:grade:yr_built:zipcode98001  3.915e-05  2.290e-06  17.093  < 2e-16\n",
       "sqft_living:grade:yr_built:zipcode98002  4.110e-05  2.655e-06  15.481  < 2e-16\n",
       "sqft_living:grade:yr_built:zipcode98003  3.704e-05  2.285e-06  16.207  < 2e-16\n",
       "sqft_living:grade:yr_built:zipcode98004  3.502e-05  2.083e-06  16.809  < 2e-16\n",
       "sqft_living:grade:yr_built:zipcode98005  3.235e-05  2.257e-06  14.332  < 2e-16\n",
       "sqft_living:grade:yr_built:zipcode98006  3.639e-05  2.072e-06  17.559  < 2e-16\n",
       "sqft_living:grade:yr_built:zipcode98007  3.534e-05  2.327e-06  15.186  < 2e-16\n",
       "sqft_living:grade:yr_built:zipcode98008  3.514e-05  2.234e-06  15.728  < 2e-16\n",
       "sqft_living:grade:yr_built:zipcode98010  3.736e-05  2.408e-06  15.516  < 2e-16\n",
       "sqft_living:grade:yr_built:zipcode98011  3.606e-05  2.400e-06  15.023  < 2e-16\n",
       "sqft_living:grade:yr_built:zipcode98014  3.596e-05  2.352e-06  15.289  < 2e-16\n",
       "sqft_living:grade:yr_built:zipcode98019  3.696e-05  2.443e-06  15.129  < 2e-16\n",
       "sqft_living:grade:yr_built:zipcode98022  3.754e-05  2.442e-06  15.370  < 2e-16\n",
       "sqft_living:grade:yr_built:zipcode98023  3.487e-05  2.173e-06  16.049  < 2e-16\n",
       "sqft_living:grade:yr_built:zipcode98024  3.675e-05  2.339e-06  15.715  < 2e-16\n",
       "sqft_living:grade:yr_built:zipcode98027  3.620e-05  2.112e-06  17.141  < 2e-16\n",
       "sqft_living:grade:yr_built:zipcode98028  3.541e-05  2.336e-06  15.160  < 2e-16\n",
       "sqft_living:grade:yr_built:zipcode98029  3.419e-05  2.141e-06  15.973  < 2e-16\n",
       "sqft_living:grade:yr_built:zipcode98030  3.628e-05  2.373e-06  15.290  < 2e-16\n",
       "sqft_living:grade:yr_built:zipcode98031  3.618e-05  2.575e-06  14.053  < 2e-16\n",
       "sqft_living:grade:yr_built:zipcode98032  3.526e-05  2.632e-06  13.394  < 2e-16\n",
       "sqft_living:grade:yr_built:zipcode98033  3.620e-05  2.110e-06  17.156  < 2e-16\n",
       "sqft_living:grade:yr_built:zipcode98034  3.765e-05  2.144e-06  17.565  < 2e-16\n",
       "sqft_living:grade:yr_built:zipcode98038  3.614e-05  2.176e-06  16.608  < 2e-16\n",
       "sqft_living:grade:yr_built:zipcode98039  3.423e-05  2.212e-06  15.476  < 2e-16\n",
       "sqft_living:grade:yr_built:zipcode98040  3.359e-05  2.119e-06  15.849  < 2e-16\n",
       "sqft_living:grade:yr_built:zipcode98042  3.626e-05  2.207e-06  16.434  < 2e-16\n",
       "sqft_living:grade:yr_built:zipcode98045  3.594e-05  2.291e-06  15.685  < 2e-16\n",
       "sqft_living:grade:yr_built:zipcode98052  3.516e-05  2.139e-06  16.435  < 2e-16\n",
       "sqft_living:grade:yr_built:zipcode98053  3.390e-05  2.152e-06  15.750  < 2e-16\n",
       "sqft_living:grade:yr_built:zipcode98055  3.523e-05  2.287e-06  15.407  < 2e-16\n",
       "sqft_living:grade:yr_built:zipcode98056  3.931e-05  2.177e-06  18.053  < 2e-16\n",
       "sqft_living:grade:yr_built:zipcode98058  3.708e-05  2.197e-06  16.875  < 2e-16\n",
       "sqft_living:grade:yr_built:zipcode98059  3.778e-05  2.116e-06  17.859  < 2e-16\n",
       "sqft_living:grade:yr_built:zipcode98065  3.589e-05  2.160e-06  16.618  < 2e-16\n",
       "sqft_living:grade:yr_built:zipcode98070  3.710e-05  2.504e-06  14.820  < 2e-16\n",
       "sqft_living:grade:yr_built:zipcode98072  3.569e-05  2.284e-06  15.625  < 2e-16\n",
       "sqft_living:grade:yr_built:zipcode98074  3.367e-05  2.128e-06  15.822  < 2e-16\n",
       "sqft_living:grade:yr_built:zipcode98075  3.307e-05  2.108e-06  15.691  < 2e-16\n",
       "sqft_living:grade:yr_built:zipcode98077  3.578e-05  2.238e-06  15.987  < 2e-16\n",
       "sqft_living:grade:yr_built:zipcode98092  3.616e-05  2.256e-06  16.027  < 2e-16\n",
       "sqft_living:grade:yr_built:zipcode98102  3.571e-05  2.217e-06  16.110  < 2e-16\n",
       "sqft_living:grade:yr_built:zipcode98103  3.660e-05  2.249e-06  16.273  < 2e-16\n",
       "sqft_living:grade:yr_built:zipcode98105  3.796e-05  2.199e-06  17.263  < 2e-16\n",
       "sqft_living:grade:yr_built:zipcode98106  3.593e-05  2.351e-06  15.283  < 2e-16\n",
       "sqft_living:grade:yr_built:zipcode98107  3.616e-05  2.371e-06  15.251  < 2e-16\n",
       "sqft_living:grade:yr_built:zipcode98108  3.679e-05  2.535e-06  14.514  < 2e-16\n",
       "sqft_living:grade:yr_built:zipcode98109  3.690e-05  2.440e-06  15.121  < 2e-16\n",
       "sqft_living:grade:yr_built:zipcode98112  3.735e-05  2.132e-06  17.521  < 2e-16\n",
       "sqft_living:grade:yr_built:zipcode98115  3.753e-05  2.198e-06  17.075  < 2e-16\n",
       "sqft_living:grade:yr_built:zipcode98116  3.575e-05  2.211e-06  16.172  < 2e-16\n",
       "sqft_living:grade:yr_built:zipcode98117  3.548e-05  2.202e-06  16.116  < 2e-16\n",
       "sqft_living:grade:yr_built:zipcode98118  3.831e-05  2.213e-06  17.308  < 2e-16\n",
       "sqft_living:grade:yr_built:zipcode98119  3.871e-05  2.278e-06  16.993  < 2e-16\n",
       "sqft_living:grade:yr_built:zipcode98122  3.785e-05  2.265e-06  16.708  < 2e-16\n",
       "sqft_living:grade:yr_built:zipcode98125  3.513e-05  2.309e-06  15.213  < 2e-16\n",
       "sqft_living:grade:yr_built:zipcode98126  3.684e-05  2.268e-06  16.243  < 2e-16\n",
       "sqft_living:grade:yr_built:zipcode98133  3.467e-05  2.342e-06  14.804  < 2e-16\n",
       "sqft_living:grade:yr_built:zipcode98136  3.718e-05  2.316e-06  16.058  < 2e-16\n",
       "sqft_living:grade:yr_built:zipcode98144  4.023e-05  2.192e-06  18.352  < 2e-16\n",
       "sqft_living:grade:yr_built:zipcode98146  4.347e-05  2.346e-06  18.530  < 2e-16\n",
       "sqft_living:grade:yr_built:zipcode98148  3.588e-05  3.235e-06  11.088  < 2e-16\n",
       "sqft_living:grade:yr_built:zipcode98155  3.657e-05  2.280e-06  16.035  < 2e-16\n",
       "sqft_living:grade:yr_built:zipcode98166  3.765e-05  2.255e-06  16.697  < 2e-16\n",
       "sqft_living:grade:yr_built:zipcode98168  4.022e-05  2.609e-06  15.414  < 2e-16\n",
       "sqft_living:grade:yr_built:zipcode98177  3.835e-05  2.236e-06  17.154  < 2e-16\n",
       "sqft_living:grade:yr_built:zipcode98178  3.941e-05  2.387e-06  16.506  < 2e-16\n",
       "sqft_living:grade:yr_built:zipcode98188  3.618e-05  2.413e-06  14.998  < 2e-16\n",
       "sqft_living:grade:yr_built:zipcode98198  3.883e-05  2.321e-06  16.732  < 2e-16\n",
       "sqft_living:grade:yr_built:zipcode98199  3.611e-05  2.135e-06  16.914  < 2e-16\n",
       "                                           \n",
       "(Intercept)                             ***\n",
       "bedrooms                                ***\n",
       "bathrooms                               ***\n",
       "sqft_living                                \n",
       "sqft_lot                                ***\n",
       "waterfront                              ***\n",
       "condition                               ***\n",
       "grade                                   ***\n",
       "yr_built                                ***\n",
       "zipcode98002                               \n",
       "zipcode98003                            .  \n",
       "zipcode98004                            ***\n",
       "zipcode98005                            ***\n",
       "zipcode98006                            ***\n",
       "zipcode98007                            ***\n",
       "zipcode98008                            ***\n",
       "zipcode98010                            ** \n",
       "zipcode98011                            ***\n",
       "zipcode98014                            ***\n",
       "zipcode98019                            ***\n",
       "zipcode98022                            *  \n",
       "zipcode98023                            ***\n",
       "zipcode98024                            ***\n",
       "zipcode98027                            ***\n",
       "zipcode98028                            ***\n",
       "zipcode98029                            ***\n",
       "zipcode98030                            ** \n",
       "zipcode98031                            *  \n",
       "zipcode98032                            *  \n",
       "zipcode98033                            ***\n",
       "zipcode98034                            ***\n",
       "zipcode98038                            ***\n",
       "zipcode98039                            ***\n",
       "zipcode98040                            ***\n",
       "zipcode98042                            ***\n",
       "zipcode98045                            ***\n",
       "zipcode98052                            ***\n",
       "zipcode98053                            ***\n",
       "zipcode98055                            ***\n",
       "zipcode98056                            ** \n",
       "zipcode98058                            ***\n",
       "zipcode98059                            ***\n",
       "zipcode98065                            ***\n",
       "zipcode98070                            ***\n",
       "zipcode98072                            ***\n",
       "zipcode98074                            ***\n",
       "zipcode98075                            ***\n",
       "zipcode98077                            ***\n",
       "zipcode98092                            ** \n",
       "zipcode98102                            ***\n",
       "zipcode98103                            ***\n",
       "zipcode98105                            ***\n",
       "zipcode98106                            ***\n",
       "zipcode98107                            ***\n",
       "zipcode98108                            ***\n",
       "zipcode98109                            ***\n",
       "zipcode98112                            ***\n",
       "zipcode98115                            ***\n",
       "zipcode98116                            ***\n",
       "zipcode98117                            ***\n",
       "zipcode98118                            ***\n",
       "zipcode98119                            ***\n",
       "zipcode98122                            ***\n",
       "zipcode98125                            ***\n",
       "zipcode98126                            ***\n",
       "zipcode98133                            ***\n",
       "zipcode98136                            ***\n",
       "zipcode98144                            ***\n",
       "zipcode98146                               \n",
       "zipcode98148                            *  \n",
       "zipcode98155                            ***\n",
       "zipcode98166                            ***\n",
       "zipcode98168                               \n",
       "zipcode98177                            ***\n",
       "zipcode98178                               \n",
       "zipcode98188                            ** \n",
       "zipcode98198                               \n",
       "zipcode98199                            ***\n",
       "sqft_living:sqft_lot:grade              ***\n",
       "sqft_living:grade:yr_built:zipcode98001 ***\n",
       "sqft_living:grade:yr_built:zipcode98002 ***\n",
       "sqft_living:grade:yr_built:zipcode98003 ***\n",
       "sqft_living:grade:yr_built:zipcode98004 ***\n",
       "sqft_living:grade:yr_built:zipcode98005 ***\n",
       "sqft_living:grade:yr_built:zipcode98006 ***\n",
       "sqft_living:grade:yr_built:zipcode98007 ***\n",
       "sqft_living:grade:yr_built:zipcode98008 ***\n",
       "sqft_living:grade:yr_built:zipcode98010 ***\n",
       "sqft_living:grade:yr_built:zipcode98011 ***\n",
       "sqft_living:grade:yr_built:zipcode98014 ***\n",
       "sqft_living:grade:yr_built:zipcode98019 ***\n",
       "sqft_living:grade:yr_built:zipcode98022 ***\n",
       "sqft_living:grade:yr_built:zipcode98023 ***\n",
       "sqft_living:grade:yr_built:zipcode98024 ***\n",
       "sqft_living:grade:yr_built:zipcode98027 ***\n",
       "sqft_living:grade:yr_built:zipcode98028 ***\n",
       "sqft_living:grade:yr_built:zipcode98029 ***\n",
       "sqft_living:grade:yr_built:zipcode98030 ***\n",
       "sqft_living:grade:yr_built:zipcode98031 ***\n",
       "sqft_living:grade:yr_built:zipcode98032 ***\n",
       "sqft_living:grade:yr_built:zipcode98033 ***\n",
       "sqft_living:grade:yr_built:zipcode98034 ***\n",
       "sqft_living:grade:yr_built:zipcode98038 ***\n",
       "sqft_living:grade:yr_built:zipcode98039 ***\n",
       "sqft_living:grade:yr_built:zipcode98040 ***\n",
       "sqft_living:grade:yr_built:zipcode98042 ***\n",
       "sqft_living:grade:yr_built:zipcode98045 ***\n",
       "sqft_living:grade:yr_built:zipcode98052 ***\n",
       "sqft_living:grade:yr_built:zipcode98053 ***\n",
       "sqft_living:grade:yr_built:zipcode98055 ***\n",
       "sqft_living:grade:yr_built:zipcode98056 ***\n",
       "sqft_living:grade:yr_built:zipcode98058 ***\n",
       "sqft_living:grade:yr_built:zipcode98059 ***\n",
       "sqft_living:grade:yr_built:zipcode98065 ***\n",
       "sqft_living:grade:yr_built:zipcode98070 ***\n",
       "sqft_living:grade:yr_built:zipcode98072 ***\n",
       "sqft_living:grade:yr_built:zipcode98074 ***\n",
       "sqft_living:grade:yr_built:zipcode98075 ***\n",
       "sqft_living:grade:yr_built:zipcode98077 ***\n",
       "sqft_living:grade:yr_built:zipcode98092 ***\n",
       "sqft_living:grade:yr_built:zipcode98102 ***\n",
       "sqft_living:grade:yr_built:zipcode98103 ***\n",
       "sqft_living:grade:yr_built:zipcode98105 ***\n",
       "sqft_living:grade:yr_built:zipcode98106 ***\n",
       "sqft_living:grade:yr_built:zipcode98107 ***\n",
       "sqft_living:grade:yr_built:zipcode98108 ***\n",
       "sqft_living:grade:yr_built:zipcode98109 ***\n",
       "sqft_living:grade:yr_built:zipcode98112 ***\n",
       "sqft_living:grade:yr_built:zipcode98115 ***\n",
       "sqft_living:grade:yr_built:zipcode98116 ***\n",
       "sqft_living:grade:yr_built:zipcode98117 ***\n",
       "sqft_living:grade:yr_built:zipcode98118 ***\n",
       "sqft_living:grade:yr_built:zipcode98119 ***\n",
       "sqft_living:grade:yr_built:zipcode98122 ***\n",
       "sqft_living:grade:yr_built:zipcode98125 ***\n",
       "sqft_living:grade:yr_built:zipcode98126 ***\n",
       "sqft_living:grade:yr_built:zipcode98133 ***\n",
       "sqft_living:grade:yr_built:zipcode98136 ***\n",
       "sqft_living:grade:yr_built:zipcode98144 ***\n",
       "sqft_living:grade:yr_built:zipcode98146 ***\n",
       "sqft_living:grade:yr_built:zipcode98148 ***\n",
       "sqft_living:grade:yr_built:zipcode98155 ***\n",
       "sqft_living:grade:yr_built:zipcode98166 ***\n",
       "sqft_living:grade:yr_built:zipcode98168 ***\n",
       "sqft_living:grade:yr_built:zipcode98177 ***\n",
       "sqft_living:grade:yr_built:zipcode98178 ***\n",
       "sqft_living:grade:yr_built:zipcode98188 ***\n",
       "sqft_living:grade:yr_built:zipcode98198 ***\n",
       "sqft_living:grade:yr_built:zipcode98199 ***\n",
       "---\n",
       "Signif. codes:  0 '***' 0.001 '**' 0.01 '*' 0.05 '.' 0.1 ' ' 1\n",
       "\n",
       "Residual standard error: 0.185 on 9851 degrees of freedom\n",
       "Multiple R-squared:  0.8805,\tAdjusted R-squared:  0.8787 \n",
       "F-statistic: 490.4 on 148 and 9851 DF,  p-value: < 2.2e-16\n"
      ]
     },
     "metadata": {},
     "output_type": "display_data"
    }
   ],
   "source": [
    "fit3 <- update(fit2, .~. + sqft_living:grade:yr_built:zipcode + sqft_living:sqft_lot:grade)# $122074\n",
    "summary(fit3)"
   ]
  },
  {
   "cell_type": "markdown",
   "metadata": {},
   "source": [
    "The resulting model improved the $R^2$ to almost 88%. Although the change is not high, an improvement is still an improvement. To quantify the improvement, we can use **ANOVA** test for the null hypothesis *\"There is no statistical difference between model A and model B\"*. Are the two models statistically different?"
   ]
  },
  {
   "cell_type": "code",
   "execution_count": 37,
   "metadata": {
    "collapsed": false
   },
   "outputs": [
    {
     "data": {
      "text/html": [
       "<table>\n",
       "<thead><tr><th scope=col>Res.Df</th><th scope=col>RSS</th><th scope=col>Df</th><th scope=col>Sum of Sq</th><th scope=col>F</th><th scope=col>Pr(&gt;F)</th></tr></thead>\n",
       "<tbody>\n",
       "\t<tr><td>9922        </td><td>359.5042    </td><td>NA          </td><td>      NA    </td><td>      NA    </td><td>          NA</td></tr>\n",
       "\t<tr><td>9851        </td><td>337.2787    </td><td>71          </td><td>22.22553    </td><td>9.142926    </td><td>1.084681e-90</td></tr>\n",
       "</tbody>\n",
       "</table>\n"
      ],
      "text/latex": [
       "\\begin{tabular}{r|llllll}\n",
       " Res.Df & RSS & Df & Sum of Sq & F & Pr(>F)\\\\\n",
       "\\hline\n",
       "\t 9922         & 359.5042     & NA           &       NA     &       NA     &           NA\\\\\n",
       "\t 9851         & 337.2787     & 71           & 22.22553     & 9.142926     & 1.084681e-90\\\\\n",
       "\\end{tabular}\n"
      ],
      "text/markdown": [
       "\n",
       "Res.Df | RSS | Df | Sum of Sq | F | Pr(>F) | \n",
       "|---|---|\n",
       "| 9922         | 359.5042     | NA           |       NA     |       NA     |           NA | \n",
       "| 9851         | 337.2787     | 71           | 22.22553     | 9.142926     | 1.084681e-90 | \n",
       "\n",
       "\n"
      ],
      "text/plain": [
       "  Res.Df RSS      Df Sum of Sq F        Pr(>F)      \n",
       "1 9922   359.5042 NA       NA        NA           NA\n",
       "2 9851   337.2787 71 22.22553  9.142926 1.084681e-90"
      ]
     },
     "metadata": {},
     "output_type": "display_data"
    }
   ],
   "source": [
    "anova(fit2, fit3)"
   ]
  },
  {
   "cell_type": "markdown",
   "metadata": {},
   "source": [
    "The very low p-value shows that there is indeed a difference."
   ]
  },
  {
   "cell_type": "markdown",
   "metadata": {},
   "source": [
    "### 3.5 Is the relationship linear?\n",
    "\n",
    "Modelling via linear regression rests on the assumption that there is a linear relationship between the feature and target variables if the **residuals are normally distributed**. **Residual plots** are used to analyze whether such relationship exists.\n",
    "\n",
    "The function `plot()` is used to show the **residuals vs fitted plot** (1) and the **normal qq plot** (2). According to the Week3 material, residuals assume normality if the distribution of points above and below the dashed line in the first plot is even. Normality is also assumed if the residuals' quantiles follow the theoretical quantiles (i.e. it follows the diagonal dashed line) in the second plot. \n",
    "\n",
    "Based from the residuals vs fitted plot, the residuals are *somehow* scattered evenly. This means the residuals' mean is almost 0, which *may* assume normality. However, the normal qq plot shows that the residuals are indeed **not normal**, because it deviates from the diagonal line on both ends. \n",
    "\n",
    "As shown in the exploratory data analysis, transforming the data is necessary due to the skewness of some of the variables. This implies that the dataset as is (without transforms) may not be best represented by linear regression. The scatterplots of the variables against each other also show this--the points follow a curve more than a line. \n",
    "\n",
    "Therefore, it can be said that the relationship is not really linear. Perhaps **polynominal regression** might perform better."
   ]
  },
  {
   "cell_type": "code",
   "execution_count": 38,
   "metadata": {
    "collapsed": false
   },
   "outputs": [
    {
     "data": {
      "image/png": "[encoded data removed]",
      "text/plain": [
       "Plot with title \"\""
      ]
     },
     "metadata": {},
     "output_type": "display_data"
    }
   ],
   "source": [
    "par(mfcol=c(2,2))\n",
    "plot(fit3, which = 1)\n",
    "plot(fit3, which = 2)"
   ]
  },
  {
   "cell_type": "markdown",
   "metadata": {},
   "source": [
    "## 4. Testing and Validation\n",
    "\n",
    "This part consists of testing the model created above (called `fit3`). The measure of accuracy used is the **root mean squared-error**, which gets the square root of the mean of the squared difference between the predicted value of the model and the actual value. In terms of equation, it is\n",
    "\n",
    "$$\n",
    "RMSE = \\sqrt{\\frac{1}{n}\\sum_{i=1}^{n} (\\widehat{Y_i}-Y_i)^2}\n",
    "$$\n",
    "\n",
    "\n",
    "The smaller the RMSE, the more robust the linear model is.\n",
    "\n",
    "The 1000 records stored in a file called `dev.csv` will be used for validation, which is structured similarly to the training file `training.csv`. "
   ]
  },
  {
   "cell_type": "code",
   "execution_count": 39,
   "metadata": {
    "collapsed": false
   },
   "outputs": [
    {
     "data": {
      "text/html": [
       "<table>\n",
       "<thead><tr><th scope=col>id</th><th scope=col>price</th><th scope=col>bedrooms</th><th scope=col>bathrooms</th><th scope=col>sqft_living</th><th scope=col>sqft_lot</th><th scope=col>waterfront</th><th scope=col>condition</th><th scope=col>grade</th><th scope=col>yr_built</th><th scope=col>zipcode</th></tr></thead>\n",
       "<tbody>\n",
       "\t<tr><td>6641040100</td><td>1146800   </td><td>4         </td><td>3.50      </td><td>4210      </td><td> 10308    </td><td>0         </td><td>3         </td><td>10        </td><td>2006      </td><td>98008     </td></tr>\n",
       "\t<tr><td>1563102435</td><td> 950000   </td><td>3         </td><td>1.75      </td><td>2150      </td><td>  4200    </td><td>0         </td><td>5         </td><td> 8        </td><td>1960      </td><td>98116     </td></tr>\n",
       "\t<tr><td> 524069101</td><td> 850000   </td><td>4         </td><td>2.00      </td><td>3380      </td><td> 90968    </td><td>0         </td><td>4         </td><td> 9        </td><td>1979      </td><td>98075     </td></tr>\n",
       "\t<tr><td> 326069131</td><td> 599000   </td><td>4         </td><td>2.50      </td><td>2790      </td><td>230868    </td><td>0         </td><td>3         </td><td> 8        </td><td>1989      </td><td>98077     </td></tr>\n",
       "\t<tr><td>5341600030</td><td> 255000   </td><td>2         </td><td>1.00      </td><td> 960      </td><td> 28717    </td><td>0         </td><td>4         </td><td> 6        </td><td>1984      </td><td>98070     </td></tr>\n",
       "\t<tr><td>2270000070</td><td> 280000   </td><td>4         </td><td>2.50      </td><td>1560      </td><td>  4350    </td><td>0         </td><td>3         </td><td> 7        </td><td>2003      </td><td>98056     </td></tr>\n",
       "</tbody>\n",
       "</table>\n"
      ],
      "text/latex": [
       "\\begin{tabular}{r|lllllllllll}\n",
       " id & price & bedrooms & bathrooms & sqft\\_living & sqft\\_lot & waterfront & condition & grade & yr\\_built & zipcode\\\\\n",
       "\\hline\n",
       "\t 6641040100 & 1146800    & 4          & 3.50       & 4210       &  10308     & 0          & 3          & 10         & 2006       & 98008     \\\\\n",
       "\t 1563102435 &  950000    & 3          & 1.75       & 2150       &   4200     & 0          & 5          &  8         & 1960       & 98116     \\\\\n",
       "\t  524069101 &  850000    & 4          & 2.00       & 3380       &  90968     & 0          & 4          &  9         & 1979       & 98075     \\\\\n",
       "\t  326069131 &  599000    & 4          & 2.50       & 2790       & 230868     & 0          & 3          &  8         & 1989       & 98077     \\\\\n",
       "\t 5341600030 &  255000    & 2          & 1.00       &  960       &  28717     & 0          & 4          &  6         & 1984       & 98070     \\\\\n",
       "\t 2270000070 &  280000    & 4          & 2.50       & 1560       &   4350     & 0          & 3          &  7         & 2003       & 98056     \\\\\n",
       "\\end{tabular}\n"
      ],
      "text/markdown": [
       "\n",
       "id | price | bedrooms | bathrooms | sqft_living | sqft_lot | waterfront | condition | grade | yr_built | zipcode | \n",
       "|---|---|---|---|---|---|\n",
       "| 6641040100 | 1146800    | 4          | 3.50       | 4210       |  10308     | 0          | 3          | 10         | 2006       | 98008      | \n",
       "| 1563102435 |  950000    | 3          | 1.75       | 2150       |   4200     | 0          | 5          |  8         | 1960       | 98116      | \n",
       "|  524069101 |  850000    | 4          | 2.00       | 3380       |  90968     | 0          | 4          |  9         | 1979       | 98075      | \n",
       "|  326069131 |  599000    | 4          | 2.50       | 2790       | 230868     | 0          | 3          |  8         | 1989       | 98077      | \n",
       "| 5341600030 |  255000    | 2          | 1.00       |  960       |  28717     | 0          | 4          |  6         | 1984       | 98070      | \n",
       "| 2270000070 |  280000    | 4          | 2.50       | 1560       |   4350     | 0          | 3          |  7         | 2003       | 98056      | \n",
       "\n",
       "\n"
      ],
      "text/plain": [
       "  id         price   bedrooms bathrooms sqft_living sqft_lot waterfront\n",
       "1 6641040100 1146800 4        3.50      4210         10308   0         \n",
       "2 1563102435  950000 3        1.75      2150          4200   0         \n",
       "3  524069101  850000 4        2.00      3380         90968   0         \n",
       "4  326069131  599000 4        2.50      2790        230868   0         \n",
       "5 5341600030  255000 2        1.00       960         28717   0         \n",
       "6 2270000070  280000 4        2.50      1560          4350   0         \n",
       "  condition grade yr_built zipcode\n",
       "1 3         10    2006     98008  \n",
       "2 5          8    1960     98116  \n",
       "3 4          9    1979     98075  \n",
       "4 3          8    1989     98077  \n",
       "5 4          6    1984     98070  \n",
       "6 3          7    2003     98056  "
      ]
     },
     "metadata": {},
     "output_type": "display_data"
    },
    {
     "data": {
      "text/html": [
       "1000"
      ],
      "text/latex": [
       "1000"
      ],
      "text/markdown": [
       "1000"
      ],
      "text/plain": [
       "[1] 1000"
      ]
     },
     "metadata": {},
     "output_type": "display_data"
    }
   ],
   "source": [
    "# read the testing file\n",
    "testing.file <- read.csv('dev.csv')\n",
    "\n",
    "# check contents\n",
    "head(testing.file)\n",
    "\n",
    "# how many number of rows?\n",
    "nrow(testing.file)"
   ]
  },
  {
   "cell_type": "code",
   "execution_count": 40,
   "metadata": {
    "collapsed": false,
    "scrolled": true
   },
   "outputs": [],
   "source": [
    "# split the dataframe into data and values\n",
    "testing.data <- testing.file[3:11]\n",
    "testing.values <- testing.file[2]"
   ]
  },
  {
   "cell_type": "markdown",
   "metadata": {},
   "source": [
    "I have defined a function called `get.rmse()` that accepts two dataframe parameters--the `predicted.values` will be the resulting dataframe of a model's predictions while the `actual.values` are the actual value of the target variables of that observation. This will return the root mean squared-error."
   ]
  },
  {
   "cell_type": "code",
   "execution_count": 41,
   "metadata": {
    "collapsed": false
   },
   "outputs": [],
   "source": [
    "get.rmse <- function(predicted.values, actual.values){\n",
    "    p.length <- length(predicted.values)\n",
    "    a.length <- length(actual.values)\n",
    "    \n",
    "    if (p.length == a.length){\n",
    "        # square the errors (difference of predicted and actual)\n",
    "        squared.errors <- (predicted.values - actual.values)^2\n",
    "        \n",
    "        # get the mean\n",
    "        mean.squared.errors <- mean(squared.errors)\n",
    "        \n",
    "        # return the resulting square root\n",
    "        return (sqrt(mean.squared.errors))\n",
    "    }\n",
    "    else{\n",
    "        stop(\"Both numeric vectors must be equal!\")\n",
    "    }\n",
    "}"
   ]
  },
  {
   "cell_type": "markdown",
   "metadata": {},
   "source": [
    "#### IMPORTANT \n",
    "\n",
    "Since the training data were transformed in creating the model, apply the same transformations to the testing data."
   ]
  },
  {
   "cell_type": "code",
   "execution_count": 42,
   "metadata": {
    "collapsed": false
   },
   "outputs": [],
   "source": [
    "# data preprocessing \n",
    "\n",
    "# convert zipcode to character to make it qualitative\n",
    "testing.data['zipcode'] <- sapply(testing.data['zipcode'], as.character)\n",
    "\n",
    "# log transform sqft_living and sqft_lot to reduce skewness\n",
    "testing.data$sqft_living <- log(testing.file$sqft_living)\n",
    "testing.data$sqft_lot <- log(testing.file$sqft_lot)\n",
    "\n",
    "# copy price as is\n",
    "testing.values$price <- testing.file$price "
   ]
  },
  {
   "cell_type": "markdown",
   "metadata": {},
   "source": [
    "#### IMPORTANT TOO\n",
    "The predictions of our model will be returned as the $\\log_e (price)$. Getting price will require getting the exponential function $e^{\\log_e(price)}$. One can just use `exp()` function to do this.\n",
    "\n",
    "In short, we have to apply `exp()` to the output of `predict()`, which will predict the $\\log_e (price)$ from the model `fit3`."
   ]
  },
  {
   "cell_type": "code",
   "execution_count": 43,
   "metadata": {
    "collapsed": false
   },
   "outputs": [
    {
     "data": {
      "text/html": [
       "121857.72"
      ],
      "text/latex": [
       "121857.72"
      ],
      "text/markdown": [
       "121857.72"
      ],
      "text/plain": [
       "[1] 121857.7"
      ]
     },
     "metadata": {},
     "output_type": "display_data"
    }
   ],
   "source": [
    "round(get.rmse(as.data.frame(exp(predict(fit3, testing.data))),testing.values), 2)"
   ]
  },
  {
   "cell_type": "markdown",
   "metadata": {},
   "source": [
    "The resulting RMSE is just at around ** \\$122,000**, which is considered quite low. \n",
    "\n",
    "To better check the performance of our model, it is better to just perform a scatterplot. Let's find out how many percentage higher/lower is the model's predicted price from the actual price. \n",
    "\n",
    "For example, \n",
    "\n",
    "predicted price = \\$ 110,000\n",
    "<br/>actual price = \\$ 85,000\n",
    "<br/>percentage = ((110,000 - 85,000)/85,000) * 100% = 29.4% \n",
    "\n",
    "The predicted price is **29.4%** higher than the actual price."
   ]
  },
  {
   "cell_type": "code",
   "execution_count": 44,
   "metadata": {
    "collapsed": false
   },
   "outputs": [
    {
     "data": {
      "text/html": [
       "<table>\n",
       "<thead><tr><th></th><th scope=col>predicted.price</th><th scope=col>actual.price</th><th scope=col>absolute.errors</th><th scope=col>percent.error</th></tr></thead>\n",
       "<tbody>\n",
       "\t<tr><th scope=row>455</th><td>135904.9</td><td> 92000  </td><td>43904.92</td><td>47.72274</td></tr>\n",
       "\t<tr><th scope=row>763</th><td>184277.8</td><td>122000  </td><td>62277.79</td><td>51.04737</td></tr>\n",
       "\t<tr><th scope=row>765</th><td>195274.2</td><td>139000  </td><td>56274.19</td><td>40.48503</td></tr>\n",
       "\t<tr><th scope=row>830</th><td>193526.3</td><td>140000  </td><td>53526.29</td><td>38.23306</td></tr>\n",
       "\t<tr><th scope=row>377</th><td>200769.4</td><td>141800  </td><td>58969.43</td><td>41.58634</td></tr>\n",
       "</tbody>\n",
       "</table>\n"
      ],
      "text/latex": [
       "\\begin{tabular}{r|llll}\n",
       "  & predicted.price & actual.price & absolute.errors & percent.error\\\\\n",
       "\\hline\n",
       "\t455 & 135904.9 &  92000   & 43904.92 & 47.72274\\\\\n",
       "\t763 & 184277.8 & 122000   & 62277.79 & 51.04737\\\\\n",
       "\t765 & 195274.2 & 139000   & 56274.19 & 40.48503\\\\\n",
       "\t830 & 193526.3 & 140000   & 53526.29 & 38.23306\\\\\n",
       "\t377 & 200769.4 & 141800   & 58969.43 & 41.58634\\\\\n",
       "\\end{tabular}\n"
      ],
      "text/markdown": [
       "\n",
       "| <!--/--> | predicted.price | actual.price | absolute.errors | percent.error | \n",
       "|---|---|---|---|---|\n",
       "| 455 | 135904.9 |  92000   | 43904.92 | 47.72274 | \n",
       "| 763 | 184277.8 | 122000   | 62277.79 | 51.04737 | \n",
       "| 765 | 195274.2 | 139000   | 56274.19 | 40.48503 | \n",
       "| 830 | 193526.3 | 140000   | 53526.29 | 38.23306 | \n",
       "| 377 | 200769.4 | 141800   | 58969.43 | 41.58634 | \n",
       "\n",
       "\n"
      ],
      "text/plain": [
       "    predicted.price actual.price absolute.errors percent.error\n",
       "455 135904.9         92000       43904.92        47.72274     \n",
       "763 184277.8        122000       62277.79        51.04737     \n",
       "765 195274.2        139000       56274.19        40.48503     \n",
       "830 193526.3        140000       53526.29        38.23306     \n",
       "377 200769.4        141800       58969.43        41.58634     "
      ]
     },
     "metadata": {},
     "output_type": "display_data"
    }
   ],
   "source": [
    "prices <- data.frame(\"predicted.price\" = rep(0,1000), \"actual.price\" = testing.values$price, \"absolute.errors\" = rep(0,1000))\n",
    "prices <- prices[order(prices$actual),] \n",
    "\n",
    "# sort the testing data by price\n",
    "sorted.test <- testing.file[order(testing.file$price),]\n",
    "sorted.test['zipcode'] <- sapply(sorted.test['zipcode'], as.character)\n",
    "sorted.test$sqft_living <- log(sorted.test$sqft_living)\n",
    "sorted.test$sqft_lot <- log(sorted.test$sqft_lot)\n",
    "\n",
    "# create the dataframe of % errors\n",
    "prices['predicted.price'] <- as.data.frame(exp(predict(fit3, sorted.test[3:11])))\n",
    "prices['absolute.errors'] <- abs(prices['predicted.price'] - prices['actual.price'])\n",
    "prices['percent.error'] <- (prices['absolute.errors']/prices['actual.price'])*100\n",
    "\n",
    "# get a brief look of the resulting table\n",
    "head(prices, 5)\n",
    "\n",
    "# divide the dataframe by lower priced and higher priced houses\n",
    "lower.prices <- prices[which(prices$actual.price <500000),]\n",
    "\n",
    "higher.prices <- prices[which(prices$actual.price >= 500000),]"
   ]
  },
  {
   "cell_type": "markdown",
   "metadata": {},
   "source": [
    "The graphs will show the following:\n",
    "\n",
    "1. The percentage errors of all house prices. It shows how much (percentage) of the actual price was over/underestimated by the model.\n",
    "2. Same as the first, but exclusively for lower priced houses (houses priced less than \\$500,000).\n",
    "3. Also same as the first, but exclusively for higher priced houses (houses priced equal to or more than \\$500,000)."
   ]
  },
  {
   "cell_type": "code",
   "execution_count": 45,
   "metadata": {
    "collapsed": false
   },
   "outputs": [
    {
     "data": {
      "image/png": "[encoded data removed]",
      "text/plain": [
       "plot without title"
      ]
     },
     "metadata": {},
     "output_type": "display_data"
    }
   ],
   "source": [
    "q13 <- ggplot(aes(x = actual.price/1000, y = percent.error ), data = prices) + \n",
    "    geom_point(alpha=1/4, position = 'jitter') +\n",
    "    ggtitle('% Errors of Predicted House Prices')\n",
    "\n",
    "q16 <- ggplot()\n",
    "\n",
    "q14 <- ggplot(aes(x = actual.price/1000, y = percent.error ), data = lower.prices) + \n",
    "    geom_point(alpha=1/4, position = 'jitter') +\n",
    "    ggtitle('% Errors of Lower Priced Houses')\n",
    "\n",
    "q15 <- ggplot(aes(x = actual.price/1000, y = percent.error ), data = higher.prices) + \n",
    "    geom_point(alpha=1/4, position = 'jitter') +\n",
    "    ggtitle('% Errors of Higher Priced Houses')\n",
    "\n",
    "grid.arrange(q13,q16 ,q14, q15, ncol=2)"
   ]
  },
  {
   "cell_type": "markdown",
   "metadata": {},
   "source": [
    "The plots above show the extent of the error in the model's prediction. It shows that **most of the model's prediction is just +/- 25% of the actual price**. \n",
    "\n",
    "In terms of the prices, there were around 30 lower priced houses (prices < \\$500,000) that were grossly overestimated/underestimated. This is just 3% of the whole dataset.\n",
    "\n",
    "The model tends to perform well on **more expensive houses** (prices >= \\$500,000), as most of its prediction is not too far from the actual price (+/- 20% of the actual price).\n",
    "\n",
    "## 5. Conclusion\n",
    "\n",
    "This notebook illustrated using exploratory data analysis and linear regression to predict house prices from a set of features like area, number of rooms, location, etc. Exploratory data analysis proved helpful in creating a model, as it provided insights as to which combination of features are relevant in predicting price. Linear regression on the other hand is a good way to start learning about the different processes involved in performing data analysis.\n",
    "\n",
    "Specifically, the following competencies were performed:\n",
    "\n",
    "1. **Using R for Applied Data Analysis**. R is a very powerful tool for both exploring and analyzing the house prices dataset. Working through this is more straightforward and has given me more time to analyze the data and the models I create because of its built-in functions and data types.\n",
    "\n",
    "2. **Exploratory Data Analysis**. Through the use of R's different functions, it is easier to define the variable types, compute the basic statistics, and analyze the distribution of the dataset's variables. Detecting dependencies and relationship among variables are also easier thanks to methods like `cor()` (correlation) and `chisq.test()` (chi-square test of independence), as well as plotting them through `ggplot2()` and `scatterplotMatrix()`.\n",
    "\n",
    "3. **Producing and Evaluating a Linear Regression Model**. R's `lm()` function is a very flexible tool in producing basic linear regression models. Knowing the distribution of the variables helped me in creating a better model by using log transform. Knowing their correlation helped me in finding the optimum set of variables to include in the model. Evaluating the robustness of the models is also easier because R displays the p-values of t-test and F-test statistics (lower than 0.05 the better), as well as the its RSE (lower better) and $R^2$ (closer to 1 better). Meanwhile, RMSE (lower better) is used to evaluate the effectiveness of the model in predicting continuous target variables. "
   ]
  }
 ],
 "metadata": {
  "kernelspec": {
   "display_name": "R",
   "language": "R",
   "name": "ir"
  },
  "language_info": {
   "codemirror_mode": "r",
   "file_extension": ".r",
   "mimetype": "text/x-r-source",
   "name": "R",
   "pygments_lexer": "r",
   "version": "3.3.2"
  }
 },
 "nbformat": 4,
 "nbformat_minor": 2
}
